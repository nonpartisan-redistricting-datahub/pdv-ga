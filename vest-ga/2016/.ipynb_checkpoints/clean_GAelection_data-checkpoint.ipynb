{
 "cells": [
  {
   "cell_type": "code",
   "execution_count": 242,
   "metadata": {},
   "outputs": [],
   "source": [
    "import pandas as pd\n",
    "import geopandas as gp"
   ]
  },
  {
   "cell_type": "code",
   "execution_count": 243,
   "metadata": {},
   "outputs": [
    {
     "name": "stderr",
     "output_type": "stream",
     "text": [
      "/Users/angelchen103/opt/anaconda3/lib/python3.8/site-packages/IPython/core/interactiveshell.py:3071: DtypeWarning: Columns (20) have mixed types.Specify dtype option on import or set low_memory=False.\n",
      "  has_raised = await self.run_ast_nodes(code_ast.body, cell_name,\n"
     ]
    }
   ],
   "source": [
    "electiondata = pd.read_csv('./presidential_2016.csv')"
   ]
  },
  {
   "cell_type": "code",
   "execution_count": 308,
   "metadata": {},
   "outputs": [
    {
     "data": {
      "text/html": [
       "<div>\n",
       "<style scoped>\n",
       "    .dataframe tbody tr th:only-of-type {\n",
       "        vertical-align: middle;\n",
       "    }\n",
       "\n",
       "    .dataframe tbody tr th {\n",
       "        vertical-align: top;\n",
       "    }\n",
       "\n",
       "    .dataframe thead th {\n",
       "        text-align: right;\n",
       "    }\n",
       "</style>\n",
       "<table border=\"1\" class=\"dataframe\">\n",
       "  <thead>\n",
       "    <tr style=\"text-align: right;\">\n",
       "      <th></th>\n",
       "      <th>Unnamed: 0</th>\n",
       "      <th>state</th>\n",
       "      <th>year</th>\n",
       "      <th>stage</th>\n",
       "      <th>special</th>\n",
       "      <th>state_postal</th>\n",
       "      <th>state_fips</th>\n",
       "      <th>state_icpsr</th>\n",
       "      <th>county_name</th>\n",
       "      <th>county_fips</th>\n",
       "      <th>...</th>\n",
       "      <th>candidate_full</th>\n",
       "      <th>candidate_suffix</th>\n",
       "      <th>candidate_nickname</th>\n",
       "      <th>candidate_fec</th>\n",
       "      <th>candidate_fec_name</th>\n",
       "      <th>candidate_google</th>\n",
       "      <th>candidate_govtrack</th>\n",
       "      <th>candidate_icpsr</th>\n",
       "      <th>candidate_maplight</th>\n",
       "      <th>prec_county</th>\n",
       "    </tr>\n",
       "  </thead>\n",
       "  <tbody>\n",
       "    <tr>\n",
       "      <th>0</th>\n",
       "      <td>1</td>\n",
       "      <td>Georgia</td>\n",
       "      <td>2016</td>\n",
       "      <td>gen</td>\n",
       "      <td>False</td>\n",
       "      <td>GA</td>\n",
       "      <td>13</td>\n",
       "      <td>44</td>\n",
       "      <td>Appling County</td>\n",
       "      <td>13001</td>\n",
       "      <td>...</td>\n",
       "      <td>NaN</td>\n",
       "      <td>NaN</td>\n",
       "      <td>NaN</td>\n",
       "      <td>P00003392</td>\n",
       "      <td>CLINTON, HILLARY RODHAM / TIMOTHY MICHAEL KAINE</td>\n",
       "      <td>NaN</td>\n",
       "      <td>NaN</td>\n",
       "      <td>NaN</td>\n",
       "      <td>NaN</td>\n",
       "      <td>213001</td>\n",
       "    </tr>\n",
       "    <tr>\n",
       "      <th>1</th>\n",
       "      <td>2</td>\n",
       "      <td>Georgia</td>\n",
       "      <td>2016</td>\n",
       "      <td>gen</td>\n",
       "      <td>False</td>\n",
       "      <td>GA</td>\n",
       "      <td>13</td>\n",
       "      <td>44</td>\n",
       "      <td>Appling County</td>\n",
       "      <td>13001</td>\n",
       "      <td>...</td>\n",
       "      <td>NaN</td>\n",
       "      <td>NaN</td>\n",
       "      <td>NaN</td>\n",
       "      <td>P00003392</td>\n",
       "      <td>CLINTON, HILLARY RODHAM / TIMOTHY MICHAEL KAINE</td>\n",
       "      <td>NaN</td>\n",
       "      <td>NaN</td>\n",
       "      <td>NaN</td>\n",
       "      <td>NaN</td>\n",
       "      <td>213001</td>\n",
       "    </tr>\n",
       "    <tr>\n",
       "      <th>2</th>\n",
       "      <td>3</td>\n",
       "      <td>Georgia</td>\n",
       "      <td>2016</td>\n",
       "      <td>gen</td>\n",
       "      <td>False</td>\n",
       "      <td>GA</td>\n",
       "      <td>13</td>\n",
       "      <td>44</td>\n",
       "      <td>Appling County</td>\n",
       "      <td>13001</td>\n",
       "      <td>...</td>\n",
       "      <td>NaN</td>\n",
       "      <td>NaN</td>\n",
       "      <td>NaN</td>\n",
       "      <td>P00003392</td>\n",
       "      <td>CLINTON, HILLARY RODHAM / TIMOTHY MICHAEL KAINE</td>\n",
       "      <td>NaN</td>\n",
       "      <td>NaN</td>\n",
       "      <td>NaN</td>\n",
       "      <td>NaN</td>\n",
       "      <td>213001</td>\n",
       "    </tr>\n",
       "    <tr>\n",
       "      <th>3</th>\n",
       "      <td>4</td>\n",
       "      <td>Georgia</td>\n",
       "      <td>2016</td>\n",
       "      <td>gen</td>\n",
       "      <td>False</td>\n",
       "      <td>GA</td>\n",
       "      <td>13</td>\n",
       "      <td>44</td>\n",
       "      <td>Appling County</td>\n",
       "      <td>13001</td>\n",
       "      <td>...</td>\n",
       "      <td>NaN</td>\n",
       "      <td>NaN</td>\n",
       "      <td>NaN</td>\n",
       "      <td>P00003392</td>\n",
       "      <td>CLINTON, HILLARY RODHAM / TIMOTHY MICHAEL KAINE</td>\n",
       "      <td>NaN</td>\n",
       "      <td>NaN</td>\n",
       "      <td>NaN</td>\n",
       "      <td>NaN</td>\n",
       "      <td>213001</td>\n",
       "    </tr>\n",
       "    <tr>\n",
       "      <th>4</th>\n",
       "      <td>5</td>\n",
       "      <td>Georgia</td>\n",
       "      <td>2016</td>\n",
       "      <td>gen</td>\n",
       "      <td>False</td>\n",
       "      <td>GA</td>\n",
       "      <td>13</td>\n",
       "      <td>44</td>\n",
       "      <td>Appling County</td>\n",
       "      <td>13001</td>\n",
       "      <td>...</td>\n",
       "      <td>NaN</td>\n",
       "      <td>NaN</td>\n",
       "      <td>NaN</td>\n",
       "      <td>P60012234</td>\n",
       "      <td>JOHNSON, JOHN FITZGERALD MR.</td>\n",
       "      <td>NaN</td>\n",
       "      <td>NaN</td>\n",
       "      <td>NaN</td>\n",
       "      <td>NaN</td>\n",
       "      <td>213001</td>\n",
       "    </tr>\n",
       "  </tbody>\n",
       "</table>\n",
       "<p>5 rows × 39 columns</p>\n",
       "</div>"
      ],
      "text/plain": [
       "   Unnamed: 0    state  year stage  special state_postal  state_fips  \\\n",
       "0           1  Georgia  2016   gen    False           GA          13   \n",
       "1           2  Georgia  2016   gen    False           GA          13   \n",
       "2           3  Georgia  2016   gen    False           GA          13   \n",
       "3           4  Georgia  2016   gen    False           GA          13   \n",
       "4           5  Georgia  2016   gen    False           GA          13   \n",
       "\n",
       "   state_icpsr     county_name county_fips  ...  candidate_full  \\\n",
       "0           44  Appling County       13001  ...             NaN   \n",
       "1           44  Appling County       13001  ...             NaN   \n",
       "2           44  Appling County       13001  ...             NaN   \n",
       "3           44  Appling County       13001  ...             NaN   \n",
       "4           44  Appling County       13001  ...             NaN   \n",
       "\n",
       "   candidate_suffix  candidate_nickname candidate_fec  \\\n",
       "0               NaN                 NaN     P00003392   \n",
       "1               NaN                 NaN     P00003392   \n",
       "2               NaN                 NaN     P00003392   \n",
       "3               NaN                 NaN     P00003392   \n",
       "4               NaN                 NaN     P60012234   \n",
       "\n",
       "                                candidate_fec_name candidate_google  \\\n",
       "0  CLINTON, HILLARY RODHAM / TIMOTHY MICHAEL KAINE              NaN   \n",
       "1  CLINTON, HILLARY RODHAM / TIMOTHY MICHAEL KAINE              NaN   \n",
       "2  CLINTON, HILLARY RODHAM / TIMOTHY MICHAEL KAINE              NaN   \n",
       "3  CLINTON, HILLARY RODHAM / TIMOTHY MICHAEL KAINE              NaN   \n",
       "4                     JOHNSON, JOHN FITZGERALD MR.              NaN   \n",
       "\n",
       "  candidate_govtrack candidate_icpsr candidate_maplight  prec_county  \n",
       "0                NaN             NaN                NaN       213001  \n",
       "1                NaN             NaN                NaN       213001  \n",
       "2                NaN             NaN                NaN       213001  \n",
       "3                NaN             NaN                NaN       213001  \n",
       "4                NaN             NaN                NaN       213001  \n",
       "\n",
       "[5 rows x 39 columns]"
      ]
     },
     "execution_count": 308,
     "metadata": {},
     "output_type": "execute_result"
    }
   ],
   "source": [
    "electiondata.head()"
   ]
  },
  {
   "cell_type": "code",
   "execution_count": 245,
   "metadata": {},
   "outputs": [],
   "source": [
    "electiondata['county_fips'] = electiondata['county_fips'].apply(str)"
   ]
  },
  {
   "cell_type": "markdown",
   "metadata": {},
   "source": [
    "Create list of unique precinct name values from election dataset\n",
    "\n",
    "I combined precinct and county fips into one because I saw different counties have the same precinct name"
   ]
  },
  {
   "cell_type": "code",
   "execution_count": 246,
   "metadata": {},
   "outputs": [],
   "source": [
    "electiondata['prec_county'] = electiondata['precinct'] + electiondata['county_fips']"
   ]
  },
  {
   "cell_type": "code",
   "execution_count": 247,
   "metadata": {},
   "outputs": [
    {
     "data": {
      "text/plain": [
       "0              213001\n",
       "1              213001\n",
       "2              213001\n",
       "3              213001\n",
       "4              213001\n",
       "             ...     \n",
       "32841    Warwick13321\n",
       "32842    Warwick13321\n",
       "32843    Warwick13321\n",
       "32844    Warwick13321\n",
       "32845    Warwick13321\n",
       "Name: prec_county, Length: 32846, dtype: object"
      ]
     },
     "execution_count": 247,
     "metadata": {},
     "output_type": "execute_result"
    }
   ],
   "source": [
    "electiondata['prec_county']"
   ]
  },
  {
   "cell_type": "code",
   "execution_count": 248,
   "metadata": {},
   "outputs": [],
   "source": [
    "electionprecincts = electiondata['prec_county'].unique().tolist()"
   ]
  },
  {
   "cell_type": "code",
   "execution_count": 249,
   "metadata": {},
   "outputs": [],
   "source": [
    "vestfinal = gp.read_file('./ga_2016/ga_2016.shp')"
   ]
  },
  {
   "cell_type": "code",
   "execution_count": 250,
   "metadata": {},
   "outputs": [
    {
     "data": {
      "text/html": [
       "<div>\n",
       "<style scoped>\n",
       "    .dataframe tbody tr th:only-of-type {\n",
       "        vertical-align: middle;\n",
       "    }\n",
       "\n",
       "    .dataframe tbody tr th {\n",
       "        vertical-align: top;\n",
       "    }\n",
       "\n",
       "    .dataframe thead th {\n",
       "        text-align: right;\n",
       "    }\n",
       "</style>\n",
       "<table border=\"1\" class=\"dataframe\">\n",
       "  <thead>\n",
       "    <tr style=\"text-align: right;\">\n",
       "      <th></th>\n",
       "      <th>ID</th>\n",
       "      <th>DISTRICT</th>\n",
       "      <th>CTYSOSID</th>\n",
       "      <th>PRECINCT_I</th>\n",
       "      <th>PRECINCT_N</th>\n",
       "      <th>CTYNUMBER</th>\n",
       "      <th>COUNTY</th>\n",
       "      <th>CTYNAME</th>\n",
       "      <th>FIPS1</th>\n",
       "      <th>FIPS2</th>\n",
       "      <th>COUNTY_NAM</th>\n",
       "      <th>G16PRERTRU</th>\n",
       "      <th>G16PREDCLI</th>\n",
       "      <th>G16PRELJOH</th>\n",
       "      <th>G16USSRISA</th>\n",
       "      <th>G16USSDBAR</th>\n",
       "      <th>G16USSLBUC</th>\n",
       "      <th>G16PSCRECH</th>\n",
       "      <th>G16PSCLHOS</th>\n",
       "      <th>geometry</th>\n",
       "    </tr>\n",
       "  </thead>\n",
       "  <tbody>\n",
       "    <tr>\n",
       "      <th>0</th>\n",
       "      <td>6094217</td>\n",
       "      <td>073131</td>\n",
       "      <td>073131</td>\n",
       "      <td>131</td>\n",
       "      <td>JOURNEY COMM. CHURCH</td>\n",
       "      <td>36</td>\n",
       "      <td>036</td>\n",
       "      <td>Columbia</td>\n",
       "      <td>13073</td>\n",
       "      <td>073</td>\n",
       "      <td>COLUMBIA</td>\n",
       "      <td>459</td>\n",
       "      <td>107</td>\n",
       "      <td>20</td>\n",
       "      <td>453</td>\n",
       "      <td>78</td>\n",
       "      <td>23</td>\n",
       "      <td>477</td>\n",
       "      <td>66</td>\n",
       "      <td>POLYGON ((-82.14546 33.57854, -82.14520 33.578...</td>\n",
       "    </tr>\n",
       "    <tr>\n",
       "      <th>1</th>\n",
       "      <td>6094266</td>\n",
       "      <td>073064</td>\n",
       "      <td>073064</td>\n",
       "      <td>064</td>\n",
       "      <td>GRACE BAPTIST CHURCH</td>\n",
       "      <td>36</td>\n",
       "      <td>036</td>\n",
       "      <td>Columbia</td>\n",
       "      <td>13073</td>\n",
       "      <td>073</td>\n",
       "      <td>COLUMBIA</td>\n",
       "      <td>1334</td>\n",
       "      <td>767</td>\n",
       "      <td>74</td>\n",
       "      <td>1345</td>\n",
       "      <td>643</td>\n",
       "      <td>77</td>\n",
       "      <td>1527</td>\n",
       "      <td>464</td>\n",
       "      <td>POLYGON ((-82.16342 33.57423, -82.16364 33.574...</td>\n",
       "    </tr>\n",
       "    <tr>\n",
       "      <th>2</th>\n",
       "      <td>6094297</td>\n",
       "      <td>073061</td>\n",
       "      <td>073061</td>\n",
       "      <td>061</td>\n",
       "      <td>GREENBRIER HIGH</td>\n",
       "      <td>36</td>\n",
       "      <td>036</td>\n",
       "      <td>Columbia</td>\n",
       "      <td>13073</td>\n",
       "      <td>073</td>\n",
       "      <td>COLUMBIA</td>\n",
       "      <td>1393</td>\n",
       "      <td>387</td>\n",
       "      <td>85</td>\n",
       "      <td>1392</td>\n",
       "      <td>299</td>\n",
       "      <td>88</td>\n",
       "      <td>1508</td>\n",
       "      <td>260</td>\n",
       "      <td>POLYGON ((-82.16581 33.56498, -82.16577 33.564...</td>\n",
       "    </tr>\n",
       "    <tr>\n",
       "      <th>3</th>\n",
       "      <td>6094341</td>\n",
       "      <td>073063</td>\n",
       "      <td>073063</td>\n",
       "      <td>063</td>\n",
       "      <td>RIVERSIDE ELEMENTARY</td>\n",
       "      <td>36</td>\n",
       "      <td>036</td>\n",
       "      <td>Columbia</td>\n",
       "      <td>13073</td>\n",
       "      <td>073</td>\n",
       "      <td>COLUMBIA</td>\n",
       "      <td>624</td>\n",
       "      <td>267</td>\n",
       "      <td>28</td>\n",
       "      <td>648</td>\n",
       "      <td>219</td>\n",
       "      <td>34</td>\n",
       "      <td>716</td>\n",
       "      <td>156</td>\n",
       "      <td>POLYGON ((-82.13909 33.57592, -82.13914 33.575...</td>\n",
       "    </tr>\n",
       "    <tr>\n",
       "      <th>4</th>\n",
       "      <td>6094377</td>\n",
       "      <td>073132</td>\n",
       "      <td>073132</td>\n",
       "      <td>132</td>\n",
       "      <td>WESLEY METHODIST</td>\n",
       "      <td>36</td>\n",
       "      <td>036</td>\n",
       "      <td>Columbia</td>\n",
       "      <td>13073</td>\n",
       "      <td>073</td>\n",
       "      <td>COLUMBIA</td>\n",
       "      <td>1377</td>\n",
       "      <td>452</td>\n",
       "      <td>39</td>\n",
       "      <td>1379</td>\n",
       "      <td>360</td>\n",
       "      <td>59</td>\n",
       "      <td>1495</td>\n",
       "      <td>268</td>\n",
       "      <td>POLYGON ((-82.14330 33.57348, -82.14300 33.573...</td>\n",
       "    </tr>\n",
       "  </tbody>\n",
       "</table>\n",
       "</div>"
      ],
      "text/plain": [
       "        ID DISTRICT CTYSOSID PRECINCT_I            PRECINCT_N CTYNUMBER  \\\n",
       "0  6094217   073131   073131        131  JOURNEY COMM. CHURCH        36   \n",
       "1  6094266   073064   073064        064  GRACE BAPTIST CHURCH        36   \n",
       "2  6094297   073061   073061        061       GREENBRIER HIGH        36   \n",
       "3  6094341   073063   073063        063  RIVERSIDE ELEMENTARY        36   \n",
       "4  6094377   073132   073132        132      WESLEY METHODIST        36   \n",
       "\n",
       "  COUNTY   CTYNAME  FIPS1 FIPS2 COUNTY_NAM  G16PRERTRU  G16PREDCLI  \\\n",
       "0    036  Columbia  13073   073   COLUMBIA         459         107   \n",
       "1    036  Columbia  13073   073   COLUMBIA        1334         767   \n",
       "2    036  Columbia  13073   073   COLUMBIA        1393         387   \n",
       "3    036  Columbia  13073   073   COLUMBIA         624         267   \n",
       "4    036  Columbia  13073   073   COLUMBIA        1377         452   \n",
       "\n",
       "   G16PRELJOH  G16USSRISA  G16USSDBAR  G16USSLBUC  G16PSCRECH  G16PSCLHOS  \\\n",
       "0          20         453          78          23         477          66   \n",
       "1          74        1345         643          77        1527         464   \n",
       "2          85        1392         299          88        1508         260   \n",
       "3          28         648         219          34         716         156   \n",
       "4          39        1379         360          59        1495         268   \n",
       "\n",
       "                                            geometry  \n",
       "0  POLYGON ((-82.14546 33.57854, -82.14520 33.578...  \n",
       "1  POLYGON ((-82.16342 33.57423, -82.16364 33.574...  \n",
       "2  POLYGON ((-82.16581 33.56498, -82.16577 33.564...  \n",
       "3  POLYGON ((-82.13909 33.57592, -82.13914 33.575...  \n",
       "4  POLYGON ((-82.14330 33.57348, -82.14300 33.573...  "
      ]
     },
     "execution_count": 250,
     "metadata": {},
     "output_type": "execute_result"
    }
   ],
   "source": [
    "vestfinal.head()"
   ]
  },
  {
   "cell_type": "markdown",
   "metadata": {},
   "source": [
    "Did the same precinct county fips combo in VEST final just to make it easier to validate later"
   ]
  },
  {
   "cell_type": "code",
   "execution_count": 251,
   "metadata": {},
   "outputs": [],
   "source": [
    "vestfinal['prec_county'] = vestfinal['PRECINCT_N'] + vestfinal['FIPS1']"
   ]
  },
  {
   "cell_type": "code",
   "execution_count": 252,
   "metadata": {},
   "outputs": [
    {
     "data": {
      "text/plain": [
       "0                       JOURNEY COMM. CHURCH13073\n",
       "1                       GRACE BAPTIST CHURCH13073\n",
       "2                            GREENBRIER HIGH13073\n",
       "3                       RIVERSIDE ELEMENTARY13073\n",
       "4                           WESLEY METHODIST13073\n",
       "                          ...                    \n",
       "2694                          WADSWORTH - 0413089\n",
       "2695                      AVONDALE HIGH - 0513089\n",
       "2696                               CLOUDLAND13055\n",
       "2697                                  TELOGA13055\n",
       "2698    ACTIVITY CENTER (Includes FTBEN 1-3)13053\n",
       "Name: prec_county, Length: 2699, dtype: object"
      ]
     },
     "execution_count": 252,
     "metadata": {},
     "output_type": "execute_result"
    }
   ],
   "source": [
    "vestfinal['prec_county']"
   ]
  },
  {
   "cell_type": "markdown",
   "metadata": {},
   "source": [
    "Create list of unique precinct names from VEST final file"
   ]
  },
  {
   "cell_type": "code",
   "execution_count": 253,
   "metadata": {},
   "outputs": [],
   "source": [
    "vestprecincts = vestfinal['prec_county'].unique().tolist()"
   ]
  },
  {
   "cell_type": "markdown",
   "metadata": {},
   "source": [
    "Create list of matching values between election data precincts and VEST final precincts"
   ]
  },
  {
   "cell_type": "code",
   "execution_count": 254,
   "metadata": {},
   "outputs": [],
   "source": [
    "matching = [i for i in electionprecincts if i in vestprecincts]"
   ]
  },
  {
   "cell_type": "markdown",
   "metadata": {},
   "source": [
    "Remove values based on precinct column values using only previously found matches"
   ]
  },
  {
   "cell_type": "code",
   "execution_count": 255,
   "metadata": {},
   "outputs": [],
   "source": [
    "matcheddata = electiondata[electiondata['prec_county'].isin(matching)]"
   ]
  },
  {
   "cell_type": "markdown",
   "metadata": {},
   "source": [
    "Check how many lines of election results - this seems like a lot but each candidate has multiple types of entries (election day, absentee by mail, etc.)"
   ]
  },
  {
   "cell_type": "code",
   "execution_count": 256,
   "metadata": {},
   "outputs": [
    {
     "name": "stdout",
     "output_type": "stream",
     "text": [
      "15840\n"
     ]
    }
   ],
   "source": [
    "print(len(matcheddata))"
   ]
  },
  {
   "cell_type": "markdown",
   "metadata": {},
   "source": [
    "Sum all of the votes by precinct and candidate - should be 3 repeated precincts for each candidate \n",
    "\n",
    "Candidate FEC P00003392 = Hillary, P60012234 = Johnson, P80001571 = Trump"
   ]
  },
  {
   "cell_type": "code",
   "execution_count": 261,
   "metadata": {},
   "outputs": [],
   "source": [
    "cleanelections = matcheddata.groupby(['prec_county','candidate_fec']).agg({'votes':'sum'})"
   ]
  },
  {
   "cell_type": "code",
   "execution_count": 262,
   "metadata": {},
   "outputs": [
    {
     "data": {
      "text/html": [
       "<div>\n",
       "<style scoped>\n",
       "    .dataframe tbody tr th:only-of-type {\n",
       "        vertical-align: middle;\n",
       "    }\n",
       "\n",
       "    .dataframe tbody tr th {\n",
       "        vertical-align: top;\n",
       "    }\n",
       "\n",
       "    .dataframe thead th {\n",
       "        text-align: right;\n",
       "    }\n",
       "</style>\n",
       "<table border=\"1\" class=\"dataframe\">\n",
       "  <thead>\n",
       "    <tr style=\"text-align: right;\">\n",
       "      <th></th>\n",
       "      <th></th>\n",
       "      <th>votes</th>\n",
       "    </tr>\n",
       "    <tr>\n",
       "      <th>prec_county</th>\n",
       "      <th>candidate_fec</th>\n",
       "      <th></th>\n",
       "    </tr>\n",
       "  </thead>\n",
       "  <tbody>\n",
       "    <tr>\n",
       "      <th rowspan=\"3\" valign=\"top\">01A13121</th>\n",
       "      <th>P00003392</th>\n",
       "      <td>1898</td>\n",
       "    </tr>\n",
       "    <tr>\n",
       "      <th>P60012234</th>\n",
       "      <td>97</td>\n",
       "    </tr>\n",
       "    <tr>\n",
       "      <th>P80001571</th>\n",
       "      <td>173</td>\n",
       "    </tr>\n",
       "    <tr>\n",
       "      <th rowspan=\"2\" valign=\"top\">01B13121</th>\n",
       "      <th>P00003392</th>\n",
       "      <td>2304</td>\n",
       "    </tr>\n",
       "    <tr>\n",
       "      <th>P60012234</th>\n",
       "      <td>125</td>\n",
       "    </tr>\n",
       "  </tbody>\n",
       "</table>\n",
       "</div>"
      ],
      "text/plain": [
       "                           votes\n",
       "prec_county candidate_fec       \n",
       "01A13121    P00003392       1898\n",
       "            P60012234         97\n",
       "            P80001571        173\n",
       "01B13121    P00003392       2304\n",
       "            P60012234        125"
      ]
     },
     "execution_count": 262,
     "metadata": {},
     "output_type": "execute_result"
    }
   ],
   "source": [
    "cleanelections.head()"
   ]
  },
  {
   "cell_type": "markdown",
   "metadata": {},
   "source": [
    "Pivot table so candidate_fec become columns of votes for each precinct, rather than having multiple precincts for each candidate"
   ]
  },
  {
   "cell_type": "code",
   "execution_count": 265,
   "metadata": {},
   "outputs": [],
   "source": [
    "cleanelections = cleanelections.pivot_table('votes', ['prec_county'], 'candidate_fec')"
   ]
  },
  {
   "cell_type": "code",
   "execution_count": 266,
   "metadata": {},
   "outputs": [
    {
     "data": {
      "text/html": [
       "<div>\n",
       "<style scoped>\n",
       "    .dataframe tbody tr th:only-of-type {\n",
       "        vertical-align: middle;\n",
       "    }\n",
       "\n",
       "    .dataframe tbody tr th {\n",
       "        vertical-align: top;\n",
       "    }\n",
       "\n",
       "    .dataframe thead th {\n",
       "        text-align: right;\n",
       "    }\n",
       "</style>\n",
       "<table border=\"1\" class=\"dataframe\">\n",
       "  <thead>\n",
       "    <tr style=\"text-align: right;\">\n",
       "      <th>candidate_fec</th>\n",
       "      <th>P00003392</th>\n",
       "      <th>P60012234</th>\n",
       "      <th>P80001571</th>\n",
       "    </tr>\n",
       "    <tr>\n",
       "      <th>prec_county</th>\n",
       "      <th></th>\n",
       "      <th></th>\n",
       "      <th></th>\n",
       "    </tr>\n",
       "  </thead>\n",
       "  <tbody>\n",
       "    <tr>\n",
       "      <th>01A13121</th>\n",
       "      <td>1898</td>\n",
       "      <td>97</td>\n",
       "      <td>173</td>\n",
       "    </tr>\n",
       "    <tr>\n",
       "      <th>01B13121</th>\n",
       "      <td>2304</td>\n",
       "      <td>125</td>\n",
       "      <td>243</td>\n",
       "    </tr>\n",
       "    <tr>\n",
       "      <th>01C13121</th>\n",
       "      <td>580</td>\n",
       "      <td>13</td>\n",
       "      <td>19</td>\n",
       "    </tr>\n",
       "    <tr>\n",
       "      <th>01D13121</th>\n",
       "      <td>268</td>\n",
       "      <td>6</td>\n",
       "      <td>23</td>\n",
       "    </tr>\n",
       "    <tr>\n",
       "      <th>01E13121</th>\n",
       "      <td>2932</td>\n",
       "      <td>144</td>\n",
       "      <td>283</td>\n",
       "    </tr>\n",
       "  </tbody>\n",
       "</table>\n",
       "</div>"
      ],
      "text/plain": [
       "candidate_fec  P00003392  P60012234  P80001571\n",
       "prec_county                                   \n",
       "01A13121            1898         97        173\n",
       "01B13121            2304        125        243\n",
       "01C13121             580         13         19\n",
       "01D13121             268          6         23\n",
       "01E13121            2932        144        283"
      ]
     },
     "execution_count": 266,
     "metadata": {},
     "output_type": "execute_result"
    }
   ],
   "source": [
    "cleanelections.head()"
   ]
  },
  {
   "cell_type": "code",
   "execution_count": 267,
   "metadata": {},
   "outputs": [],
   "source": [
    "electionsfinal = cleanelections.to_csv('./merged_electiondata.csv')"
   ]
  },
  {
   "cell_type": "markdown",
   "metadata": {},
   "source": [
    "Edit VEST results to only include precincts in cleaned election data - this is what we will do the analysis on "
   ]
  },
  {
   "cell_type": "code",
   "execution_count": 268,
   "metadata": {},
   "outputs": [],
   "source": [
    "cleanVEST = vestfinal[vestfinal['prec_county'].isin(matching)]"
   ]
  },
  {
   "cell_type": "code",
   "execution_count": 269,
   "metadata": {},
   "outputs": [
    {
     "data": {
      "text/plain": [
       "1320"
      ]
     },
     "execution_count": 269,
     "metadata": {},
     "output_type": "execute_result"
    }
   ],
   "source": [
    "len(cleanVEST)"
   ]
  },
  {
   "cell_type": "markdown",
   "metadata": {},
   "source": [
    "Read in precincts shapefile, link with cleaned election data\n",
    "\n",
    "Read in final elections data, not sure why but this is much cleaner than when I edited"
   ]
  },
  {
   "cell_type": "code",
   "execution_count": 270,
   "metadata": {},
   "outputs": [],
   "source": [
    "precincts = gp.read_file('./VTD2016-Shape/VTD2016-Shape.shp')\n",
    "electionsfinal = pd.read_csv ('./merged_electiondata.csv')"
   ]
  },
  {
   "cell_type": "code",
   "execution_count": 271,
   "metadata": {},
   "outputs": [
    {
     "data": {
      "text/html": [
       "<div>\n",
       "<style scoped>\n",
       "    .dataframe tbody tr th:only-of-type {\n",
       "        vertical-align: middle;\n",
       "    }\n",
       "\n",
       "    .dataframe tbody tr th {\n",
       "        vertical-align: top;\n",
       "    }\n",
       "\n",
       "    .dataframe thead th {\n",
       "        text-align: right;\n",
       "    }\n",
       "</style>\n",
       "<table border=\"1\" class=\"dataframe\">\n",
       "  <thead>\n",
       "    <tr style=\"text-align: right;\">\n",
       "      <th></th>\n",
       "      <th>prec_county</th>\n",
       "      <th>P00003392</th>\n",
       "      <th>P60012234</th>\n",
       "      <th>P80001571</th>\n",
       "    </tr>\n",
       "  </thead>\n",
       "  <tbody>\n",
       "    <tr>\n",
       "      <th>0</th>\n",
       "      <td>01A13121</td>\n",
       "      <td>1898</td>\n",
       "      <td>97</td>\n",
       "      <td>173</td>\n",
       "    </tr>\n",
       "    <tr>\n",
       "      <th>1</th>\n",
       "      <td>01B13121</td>\n",
       "      <td>2304</td>\n",
       "      <td>125</td>\n",
       "      <td>243</td>\n",
       "    </tr>\n",
       "    <tr>\n",
       "      <th>2</th>\n",
       "      <td>01C13121</td>\n",
       "      <td>580</td>\n",
       "      <td>13</td>\n",
       "      <td>19</td>\n",
       "    </tr>\n",
       "    <tr>\n",
       "      <th>3</th>\n",
       "      <td>01D13121</td>\n",
       "      <td>268</td>\n",
       "      <td>6</td>\n",
       "      <td>23</td>\n",
       "    </tr>\n",
       "    <tr>\n",
       "      <th>4</th>\n",
       "      <td>01E13121</td>\n",
       "      <td>2932</td>\n",
       "      <td>144</td>\n",
       "      <td>283</td>\n",
       "    </tr>\n",
       "  </tbody>\n",
       "</table>\n",
       "</div>"
      ],
      "text/plain": [
       "  prec_county  P00003392  P60012234  P80001571\n",
       "0    01A13121       1898         97        173\n",
       "1    01B13121       2304        125        243\n",
       "2    01C13121        580         13         19\n",
       "3    01D13121        268          6         23\n",
       "4    01E13121       2932        144        283"
      ]
     },
     "execution_count": 271,
     "metadata": {},
     "output_type": "execute_result"
    }
   ],
   "source": [
    "electionsfinal.head()"
   ]
  },
  {
   "cell_type": "markdown",
   "metadata": {},
   "source": [
    "Rename column head to match the same notation used in precincts shapefile"
   ]
  },
  {
   "cell_type": "code",
   "execution_count": 272,
   "metadata": {},
   "outputs": [],
   "source": [
    "electionsfinal.rename(columns={'P00003392':'G16PREDCLI','P60012234':'G16PRELJOH','P80001571':'G16PRERTRU'}, inplace=True)"
   ]
  },
  {
   "cell_type": "code",
   "execution_count": 273,
   "metadata": {},
   "outputs": [],
   "source": [
    "precincts['prec_county'] = precincts['PRECINCT_N'] + precincts['FIPS1']"
   ]
  },
  {
   "cell_type": "code",
   "execution_count": 274,
   "metadata": {},
   "outputs": [
    {
     "data": {
      "text/html": [
       "<div>\n",
       "<style scoped>\n",
       "    .dataframe tbody tr th:only-of-type {\n",
       "        vertical-align: middle;\n",
       "    }\n",
       "\n",
       "    .dataframe tbody tr th {\n",
       "        vertical-align: top;\n",
       "    }\n",
       "\n",
       "    .dataframe thead th {\n",
       "        text-align: right;\n",
       "    }\n",
       "</style>\n",
       "<table border=\"1\" class=\"dataframe\">\n",
       "  <thead>\n",
       "    <tr style=\"text-align: right;\">\n",
       "      <th></th>\n",
       "      <th>ID</th>\n",
       "      <th>AREA</th>\n",
       "      <th>DATA</th>\n",
       "      <th>POPULATION</th>\n",
       "      <th>DISTRICT</th>\n",
       "      <th>CTYSOSID</th>\n",
       "      <th>PRECINCT_I</th>\n",
       "      <th>PRECINCT_N</th>\n",
       "      <th>CTYNUMBER</th>\n",
       "      <th>COUNTY</th>\n",
       "      <th>CTYNAME</th>\n",
       "      <th>FIPS1</th>\n",
       "      <th>FIPS2</th>\n",
       "      <th>COUNTY_NAM</th>\n",
       "      <th>geometry</th>\n",
       "      <th>prec_county</th>\n",
       "    </tr>\n",
       "  </thead>\n",
       "  <tbody>\n",
       "    <tr>\n",
       "      <th>0</th>\n",
       "      <td>6094217</td>\n",
       "      <td>1.864348</td>\n",
       "      <td>690</td>\n",
       "      <td>1013</td>\n",
       "      <td>073131</td>\n",
       "      <td>073131</td>\n",
       "      <td>131</td>\n",
       "      <td>JOURNEY COMM. CHURCH</td>\n",
       "      <td>36</td>\n",
       "      <td>036</td>\n",
       "      <td>Columbia</td>\n",
       "      <td>13073</td>\n",
       "      <td>073</td>\n",
       "      <td>COLUMBIA</td>\n",
       "      <td>POLYGON ((-82.14546 33.57854, -82.14520 33.578...</td>\n",
       "      <td>JOURNEY COMM. CHURCH13073</td>\n",
       "    </tr>\n",
       "    <tr>\n",
       "      <th>1</th>\n",
       "      <td>6094266</td>\n",
       "      <td>1.636596</td>\n",
       "      <td>714</td>\n",
       "      <td>3858</td>\n",
       "      <td>073064</td>\n",
       "      <td>073064</td>\n",
       "      <td>064</td>\n",
       "      <td>GRACE BAPTIST CHURCH</td>\n",
       "      <td>36</td>\n",
       "      <td>036</td>\n",
       "      <td>Columbia</td>\n",
       "      <td>13073</td>\n",
       "      <td>073</td>\n",
       "      <td>COLUMBIA</td>\n",
       "      <td>POLYGON ((-82.16342 33.57423, -82.16364 33.574...</td>\n",
       "      <td>GRACE BAPTIST CHURCH13073</td>\n",
       "    </tr>\n",
       "    <tr>\n",
       "      <th>2</th>\n",
       "      <td>6094297</td>\n",
       "      <td>5.598643</td>\n",
       "      <td>711</td>\n",
       "      <td>1920</td>\n",
       "      <td>073061</td>\n",
       "      <td>073061</td>\n",
       "      <td>061</td>\n",
       "      <td>GREENBRIER HIGH</td>\n",
       "      <td>36</td>\n",
       "      <td>036</td>\n",
       "      <td>Columbia</td>\n",
       "      <td>13073</td>\n",
       "      <td>073</td>\n",
       "      <td>COLUMBIA</td>\n",
       "      <td>POLYGON ((-82.16581 33.56498, -82.16577 33.564...</td>\n",
       "      <td>GREENBRIER HIGH13073</td>\n",
       "    </tr>\n",
       "    <tr>\n",
       "      <th>3</th>\n",
       "      <td>6094341</td>\n",
       "      <td>0.872412</td>\n",
       "      <td>713</td>\n",
       "      <td>1770</td>\n",
       "      <td>073063</td>\n",
       "      <td>073063</td>\n",
       "      <td>063</td>\n",
       "      <td>RIVERSIDE ELEMENTARY</td>\n",
       "      <td>36</td>\n",
       "      <td>036</td>\n",
       "      <td>Columbia</td>\n",
       "      <td>13073</td>\n",
       "      <td>073</td>\n",
       "      <td>COLUMBIA</td>\n",
       "      <td>POLYGON ((-82.13909 33.57592, -82.13914 33.575...</td>\n",
       "      <td>RIVERSIDE ELEMENTARY13073</td>\n",
       "    </tr>\n",
       "    <tr>\n",
       "      <th>4</th>\n",
       "      <td>6094377</td>\n",
       "      <td>3.783726</td>\n",
       "      <td>691</td>\n",
       "      <td>3131</td>\n",
       "      <td>073132</td>\n",
       "      <td>073132</td>\n",
       "      <td>132</td>\n",
       "      <td>WESLEY METHODIST</td>\n",
       "      <td>36</td>\n",
       "      <td>036</td>\n",
       "      <td>Columbia</td>\n",
       "      <td>13073</td>\n",
       "      <td>073</td>\n",
       "      <td>COLUMBIA</td>\n",
       "      <td>POLYGON ((-82.14330 33.57348, -82.14300 33.573...</td>\n",
       "      <td>WESLEY METHODIST13073</td>\n",
       "    </tr>\n",
       "  </tbody>\n",
       "</table>\n",
       "</div>"
      ],
      "text/plain": [
       "        ID      AREA  DATA  POPULATION DISTRICT CTYSOSID PRECINCT_I  \\\n",
       "0  6094217  1.864348   690        1013   073131   073131        131   \n",
       "1  6094266  1.636596   714        3858   073064   073064        064   \n",
       "2  6094297  5.598643   711        1920   073061   073061        061   \n",
       "3  6094341  0.872412   713        1770   073063   073063        063   \n",
       "4  6094377  3.783726   691        3131   073132   073132        132   \n",
       "\n",
       "             PRECINCT_N CTYNUMBER COUNTY   CTYNAME  FIPS1 FIPS2 COUNTY_NAM  \\\n",
       "0  JOURNEY COMM. CHURCH        36    036  Columbia  13073   073   COLUMBIA   \n",
       "1  GRACE BAPTIST CHURCH        36    036  Columbia  13073   073   COLUMBIA   \n",
       "2       GREENBRIER HIGH        36    036  Columbia  13073   073   COLUMBIA   \n",
       "3  RIVERSIDE ELEMENTARY        36    036  Columbia  13073   073   COLUMBIA   \n",
       "4      WESLEY METHODIST        36    036  Columbia  13073   073   COLUMBIA   \n",
       "\n",
       "                                            geometry  \\\n",
       "0  POLYGON ((-82.14546 33.57854, -82.14520 33.578...   \n",
       "1  POLYGON ((-82.16342 33.57423, -82.16364 33.574...   \n",
       "2  POLYGON ((-82.16581 33.56498, -82.16577 33.564...   \n",
       "3  POLYGON ((-82.13909 33.57592, -82.13914 33.575...   \n",
       "4  POLYGON ((-82.14330 33.57348, -82.14300 33.573...   \n",
       "\n",
       "                 prec_county  \n",
       "0  JOURNEY COMM. CHURCH13073  \n",
       "1  GRACE BAPTIST CHURCH13073  \n",
       "2       GREENBRIER HIGH13073  \n",
       "3  RIVERSIDE ELEMENTARY13073  \n",
       "4      WESLEY METHODIST13073  "
      ]
     },
     "execution_count": 274,
     "metadata": {},
     "output_type": "execute_result"
    }
   ],
   "source": [
    "precincts.head()"
   ]
  },
  {
   "cell_type": "markdown",
   "metadata": {},
   "source": [
    "Join based on inner, aka only keep values in precincts if also found in elections file"
   ]
  },
  {
   "cell_type": "code",
   "execution_count": 275,
   "metadata": {},
   "outputs": [],
   "source": [
    "precincts_joined = pd.merge(precincts, electionsfinal, on='prec_county', how='inner', indicator=True)"
   ]
  },
  {
   "cell_type": "code",
   "execution_count": 276,
   "metadata": {},
   "outputs": [
    {
     "data": {
      "text/plain": [
       "(2697, 16)"
      ]
     },
     "execution_count": 276,
     "metadata": {},
     "output_type": "execute_result"
    }
   ],
   "source": [
    "precincts.shape"
   ]
  },
  {
   "cell_type": "code",
   "execution_count": 277,
   "metadata": {},
   "outputs": [
    {
     "data": {
      "text/plain": [
       "(1312, 20)"
      ]
     },
     "execution_count": 277,
     "metadata": {},
     "output_type": "execute_result"
    }
   ],
   "source": [
    "precincts_joined.shape"
   ]
  },
  {
   "cell_type": "code",
   "execution_count": 290,
   "metadata": {},
   "outputs": [
    {
     "data": {
      "text/html": [
       "<div>\n",
       "<style scoped>\n",
       "    .dataframe tbody tr th:only-of-type {\n",
       "        vertical-align: middle;\n",
       "    }\n",
       "\n",
       "    .dataframe tbody tr th {\n",
       "        vertical-align: top;\n",
       "    }\n",
       "\n",
       "    .dataframe thead th {\n",
       "        text-align: right;\n",
       "    }\n",
       "</style>\n",
       "<table border=\"1\" class=\"dataframe\">\n",
       "  <thead>\n",
       "    <tr style=\"text-align: right;\">\n",
       "      <th></th>\n",
       "      <th>ID</th>\n",
       "      <th>AREA</th>\n",
       "      <th>DATA</th>\n",
       "      <th>POPULATION</th>\n",
       "      <th>DISTRICT</th>\n",
       "      <th>CTYSOSID</th>\n",
       "      <th>PRECINCT_I</th>\n",
       "      <th>PRECINCT_N</th>\n",
       "      <th>CTYNUMBER</th>\n",
       "      <th>COUNTY</th>\n",
       "      <th>CTYNAME</th>\n",
       "      <th>FIPS1</th>\n",
       "      <th>FIPS2</th>\n",
       "      <th>COUNTY_NAM</th>\n",
       "      <th>geometry</th>\n",
       "      <th>prec_county</th>\n",
       "      <th>G16PREDCLI</th>\n",
       "      <th>G16PRELJOH</th>\n",
       "      <th>G16PRERTRU</th>\n",
       "      <th>_merge</th>\n",
       "    </tr>\n",
       "  </thead>\n",
       "  <tbody>\n",
       "    <tr>\n",
       "      <th>0</th>\n",
       "      <td>888321</td>\n",
       "      <td>1.383327</td>\n",
       "      <td>502</td>\n",
       "      <td>3720</td>\n",
       "      <td>063RD12</td>\n",
       "      <td>063RD12</td>\n",
       "      <td>RD12</td>\n",
       "      <td>RIVERDALE 12</td>\n",
       "      <td>31</td>\n",
       "      <td>031</td>\n",
       "      <td>Clayton</td>\n",
       "      <td>13063</td>\n",
       "      <td>063</td>\n",
       "      <td>CLAYTON</td>\n",
       "      <td>POLYGON ((-84.41468 33.54952, -84.41482 33.548...</td>\n",
       "      <td>RIVERDALE 1213063</td>\n",
       "      <td>1526</td>\n",
       "      <td>20</td>\n",
       "      <td>115</td>\n",
       "      <td>both</td>\n",
       "    </tr>\n",
       "    <tr>\n",
       "      <th>1</th>\n",
       "      <td>878869</td>\n",
       "      <td>8.413158</td>\n",
       "      <td>1150</td>\n",
       "      <td>2809</td>\n",
       "      <td>11307</td>\n",
       "      <td>11307</td>\n",
       "      <td>07</td>\n",
       "      <td>HOPEFUL</td>\n",
       "      <td>56</td>\n",
       "      <td>056</td>\n",
       "      <td>Fayette</td>\n",
       "      <td>13113</td>\n",
       "      <td>113</td>\n",
       "      <td>FAYETTE</td>\n",
       "      <td>POLYGON ((-84.55678 33.52712, -84.55679 33.527...</td>\n",
       "      <td>HOPEFUL13113</td>\n",
       "      <td>731</td>\n",
       "      <td>44</td>\n",
       "      <td>612</td>\n",
       "      <td>both</td>\n",
       "    </tr>\n",
       "    <tr>\n",
       "      <th>2</th>\n",
       "      <td>878929</td>\n",
       "      <td>1.764590</td>\n",
       "      <td>1529</td>\n",
       "      <td>1358</td>\n",
       "      <td>121SC211</td>\n",
       "      <td>121SC211</td>\n",
       "      <td>SC211</td>\n",
       "      <td>SC211</td>\n",
       "      <td>60</td>\n",
       "      <td>060</td>\n",
       "      <td>Fulton</td>\n",
       "      <td>13121</td>\n",
       "      <td>121</td>\n",
       "      <td>FULTON</td>\n",
       "      <td>MULTIPOLYGON (((-84.47434 33.54778, -84.47436 ...</td>\n",
       "      <td>SC21113121</td>\n",
       "      <td>744</td>\n",
       "      <td>8</td>\n",
       "      <td>30</td>\n",
       "      <td>both</td>\n",
       "    </tr>\n",
       "    <tr>\n",
       "      <th>3</th>\n",
       "      <td>878992</td>\n",
       "      <td>2.424845</td>\n",
       "      <td>1148</td>\n",
       "      <td>2255</td>\n",
       "      <td>11305</td>\n",
       "      <td>11305</td>\n",
       "      <td>05</td>\n",
       "      <td>FAYETTEVILLE WEST</td>\n",
       "      <td>56</td>\n",
       "      <td>056</td>\n",
       "      <td>Fayette</td>\n",
       "      <td>13113</td>\n",
       "      <td>113</td>\n",
       "      <td>FAYETTE</td>\n",
       "      <td>POLYGON ((-84.46159 33.46156, -84.46068 33.460...</td>\n",
       "      <td>FAYETTEVILLE WEST13113</td>\n",
       "      <td>489</td>\n",
       "      <td>32</td>\n",
       "      <td>628</td>\n",
       "      <td>both</td>\n",
       "    </tr>\n",
       "    <tr>\n",
       "      <th>4</th>\n",
       "      <td>879055</td>\n",
       "      <td>5.219873</td>\n",
       "      <td>1151</td>\n",
       "      <td>3292</td>\n",
       "      <td>11308</td>\n",
       "      <td>11308</td>\n",
       "      <td>08</td>\n",
       "      <td>MORNING CREEK</td>\n",
       "      <td>56</td>\n",
       "      <td>056</td>\n",
       "      <td>Fayette</td>\n",
       "      <td>13113</td>\n",
       "      <td>113</td>\n",
       "      <td>FAYETTE</td>\n",
       "      <td>POLYGON ((-84.44147 33.47439, -84.44303 33.475...</td>\n",
       "      <td>MORNING CREEK13113</td>\n",
       "      <td>1088</td>\n",
       "      <td>51</td>\n",
       "      <td>919</td>\n",
       "      <td>both</td>\n",
       "    </tr>\n",
       "  </tbody>\n",
       "</table>\n",
       "</div>"
      ],
      "text/plain": [
       "       ID      AREA  DATA  POPULATION  DISTRICT  CTYSOSID PRECINCT_I  \\\n",
       "0  888321  1.383327   502        3720   063RD12   063RD12       RD12   \n",
       "1  878869  8.413158  1150        2809     11307     11307         07   \n",
       "2  878929  1.764590  1529        1358  121SC211  121SC211      SC211   \n",
       "3  878992  2.424845  1148        2255     11305     11305         05   \n",
       "4  879055  5.219873  1151        3292     11308     11308         08   \n",
       "\n",
       "          PRECINCT_N CTYNUMBER COUNTY  CTYNAME  FIPS1 FIPS2 COUNTY_NAM  \\\n",
       "0       RIVERDALE 12        31    031  Clayton  13063   063    CLAYTON   \n",
       "1            HOPEFUL        56    056  Fayette  13113   113    FAYETTE   \n",
       "2              SC211        60    060   Fulton  13121   121     FULTON   \n",
       "3  FAYETTEVILLE WEST        56    056  Fayette  13113   113    FAYETTE   \n",
       "4      MORNING CREEK        56    056  Fayette  13113   113    FAYETTE   \n",
       "\n",
       "                                            geometry             prec_county  \\\n",
       "0  POLYGON ((-84.41468 33.54952, -84.41482 33.548...       RIVERDALE 1213063   \n",
       "1  POLYGON ((-84.55678 33.52712, -84.55679 33.527...            HOPEFUL13113   \n",
       "2  MULTIPOLYGON (((-84.47434 33.54778, -84.47436 ...              SC21113121   \n",
       "3  POLYGON ((-84.46159 33.46156, -84.46068 33.460...  FAYETTEVILLE WEST13113   \n",
       "4  POLYGON ((-84.44147 33.47439, -84.44303 33.475...      MORNING CREEK13113   \n",
       "\n",
       "   G16PREDCLI  G16PRELJOH  G16PRERTRU _merge  \n",
       "0        1526          20         115   both  \n",
       "1         731          44         612   both  \n",
       "2         744           8          30   both  \n",
       "3         489          32         628   both  \n",
       "4        1088          51         919   both  "
      ]
     },
     "execution_count": 290,
     "metadata": {},
     "output_type": "execute_result"
    }
   ],
   "source": [
    "precincts_joined.head()"
   ]
  },
  {
   "cell_type": "markdown",
   "metadata": {},
   "source": [
    "Validate with VEST final file"
   ]
  },
  {
   "cell_type": "code",
   "execution_count": 301,
   "metadata": {},
   "outputs": [],
   "source": [
    "validate = pd.merge(precincts_joined, cleanVEST, on=['prec_county'], how='left')"
   ]
  },
  {
   "cell_type": "code",
   "execution_count": 302,
   "metadata": {},
   "outputs": [
    {
     "data": {
      "text/html": [
       "<div>\n",
       "<style scoped>\n",
       "    .dataframe tbody tr th:only-of-type {\n",
       "        vertical-align: middle;\n",
       "    }\n",
       "\n",
       "    .dataframe tbody tr th {\n",
       "        vertical-align: top;\n",
       "    }\n",
       "\n",
       "    .dataframe thead th {\n",
       "        text-align: right;\n",
       "    }\n",
       "</style>\n",
       "<table border=\"1\" class=\"dataframe\">\n",
       "  <thead>\n",
       "    <tr style=\"text-align: right;\">\n",
       "      <th></th>\n",
       "      <th>G16PRELJOH_x</th>\n",
       "      <th>G16PRELJOH_y</th>\n",
       "    </tr>\n",
       "  </thead>\n",
       "  <tbody>\n",
       "    <tr>\n",
       "      <th>0</th>\n",
       "      <td>20</td>\n",
       "      <td>20</td>\n",
       "    </tr>\n",
       "    <tr>\n",
       "      <th>1</th>\n",
       "      <td>44</td>\n",
       "      <td>44</td>\n",
       "    </tr>\n",
       "    <tr>\n",
       "      <th>2</th>\n",
       "      <td>8</td>\n",
       "      <td>8</td>\n",
       "    </tr>\n",
       "    <tr>\n",
       "      <th>3</th>\n",
       "      <td>32</td>\n",
       "      <td>32</td>\n",
       "    </tr>\n",
       "    <tr>\n",
       "      <th>4</th>\n",
       "      <td>51</td>\n",
       "      <td>51</td>\n",
       "    </tr>\n",
       "  </tbody>\n",
       "</table>\n",
       "</div>"
      ],
      "text/plain": [
       "   G16PRELJOH_x  G16PRELJOH_y\n",
       "0            20            20\n",
       "1            44            44\n",
       "2             8             8\n",
       "3            32            32\n",
       "4            51            51"
      ]
     },
     "execution_count": 302,
     "metadata": {},
     "output_type": "execute_result"
    }
   ],
   "source": [
    "validate[['G16PRELJOH_x', 'G16PRELJOH_y']].head()"
   ]
  },
  {
   "cell_type": "code",
   "execution_count": 303,
   "metadata": {},
   "outputs": [
    {
     "data": {
      "text/html": [
       "<div>\n",
       "<style scoped>\n",
       "    .dataframe tbody tr th:only-of-type {\n",
       "        vertical-align: middle;\n",
       "    }\n",
       "\n",
       "    .dataframe tbody tr th {\n",
       "        vertical-align: top;\n",
       "    }\n",
       "\n",
       "    .dataframe thead th {\n",
       "        text-align: right;\n",
       "    }\n",
       "</style>\n",
       "<table border=\"1\" class=\"dataframe\">\n",
       "  <thead>\n",
       "    <tr style=\"text-align: right;\">\n",
       "      <th></th>\n",
       "      <th>G16PRERTRU_x</th>\n",
       "      <th>G16PRERTRU_y</th>\n",
       "    </tr>\n",
       "  </thead>\n",
       "  <tbody>\n",
       "    <tr>\n",
       "      <th>0</th>\n",
       "      <td>115</td>\n",
       "      <td>115</td>\n",
       "    </tr>\n",
       "    <tr>\n",
       "      <th>1</th>\n",
       "      <td>612</td>\n",
       "      <td>612</td>\n",
       "    </tr>\n",
       "    <tr>\n",
       "      <th>2</th>\n",
       "      <td>30</td>\n",
       "      <td>30</td>\n",
       "    </tr>\n",
       "    <tr>\n",
       "      <th>3</th>\n",
       "      <td>628</td>\n",
       "      <td>628</td>\n",
       "    </tr>\n",
       "    <tr>\n",
       "      <th>4</th>\n",
       "      <td>919</td>\n",
       "      <td>919</td>\n",
       "    </tr>\n",
       "  </tbody>\n",
       "</table>\n",
       "</div>"
      ],
      "text/plain": [
       "   G16PRERTRU_x  G16PRERTRU_y\n",
       "0           115           115\n",
       "1           612           612\n",
       "2            30            30\n",
       "3           628           628\n",
       "4           919           919"
      ]
     },
     "execution_count": 303,
     "metadata": {},
     "output_type": "execute_result"
    }
   ],
   "source": [
    "validate[['G16PRERTRU_x', 'G16PRERTRU_y']].head()"
   ]
  },
  {
   "cell_type": "code",
   "execution_count": 304,
   "metadata": {},
   "outputs": [
    {
     "data": {
      "text/html": [
       "<div>\n",
       "<style scoped>\n",
       "    .dataframe tbody tr th:only-of-type {\n",
       "        vertical-align: middle;\n",
       "    }\n",
       "\n",
       "    .dataframe tbody tr th {\n",
       "        vertical-align: top;\n",
       "    }\n",
       "\n",
       "    .dataframe thead th {\n",
       "        text-align: right;\n",
       "    }\n",
       "</style>\n",
       "<table border=\"1\" class=\"dataframe\">\n",
       "  <thead>\n",
       "    <tr style=\"text-align: right;\">\n",
       "      <th></th>\n",
       "      <th>G16PREDCLI_x</th>\n",
       "      <th>G16PREDCLI_y</th>\n",
       "    </tr>\n",
       "  </thead>\n",
       "  <tbody>\n",
       "    <tr>\n",
       "      <th>0</th>\n",
       "      <td>1526</td>\n",
       "      <td>1526</td>\n",
       "    </tr>\n",
       "    <tr>\n",
       "      <th>1</th>\n",
       "      <td>731</td>\n",
       "      <td>731</td>\n",
       "    </tr>\n",
       "    <tr>\n",
       "      <th>2</th>\n",
       "      <td>744</td>\n",
       "      <td>744</td>\n",
       "    </tr>\n",
       "    <tr>\n",
       "      <th>3</th>\n",
       "      <td>489</td>\n",
       "      <td>489</td>\n",
       "    </tr>\n",
       "    <tr>\n",
       "      <th>4</th>\n",
       "      <td>1088</td>\n",
       "      <td>1088</td>\n",
       "    </tr>\n",
       "  </tbody>\n",
       "</table>\n",
       "</div>"
      ],
      "text/plain": [
       "   G16PREDCLI_x  G16PREDCLI_y\n",
       "0          1526          1526\n",
       "1           731           731\n",
       "2           744           744\n",
       "3           489           489\n",
       "4          1088          1088"
      ]
     },
     "execution_count": 304,
     "metadata": {},
     "output_type": "execute_result"
    }
   ],
   "source": [
    "validate[['G16PREDCLI_x', 'G16PREDCLI_y']].head()"
   ]
  },
  {
   "cell_type": "code",
   "execution_count": 305,
   "metadata": {},
   "outputs": [
    {
     "data": {
      "text/plain": [
       "1.0"
      ]
     },
     "execution_count": 305,
     "metadata": {},
     "output_type": "execute_result"
    }
   ],
   "source": [
    "validate['vote_diff_clinton'] = validate.G16PREDCLI_x - validate.G16PREDCLI_y\n",
    "validate[validate.vote_diff_clinton.abs()<10].shape[0] / validate.shape[0]"
   ]
  },
  {
   "cell_type": "code",
   "execution_count": 306,
   "metadata": {},
   "outputs": [
    {
     "data": {
      "text/plain": [
       "1.0"
      ]
     },
     "execution_count": 306,
     "metadata": {},
     "output_type": "execute_result"
    }
   ],
   "source": [
    "validate['vote_diff_trump'] = validate.G16PRERTRU_x - validate.G16PRERTRU_y\n",
    "validate[validate.vote_diff_trump.abs()<10].shape[0] / validate.shape[0]"
   ]
  },
  {
   "cell_type": "code",
   "execution_count": 307,
   "metadata": {},
   "outputs": [
    {
     "data": {
      "text/plain": [
       "1.0"
      ]
     },
     "execution_count": 307,
     "metadata": {},
     "output_type": "execute_result"
    }
   ],
   "source": [
    "validate['vote_diff_johnson'] = validate.G16PRELJOH_x - validate.G16PRELJOH_y\n",
    "validate[validate.vote_diff_johnson.abs()<10].shape[0] / validate.shape[0]"
   ]
  },
  {
   "cell_type": "code",
   "execution_count": null,
   "metadata": {},
   "outputs": [],
   "source": []
  }
 ],
 "metadata": {
  "kernelspec": {
   "display_name": "Python 3",
   "language": "python",
   "name": "python3"
  },
  "language_info": {
   "codemirror_mode": {
    "name": "ipython",
    "version": 3
   },
   "file_extension": ".py",
   "mimetype": "text/x-python",
   "name": "python",
   "nbconvert_exporter": "python",
   "pygments_lexer": "ipython3",
   "version": "3.8.3"
  }
 },
 "nbformat": 4,
 "nbformat_minor": 4
}
