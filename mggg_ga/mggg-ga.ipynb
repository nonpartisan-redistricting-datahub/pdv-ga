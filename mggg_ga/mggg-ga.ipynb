{
 "cells": [
  {
   "cell_type": "code",
   "execution_count": 112,
   "metadata": {},
   "outputs": [],
   "source": [
    "import pandas as pd\n",
    "import geopandas as gp\n",
    "import maup\n",
    "import numpy as np\n",
    "import os\n",
    "from statistics import mean, median\n",
    "import matplotlib.pyplot as plt\n",
    "import descartes\n"
   ]
  },
  {
   "cell_type": "code",
   "execution_count": 2,
   "metadata": {},
   "outputs": [],
   "source": [
    "#Load Shapefiles \n",
    "#2016 VTD File\n",
    "precincts = gp.read_file(\"VTD2016-Shape.shp\")\n",
    "#2012 Congressional Districts \n",
    "districts = gp.read_file(\"CONGPROP2.shp\")\n",
    "#Block-level Shapefile from Census \n",
    "blocks = gp.read_file(\"tl_2017_13_tabblock10.shp\")"
   ]
  },
  {
   "cell_type": "code",
   "execution_count": 3,
   "metadata": {},
   "outputs": [
    {
     "data": {
      "text/plain": [
       "Index(['ID', 'AREA', 'DATA', 'POPULATION', 'DISTRICT', 'CTYSOSID',\n",
       "       'PRECINCT_I', 'PRECINCT_N', 'CTYNUMBER', 'COUNTY', 'CTYNAME', 'FIPS1',\n",
       "       'FIPS2', 'COUNTY_NAM', 'geometry'],\n",
       "      dtype='object')"
      ]
     },
     "execution_count": 3,
     "metadata": {},
     "output_type": "execute_result"
    }
   ],
   "source": [
    "precincts.columns"
   ]
  },
  {
   "cell_type": "code",
   "execution_count": 4,
   "metadata": {},
   "outputs": [
    {
     "data": {
      "text/html": [
       "<div>\n",
       "<style scoped>\n",
       "    .dataframe tbody tr th:only-of-type {\n",
       "        vertical-align: middle;\n",
       "    }\n",
       "\n",
       "    .dataframe tbody tr th {\n",
       "        vertical-align: top;\n",
       "    }\n",
       "\n",
       "    .dataframe thead th {\n",
       "        text-align: right;\n",
       "    }\n",
       "</style>\n",
       "<table border=\"1\" class=\"dataframe\">\n",
       "  <thead>\n",
       "    <tr style=\"text-align: right;\">\n",
       "      <th></th>\n",
       "      <th>ID</th>\n",
       "      <th>AREA</th>\n",
       "      <th>DATA</th>\n",
       "      <th>POPULATION</th>\n",
       "      <th>DISTRICT</th>\n",
       "      <th>CTYSOSID</th>\n",
       "      <th>PRECINCT_I</th>\n",
       "      <th>PRECINCT_N</th>\n",
       "      <th>CTYNUMBER</th>\n",
       "      <th>COUNTY</th>\n",
       "      <th>CTYNAME</th>\n",
       "      <th>FIPS1</th>\n",
       "      <th>FIPS2</th>\n",
       "      <th>COUNTY_NAM</th>\n",
       "      <th>geometry</th>\n",
       "    </tr>\n",
       "  </thead>\n",
       "  <tbody>\n",
       "    <tr>\n",
       "      <th>0</th>\n",
       "      <td>6094217</td>\n",
       "      <td>1.864348</td>\n",
       "      <td>690</td>\n",
       "      <td>1013</td>\n",
       "      <td>073131</td>\n",
       "      <td>073131</td>\n",
       "      <td>131</td>\n",
       "      <td>JOURNEY COMM. CHURCH</td>\n",
       "      <td>36</td>\n",
       "      <td>036</td>\n",
       "      <td>Columbia</td>\n",
       "      <td>13073</td>\n",
       "      <td>073</td>\n",
       "      <td>COLUMBIA</td>\n",
       "      <td>POLYGON ((-82.14546 33.57854, -82.14520 33.578...</td>\n",
       "    </tr>\n",
       "    <tr>\n",
       "      <th>1</th>\n",
       "      <td>6094266</td>\n",
       "      <td>1.636596</td>\n",
       "      <td>714</td>\n",
       "      <td>3858</td>\n",
       "      <td>073064</td>\n",
       "      <td>073064</td>\n",
       "      <td>064</td>\n",
       "      <td>GRACE BAPTIST CHURCH</td>\n",
       "      <td>36</td>\n",
       "      <td>036</td>\n",
       "      <td>Columbia</td>\n",
       "      <td>13073</td>\n",
       "      <td>073</td>\n",
       "      <td>COLUMBIA</td>\n",
       "      <td>POLYGON ((-82.16342 33.57423, -82.16364 33.574...</td>\n",
       "    </tr>\n",
       "    <tr>\n",
       "      <th>2</th>\n",
       "      <td>6094297</td>\n",
       "      <td>5.598643</td>\n",
       "      <td>711</td>\n",
       "      <td>1920</td>\n",
       "      <td>073061</td>\n",
       "      <td>073061</td>\n",
       "      <td>061</td>\n",
       "      <td>GREENBRIER HIGH</td>\n",
       "      <td>36</td>\n",
       "      <td>036</td>\n",
       "      <td>Columbia</td>\n",
       "      <td>13073</td>\n",
       "      <td>073</td>\n",
       "      <td>COLUMBIA</td>\n",
       "      <td>POLYGON ((-82.16581 33.56498, -82.16577 33.564...</td>\n",
       "    </tr>\n",
       "    <tr>\n",
       "      <th>3</th>\n",
       "      <td>6094341</td>\n",
       "      <td>0.872412</td>\n",
       "      <td>713</td>\n",
       "      <td>1770</td>\n",
       "      <td>073063</td>\n",
       "      <td>073063</td>\n",
       "      <td>063</td>\n",
       "      <td>RIVERSIDE ELEMENTARY</td>\n",
       "      <td>36</td>\n",
       "      <td>036</td>\n",
       "      <td>Columbia</td>\n",
       "      <td>13073</td>\n",
       "      <td>073</td>\n",
       "      <td>COLUMBIA</td>\n",
       "      <td>POLYGON ((-82.13909 33.57592, -82.13914 33.575...</td>\n",
       "    </tr>\n",
       "    <tr>\n",
       "      <th>4</th>\n",
       "      <td>6094377</td>\n",
       "      <td>3.783726</td>\n",
       "      <td>691</td>\n",
       "      <td>3131</td>\n",
       "      <td>073132</td>\n",
       "      <td>073132</td>\n",
       "      <td>132</td>\n",
       "      <td>WESLEY METHODIST</td>\n",
       "      <td>36</td>\n",
       "      <td>036</td>\n",
       "      <td>Columbia</td>\n",
       "      <td>13073</td>\n",
       "      <td>073</td>\n",
       "      <td>COLUMBIA</td>\n",
       "      <td>POLYGON ((-82.14330 33.57348, -82.14300 33.573...</td>\n",
       "    </tr>\n",
       "  </tbody>\n",
       "</table>\n",
       "</div>"
      ],
      "text/plain": [
       "        ID      AREA  DATA  POPULATION DISTRICT CTYSOSID PRECINCT_I  \\\n",
       "0  6094217  1.864348   690        1013   073131   073131        131   \n",
       "1  6094266  1.636596   714        3858   073064   073064        064   \n",
       "2  6094297  5.598643   711        1920   073061   073061        061   \n",
       "3  6094341  0.872412   713        1770   073063   073063        063   \n",
       "4  6094377  3.783726   691        3131   073132   073132        132   \n",
       "\n",
       "             PRECINCT_N CTYNUMBER COUNTY   CTYNAME  FIPS1 FIPS2 COUNTY_NAM  \\\n",
       "0  JOURNEY COMM. CHURCH        36    036  Columbia  13073   073   COLUMBIA   \n",
       "1  GRACE BAPTIST CHURCH        36    036  Columbia  13073   073   COLUMBIA   \n",
       "2       GREENBRIER HIGH        36    036  Columbia  13073   073   COLUMBIA   \n",
       "3  RIVERSIDE ELEMENTARY        36    036  Columbia  13073   073   COLUMBIA   \n",
       "4      WESLEY METHODIST        36    036  Columbia  13073   073   COLUMBIA   \n",
       "\n",
       "                                            geometry  \n",
       "0  POLYGON ((-82.14546 33.57854, -82.14520 33.578...  \n",
       "1  POLYGON ((-82.16342 33.57423, -82.16364 33.574...  \n",
       "2  POLYGON ((-82.16581 33.56498, -82.16577 33.564...  \n",
       "3  POLYGON ((-82.13909 33.57592, -82.13914 33.575...  \n",
       "4  POLYGON ((-82.14330 33.57348, -82.14300 33.573...  "
      ]
     },
     "execution_count": 4,
     "metadata": {},
     "output_type": "execute_result"
    }
   ],
   "source": [
    "precincts.head()"
   ]
  },
  {
   "cell_type": "code",
   "execution_count": 269,
   "metadata": {},
   "outputs": [
    {
     "data": {
      "text/plain": [
       "array(['131', '064', '061', ..., '197', '990', '833'], dtype=object)"
      ]
     },
     "execution_count": 269,
     "metadata": {},
     "output_type": "execute_result"
    }
   ],
   "source": [
    "precincts.PRECINCT_I.unique()"
   ]
  },
  {
   "cell_type": "code",
   "execution_count": 124,
   "metadata": {},
   "outputs": [
    {
     "data": {
      "text/plain": [
       "9687653"
      ]
     },
     "execution_count": 124,
     "metadata": {},
     "output_type": "execute_result"
    }
   ],
   "source": [
    "precincts.POPULATION.sum()\n",
    "#same as demo data total pop & final file "
   ]
  },
  {
   "cell_type": "markdown",
   "metadata": {},
   "source": [
    "Setting porjections to EPSG: 4019"
   ]
  },
  {
   "cell_type": "code",
   "execution_count": 15,
   "metadata": {},
   "outputs": [
    {
     "data": {
      "text/plain": [
       "{'init': 'epsg:4019'}"
      ]
     },
     "execution_count": 15,
     "metadata": {},
     "output_type": "execute_result"
    }
   ],
   "source": [
    "precincts.crs"
   ]
  },
  {
   "cell_type": "code",
   "execution_count": 16,
   "metadata": {},
   "outputs": [],
   "source": [
    "proj = precincts.crs\n"
   ]
  },
  {
   "cell_type": "code",
   "execution_count": 17,
   "metadata": {},
   "outputs": [
    {
     "data": {
      "text/plain": [
       "Index(['STATEFP10', 'COUNTYFP10', 'TRACTCE10', 'BLOCKCE10', 'GEOID10',\n",
       "       'NAME10', 'MTFCC10', 'UR10', 'UACE10', 'UATYPE', 'FUNCSTAT10',\n",
       "       'ALAND10', 'AWATER10', 'INTPTLAT10', 'INTPTLON10', 'geometry'],\n",
       "      dtype='object')"
      ]
     },
     "execution_count": 17,
     "metadata": {},
     "output_type": "execute_result"
    }
   ],
   "source": [
    "blocks.columns"
   ]
  },
  {
   "cell_type": "code",
   "execution_count": 19,
   "metadata": {},
   "outputs": [],
   "source": [
    "precincts = precincts.to_crs(proj)\n",
    "blocks = blocks.to_crs(proj)"
   ]
  },
  {
   "cell_type": "code",
   "execution_count": 90,
   "metadata": {},
   "outputs": [],
   "source": [
    "#Load election and demographic Data .csv\n",
    "blocks_dmo = pd.read_csv(\"GA_blk_dmo.csv\")\n",
    "election_state = pd.read_csv(\"2016-precinct-state.csv\",encoding='latin-1', dtype={\"jurisdiction\": \"string\"},low_memory=False)\n",
    "election_pres = pd.read_csv(\"2016-precinct-president.csv\",encoding='latin-1', dtype={\"jurisdiction\": \"string\"},low_memory=False)"
   ]
  },
  {
   "cell_type": "markdown",
   "metadata": {},
   "source": [
    "Need to concat both election tables, clean, pivot, and then join to precinct shapefile"
   ]
  },
  {
   "cell_type": "code",
   "execution_count": 195,
   "metadata": {},
   "outputs": [
    {
     "data": {
      "text/plain": [
       "Index(['year', 'stage', 'special', 'state', 'state_postal', 'state_fips',\n",
       "       'state_icpsr', 'county_name', 'county_fips', 'county_ansi',\n",
       "       'county_lat', 'county_long', 'jurisdiction', 'precinct', 'candidate',\n",
       "       'candidate_normalized', 'office', 'district', 'writein', 'party',\n",
       "       'mode', 'votes', 'candidate_opensecrets', 'candidate_wikidata',\n",
       "       'candidate_party', 'candidate_last', 'candidate_first',\n",
       "       'candidate_middle', 'candidate_full', 'candidate_suffix',\n",
       "       'candidate_nickname', 'candidate_fec', 'candidate_fec_name',\n",
       "       'candidate_google', 'candidate_govtrack', 'candidate_icpsr',\n",
       "       'candidate_maplight'],\n",
       "      dtype='object')"
      ]
     },
     "execution_count": 195,
     "metadata": {},
     "output_type": "execute_result"
    }
   ],
   "source": [
    "election_pres.columns"
   ]
  },
  {
   "cell_type": "code",
   "execution_count": 196,
   "metadata": {},
   "outputs": [],
   "source": [
    "election_state = election_state[election_state.state_fips == 13]"
   ]
  },
  {
   "cell_type": "code",
   "execution_count": 197,
   "metadata": {},
   "outputs": [],
   "source": [
    "election_pres = election_pres[election_pres.state_fips == 13]"
   ]
  },
  {
   "cell_type": "code",
   "execution_count": 198,
   "metadata": {},
   "outputs": [
    {
     "data": {
      "text/html": [
       "<div>\n",
       "<style scoped>\n",
       "    .dataframe tbody tr th:only-of-type {\n",
       "        vertical-align: middle;\n",
       "    }\n",
       "\n",
       "    .dataframe tbody tr th {\n",
       "        vertical-align: top;\n",
       "    }\n",
       "\n",
       "    .dataframe thead th {\n",
       "        text-align: right;\n",
       "    }\n",
       "</style>\n",
       "<table border=\"1\" class=\"dataframe\">\n",
       "  <thead>\n",
       "    <tr style=\"text-align: right;\">\n",
       "      <th></th>\n",
       "      <th>year</th>\n",
       "      <th>stage</th>\n",
       "      <th>special</th>\n",
       "      <th>state</th>\n",
       "      <th>state_postal</th>\n",
       "      <th>state_fips</th>\n",
       "      <th>state_icpsr</th>\n",
       "      <th>county_name</th>\n",
       "      <th>county_fips</th>\n",
       "      <th>county_ansi</th>\n",
       "      <th>...</th>\n",
       "      <th>candidate_middle</th>\n",
       "      <th>candidate_full</th>\n",
       "      <th>candidate_suffix</th>\n",
       "      <th>candidate_nickname</th>\n",
       "      <th>candidate_fec</th>\n",
       "      <th>candidate_fec_name</th>\n",
       "      <th>candidate_google</th>\n",
       "      <th>candidate_govtrack</th>\n",
       "      <th>candidate_icpsr</th>\n",
       "      <th>candidate_maplight</th>\n",
       "    </tr>\n",
       "  </thead>\n",
       "  <tbody>\n",
       "    <tr>\n",
       "      <th>2271134</th>\n",
       "      <td>2016</td>\n",
       "      <td>gen</td>\n",
       "      <td>False</td>\n",
       "      <td>Georgia</td>\n",
       "      <td>GA</td>\n",
       "      <td>13</td>\n",
       "      <td>44</td>\n",
       "      <td>Appling County</td>\n",
       "      <td>13001.0</td>\n",
       "      <td>349113.0</td>\n",
       "      <td>...</td>\n",
       "      <td>NaN</td>\n",
       "      <td>NaN</td>\n",
       "      <td>NaN</td>\n",
       "      <td>NaN</td>\n",
       "      <td>NaN</td>\n",
       "      <td>NaN</td>\n",
       "      <td>NaN</td>\n",
       "      <td>NaN</td>\n",
       "      <td>NaN</td>\n",
       "      <td>NaN</td>\n",
       "    </tr>\n",
       "    <tr>\n",
       "      <th>2271135</th>\n",
       "      <td>2016</td>\n",
       "      <td>gen</td>\n",
       "      <td>False</td>\n",
       "      <td>Georgia</td>\n",
       "      <td>GA</td>\n",
       "      <td>13</td>\n",
       "      <td>44</td>\n",
       "      <td>Appling County</td>\n",
       "      <td>13001.0</td>\n",
       "      <td>349113.0</td>\n",
       "      <td>...</td>\n",
       "      <td>NaN</td>\n",
       "      <td>NaN</td>\n",
       "      <td>NaN</td>\n",
       "      <td>NaN</td>\n",
       "      <td>NaN</td>\n",
       "      <td>NaN</td>\n",
       "      <td>NaN</td>\n",
       "      <td>NaN</td>\n",
       "      <td>NaN</td>\n",
       "      <td>NaN</td>\n",
       "    </tr>\n",
       "    <tr>\n",
       "      <th>2271136</th>\n",
       "      <td>2016</td>\n",
       "      <td>gen</td>\n",
       "      <td>False</td>\n",
       "      <td>Georgia</td>\n",
       "      <td>GA</td>\n",
       "      <td>13</td>\n",
       "      <td>44</td>\n",
       "      <td>Appling County</td>\n",
       "      <td>13001.0</td>\n",
       "      <td>349113.0</td>\n",
       "      <td>...</td>\n",
       "      <td>NaN</td>\n",
       "      <td>NaN</td>\n",
       "      <td>NaN</td>\n",
       "      <td>NaN</td>\n",
       "      <td>NaN</td>\n",
       "      <td>NaN</td>\n",
       "      <td>NaN</td>\n",
       "      <td>NaN</td>\n",
       "      <td>NaN</td>\n",
       "      <td>NaN</td>\n",
       "    </tr>\n",
       "    <tr>\n",
       "      <th>2271137</th>\n",
       "      <td>2016</td>\n",
       "      <td>gen</td>\n",
       "      <td>False</td>\n",
       "      <td>Georgia</td>\n",
       "      <td>GA</td>\n",
       "      <td>13</td>\n",
       "      <td>44</td>\n",
       "      <td>Appling County</td>\n",
       "      <td>13001.0</td>\n",
       "      <td>349113.0</td>\n",
       "      <td>...</td>\n",
       "      <td>NaN</td>\n",
       "      <td>NaN</td>\n",
       "      <td>NaN</td>\n",
       "      <td>NaN</td>\n",
       "      <td>NaN</td>\n",
       "      <td>NaN</td>\n",
       "      <td>NaN</td>\n",
       "      <td>NaN</td>\n",
       "      <td>NaN</td>\n",
       "      <td>NaN</td>\n",
       "    </tr>\n",
       "    <tr>\n",
       "      <th>2271138</th>\n",
       "      <td>2016</td>\n",
       "      <td>gen</td>\n",
       "      <td>False</td>\n",
       "      <td>Georgia</td>\n",
       "      <td>GA</td>\n",
       "      <td>13</td>\n",
       "      <td>44</td>\n",
       "      <td>Appling County</td>\n",
       "      <td>13001.0</td>\n",
       "      <td>349113.0</td>\n",
       "      <td>...</td>\n",
       "      <td>NaN</td>\n",
       "      <td>NaN</td>\n",
       "      <td>NaN</td>\n",
       "      <td>NaN</td>\n",
       "      <td>NaN</td>\n",
       "      <td>NaN</td>\n",
       "      <td>NaN</td>\n",
       "      <td>NaN</td>\n",
       "      <td>NaN</td>\n",
       "      <td>NaN</td>\n",
       "    </tr>\n",
       "  </tbody>\n",
       "</table>\n",
       "<p>5 rows × 37 columns</p>\n",
       "</div>"
      ],
      "text/plain": [
       "         year stage  special    state state_postal  state_fips  state_icpsr  \\\n",
       "2271134  2016   gen    False  Georgia           GA          13           44   \n",
       "2271135  2016   gen    False  Georgia           GA          13           44   \n",
       "2271136  2016   gen    False  Georgia           GA          13           44   \n",
       "2271137  2016   gen    False  Georgia           GA          13           44   \n",
       "2271138  2016   gen    False  Georgia           GA          13           44   \n",
       "\n",
       "            county_name  county_fips  county_ansi  ...  candidate_middle  \\\n",
       "2271134  Appling County      13001.0     349113.0  ...               NaN   \n",
       "2271135  Appling County      13001.0     349113.0  ...               NaN   \n",
       "2271136  Appling County      13001.0     349113.0  ...               NaN   \n",
       "2271137  Appling County      13001.0     349113.0  ...               NaN   \n",
       "2271138  Appling County      13001.0     349113.0  ...               NaN   \n",
       "\n",
       "         candidate_full candidate_suffix candidate_nickname candidate_fec  \\\n",
       "2271134             NaN              NaN                NaN           NaN   \n",
       "2271135             NaN              NaN                NaN           NaN   \n",
       "2271136             NaN              NaN                NaN           NaN   \n",
       "2271137             NaN              NaN                NaN           NaN   \n",
       "2271138             NaN              NaN                NaN           NaN   \n",
       "\n",
       "        candidate_fec_name candidate_google candidate_govtrack  \\\n",
       "2271134                NaN              NaN                NaN   \n",
       "2271135                NaN              NaN                NaN   \n",
       "2271136                NaN              NaN                NaN   \n",
       "2271137                NaN              NaN                NaN   \n",
       "2271138                NaN              NaN                NaN   \n",
       "\n",
       "         candidate_icpsr candidate_maplight  \n",
       "2271134              NaN                NaN  \n",
       "2271135              NaN                NaN  \n",
       "2271136              NaN                NaN  \n",
       "2271137              NaN                NaN  \n",
       "2271138              NaN                NaN  \n",
       "\n",
       "[5 rows x 37 columns]"
      ]
     },
     "execution_count": 198,
     "metadata": {},
     "output_type": "execute_result"
    }
   ],
   "source": [
    "election_state.head()"
   ]
  },
  {
   "cell_type": "code",
   "execution_count": 199,
   "metadata": {},
   "outputs": [
    {
     "data": {
      "text/html": [
       "<div>\n",
       "<style scoped>\n",
       "    .dataframe tbody tr th:only-of-type {\n",
       "        vertical-align: middle;\n",
       "    }\n",
       "\n",
       "    .dataframe tbody tr th {\n",
       "        vertical-align: top;\n",
       "    }\n",
       "\n",
       "    .dataframe thead th {\n",
       "        text-align: right;\n",
       "    }\n",
       "</style>\n",
       "<table border=\"1\" class=\"dataframe\">\n",
       "  <thead>\n",
       "    <tr style=\"text-align: right;\">\n",
       "      <th></th>\n",
       "      <th>year</th>\n",
       "      <th>stage</th>\n",
       "      <th>special</th>\n",
       "      <th>state</th>\n",
       "      <th>state_postal</th>\n",
       "      <th>state_fips</th>\n",
       "      <th>state_icpsr</th>\n",
       "      <th>county_name</th>\n",
       "      <th>county_fips</th>\n",
       "      <th>county_ansi</th>\n",
       "      <th>...</th>\n",
       "      <th>candidate_middle</th>\n",
       "      <th>candidate_full</th>\n",
       "      <th>candidate_suffix</th>\n",
       "      <th>candidate_nickname</th>\n",
       "      <th>candidate_fec</th>\n",
       "      <th>candidate_fec_name</th>\n",
       "      <th>candidate_google</th>\n",
       "      <th>candidate_govtrack</th>\n",
       "      <th>candidate_icpsr</th>\n",
       "      <th>candidate_maplight</th>\n",
       "    </tr>\n",
       "  </thead>\n",
       "  <tbody>\n",
       "    <tr>\n",
       "      <th>573155</th>\n",
       "      <td>2016</td>\n",
       "      <td>gen</td>\n",
       "      <td>False</td>\n",
       "      <td>Georgia</td>\n",
       "      <td>GA</td>\n",
       "      <td>13</td>\n",
       "      <td>44</td>\n",
       "      <td>Appling County</td>\n",
       "      <td>13001.0</td>\n",
       "      <td>349113.0</td>\n",
       "      <td>...</td>\n",
       "      <td>NaN</td>\n",
       "      <td>NaN</td>\n",
       "      <td>NaN</td>\n",
       "      <td>NaN</td>\n",
       "      <td>P00003392</td>\n",
       "      <td>CLINTON, HILLARY RODHAM / TIMOTHY MICHAEL KAINE</td>\n",
       "      <td>NaN</td>\n",
       "      <td>NaN</td>\n",
       "      <td>NaN</td>\n",
       "      <td>NaN</td>\n",
       "    </tr>\n",
       "    <tr>\n",
       "      <th>573156</th>\n",
       "      <td>2016</td>\n",
       "      <td>gen</td>\n",
       "      <td>False</td>\n",
       "      <td>Georgia</td>\n",
       "      <td>GA</td>\n",
       "      <td>13</td>\n",
       "      <td>44</td>\n",
       "      <td>Appling County</td>\n",
       "      <td>13001.0</td>\n",
       "      <td>349113.0</td>\n",
       "      <td>...</td>\n",
       "      <td>NaN</td>\n",
       "      <td>NaN</td>\n",
       "      <td>NaN</td>\n",
       "      <td>NaN</td>\n",
       "      <td>P00003392</td>\n",
       "      <td>CLINTON, HILLARY RODHAM / TIMOTHY MICHAEL KAINE</td>\n",
       "      <td>NaN</td>\n",
       "      <td>NaN</td>\n",
       "      <td>NaN</td>\n",
       "      <td>NaN</td>\n",
       "    </tr>\n",
       "    <tr>\n",
       "      <th>573157</th>\n",
       "      <td>2016</td>\n",
       "      <td>gen</td>\n",
       "      <td>False</td>\n",
       "      <td>Georgia</td>\n",
       "      <td>GA</td>\n",
       "      <td>13</td>\n",
       "      <td>44</td>\n",
       "      <td>Appling County</td>\n",
       "      <td>13001.0</td>\n",
       "      <td>349113.0</td>\n",
       "      <td>...</td>\n",
       "      <td>NaN</td>\n",
       "      <td>NaN</td>\n",
       "      <td>NaN</td>\n",
       "      <td>NaN</td>\n",
       "      <td>P00003392</td>\n",
       "      <td>CLINTON, HILLARY RODHAM / TIMOTHY MICHAEL KAINE</td>\n",
       "      <td>NaN</td>\n",
       "      <td>NaN</td>\n",
       "      <td>NaN</td>\n",
       "      <td>NaN</td>\n",
       "    </tr>\n",
       "    <tr>\n",
       "      <th>573158</th>\n",
       "      <td>2016</td>\n",
       "      <td>gen</td>\n",
       "      <td>False</td>\n",
       "      <td>Georgia</td>\n",
       "      <td>GA</td>\n",
       "      <td>13</td>\n",
       "      <td>44</td>\n",
       "      <td>Appling County</td>\n",
       "      <td>13001.0</td>\n",
       "      <td>349113.0</td>\n",
       "      <td>...</td>\n",
       "      <td>NaN</td>\n",
       "      <td>NaN</td>\n",
       "      <td>NaN</td>\n",
       "      <td>NaN</td>\n",
       "      <td>P00003392</td>\n",
       "      <td>CLINTON, HILLARY RODHAM / TIMOTHY MICHAEL KAINE</td>\n",
       "      <td>NaN</td>\n",
       "      <td>NaN</td>\n",
       "      <td>NaN</td>\n",
       "      <td>NaN</td>\n",
       "    </tr>\n",
       "    <tr>\n",
       "      <th>573159</th>\n",
       "      <td>2016</td>\n",
       "      <td>gen</td>\n",
       "      <td>False</td>\n",
       "      <td>Georgia</td>\n",
       "      <td>GA</td>\n",
       "      <td>13</td>\n",
       "      <td>44</td>\n",
       "      <td>Appling County</td>\n",
       "      <td>13001.0</td>\n",
       "      <td>349113.0</td>\n",
       "      <td>...</td>\n",
       "      <td>NaN</td>\n",
       "      <td>NaN</td>\n",
       "      <td>NaN</td>\n",
       "      <td>NaN</td>\n",
       "      <td>P60012234</td>\n",
       "      <td>JOHNSON, JOHN FITZGERALD MR.</td>\n",
       "      <td>NaN</td>\n",
       "      <td>NaN</td>\n",
       "      <td>NaN</td>\n",
       "      <td>NaN</td>\n",
       "    </tr>\n",
       "  </tbody>\n",
       "</table>\n",
       "<p>5 rows × 37 columns</p>\n",
       "</div>"
      ],
      "text/plain": [
       "        year stage  special    state state_postal  state_fips  state_icpsr  \\\n",
       "573155  2016   gen    False  Georgia           GA          13           44   \n",
       "573156  2016   gen    False  Georgia           GA          13           44   \n",
       "573157  2016   gen    False  Georgia           GA          13           44   \n",
       "573158  2016   gen    False  Georgia           GA          13           44   \n",
       "573159  2016   gen    False  Georgia           GA          13           44   \n",
       "\n",
       "           county_name  county_fips  county_ansi  ...  candidate_middle  \\\n",
       "573155  Appling County      13001.0     349113.0  ...               NaN   \n",
       "573156  Appling County      13001.0     349113.0  ...               NaN   \n",
       "573157  Appling County      13001.0     349113.0  ...               NaN   \n",
       "573158  Appling County      13001.0     349113.0  ...               NaN   \n",
       "573159  Appling County      13001.0     349113.0  ...               NaN   \n",
       "\n",
       "        candidate_full candidate_suffix candidate_nickname candidate_fec  \\\n",
       "573155             NaN              NaN                NaN     P00003392   \n",
       "573156             NaN              NaN                NaN     P00003392   \n",
       "573157             NaN              NaN                NaN     P00003392   \n",
       "573158             NaN              NaN                NaN     P00003392   \n",
       "573159             NaN              NaN                NaN     P60012234   \n",
       "\n",
       "                                     candidate_fec_name candidate_google  \\\n",
       "573155  CLINTON, HILLARY RODHAM / TIMOTHY MICHAEL KAINE              NaN   \n",
       "573156  CLINTON, HILLARY RODHAM / TIMOTHY MICHAEL KAINE              NaN   \n",
       "573157  CLINTON, HILLARY RODHAM / TIMOTHY MICHAEL KAINE              NaN   \n",
       "573158  CLINTON, HILLARY RODHAM / TIMOTHY MICHAEL KAINE              NaN   \n",
       "573159                     JOHNSON, JOHN FITZGERALD MR.              NaN   \n",
       "\n",
       "       candidate_govtrack  candidate_icpsr candidate_maplight  \n",
       "573155                NaN              NaN                NaN  \n",
       "573156                NaN              NaN                NaN  \n",
       "573157                NaN              NaN                NaN  \n",
       "573158                NaN              NaN                NaN  \n",
       "573159                NaN              NaN                NaN  \n",
       "\n",
       "[5 rows x 37 columns]"
      ]
     },
     "execution_count": 199,
     "metadata": {},
     "output_type": "execute_result"
    }
   ],
   "source": [
    "election_pres.head()"
   ]
  },
  {
   "cell_type": "code",
   "execution_count": 207,
   "metadata": {},
   "outputs": [
    {
     "data": {
      "text/plain": [
       "array(['CONSTITUTIONAL AMENDMENT #1<BR>PROVIDES GREATER FLEXIBILITY AND STATE ACCOUNTABILITY TO FIX FAILING SCHOOLS THROUGH INCREASING COMMUNITY INVOLVEMENT.',\n",
       "       \"CONSTITUTIONAL AMENDMENT #2<BR>AUTHORIZES PENALTIES FOR SEXUAL EXPLOITATION AND ASSESSMENTS ON ADULT ENTERTAINMENT TO FUND CHILD VICTIMS' SERVICES.\",\n",
       "       'CONSTITUTIONAL AMENDMENT #3<BR>REFORMS AND RE-ESTABLISHES THE JUDICIAL QUALIFICATIONS COMMISSION AND PROVIDES FOR ITS COMPOSITION, GOVERNANCE, AND POWERS.',\n",
       "       'CONSTITUTIONAL AMENDMENT #4<BR>DEDICATES REVENUE FROM EXISTING TAXES ON FIREWORKS TO TRAUMA CARE, FIRE SERVICES, AND PUBLIC SAFETY.',\n",
       "       'PUBLIC SERVICE COMMISSION, DISTRICT 2 - EASTERN', 'State House',\n",
       "       'CLERK SUPERIOR COURT', 'State Senate', 'CLERK, SUPERIOR COURT',\n",
       "       'CHIEF MAGISTRATE', 'BOE, D2', 'BOE, D4', 'BOE HOGGARDS',\n",
       "       'BOE ANNA', 'BOE MILFORD', 'BOE NEWTON', 'BOE ELMODEL',\n",
       "       'SUPERIOR COURT CLERK', 'BOE 4', 'BOE 1', 'BOE 2',\n",
       "       'BOE 8 AT LARGE', 'BOE 6', 'BOE 5', 'BOE, D5', 'BOE, D3',\n",
       "       'BOE, D1', 'BOE, D6', 'BOE, D7', 'CLERK SUPERIOR CT',\n",
       "       'BOE, AT LARGE', 'BOE, VICE CHAIRMAN P2', 'BOE, D2 P4',\n",
       "       'BOE, D3 P5', 'BOE, P2', 'BOE, P5', 'BOE, P4', 'BOE, P3',\n",
       "       'BOE, P1', 'BOE D5', 'BOE D1', 'BOE CHAIRPERSON', 'BOE D2',\n",
       "       'BOE D6', 'BOE D7', 'BOE D3', 'BOE P2', 'BOE P3', 'BOE P5',\n",
       "       'CLERK OF SUPERIOR COURT', 'BD OF EDUCATION D1',\n",
       "       'BD OF EDUCATION D3', 'BD OF EDUCATION D7', 'BD OF EDUCATION D5',\n",
       "       'BOE, CORDELE DISTRICT', 'BOE, EAST CRISP DISTRICT',\n",
       "       'BOE D5 AT LARGE', 'CLERK OF SUPERIOR CT',\n",
       "       'ATLANTA - MARTA - REFERENDUM', 'ATLANTA - T-SPLOST',\n",
       "       'DECATUR HOMESTEAD SB 339', 'DECATUR HOMESTEAD SB 340',\n",
       "       'DECATUR HOMESTEAD SB 341', 'DECATUR HOMESTEAD SB 342',\n",
       "       'DECATUR HOMESTEAD SB 343', 'BOE 3', 'BOE 7', 'BOE BRAMLETT',\n",
       "       'BOE DEWEESE', 'BOE MERCIER', 'DISTRICT ATTORNEY, ATLANTA CIRCUIT',\n",
       "       'ATLANTA MARTA REFERENDUM', 'ATLANTA T-SPLOST', 'BOE, AT LARGE P2',\n",
       "       'BOE P4', 'BOE P6', 'BOE CHAIR', 'BOE D4',\n",
       "       'SPECIAL - CHIEF MAGISTRATE', 'BOE CHAIRMAN', 'BOE AT LARGE',\n",
       "       'BOE P1', 'BOE 10', 'BOE D8', 'BOE 1 P1', 'BOE 3 P2',\n",
       "       'BOE, D7 (CHAIRMAN)', 'CLERK SUPERIOR'], dtype=object)"
      ]
     },
     "execution_count": 207,
     "metadata": {},
     "output_type": "execute_result"
    }
   ],
   "source": [
    "election_state.office.unique()\n",
    "#'State Senate'"
   ]
  },
  {
   "cell_type": "code",
   "execution_count": 221,
   "metadata": {},
   "outputs": [
    {
     "data": {
      "text/plain": [
       "array(['republican', nan, 'democratic'], dtype=object)"
      ]
     },
     "execution_count": 221,
     "metadata": {},
     "output_type": "execute_result"
    }
   ],
   "source": [
    "election_state.party.unique()\n",
    "#no libertarian senate candidate??"
   ]
  },
  {
   "cell_type": "code",
   "execution_count": 208,
   "metadata": {},
   "outputs": [],
   "source": [
    "election_state = election_state[(election_state.office==\"State Senate\")]"
   ]
  },
  {
   "cell_type": "code",
   "execution_count": 185,
   "metadata": {},
   "outputs": [
    {
     "data": {
      "text/plain": [
       "array(['US President'], dtype=object)"
      ]
     },
     "execution_count": 185,
     "metadata": {},
     "output_type": "execute_result"
    }
   ],
   "source": [
    "election_pres.office.unique()\n",
    "#\"US President\""
   ]
  },
  {
   "cell_type": "code",
   "execution_count": 209,
   "metadata": {},
   "outputs": [],
   "source": [
    "election_pres = election_pres[(election_pres.office==\"US President\")]"
   ]
  },
  {
   "cell_type": "code",
   "execution_count": 210,
   "metadata": {},
   "outputs": [],
   "source": [
    "#concat both election tables to then pivot\n",
    "frames = [election_state, election_pres]\n",
    "election = pd.concat(frames)"
   ]
  },
  {
   "cell_type": "code",
   "execution_count": 211,
   "metadata": {},
   "outputs": [
    {
     "data": {
      "text/html": [
       "<div>\n",
       "<style scoped>\n",
       "    .dataframe tbody tr th:only-of-type {\n",
       "        vertical-align: middle;\n",
       "    }\n",
       "\n",
       "    .dataframe tbody tr th {\n",
       "        vertical-align: top;\n",
       "    }\n",
       "\n",
       "    .dataframe thead th {\n",
       "        text-align: right;\n",
       "    }\n",
       "</style>\n",
       "<table border=\"1\" class=\"dataframe\">\n",
       "  <thead>\n",
       "    <tr style=\"text-align: right;\">\n",
       "      <th></th>\n",
       "      <th>year</th>\n",
       "      <th>stage</th>\n",
       "      <th>special</th>\n",
       "      <th>state</th>\n",
       "      <th>state_postal</th>\n",
       "      <th>state_fips</th>\n",
       "      <th>state_icpsr</th>\n",
       "      <th>county_name</th>\n",
       "      <th>county_fips</th>\n",
       "      <th>county_ansi</th>\n",
       "      <th>...</th>\n",
       "      <th>candidate_middle</th>\n",
       "      <th>candidate_full</th>\n",
       "      <th>candidate_suffix</th>\n",
       "      <th>candidate_nickname</th>\n",
       "      <th>candidate_fec</th>\n",
       "      <th>candidate_fec_name</th>\n",
       "      <th>candidate_google</th>\n",
       "      <th>candidate_govtrack</th>\n",
       "      <th>candidate_icpsr</th>\n",
       "      <th>candidate_maplight</th>\n",
       "    </tr>\n",
       "  </thead>\n",
       "  <tbody>\n",
       "    <tr>\n",
       "      <th>2271182</th>\n",
       "      <td>2016</td>\n",
       "      <td>gen</td>\n",
       "      <td>False</td>\n",
       "      <td>Georgia</td>\n",
       "      <td>GA</td>\n",
       "      <td>13</td>\n",
       "      <td>44</td>\n",
       "      <td>Appling County</td>\n",
       "      <td>13001.0</td>\n",
       "      <td>349113.0</td>\n",
       "      <td>...</td>\n",
       "      <td>NaN</td>\n",
       "      <td>NaN</td>\n",
       "      <td>NaN</td>\n",
       "      <td>NaN</td>\n",
       "      <td>NaN</td>\n",
       "      <td>NaN</td>\n",
       "      <td>NaN</td>\n",
       "      <td>NaN</td>\n",
       "      <td>NaN</td>\n",
       "      <td>NaN</td>\n",
       "    </tr>\n",
       "    <tr>\n",
       "      <th>2271183</th>\n",
       "      <td>2016</td>\n",
       "      <td>gen</td>\n",
       "      <td>False</td>\n",
       "      <td>Georgia</td>\n",
       "      <td>GA</td>\n",
       "      <td>13</td>\n",
       "      <td>44</td>\n",
       "      <td>Appling County</td>\n",
       "      <td>13001.0</td>\n",
       "      <td>349113.0</td>\n",
       "      <td>...</td>\n",
       "      <td>NaN</td>\n",
       "      <td>NaN</td>\n",
       "      <td>NaN</td>\n",
       "      <td>NaN</td>\n",
       "      <td>NaN</td>\n",
       "      <td>NaN</td>\n",
       "      <td>NaN</td>\n",
       "      <td>NaN</td>\n",
       "      <td>NaN</td>\n",
       "      <td>NaN</td>\n",
       "    </tr>\n",
       "    <tr>\n",
       "      <th>2271184</th>\n",
       "      <td>2016</td>\n",
       "      <td>gen</td>\n",
       "      <td>False</td>\n",
       "      <td>Georgia</td>\n",
       "      <td>GA</td>\n",
       "      <td>13</td>\n",
       "      <td>44</td>\n",
       "      <td>Appling County</td>\n",
       "      <td>13001.0</td>\n",
       "      <td>349113.0</td>\n",
       "      <td>...</td>\n",
       "      <td>NaN</td>\n",
       "      <td>NaN</td>\n",
       "      <td>NaN</td>\n",
       "      <td>NaN</td>\n",
       "      <td>NaN</td>\n",
       "      <td>NaN</td>\n",
       "      <td>NaN</td>\n",
       "      <td>NaN</td>\n",
       "      <td>NaN</td>\n",
       "      <td>NaN</td>\n",
       "    </tr>\n",
       "    <tr>\n",
       "      <th>2271185</th>\n",
       "      <td>2016</td>\n",
       "      <td>gen</td>\n",
       "      <td>False</td>\n",
       "      <td>Georgia</td>\n",
       "      <td>GA</td>\n",
       "      <td>13</td>\n",
       "      <td>44</td>\n",
       "      <td>Appling County</td>\n",
       "      <td>13001.0</td>\n",
       "      <td>349113.0</td>\n",
       "      <td>...</td>\n",
       "      <td>NaN</td>\n",
       "      <td>NaN</td>\n",
       "      <td>NaN</td>\n",
       "      <td>NaN</td>\n",
       "      <td>NaN</td>\n",
       "      <td>NaN</td>\n",
       "      <td>NaN</td>\n",
       "      <td>NaN</td>\n",
       "      <td>NaN</td>\n",
       "      <td>NaN</td>\n",
       "    </tr>\n",
       "    <tr>\n",
       "      <th>2271234</th>\n",
       "      <td>2016</td>\n",
       "      <td>gen</td>\n",
       "      <td>False</td>\n",
       "      <td>Georgia</td>\n",
       "      <td>GA</td>\n",
       "      <td>13</td>\n",
       "      <td>44</td>\n",
       "      <td>Appling County</td>\n",
       "      <td>13001.0</td>\n",
       "      <td>349113.0</td>\n",
       "      <td>...</td>\n",
       "      <td>NaN</td>\n",
       "      <td>NaN</td>\n",
       "      <td>NaN</td>\n",
       "      <td>NaN</td>\n",
       "      <td>NaN</td>\n",
       "      <td>NaN</td>\n",
       "      <td>NaN</td>\n",
       "      <td>NaN</td>\n",
       "      <td>NaN</td>\n",
       "      <td>NaN</td>\n",
       "    </tr>\n",
       "  </tbody>\n",
       "</table>\n",
       "<p>5 rows × 37 columns</p>\n",
       "</div>"
      ],
      "text/plain": [
       "         year stage  special    state state_postal  state_fips  state_icpsr  \\\n",
       "2271182  2016   gen    False  Georgia           GA          13           44   \n",
       "2271183  2016   gen    False  Georgia           GA          13           44   \n",
       "2271184  2016   gen    False  Georgia           GA          13           44   \n",
       "2271185  2016   gen    False  Georgia           GA          13           44   \n",
       "2271234  2016   gen    False  Georgia           GA          13           44   \n",
       "\n",
       "            county_name  county_fips  county_ansi  ...  candidate_middle  \\\n",
       "2271182  Appling County      13001.0     349113.0  ...               NaN   \n",
       "2271183  Appling County      13001.0     349113.0  ...               NaN   \n",
       "2271184  Appling County      13001.0     349113.0  ...               NaN   \n",
       "2271185  Appling County      13001.0     349113.0  ...               NaN   \n",
       "2271234  Appling County      13001.0     349113.0  ...               NaN   \n",
       "\n",
       "         candidate_full candidate_suffix candidate_nickname candidate_fec  \\\n",
       "2271182             NaN              NaN                NaN           NaN   \n",
       "2271183             NaN              NaN                NaN           NaN   \n",
       "2271184             NaN              NaN                NaN           NaN   \n",
       "2271185             NaN              NaN                NaN           NaN   \n",
       "2271234             NaN              NaN                NaN           NaN   \n",
       "\n",
       "        candidate_fec_name candidate_google candidate_govtrack  \\\n",
       "2271182                NaN              NaN                NaN   \n",
       "2271183                NaN              NaN                NaN   \n",
       "2271184                NaN              NaN                NaN   \n",
       "2271185                NaN              NaN                NaN   \n",
       "2271234                NaN              NaN                NaN   \n",
       "\n",
       "         candidate_icpsr candidate_maplight  \n",
       "2271182              NaN                NaN  \n",
       "2271183              NaN                NaN  \n",
       "2271184              NaN                NaN  \n",
       "2271185              NaN                NaN  \n",
       "2271234              NaN                NaN  \n",
       "\n",
       "[5 rows x 37 columns]"
      ]
     },
     "execution_count": 211,
     "metadata": {},
     "output_type": "execute_result"
    }
   ],
   "source": [
    "election.head()"
   ]
  },
  {
   "cell_type": "code",
   "execution_count": 212,
   "metadata": {},
   "outputs": [
    {
     "data": {
      "text/plain": [
       "Index(['year', 'stage', 'special', 'state', 'state_postal', 'state_fips',\n",
       "       'state_icpsr', 'county_name', 'county_fips', 'county_ansi',\n",
       "       'county_lat', 'county_long', 'jurisdiction', 'precinct', 'candidate',\n",
       "       'candidate_normalized', 'office', 'district', 'writein', 'party',\n",
       "       'mode', 'votes', 'candidate_opensecrets', 'candidate_wikidata',\n",
       "       'candidate_party', 'candidate_last', 'candidate_first',\n",
       "       'candidate_middle', 'candidate_full', 'candidate_suffix',\n",
       "       'candidate_nickname', 'candidate_fec', 'candidate_fec_name',\n",
       "       'candidate_google', 'candidate_govtrack', 'candidate_icpsr',\n",
       "       'candidate_maplight'],\n",
       "      dtype='object')"
      ]
     },
     "execution_count": 212,
     "metadata": {},
     "output_type": "execute_result"
    }
   ],
   "source": [
    "election.columns"
   ]
  },
  {
   "cell_type": "code",
   "execution_count": 245,
   "metadata": {},
   "outputs": [
    {
     "ename": "KeyError",
     "evalue": "\"['state' 'special' 'candidate_opensecrets' 'candidate_wikidata'\\n 'candidate_last' 'candidate_first' 'candidate_middle' 'candidate_full'\\n 'candidate_suffix' 'candidate_nickname' 'candidate_fec'\\n 'candidate_fec_name' 'candidate_google' 'candidate_govtrack'\\n 'candidate_icpsr' 'candidate_maplight'] not found in axis\"",
     "output_type": "error",
     "traceback": [
      "\u001b[0;31m---------------------------------------------------------------------------\u001b[0m",
      "\u001b[0;31mKeyError\u001b[0m                                  Traceback (most recent call last)",
      "\u001b[0;32m<ipython-input-245-53a5f82e885d>\u001b[0m in \u001b[0;36m<module>\u001b[0;34m\u001b[0m\n\u001b[0;32m----> 1\u001b[0;31m election = election.drop(columns=['state','special','candidate_opensecrets', 'candidate_wikidata',\n\u001b[0m\u001b[1;32m      2\u001b[0m                        \u001b[0;34m'candidate_last'\u001b[0m\u001b[0;34m,\u001b[0m \u001b[0;34m'candidate_first'\u001b[0m\u001b[0;34m,\u001b[0m\u001b[0;34m\u001b[0m\u001b[0;34m\u001b[0m\u001b[0m\n\u001b[1;32m      3\u001b[0m        \u001b[0;34m'candidate_middle'\u001b[0m\u001b[0;34m,\u001b[0m \u001b[0;34m'candidate_full'\u001b[0m\u001b[0;34m,\u001b[0m \u001b[0;34m'candidate_suffix'\u001b[0m\u001b[0;34m,\u001b[0m\u001b[0;34m\u001b[0m\u001b[0;34m\u001b[0m\u001b[0m\n\u001b[1;32m      4\u001b[0m        \u001b[0;34m'candidate_nickname'\u001b[0m\u001b[0;34m,\u001b[0m \u001b[0;34m'candidate_fec'\u001b[0m\u001b[0;34m,\u001b[0m \u001b[0;34m'candidate_fec_name'\u001b[0m\u001b[0;34m,\u001b[0m\u001b[0;34m\u001b[0m\u001b[0;34m\u001b[0m\u001b[0m\n\u001b[1;32m      5\u001b[0m        \u001b[0;34m'candidate_google'\u001b[0m\u001b[0;34m,\u001b[0m \u001b[0;34m'candidate_govtrack'\u001b[0m\u001b[0;34m,\u001b[0m \u001b[0;34m'candidate_icpsr'\u001b[0m\u001b[0;34m,\u001b[0m\u001b[0;34m\u001b[0m\u001b[0;34m\u001b[0m\u001b[0m\n",
      "\u001b[0;32m~/opt/anaconda3/envs/myenv/lib/python3.8/site-packages/pandas/core/frame.py\u001b[0m in \u001b[0;36mdrop\u001b[0;34m(self, labels, axis, index, columns, level, inplace, errors)\u001b[0m\n\u001b[1;32m   3988\u001b[0m                 \u001b[0mweight\u001b[0m  \u001b[0;36m1.0\u001b[0m     \u001b[0;36m0.8\u001b[0m\u001b[0;34m\u001b[0m\u001b[0;34m\u001b[0m\u001b[0m\n\u001b[1;32m   3989\u001b[0m         \"\"\"\n\u001b[0;32m-> 3990\u001b[0;31m         return super().drop(\n\u001b[0m\u001b[1;32m   3991\u001b[0m             \u001b[0mlabels\u001b[0m\u001b[0;34m=\u001b[0m\u001b[0mlabels\u001b[0m\u001b[0;34m,\u001b[0m\u001b[0;34m\u001b[0m\u001b[0;34m\u001b[0m\u001b[0m\n\u001b[1;32m   3992\u001b[0m             \u001b[0maxis\u001b[0m\u001b[0;34m=\u001b[0m\u001b[0maxis\u001b[0m\u001b[0;34m,\u001b[0m\u001b[0;34m\u001b[0m\u001b[0;34m\u001b[0m\u001b[0m\n",
      "\u001b[0;32m~/opt/anaconda3/envs/myenv/lib/python3.8/site-packages/pandas/core/generic.py\u001b[0m in \u001b[0;36mdrop\u001b[0;34m(self, labels, axis, index, columns, level, inplace, errors)\u001b[0m\n\u001b[1;32m   3934\u001b[0m         \u001b[0;32mfor\u001b[0m \u001b[0maxis\u001b[0m\u001b[0;34m,\u001b[0m \u001b[0mlabels\u001b[0m \u001b[0;32min\u001b[0m \u001b[0maxes\u001b[0m\u001b[0;34m.\u001b[0m\u001b[0mitems\u001b[0m\u001b[0;34m(\u001b[0m\u001b[0;34m)\u001b[0m\u001b[0;34m:\u001b[0m\u001b[0;34m\u001b[0m\u001b[0;34m\u001b[0m\u001b[0m\n\u001b[1;32m   3935\u001b[0m             \u001b[0;32mif\u001b[0m \u001b[0mlabels\u001b[0m \u001b[0;32mis\u001b[0m \u001b[0;32mnot\u001b[0m \u001b[0;32mNone\u001b[0m\u001b[0;34m:\u001b[0m\u001b[0;34m\u001b[0m\u001b[0;34m\u001b[0m\u001b[0m\n\u001b[0;32m-> 3936\u001b[0;31m                 \u001b[0mobj\u001b[0m \u001b[0;34m=\u001b[0m \u001b[0mobj\u001b[0m\u001b[0;34m.\u001b[0m\u001b[0m_drop_axis\u001b[0m\u001b[0;34m(\u001b[0m\u001b[0mlabels\u001b[0m\u001b[0;34m,\u001b[0m \u001b[0maxis\u001b[0m\u001b[0;34m,\u001b[0m \u001b[0mlevel\u001b[0m\u001b[0;34m=\u001b[0m\u001b[0mlevel\u001b[0m\u001b[0;34m,\u001b[0m \u001b[0merrors\u001b[0m\u001b[0;34m=\u001b[0m\u001b[0merrors\u001b[0m\u001b[0;34m)\u001b[0m\u001b[0;34m\u001b[0m\u001b[0;34m\u001b[0m\u001b[0m\n\u001b[0m\u001b[1;32m   3937\u001b[0m \u001b[0;34m\u001b[0m\u001b[0m\n\u001b[1;32m   3938\u001b[0m         \u001b[0;32mif\u001b[0m \u001b[0minplace\u001b[0m\u001b[0;34m:\u001b[0m\u001b[0;34m\u001b[0m\u001b[0;34m\u001b[0m\u001b[0m\n",
      "\u001b[0;32m~/opt/anaconda3/envs/myenv/lib/python3.8/site-packages/pandas/core/generic.py\u001b[0m in \u001b[0;36m_drop_axis\u001b[0;34m(self, labels, axis, level, errors)\u001b[0m\n\u001b[1;32m   3968\u001b[0m                 \u001b[0mnew_axis\u001b[0m \u001b[0;34m=\u001b[0m \u001b[0maxis\u001b[0m\u001b[0;34m.\u001b[0m\u001b[0mdrop\u001b[0m\u001b[0;34m(\u001b[0m\u001b[0mlabels\u001b[0m\u001b[0;34m,\u001b[0m \u001b[0mlevel\u001b[0m\u001b[0;34m=\u001b[0m\u001b[0mlevel\u001b[0m\u001b[0;34m,\u001b[0m \u001b[0merrors\u001b[0m\u001b[0;34m=\u001b[0m\u001b[0merrors\u001b[0m\u001b[0;34m)\u001b[0m\u001b[0;34m\u001b[0m\u001b[0;34m\u001b[0m\u001b[0m\n\u001b[1;32m   3969\u001b[0m             \u001b[0;32melse\u001b[0m\u001b[0;34m:\u001b[0m\u001b[0;34m\u001b[0m\u001b[0;34m\u001b[0m\u001b[0m\n\u001b[0;32m-> 3970\u001b[0;31m                 \u001b[0mnew_axis\u001b[0m \u001b[0;34m=\u001b[0m \u001b[0maxis\u001b[0m\u001b[0;34m.\u001b[0m\u001b[0mdrop\u001b[0m\u001b[0;34m(\u001b[0m\u001b[0mlabels\u001b[0m\u001b[0;34m,\u001b[0m \u001b[0merrors\u001b[0m\u001b[0;34m=\u001b[0m\u001b[0merrors\u001b[0m\u001b[0;34m)\u001b[0m\u001b[0;34m\u001b[0m\u001b[0;34m\u001b[0m\u001b[0m\n\u001b[0m\u001b[1;32m   3971\u001b[0m             \u001b[0mresult\u001b[0m \u001b[0;34m=\u001b[0m \u001b[0mself\u001b[0m\u001b[0;34m.\u001b[0m\u001b[0mreindex\u001b[0m\u001b[0;34m(\u001b[0m\u001b[0;34m**\u001b[0m\u001b[0;34m{\u001b[0m\u001b[0maxis_name\u001b[0m\u001b[0;34m:\u001b[0m \u001b[0mnew_axis\u001b[0m\u001b[0;34m}\u001b[0m\u001b[0;34m)\u001b[0m\u001b[0;34m\u001b[0m\u001b[0;34m\u001b[0m\u001b[0m\n\u001b[1;32m   3972\u001b[0m \u001b[0;34m\u001b[0m\u001b[0m\n",
      "\u001b[0;32m~/opt/anaconda3/envs/myenv/lib/python3.8/site-packages/pandas/core/indexes/base.py\u001b[0m in \u001b[0;36mdrop\u001b[0;34m(self, labels, errors)\u001b[0m\n\u001b[1;32m   5015\u001b[0m         \u001b[0;32mif\u001b[0m \u001b[0mmask\u001b[0m\u001b[0;34m.\u001b[0m\u001b[0many\u001b[0m\u001b[0;34m(\u001b[0m\u001b[0;34m)\u001b[0m\u001b[0;34m:\u001b[0m\u001b[0;34m\u001b[0m\u001b[0;34m\u001b[0m\u001b[0m\n\u001b[1;32m   5016\u001b[0m             \u001b[0;32mif\u001b[0m \u001b[0merrors\u001b[0m \u001b[0;34m!=\u001b[0m \u001b[0;34m\"ignore\"\u001b[0m\u001b[0;34m:\u001b[0m\u001b[0;34m\u001b[0m\u001b[0;34m\u001b[0m\u001b[0m\n\u001b[0;32m-> 5017\u001b[0;31m                 \u001b[0;32mraise\u001b[0m \u001b[0mKeyError\u001b[0m\u001b[0;34m(\u001b[0m\u001b[0;34mf\"{labels[mask]} not found in axis\"\u001b[0m\u001b[0;34m)\u001b[0m\u001b[0;34m\u001b[0m\u001b[0;34m\u001b[0m\u001b[0m\n\u001b[0m\u001b[1;32m   5018\u001b[0m             \u001b[0mindexer\u001b[0m \u001b[0;34m=\u001b[0m \u001b[0mindexer\u001b[0m\u001b[0;34m[\u001b[0m\u001b[0;34m~\u001b[0m\u001b[0mmask\u001b[0m\u001b[0;34m]\u001b[0m\u001b[0;34m\u001b[0m\u001b[0;34m\u001b[0m\u001b[0m\n\u001b[1;32m   5019\u001b[0m         \u001b[0;32mreturn\u001b[0m \u001b[0mself\u001b[0m\u001b[0;34m.\u001b[0m\u001b[0mdelete\u001b[0m\u001b[0;34m(\u001b[0m\u001b[0mindexer\u001b[0m\u001b[0;34m)\u001b[0m\u001b[0;34m\u001b[0m\u001b[0;34m\u001b[0m\u001b[0m\n",
      "\u001b[0;31mKeyError\u001b[0m: \"['state' 'special' 'candidate_opensecrets' 'candidate_wikidata'\\n 'candidate_last' 'candidate_first' 'candidate_middle' 'candidate_full'\\n 'candidate_suffix' 'candidate_nickname' 'candidate_fec'\\n 'candidate_fec_name' 'candidate_google' 'candidate_govtrack'\\n 'candidate_icpsr' 'candidate_maplight'] not found in axis\""
     ]
    }
   ],
   "source": [
    "election = election.drop(columns=['state','special','candidate_opensecrets',\n",
    "                                  'candidate_wikidata','candidate_last', 'candidate_first',\n",
    "       'candidate_middle', 'candidate_full', 'candidate_suffix',\n",
    "       'candidate_nickname', 'candidate_fec', 'candidate_fec_name',\n",
    "       'candidate_google', 'candidate_govtrack', 'candidate_icpsr',\n",
    "       'candidate_maplight','candidate','candidate_normalized','candidate',\n",
    "                                  'candidate_normalized',\n",
    "                                 'mode'])"
   ]
  },
  {
   "cell_type": "code",
   "execution_count": 257,
   "metadata": {},
   "outputs": [
    {
     "data": {
      "text/plain": [
       "Index(['year', 'stage', 'state_postal', 'state_fips', 'state_icpsr',\n",
       "       'county_name', 'county_fips', 'county_ansi', 'county_lat',\n",
       "       'county_long', 'jurisdiction', 'precinct', 'office', 'district',\n",
       "       'writein', 'party', 'votes', 'candidate_party'],\n",
       "      dtype='object')"
      ]
     },
     "execution_count": 257,
     "metadata": {},
     "output_type": "execute_result"
    }
   ],
   "source": [
    "election.columns"
   ]
  },
  {
   "cell_type": "code",
   "execution_count": 265,
   "metadata": {},
   "outputs": [
    {
     "data": {
      "text/html": [
       "<div>\n",
       "<style scoped>\n",
       "    .dataframe tbody tr th:only-of-type {\n",
       "        vertical-align: middle;\n",
       "    }\n",
       "\n",
       "    .dataframe tbody tr th {\n",
       "        vertical-align: top;\n",
       "    }\n",
       "\n",
       "    .dataframe thead th {\n",
       "        text-align: right;\n",
       "    }\n",
       "</style>\n",
       "<table border=\"1\" class=\"dataframe\">\n",
       "  <thead>\n",
       "    <tr style=\"text-align: right;\">\n",
       "      <th></th>\n",
       "      <th>year</th>\n",
       "      <th>stage</th>\n",
       "      <th>state_postal</th>\n",
       "      <th>state_fips</th>\n",
       "      <th>state_icpsr</th>\n",
       "      <th>county_name</th>\n",
       "      <th>county_fips</th>\n",
       "      <th>county_ansi</th>\n",
       "      <th>county_lat</th>\n",
       "      <th>county_long</th>\n",
       "      <th>jurisdiction</th>\n",
       "      <th>precinct</th>\n",
       "      <th>office</th>\n",
       "      <th>district</th>\n",
       "      <th>writein</th>\n",
       "      <th>party</th>\n",
       "      <th>votes</th>\n",
       "      <th>candidate_party</th>\n",
       "    </tr>\n",
       "  </thead>\n",
       "  <tbody>\n",
       "    <tr>\n",
       "      <th>2271182</th>\n",
       "      <td>2016</td>\n",
       "      <td>gen</td>\n",
       "      <td>GA</td>\n",
       "      <td>13</td>\n",
       "      <td>44</td>\n",
       "      <td>Appling County</td>\n",
       "      <td>13001.0</td>\n",
       "      <td>349113.0</td>\n",
       "      <td>31.73971</td>\n",
       "      <td>-82.2901</td>\n",
       "      <td>Appling</td>\n",
       "      <td>2</td>\n",
       "      <td>State Senate</td>\n",
       "      <td>19</td>\n",
       "      <td>False</td>\n",
       "      <td>republican</td>\n",
       "      <td>353</td>\n",
       "      <td>NaN</td>\n",
       "    </tr>\n",
       "    <tr>\n",
       "      <th>2271183</th>\n",
       "      <td>2016</td>\n",
       "      <td>gen</td>\n",
       "      <td>GA</td>\n",
       "      <td>13</td>\n",
       "      <td>44</td>\n",
       "      <td>Appling County</td>\n",
       "      <td>13001.0</td>\n",
       "      <td>349113.0</td>\n",
       "      <td>31.73971</td>\n",
       "      <td>-82.2901</td>\n",
       "      <td>Appling</td>\n",
       "      <td>2</td>\n",
       "      <td>State Senate</td>\n",
       "      <td>19</td>\n",
       "      <td>False</td>\n",
       "      <td>republican</td>\n",
       "      <td>59</td>\n",
       "      <td>NaN</td>\n",
       "    </tr>\n",
       "    <tr>\n",
       "      <th>2271184</th>\n",
       "      <td>2016</td>\n",
       "      <td>gen</td>\n",
       "      <td>GA</td>\n",
       "      <td>13</td>\n",
       "      <td>44</td>\n",
       "      <td>Appling County</td>\n",
       "      <td>13001.0</td>\n",
       "      <td>349113.0</td>\n",
       "      <td>31.73971</td>\n",
       "      <td>-82.2901</td>\n",
       "      <td>Appling</td>\n",
       "      <td>2</td>\n",
       "      <td>State Senate</td>\n",
       "      <td>19</td>\n",
       "      <td>False</td>\n",
       "      <td>republican</td>\n",
       "      <td>279</td>\n",
       "      <td>NaN</td>\n",
       "    </tr>\n",
       "    <tr>\n",
       "      <th>2271185</th>\n",
       "      <td>2016</td>\n",
       "      <td>gen</td>\n",
       "      <td>GA</td>\n",
       "      <td>13</td>\n",
       "      <td>44</td>\n",
       "      <td>Appling County</td>\n",
       "      <td>13001.0</td>\n",
       "      <td>349113.0</td>\n",
       "      <td>31.73971</td>\n",
       "      <td>-82.2901</td>\n",
       "      <td>Appling</td>\n",
       "      <td>2</td>\n",
       "      <td>State Senate</td>\n",
       "      <td>19</td>\n",
       "      <td>False</td>\n",
       "      <td>republican</td>\n",
       "      <td>0</td>\n",
       "      <td>NaN</td>\n",
       "    </tr>\n",
       "    <tr>\n",
       "      <th>2271234</th>\n",
       "      <td>2016</td>\n",
       "      <td>gen</td>\n",
       "      <td>GA</td>\n",
       "      <td>13</td>\n",
       "      <td>44</td>\n",
       "      <td>Appling County</td>\n",
       "      <td>13001.0</td>\n",
       "      <td>349113.0</td>\n",
       "      <td>31.73971</td>\n",
       "      <td>-82.2901</td>\n",
       "      <td>Appling</td>\n",
       "      <td>3C</td>\n",
       "      <td>State Senate</td>\n",
       "      <td>19</td>\n",
       "      <td>False</td>\n",
       "      <td>republican</td>\n",
       "      <td>285</td>\n",
       "      <td>NaN</td>\n",
       "    </tr>\n",
       "  </tbody>\n",
       "</table>\n",
       "</div>"
      ],
      "text/plain": [
       "         year stage state_postal  state_fips  state_icpsr     county_name  \\\n",
       "2271182  2016   gen           GA          13           44  Appling County   \n",
       "2271183  2016   gen           GA          13           44  Appling County   \n",
       "2271184  2016   gen           GA          13           44  Appling County   \n",
       "2271185  2016   gen           GA          13           44  Appling County   \n",
       "2271234  2016   gen           GA          13           44  Appling County   \n",
       "\n",
       "         county_fips  county_ansi  county_lat  county_long jurisdiction  \\\n",
       "2271182      13001.0     349113.0    31.73971     -82.2901      Appling   \n",
       "2271183      13001.0     349113.0    31.73971     -82.2901      Appling   \n",
       "2271184      13001.0     349113.0    31.73971     -82.2901      Appling   \n",
       "2271185      13001.0     349113.0    31.73971     -82.2901      Appling   \n",
       "2271234      13001.0     349113.0    31.73971     -82.2901      Appling   \n",
       "\n",
       "        precinct        office district  writein       party  votes  \\\n",
       "2271182        2  State Senate       19    False  republican    353   \n",
       "2271183        2  State Senate       19    False  republican     59   \n",
       "2271184        2  State Senate       19    False  republican    279   \n",
       "2271185        2  State Senate       19    False  republican      0   \n",
       "2271234       3C  State Senate       19    False  republican    285   \n",
       "\n",
       "         candidate_party  \n",
       "2271182              NaN  \n",
       "2271183              NaN  \n",
       "2271184              NaN  \n",
       "2271185              NaN  \n",
       "2271234              NaN  "
      ]
     },
     "execution_count": 265,
     "metadata": {},
     "output_type": "execute_result"
    }
   ],
   "source": [
    "\n",
    "pd.options.display.max_columns = None\n",
    "pd.options.display.max_rows = None\n",
    "election.head()\n"
   ]
  },
  {
   "cell_type": "code",
   "execution_count": 276,
   "metadata": {},
   "outputs": [
    {
     "data": {
      "text/plain": [
       "array(['131', '064', '061', ..., '197', '990', '833'], dtype=object)"
      ]
     },
     "execution_count": 276,
     "metadata": {},
     "output_type": "execute_result"
    }
   ],
   "source": [
    "precincts.PRECINCT_I.unique()"
   ]
  },
  {
   "cell_type": "code",
   "execution_count": 277,
   "metadata": {},
   "outputs": [
    {
     "data": {
      "text/plain": [
       "1654"
      ]
     },
     "execution_count": 277,
     "metadata": {},
     "output_type": "execute_result"
    }
   ],
   "source": [
    "precincts.PRECINCT_I.nunique()"
   ]
  },
  {
   "cell_type": "code",
   "execution_count": 272,
   "metadata": {},
   "outputs": [
    {
     "data": {
      "text/plain": [
       "2664"
      ]
     },
     "execution_count": 272,
     "metadata": {},
     "output_type": "execute_result"
    }
   ],
   "source": [
    "precincts.PRECINCT_I.count()"
   ]
  },
  {
   "cell_type": "code",
   "execution_count": 278,
   "metadata": {},
   "outputs": [
    {
     "data": {
      "text/plain": [
       "2630"
      ]
     },
     "execution_count": 278,
     "metadata": {},
     "output_type": "execute_result"
    }
   ],
   "source": [
    "election.precinct.nunique()"
   ]
  },
  {
   "cell_type": "code",
   "execution_count": 275,
   "metadata": {},
   "outputs": [
    {
     "data": {
      "text/plain": [
       "array(['2', '3C', '4B', ..., 'Sylver East', 'Sylvester', 'Warwick'],\n",
       "      dtype=object)"
      ]
     },
     "execution_count": 275,
     "metadata": {},
     "output_type": "execute_result"
    }
   ],
   "source": [
    "election.precinct.unique()"
   ]
  },
  {
   "cell_type": "code",
   "execution_count": 273,
   "metadata": {},
   "outputs": [
    {
     "data": {
      "text/plain": [
       "46426"
      ]
     },
     "execution_count": 273,
     "metadata": {},
     "output_type": "execute_result"
    }
   ],
   "source": [
    "election.precinct.count()"
   ]
  },
  {
   "cell_type": "code",
   "execution_count": 266,
   "metadata": {},
   "outputs": [
    {
     "data": {
      "text/html": [
       "<div>\n",
       "<style scoped>\n",
       "    .dataframe tbody tr th:only-of-type {\n",
       "        vertical-align: middle;\n",
       "    }\n",
       "\n",
       "    .dataframe tbody tr th {\n",
       "        vertical-align: top;\n",
       "    }\n",
       "\n",
       "    .dataframe thead th {\n",
       "        text-align: right;\n",
       "    }\n",
       "</style>\n",
       "<table border=\"1\" class=\"dataframe\">\n",
       "  <thead>\n",
       "    <tr style=\"text-align: right;\">\n",
       "      <th></th>\n",
       "      <th>ID</th>\n",
       "      <th>AREA</th>\n",
       "      <th>DATA</th>\n",
       "      <th>POPULATION</th>\n",
       "      <th>DISTRICT</th>\n",
       "      <th>CTYSOSID</th>\n",
       "      <th>PRECINCT_I</th>\n",
       "      <th>PRECINCT_N</th>\n",
       "      <th>CTYNUMBER</th>\n",
       "      <th>COUNTY</th>\n",
       "      <th>CTYNAME</th>\n",
       "      <th>FIPS1</th>\n",
       "      <th>FIPS2</th>\n",
       "      <th>COUNTY_NAM</th>\n",
       "      <th>geometry</th>\n",
       "    </tr>\n",
       "  </thead>\n",
       "  <tbody>\n",
       "    <tr>\n",
       "      <th>0</th>\n",
       "      <td>6094217</td>\n",
       "      <td>1.864348</td>\n",
       "      <td>690</td>\n",
       "      <td>1013</td>\n",
       "      <td>073131</td>\n",
       "      <td>073131</td>\n",
       "      <td>131</td>\n",
       "      <td>JOURNEY COMM. CHURCH</td>\n",
       "      <td>36</td>\n",
       "      <td>036</td>\n",
       "      <td>Columbia</td>\n",
       "      <td>13073</td>\n",
       "      <td>073</td>\n",
       "      <td>COLUMBIA</td>\n",
       "      <td>POLYGON ((-82.14546 33.57854, -82.14520 33.578...</td>\n",
       "    </tr>\n",
       "    <tr>\n",
       "      <th>1</th>\n",
       "      <td>6094266</td>\n",
       "      <td>1.636596</td>\n",
       "      <td>714</td>\n",
       "      <td>3858</td>\n",
       "      <td>073064</td>\n",
       "      <td>073064</td>\n",
       "      <td>064</td>\n",
       "      <td>GRACE BAPTIST CHURCH</td>\n",
       "      <td>36</td>\n",
       "      <td>036</td>\n",
       "      <td>Columbia</td>\n",
       "      <td>13073</td>\n",
       "      <td>073</td>\n",
       "      <td>COLUMBIA</td>\n",
       "      <td>POLYGON ((-82.16342 33.57423, -82.16364 33.574...</td>\n",
       "    </tr>\n",
       "    <tr>\n",
       "      <th>2</th>\n",
       "      <td>6094297</td>\n",
       "      <td>5.598643</td>\n",
       "      <td>711</td>\n",
       "      <td>1920</td>\n",
       "      <td>073061</td>\n",
       "      <td>073061</td>\n",
       "      <td>061</td>\n",
       "      <td>GREENBRIER HIGH</td>\n",
       "      <td>36</td>\n",
       "      <td>036</td>\n",
       "      <td>Columbia</td>\n",
       "      <td>13073</td>\n",
       "      <td>073</td>\n",
       "      <td>COLUMBIA</td>\n",
       "      <td>POLYGON ((-82.16581 33.56498, -82.16577 33.564...</td>\n",
       "    </tr>\n",
       "    <tr>\n",
       "      <th>3</th>\n",
       "      <td>6094341</td>\n",
       "      <td>0.872412</td>\n",
       "      <td>713</td>\n",
       "      <td>1770</td>\n",
       "      <td>073063</td>\n",
       "      <td>073063</td>\n",
       "      <td>063</td>\n",
       "      <td>RIVERSIDE ELEMENTARY</td>\n",
       "      <td>36</td>\n",
       "      <td>036</td>\n",
       "      <td>Columbia</td>\n",
       "      <td>13073</td>\n",
       "      <td>073</td>\n",
       "      <td>COLUMBIA</td>\n",
       "      <td>POLYGON ((-82.13909 33.57592, -82.13914 33.575...</td>\n",
       "    </tr>\n",
       "    <tr>\n",
       "      <th>4</th>\n",
       "      <td>6094377</td>\n",
       "      <td>3.783726</td>\n",
       "      <td>691</td>\n",
       "      <td>3131</td>\n",
       "      <td>073132</td>\n",
       "      <td>073132</td>\n",
       "      <td>132</td>\n",
       "      <td>WESLEY METHODIST</td>\n",
       "      <td>36</td>\n",
       "      <td>036</td>\n",
       "      <td>Columbia</td>\n",
       "      <td>13073</td>\n",
       "      <td>073</td>\n",
       "      <td>COLUMBIA</td>\n",
       "      <td>POLYGON ((-82.14330 33.57348, -82.14300 33.573...</td>\n",
       "    </tr>\n",
       "  </tbody>\n",
       "</table>\n",
       "</div>"
      ],
      "text/plain": [
       "        ID      AREA  DATA  POPULATION DISTRICT CTYSOSID PRECINCT_I  \\\n",
       "0  6094217  1.864348   690        1013   073131   073131        131   \n",
       "1  6094266  1.636596   714        3858   073064   073064        064   \n",
       "2  6094297  5.598643   711        1920   073061   073061        061   \n",
       "3  6094341  0.872412   713        1770   073063   073063        063   \n",
       "4  6094377  3.783726   691        3131   073132   073132        132   \n",
       "\n",
       "             PRECINCT_N CTYNUMBER COUNTY   CTYNAME  FIPS1 FIPS2 COUNTY_NAM  \\\n",
       "0  JOURNEY COMM. CHURCH        36    036  Columbia  13073   073   COLUMBIA   \n",
       "1  GRACE BAPTIST CHURCH        36    036  Columbia  13073   073   COLUMBIA   \n",
       "2       GREENBRIER HIGH        36    036  Columbia  13073   073   COLUMBIA   \n",
       "3  RIVERSIDE ELEMENTARY        36    036  Columbia  13073   073   COLUMBIA   \n",
       "4      WESLEY METHODIST        36    036  Columbia  13073   073   COLUMBIA   \n",
       "\n",
       "                                            geometry  \n",
       "0  POLYGON ((-82.14546 33.57854, -82.14520 33.578...  \n",
       "1  POLYGON ((-82.16342 33.57423, -82.16364 33.574...  \n",
       "2  POLYGON ((-82.16581 33.56498, -82.16577 33.564...  \n",
       "3  POLYGON ((-82.13909 33.57592, -82.13914 33.575...  \n",
       "4  POLYGON ((-82.14330 33.57348, -82.14300 33.573...  "
      ]
     },
     "execution_count": 266,
     "metadata": {},
     "output_type": "execute_result"
    }
   ],
   "source": [
    "precincts.head()"
   ]
  },
  {
   "cell_type": "markdown",
   "metadata": {},
   "source": [
    "Waiting on Ruth on how they cleaned election results table to join to precincts. Then the following code should work:"
   ]
  },
  {
   "cell_type": "code",
   "execution_count": 258,
   "metadata": {},
   "outputs": [],
   "source": [
    "elect_16 = election.pivot_table(index = ['precinct'], columns = ['office','party'], values = ['votes'])\n",
    "\n",
    "\n",
    "\n",
    "\n",
    "\n"
   ]
  },
  {
   "cell_type": "code",
   "execution_count": 259,
   "metadata": {},
   "outputs": [],
   "source": [
    "elect_16.columns = elect_16.columns.to_series().str.join(' ')\n",
    "\n",
    "columns = elect_16.columns.values"
   ]
  },
  {
   "cell_type": "code",
   "execution_count": 260,
   "metadata": {},
   "outputs": [
    {
     "name": "stdout",
     "output_type": "stream",
     "text": [
      "['votes State Senate democratic' 'votes State Senate republican'\n",
      " 'votes US President democratic' 'votes US President libertarian'\n",
      " 'votes US President republican']\n"
     ]
    }
   ],
   "source": [
    "print(columns)"
   ]
  },
  {
   "cell_type": "code",
   "execution_count": 261,
   "metadata": {},
   "outputs": [],
   "source": [
    "elect_16 = elect_16.rename(columns = {'votes State Senate democratic': 'SEN16D', \n",
    "                                      'votes State Senate republican':'SEN16R',\n",
    "                                      'votes US President democratic':'PRES16D', \n",
    "                                      'votes US President libertarian':'PRES16L',\n",
    "                                      'votes US President republican': 'PRES16R'})\n",
    "                                      \n",
    "                                      \n",
    "                                      "
   ]
  },
  {
   "cell_type": "code",
   "execution_count": 262,
   "metadata": {},
   "outputs": [],
   "source": [
    "elect_16 = elect_16.fillna(0)\n",
    "\n"
   ]
  },
  {
   "cell_type": "code",
   "execution_count": 263,
   "metadata": {},
   "outputs": [
    {
     "data": {
      "text/html": [
       "<div>\n",
       "<style scoped>\n",
       "    .dataframe tbody tr th:only-of-type {\n",
       "        vertical-align: middle;\n",
       "    }\n",
       "\n",
       "    .dataframe tbody tr th {\n",
       "        vertical-align: top;\n",
       "    }\n",
       "\n",
       "    .dataframe thead th {\n",
       "        text-align: right;\n",
       "    }\n",
       "</style>\n",
       "<table border=\"1\" class=\"dataframe\">\n",
       "  <thead>\n",
       "    <tr style=\"text-align: right;\">\n",
       "      <th></th>\n",
       "      <th>SEN16D</th>\n",
       "      <th>SEN16R</th>\n",
       "      <th>PRES16D</th>\n",
       "      <th>PRES16L</th>\n",
       "      <th>PRES16R</th>\n",
       "    </tr>\n",
       "    <tr>\n",
       "      <th>precinct</th>\n",
       "      <th></th>\n",
       "      <th></th>\n",
       "      <th></th>\n",
       "      <th></th>\n",
       "      <th></th>\n",
       "    </tr>\n",
       "  </thead>\n",
       "  <tbody>\n",
       "    <tr>\n",
       "      <th>01 Bethlehem Community Center</th>\n",
       "      <td>0.00</td>\n",
       "      <td>385.75</td>\n",
       "      <td>0.0</td>\n",
       "      <td>0.0</td>\n",
       "      <td>0.0</td>\n",
       "    </tr>\n",
       "    <tr>\n",
       "      <th>01 Big Creek</th>\n",
       "      <td>697.25</td>\n",
       "      <td>1983.00</td>\n",
       "      <td>0.0</td>\n",
       "      <td>0.0</td>\n",
       "      <td>0.0</td>\n",
       "    </tr>\n",
       "  </tbody>\n",
       "</table>\n",
       "</div>"
      ],
      "text/plain": [
       "                               SEN16D   SEN16R  PRES16D  PRES16L  PRES16R\n",
       "precinct                                                                 \n",
       "01 Bethlehem Community Center    0.00   385.75      0.0      0.0      0.0\n",
       "01 Big Creek                   697.25  1983.00      0.0      0.0      0.0"
      ]
     },
     "execution_count": 263,
     "metadata": {},
     "output_type": "execute_result"
    }
   ],
   "source": [
    "elect_16.head(2)"
   ]
  },
  {
   "cell_type": "markdown",
   "metadata": {},
   "source": [
    "Merge block-level shapefile and demographic data"
   ]
  },
  {
   "cell_type": "code",
   "execution_count": 96,
   "metadata": {},
   "outputs": [],
   "source": [
    "blocks_dmo['geoid']=blocks_dmo['geoid'].astype(int)\n",
    "blocks['geoid']=blocks['geoid'].astype(int)\n"
   ]
  },
  {
   "cell_type": "code",
   "execution_count": 97,
   "metadata": {},
   "outputs": [
    {
     "data": {
      "text/plain": [
       "Index(['STATEFP10', 'COUNTYFP10', 'TRACTCE10', 'BLOCKCE10', 'GEOID10',\n",
       "       'NAME10', 'MTFCC10', 'UR10', 'UACE10', 'UATYPE', 'FUNCSTAT10',\n",
       "       'ALAND10', 'AWATER10', 'INTPTLAT10', 'INTPTLON10', 'geometry', 'geoid'],\n",
       "      dtype='object')"
      ]
     },
     "execution_count": 97,
     "metadata": {},
     "output_type": "execute_result"
    }
   ],
   "source": [
    "blocks.columns"
   ]
  },
  {
   "cell_type": "code",
   "execution_count": 98,
   "metadata": {},
   "outputs": [
    {
     "data": {
      "text/plain": [
       "Index(['Unnamed: 0', 'TOTPOP', 'NH_WHITE', 'NH_BLACK', 'NH_AMIN ', 'NH_ASIAN',\n",
       "       'NH_NHPI ', 'NH_OTHER', 'NH_2MORE', 'HISP', 'H_WHITE', 'H_BLACK',\n",
       "       'H_AMIN', 'H_ASIAN', 'H_NHPI', 'H_OTHER', 'H_2MORE', 'VAP', 'HVAP',\n",
       "       'WVAP', 'BVAP', 'AMINVAP', 'ASIANVAP', 'NHPIVAP', 'OTHERVAP',\n",
       "       '2MOREVAP', 'NAME', 'state', 'county', 'tract', 'block', 'geoid'],\n",
       "      dtype='object')"
      ]
     },
     "execution_count": 98,
     "metadata": {},
     "output_type": "execute_result"
    }
   ],
   "source": [
    "blocks_dmo.columns"
   ]
  },
  {
   "cell_type": "code",
   "execution_count": 99,
   "metadata": {},
   "outputs": [],
   "source": [
    "blocks_all = pd.merge(blocks, blocks_dmo, on='geoid', how='left', indicator=True)"
   ]
  },
  {
   "cell_type": "code",
   "execution_count": 101,
   "metadata": {},
   "outputs": [
    {
     "data": {
      "text/plain": [
       "Index(['STATEFP10', 'COUNTYFP10', 'TRACTCE10', 'BLOCKCE10', 'GEOID10',\n",
       "       'NAME10', 'MTFCC10', 'UR10', 'UACE10', 'UATYPE', 'FUNCSTAT10',\n",
       "       'ALAND10', 'AWATER10', 'INTPTLAT10', 'INTPTLON10', 'geometry', 'geoid',\n",
       "       'Unnamed: 0', 'TOTPOP', 'NH_WHITE', 'NH_BLACK', 'NH_AMIN ', 'NH_ASIAN',\n",
       "       'NH_NHPI ', 'NH_OTHER', 'NH_2MORE', 'HISP', 'H_WHITE', 'H_BLACK',\n",
       "       'H_AMIN', 'H_ASIAN', 'H_NHPI', 'H_OTHER', 'H_2MORE', 'VAP', 'HVAP',\n",
       "       'WVAP', 'BVAP', 'AMINVAP', 'ASIANVAP', 'NHPIVAP', 'OTHERVAP',\n",
       "       '2MOREVAP', 'NAME', 'state', 'county', 'tract', 'block', '_merge'],\n",
       "      dtype='object')"
      ]
     },
     "execution_count": 101,
     "metadata": {},
     "output_type": "execute_result"
    }
   ],
   "source": [
    "blocks_all.columns"
   ]
  },
  {
   "cell_type": "code",
   "execution_count": 107,
   "metadata": {},
   "outputs": [
    {
     "data": {
      "text/plain": [
       "9687653"
      ]
     },
     "execution_count": 107,
     "metadata": {},
     "output_type": "execute_result"
    }
   ],
   "source": [
    "blocks_all.TOTPOP.sum()\n",
    "#google says 10.3 million, but this matches MGGG final file"
   ]
  },
  {
   "cell_type": "code",
   "execution_count": 103,
   "metadata": {},
   "outputs": [],
   "source": [
    "blocks_all = blocks_all.drop(columns = \"geoid\")"
   ]
  },
  {
   "cell_type": "code",
   "execution_count": 104,
   "metadata": {},
   "outputs": [
    {
     "data": {
      "text/plain": [
       "Index(['STATEFP10', 'COUNTYFP10', 'TRACTCE10', 'BLOCKCE10', 'GEOID10',\n",
       "       'NAME10', 'MTFCC10', 'UR10', 'UACE10', 'UATYPE', 'FUNCSTAT10',\n",
       "       'ALAND10', 'AWATER10', 'INTPTLAT10', 'INTPTLON10', 'geometry',\n",
       "       'Unnamed: 0', 'TOTPOP', 'NH_WHITE', 'NH_BLACK', 'NH_AMIN ', 'NH_ASIAN',\n",
       "       'NH_NHPI ', 'NH_OTHER', 'NH_2MORE', 'HISP', 'H_WHITE', 'H_BLACK',\n",
       "       'H_AMIN', 'H_ASIAN', 'H_NHPI', 'H_OTHER', 'H_2MORE', 'VAP', 'HVAP',\n",
       "       'WVAP', 'BVAP', 'AMINVAP', 'ASIANVAP', 'NHPIVAP', 'OTHERVAP',\n",
       "       '2MOREVAP', 'NAME', 'state', 'county', 'tract', 'block', '_merge'],\n",
       "      dtype='object')"
      ]
     },
     "execution_count": 104,
     "metadata": {},
     "output_type": "execute_result"
    }
   ],
   "source": [
    "blocks_all.columns"
   ]
  },
  {
   "cell_type": "code",
   "execution_count": 113,
   "metadata": {},
   "outputs": [
    {
     "data": {
      "text/plain": [
       "<matplotlib.axes._subplots.AxesSubplot at 0x136d6ba60>"
      ]
     },
     "execution_count": 113,
     "metadata": {},
     "output_type": "execute_result"
    },
    {
     "data": {
      "image/png": "[encoded data removed]",
      "text/plain": [
       "<Figure size 432x288 with 1 Axes>"
      ]
     },
     "metadata": {
      "needs_background": "light"
     },
     "output_type": "display_data"
    },
    {
     "data": {
      "image/png": "[encoded data removed]",
      "text/plain": [
       "<Figure size 432x288 with 1 Axes>"
      ]
     },
     "metadata": {
      "needs_background": "light"
     },
     "output_type": "display_data"
    }
   ],
   "source": [
    "#blocks_all.plot()\n",
    "#precincts.plot(color='blue')"
   ]
  },
  {
   "cell_type": "code",
   "execution_count": 279,
   "metadata": {},
   "outputs": [
    {
     "ename": "AttributeError",
     "evalue": "'DataFrame' object has no attribute 'crs'",
     "output_type": "error",
     "traceback": [
      "\u001b[0;31m---------------------------------------------------------------------------\u001b[0m",
      "\u001b[0;31mAttributeError\u001b[0m                            Traceback (most recent call last)",
      "\u001b[0;32m<ipython-input-279-71c8ef3b2031>\u001b[0m in \u001b[0;36m<module>\u001b[0;34m\u001b[0m\n\u001b[1;32m      3\u001b[0m        \u001b[0;34m'H_ASIAN'\u001b[0m\u001b[0;34m,\u001b[0m \u001b[0;34m'H_NHPI '\u001b[0m\u001b[0;34m,\u001b[0m \u001b[0;34m'H_OTHER'\u001b[0m\u001b[0;34m,\u001b[0m \u001b[0;34m'H_2MORE'\u001b[0m\u001b[0;34m,\u001b[0m \u001b[0;34m'VAP'\u001b[0m\u001b[0;34m,\u001b[0m \u001b[0;34m'HVAP'\u001b[0m\u001b[0;34m,\u001b[0m \u001b[0;34m'WVAP'\u001b[0m\u001b[0;34m,\u001b[0m\u001b[0;34m\u001b[0m\u001b[0;34m\u001b[0m\u001b[0m\n\u001b[1;32m      4\u001b[0m        'BVAP', 'AMINVAP', 'ASIANVAP', 'NHPIVAP', 'OTHERVAP', '2MOREVAP']\n\u001b[0;32m----> 5\u001b[0;31m \u001b[0massignment\u001b[0m \u001b[0;34m=\u001b[0m \u001b[0mmaup\u001b[0m\u001b[0;34m.\u001b[0m\u001b[0massign\u001b[0m\u001b[0;34m(\u001b[0m\u001b[0mblocks_dmo\u001b[0m\u001b[0;34m,\u001b[0m \u001b[0mprecincts\u001b[0m\u001b[0;34m,\u001b[0m \u001b[0marea_cutoff\u001b[0m\u001b[0;34m=\u001b[0m\u001b[0;36m0\u001b[0m\u001b[0;34m)\u001b[0m\u001b[0;34m\u001b[0m\u001b[0;34m\u001b[0m\u001b[0m\n\u001b[0m",
      "\u001b[0;32m~/opt/anaconda3/envs/myenv/lib/python3.8/site-packages/maup/crs.py\u001b[0m in \u001b[0;36mwrapped\u001b[0;34m(*args, **kwargs)\u001b[0m\n\u001b[1;32m      6\u001b[0m     \u001b[0;32mdef\u001b[0m \u001b[0mwrapped\u001b[0m\u001b[0;34m(\u001b[0m\u001b[0;34m*\u001b[0m\u001b[0margs\u001b[0m\u001b[0;34m,\u001b[0m \u001b[0;34m**\u001b[0m\u001b[0mkwargs\u001b[0m\u001b[0;34m)\u001b[0m\u001b[0;34m:\u001b[0m\u001b[0;34m\u001b[0m\u001b[0;34m\u001b[0m\u001b[0m\n\u001b[1;32m      7\u001b[0m         \u001b[0mgeoms1\u001b[0m\u001b[0;34m,\u001b[0m \u001b[0mgeoms2\u001b[0m\u001b[0;34m,\u001b[0m \u001b[0;34m*\u001b[0m\u001b[0mrest\u001b[0m \u001b[0;34m=\u001b[0m \u001b[0margs\u001b[0m\u001b[0;34m\u001b[0m\u001b[0;34m\u001b[0m\u001b[0m\n\u001b[0;32m----> 8\u001b[0;31m         \u001b[0;32mif\u001b[0m \u001b[0;32mnot\u001b[0m \u001b[0mgeoms1\u001b[0m\u001b[0;34m.\u001b[0m\u001b[0mcrs\u001b[0m \u001b[0;34m==\u001b[0m \u001b[0mgeoms2\u001b[0m\u001b[0;34m.\u001b[0m\u001b[0mcrs\u001b[0m\u001b[0;34m:\u001b[0m\u001b[0;34m\u001b[0m\u001b[0;34m\u001b[0m\u001b[0m\n\u001b[0m\u001b[1;32m      9\u001b[0m             raise TypeError(\n\u001b[1;32m     10\u001b[0m                 \"the source and target geometries must have the same CRS. {} {}\".format(\n",
      "\u001b[0;32m~/opt/anaconda3/envs/myenv/lib/python3.8/site-packages/pandas/core/generic.py\u001b[0m in \u001b[0;36m__getattr__\u001b[0;34m(self, name)\u001b[0m\n\u001b[1;32m   5272\u001b[0m             \u001b[0;32mif\u001b[0m \u001b[0mself\u001b[0m\u001b[0;34m.\u001b[0m\u001b[0m_info_axis\u001b[0m\u001b[0;34m.\u001b[0m\u001b[0m_can_hold_identifiers_and_holds_name\u001b[0m\u001b[0;34m(\u001b[0m\u001b[0mname\u001b[0m\u001b[0;34m)\u001b[0m\u001b[0;34m:\u001b[0m\u001b[0;34m\u001b[0m\u001b[0;34m\u001b[0m\u001b[0m\n\u001b[1;32m   5273\u001b[0m                 \u001b[0;32mreturn\u001b[0m \u001b[0mself\u001b[0m\u001b[0;34m[\u001b[0m\u001b[0mname\u001b[0m\u001b[0;34m]\u001b[0m\u001b[0;34m\u001b[0m\u001b[0;34m\u001b[0m\u001b[0m\n\u001b[0;32m-> 5274\u001b[0;31m             \u001b[0;32mreturn\u001b[0m \u001b[0mobject\u001b[0m\u001b[0;34m.\u001b[0m\u001b[0m__getattribute__\u001b[0m\u001b[0;34m(\u001b[0m\u001b[0mself\u001b[0m\u001b[0;34m,\u001b[0m \u001b[0mname\u001b[0m\u001b[0;34m)\u001b[0m\u001b[0;34m\u001b[0m\u001b[0;34m\u001b[0m\u001b[0m\n\u001b[0m\u001b[1;32m   5275\u001b[0m \u001b[0;34m\u001b[0m\u001b[0m\n\u001b[1;32m   5276\u001b[0m     \u001b[0;32mdef\u001b[0m \u001b[0m__setattr__\u001b[0m\u001b[0;34m(\u001b[0m\u001b[0mself\u001b[0m\u001b[0;34m,\u001b[0m \u001b[0mname\u001b[0m\u001b[0;34m:\u001b[0m \u001b[0mstr\u001b[0m\u001b[0;34m,\u001b[0m \u001b[0mvalue\u001b[0m\u001b[0;34m)\u001b[0m \u001b[0;34m->\u001b[0m \u001b[0;32mNone\u001b[0m\u001b[0;34m:\u001b[0m\u001b[0;34m\u001b[0m\u001b[0;34m\u001b[0m\u001b[0m\n",
      "\u001b[0;31mAttributeError\u001b[0m: 'DataFrame' object has no attribute 'crs'"
     ]
    }
   ],
   "source": [
    "variables = ['TOTPOP', 'NH_WHITE', 'NH_BLACK', 'NH_AMIN ', 'NH_ASIAN', 'NH_NHPI ',\n",
    "       'NH_OTHER', 'NH_2MORE', 'HISP', 'H_WHITE', 'H_BLACK', 'H_AMIN ',\n",
    "       'H_ASIAN', 'H_NHPI ', 'H_OTHER', 'H_2MORE', 'VAP', 'HVAP', 'WVAP',\n",
    "       'BVAP', 'AMINVAP', 'ASIANVAP', 'NHPIVAP', 'OTHERVAP', '2MOREVAP']\n",
    "assignment = maup.assign(blocks_dmo, precincts, area_cutoff=0)\n",
    "#error 'DataFrame' object has no attribute 'crs'\n"
   ]
  },
  {
   "cell_type": "code",
   "execution_count": null,
   "metadata": {},
   "outputs": [],
   "source": []
  }
 ],
 "metadata": {
  "kernelspec": {
   "display_name": "Python 3",
   "language": "python",
   "name": "python3"
  },
  "language_info": {
   "codemirror_mode": {
    "name": "ipython",
    "version": 3
   },
   "file_extension": ".py",
   "mimetype": "text/x-python",
   "name": "python",
   "nbconvert_exporter": "python",
   "pygments_lexer": "ipython3",
   "version": "3.8.8"
  }
 },
 "nbformat": 4,
 "nbformat_minor": 4
}
