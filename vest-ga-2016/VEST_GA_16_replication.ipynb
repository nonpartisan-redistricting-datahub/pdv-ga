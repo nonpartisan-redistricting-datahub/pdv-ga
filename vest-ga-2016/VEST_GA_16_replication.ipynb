{
 "cells": [
  {
   "cell_type": "code",
   "execution_count": 1,
   "metadata": {},
   "outputs": [],
   "source": [
    "import maup # mggg's library for proration, see documentation here: https://github.com/mggg/maup\n",
    "import pandas as pd # standard python data library\n",
    "import geopandas as gp # the geo-version of pandas\n",
    "import numpy as np \n",
    "import os\n",
    "import fiona\n",
    "from statistics import mean, median\n",
    "from pandas import read_csv\n",
    "gp.io.file.fiona.drvsupport.supported_drivers['KML'] = 'rw' #To load KML files\n",
    "import string"
   ]
  },
  {
   "cell_type": "markdown",
   "metadata": {},
   "source": [
    "# VEST Georgia Validation"
   ]
  },
  {
   "cell_type": "markdown",
   "metadata": {},
   "source": [
    "## Examining and Loading Files"
   ]
  },
  {
   "cell_type": "markdown",
   "metadata": {},
   "source": [
    "### VEST"
   ]
  },
  {
   "cell_type": "markdown",
   "metadata": {},
   "source": [
    "#### Copy in VEST GA 16 file"
   ]
  },
  {
   "cell_type": "code",
   "execution_count": 2,
   "metadata": {},
   "outputs": [],
   "source": [
    "vest_ga = gp.read_file(\"./raw-from-source/VEST/ga_2016/ga_2016.shp\")"
   ]
  },
  {
   "cell_type": "markdown",
   "metadata": {},
   "source": [
    "## To Do: Check if VEST has any 0 population / vote precincts"
   ]
  },
  {
   "cell_type": "markdown",
   "metadata": {},
   "source": [
    "#### VEST Data Sources (from documentation):"
   ]
  },
  {
   "cell_type": "markdown",
   "metadata": {},
   "source": [
    "Election results from the Georgia Secretary of State Elections Division  (https://sos.ga.gov/index.php/Elections/current_and_past_elections_results)  \n",
    "Precinct shapefile primarily from the Georgia General Assembly Reapportionment Office (http://www.legis.ga.gov/Joint/reapportionment/en-US/default.aspx)  "
   ]
  },
  {
   "cell_type": "markdown",
   "metadata": {},
   "source": [
    "#### VEST Field Names (from documentation):"
   ]
  },
  {
   "cell_type": "markdown",
   "metadata": {},
   "source": [
    "G16PRERTRU - Donald J. Trump (Republican Party)  \n",
    "G16PREDCLI - Hillary Clinton (Democratic Party)  \n",
    "G16PRELJOH - Gary Johnson (Libertarian Party)  \n",
    "  \n",
    "G16USSRISA - Johnny Isakson (Republican Party)  \n",
    "G16USSDBAR - Jim Barksdale (Democratic Party)  \n",
    "G16USSLBUC - Allen Buckley (Libertarian Party)  \n",
    "  \n",
    "G16PSCRECH - Tim Echols (Republican Party)  \n",
    "G16PSCLHOS - Eric Hoskins (Libertarian Party)  "
   ]
  },
  {
   "cell_type": "markdown",
   "metadata": {},
   "source": [
    "Note: Some difficulties in using the link provided by VEST (need to do work on each county)"
   ]
  },
  {
   "cell_type": "markdown",
   "metadata": {},
   "source": [
    "### MEDSL Presidential Election Precinct-Level Results"
   ]
  },
  {
   "cell_type": "code",
   "execution_count": 3,
   "metadata": {},
   "outputs": [
    {
     "name": "stderr",
     "output_type": "stream",
     "text": [
      "/opt/anaconda3/lib/python3.8/site-packages/IPython/core/interactiveshell.py:3071: DtypeWarning: Columns (13,17,19,31,32) have mixed types.Specify dtype option on import or set low_memory=False.\n",
      "  has_raised = await self.run_ast_nodes(code_ast.body, cell_name,\n"
     ]
    }
   ],
   "source": [
    "#Note: Some difficulties in using the link provided by VEST (need to do work on each county)\n",
    "medsl_election = pd.read_csv(\"./raw-from-source/MEDSL/2016-precinct-president.tab\",sep=\"\\t\")\n",
    "medsl_election= medsl_election[medsl_election.state==\"Georgia\"]\n",
    "medsl_election= medsl_election[[\"county_name\",\"county_fips\",'jurisdiction', 'precinct', 'candidate',\n",
    "       'candidate_normalized', 'office', 'district', 'writein', 'party',\n",
    "       'mode', 'votes','candidate_fec', 'candidate_fec_name']]\n",
    "candidate_list = ['CLINTON, HILLARY RODHAM / TIMOTHY MICHAEL KAINE',\n",
    " 'JOHNSON, JOHN FITZGERALD MR.', 'TRUMP, DONALD J. / MICHAEL R. PENCE']\n",
    "medsl_election=medsl_election[medsl_election[\"candidate_fec_name\"].isin(candidate_list)]\n",
    "medsl_election['county_fips'] = medsl_election['county_fips'].astype(int)\n",
    "medsl_election['county_fips'] = medsl_election['county_fips'].astype(str)\n",
    "medsl_election[\"precinct\"]=medsl_election[\"precinct\"].str.strip()\n",
    "medsl_election['county_prec'] = medsl_election['county_fips'].str[2:5]+medsl_election[\"precinct\"]\n",
    "medsl_election=pd.pivot_table(medsl_election,index=['county_prec'],columns=[\"candidate_fec_name\"],values=['votes'],aggfunc=sum)\n",
    "medsl_election.columns = medsl_election.columns.droplevel(0)\n",
    "medsl_election = medsl_election.rename(columns={\"CLINTON, HILLARY RODHAM / TIMOTHY MICHAEL KAINE\":\"G16PREDCLI\",\"JOHNSON, JOHN FITZGERALD MR.\":\"G16PRELJOH\",\"TRUMP, DONALD J. / MICHAEL R. PENCE\": \"G16PRERTRU\"})"
   ]
  },
  {
   "cell_type": "markdown",
   "metadata": {},
   "source": [
    "### MEDSL State Elections Precinct-Level Results"
   ]
  },
  {
   "cell_type": "code",
   "execution_count": 4,
   "metadata": {},
   "outputs": [
    {
     "name": "stderr",
     "output_type": "stream",
     "text": [
      "/opt/anaconda3/lib/python3.8/site-packages/IPython/core/interactiveshell.py:3071: DtypeWarning: Columns (7,13,17) have mixed types.Specify dtype option on import or set low_memory=False.\n",
      "  has_raised = await self.run_ast_nodes(code_ast.body, cell_name,\n"
     ]
    }
   ],
   "source": [
    "medsl_state_election = pd.read_csv(\"./raw-from-source/MEDSL/2016-precinct-state.tab\",sep=\"\\t\")\n",
    "medsl_state_election= medsl_state_election[medsl_state_election.state==\"Georgia\"]\n",
    "medsl_state_election= medsl_state_election[[\"county_name\",\"county_fips\",'jurisdiction', 'precinct', 'candidate',\n",
    "       'candidate_normalized', 'office', 'district', 'writein', 'party',\n",
    "       'mode', 'votes','candidate_fec', 'candidate_fec_name']]\n",
    "medsl_state_election = medsl_state_election[medsl_state_election[\"office\"]==\"PUBLIC SERVICE COMMISSION, DISTRICT 2 - EASTERN\"]\n",
    "medsl_state_election['county_fips'] = medsl_state_election['county_fips'].astype(int)\n",
    "medsl_state_election['county_fips'] = medsl_state_election['county_fips'].astype(str)\n",
    "medsl_state_election[\"precinct\"]=medsl_state_election[\"precinct\"].str.strip()\n",
    "medsl_state_election['county_prec'] = medsl_state_election['county_fips'].str[2:5]+medsl_state_election[\"precinct\"]\n",
    "medsl_state_election=pd.pivot_table(medsl_state_election,index=['county_prec'],columns=[\"candidate\"],values=['votes'],aggfunc=sum)\n",
    "medsl_state_election.columns = medsl_state_election.columns.droplevel(0)\n",
    "medsl_state_election = medsl_state_election.rename(columns={\"ERIC HOSKINS\":\"G16PSCLHOS\",\"TIM ECHOLS\":\"G16PSCRECH\"})"
   ]
  },
  {
   "cell_type": "markdown",
   "metadata": {},
   "source": [
    "### MEDSL Senate Elections Precinct-Level Results"
   ]
  },
  {
   "cell_type": "code",
   "execution_count": 5,
   "metadata": {},
   "outputs": [
    {
     "name": "stderr",
     "output_type": "stream",
     "text": [
      "/opt/anaconda3/lib/python3.8/site-packages/IPython/core/interactiveshell.py:3071: DtypeWarning: Columns (13,19,27,30,32) have mixed types.Specify dtype option on import or set low_memory=False.\n",
      "  has_raised = await self.run_ast_nodes(code_ast.body, cell_name,\n"
     ]
    }
   ],
   "source": [
    "medsl_senate_election = pd.read_csv(\"./raw-from-source/MEDSL/2016-precinct-senate.tab\",sep=\"\\t\")\n",
    "medsl_senate_election= medsl_senate_election[medsl_senate_election.state==\"Georgia\"]\n",
    "medsl_senate_election= medsl_senate_election[[\"county_name\",\"county_fips\",'jurisdiction', 'precinct', 'candidate',\n",
    "       'candidate_normalized', 'office', 'district', 'writein', 'party',\n",
    "       'mode', 'votes','candidate_fec', 'candidate_fec_name']]\n",
    "medsl_senate_election['county_fips'] = medsl_senate_election['county_fips'].astype(int)\n",
    "medsl_senate_election['county_fips'] = medsl_senate_election['county_fips'].astype(str)\n",
    "medsl_senate_election[\"precinct\"]=medsl_senate_election[\"precinct\"].str.strip()\n",
    "medsl_senate_election['county_prec'] = medsl_senate_election['county_fips'].str[2:5]+medsl_senate_election[\"precinct\"]\n",
    "medsl_senate_election=pd.pivot_table(medsl_senate_election,index=['county_prec'],columns=[\"candidate\"],values=['votes'],aggfunc=sum)\n",
    "medsl_senate_election.columns = medsl_senate_election.columns.droplevel(0)\n",
    "medsl_senate_election = medsl_senate_election.drop('Michelle Gates', 1)\n",
    "medsl_senate_election = medsl_senate_election.rename(columns={\"ALLEN BUCKLEY\":\"G16USSLBUC\",\"JIM BARKSDALE\":\"G16USSDBAR\",\"JOHNNY ISAKSON\":\"G16USSRISA\"})"
   ]
  },
  {
   "cell_type": "markdown",
   "metadata": {},
   "source": [
    "### Check Totals"
   ]
  },
  {
   "cell_type": "code",
   "execution_count": 6,
   "metadata": {},
   "outputs": [
    {
     "name": "stdout",
     "output_type": "stream",
     "text": [
      "MEDSL totals:\n",
      "1877963\n",
      "125306\n",
      "2089104\n",
      "\n",
      "1200076\n",
      "2390836\n",
      "\n",
      "162260.0\n",
      "1599726.0\n",
      "2135806.0\n",
      "\n",
      "VEST totals:\n",
      "1877963\n",
      "125306\n",
      "2089104\n",
      "\n",
      "1200076\n",
      "2390836\n",
      "\n",
      "162260\n",
      "1599726\n",
      "2135806\n"
     ]
    }
   ],
   "source": [
    "print(\"MEDSL totals:\")\n",
    "print(medsl_election[\"G16PREDCLI\"].sum())\n",
    "print(medsl_election[\"G16PRELJOH\"].sum())\n",
    "print(medsl_election[\"G16PRERTRU\"].sum())\n",
    "print(\"\")\n",
    "print(medsl_state_election[\"G16PSCLHOS\"].sum())\n",
    "print(medsl_state_election[\"G16PSCRECH\"].sum())\n",
    "print(\"\")\n",
    "print(medsl_senate_election[\"G16USSLBUC\"].sum())\n",
    "print(medsl_senate_election[\"G16USSDBAR\"].sum())\n",
    "print(medsl_senate_election[\"G16USSRISA\"].sum())\n",
    "print(\"\")\n",
    "print(\"VEST totals:\")\n",
    "print(vest_ga[\"G16PREDCLI\"].sum())\n",
    "print(vest_ga[\"G16PRELJOH\"].sum())\n",
    "print(vest_ga[\"G16PRERTRU\"].sum())\n",
    "print(\"\")\n",
    "print(vest_ga[\"G16PSCLHOS\"].sum())\n",
    "print(vest_ga[\"G16PSCRECH\"].sum())\n",
    "print(\"\")\n",
    "print(vest_ga[\"G16USSLBUC\"].sum())\n",
    "print(vest_ga[\"G16USSDBAR\"].sum())\n",
    "print(vest_ga[\"G16USSRISA\"].sum())"
   ]
  },
  {
   "cell_type": "markdown",
   "metadata": {},
   "source": [
    "### Merge MEDSL results"
   ]
  },
  {
   "cell_type": "code",
   "execution_count": 7,
   "metadata": {},
   "outputs": [
    {
     "name": "stdout",
     "output_type": "stream",
     "text": [
      "candidate_fec_name county_prec  G16PREDCLI  G16PRELJOH  G16PRERTRU\n",
      "0                        0011B          92           9         685\n",
      "1                        0011C          42           5         496\n",
      "2                         0012         742          10         427\n",
      "3                        0013A           4           4         209\n",
      "4                       0013A1          17           1         319\n",
      "candidate county_prec  G16PSCLHOS  G16PSCRECH\n",
      "0               0011B          62         655\n",
      "1               0011C          41         464\n",
      "2                0012         344         545\n",
      "3               0013A          10         193\n",
      "4              0013A1          18         300\n",
      "candidate county_prec  G16USSLBUC  G16USSDBAR  G16USSRISA\n",
      "0               0011B        14.0        81.0       636.0\n",
      "1               0011C        13.0        45.0       455.0\n",
      "2                0012        28.0       581.0       445.0\n",
      "3               0013A         3.0         6.0       194.0\n",
      "4              0013A1         9.0        21.0       295.0\n",
      "(2693, 4)\n",
      "(2693, 3)\n",
      "(2764, 4)\n"
     ]
    }
   ],
   "source": [
    "medsl_election = medsl_election.reset_index()\n",
    "print(medsl_election.head())\n",
    "\n",
    "medsl_state_election = medsl_state_election.reset_index()\n",
    "print(medsl_state_election.head())\n",
    "\n",
    "medsl_senate_election = medsl_senate_election.reset_index()\n",
    "print(medsl_senate_election.head())\n",
    "\n",
    "print(medsl_election.shape)\n",
    "print(medsl_state_election.shape)\n",
    "print(medsl_senate_election.shape)"
   ]
  },
  {
   "cell_type": "code",
   "execution_count": 8,
   "metadata": {},
   "outputs": [
    {
     "name": "stdout",
     "output_type": "stream",
     "text": [
      "(2693, 7)\n",
      "         county_prec  G16PREDCLI  G16PRELJOH  G16PRERTRU  G16PSCLHOS  \\\n",
      "0              0011B          92           9         685          62   \n",
      "1              0011C          42           5         496          41   \n",
      "2               0012         742          10         427         344   \n",
      "3              0013A           4           4         209          10   \n",
      "4             0013A1          17           1         319          18   \n",
      "...              ...         ...         ...         ...         ...   \n",
      "2688     321Shingler          47           4         337          26   \n",
      "2689       321Sumner          91           3         418          80   \n",
      "2690  321Sylver East         162          25         664         110   \n",
      "2691    321Sylvester         905          16         562         508   \n",
      "2692      321Warwick         127           6         300          71   \n",
      "\n",
      "      G16PSCRECH _merge  \n",
      "0            655   both  \n",
      "1            464   both  \n",
      "2            545   both  \n",
      "3            193   both  \n",
      "4            300   both  \n",
      "...          ...    ...  \n",
      "2688         334   both  \n",
      "2689         390   both  \n",
      "2690         655   both  \n",
      "2691         667   both  \n",
      "2692         303   both  \n",
      "\n",
      "[2693 rows x 7 columns]\n",
      "(2764, 10)\n",
      "       county_prec  G16PREDCLI  G16PRELJOH  G16PRERTRU  G16PSCLHOS  \\\n",
      "2693  001Write-ins         NaN         NaN         NaN         NaN   \n",
      "2694  009Write-ins         NaN         NaN         NaN         NaN   \n",
      "2695  011Write-ins         NaN         NaN         NaN         NaN   \n",
      "2696  015Write-ins         NaN         NaN         NaN         NaN   \n",
      "2697  021Write-ins         NaN         NaN         NaN         NaN   \n",
      "...            ...         ...         ...         ...         ...   \n",
      "2759  293Write-ins         NaN         NaN         NaN         NaN   \n",
      "2760  297Write-ins         NaN         NaN         NaN         NaN   \n",
      "2761  303Write-ins         NaN         NaN         NaN         NaN   \n",
      "2762  305Write-ins         NaN         NaN         NaN         NaN   \n",
      "2763  321Write-ins         NaN         NaN         NaN         NaN   \n",
      "\n",
      "      G16PSCRECH  G16USSLBUC  G16USSDBAR  G16USSRISA      _merge  \n",
      "2693         NaN         NaN         NaN         NaN  right_only  \n",
      "2694         NaN         NaN         NaN         NaN  right_only  \n",
      "2695         NaN         NaN         NaN         NaN  right_only  \n",
      "2696         NaN         NaN         NaN         NaN  right_only  \n",
      "2697         NaN         NaN         NaN         NaN  right_only  \n",
      "...          ...         ...         ...         ...         ...  \n",
      "2759         NaN         NaN         NaN         NaN  right_only  \n",
      "2760         NaN         NaN         NaN         NaN  right_only  \n",
      "2761         NaN         NaN         NaN         NaN  right_only  \n",
      "2762         NaN         NaN         NaN         NaN  right_only  \n",
      "2763         NaN         NaN         NaN         NaN  right_only  \n",
      "\n",
      "[71 rows x 10 columns]\n"
     ]
    }
   ],
   "source": [
    "#Merge presidential and state election results\n",
    "medsl_state_pres=pd.merge(medsl_election,medsl_state_election,on='county_prec',how='outer',indicator=True)\n",
    "print(medsl_state_pres.shape)\n",
    "print(medsl_state_pres)\n",
    "medsl_state_pres = medsl_state_pres.drop('_merge', 1)\n",
    "\n",
    "#Merged pres+state with senate results\n",
    "medsl_all = pd.merge(medsl_state_pres,medsl_senate_election,on='county_prec',how='outer',indicator=True)\n",
    "print(medsl_all.shape)\n",
    "print(medsl_all[medsl_all[\"_merge\"]==\"right_only\"])\n",
    "medsl_final = medsl_all[medsl_all[\"_merge\"]==\"both\"]\n",
    "medsl_final = medsl_final.drop('_merge', 1)\n",
    "\n",
    "#the \"right_only\" files seem to just be write ins\n"
   ]
  },
  {
   "cell_type": "code",
   "execution_count": 9,
   "metadata": {},
   "outputs": [
    {
     "name": "stdout",
     "output_type": "stream",
     "text": [
      "MEDSL totals:\n",
      "1877963\n",
      "125306\n",
      "2089104\n",
      "\n",
      "1200076\n",
      "2390836\n",
      "\n",
      "162260.0\n",
      "1599726.0\n",
      "2135806.0\n",
      "\n",
      "Merged Totals:\n",
      "1877963.0\n",
      "125306.0\n",
      "2089104.0\n",
      "\n",
      "1200076.0\n",
      "2390836.0\n",
      "\n",
      "162260.0\n",
      "1599726.0\n",
      "2135806.0\n"
     ]
    }
   ],
   "source": [
    "#Merged totals seems to match the original ones!\n",
    "print(\"MEDSL totals:\")\n",
    "print(medsl_election[\"G16PREDCLI\"].sum())\n",
    "print(medsl_election[\"G16PRELJOH\"].sum())\n",
    "print(medsl_election[\"G16PRERTRU\"].sum())\n",
    "print(\"\")\n",
    "print(medsl_state_election[\"G16PSCLHOS\"].sum())\n",
    "print(medsl_state_election[\"G16PSCRECH\"].sum())\n",
    "print(\"\")\n",
    "print(medsl_senate_election[\"G16USSLBUC\"].sum())\n",
    "print(medsl_senate_election[\"G16USSDBAR\"].sum())\n",
    "print(medsl_senate_election[\"G16USSRISA\"].sum())\n",
    "print(\"\")\n",
    "print(\"Merged Totals:\")\n",
    "print(medsl_final[\"G16PREDCLI\"].sum())\n",
    "print(medsl_final[\"G16PRELJOH\"].sum())\n",
    "print(medsl_final[\"G16PRERTRU\"].sum())\n",
    "print(\"\")\n",
    "print(medsl_final[\"G16PSCLHOS\"].sum())\n",
    "print(medsl_final[\"G16PSCRECH\"].sum())\n",
    "print(\"\")\n",
    "print(medsl_final[\"G16USSLBUC\"].sum())\n",
    "print(medsl_final[\"G16USSDBAR\"].sum())\n",
    "print(medsl_final[\"G16USSRISA\"].sum())"
   ]
  },
  {
   "cell_type": "markdown",
   "metadata": {},
   "source": [
    "### Shapefiles"
   ]
  },
  {
   "cell_type": "code",
   "execution_count": 10,
   "metadata": {},
   "outputs": [],
   "source": [
    "precinct_shapes_ga = gp.read_file(\"./raw-from-source/GA_shapefile/vtd2016-shape/VTD2016-Shape.shp\")\n",
    "#Try 1: precinct_shapes_ga[\"county_prec\"]=precinct_shapes_ga[\"FIPS2\"].astype(str).str.zfill(3)+precinct_shapes_ga[\"PRECINCT_I\"]\n",
    "#Try 2: precinct_shapes_ga[\"county_prec\"] = precinct_shapes_ga[\"CTYSOSID\"]\n",
    "#Try 3: precinct_shapes_ga[\"county_prec\"]=precinct_shapes_ga[\"FIPS2\"].astype(str).str.zfill(3)+precinct_shapes_ga[\"PRECINCT_N\"]\n",
    "#Try 4:\n",
    "medsl_final[\"county_prec\"]=medsl_final[\"county_prec\"].str.upper()\n",
    "precinct_shapes_ga[\"county_prec\"]=precinct_shapes_ga[\"FIPS2\"].astype(str).str.zfill(3)+precinct_shapes_ga[\"PRECINCT_N\"]\n",
    "#Try 5 (4 but add in a string strip to MEDSL files):"
   ]
  },
  {
   "cell_type": "code",
   "execution_count": 11,
   "metadata": {},
   "outputs": [
    {
     "name": "stdout",
     "output_type": "stream",
     "text": [
      "(346, 9)\n",
      "(345, 16)\n",
      "(366, 17)\n"
     ]
    }
   ],
   "source": [
    "print(medsl_final[medsl_final[\"county_prec\"].str[0:3]==\"121\"].shape)\n",
    "print(precinct_shapes_ga[precinct_shapes_ga[\"COUNTY_NAM\"]==\"FULTON\"].shape)\n",
    "print(vest_ga[vest_ga[\"CTYNAME\"]==\"FULTON\"].shape)"
   ]
  },
  {
   "cell_type": "markdown",
   "metadata": {},
   "source": [
    "#### VEST Processing (from documentation):\n",
    "\n",
    "**1. NOT COMPLETED**  \n",
    "Fulton County uses shapefiles and maps sourced from the county GIS program. Precincts CH01/CH04B, CP07A/CP07D, SS29A/SS29B, UC031/UC035 were merged to match how voters were registered in the 2016 voter file.  \n",
    "- Files needed: Fulton County GIS files  \n",
    "- *Note: Unable to find these shapefiles and maps through the county GIS program. Our election results and precinct data have 345 and 346 precincts for Fulton, while the final VEST file has 366.*\n",
    "\n",
    "**2. Pending**  \n",
    "The following precincts were split by congressional district to match the 2016 election results: Avondale High, Glennwood, Wadsworth in Dekalb County; Cates D in Gwinnett County.   \n",
    "- Files needed: 2016 congressional map   \n",
    "\n",
    "**3. Pending**  \n",
    "Cloudland and Teloga precincts in Chattooga County were split along the ridgeline that marks the boundary between them with the USGS Topographic Contour shapefile.\n",
    "- Files needed: USGS Topographic Contour shapefile      \n",
    "\n",
    "**4. TO DO**   \n",
    "Three of the four VTDs in Chattahoochee County are comprised of Fort Benning. However, the county only has one polling location for all voters, including residents of Fort Benning that vote within the county. The four Chattahoochee County VTDs have therefore been merged in the shapefile.  \n",
    "- Files needed: n/a**  \n",
    "- *Note: For whatever reason, this already seems to have been done on the files*"
   ]
  },
  {
   "cell_type": "code",
   "execution_count": 12,
   "metadata": {},
   "outputs": [],
   "source": [
    "#Instruction 2\n",
    "us_congress = gp.read_file(\"./raw-from-source/Congressional_Districts/tl_2018_us_cd116/tl_2018_us_cd116.shp\")\n",
    "ga_congress = us_congress[us_congress[\"STATEFP\"]==\"13\"]\n",
    "\n",
    "#New names should be \"AVONDALE HIGH -05 , AVONDALE HIGH -04 \"\n",
    "avondale_high = precinct_shapes_ga[precinct_shapes_ga[\"PRECINCT_N\"]==\"AVONDALE HIGH\"]\n",
    "\n",
    "\n",
    "#\"GLENNWOOD - 05\" and \"GLENNWOOD - 04\"\n",
    "glennwood = precinct_shapes_ga[precinct_shapes_ga[\"PRECINCT_N\"]==\"GLENNWOOD (DEC)\"]\n",
    "\n",
    "#\"WADSWORTH ELEM - 05\" and \"WADSWORTH ELEM - 04\"\n",
    "wadsworth = precinct_shapes_ga[precinct_shapes_ga[\"PRECINCT_N\"]==\"WADSWORTH\"]\n",
    "\n",
    "\n",
    "cates_d = precinct_shapes_ga[precinct_shapes_ga[\"PRECINCT_N\"]==\"CATES D\"]"
   ]
  },
  {
   "cell_type": "code",
   "execution_count": 13,
   "metadata": {},
   "outputs": [
    {
     "name": "stdout",
     "output_type": "stream",
     "text": [
      "           ID       AREA  DATA  POPULATION   DISTRICT   CTYSOSID PRECINCT_I  \\\n",
      "1547  3588199  40.953088   373        1385  055XC-968  055XC-968     XC-968   \n",
      "\n",
      "             PRECINCT_N CTYNUMBER COUNTY    CTYNAME  FIPS1 FIPS2 COUNTY_NAM  \\\n",
      "1547  CLOULDLAND-TELOGA        27     27  CHATTOOGA  13055    55       None   \n",
      "\n",
      "                                               geometry           county_prec  \n",
      "1547  POLYGON ((-85.40821 34.53204, -85.40823 34.531...  055CLOULDLAND-TELOGA  \n",
      "        county_prec  G16PREDCLI  G16PRELJOH  G16PRERTRU  G16PSCLHOS  \\\n",
      "346       055ALPINE        93.0        17.0       451.0        67.0   \n",
      "347    055CLOUDLAND        58.0         5.0       158.0        46.0   \n",
      "348    055COLDWATER        53.0         3.0       106.0        30.0   \n",
      "349   055DIRTSELLER        16.0         0.0       106.0        14.0   \n",
      "350     055DIRTTOWN        96.0        11.0       455.0        73.0   \n",
      "351      055HAYWOOD        15.0         3.0        89.0        17.0   \n",
      "352       055LYERLY        94.0        12.0       445.0        84.0   \n",
      "353    055PENNVILLE        48.0         3.0       272.0        42.0   \n",
      "354     055SEMINOLE         5.0         5.0        77.0         9.0   \n",
      "355     055SUBLIGNA        30.0         5.0       295.0        33.0   \n",
      "356  055SUMMERVILLE       759.0        67.0      2099.0       524.0   \n",
      "357       055TELOGA        40.0        10.0       320.0        38.0   \n",
      "358        055TRION       306.0        36.0      1589.0       264.0   \n",
      "\n",
      "     G16PSCRECH  G16USSLBUC  G16USSDBAR  G16USSRISA  \n",
      "346       472.0        11.0       108.0       414.0  \n",
      "347       156.0        10.0        72.0       134.0  \n",
      "348       104.0         8.0        48.0        93.0  \n",
      "349       104.0         2.0        18.0       101.0  \n",
      "350       452.0        22.0        98.0       420.0  \n",
      "351        80.0         3.0        23.0        68.0  \n",
      "352       429.0        22.0        97.0       393.0  \n",
      "353       260.0        12.0        54.0       238.0  \n",
      "354        74.0         8.0         8.0        69.0  \n",
      "355       276.0        15.0        31.0       259.0  \n",
      "356      2108.0       101.0       675.0      1940.0  \n",
      "357       300.0        11.0        52.0       288.0  \n",
      "358      1524.0        70.0       338.0      1410.0  \n",
      "      DISTRICT  CTYSOSID PRECINCT_I   PRECINCT_N    CTYNAME CTYNUMBER  \\\n",
      "506    0551216   0551216       1216   DIRTSELLER  CHATTOOGA        27   \n",
      "1848   0551083   0551083       1083    COLDWATER  CHATTOOGA        27   \n",
      "1849    055925    055925        925  SUMMERVILLE  CHATTOOGA        27   \n",
      "1850    055968    055968        968       ALPINE  CHATTOOGA        27   \n",
      "1854   0551484   0551484       1484       LYERLY  CHATTOOGA        27   \n",
      "1857    055961    055961        961     SEMINOLE  CHATTOOGA        27   \n",
      "1874   0551382   0551382       1382      HAYWOOD  CHATTOOGA        27   \n",
      "1875    055962    055962        962     SUBLIGNA  CHATTOOGA        27   \n",
      "1879    055940    055940        940     DIRTTOWN  CHATTOOGA        27   \n",
      "1880  055P-870  055P-870      P-870    PENNVILLE  CHATTOOGA        27   \n",
      "1881    055870    055870        870        TRION  CHATTOOGA        27   \n",
      "2626  055C-968  055C-968      C-968    CLOUDLAND  CHATTOOGA        27   \n",
      "2627    055927    055927        927       TELOGA  CHATTOOGA        27   \n",
      "\n",
      "     CTYNUMBER2 FIPS2  G16PRERTRU  G16PREDCLI  G16PRELJOH  G16USSRISA  \\\n",
      "506         027   055         106          16           0         101   \n",
      "1848        027   055         106          53           3          93   \n",
      "1849        027   055        2099         759          67        1940   \n",
      "1850        027   055         451          93          17         414   \n",
      "1854        027   055         445          94          12         393   \n",
      "1857        027   055          77           5           5          69   \n",
      "1874        027   055          89          15           3          68   \n",
      "1875        027   055         295          30           5         259   \n",
      "1879        027   055         455          96          11         420   \n",
      "1880        027   055         272          48           3         238   \n",
      "1881        027   055        1589         306          36        1410   \n",
      "2626         27    55         158          58           5         134   \n",
      "2627         27    55         320          40          10         288   \n",
      "\n",
      "      G16USSDBAR  G16USSLBUC  G16PSCRECH  G16PSCLHOS  \\\n",
      "506           18           2         104          14   \n",
      "1848          48           8         104          30   \n",
      "1849         675         101        2108         524   \n",
      "1850         108          11         472          67   \n",
      "1854          97          22         429          84   \n",
      "1857           8           8          74           9   \n",
      "1874          23           3          80          17   \n",
      "1875          31          15         276          33   \n",
      "1879          98          22         452          73   \n",
      "1880          54          12         260          42   \n",
      "1881         338          70        1524         264   \n",
      "2626          72          10         156          46   \n",
      "2627          52          11         300          38   \n",
      "\n",
      "                                               geometry  \n",
      "506   POLYGON ((-85.48453 34.39363, -85.48454 34.393...  \n",
      "1848  POLYGON ((-85.43314 34.33346, -85.43314 34.333...  \n",
      "1849  POLYGON ((-85.42373 34.43431, -85.42380 34.434...  \n",
      "1850  POLYGON ((-85.48893 34.45308, -85.48895 34.452...  \n",
      "1854  POLYGON ((-85.39439 34.37844, -85.39455 34.378...  \n",
      "1857  POLYGON ((-85.43383 34.33524, -85.43379 34.335...  \n",
      "1874  POLYGON ((-85.16584 34.51196, -85.16578 34.512...  \n",
      "1875  POLYGON ((-85.16457 34.51915, -85.16450 34.518...  \n",
      "1879  POLYGON ((-85.31090 34.40477, -85.31116 34.404...  \n",
      "1880  POLYGON ((-85.29966 34.51221, -85.29949 34.511...  \n",
      "1881  POLYGON ((-85.37793 34.50245, -85.37803 34.502...  \n",
      "2626  POLYGON ((-85.40786 34.58922, -85.40789 34.589...  \n",
      "2627  POLYGON ((-85.46291 34.53143, -85.46291 34.531...  \n"
     ]
    }
   ],
   "source": [
    "#Instruction #3\n",
    "clouldland_teloga = precinct_shapes_ga[precinct_shapes_ga[\"CTYSOSID\"]==\"055XC-968\"]\n",
    "print(clouldland_teloga.head())\n",
    "\n",
    "#Confirming it is split in the MEDSL election results\n",
    "print(medsl_final[medsl_final[\"county_prec\"].str[0:3]==\"055\"])\n",
    "\n",
    "#New names should be \"CLOUDLAND\" and \"TELOGA\"\n",
    "\n",
    "#How it is stored in VEST\n",
    "print(vest_ga[vest_ga[\"CTYNAME\"]=='CHATTOOGA'])"
   ]
  },
  {
   "cell_type": "markdown",
   "metadata": {},
   "source": [
    "#### Instruction 4:\n",
    "District = 215FTBEN4  \n",
    "215FTBEN3  \n",
    "215FTBEN2  \n",
    "215FTBEN1  "
   ]
  },
  {
   "cell_type": "markdown",
   "metadata": {},
   "source": [
    "**Increasing Matches**"
   ]
  },
  {
   "cell_type": "code",
   "execution_count": 14,
   "metadata": {},
   "outputs": [],
   "source": [
    "changes_dict = {'321SYLVER EAST' : '321SYLVESTER EAST',\n",
    "'317SENIOR CITIZEN CENTER' : '317SENIOR CITIZEN CENTE',\n",
    "'317METASVILLE FIRE STATION' : '317METASVILLE FIRE STA',\n",
    "'315ROCHELLE SOUTH 4' : '315ROCHELLE SOUTH #4',\n",
    "'315ROCHELLE NORTH 1' : '315ROCHELLE NORTH #1',\n",
    "'315PITTS 3' : '315PITTS #3',\n",
    "'315PINEVIEW 2' : '315PINEVIEW #2',\n",
    "'315ABBEVILLE SOUTH 5' : '315ABBEVILLE SOUTH #5',\n",
    "'315ABBEVILLE NORTH 2' : '315ABBEVILLE NORTH #2',\n",
    "'311MT. YONAH' : '311MT YONAH',\n",
    "'305MT. PLEASANT' : '305MT PLEASANT',\n",
    "'295LAFAYETTE' : '295LA FAYETTE',\n",
    "'279514 S.T.I.A.L.C' : '279514 S.T.I.A.L.C.',\n",
    "'27939 NEW BRANCH' : '27939 NEWBRANCH',\n",
    "'277MOTT-LITTMAN GYM' : '277MOTT-LITMAN GYM',\n",
    "'275MERRILLVILLE' : '275MERRILVILLE',\n",
    "'275FIRE STATION 2' : '275FIRE STATION #2',\n",
    "'269#6 REYNOLDS' : '269PRECINCT 6',\n",
    "'269#5 COURTHOUSE' : '269PRECINCT 5',\n",
    "'269#1 BUTLER FIRE DEPT.' : '269PRECINCT 1',\n",
    "'261ANDERSONV' : '261ANDERSONVILLE',\n",
    "'251SCREVEN REC DEPT' : '251SCREVEN REC. DEPT.',\n",
    "'247STANTON' : '247ST',\n",
    "'247ST. PIUS' : '247SP',\n",
    "'247SMYRNA' : '247SM',\n",
    "'247SHEFFIELD' : '247SH',\n",
    "'247SALEM' : '247SA',\n",
    "'247ROCKDALE' : '247RO',\n",
    "'247OLDE TOWNE' : '247OT',\n",
    "'247MILSTEAD' : '247MI',\n",
    "'247MAGNET' : '247MA',\n",
    "'247LORRAINE' : '247LO',\n",
    "'247THE LAKES' : '247LA',\n",
    "'247HIGHTOWER' : '247HI',\n",
    "'247HONEY CREEK' : '247HC',\n",
    "'247FLAT SHOALS' : '247FS',\n",
    "'247FIELDSTONE' : '247FI',\n",
    "'247CONYERS' : '247CO',\n",
    "'247BETHEL' : '247BT',\n",
    "'247BARKSDALE' : '247BA',\n",
    "'243FOUNTAIN BRIDGE-4TH' : '243FOUNTAIN BRIDGE',\n",
    "'241RABUN' : '241RABUN COUNTY',\n",
    "'215ST PETER U. M. C.' : '215ST. PETER',\n",
    "'215NATIONAL INFANTRY' : '215NATIONAL INFANTRY MUSEUM',\n",
    "'215ST. MARK/HEIFERHORN' : '215ST MARK/HEIFERHORN',\n",
    "'215ST. ANDREWS/MIDLAND' : '215ST ANDREWS/MIDLAND',\n",
    "'215MT. PILGRIM' : '215MT PILGRIM',\n",
    "'215GALLOPS/HANNAN' : '215MARIANNA GALLOPS',\n",
    "'215CORNERSTONE CHURCH' : '215CORNERSTONE',\n",
    "'215BRITT DAVID BAPT CH' : '215BRITT DAVID',\n",
    "'211WEST MORGAN' : '2116. WEST MORGAN',\n",
    "'211NORTHEAST MORGAN' : '2111. NORTHEAST MORGAN',\n",
    "'211NORTH MORGAN' : '2117. NORTH MORGAN',\n",
    "'211EAST MORGAN' : '2112. EAST MORGAN',\n",
    "'211CLACKS CHAPEL' : '2115. CLACKS CHAPEL',\n",
    "'211CENTRAL MORGAN' : '2114. CENTRAL MORGAN',\n",
    "'211BETH/SPRINGFIELD' : '2113. BETH/SPRINGFIELD',\n",
    "'205HISONTON' : '205HINSONTON',\n",
    "'199WOODBURY' : '199LOWER 9TH-WOODBURY',\n",
    "'199WARM SPRINGS' : '1992ND-WARM SPRINGS',\n",
    "'199ODESSADALE' : '1997TH-ODESSADALE',\n",
    "'199MANCHESTER GILL II' : '199GILL II',\n",
    "'199MANCHESTER GILL I' : '199GILL I',\n",
    "'199GREENVILLE' : '1998TH-GREENVILLE',\n",
    "'199GAY' : '199MIDDLE 9TH-GAY',\n",
    "'199DURAND' : '199THIRD-DURAND',\n",
    "'199ALVATON' : '199UPPER 9TH -ALVATON',\n",
    "'197FT. PERRY' : '197FORT PERRY',\n",
    "'193MONTEZUMA 5' : '193MONTEZUMA #5',\n",
    "'193MONTEZUMA 4' : '193MONTEZUMA #4',\n",
    "'179LIBERTY COUNTY' : '179LIBERTY COUNTY COMPLEX',\n",
    "'179HINESVILLE LODGE' : '179HINESVILLE LODGE 271',\n",
    "'177SOVEREIGN GRACE' : '177#8 SOVEREIGN GRACE',\n",
    "'177SMITHVILLE' : '177#2 SMITHVILLE',\n",
    "'177SDA CHURCH' : '177#7 SDA CHURCH',\n",
    "'177REDBONE' : '177#10 REDBONE',\n",
    "'177LEESBURG' : '177#4 LEESBURG',\n",
    "'177FRIENDSHIP BAPT' : '177#5 FRIENDSHIP BAPT.',\n",
    "'177FIRST BAPTIST' : '177#6 FIRST BAPTIST',\n",
    "'177CJC' : '177#3 CJC',\n",
    "'177CHOKEE' : '177#1 CHOKEE',\n",
    "'177CENTURY FIRE STATION' : '177#9 CENTURY FIRE STAT',\n",
    "'175LCFS 10 (VALAMBROSIA)' : '175LCFS #10 (VALAMBROSIA)',\n",
    "'175FAMILY LIFE CENTER' : '175FBC - FLC',\n",
    "'171SENIOR CITZEN BLDG' : '171SENIOR CITIZEN BLDG',\n",
    "'161HAZELHURST' : '161HAZLEHURST',\n",
    "'157SOUTH MINISH' : '157S MINISH',\n",
    "'157SOUTH JEFFERSON' : '157S JEFFERSON',\n",
    "'157NORTH MINISH' : '157N MINISH',\n",
    "'157NORTH JEFFERSON' : '157N JEFFERSON',\n",
    "'151MT. CARMEL' : '151MOUNT CARMEL',\n",
    "'141MAYFIELD COMM CENTER' : '141MAYFIELD COMMUNITY CENTER',\n",
    "'13931-FRIENDSHIP IV' : '139FRIENDSHIP IV',\n",
    "'13930-FRIENDSHIP III' : '139FRIENDSHIP III',\n",
    "'13929-FRIENDSHIP II' : '139FRIENDSHIP II',\n",
    "'13928-FRIENDSHIP I' : '139FRIENDSHIP I',\n",
    "'13927-BIG HICKORY' : '139BIG HICKORY',\n",
    "'13926-GILLSVILLE' : '139GILLSVILLE',\n",
    "'13925-GAINESVILLE V' : '139GAINESVILLE V',\n",
    "'13924-GAINESVILLE IV' : '139GAINESVILLE IV',\n",
    "'13923-GAINESVILLE III' : '139GAINESVILLE III',\n",
    "'13922-GAINESVILLE II' : '139GAINESVILLE II',\n",
    "'13921-GAINESVILLE I' : '139GAINESVILLE I',\n",
    "'13920-WEST WHELCHEL' : '139WEST WHELCHEL',\n",
    "'13919-WHELCHEL' : '139WHELCHEL',\n",
    "'13918-FORK' : '139FORK',\n",
    "'13917-CHESTATEE' : '139CHESTATEE',\n",
    "'13916-BARK CAMP' : '139BARK CAMP',\n",
    "'13915-QUILLIANS' : '139QUILLIANS',\n",
    "'13914-CLERMONT' : '139CLERMONT',\n",
    "'13913-LULA' : '139LULA',\n",
    "'13912-GLADE' : '139GLADE',\n",
    "'13911-TADMORE' : '139TADMORE',\n",
    "'13910-CANDLER' : '139CANDLER',\n",
    "'13909-MORGAN II' : '139MORGAN II',\n",
    "'13908-MORGAN I' : '139MORGAN I',\n",
    "'13907-ROBERTS' : '139ROBERTS',\n",
    "'13906-FLOWERY BRANCH II' : '139FLOWERY BRANCH II',\n",
    "'13905-FLOWERY BRANCH I' : '139FLOWERY BRANCH I',\n",
    "'13904-OAKWOOD II' : '139OAKWOOD II',\n",
    "'13903-OAKWOOD I' : '139OAKWOOD I',\n",
    "'13902-CHICOPEE' : '139CHICOPEE',\n",
    "'13901-WILSON' : '139WILSON',\n",
    "'131CAIRO 5TH DISTRICT' : '131CAIRO 5TH DISTR',\n",
    "'131CAIRO 4TH DISTRICT' : '131CAIRO 4TH DISTR',\n",
    "'127STERLING ELEM SCHOOL' : '127STERLING ELEMENTARY',\n",
    "'127STERLING CHURCH OF GOD' : '127STERLING CH. OF GOD',\n",
    "'127BURROUGHS' : '127BURROUGHS MOLETTE',\n",
    "'127BALLARD COMPLEX' : '127BALLARD COMMUNITY BUILDING',\n",
    "'099LUCILLE' : '099LUCILE',\n",
    "'097FIRST BAPTIST CHURCH' : '097FIRST BAPTIST DOUGLASVILLE',\n",
    "'097FIRST BAPTIST - LITHIA SPRINGS' : '097FIRST BAPTIST LITHIA SPRINGS',\n",
    "'097DAY STAR' : '097DAY STAR GYM',\n",
    "'097COUNTY LINE BAPTIST CHURCH' : '097COUNTY LINE BAPTIST',\n",
    "'097CHURCH-CH' : '097CHURCH AT CHAPEL HILL',\n",
    "'097BEULAH' : '097BEULAH BAPTIST CHURCH',\n",
    "'095SHILOH BAPTIST CHURCH' : '095SHILOH BAPTIST CHURC',\n",
    "'095SECOND MT. ZION' : '0952ND MT ZION CHURCH',\n",
    "'095PUTNEY 1ST BAPT CHURCH' : '095PUTNEY 1ST BAPT CHUR',\n",
    "'095PINE BLUFF BAPT CHURCH' : '095PINE BLUFF BAPT CHUR',\n",
    "'095PHOEBE EDU. BLDG' : '095PHOEBE EDUCATION BLD',\n",
    "'095PALMYRA RD METH CHURCH' : '095PALMYRA METH CHURCH',\n",
    "'095MT. ZION CENTER' : '095MT ZION CENTER',\n",
    "'095LAMAR REESE ELEM SCHOOL' : '095LAMAR REESE ELEM SCH',\n",
    "'095FIRST CHRISTIAN CHURCH' : '0951ST CHRISTIAN CHURCH',\n",
    "'095COVENANT PRES CHURCH' : '095COVENANT CHURCH',\n",
    "'091YONKER' : '091YONKE',\n",
    "'091VILULA' : '091VILUL',\n",
    "'091RAWLINS' : '091RAWLI',\n",
    "'091PONDTOWN' : '091PONDT',\n",
    "'091PLAINFIELD' : '091PLAIN',\n",
    "'091MULLIS' : '091MULLI',\n",
    "'091MITCHELL' : '091MITCH',\n",
    "'091MCCRANIE' : '091MCCRA',\n",
    "'091JAYBIRD' : '091JAYBI',\n",
    "'091EMPIRE' : '091EMPIR',\n",
    "'091CHAUNCEY' : '091CHAUN',\n",
    "'089WOODWARD ELEM' : '089WOODWARD (BHAVN)',\n",
    "'089WINTERS CHAPEL' : '089WINTERS CHAPEL (DUN)',\n",
    "'089WINNONA PARK ELEM' : '089WINNONA PARK ELEM (DEC)',\n",
    "'089WHITEFOORD ELEM' : '089WHITEFOORD ELEM (ATL)',\n",
    "'089TILLY MILL ROAD' : '089TILLY MILL ROAD (DUN)',\n",
    "'089TERRY MILL ELEM' : '089TERRY MILL',\n",
    "'089STONE MOUNTAIN MIDDLE' : '089STN MTN MIDDLE',\n",
    "'089STONE MOUNTAIN LIBRARY' : '089STONE MTN LIBRARY  (STO)',\n",
    "'089STONE MOUNTAIN CHAMPION' : '089STONE MTN CHAMPION (STO)',\n",
    "'089SNAPFINGER ROAD SOUTH' : '089SNAPFINGER ROAD S',\n",
    "'089SNAPFINGER ROAD NORTH' : '089SNAPFINGER ROAD N',\n",
    "'089SMOKE RISE ELEM' : '089SMOKE RISE',\n",
    "'089SKYLAND' : '089SKYLAND (BHAVN)',\n",
    "'089SILVER LAKE' : '089SILVER LAKE (BHAVN)',\n",
    "'089ROCKBRIDGE ELEM' : '089ROCKBRIDGE',\n",
    "'089RENFROE MIDDLE' : '089RENFROE MIDDLE (DEC)',\n",
    "'089PONCE DE LEON' : '089PONCE DE LEON (DEC)',\n",
    "'089PLEASANTDALE ELEM' : '089PLEASANTDALE ROAD',\n",
    "'089PINE LAKE' : '089PINE LAKE (PIN)',\n",
    "'089PEACHTREE MIDDLE' : '089PEACHTREE MIDDLE (DUN)',\n",
    "'089PEACHCREST ELEM' : '089PEACHCREST',\n",
    "'089OAKHURST' : '089OAKHURST (DEC)',\n",
    "'089NORTH PEACHTREE' : '089NORTH PEACHTREE (DUN)',\n",
    "'089MT. VERNON WEST' : '089MOUNT VERNON WEST (DUN)',\n",
    "'089MT. VERNON EAST' : '089MOUNT VERNON EAST (DUN)',\n",
    "'089MONTGOMERY ELEM' : '089MONTGOMERY ELEM  (BHAVN)',\n",
    "'089MILLER-ELDRIDGE L. MILLER ELEM' : '089MILLER-ELDRIDGE L MILLER ELEM',\n",
    "'089MILLER GROVE MIDDLE' : '089MILLER GROVE',\n",
    "'089MIDWAY ELEM' : '089MIDWAY',\n",
    "'089METROPOLITAN' : '089METROPOLITAN (ATL)',\n",
    "'089MEDLOCK ELEM' : '089MEDLOCK',\n",
    "'089MEADOWVIEW ELEM' : '089MEADOWVIEW',\n",
    "'089MCNAIR MIDDLE' : '089MCNAIR',\n",
    "'089LITHONIA' : '089LITHONIA (LIT)',\n",
    "'089LIN-MARY LIN ELEM' : '089LIN-MARY LIN ELEM (ATL)',\n",
    "'089KNOLLWOOD ELEM' : '089KNOLLWOOD',\n",
    "'089KITTREDGE ELEM' : '089KITTREDGE ELEM (BHAVN)',\n",
    "'089KINGSLEY ELEM' : '089KINGSLEY ELEM (DUN)',\n",
    "'089JOHNSON ESTATES' : '089JOHNSON ESTATES (ATL)',\n",
    "'089IDLEWOOD ELEM' : '089IDLEWOOD ELEM (TUC)',\n",
    "'089HUNTLEY HILLS ELEM' : '089HUNTLEY HILLS ELEM (CHA)',\n",
    "'089HARRIS-NARVIE J. HARRIS ELEM' : '089NARVIE J HARRIS ELEM',\n",
    "'089GEORGETOWN SQUARE' : '089GEORGETOWN SQ (DUN)',\n",
    "'089EPWORTH' : '089EPWORTH (ATL)',\n",
    "'089EAST LAKE ELEM' : '089EAST LAKE (ATL)',\n",
    "'089DUNWOODY LIBRARY' : '089DUNWOODY LIBRARY (DUN)',\n",
    "'089DUNWOODY HIGH' : '089DUNWOODY HIGH (DUN)',\n",
    "'089DUNWOODY' : '089DUNWOODY (DUN)',\n",
    "'089DRESDEN ELEM' : '089DRESDEN ELEM (CHA)',\n",
    "'089DORAVILLE SOUTH' : '089DORAVILLE SOUTH (DOR)',\n",
    "'089DORAVILLE NORTH' : '089DORAVILLE NORTH (DOR)',\n",
    "'089CROSS KEYS HIGH' : '089CROSS KEYS HIGH (BHAVN)',\n",
    "'089COVINGTON HWY LIBRARY' : '089COVINGTON HWY',\n",
    "'089CLIFTON ELEM' : '089CLIFTON',\n",
    "'089CLARKSTON' : '089CLARKSTON (CLA)',\n",
    "'089CLAIREMONT WEST' : '089CLAIREMONT WEST (DEC)',\n",
    "'089CLAIREMONT EAST' : '089CLAIREMONT EAST (DEC)',\n",
    "'089CHESNUT ELEM' : '089CHESNUT ELEM (DUN)',\n",
    "'089CHAMBLEE 2' : '089CHAMBLEE 2 (CHA)',\n",
    "'089CHAMBLEE' : '089CHAMBLEE (CHA)',\n",
    "'089BURGESS ELEM' : '089BURGESS ELEM (ATL)',\n",
    "'089BROOKHAVEN' : '089BROOKHAVEN (BHAVN)',\n",
    "'089BROCKETT ELEM' : '089BROCKETT ELEM (TUC)',\n",
    "'089BROCKETT' : '089BROCKETT (TUC)',\n",
    "'089BRIARWOOD' : '089BRIARWOOD (BHAVN)',\n",
    "'089BOULEVARD' : '089BOULEVARD (ATL)',\n",
    "'089BOULDERCREST RD' : '089BOULDERCREST ROAD',\n",
    "'089AVONDALE' : '089AVONDALE (AVO)',\n",
    "'089AUSTIN' : '089AUSTIN (DUN)',\n",
    "'089ASHFORD PARKSIDE' : '089ASHFORD PARKSIDE (BHAVN)',\n",
    "'089ASHFORD PARK ELEM' : '089ASHFORD PARK ELEM (BHAVN)',\n",
    "'089ASHFORD DUNWOODY RD' : '089ASHFORD DUNWOODY RD (BHAVN)',\n",
    "'087MT PLEASANT' : '087MT. PLEASANT',\n",
    "'087BRIDGE-FAIRGROUNDS' : '087BDGE-FAIRGROUNDS',\n",
    "'075NEW LIFE BAPT. CHURCH' : '075NEW LIFE BAPTIST CH.',\n",
    "'073WOODLAWN BAPTIST CHURCH' : '073WOODLAWN BAPT CHURCH',\n",
    "'073WARREN BAPTIST CHURCH - GROVETOWN' : '073WARREN BAPTIST CHURCH-GROVETOWN',\n",
    "'073SECOND MT CARMEL BAPT CHURCH' : '073SECOND MT. CARMEL BAPTIST CHURCH',\n",
    "'073MTZ COL FIRE HDQTR' : '073MTZ COL FIRE HDQTR.',\n",
    "'073MARVIN METHODIST CHURCH' : '073MARVIN METHODIST',\n",
    "'073LEWIS METHODIST CHURCH' : '073LEWIS METHODIST',\n",
    "'073GROVETOWN MIDDLE SCHOOL' : '073GROVETOWN MIDDLE SCH',\n",
    "'073GROVETOWN METHODIST CHURCH' : '073GROVETOWN METHODIST',\n",
    "'073EUBANK/BLANCHARD CENTER' : '073EUBANK/BLANCHARD CTR',\n",
    "'073DAMASCUS BAPTIST CHURCH' : '073DAMASCUS BAPT CHURCH',\n",
    "'073COL CTY BD OF EDU' : '073COL CTY BOARD OF EDU',\n",
    "'073CHRIST THE KING LUTH CH' : '073CHRIST THE KING CH',\n",
    "'073CHRIST CHURCH' : '073CHRIST CHURCH, PRESBYTERIAN',\n",
    "'073BLUE RIDGE ELEMENTARY' : '073BLUERIDGE ELEMENTARY',\n",
    "'067WILEO 01' : '067WILLEO 01',\n",
    "'067VAUGHN 01' : '067VAUGHAN 01',\n",
    "'067SHALLOWFORD FALL 01' : '067SHALLOWFORD FALLS 01',\n",
    "'067ROCKY MOUNTAIN 01' : '067ROCKY MOUNT 01',\n",
    "'067MOUNT BETHEL 04' : '067MT BETHEL 04',\n",
    "'067MOUNT BETHEL 03' : '067MT BETHEL 03',\n",
    "'067MOUNT BETHEL 01' : '067MT BETHEL 01',\n",
    "'067LASSSITER 01' : '067LASSITER 01',\n",
    "'067HARMONY LELAND 01' : '067HARMONY-LELAND 01',\n",
    "\"061DAY'S CROSS ROADS\" : '061DAYS CROSS ROAD',\n",
    "'061COURTHOUSE' : '061COURT HOUSE',\n",
    "'0518-15 GARDEN CITY RECREATION CENTER' : '051GARDEN CITY REC CTR',\n",
    "'0518-13 SAVANNAH CHRISTIAN SCHOOL' : '051SAVANNAH CHRISTIAN S',\n",
    "'0518-12 BEACH HIGH SCHOOL' : '051BEACH HIGH SCHOOL',\n",
    "'0518-11 BUTLER SCHOOL' : '051BUTLER ELEMENTARY SC',\n",
    "'0518-10 CARVER HEIGHTS COMMUNITY CENTER' : '051CARVER HEIGHTS COMM',\n",
    "'0518-09 MOSES JACKSON CENTER' : '051MOSES JACKSON CENTER',\n",
    "'0518-08 RESURRECTION OF OUR LORD CHURCH' : '051RESURRECTION OF OUR LORD CATHOLIC CHURCH',\n",
    "'0518-07 WOODVILLE TOMPKINS TECHNICAL INSTITUTE' : '051WOODVILLE-TOMPKINS TECHNICAL INST',\n",
    "'0518-05 W BROAD YMCA' : '051WEST BROAD STREET YMCA',\n",
    "'0518-03 SILK HOPE BAPTIST CHURCH' : '051SILK HOPE BAPTIST CHURCH',\n",
    "'0518-01 CIVIC CENTER' : '051CIVIC CENTER',\n",
    "'0517-14 COASTAL CATHEDRAL CHURCH OF GOD' : '051COASTAL CATHEDRAL',\n",
    "'0517-12 POOLER CHURCH' : '051POOLER CHRURCH',\n",
    "'0517-11 SAVANNAH FIRST SEVENTH DAY ADVENTIST CHURCH' : '051SEVENTH DAY ADV CHR',\n",
    "'0517-10 PROGRESSIVE RECREATION' : '051PROGRESSIVE REC CTR',\n",
    "'0517-08 BLOOMINGDALE COMMUNITY CENTER' : '051BLOOMINGDALE COMMUNITY CENTER',\n",
    "'0517-07 ROTHWELL BAPTIST CHURCH' : '051ROTHWELL BAPTIST CHURCH',\n",
    "'0517-06 POOLER CITY HALL' : '051POOLER CITY HALL',\n",
    "'0517-05 WOODLAWN BAPTIST CHURCH' : '051WOODLAWN BAPTIST CHURCH',\n",
    "'0517-04 LAKESHORE COMMUNITY CENTER' : '051LAKE SHORE COMMUNITY CENTER',\n",
    "'0517-03 PRESTON B. EDWARDS GYMNASIUM' : '051PB EDWARDS GYMNASIUM',\n",
    "'0517-01 GARDEN CITY SENIOR CENTER' : '051GARDEN CITY SENIOR CENTER',\n",
    "'0516-10 GEORGETOWN ELEMENTARY' : '051GEORGETOWN ELEMENTAR',\n",
    "'0516-09 TRINITY LUTHERAN CHURCH' : '051TRINITY LUTHERAN CHURCH',\n",
    "'0516-06 THE LIGHT' : '051THE LIGHT CHURCH',\n",
    "'0516-05 WINDSOR ELEM./ GOLDEN AGE' : '051WINDSOR FOREST ELEM/GOLDEN AGE CENTER',\n",
    "'0516-03 CRUSADER COMMUNITY CENTER' : '051CRUSADER COMMUNITY CENTER',\n",
    "'0516-02 WINDSOR FOREST BAPTIST SCHOOL' : '051WINDSOR FOREST BAPTIST CHURCH SCHOOL',\n",
    "'0516-01 WHITE BLUFF PRESBYTERIAN CHURCH' : '051WHITE BLUFF PRESBYTERIAN CHURCH',\n",
    "'0515-11 LARGO TIBET SCHOOL' : '051LARGO-TIBET ELEMENTA',\n",
    "'0515-10 JONESVILLE BAPTIST CHURCH' : '051JONESVILLE BAPT CH',\n",
    "'0515-08 SAVANNAH PRIMITIVE BAPTIST CHURCH' : '051SAVANNAH PRIMITIVE BAPTIST CHURCH',\n",
    "'0515-07 ELKS LODGE' : '051ELKS LODGE',\n",
    "'0515-06 SEED CHURCH' : '051SEED CHURCH',\n",
    "'0515-05 LIBERTY CITY COMMUNITY CENTER' : '051LIBERTY CITY COMMUNITY CENTER',\n",
    "'0515-03 BUTLER PRESBYTERIAN ED. BUILDING' : '051BUTLER PRESBYTERIAN CHURCH ED BLDG',\n",
    "'0515-02 SENIOR CITIZENS CENTER' : '051SENIOR CITIZEN CENTER',\n",
    "'0515-01 BARTLETT MIDDLE SCHOOL' : '051BARTLETT MIDDLE SCHOOL',\n",
    "'0514-15 SKIDAWAY ISLAND STATE PARK' : '051SKIDAWAY ISLAND STAT',\n",
    "'0514-14 SKIDAWAY ISLAND METHODIST CHURCH' : '051SKID METHODIST CH',\n",
    "'0514-13 SKIDAWAY ISLAND PRESBYTERIAN CHURCH' : '051SKID IS PRES CHURCH',\n",
    "'0514-12 ST. PETERS EPISCOPAL CHURCH' : '051ST PETERS EPISCOPAL',\n",
    "'0514-11 TYBEE SCHOOL CAFETERIA' : '051TYBEE IS SCH CAFE',\n",
    "'0514-10 GUARD HOUSE COMMUNITY CENTER' : '051GUARD HOUSE COMM CTR',\n",
    "'0514-08 WILMINGTON ISLAND PRESBYTERIAN CHURCH' : '051WILMINGTON ISLAND PRESBYTERIAN CHURCH',\n",
    "'0514-07 WILMINGTON ISLAND METHODIST CHURCH' : '051WILMINGTON ISLAND UNITED METHODIST CHURCH',\n",
    "'0514-06 FIRST BAPTIST CHURCH OF ISLAND' : '051FIRST BAPTIST CHURCH OF THE ISLAND',\n",
    "'0514-05 SAINT FRANCIS EPISCOPAL' : '051SAINT FRANCIS EPISCOPAL CHURCH',\n",
    "'0514-04 LIGHTHOUSE BAPTIST CHURCH' : '051LIGHTHOUSE BAPTIST CHURCH',\n",
    "'0514-02 FRANK MURRAY COMMUNITY CENTER' : '051FRANK MURRAY COMMUNITY CENTER',\n",
    "'0513-13 NEW COVENANT SEVENTH DAY ADVENTIST CHURCH' : '051NEW COV 7 DAY ADV CH',\n",
    "'0513-12 THUNDERBOLT MUNICIPAL COMPLEX' : '051THUNDERBOLT MUN COMP',\n",
    "'0513-11 SOUTHSIDE BAPTIST CHURCH' : '051SOUTHSIDE BAPTIST CH',\n",
    "'0513-10 BIBLE BAPTIST CHURCH' : '051BIBLE BAPTIST CHURCH',\n",
    "'0513-09 COKESBURY METHODIST CHURCH' : '051COKESBURY METHODIST CHURCH',\n",
    "'0513-08 JENKINS HIGH SCHOOL' : '051JENKINS HIGH SCHOOL',\n",
    "'0513-05 ALDERSGATE YOUTH CENTER' : '051ALDERSGATE YOUTH CENTER',\n",
    "'0513-04 1ST AFRICAN BAPTIST CHURCH' : '051FIRST AFRICAN BAPTIST CHURCH',\n",
    "'0513-03 SAVANNAH HIGH SCHOOL' : '051SAVANNAH HIGH SCHOOL',\n",
    "'0513-02 ROSE OF SHARON' : '051ROSE OF SHARON',\n",
    "'0513-01 OLD COURTHOUSE' : '051OLD COURTHOUSE',\n",
    "'0512-12 WILLIAMS COURT' : '051WILLIAMS COURT APTS',\n",
    "'0512-09 SALVATION ARMY' : '051SALVATION ARMY',\n",
    "'0512-07 CHRIST COMMUNITY CHURCH AT MORNINGSIDE' : '051CHRIST COMMUNITY CHURCH AT MORNINGSIDE',\n",
    "'0512-05 HOLY SPIRIT LUTHERAN CHURCH' : '051HOLY SPIRIT LUTHERAN CHURCH',\n",
    "'0512-04 FELLOWSHIP OF LOVE COMMUNITY CHURCH' : '051FELLOWSHIP OF LOVE COMMUNITY CHURCH',\n",
    "'0512-03 W. W. LAW CENTER' : '051W W LAW CENTER',\n",
    "'0512-02 BLACKSHEAR COMMUNITY CENTER' : '051BLACKSHEAR COMMUNITY CENTER',\n",
    "'0511-17 ISLANDS CHRISTIAN CHURCH' : '051ISLANDS CHRISTIAN CH',\n",
    "'0511-16 FERGUSON AVE BAPTIST CHURCH' : '051FERGUSON AVE BAPTIST',\n",
    "'0511-14 ST. LUKE UNITED METHODIST CHURCH' : '051ST LUKE CHURCH',\n",
    "'0511-13 THE SANCTUARY' : '051THE SANCTUARY',\n",
    "'0511-12 ISLE OF HOPE BAPTIST CENTER' : '051ISLE OF HOPE BAPTIST',\n",
    "'0511-09 IMMANUEL BAPTIST CHURCH' : '051IMMANUEL BAPTIST CHURCH',\n",
    "'0511-08 GRACE UNITED METHODIST CHURCH' : '051GRACE UNITED METHODIST CHURCH',\n",
    "'0511-06 CENTRAL CHURCH OF CHRIST' : '051CENTRAL CHURCH OF CHRIST',\n",
    "'0511-05 J E A BUILDING' : '051JEA BUILDING',\n",
    "'0511-01 FIRST PRESBYTERIAN CHURCH' : '051FIRST PRESBYTERIAN CHURCH',\n",
    "'047FORT OGLETHORPE' : '047FT OGLETHORPE',\n",
    "'045WHITESBURG (682)' : '045WHITESBURG',\n",
    "'045WEST CARROLLTON (714A1)' : '045WEST CARROLLTON',\n",
    "'045VILLA RICA CITY (642)' : '045VILLA RICA CITY',\n",
    "'045V R COUNTY SOUTH (640)' : '045V R COUNTY SOUTH',\n",
    "'045V R COUNTY NORTH (641)' : '045V R COUNTY NORTH',\n",
    "'045UNIVERSITY OF W. GA (714A4)' : '045UNIVERSITY OF W. GA',\n",
    "'045TYUS (1533)' : '045TYUS',\n",
    "'045TEMPLE COUNTY (649)' : '045TEMPLE COUNTY',\n",
    "'045TEMPLE CITY (650)' : '045TEMPLE CITY',\n",
    "'045TABERNACLE CHURCH (714A6)' : '045TABERNACLE CHURCH',\n",
    "'045SANDHILL (1122)' : '045SANDHILL',\n",
    "'045ROOPVILLE (713)' : '045ROOPVILLE',\n",
    "'045OLD CAMP CHURCH (714BW)' : '045OLD CAMP CHURCH',\n",
    "'045OAK GROVE (715)' : '045OAK GROVE',\n",
    "'045NEW HOPE (716)' : '045NEW HOPE',\n",
    "'045MT ZION (1240)' : '045MT ZION',\n",
    "'045LOWELL (1163)' : '045LOWELL',\n",
    "'045KANSAS (1006)' : '045KANSAS',\n",
    "'045HULETT (1542)' : '045HULETT',\n",
    "'045FAIRFIELD (1540)' : '045FAIRFIELD',\n",
    "'045EMC (714BN)' : '045EMC',\n",
    "'045EAST CARROLLTON REC (714A2)' : '045EAST CARROLLTON REC',\n",
    "'045COUNTY ADMIN BLDG (714A5)' : '045COUNTY ADMIN BLDG',\n",
    "'045CLEM (1483)' : '045CLEM',\n",
    "'045CENTER POINT (1152)' : '045CENTER POINT',\n",
    "'045BURWELL (1371)' : '045BURWELL',\n",
    "'045BOWDON JUNCTION (1496)' : '045BOWDON JUNCTION',\n",
    "'045BOWDON (1111)' : '045BOWDON',\n",
    "'045BONNER (714A3)' : '045BONNER',\n",
    "'045BETHANY (501)' : '045BETHANY',\n",
    "'043METTER -1685' : '043METTER - 1685',\n",
    "'043CANDLER-1736' : '043CANDLER - 1736',\n",
    "'029RH RECREATION' : '029RH RECREATION COMPX',\n",
    "'029PUBLIC SAFETY' : '029PUBLIC SAFETY COMPX',\n",
    "'029J.F. GREGORY PARK' : '029J.F.GREGORY PARK',\n",
    "'015WOODLAND HIGH' : '015WOODLAND',\n",
    "'01316 THE CHURCH AT WINDER' : '013THE CHURCH AT WINDER',\n",
    "'01315 COUNTY LINE ELEMENTARY SCHOOL' : '013COUNTY LINE ELEMENTARY SCHOOL',\n",
    "'01314 CEDAR CREEK BAPTIST CHURCH' : '013CEDAR CREEK BAPTIST CHURCH',\n",
    "'01313 WINDER COMMUNITY CENTER' : '013WINDER COMMUNITY CENTER',\n",
    "'01312 MIDWAY UNITED METHODIST CHURCH' : '013MIDWAY UNITED METHODIST CHURCH',\n",
    "'01311 APALACHEE HIGH SCHOOL' : '013APALACHEE HIGH SCHOOL',\n",
    "'01310 LEISURE SERVICES CENTER' : '013LEISURE SERVICES CENTER',\n",
    "'01309 LIONS CLUB' : '013LIONS CLUB',\n",
    "'01308 FIRST BAPTIST CHURCH WINDER' : '013FIRST BAPTIST CHURCH  WINDER',\n",
    "'01307 STATHAM ELEMENTARY SCHOOL' : '013STATHAM ELEMENTARY SCHOOL',\n",
    "'01306 WINDER BARROW HIGH SCHOOL' : '013WINDER-BARROW HIGH SCHOOL',\n",
    "'01305 FIRE STATION 1 (STATHAM)' : '013FIRE STATION 1 (STATHAM)',\n",
    "'01304 WESTSIDE MIDDLE SCHOOL' : '013WESTSIDE MIDDLE SCHOOL',\n",
    "'01303 BRAMLETT ELEMENTARY SCHOOL' : '013BRAMLETT ELEMENTARY SCHOOL',\n",
    "'01302 BETHABRA BAPTIST CHURCH' : '013BETHABRA BAPTIST CHURCH',\n",
    "'01301 BETHLEHEM COMMUNITY CENTER' : '013BETHLEHEM COMMUNITY CENTER',\n",
    "'007HOGGARD MILL' : '007HOGGARDS MILL'}"
   ]
  },
  {
   "cell_type": "code",
   "execution_count": 15,
   "metadata": {},
   "outputs": [],
   "source": [
    "medsl_final['county_prec'] = medsl_final['county_prec'].map(changes_dict).fillna(medsl_final[\"county_prec\"])"
   ]
  },
  {
   "cell_type": "code",
   "execution_count": 16,
   "metadata": {},
   "outputs": [],
   "source": [
    "#Noticed these by matching the vote totals\n",
    "medsl_255 = [\"255UGA CAMPUS\",\"255THIRD WARD\",\"255SUNNYSIDE METHODI\",\"255SENIOR CENTER\",\"255SECOND BAPTISH CH\",\"255ROBERTS\",\"255LIBERTY\",\"255GARY REID\",\"255FIRST PRESBYTERIA\",\"255FIRST METHODIST\",\"255FIRST ASSEMBLY\",\"255FAIRMONT\",\"255EAGES LANDING BAPTIST\",\"255COUNTY LINE\",\"255COMMUNITY\",\"255CITY PARK\",\"255CARVER\",\"255CABIN\",\"255BOY SCOUTS HDQTRS\",\"255BLALOCK\",\"255AMBUCS\"]\n",
    "vest_255 = [\"25521\",\"25520\",\"25519\",\"25518\",\"25517\",\"25516\",\"25515\",\"25514\",\"25513\",\"25512\",\"25511\",\"25510\",\"25509\",\"25508\",\"25507\",\"25506\",\"25505\",\"25504\",\"25503\",\"25502\",\"25501\"]\n",
    "\n",
    "#print(medsl_final[medsl_final[\"county_prec\"].isin(medsl_255)].sort_values(by=['G16PREDCLI'])[\"county_prec\"])\n",
    "#print(vest_ga[vest_ga[\"county_prec\"].isin(vest_255)].sort_values(by=['G16PREDCLI'])[\"PRECINCT_N\"])\n",
    "\n",
    "\n",
    "changes_255 = {\"255BLALOCK\": \"25515\",\n",
    "\"255CABIN\": \"25509\",\n",
    "\"255COUNTY LINE\": \"25513\",\n",
    "\"255LIBERTY\": \"25512\",\n",
    "\"255THIRD WARD\": \"25504\",\n",
    "\"255SENIOR CENTER\": \"25503\",\n",
    "\"255ROBERTS\": \"25520\",\n",
    "\"255FIRST METHODIST\": \"25507\",\n",
    "\"255SUNNYSIDE METHODI\": \"25514\",\n",
    "\"255BOY SCOUTS HDQTRS\": \"25508\",\n",
    "\"255AMBUCS\": \"25517\",\n",
    "\"255CARVER\": \"25510\",\n",
    "\"255FIRST ASSEMBLY\": \"25519\",\n",
    "\"255FIRST PRESBYTERIA\": \"25511\",\n",
    "\"255SECOND BAPTISH CH\": \"25501\",\n",
    "\"255COMMUNITY\": \"25518\",\n",
    "\"255GARY REID\": \"25516\",\n",
    "\"255CITY PARK\": \"25506\",\n",
    "\"255FAIRMONT\": \"25502\",\n",
    "\"255EAGES LANDING BAPTIST\": \"25521\",\n",
    "\"255UGA CAMPUS\": \"25505\",\n",
    "#Found these by looking at the \"Precinct I\" column\n",
    "\"0598C FIRESTATION #7\":\"0598C\",\n",
    "\"0598B CEDAR SHLS HIGH SCH\":\"0598B\",\n",
    "\"0598A GAINES SCHOOL\":\"0598A\",\n",
    "\"0597C FIRESTATION #3\":\"0597C\",\n",
    "\"0597B ALPS ELEM. SCHOOL\":\"0597B\",\n",
    "\"0597A TIMOTHY ROAD SCHOOL\":\"059TIMOTHY ELEMENTARY SCHOOL\", #Looked at Precinct_I\n",
    "\"0596D FIRESTATION #4\":\"0596D\",\n",
    "\"0596C TIMOTHY ROAD SCHOOL\":\"0596C\",\n",
    "\"0596B GA SQUARE MALL\":\"059GEORGIA SQUARE MALL\", #Looked at Precinct_I\n",
    "\"0596A CLEVELAND RD SCHOOL\":\"0596A\",\n",
    "\"0595D ACC FLEET MGT BLDG\":\"0595D\",\n",
    "\"0595C CHASE STREET SCHOOL\":\"0595C\",\n",
    "\"0595B WHITEHEAD RD SCHOOL\":\"0595B\",\n",
    "\"0595A OGLETHORPE SCHOOL\":\"0595A\",\n",
    "\"0594B MEMORIAL PARK\":\"0594B\",\n",
    "\"0594A ATHENS TRANSIT CTR\":\"0594A\",\n",
    "\"0593B THOMAS N. LAY PARK\":\"0593B\",\n",
    "\"0593A CLARKE CENTRAL HIGH\":\"0593A\",\n",
    "\"0592B HOWARD STROUD SCHOOL\":\"0592B\",\n",
    "\"0592A JUDIA J. HARRIS SCH\":\"0592A\",\n",
    "\"0591D WHIT DAVIS SCHOOL\":\"0591D\",\n",
    "\"0591C WHIT DAVIS SCHOOL\":\"059WHIT DAVIS SCHOOL\", #Looked at Precinct_I\n",
    "\"0591B GAINES SCHOOL\":\"059GAINES SCHOOL\", #Looked at Precinct_I\n",
    "\"0591A W'VILLE TRAIN DEPOT\":\"0591A \",\n",
    "\"0518-06 MARY FLOURNOY GOLDEN AGE CENTER\":\"051TOMPKINS RECREATION CENTER\",\n",
    "\"0518-02 HELLENIC CENTER\":\"051BULL STREE BAPTIST CHURCH\",\n",
    "\"0517-13 SOUTHSIDE FIRE TRAINING CENTER\":\"051GARDEN CITY CITY HAL\",\n",
    "\"0517-09 SAVANNAH HOLY CHURCH OF GOD\":\"051SOUTHWEST BAPTIST CHURCH\",\n",
    "\"0516-11 COASTAL GEORGIA BOTANICAL GARDENS\":\"051BAMBOO FARMS\",\n",
    "\"0516-08 SAVANNAH COMMONS\":\"051ST. FRANCIS CABRINI CHURCH\",\n",
    "\"0513-14 OGLETHORPE CHARTER ACADEMY\":\"051RIVERVIEW HEALTH REH\",\n",
    "\"0512-11 STILLWELL TOWERS\":\"051S GARDENS CHRISTIAN\",\n",
    "\"0511-10 ST. THOMAS EPISCOPAL CHURCH\":\"051ISLE OF HOPE SCHOOL\"}\n",
    "\n",
    "medsl_final['county_prec'] = medsl_final['county_prec'].map(changes_255).fillna(medsl_final[\"county_prec\"])\n",
    "\n"
   ]
  },
  {
   "cell_type": "code",
   "execution_count": 17,
   "metadata": {},
   "outputs": [
    {
     "name": "stdout",
     "output_type": "stream",
     "text": [
      "There are 68 precincts that only appear in the election results\n",
      "There are 39 precincts that only appear in the shapefile\n",
      "There are 2625 precincts that were matched between the two files\n"
     ]
    }
   ],
   "source": [
    "election_shapefile = pd.merge(medsl_final,precinct_shapes_ga,on='county_prec',how='outer',indicator=True)\n",
    "elections_only = election_shapefile[election_shapefile[\"_merge\"]==\"left_only\"]\n",
    "shapefile_only = election_shapefile[election_shapefile[\"_merge\"]==\"right_only\"]\n",
    "both = election_shapefile[election_shapefile[\"_merge\"]==\"both\"]\n",
    "\n",
    "print(\"There are \" + str(elections_only['county_prec'].count()) + \" precincts that only appear in the election results\")\n",
    "print(\"There are \" + str(shapefile_only['county_prec'].count()) + \" precincts that only appear in the shapefile\")\n",
    "print(\"There are \" + str(both['county_prec'].count()) + \" precincts that were matched between the two files\")\n",
    "\n",
    "#elections_only_export = pd.Series(elections_only)\n",
    "elections_only.to_csv(\"./elections_only.csv\")\n",
    "\n",
    "#shapefile_only_export = pd.Series(shapefile_only)\n",
    "shapefile_only.to_csv(\"./shapefile_only.csv\")"
   ]
  },
  {
   "cell_type": "markdown",
   "metadata": {},
   "source": [
    "(all steps w/o the four modifications on VEST's doc)\n",
    "\n",
    "Using Try 1:\n",
    "- There are 2190 precincts that only appear in the election results\n",
    "- There are 2161 precincts that only appear in the shapefile\n",
    "- There are 503 precincts that were matched between the two files\n",
    "\n",
    "Using Try 2:\n",
    "- There are 2190 precincts that only appear in the election results\n",
    "- There are 2161 precincts that only appear in the shapefile\n",
    "- There are 503 precincts that were matched between the two files\n",
    "\n",
    "Using Try 3:\n",
    "- There are 1381 precincts that only appear in the election results\n",
    "- There are 1352 precincts that only appear in the shapefile\n",
    "- There are 1312 precincts that were matched between the two files\n",
    "\n",
    "Using Try 4:\n",
    "- There are 510 precincts that only appear in the election results\n",
    "- There are 481 precincts that only appear in the shapefile\n",
    "- There are 2183 precincts that were matched between the two files\n",
    "\n",
    "Add on the dictionary:  \n",
    "- There are 100 precincts that only appear in the election results   \n",
    "- There are 71 precincts that only appear in the shapefile  \n",
    "- There are 2593 precincts that were matched between the two files  "
   ]
  },
  {
   "cell_type": "markdown",
   "metadata": {},
   "source": [
    "### Merge with VEST file"
   ]
  },
  {
   "cell_type": "code",
   "execution_count": 18,
   "metadata": {},
   "outputs": [
    {
     "name": "stdout",
     "output_type": "stream",
     "text": [
      "Index(['DISTRICT', 'CTYSOSID', 'PRECINCT_I', 'PRECINCT_N', 'CTYNAME',\n",
      "       'CTYNUMBER', 'CTYNUMBER2', 'FIPS2', 'G16PRERTRU', 'G16PREDCLI',\n",
      "       'G16PRELJOH', 'G16USSRISA', 'G16USSDBAR', 'G16USSLBUC', 'G16PSCRECH',\n",
      "       'G16PSCLHOS', 'geometry'],\n",
      "      dtype='object')\n"
     ]
    }
   ],
   "source": [
    "print(vest_ga.columns)"
   ]
  },
  {
   "cell_type": "code",
   "execution_count": 19,
   "metadata": {},
   "outputs": [
    {
     "name": "stdout",
     "output_type": "stream",
     "text": [
      "  DISTRICT CTYSOSID PRECINCT_I PRECINCT_N CTYNAME CTYNUMBER CTYNUMBER2 FIPS2  \\\n",
      "0  121JC15  121JC15       JC15       JC15  FULTON        60        060   121   \n",
      "1  12108N1  12108N1       08N1       08N1  FULTON        60        060   121   \n",
      "2  12108N2  12108N2       08N2       08N2  FULTON        60        060   121   \n",
      "3  121JC14  121JC14       JC14       JC14  FULTON        60        060   121   \n",
      "4  121JC05  121JC05       JC05       JC05  FULTON        60        060   121   \n",
      "\n",
      "   G16PRERTRU  G16PREDCLI  G16PRELJOH  G16USSRISA  G16USSDBAR  G16USSLBUC  \\\n",
      "0         202         294          29         206         257          38   \n",
      "1         313         232          32         445         133           6   \n",
      "2         402         500          22         517         353          27   \n",
      "3        1000         708          60        1199         497          39   \n",
      "4         651         736          81         767         561          75   \n",
      "\n",
      "   G16PSCRECH  G16PSCLHOS                                           geometry  \n",
      "0         245         219  MULTIPOLYGON (((-84.24444 34.04090, -84.24179 ...  \n",
      "1         463          80  POLYGON ((-84.41635 33.83995, -84.41666 33.839...  \n",
      "2         593         181  POLYGON ((-84.41635 33.83995, -84.41675 33.839...  \n",
      "3        1320         336  POLYGON ((-84.24930 34.02987, -84.24918 34.029...  \n",
      "4         875         449  POLYGON ((-84.20322 34.06888, -84.19996 34.068...  \n"
     ]
    }
   ],
   "source": [
    "print(vest_ga.head())\n",
    "vest_ga[\"county_prec\"]=vest_ga[\"FIPS2\"].astype(str).str.zfill(3)+vest_ga[\"PRECINCT_N\"]"
   ]
  },
  {
   "cell_type": "code",
   "execution_count": 20,
   "metadata": {},
   "outputs": [],
   "source": [
    "validated_1 = pd.merge(both,vest_ga,on='county_prec',how='outer',indicator=\"final_merge\")\n",
    "validated_2 = pd.merge(election_shapefile,vest_ga,on='county_prec',how='outer',indicator=\"final_merge\")"
   ]
  },
  {
   "cell_type": "code",
   "execution_count": 21,
   "metadata": {},
   "outputs": [
    {
     "name": "stdout",
     "output_type": "stream",
     "text": [
      "  county_prec  G16PREDCLI_x  G16PRELJOH_x  G16PRERTRU_x  G16PSCLHOS_x  \\\n",
      "0       0011B          92.0           9.0         685.0          62.0   \n",
      "1       0011C          42.0           5.0         496.0          41.0   \n",
      "2        0012         742.0          10.0         427.0         344.0   \n",
      "3       0013A           4.0           4.0         209.0          10.0   \n",
      "4      0013A1          17.0           1.0         319.0          18.0   \n",
      "\n",
      "   G16PSCRECH_x  G16USSLBUC_x  G16USSDBAR_x  G16USSRISA_x         ID  ...  \\\n",
      "0         655.0          14.0          81.0         636.0  2336279.0  ...   \n",
      "1         464.0          13.0          45.0         455.0  2313924.0  ...   \n",
      "2         545.0          28.0         581.0         445.0  2435306.0  ...   \n",
      "3         193.0           3.0           6.0         194.0  2435506.0  ...   \n",
      "4         300.0           9.0          21.0         295.0  2435452.0  ...   \n",
      "\n",
      "   G16PRERTRU_y  G16PREDCLI_y  G16PRELJOH_y G16USSRISA_y G16USSDBAR_y  \\\n",
      "0           685            92             9          636           81   \n",
      "1           496            42             5          455           45   \n",
      "2           427           742            10          445          581   \n",
      "3           209             4             4          194            6   \n",
      "4           319            17             1          295           21   \n",
      "\n",
      "  G16USSLBUC_y G16PSCRECH_y G16PSCLHOS_y  \\\n",
      "0           14          655           62   \n",
      "1           13          464           41   \n",
      "2           28          545          344   \n",
      "3            3          193           10   \n",
      "4            9          300           18   \n",
      "\n",
      "                                          geometry_y final_merge  \n",
      "0  POLYGON ((-82.28955 31.93985, -82.28874 31.939...        both  \n",
      "1  POLYGON ((-82.28215 31.85023, -82.28213 31.848...        both  \n",
      "2  POLYGON ((-82.31784 31.81166, -82.31718 31.811...        both  \n",
      "3  POLYGON ((-82.19060 31.78709, -82.19071 31.787...        both  \n",
      "4  POLYGON ((-82.28323 31.90526, -82.28321 31.905...        both  \n",
      "\n",
      "[5 rows x 43 columns]\n"
     ]
    }
   ],
   "source": [
    "print(validated_1.head())"
   ]
  },
  {
   "cell_type": "code",
   "execution_count": 22,
   "metadata": {},
   "outputs": [
    {
     "name": "stdout",
     "output_type": "stream",
     "text": [
      "both          2625\n",
      "right_only      72\n",
      "left_only        0\n",
      "Name: final_merge, dtype: int64\n"
     ]
    }
   ],
   "source": [
    "print(validated_1[\"final_merge\"].value_counts())"
   ]
  },
  {
   "cell_type": "code",
   "execution_count": 23,
   "metadata": {},
   "outputs": [
    {
     "name": "stdout",
     "output_type": "stream",
     "text": [
      "2625                                   121AP01E\n",
      "2626                                   121UC033\n",
      "2627                                   121SC17B\n",
      "2628                                     12101I\n",
      "2629                                   12103P1B\n",
      "                         ...                   \n",
      "2692                          089WADSWORTH - 04\n",
      "2693                      089AVONDALE HIGH - 05\n",
      "2694                               055CLOUDLAND\n",
      "2695                                  055TELOGA\n",
      "2696    053ACTIVITY CENTER (Includes FTBEN 1-3)\n",
      "Name: county_prec, Length: 72, dtype: object\n"
     ]
    }
   ],
   "source": [
    "vest_unmatched = validated_1[validated_1[\"final_merge\"]==\"right_only\"][\"county_prec\"]\n",
    "print(vest_unmatched)\n",
    "vest_unmatched_export = pd.Series(vest_unmatched)\n",
    "vest_unmatched_export.to_csv(\"./vest_unmatched.csv\")"
   ]
  },
  {
   "cell_type": "code",
   "execution_count": 24,
   "metadata": {},
   "outputs": [],
   "source": [
    "source_shapes = gp.GeoDataFrame(validated_1[validated_1[\"final_merge\"]==\"both\"], geometry='geometry_x')\n",
    "vest_shapes = gp.GeoDataFrame(validated_1[validated_1[\"final_merge\"]==\"both\"], geometry='geometry_y')"
   ]
  },
  {
   "cell_type": "code",
   "execution_count": 48,
   "metadata": {},
   "outputs": [
    {
     "name": "stdout",
     "output_type": "stream",
     "text": [
      "(2625,)\n",
      "089    150\n",
      "135    143\n",
      "067    137\n",
      "051     87\n",
      "245     69\n",
      "      ... \n",
      "187      1\n",
      "109      1\n",
      "307      1\n",
      "101      1\n",
      "241      1\n",
      "Name: county_prec, Length: 155, dtype: int64\n",
      "(2199, 43)\n"
     ]
    }
   ],
   "source": [
    "vals = source_shapes.geom_almost_equals(vest_shapes,decimal=0)\n",
    "print(vals.shape)\n",
    "print(validated_1[validated_1[\"final_merge\"]==\"both\"][vals][\"county_prec\"].str[0:3].value_counts())\n",
    "print(validated_1[validated_1[\"final_merge\"]==\"both\"][vals].shape)"
   ]
  },
  {
   "cell_type": "code",
   "execution_count": 26,
   "metadata": {},
   "outputs": [
    {
     "data": {
      "text/plain": [
       "<matplotlib.axes._subplots.AxesSubplot at 0x7f801a185610>"
      ]
     },
     "execution_count": 26,
     "metadata": {},
     "output_type": "execute_result"
    },
    {
     "data": {
      "image/png": "[encoded data removed]",
      "text/plain": [
       "<Figure size 432x288 with 1 Axes>"
      ]
     },
     "metadata": {
      "needs_background": "light"
     },
     "output_type": "display_data"
    }
   ],
   "source": [
    "#Extremely small difference\n",
    "shp_difference = gp.overlay(source_shapes,vest_shapes,how='symmetric_difference')\n",
    "shp_difference.plot()"
   ]
  },
  {
   "cell_type": "code",
   "execution_count": 27,
   "metadata": {},
   "outputs": [
    {
     "data": {
      "text/plain": [
       "<matplotlib.axes._subplots.AxesSubplot at 0x7f808890c100>"
      ]
     },
     "execution_count": 27,
     "metadata": {},
     "output_type": "execute_result"
    },
    {
     "data": {
      "image/png": "[encoded data removed]",
      "text/plain": [
       "<Figure size 432x288 with 1 Axes>"
      ]
     },
     "metadata": {
      "needs_background": "light"
     },
     "output_type": "display_data"
    }
   ],
   "source": [
    "source_shapes.plot()"
   ]
  },
  {
   "cell_type": "code",
   "execution_count": 28,
   "metadata": {},
   "outputs": [
    {
     "data": {
      "text/plain": [
       "<matplotlib.axes._subplots.AxesSubplot at 0x7f80888f5760>"
      ]
     },
     "execution_count": 28,
     "metadata": {},
     "output_type": "execute_result"
    },
    {
     "data": {
      "image/png": "[encoded data removed]",
      "text/plain": [
       "<Figure size 432x288 with 1 Axes>"
      ]
     },
     "metadata": {
      "needs_background": "light"
     },
     "output_type": "display_data"
    }
   ],
   "source": [
    "vest_shapes.plot()"
   ]
  },
  {
   "cell_type": "code",
   "execution_count": 29,
   "metadata": {},
   "outputs": [],
   "source": [
    "def validater_row (df, column_List):\n",
    "    matching_rows = 0\n",
    "    different_rows = 0\n",
    "    diff_list=[]\n",
    "    diff_values = []\n",
    "    max_diff = 0\n",
    "    \n",
    "    for j in range(0,len(df.index)):\n",
    "        same = True\n",
    "        for i in column_List:\n",
    "            left_Data = i + \"_x\"\n",
    "            right_Data = i + \"_y\"\n",
    "            diff = abs(df.iloc[j][left_Data]-df.iloc[j][right_Data])\n",
    "            if(diff != 0):\n",
    "                diff_values.append(abs(diff))\n",
    "                same = False\n",
    "                if(np.isnan(diff)):\n",
    "                    print(\"NaN value at diff is: \", df.iloc[j]['county_prec'])\n",
    "                if (diff>max_diff):\n",
    "                    max_diff = diff\n",
    "                    print(\"New max diff is: \", str(max_diff))\n",
    "                    print(df.iloc[j]['county_prec'])\n",
    "        if(same != True):\n",
    "            different_rows +=1\n",
    "            diff_list.append(df.iloc[j]['county_prec'])\n",
    "        else:\n",
    "            matching_rows +=1\n",
    "    print(\"There are \", len(df.index),\" total rows\")\n",
    "    print(different_rows,\" of these rows have election result differences\")\n",
    "    print(matching_rows,\" of these rows are the same\")\n",
    "    print(\"\")\n",
    "    print(\"The max difference between any one shared column in a row is: \", max_diff)\n",
    "    if(len(diff_values)!=0):\n",
    "        print(\"The average difference is: \", str(sum(diff_values)/len(diff_values)))\n",
    "    count_big_diff = len([i for i in diff_values if i > 5])\n",
    "    print(\"There are \", str(count_big_diff), \"precinct results with a difference greater than 5\")"
   ]
  },
  {
   "cell_type": "code",
   "execution_count": 30,
   "metadata": {},
   "outputs": [
    {
     "name": "stdout",
     "output_type": "stream",
     "text": [
      "There are  2625  total rows\n",
      "0  of these rows have election result differences\n",
      "2625  of these rows are the same\n",
      "\n",
      "The max difference between any one shared column in a row is:  0\n",
      "There are  0 precinct results with a difference greater than 5\n"
     ]
    }
   ],
   "source": [
    "column_List = ['G16PRERTRU', 'G16PREDCLI',\n",
    "       'G16PRELJOH', 'G16USSRISA', 'G16USSDBAR', 'G16USSLBUC', 'G16PSCRECH',\n",
    "       'G16PSCLHOS']\n",
    "validater_row(validated_1[validated_1[\"final_merge\"]==\"both\"],column_List)"
   ]
  },
  {
   "cell_type": "code",
   "execution_count": null,
   "metadata": {},
   "outputs": [],
   "source": []
  }
 ],
 "metadata": {
  "kernelspec": {
   "display_name": "Python 3",
   "language": "python",
   "name": "python3"
  },
  "language_info": {
   "codemirror_mode": {
    "name": "ipython",
    "version": 3
   },
   "file_extension": ".py",
   "mimetype": "text/x-python",
   "name": "python",
   "nbconvert_exporter": "python",
   "pygments_lexer": "ipython3",
   "version": "3.8.3"
  }
 },
 "nbformat": 4,
 "nbformat_minor": 4
}
