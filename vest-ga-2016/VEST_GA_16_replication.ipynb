{
 "cells": [
  {
   "cell_type": "code",
   "execution_count": 56,
   "metadata": {},
   "outputs": [],
   "source": [
    "import maup # mggg's library for proration, see documentation here: https://github.com/mggg/maup\n",
    "import pandas as pd # standard python data library\n",
    "import geopandas as gp # the geo-version of pandas\n",
    "import numpy as np \n",
    "import os\n",
    "import fiona\n",
    "from statistics import mean, median\n",
    "from pandas import read_csv\n",
    "gp.io.file.fiona.drvsupport.supported_drivers['KML'] = 'rw' #To load KML files\n",
    "import string"
   ]
  },
  {
   "cell_type": "markdown",
   "metadata": {},
   "source": [
    "# VEST Georgia Validation"
   ]
  },
  {
   "cell_type": "markdown",
   "metadata": {},
   "source": [
    "## Examining and Loading Files"
   ]
  },
  {
   "cell_type": "markdown",
   "metadata": {},
   "source": [
    "### VEST"
   ]
  },
  {
   "cell_type": "markdown",
   "metadata": {},
   "source": [
    "#### Copy in VEST GA 16 file"
   ]
  },
  {
   "cell_type": "code",
   "execution_count": 2,
   "metadata": {},
   "outputs": [],
   "source": [
    "vest_ga = gp.read_file(\"./raw-from-source/VEST/ga_2016/ga_2016.shp\")"
   ]
  },
  {
   "cell_type": "code",
   "execution_count": 3,
   "metadata": {},
   "outputs": [
    {
     "name": "stdout",
     "output_type": "stream",
     "text": [
      "  DISTRICT CTYSOSID PRECINCT_I PRECINCT_N CTYNAME CTYNUMBER CTYNUMBER2 FIPS2  \\\n",
      "0  121JC15  121JC15       JC15       JC15  FULTON        60        060   121   \n",
      "1  12108N1  12108N1       08N1       08N1  FULTON        60        060   121   \n",
      "2  12108N2  12108N2       08N2       08N2  FULTON        60        060   121   \n",
      "3  121JC14  121JC14       JC14       JC14  FULTON        60        060   121   \n",
      "4  121JC05  121JC05       JC05       JC05  FULTON        60        060   121   \n",
      "\n",
      "   G16PRERTRU  G16PREDCLI  G16PRELJOH  G16USSRISA  G16USSDBAR  G16USSLBUC  \\\n",
      "0         202         294          29         206         257          38   \n",
      "1         313         232          32         445         133           6   \n",
      "2         402         500          22         517         353          27   \n",
      "3        1000         708          60        1199         497          39   \n",
      "4         651         736          81         767         561          75   \n",
      "\n",
      "   G16PSCRECH  G16PSCLHOS                                           geometry  \n",
      "0         245         219  MULTIPOLYGON (((-84.24444 34.04090, -84.24179 ...  \n",
      "1         463          80  POLYGON ((-84.41635 33.83995, -84.41666 33.839...  \n",
      "2         593         181  POLYGON ((-84.41635 33.83995, -84.41675 33.839...  \n",
      "3        1320         336  POLYGON ((-84.24930 34.02987, -84.24918 34.029...  \n",
      "4         875         449  POLYGON ((-84.20322 34.06888, -84.19996 34.068...  \n"
     ]
    }
   ],
   "source": [
    "print(vest_ga.head())"
   ]
  },
  {
   "cell_type": "markdown",
   "metadata": {},
   "source": [
    "#### VEST Data Sources (from documentation):"
   ]
  },
  {
   "cell_type": "markdown",
   "metadata": {},
   "source": [
    "Election results from the Georgia Secretary of State Elections Division  (https://sos.ga.gov/index.php/Elections/current_and_past_elections_results)  \n",
    "Precinct shapefile primarily from the Georgia General Assembly Reapportionment Office (http://www.legis.ga.gov/Joint/reapportionment/en-US/default.aspx)  "
   ]
  },
  {
   "cell_type": "markdown",
   "metadata": {},
   "source": [
    "#### VEST Processing (from documentation):"
   ]
  },
  {
   "cell_type": "markdown",
   "metadata": {},
   "source": [
    "Fulton County uses shapefiles and maps sourced from the county GIS program. Precincts CH01/CH04B, CP07A/CP07D, SS29A/SS29B, UC031/UC035 were merged to match how voters were registered in the 2016 voter file.\n",
    "\n",
    "The following precincts were split by congressional district to match the 2016 election results: Avondale High, Glennwood, Wadsworth in Dekalb County; Cates D in Gwinnett County.\n",
    "\n",
    "Cloudland and Teloga precincts in Chattooga County were split along the ridgeline that marks the boundary between them with the USGS Topographic Contour shapefile.\n",
    "\n",
    "Three of the four VTDs in Chattahoochee County are comprised of Fort Benning. However, the county only has one polling location for all voters, including residents of Fort Benning that vote within the county. The four Chattahoochee County VTDs have therefore been merged in the shapefile."
   ]
  },
  {
   "cell_type": "markdown",
   "metadata": {},
   "source": [
    "#### VEST Field Names (from documentation):"
   ]
  },
  {
   "cell_type": "markdown",
   "metadata": {},
   "source": [
    "G16PRERTRU - Donald J. Trump (Republican Party)  \n",
    "G16PREDCLI - Hillary Clinton (Democratic Party)  \n",
    "G16PRELJOH - Gary Johnson (Libertarian Party)  \n",
    "  \n",
    "G16USSRISA - Johnny Isakson (Republican Party)  \n",
    "G16USSDBAR - Jim Barksdale (Democratic Party)  \n",
    "G16USSLBUC - Allen Buckley (Libertarian Party)  \n",
    "  \n",
    "G16PSCRECH - Tim Echols (Republican Party)  \n",
    "G16PSCLHOS - Eric Hoskins (Libertarian Party)  "
   ]
  },
  {
   "cell_type": "markdown",
   "metadata": {},
   "source": [
    "Note: Some difficulties in using the link provided by VEST (need to do work on each county)"
   ]
  },
  {
   "cell_type": "markdown",
   "metadata": {},
   "source": [
    "### MEDSL Presidential Election Precinct-Level Results"
   ]
  },
  {
   "cell_type": "code",
   "execution_count": 71,
   "metadata": {},
   "outputs": [],
   "source": [
    "#Note: Some difficulties in using the link provided by VEST (need to do work on each county)\n",
    "medsl_election = pd.read_csv(\"./raw-from-source/MEDSL/2016-precinct-president.tab\",sep=\"\\t\")\n",
    "medsl_election= medsl_election[medsl_election.state==\"Georgia\"]\n",
    "medsl_election= medsl_election[[\"county_name\",\"county_fips\",'jurisdiction', 'precinct', 'candidate',\n",
    "       'candidate_normalized', 'office', 'district', 'writein', 'party',\n",
    "       'mode', 'votes','candidate_fec', 'candidate_fec_name']]\n",
    "candidate_list = ['CLINTON, HILLARY RODHAM / TIMOTHY MICHAEL KAINE',\n",
    " 'JOHNSON, JOHN FITZGERALD MR.', 'TRUMP, DONALD J. / MICHAEL R. PENCE']\n",
    "medsl_election=medsl_election[medsl_election[\"candidate_fec_name\"].isin(candidate_list)]\n",
    "medsl_election['county_fips'] = medsl_election['county_fips'].astype(int)\n",
    "medsl_election['county_fips'] = medsl_election['county_fips'].astype(str)\n",
    "medsl_election[\"precinct\"]=medsl_election[\"precinct\"].str.strip()\n",
    "medsl_election['county_prec'] = medsl_election['county_fips'].str[2:5]+medsl_election[\"precinct\"]\n",
    "medsl_election=pd.pivot_table(medsl_election,index=['county_prec'],columns=[\"candidate_fec_name\"],values=['votes'],aggfunc=sum)\n",
    "medsl_election.columns = medsl_election.columns.droplevel(0)\n",
    "medsl_election = medsl_election.rename(columns={\"CLINTON, HILLARY RODHAM / TIMOTHY MICHAEL KAINE\":\"G16PREDCLI\",\"JOHNSON, JOHN FITZGERALD MR.\":\"G16PRELJOH\",\"TRUMP, DONALD J. / MICHAEL R. PENCE\": \"G16PRERTRU\"})"
   ]
  },
  {
   "cell_type": "code",
   "execution_count": 84,
   "metadata": {},
   "outputs": [
    {
     "name": "stderr",
     "output_type": "stream",
     "text": [
      "/opt/anaconda3/lib/python3.8/site-packages/IPython/core/interactiveshell.py:3071: DtypeWarning: Columns (13,17,19,31,32) have mixed types.Specify dtype option on import or set low_memory=False.\n",
      "  has_raised = await self.run_ast_nodes(code_ast.body, cell_name,\n"
     ]
    },
    {
     "name": "stdout",
     "output_type": "stream",
     "text": [
      "        year stage  special    state state_postal  state_fips  state_icpsr  \\\n",
      "573155  2016   gen    False  Georgia           GA          13           44   \n",
      "573156  2016   gen    False  Georgia           GA          13           44   \n",
      "573157  2016   gen    False  Georgia           GA          13           44   \n",
      "573158  2016   gen    False  Georgia           GA          13           44   \n",
      "573159  2016   gen    False  Georgia           GA          13           44   \n",
      "\n",
      "           county_name  county_fips  county_ansi  ...  candidate_middle  \\\n",
      "573155  Appling County      13001.0     349113.0  ...               NaN   \n",
      "573156  Appling County      13001.0     349113.0  ...               NaN   \n",
      "573157  Appling County      13001.0     349113.0  ...               NaN   \n",
      "573158  Appling County      13001.0     349113.0  ...               NaN   \n",
      "573159  Appling County      13001.0     349113.0  ...               NaN   \n",
      "\n",
      "        candidate_full candidate_suffix candidate_nickname candidate_fec  \\\n",
      "573155             NaN              NaN                NaN     P00003392   \n",
      "573156             NaN              NaN                NaN     P00003392   \n",
      "573157             NaN              NaN                NaN     P00003392   \n",
      "573158             NaN              NaN                NaN     P00003392   \n",
      "573159             NaN              NaN                NaN     P60012234   \n",
      "\n",
      "                                     candidate_fec_name candidate_google  \\\n",
      "573155  CLINTON, HILLARY RODHAM / TIMOTHY MICHAEL KAINE              NaN   \n",
      "573156  CLINTON, HILLARY RODHAM / TIMOTHY MICHAEL KAINE              NaN   \n",
      "573157  CLINTON, HILLARY RODHAM / TIMOTHY MICHAEL KAINE              NaN   \n",
      "573158  CLINTON, HILLARY RODHAM / TIMOTHY MICHAEL KAINE              NaN   \n",
      "573159                     JOHNSON, JOHN FITZGERALD MR.              NaN   \n",
      "\n",
      "       candidate_govtrack  candidate_icpsr candidate_maplight  \n",
      "573155                NaN              NaN                NaN  \n",
      "573156                NaN              NaN                NaN  \n",
      "573157                NaN              NaN                NaN  \n",
      "573158                NaN              NaN                NaN  \n",
      "573159                NaN              NaN                NaN  \n",
      "\n",
      "[5 rows x 37 columns]\n",
      "Index(['year', 'stage', 'special', 'state', 'state_postal', 'state_fips',\n",
      "       'state_icpsr', 'county_name', 'county_fips', 'county_ansi',\n",
      "       'county_lat', 'county_long', 'jurisdiction', 'precinct', 'candidate',\n",
      "       'candidate_normalized', 'office', 'district', 'writein', 'party',\n",
      "       'mode', 'votes', 'candidate_opensecrets', 'candidate_wikidata',\n",
      "       'candidate_party', 'candidate_last', 'candidate_first',\n",
      "       'candidate_middle', 'candidate_full', 'candidate_suffix',\n",
      "       'candidate_nickname', 'candidate_fec', 'candidate_fec_name',\n",
      "       'candidate_google', 'candidate_govtrack', 'candidate_icpsr',\n",
      "       'candidate_maplight'],\n",
      "      dtype='object')\n"
     ]
    }
   ],
   "source": [
    "medsl_election = pd.read_csv(\"./raw-from-source/MEDSL/2016-precinct-president.tab\",sep=\"\\t\")\n",
    "medsl_election= medsl_election[medsl_election.state==\"Georgia\"]\n",
    "print(medsl_election.head())\n",
    "print(medsl_election.columns)\n"
   ]
  },
  {
   "cell_type": "markdown",
   "metadata": {},
   "source": [
    "### MEDSL State Elections Precinct-Level Results"
   ]
  },
  {
   "cell_type": "code",
   "execution_count": 73,
   "metadata": {},
   "outputs": [
    {
     "name": "stderr",
     "output_type": "stream",
     "text": [
      "/opt/anaconda3/lib/python3.8/site-packages/IPython/core/interactiveshell.py:3071: DtypeWarning: Columns (7,13,17) have mixed types.Specify dtype option on import or set low_memory=False.\n",
      "  has_raised = await self.run_ast_nodes(code_ast.body, cell_name,\n"
     ]
    }
   ],
   "source": [
    "medsl_state_election = pd.read_csv(\"./raw-from-source/MEDSL/2016-precinct-state.tab\",sep=\"\\t\")\n",
    "medsl_state_election= medsl_state_election[medsl_state_election.state==\"Georgia\"]\n",
    "medsl_state_election= medsl_state_election[[\"county_name\",\"county_fips\",'jurisdiction', 'precinct', 'candidate',\n",
    "       'candidate_normalized', 'office', 'district', 'writein', 'party',\n",
    "       'mode', 'votes','candidate_fec', 'candidate_fec_name']]\n",
    "medsl_state_election = medsl_state_election[medsl_state_election[\"office\"]==\"PUBLIC SERVICE COMMISSION, DISTRICT 2 - EASTERN\"]\n",
    "medsl_state_election['county_fips'] = medsl_state_election['county_fips'].astype(int)\n",
    "medsl_state_election['county_fips'] = medsl_state_election['county_fips'].astype(str)\n",
    "medsl_state_election[\"precinct\"]=medsl_state_election[\"precinct\"].str.strip()\n",
    "medsl_state_election['county_prec'] = medsl_state_election['county_fips'].str[2:5]+medsl_state_election[\"precinct\"]\n",
    "medsl_state_election=pd.pivot_table(medsl_state_election,index=['county_prec'],columns=[\"candidate\"],values=['votes'],aggfunc=sum)\n",
    "medsl_state_election.columns = medsl_state_election.columns.droplevel(0)\n",
    "medsl_state_election = medsl_state_election.rename(columns={\"ERIC HOSKINS\":\"G16PSCLHOS\",\"TIM ECHOLS\":\"G16PSCRECH\"})"
   ]
  },
  {
   "cell_type": "markdown",
   "metadata": {},
   "source": [
    "### MEDSL Senate Elections Precinct-Level Results"
   ]
  },
  {
   "cell_type": "code",
   "execution_count": 74,
   "metadata": {},
   "outputs": [
    {
     "name": "stderr",
     "output_type": "stream",
     "text": [
      "/opt/anaconda3/lib/python3.8/site-packages/IPython/core/interactiveshell.py:3071: DtypeWarning: Columns (13,19,27,30,32) have mixed types.Specify dtype option on import or set low_memory=False.\n",
      "  has_raised = await self.run_ast_nodes(code_ast.body, cell_name,\n"
     ]
    }
   ],
   "source": [
    "medsl_senate_election = pd.read_csv(\"./raw-from-source/MEDSL/2016-precinct-senate.tab\",sep=\"\\t\")\n",
    "medsl_senate_election= medsl_senate_election[medsl_senate_election.state==\"Georgia\"]\n",
    "medsl_senate_election= medsl_senate_election[[\"county_name\",\"county_fips\",'jurisdiction', 'precinct', 'candidate',\n",
    "       'candidate_normalized', 'office', 'district', 'writein', 'party',\n",
    "       'mode', 'votes','candidate_fec', 'candidate_fec_name']]\n",
    "medsl_senate_election['county_fips'] = medsl_senate_election['county_fips'].astype(int)\n",
    "medsl_senate_election['county_fips'] = medsl_senate_election['county_fips'].astype(str)\n",
    "medsl_senate_election[\"precinct\"]=medsl_senate_election[\"precinct\"].str.strip()\n",
    "medsl_senate_election['county_prec'] = medsl_senate_election['county_fips'].str[2:5]+medsl_senate_election[\"precinct\"]\n",
    "medsl_senate_election=pd.pivot_table(medsl_senate_election,index=['county_prec'],columns=[\"candidate\"],values=['votes'],aggfunc=sum)\n",
    "medsl_senate_election.columns = medsl_senate_election.columns.droplevel(0)\n",
    "medsl_senate_election = medsl_senate_election.drop('Michelle Gates', 1)\n",
    "medsl_senate_election = medsl_senate_election.rename(columns={\"ALLEN BUCKLEY\":\"G16USSLBUC\",\"JIM BARKSDALE\":\"G16USSDBAR\",\"JOHNNY ISAKSON\":\"G16USSRISA\"})"
   ]
  },
  {
   "cell_type": "markdown",
   "metadata": {},
   "source": [
    "### Check Totals"
   ]
  },
  {
   "cell_type": "code",
   "execution_count": 75,
   "metadata": {},
   "outputs": [
    {
     "name": "stdout",
     "output_type": "stream",
     "text": [
      "MEDSL totals:\n",
      "1877963\n",
      "125306\n",
      "2089104\n",
      "\n",
      "1200076\n",
      "2390836\n",
      "\n",
      "162260.0\n",
      "1599726.0\n",
      "2135806.0\n",
      "\n",
      "VEST totals:\n",
      "1877963\n",
      "125306\n",
      "2089104\n",
      "\n",
      "1200076\n",
      "2390836\n",
      "\n",
      "162260\n",
      "1599726\n",
      "2135806\n"
     ]
    }
   ],
   "source": [
    "print(\"MEDSL totals:\")\n",
    "print(medsl_election[\"G16PREDCLI\"].sum())\n",
    "print(medsl_election[\"G16PRELJOH\"].sum())\n",
    "print(medsl_election[\"G16PRERTRU\"].sum())\n",
    "print(\"\")\n",
    "print(medsl_state_election[\"G16PSCLHOS\"].sum())\n",
    "print(medsl_state_election[\"G16PSCRECH\"].sum())\n",
    "print(\"\")\n",
    "print(medsl_senate_election[\"G16USSLBUC\"].sum())\n",
    "print(medsl_senate_election[\"G16USSDBAR\"].sum())\n",
    "print(medsl_senate_election[\"G16USSRISA\"].sum())\n",
    "print(\"\")\n",
    "print(\"VEST totals:\")\n",
    "print(vest_ga[\"G16PREDCLI\"].sum())\n",
    "print(vest_ga[\"G16PRELJOH\"].sum())\n",
    "print(vest_ga[\"G16PRERTRU\"].sum())\n",
    "print(\"\")\n",
    "print(vest_ga[\"G16PSCLHOS\"].sum())\n",
    "print(vest_ga[\"G16PSCRECH\"].sum())\n",
    "print(\"\")\n",
    "print(vest_ga[\"G16USSLBUC\"].sum())\n",
    "print(vest_ga[\"G16USSDBAR\"].sum())\n",
    "print(vest_ga[\"G16USSRISA\"].sum())"
   ]
  },
  {
   "cell_type": "markdown",
   "metadata": {},
   "source": [
    "### Merge MEDSL results"
   ]
  },
  {
   "cell_type": "code",
   "execution_count": 76,
   "metadata": {},
   "outputs": [
    {
     "name": "stdout",
     "output_type": "stream",
     "text": [
      "candidate_fec_name county_prec  G16PREDCLI  G16PRELJOH  G16PRERTRU\n",
      "0                        0011B          92           9         685\n",
      "1                        0011C          42           5         496\n",
      "2                         0012         742          10         427\n",
      "3                        0013A           4           4         209\n",
      "4                       0013A1          17           1         319\n",
      "candidate county_prec  G16PSCLHOS  G16PSCRECH\n",
      "0               0011B          62         655\n",
      "1               0011C          41         464\n",
      "2                0012         344         545\n",
      "3               0013A          10         193\n",
      "4              0013A1          18         300\n",
      "candidate county_prec  G16USSLBUC  G16USSDBAR  G16USSRISA\n",
      "0               0011B        14.0        81.0       636.0\n",
      "1               0011C        13.0        45.0       455.0\n",
      "2                0012        28.0       581.0       445.0\n",
      "3               0013A         3.0         6.0       194.0\n",
      "4              0013A1         9.0        21.0       295.0\n",
      "(2693, 4)\n",
      "(2693, 3)\n",
      "(2764, 4)\n"
     ]
    }
   ],
   "source": [
    "medsl_election = medsl_election.reset_index()\n",
    "print(medsl_election.head())\n",
    "\n",
    "medsl_state_election = medsl_state_election.reset_index()\n",
    "print(medsl_state_election.head())\n",
    "\n",
    "medsl_senate_election = medsl_senate_election.reset_index()\n",
    "print(medsl_senate_election.head())\n",
    "\n",
    "print(medsl_election.shape)\n",
    "print(medsl_state_election.shape)\n",
    "print(medsl_senate_election.shape)"
   ]
  },
  {
   "cell_type": "code",
   "execution_count": 77,
   "metadata": {},
   "outputs": [
    {
     "name": "stdout",
     "output_type": "stream",
     "text": [
      "(2693, 7)\n",
      "         county_prec  G16PREDCLI  G16PRELJOH  G16PRERTRU  G16PSCLHOS  \\\n",
      "0              0011B          92           9         685          62   \n",
      "1              0011C          42           5         496          41   \n",
      "2               0012         742          10         427         344   \n",
      "3              0013A           4           4         209          10   \n",
      "4             0013A1          17           1         319          18   \n",
      "...              ...         ...         ...         ...         ...   \n",
      "2688     321Shingler          47           4         337          26   \n",
      "2689       321Sumner          91           3         418          80   \n",
      "2690  321Sylver East         162          25         664         110   \n",
      "2691    321Sylvester         905          16         562         508   \n",
      "2692      321Warwick         127           6         300          71   \n",
      "\n",
      "      G16PSCRECH _merge  \n",
      "0            655   both  \n",
      "1            464   both  \n",
      "2            545   both  \n",
      "3            193   both  \n",
      "4            300   both  \n",
      "...          ...    ...  \n",
      "2688         334   both  \n",
      "2689         390   both  \n",
      "2690         655   both  \n",
      "2691         667   both  \n",
      "2692         303   both  \n",
      "\n",
      "[2693 rows x 7 columns]\n",
      "(2764, 10)\n",
      "       county_prec  G16PREDCLI  G16PRELJOH  G16PRERTRU  G16PSCLHOS  \\\n",
      "2693  001Write-ins         NaN         NaN         NaN         NaN   \n",
      "2694  009Write-ins         NaN         NaN         NaN         NaN   \n",
      "2695  011Write-ins         NaN         NaN         NaN         NaN   \n",
      "2696  015Write-ins         NaN         NaN         NaN         NaN   \n",
      "2697  021Write-ins         NaN         NaN         NaN         NaN   \n",
      "...            ...         ...         ...         ...         ...   \n",
      "2759  293Write-ins         NaN         NaN         NaN         NaN   \n",
      "2760  297Write-ins         NaN         NaN         NaN         NaN   \n",
      "2761  303Write-ins         NaN         NaN         NaN         NaN   \n",
      "2762  305Write-ins         NaN         NaN         NaN         NaN   \n",
      "2763  321Write-ins         NaN         NaN         NaN         NaN   \n",
      "\n",
      "      G16PSCRECH  G16USSLBUC  G16USSDBAR  G16USSRISA      _merge  \n",
      "2693         NaN         NaN         NaN         NaN  right_only  \n",
      "2694         NaN         NaN         NaN         NaN  right_only  \n",
      "2695         NaN         NaN         NaN         NaN  right_only  \n",
      "2696         NaN         NaN         NaN         NaN  right_only  \n",
      "2697         NaN         NaN         NaN         NaN  right_only  \n",
      "...          ...         ...         ...         ...         ...  \n",
      "2759         NaN         NaN         NaN         NaN  right_only  \n",
      "2760         NaN         NaN         NaN         NaN  right_only  \n",
      "2761         NaN         NaN         NaN         NaN  right_only  \n",
      "2762         NaN         NaN         NaN         NaN  right_only  \n",
      "2763         NaN         NaN         NaN         NaN  right_only  \n",
      "\n",
      "[71 rows x 10 columns]\n"
     ]
    }
   ],
   "source": [
    "#Merge presidential and state election results\n",
    "medsl_state_pres=pd.merge(medsl_election,medsl_state_election,on='county_prec',how='outer',indicator=True)\n",
    "print(medsl_state_pres.shape)\n",
    "print(medsl_state_pres)\n",
    "medsl_state_pres = medsl_state_pres.drop('_merge', 1)\n",
    "\n",
    "#Merged pres+state with senate results\n",
    "medsl_all = pd.merge(medsl_state_pres,medsl_senate_election,on='county_prec',how='outer',indicator=True)\n",
    "print(medsl_all.shape)\n",
    "print(medsl_all[medsl_all[\"_merge\"]==\"right_only\"])\n",
    "medsl_final = medsl_all[medsl_all[\"_merge\"]==\"both\"]\n",
    "medsl_final = medsl_final.drop('_merge', 1)\n",
    "\n",
    "#the \"right_only\" files seem to just be write ins\n"
   ]
  },
  {
   "cell_type": "code",
   "execution_count": 78,
   "metadata": {},
   "outputs": [
    {
     "name": "stdout",
     "output_type": "stream",
     "text": [
      "MEDSL totals:\n",
      "1877963\n",
      "125306\n",
      "2089104\n",
      "\n",
      "1200076\n",
      "2390836\n",
      "\n",
      "162260.0\n",
      "1599726.0\n",
      "2135806.0\n",
      "\n",
      "Merged Totals:\n",
      "1877963.0\n",
      "125306.0\n",
      "2089104.0\n",
      "\n",
      "1200076.0\n",
      "2390836.0\n",
      "\n",
      "162260.0\n",
      "1599726.0\n",
      "2135806.0\n"
     ]
    }
   ],
   "source": [
    "#Merged totals seems to match the original ones!\n",
    "print(\"MEDSL totals:\")\n",
    "print(medsl_election[\"G16PREDCLI\"].sum())\n",
    "print(medsl_election[\"G16PRELJOH\"].sum())\n",
    "print(medsl_election[\"G16PRERTRU\"].sum())\n",
    "print(\"\")\n",
    "print(medsl_state_election[\"G16PSCLHOS\"].sum())\n",
    "print(medsl_state_election[\"G16PSCRECH\"].sum())\n",
    "print(\"\")\n",
    "print(medsl_senate_election[\"G16USSLBUC\"].sum())\n",
    "print(medsl_senate_election[\"G16USSDBAR\"].sum())\n",
    "print(medsl_senate_election[\"G16USSRISA\"].sum())\n",
    "print(\"\")\n",
    "print(\"Merged Totals:\")\n",
    "print(medsl_final[\"G16PREDCLI\"].sum())\n",
    "print(medsl_final[\"G16PRELJOH\"].sum())\n",
    "print(medsl_final[\"G16PRERTRU\"].sum())\n",
    "print(\"\")\n",
    "print(medsl_final[\"G16PSCLHOS\"].sum())\n",
    "print(medsl_final[\"G16PSCRECH\"].sum())\n",
    "print(\"\")\n",
    "print(medsl_final[\"G16USSLBUC\"].sum())\n",
    "print(medsl_final[\"G16USSDBAR\"].sum())\n",
    "print(medsl_final[\"G16USSRISA\"].sum())"
   ]
  },
  {
   "cell_type": "markdown",
   "metadata": {},
   "source": [
    "### Shapefiles"
   ]
  },
  {
   "cell_type": "code",
   "execution_count": 79,
   "metadata": {},
   "outputs": [],
   "source": [
    "precinct_shapes_ga = gp.read_file(\"./raw-from-source/GA_shapefile/vtd2016-shape/VTD2016-Shape.shp\")\n",
    "#Try 1: precinct_shapes_ga[\"county_prec\"]=precinct_shapes_ga[\"FIPS2\"].astype(str).str.zfill(3)+precinct_shapes_ga[\"PRECINCT_I\"]\n",
    "#Try 2: precinct_shapes_ga[\"county_prec\"] = precinct_shapes_ga[\"CTYSOSID\"]\n",
    "#Try 3: precinct_shapes_ga[\"county_prec\"]=precinct_shapes_ga[\"FIPS2\"].astype(str).str.zfill(3)+precinct_shapes_ga[\"PRECINCT_N\"]\n",
    "#Try 4:\n",
    "medsl_final[\"county_prec\"]=medsl_final[\"county_prec\"].str.upper()\n",
    "precinct_shapes_ga[\"county_prec\"]=precinct_shapes_ga[\"FIPS2\"].astype(str).str.zfill(3)+precinct_shapes_ga[\"PRECINCT_N\"]\n",
    "#Try 5 (4 but add in a string strip to MEDSL files):"
   ]
  },
  {
   "cell_type": "code",
   "execution_count": 80,
   "metadata": {},
   "outputs": [
    {
     "name": "stdout",
     "output_type": "stream",
     "text": [
      "        ID      AREA  DATA  POPULATION DISTRICT CTYSOSID PRECINCT_I  \\\n",
      "0  6094217  1.864348   690        1013   073131   073131        131   \n",
      "1  6094266  1.636596   714        3858   073064   073064        064   \n",
      "2  6094297  5.598643   711        1920   073061   073061        061   \n",
      "3  6094341  0.872412   713        1770   073063   073063        063   \n",
      "4  6094377  3.783726   691        3131   073132   073132        132   \n",
      "\n",
      "             PRECINCT_N CTYNUMBER COUNTY   CTYNAME  FIPS1 FIPS2 COUNTY_NAM  \\\n",
      "0  JOURNEY COMM. CHURCH        36    036  Columbia  13073   073   COLUMBIA   \n",
      "1  GRACE BAPTIST CHURCH        36    036  Columbia  13073   073   COLUMBIA   \n",
      "2       GREENBRIER HIGH        36    036  Columbia  13073   073   COLUMBIA   \n",
      "3  RIVERSIDE ELEMENTARY        36    036  Columbia  13073   073   COLUMBIA   \n",
      "4      WESLEY METHODIST        36    036  Columbia  13073   073   COLUMBIA   \n",
      "\n",
      "                                            geometry              county_prec  \n",
      "0  POLYGON ((-82.14546 33.57854, -82.14520 33.578...  073JOURNEY COMM. CHURCH  \n",
      "1  POLYGON ((-82.16342 33.57423, -82.16364 33.574...  073GRACE BAPTIST CHURCH  \n",
      "2  POLYGON ((-82.16581 33.56498, -82.16577 33.564...       073GREENBRIER HIGH  \n",
      "3  POLYGON ((-82.13909 33.57592, -82.13914 33.575...  073RIVERSIDE ELEMENTARY  \n",
      "4  POLYGON ((-82.14330 33.57348, -82.14300 33.573...      073WESLEY METHODIST  \n"
     ]
    }
   ],
   "source": [
    "print(precinct_shapes_ga.head())"
   ]
  },
  {
   "cell_type": "code",
   "execution_count": 104,
   "metadata": {},
   "outputs": [
    {
     "name": "stdout",
     "output_type": "stream",
     "text": [
      "There are 510 precincts that only appear in the election results\n",
      "There are 481 precincts that only appear in the shapefile\n",
      "There are 2183 precincts that were matched between the two files\n"
     ]
    }
   ],
   "source": [
    "election_shapefile = pd.merge(medsl_final,precinct_shapes_ga,on='county_prec',how='outer',indicator=True)\n",
    "elections_only = election_shapefile[election_shapefile[\"_merge\"]==\"left_only\"]['county_prec']\n",
    "shapefile_only = election_shapefile[election_shapefile[\"_merge\"]==\"right_only\"]['county_prec']\n",
    "both = election_shapefile[election_shapefile[\"_merge\"]==\"both\"]\n",
    "\n",
    "print(\"There are \" + str(elections_only.count()) + \" precincts that only appear in the election results\")\n",
    "print(\"There are \" + str(shapefile_only.count()) + \" precincts that only appear in the shapefile\")\n",
    "print(\"There are \" + str(both['county_prec'].count()) + \" precincts that were matched between the two files\")\n",
    "\n",
    "elections_only_export = pd.Series(elections_only)\n",
    "elections_only_export.to_csv(\"./elections_only.csv\")\n",
    "\n",
    "shapefile_only_export = pd.Series(shapefile_only)\n",
    "shapefile_only_export.to_csv(\"./shapefile_only.csv\")"
   ]
  },
  {
   "cell_type": "markdown",
   "metadata": {},
   "source": [
    "Using Try 1:\n",
    "\n",
    "There are 2190 precincts that only appear in the election results\n",
    "There are 2161 precincts that only appear in the shapefile\n",
    "There are 503 precincts that were matched between the two files\n",
    "\n",
    "Using Try 2:\n",
    "There are 2190 precincts that only appear in the election results\n",
    "There are 2161 precincts that only appear in the shapefile\n",
    "There are 503 precincts that were matched between the two files\n",
    "\n",
    "Using Try 3:\n",
    "There are 1381 precincts that only appear in the election results\n",
    "There are 1352 precincts that only appear in the shapefile\n",
    "There are 1312 precincts that were matched between the two files\n",
    "\n",
    "Using Try 4:\n",
    "There are 510 precincts that only appear in the election results\n",
    "There are 481 precincts that only appear in the shapefile\n",
    "There are 2183 precincts that were matched between the two files"
   ]
  },
  {
   "cell_type": "markdown",
   "metadata": {},
   "source": [
    "### Merge with VEST file"
   ]
  },
  {
   "cell_type": "code",
   "execution_count": 121,
   "metadata": {},
   "outputs": [
    {
     "name": "stdout",
     "output_type": "stream",
     "text": [
      "Index(['DISTRICT', 'CTYSOSID', 'PRECINCT_I', 'PRECINCT_N', 'CTYNAME',\n",
      "       'CTYNUMBER', 'CTYNUMBER2', 'FIPS2', 'G16PRERTRU', 'G16PREDCLI',\n",
      "       'G16PRELJOH', 'G16USSRISA', 'G16USSDBAR', 'G16USSLBUC', 'G16PSCRECH',\n",
      "       'G16PSCLHOS', 'geometry', 'county_prec'],\n",
      "      dtype='object')\n"
     ]
    }
   ],
   "source": [
    "print(vest_ga.columns)"
   ]
  },
  {
   "cell_type": "code",
   "execution_count": 110,
   "metadata": {},
   "outputs": [
    {
     "name": "stdout",
     "output_type": "stream",
     "text": [
      "  DISTRICT CTYSOSID PRECINCT_I PRECINCT_N CTYNAME CTYNUMBER CTYNUMBER2 FIPS2  \\\n",
      "0  121JC15  121JC15       JC15       JC15  FULTON        60        060   121   \n",
      "1  12108N1  12108N1       08N1       08N1  FULTON        60        060   121   \n",
      "2  12108N2  12108N2       08N2       08N2  FULTON        60        060   121   \n",
      "3  121JC14  121JC14       JC14       JC14  FULTON        60        060   121   \n",
      "4  121JC05  121JC05       JC05       JC05  FULTON        60        060   121   \n",
      "\n",
      "   G16PRERTRU  G16PREDCLI  G16PRELJOH  G16USSRISA  G16USSDBAR  G16USSLBUC  \\\n",
      "0         202         294          29         206         257          38   \n",
      "1         313         232          32         445         133           6   \n",
      "2         402         500          22         517         353          27   \n",
      "3        1000         708          60        1199         497          39   \n",
      "4         651         736          81         767         561          75   \n",
      "\n",
      "   G16PSCRECH  G16PSCLHOS                                           geometry  \\\n",
      "0         245         219  MULTIPOLYGON (((-84.24444 34.04090, -84.24179 ...   \n",
      "1         463          80  POLYGON ((-84.41635 33.83995, -84.41666 33.839...   \n",
      "2         593         181  POLYGON ((-84.41635 33.83995, -84.41675 33.839...   \n",
      "3        1320         336  POLYGON ((-84.24930 34.02987, -84.24918 34.029...   \n",
      "4         875         449  POLYGON ((-84.20322 34.06888, -84.19996 34.068...   \n",
      "\n",
      "  county_prec  \n",
      "0     121JC15  \n",
      "1     12108N1  \n",
      "2     12108N2  \n",
      "3     121JC14  \n",
      "4     121JC05  \n"
     ]
    }
   ],
   "source": [
    "print(vest_ga.head())\n",
    "vest_ga[\"county_prec\"]=vest_ga[\"FIPS2\"].astype(str).str.zfill(3)+vest_ga[\"PRECINCT_N\"]"
   ]
  },
  {
   "cell_type": "code",
   "execution_count": 111,
   "metadata": {},
   "outputs": [],
   "source": [
    "validated_1 = pd.merge(both,vest_ga,on='county_prec',how='outer',indicator=\"final_merge\")\n",
    "validated_2 = pd.merge(election_shapefile,vest_ga,on='county_prec',how='outer',indicator=\"final_merge\")"
   ]
  },
  {
   "cell_type": "code",
   "execution_count": 118,
   "metadata": {},
   "outputs": [
    {
     "name": "stdout",
     "output_type": "stream",
     "text": [
      "  county_prec  G16PREDCLI_x  G16PRELJOH_x  G16PRERTRU_x  G16PSCLHOS_x  \\\n",
      "0       0011B          92.0           9.0         685.0          62.0   \n",
      "1       0011C          42.0           5.0         496.0          41.0   \n",
      "2        0012         742.0          10.0         427.0         344.0   \n",
      "3       0013A           4.0           4.0         209.0          10.0   \n",
      "4      0013A1          17.0           1.0         319.0          18.0   \n",
      "\n",
      "   G16PSCRECH_x  G16USSLBUC_x  G16USSDBAR_x  G16USSRISA_x         ID  ...  \\\n",
      "0         655.0          14.0          81.0         636.0  2336279.0  ...   \n",
      "1         464.0          13.0          45.0         455.0  2313924.0  ...   \n",
      "2         545.0          28.0         581.0         445.0  2435306.0  ...   \n",
      "3         193.0           3.0           6.0         194.0  2435506.0  ...   \n",
      "4         300.0           9.0          21.0         295.0  2435452.0  ...   \n",
      "\n",
      "   G16PRERTRU_y  G16PREDCLI_y  G16PRELJOH_y G16USSRISA_y G16USSDBAR_y  \\\n",
      "0           685            92             9          636           81   \n",
      "1           496            42             5          455           45   \n",
      "2           427           742            10          445          581   \n",
      "3           209             4             4          194            6   \n",
      "4           319            17             1          295           21   \n",
      "\n",
      "  G16USSLBUC_y G16PSCRECH_y G16PSCLHOS_y  \\\n",
      "0           14          655           62   \n",
      "1           13          464           41   \n",
      "2           28          545          344   \n",
      "3            3          193           10   \n",
      "4            9          300           18   \n",
      "\n",
      "                                          geometry_y final_merge  \n",
      "0  POLYGON ((-82.28955 31.93985, -82.28874 31.939...        both  \n",
      "1  POLYGON ((-82.28215 31.85023, -82.28213 31.848...        both  \n",
      "2  POLYGON ((-82.31784 31.81166, -82.31718 31.811...        both  \n",
      "3  POLYGON ((-82.19060 31.78709, -82.19071 31.787...        both  \n",
      "4  POLYGON ((-82.28323 31.90526, -82.28321 31.905...        both  \n",
      "\n",
      "[5 rows x 43 columns]\n"
     ]
    }
   ],
   "source": [
    "print(validated_1.head())"
   ]
  },
  {
   "cell_type": "code",
   "execution_count": 112,
   "metadata": {},
   "outputs": [
    {
     "name": "stdout",
     "output_type": "stream",
     "text": [
      "both          2183\n",
      "right_only     514\n",
      "left_only        0\n",
      "Name: final_merge, dtype: int64\n"
     ]
    }
   ],
   "source": [
    "print(validated_1[\"final_merge\"].value_counts())"
   ]
  },
  {
   "cell_type": "code",
   "execution_count": 128,
   "metadata": {},
   "outputs": [
    {
     "name": "stdout",
     "output_type": "stream",
     "text": [
      "epsg:4019\n",
      "epsg:4019\n"
     ]
    }
   ],
   "source": [
    "source_shapes = gp.GeoDataFrame(validated_1[validated_1[\"final_merge\"]==\"both\"], geometry='geometry_x')\n",
    "vest_shapes = gp.GeoDataFrame(validated_1[validated_1[\"final_merge\"]==\"both\"], geometry='geometry_y')"
   ]
  },
  {
   "cell_type": "code",
   "execution_count": 129,
   "metadata": {},
   "outputs": [
    {
     "name": "stdout",
     "output_type": "stream",
     "text": [
      "True     1805\n",
      "False     378\n",
      "dtype: int64\n"
     ]
    }
   ],
   "source": [
    "print(source_shapes.geom_almost_equals(vest_shapes,decimal=0).value_counts())"
   ]
  },
  {
   "cell_type": "code",
   "execution_count": 133,
   "metadata": {},
   "outputs": [
    {
     "ename": "KeyboardInterrupt",
     "evalue": "",
     "output_type": "error",
     "traceback": [
      "\u001b[0;31m---------------------------------------------------------------------------\u001b[0m",
      "\u001b[0;31mKeyboardInterrupt\u001b[0m                         Traceback (most recent call last)",
      "\u001b[0;32m<ipython-input-133-e0956e60e7cd>\u001b[0m in \u001b[0;36m<module>\u001b[0;34m\u001b[0m\n\u001b[1;32m      1\u001b[0m \u001b[0;31m#Extremely small difference\u001b[0m\u001b[0;34m\u001b[0m\u001b[0;34m\u001b[0m\u001b[0;34m\u001b[0m\u001b[0m\n\u001b[0;32m----> 2\u001b[0;31m \u001b[0mshp_difference\u001b[0m \u001b[0;34m=\u001b[0m \u001b[0mgp\u001b[0m\u001b[0;34m.\u001b[0m\u001b[0moverlay\u001b[0m\u001b[0;34m(\u001b[0m\u001b[0msource_shapes\u001b[0m\u001b[0;34m,\u001b[0m\u001b[0mvest_shapes\u001b[0m\u001b[0;34m,\u001b[0m\u001b[0mhow\u001b[0m\u001b[0;34m=\u001b[0m\u001b[0;34m'symmetric_difference'\u001b[0m\u001b[0;34m)\u001b[0m\u001b[0;34m\u001b[0m\u001b[0;34m\u001b[0m\u001b[0m\n\u001b[0m\u001b[1;32m      3\u001b[0m \u001b[0mshp_difference\u001b[0m\u001b[0;34m.\u001b[0m\u001b[0mplot\u001b[0m\u001b[0;34m(\u001b[0m\u001b[0;34m)\u001b[0m\u001b[0;34m\u001b[0m\u001b[0;34m\u001b[0m\u001b[0m\n",
      "\u001b[0;32m/opt/anaconda3/lib/python3.8/site-packages/geopandas/tools/overlay.py\u001b[0m in \u001b[0;36moverlay\u001b[0;34m(df1, df2, how, make_valid, keep_geom_type)\u001b[0m\n\u001b[1;32m    213\u001b[0m             \u001b[0mresult\u001b[0m \u001b[0;34m=\u001b[0m \u001b[0m_overlay_intersection\u001b[0m\u001b[0;34m(\u001b[0m\u001b[0mdf1\u001b[0m\u001b[0;34m,\u001b[0m \u001b[0mdf2\u001b[0m\u001b[0;34m)\u001b[0m\u001b[0;34m\u001b[0m\u001b[0;34m\u001b[0m\u001b[0m\n\u001b[1;32m    214\u001b[0m         \u001b[0;32melif\u001b[0m \u001b[0mhow\u001b[0m \u001b[0;34m==\u001b[0m \u001b[0;34m\"symmetric_difference\"\u001b[0m\u001b[0;34m:\u001b[0m\u001b[0;34m\u001b[0m\u001b[0;34m\u001b[0m\u001b[0m\n\u001b[0;32m--> 215\u001b[0;31m             \u001b[0mresult\u001b[0m \u001b[0;34m=\u001b[0m \u001b[0m_overlay_symmetric_diff\u001b[0m\u001b[0;34m(\u001b[0m\u001b[0mdf1\u001b[0m\u001b[0;34m,\u001b[0m \u001b[0mdf2\u001b[0m\u001b[0;34m)\u001b[0m\u001b[0;34m\u001b[0m\u001b[0;34m\u001b[0m\u001b[0m\n\u001b[0m\u001b[1;32m    216\u001b[0m         \u001b[0;32melif\u001b[0m \u001b[0mhow\u001b[0m \u001b[0;34m==\u001b[0m \u001b[0;34m\"union\"\u001b[0m\u001b[0;34m:\u001b[0m\u001b[0;34m\u001b[0m\u001b[0;34m\u001b[0m\u001b[0m\n\u001b[1;32m    217\u001b[0m             \u001b[0mresult\u001b[0m \u001b[0;34m=\u001b[0m \u001b[0m_overlay_union\u001b[0m\u001b[0;34m(\u001b[0m\u001b[0mdf1\u001b[0m\u001b[0;34m,\u001b[0m \u001b[0mdf2\u001b[0m\u001b[0;34m)\u001b[0m\u001b[0;34m\u001b[0m\u001b[0;34m\u001b[0m\u001b[0m\n",
      "\u001b[0;32m/opt/anaconda3/lib/python3.8/site-packages/geopandas/tools/overlay.py\u001b[0m in \u001b[0;36m_overlay_symmetric_diff\u001b[0;34m(df1, df2)\u001b[0m\n\u001b[1;32m     99\u001b[0m     \u001b[0mOverlay\u001b[0m \u001b[0mSymmetric\u001b[0m \u001b[0mDifference\u001b[0m \u001b[0moperation\u001b[0m \u001b[0mused\u001b[0m \u001b[0;32min\u001b[0m \u001b[0moverlay\u001b[0m \u001b[0mfunction\u001b[0m\u001b[0;34m\u001b[0m\u001b[0;34m\u001b[0m\u001b[0m\n\u001b[1;32m    100\u001b[0m     \"\"\"\n\u001b[0;32m--> 101\u001b[0;31m     \u001b[0mdfdiff1\u001b[0m \u001b[0;34m=\u001b[0m \u001b[0m_overlay_difference\u001b[0m\u001b[0;34m(\u001b[0m\u001b[0mdf1\u001b[0m\u001b[0;34m,\u001b[0m \u001b[0mdf2\u001b[0m\u001b[0;34m)\u001b[0m\u001b[0;34m\u001b[0m\u001b[0;34m\u001b[0m\u001b[0m\n\u001b[0m\u001b[1;32m    102\u001b[0m     \u001b[0mdfdiff2\u001b[0m \u001b[0;34m=\u001b[0m \u001b[0m_overlay_difference\u001b[0m\u001b[0;34m(\u001b[0m\u001b[0mdf2\u001b[0m\u001b[0;34m,\u001b[0m \u001b[0mdf1\u001b[0m\u001b[0;34m)\u001b[0m\u001b[0;34m\u001b[0m\u001b[0;34m\u001b[0m\u001b[0m\n\u001b[1;32m    103\u001b[0m     \u001b[0mdfdiff1\u001b[0m\u001b[0;34m[\u001b[0m\u001b[0;34m\"__idx1\"\u001b[0m\u001b[0;34m]\u001b[0m \u001b[0;34m=\u001b[0m \u001b[0mrange\u001b[0m\u001b[0;34m(\u001b[0m\u001b[0mlen\u001b[0m\u001b[0;34m(\u001b[0m\u001b[0mdfdiff1\u001b[0m\u001b[0;34m)\u001b[0m\u001b[0;34m)\u001b[0m\u001b[0;34m\u001b[0m\u001b[0;34m\u001b[0m\u001b[0m\n",
      "\u001b[0;32m/opt/anaconda3/lib/python3.8/site-packages/geopandas/tools/overlay.py\u001b[0m in \u001b[0;36m_overlay_difference\u001b[0;34m(df1, df2)\u001b[0m\n\u001b[1;32m     82\u001b[0m     \u001b[0mnew_g\u001b[0m \u001b[0;34m=\u001b[0m \u001b[0;34m[\u001b[0m\u001b[0;34m]\u001b[0m\u001b[0;34m\u001b[0m\u001b[0;34m\u001b[0m\u001b[0m\n\u001b[1;32m     83\u001b[0m     \u001b[0;32mfor\u001b[0m \u001b[0mgeom\u001b[0m\u001b[0;34m,\u001b[0m \u001b[0mneighbours\u001b[0m \u001b[0;32min\u001b[0m \u001b[0mzip\u001b[0m\u001b[0;34m(\u001b[0m\u001b[0mdf1\u001b[0m\u001b[0;34m.\u001b[0m\u001b[0mgeometry\u001b[0m\u001b[0;34m,\u001b[0m \u001b[0msidx\u001b[0m\u001b[0;34m)\u001b[0m\u001b[0;34m:\u001b[0m\u001b[0;34m\u001b[0m\u001b[0;34m\u001b[0m\u001b[0m\n\u001b[0;32m---> 84\u001b[0;31m         new = reduce(\n\u001b[0m\u001b[1;32m     85\u001b[0m             \u001b[0;32mlambda\u001b[0m \u001b[0mx\u001b[0m\u001b[0;34m,\u001b[0m \u001b[0my\u001b[0m\u001b[0;34m:\u001b[0m \u001b[0mx\u001b[0m\u001b[0;34m.\u001b[0m\u001b[0mdifference\u001b[0m\u001b[0;34m(\u001b[0m\u001b[0my\u001b[0m\u001b[0;34m)\u001b[0m\u001b[0;34m,\u001b[0m \u001b[0;34m[\u001b[0m\u001b[0mgeom\u001b[0m\u001b[0;34m]\u001b[0m \u001b[0;34m+\u001b[0m \u001b[0mlist\u001b[0m\u001b[0;34m(\u001b[0m\u001b[0mdf2\u001b[0m\u001b[0;34m.\u001b[0m\u001b[0mgeometry\u001b[0m\u001b[0;34m.\u001b[0m\u001b[0miloc\u001b[0m\u001b[0;34m[\u001b[0m\u001b[0mneighbours\u001b[0m\u001b[0;34m]\u001b[0m\u001b[0;34m)\u001b[0m\u001b[0;34m\u001b[0m\u001b[0;34m\u001b[0m\u001b[0m\n\u001b[1;32m     86\u001b[0m         )\n",
      "\u001b[0;32m/opt/anaconda3/lib/python3.8/site-packages/geopandas/tools/overlay.py\u001b[0m in \u001b[0;36m<lambda>\u001b[0;34m(x, y)\u001b[0m\n\u001b[1;32m     83\u001b[0m     \u001b[0;32mfor\u001b[0m \u001b[0mgeom\u001b[0m\u001b[0;34m,\u001b[0m \u001b[0mneighbours\u001b[0m \u001b[0;32min\u001b[0m \u001b[0mzip\u001b[0m\u001b[0;34m(\u001b[0m\u001b[0mdf1\u001b[0m\u001b[0;34m.\u001b[0m\u001b[0mgeometry\u001b[0m\u001b[0;34m,\u001b[0m \u001b[0msidx\u001b[0m\u001b[0;34m)\u001b[0m\u001b[0;34m:\u001b[0m\u001b[0;34m\u001b[0m\u001b[0;34m\u001b[0m\u001b[0m\n\u001b[1;32m     84\u001b[0m         new = reduce(\n\u001b[0;32m---> 85\u001b[0;31m             \u001b[0;32mlambda\u001b[0m \u001b[0mx\u001b[0m\u001b[0;34m,\u001b[0m \u001b[0my\u001b[0m\u001b[0;34m:\u001b[0m \u001b[0mx\u001b[0m\u001b[0;34m.\u001b[0m\u001b[0mdifference\u001b[0m\u001b[0;34m(\u001b[0m\u001b[0my\u001b[0m\u001b[0;34m)\u001b[0m\u001b[0;34m,\u001b[0m \u001b[0;34m[\u001b[0m\u001b[0mgeom\u001b[0m\u001b[0;34m]\u001b[0m \u001b[0;34m+\u001b[0m \u001b[0mlist\u001b[0m\u001b[0;34m(\u001b[0m\u001b[0mdf2\u001b[0m\u001b[0;34m.\u001b[0m\u001b[0mgeometry\u001b[0m\u001b[0;34m.\u001b[0m\u001b[0miloc\u001b[0m\u001b[0;34m[\u001b[0m\u001b[0mneighbours\u001b[0m\u001b[0;34m]\u001b[0m\u001b[0;34m)\u001b[0m\u001b[0;34m\u001b[0m\u001b[0;34m\u001b[0m\u001b[0m\n\u001b[0m\u001b[1;32m     86\u001b[0m         )\n\u001b[1;32m     87\u001b[0m         \u001b[0mnew_g\u001b[0m\u001b[0;34m.\u001b[0m\u001b[0mappend\u001b[0m\u001b[0;34m(\u001b[0m\u001b[0mnew\u001b[0m\u001b[0;34m)\u001b[0m\u001b[0;34m\u001b[0m\u001b[0;34m\u001b[0m\u001b[0m\n",
      "\u001b[0;32m/opt/anaconda3/lib/python3.8/site-packages/shapely/geometry/base.py\u001b[0m in \u001b[0;36mdifference\u001b[0;34m(self, other)\u001b[0m\n\u001b[1;32m    670\u001b[0m     \u001b[0;32mdef\u001b[0m \u001b[0mdifference\u001b[0m\u001b[0;34m(\u001b[0m\u001b[0mself\u001b[0m\u001b[0;34m,\u001b[0m \u001b[0mother\u001b[0m\u001b[0;34m)\u001b[0m\u001b[0;34m:\u001b[0m\u001b[0;34m\u001b[0m\u001b[0;34m\u001b[0m\u001b[0m\n\u001b[1;32m    671\u001b[0m         \u001b[0;34m\"\"\"Returns the difference of the geometries\"\"\"\u001b[0m\u001b[0;34m\u001b[0m\u001b[0;34m\u001b[0m\u001b[0m\n\u001b[0;32m--> 672\u001b[0;31m         \u001b[0;32mreturn\u001b[0m \u001b[0mgeom_factory\u001b[0m\u001b[0;34m(\u001b[0m\u001b[0mself\u001b[0m\u001b[0;34m.\u001b[0m\u001b[0mimpl\u001b[0m\u001b[0;34m[\u001b[0m\u001b[0;34m'difference'\u001b[0m\u001b[0;34m]\u001b[0m\u001b[0;34m(\u001b[0m\u001b[0mself\u001b[0m\u001b[0;34m,\u001b[0m \u001b[0mother\u001b[0m\u001b[0;34m)\u001b[0m\u001b[0;34m)\u001b[0m\u001b[0;34m\u001b[0m\u001b[0;34m\u001b[0m\u001b[0m\n\u001b[0m\u001b[1;32m    673\u001b[0m \u001b[0;34m\u001b[0m\u001b[0m\n\u001b[1;32m    674\u001b[0m     \u001b[0;32mdef\u001b[0m \u001b[0mintersection\u001b[0m\u001b[0;34m(\u001b[0m\u001b[0mself\u001b[0m\u001b[0;34m,\u001b[0m \u001b[0mother\u001b[0m\u001b[0;34m)\u001b[0m\u001b[0;34m:\u001b[0m\u001b[0;34m\u001b[0m\u001b[0;34m\u001b[0m\u001b[0m\n",
      "\u001b[0;32m/opt/anaconda3/lib/python3.8/site-packages/shapely/topology.py\u001b[0m in \u001b[0;36m__call__\u001b[0;34m(self, this, other, *args)\u001b[0m\n\u001b[1;32m     64\u001b[0m         \u001b[0mself\u001b[0m\u001b[0;34m.\u001b[0m\u001b[0m_validate\u001b[0m\u001b[0;34m(\u001b[0m\u001b[0mthis\u001b[0m\u001b[0;34m)\u001b[0m\u001b[0;34m\u001b[0m\u001b[0;34m\u001b[0m\u001b[0m\n\u001b[1;32m     65\u001b[0m         \u001b[0mself\u001b[0m\u001b[0;34m.\u001b[0m\u001b[0m_validate\u001b[0m\u001b[0;34m(\u001b[0m\u001b[0mother\u001b[0m\u001b[0;34m,\u001b[0m \u001b[0mstop_prepared\u001b[0m\u001b[0;34m=\u001b[0m\u001b[0;32mTrue\u001b[0m\u001b[0;34m)\u001b[0m\u001b[0;34m\u001b[0m\u001b[0;34m\u001b[0m\u001b[0m\n\u001b[0;32m---> 66\u001b[0;31m         \u001b[0mproduct\u001b[0m \u001b[0;34m=\u001b[0m \u001b[0mself\u001b[0m\u001b[0;34m.\u001b[0m\u001b[0mfn\u001b[0m\u001b[0;34m(\u001b[0m\u001b[0mthis\u001b[0m\u001b[0;34m.\u001b[0m\u001b[0m_geom\u001b[0m\u001b[0;34m,\u001b[0m \u001b[0mother\u001b[0m\u001b[0;34m.\u001b[0m\u001b[0m_geom\u001b[0m\u001b[0;34m,\u001b[0m \u001b[0;34m*\u001b[0m\u001b[0margs\u001b[0m\u001b[0;34m)\u001b[0m\u001b[0;34m\u001b[0m\u001b[0;34m\u001b[0m\u001b[0m\n\u001b[0m\u001b[1;32m     67\u001b[0m         \u001b[0;32mif\u001b[0m \u001b[0mproduct\u001b[0m \u001b[0;32mis\u001b[0m \u001b[0;32mNone\u001b[0m\u001b[0;34m:\u001b[0m\u001b[0;34m\u001b[0m\u001b[0;34m\u001b[0m\u001b[0m\n\u001b[1;32m     68\u001b[0m             err = TopologicalError(\n",
      "\u001b[0;31mKeyboardInterrupt\u001b[0m: "
     ]
    }
   ],
   "source": [
    "#Extremely small difference\n",
    "shp_difference = gp.overlay(source_shapes,vest_shapes,how='symmetric_difference')\n",
    "shp_difference.plot()"
   ]
  },
  {
   "cell_type": "code",
   "execution_count": 126,
   "metadata": {},
   "outputs": [
    {
     "data": {
      "text/plain": [
       "<matplotlib.axes._subplots.AxesSubplot at 0x7fbe75177a30>"
      ]
     },
     "execution_count": 126,
     "metadata": {},
     "output_type": "execute_result"
    },
    {
     "data": {
      "image/png": "[encoded data removed]",
      "text/plain": [
       "<Figure size 432x288 with 1 Axes>"
      ]
     },
     "metadata": {
      "needs_background": "light"
     },
     "output_type": "display_data"
    }
   ],
   "source": [
    "source_shapes.plot()"
   ]
  },
  {
   "cell_type": "code",
   "execution_count": 127,
   "metadata": {},
   "outputs": [
    {
     "data": {
      "text/plain": [
       "<matplotlib.axes._subplots.AxesSubplot at 0x7fbe743ae400>"
      ]
     },
     "execution_count": 127,
     "metadata": {},
     "output_type": "execute_result"
    },
    {
     "data": {
      "image/png": "[encoded data removed]",
      "text/plain": [
       "<Figure size 432x288 with 1 Axes>"
      ]
     },
     "metadata": {
      "needs_background": "light"
     },
     "output_type": "display_data"
    }
   ],
   "source": [
    "vest_shapes.plot()"
   ]
  },
  {
   "cell_type": "code",
   "execution_count": 131,
   "metadata": {},
   "outputs": [],
   "source": [
    "def validater_row (df, column_List):\n",
    "    matching_rows = 0\n",
    "    different_rows = 0\n",
    "    diff_list=[]\n",
    "    diff_values = []\n",
    "    max_diff = 0\n",
    "    \n",
    "    for j in range(0,len(df.index)):\n",
    "        same = True\n",
    "        for i in column_List:\n",
    "            left_Data = i + \"_x\"\n",
    "            right_Data = i + \"_y\"\n",
    "            diff = abs(df.iloc[j][left_Data]-df.iloc[j][right_Data])\n",
    "            if(diff != 0):\n",
    "                diff_values.append(abs(diff))\n",
    "                same = False\n",
    "                if(np.isnan(diff)):\n",
    "                    print(\"NaN value at diff is: \", df.iloc[j]['county_prec'])\n",
    "                if (diff>max_diff):\n",
    "                    max_diff = diff\n",
    "                    print(\"New max diff is: \", str(max_diff))\n",
    "                    print(df.iloc[j]['county_prec'])\n",
    "        if(same != True):\n",
    "            different_rows +=1\n",
    "            diff_list.append(df.iloc[j]['county_prec'])\n",
    "        else:\n",
    "            matching_rows +=1\n",
    "    print(\"There are \", len(df.index),\" total rows\")\n",
    "    print(different_rows,\" of these rows have election result differences\")\n",
    "    print(matching_rows,\" of these rows are the same\")\n",
    "    print(\"\")\n",
    "    print(\"The max difference between any one shared column in a row is: \", max_diff)\n",
    "    if(len(diff_values)!=0):\n",
    "        print(\"The average difference is: \", str(sum(diff_values)/len(diff_values)))\n",
    "    count_big_diff = len([i for i in diff_values if i > 5])\n",
    "    print(\"There are \", str(count_big_diff), \"precinct results with a difference greater than 5\")"
   ]
  },
  {
   "cell_type": "code",
   "execution_count": 132,
   "metadata": {},
   "outputs": [
    {
     "name": "stdout",
     "output_type": "stream",
     "text": [
      "There are  2183  total rows\n",
      "0  of these rows have election result differences\n",
      "2183  of these rows are the same\n",
      "\n",
      "The max difference between any one shared column in a row is:  0\n",
      "There are  0 precinct results with a difference greater than 5\n"
     ]
    }
   ],
   "source": [
    "column_List = ['G16PRERTRU', 'G16PREDCLI',\n",
    "       'G16PRELJOH', 'G16USSRISA', 'G16USSDBAR', 'G16USSLBUC', 'G16PSCRECH',\n",
    "       'G16PSCLHOS']\n",
    "validater_row(validated_1[validated_1[\"final_merge\"]==\"both\"],column_List)"
   ]
  },
  {
   "cell_type": "code",
   "execution_count": null,
   "metadata": {},
   "outputs": [],
   "source": []
  }
 ],
 "metadata": {
  "kernelspec": {
   "display_name": "Python 3",
   "language": "python",
   "name": "python3"
  },
  "language_info": {
   "codemirror_mode": {
    "name": "ipython",
    "version": 3
   },
   "file_extension": ".py",
   "mimetype": "text/x-python",
   "name": "python",
   "nbconvert_exporter": "python",
   "pygments_lexer": "ipython3",
   "version": "3.8.3"
  }
 },
 "nbformat": 4,
 "nbformat_minor": 4
}
