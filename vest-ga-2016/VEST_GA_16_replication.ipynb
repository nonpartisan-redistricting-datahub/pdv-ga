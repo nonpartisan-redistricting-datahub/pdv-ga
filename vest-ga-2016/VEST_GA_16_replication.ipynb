{
 "cells": [
  {
   "cell_type": "code",
   "execution_count": 1,
   "metadata": {},
   "outputs": [],
   "source": [
    "import maup # mggg's library for proration, see documentation here: https://github.com/mggg/maup\n",
    "import pandas as pd # standard python data library\n",
    "import geopandas as gp # the geo-version of pandas\n",
    "import numpy as np \n",
    "import os\n",
    "import fiona\n",
    "from statistics import mean, median\n",
    "from pandas import read_csv\n",
    "gp.io.file.fiona.drvsupport.supported_drivers['KML'] = 'rw' #To load KML files\n",
    "import string"
   ]
  },
  {
   "cell_type": "markdown",
   "metadata": {},
   "source": [
    "# VEST Georgia '16 Validation"
   ]
  },
  {
   "cell_type": "markdown",
   "metadata": {},
   "source": [
    "## Examining and Loading Files"
   ]
  },
  {
   "cell_type": "markdown",
   "metadata": {},
   "source": [
    "### VEST"
   ]
  },
  {
   "cell_type": "markdown",
   "metadata": {},
   "source": [
    "#### VEST data file"
   ]
  },
  {
   "cell_type": "code",
   "execution_count": 2,
   "metadata": {},
   "outputs": [
    {
     "name": "stdout",
     "output_type": "stream",
     "text": [
      "  DISTRICT CTYSOSID PRECINCT_I PRECINCT_N CTYNAME CTYNUMBER CTYNUMBER2 FIPS2  \\\n",
      "0  121JC15  121JC15       JC15       JC15  FULTON        60        060   121   \n",
      "1  12108N1  12108N1       08N1       08N1  FULTON        60        060   121   \n",
      "2  12108N2  12108N2       08N2       08N2  FULTON        60        060   121   \n",
      "3  121JC14  121JC14       JC14       JC14  FULTON        60        060   121   \n",
      "4  121JC05  121JC05       JC05       JC05  FULTON        60        060   121   \n",
      "\n",
      "   G16PRERTRU  G16PREDCLI  G16PRELJOH  G16USSRISA  G16USSDBAR  G16USSLBUC  \\\n",
      "0         202         294          29         206         257          38   \n",
      "1         313         232          32         445         133           6   \n",
      "2         402         500          22         517         353          27   \n",
      "3        1000         708          60        1199         497          39   \n",
      "4         651         736          81         767         561          75   \n",
      "\n",
      "   G16PSCRECH  G16PSCLHOS                                           geometry  \n",
      "0         245         219  MULTIPOLYGON (((-84.24444 34.04090, -84.24179 ...  \n",
      "1         463          80  POLYGON ((-84.41635 33.83995, -84.41666 33.839...  \n",
      "2         593         181  POLYGON ((-84.41635 33.83995, -84.41675 33.839...  \n",
      "3        1320         336  POLYGON ((-84.24930 34.02987, -84.24918 34.029...  \n",
      "4         875         449  POLYGON ((-84.20322 34.06888, -84.19996 34.068...  \n"
     ]
    }
   ],
   "source": [
    "vest_ga = gp.read_file(\"./raw-from-source/VEST/ga_2016/ga_2016.shp\")\n",
    "\n",
    "#From looking at the file and testing it, a unique ID of the county FIPS\n",
    "# & the precinct name should work in most cases\n",
    "print(vest_ga.head())"
   ]
  },
  {
   "cell_type": "markdown",
   "metadata": {},
   "source": [
    "#### VEST Data Sources (from documentation):"
   ]
  },
  {
   "cell_type": "markdown",
   "metadata": {},
   "source": [
    "Election results from the Georgia Secretary of State Elections Division \n",
    "- https://sos.ga.gov/index.php/Elections/current_and_past_elections_results   \n",
    "\n",
    "Precinct shapefile primarily from the Georgia General Assembly Reapportionment Office  \n",
    "- http://www.legis.ga.gov/Joint/reapportionment/en-US/default.aspx"
   ]
  },
  {
   "cell_type": "markdown",
   "metadata": {},
   "source": [
    "#### VEST Field Names (from documentation):"
   ]
  },
  {
   "cell_type": "markdown",
   "metadata": {},
   "source": [
    "G16PRERTRU - Donald J. Trump (Republican Party)  \n",
    "G16PREDCLI - Hillary Clinton (Democratic Party)  \n",
    "G16PRELJOH - Gary Johnson (Libertarian Party)  \n",
    "  \n",
    "G16USSRISA - Johnny Isakson (Republican Party)  \n",
    "G16USSDBAR - Jim Barksdale (Democratic Party)  \n",
    "G16USSLBUC - Allen Buckley (Libertarian Party)  \n",
    "  \n",
    "G16PSCRECH - Tim Echols (Republican Party)  \n",
    "G16PSCLHOS - Eric Hoskins (Libertarian Party)  "
   ]
  },
  {
   "cell_type": "markdown",
   "metadata": {},
   "source": [
    "### Sourcefiles"
   ]
  },
  {
   "cell_type": "markdown",
   "metadata": {},
   "source": [
    "Note: VEST writes in their documentation that they got their election results directly from the GA SOS office. The GA SOS site does not have a file with all of the precinct-level election resuls together in one place and we encountered errors in trying to download the data county-by-county so we have chosen to use MEDSL's precinct-level election results in their place.  \n",
    "\n",
    "The relevant MEDSL election results are split across three different files:  \n",
    "1. Presidential results at precinct-level \n",
    "2. State-level results at precinct-level\n",
    "3. Senate results at precinct-level"
   ]
  },
  {
   "cell_type": "markdown",
   "metadata": {},
   "source": [
    "#### MEDSL Presidential Election Precinct-Level Results"
   ]
  },
  {
   "cell_type": "code",
   "execution_count": 3,
   "metadata": {},
   "outputs": [
    {
     "name": "stderr",
     "output_type": "stream",
     "text": [
      "/opt/anaconda3/lib/python3.8/site-packages/IPython/core/interactiveshell.py:3071: DtypeWarning: Columns (13,17,19,31,32) have mixed types.Specify dtype option on import or set low_memory=False.\n",
      "  has_raised = await self.run_ast_nodes(code_ast.body, cell_name,\n"
     ]
    }
   ],
   "source": [
    "#Download file\n",
    "medsl_election = pd.read_csv(\"./raw-from-source/MEDSL/2016-precinct-president.tab\",sep=\"\\t\")\n",
    "\n",
    "#Filter to only GA results\n",
    "medsl_election= medsl_election[medsl_election.state==\"Georgia\"]\n",
    "\n",
    "#Filter down to needed data\n",
    "medsl_election= medsl_election[[\"county_name\",\"county_fips\",'jurisdiction', 'precinct', 'candidate','candidate_normalized', 'office', 'district', 'writein', 'party','mode', 'votes','candidate_fec', 'candidate_fec_name']]\n",
    "candidate_list = ['CLINTON, HILLARY RODHAM / TIMOTHY MICHAEL KAINE','JOHNSON, JOHN FITZGERALD MR.', 'TRUMP, DONALD J. / MICHAEL R. PENCE']\n",
    "medsl_election=medsl_election[medsl_election[\"candidate_fec_name\"].isin(candidate_list)]\n",
    "\n",
    "#Clean the FIPS and precinct fields to use it as a unique ID\n",
    "medsl_election['county_fips'] = medsl_election['county_fips'].astype(int)\n",
    "medsl_election['county_fips'] = medsl_election['county_fips'].astype(str)\n",
    "medsl_election[\"precinct\"]=medsl_election[\"precinct\"].str.strip()\n",
    "\n",
    "#Create the unique ID\n",
    "medsl_election['county_prec'] = medsl_election['county_fips'].str[2:5]+medsl_election[\"precinct\"]\n",
    "\n",
    "#Pivot the election results so each precinct has its own row\n",
    "medsl_election=pd.pivot_table(medsl_election,index=['county_prec'],columns=[\"candidate_fec_name\"],values=['votes'],aggfunc=sum)\n",
    "\n",
    "#Clean up the index and the column names\n",
    "medsl_election.columns = medsl_election.columns.droplevel(0)\n",
    "medsl_election = medsl_election.rename(columns={\"CLINTON, HILLARY RODHAM / TIMOTHY MICHAEL KAINE\":\"G16PREDCLI\",\"JOHNSON, JOHN FITZGERALD MR.\":\"G16PRELJOH\",\"TRUMP, DONALD J. / MICHAEL R. PENCE\": \"G16PRERTRU\"})"
   ]
  },
  {
   "cell_type": "markdown",
   "metadata": {},
   "source": [
    "#### MEDSL State Elections Precinct-Level Results"
   ]
  },
  {
   "cell_type": "code",
   "execution_count": 4,
   "metadata": {},
   "outputs": [
    {
     "name": "stderr",
     "output_type": "stream",
     "text": [
      "/opt/anaconda3/lib/python3.8/site-packages/IPython/core/interactiveshell.py:3071: DtypeWarning: Columns (7,13,17) have mixed types.Specify dtype option on import or set low_memory=False.\n",
      "  has_raised = await self.run_ast_nodes(code_ast.body, cell_name,\n"
     ]
    }
   ],
   "source": [
    "#Download file\n",
    "medsl_state_election = pd.read_csv(\"./raw-from-source/MEDSL/2016-precinct-state.tab\",sep=\"\\t\")\n",
    "\n",
    "#Filter to only GA results\n",
    "medsl_state_election= medsl_state_election[medsl_state_election.state==\"Georgia\"]\n",
    "\n",
    "#Filter down to needed data\n",
    "medsl_state_election= medsl_state_election[[\"county_name\",\"county_fips\",'jurisdiction', 'precinct', 'candidate','candidate_normalized', 'office', 'district', 'writein', 'party','mode', 'votes','candidate_fec', 'candidate_fec_name']]\n",
    "medsl_state_election = medsl_state_election[medsl_state_election[\"office\"]==\"PUBLIC SERVICE COMMISSION, DISTRICT 2 - EASTERN\"]\n",
    "\n",
    "#Clean the FIPS and precinct fields to use it as a unique ID\n",
    "medsl_state_election['county_fips'] = medsl_state_election['county_fips'].astype(int)\n",
    "medsl_state_election['county_fips'] = medsl_state_election['county_fips'].astype(str)\n",
    "medsl_state_election[\"precinct\"]=medsl_state_election[\"precinct\"].str.strip()\n",
    "\n",
    "#Create the unique ID\n",
    "medsl_state_election['county_prec'] = medsl_state_election['county_fips'].str[2:5]+medsl_state_election[\"precinct\"]\n",
    "\n",
    "#Pivot the election results so each precinct has its own row\n",
    "medsl_state_election=pd.pivot_table(medsl_state_election,index=['county_prec'],columns=[\"candidate\"],values=['votes'],aggfunc=sum)\n",
    "\n",
    "#Clean up the index and the column names\n",
    "medsl_state_election.columns = medsl_state_election.columns.droplevel(0)\n",
    "medsl_state_election = medsl_state_election.rename(columns={\"ERIC HOSKINS\":\"G16PSCLHOS\",\"TIM ECHOLS\":\"G16PSCRECH\"})"
   ]
  },
  {
   "cell_type": "markdown",
   "metadata": {},
   "source": [
    "#### MEDSL Senate Elections Precinct-Level Results"
   ]
  },
  {
   "cell_type": "code",
   "execution_count": 5,
   "metadata": {},
   "outputs": [
    {
     "name": "stderr",
     "output_type": "stream",
     "text": [
      "/opt/anaconda3/lib/python3.8/site-packages/IPython/core/interactiveshell.py:3071: DtypeWarning: Columns (13,19,27,30,32) have mixed types.Specify dtype option on import or set low_memory=False.\n",
      "  has_raised = await self.run_ast_nodes(code_ast.body, cell_name,\n"
     ]
    }
   ],
   "source": [
    "#Download file\n",
    "medsl_senate_election = pd.read_csv(\"./raw-from-source/MEDSL/2016-precinct-senate.tab\",sep=\"\\t\")\n",
    "\n",
    "#Filter to only GA results and needed data\n",
    "medsl_senate_election= medsl_senate_election[medsl_senate_election.state==\"Georgia\"]\n",
    "medsl_senate_election= medsl_senate_election[[\"county_name\",\"county_fips\",'jurisdiction', 'precinct', 'candidate','candidate_normalized', 'office', 'district', 'writein', 'party','mode', 'votes','candidate_fec', 'candidate_fec_name']]\n",
    "\n",
    "#Clean the FIPS and precinct fields and create the unique ID\n",
    "medsl_senate_election['county_fips'] = medsl_senate_election['county_fips'].astype(int)\n",
    "medsl_senate_election['county_fips'] = medsl_senate_election['county_fips'].astype(str)\n",
    "medsl_senate_election[\"precinct\"]=medsl_senate_election[\"precinct\"].str.strip()\n",
    "medsl_senate_election['county_prec'] = medsl_senate_election['county_fips'].str[2:5]+medsl_senate_election[\"precinct\"]\n",
    "\n",
    "#Pivot the election results so each precinct has its own row\n",
    "medsl_senate_election=pd.pivot_table(medsl_senate_election,index=['county_prec'],columns=[\"candidate\"],values=['votes'],aggfunc=sum)\n",
    "\n",
    "#Clean up the index and the column names\n",
    "medsl_senate_election.columns = medsl_senate_election.columns.droplevel(0)\n",
    "medsl_senate_election = medsl_senate_election.drop('Michelle Gates', 1)\n",
    "medsl_senate_election = medsl_senate_election.rename(columns={\"ALLEN BUCKLEY\":\"G16USSLBUC\",\"JIM BARKSDALE\":\"G16USSDBAR\",\"JOHNNY ISAKSON\":\"G16USSRISA\"})"
   ]
  },
  {
   "cell_type": "markdown",
   "metadata": {},
   "source": [
    "### Check Totals"
   ]
  },
  {
   "cell_type": "code",
   "execution_count": 6,
   "metadata": {},
   "outputs": [
    {
     "name": "stdout",
     "output_type": "stream",
     "text": [
      "Total differences between MEDSL and VEST results by column:  0.0\n"
     ]
    }
   ],
   "source": [
    "#Confirm that the totals of the data are the same\n",
    "total_diff = abs(medsl_election[\"G16PREDCLI\"].sum()-vest_ga[\"G16PREDCLI\"].sum())+abs(medsl_election[\"G16PRELJOH\"].sum()-vest_ga[\"G16PRELJOH\"].sum()) +abs(medsl_election[\"G16PRERTRU\"].sum()-vest_ga[\"G16PRERTRU\"].sum()) +abs(medsl_state_election[\"G16PSCLHOS\"].sum()-vest_ga[\"G16PSCLHOS\"].sum())+abs(medsl_state_election[\"G16PSCRECH\"].sum()-vest_ga[\"G16PSCRECH\"].sum())+abs(medsl_senate_election[\"G16USSLBUC\"].sum()-vest_ga[\"G16USSLBUC\"].sum())+abs(medsl_senate_election[\"G16USSDBAR\"].sum()-vest_ga[\"G16USSDBAR\"].sum())+abs(medsl_senate_election[\"G16USSRISA\"].sum()-vest_ga[\"G16USSRISA\"].sum())\n",
    "print(\"Total differences between MEDSL and VEST results by column: \", total_diff)"
   ]
  },
  {
   "cell_type": "markdown",
   "metadata": {},
   "source": [
    "### Merge MEDSL results"
   ]
  },
  {
   "cell_type": "code",
   "execution_count": 7,
   "metadata": {},
   "outputs": [],
   "source": [
    "#Reset the indices of the 3 MEDSLfiles\n",
    "medsl_election = medsl_election.reset_index()\n",
    "medsl_state_election = medsl_state_election.reset_index()\n",
    "medsl_senate_election = medsl_senate_election.reset_index()\n",
    "\n",
    "#Check the shapes to make sure it is joinable\n",
    "#print(medsl_election.shape)\n",
    "#print(medsl_state_election.shape)\n",
    "#print(medsl_senate_election.shape)"
   ]
  },
  {
   "cell_type": "code",
   "execution_count": 8,
   "metadata": {},
   "outputs": [
    {
     "name": "stdout",
     "output_type": "stream",
     "text": [
      "       county_prec  G16PREDCLI  G16PRELJOH  G16PRERTRU  G16PSCLHOS  \\\n",
      "2693  001Write-ins         NaN         NaN         NaN         NaN   \n",
      "2694  009Write-ins         NaN         NaN         NaN         NaN   \n",
      "2695  011Write-ins         NaN         NaN         NaN         NaN   \n",
      "2696  015Write-ins         NaN         NaN         NaN         NaN   \n",
      "2697  021Write-ins         NaN         NaN         NaN         NaN   \n",
      "...            ...         ...         ...         ...         ...   \n",
      "2759  293Write-ins         NaN         NaN         NaN         NaN   \n",
      "2760  297Write-ins         NaN         NaN         NaN         NaN   \n",
      "2761  303Write-ins         NaN         NaN         NaN         NaN   \n",
      "2762  305Write-ins         NaN         NaN         NaN         NaN   \n",
      "2763  321Write-ins         NaN         NaN         NaN         NaN   \n",
      "\n",
      "      G16PSCRECH  G16USSLBUC  G16USSDBAR  G16USSRISA      _merge  \n",
      "2693         NaN         NaN         NaN         NaN  right_only  \n",
      "2694         NaN         NaN         NaN         NaN  right_only  \n",
      "2695         NaN         NaN         NaN         NaN  right_only  \n",
      "2696         NaN         NaN         NaN         NaN  right_only  \n",
      "2697         NaN         NaN         NaN         NaN  right_only  \n",
      "...          ...         ...         ...         ...         ...  \n",
      "2759         NaN         NaN         NaN         NaN  right_only  \n",
      "2760         NaN         NaN         NaN         NaN  right_only  \n",
      "2761         NaN         NaN         NaN         NaN  right_only  \n",
      "2762         NaN         NaN         NaN         NaN  right_only  \n",
      "2763         NaN         NaN         NaN         NaN  right_only  \n",
      "\n",
      "[71 rows x 10 columns]\n",
      "[nan]\n"
     ]
    }
   ],
   "source": [
    "#Merge presidential and state election results\n",
    "medsl_state_pres=pd.merge(medsl_election,medsl_state_election,on='county_prec',how='outer',indicator=False)\n",
    "\n",
    "#Merged pres+state with senate results\n",
    "medsl_all = pd.merge(medsl_state_pres,medsl_senate_election,on='county_prec',how='outer',indicator=True)\n",
    "\n",
    "#Note, there are precincts that only have senate results\n",
    "#These just appear to be write in columns without votes, drop those\n",
    "print(medsl_all[medsl_all[\"_merge\"]==\"right_only\"])\n",
    "\n",
    "#Code showing that all values are NaN\n",
    "print(medsl_all[medsl_all[\"_merge\"]==\"right_only\"][\"G16PRERTRU\"].unique())\n",
    "\n",
    "#Just use the columnns where it merged on both\n",
    "medsl_final = medsl_all[medsl_all[\"_merge\"]==\"both\"]\n",
    "\n",
    "#Drop the merge column\n",
    "medsl_final = medsl_final.drop('_merge', 1)\n",
    "\n",
    "#Modify the unique ID to uppercase to help improve the join rate\n",
    "medsl_final[\"county_prec\"]=medsl_final[\"county_prec\"].str.upper()"
   ]
  },
  {
   "cell_type": "code",
   "execution_count": 9,
   "metadata": {},
   "outputs": [
    {
     "name": "stdout",
     "output_type": "stream",
     "text": [
      "Total differences between merged MEDSL and original MEDSL files:  0.0\n"
     ]
    }
   ],
   "source": [
    "#Confirm the totals of the merge files match the original 3\n",
    "total_diff = abs(medsl_election[\"G16PREDCLI\"].sum()-medsl_final[\"G16PREDCLI\"].sum())+abs(medsl_election[\"G16PRELJOH\"].sum()-medsl_final[\"G16PRELJOH\"].sum())+abs(medsl_election[\"G16PRERTRU\"].sum()-medsl_final[\"G16PRERTRU\"].sum())+abs(medsl_state_election[\"G16PSCLHOS\"].sum()-medsl_final[\"G16PSCLHOS\"].sum())+abs(medsl_state_election[\"G16PSCRECH\"].sum()-medsl_final[\"G16PSCRECH\"].sum())+abs(medsl_senate_election[\"G16USSLBUC\"].sum()-medsl_final[\"G16USSLBUC\"].sum())+abs(medsl_senate_election[\"G16USSDBAR\"].sum()-medsl_final[\"G16USSDBAR\"].sum())+abs(medsl_senate_election[\"G16USSRISA\"].sum()-medsl_final[\"G16USSRISA\"].sum())\n",
    "print(\"Total differences between merged MEDSL and original MEDSL files: \", total_diff)"
   ]
  },
  {
   "cell_type": "code",
   "execution_count": 59,
   "metadata": {},
   "outputs": [
    {
     "name": "stdout",
     "output_type": "stream",
     "text": [
      "Index(['DISTRICT', 'CTYSOSID', 'PRECINCT_I', 'PRECINCT_N', 'CTYNAME',\n",
      "       'CTYNUMBER', 'CTYNUMBER2', 'FIPS2', 'G16PRERTRU', 'G16PREDCLI',\n",
      "       'G16PRELJOH', 'G16USSRISA', 'G16USSDBAR', 'G16USSLBUC', 'G16PSCRECH',\n",
      "       'G16PSCLHOS', 'geometry'],\n",
      "      dtype='object')\n"
     ]
    }
   ],
   "source": [
    "print(vest_ga.columns)"
   ]
  },
  {
   "cell_type": "markdown",
   "metadata": {},
   "source": [
    "### Shapefiles"
   ]
  },
  {
   "cell_type": "code",
   "execution_count": 102,
   "metadata": {},
   "outputs": [
    {
     "name": "stdout",
     "output_type": "stream",
     "text": [
      "Index(['ID', 'AREA', 'DATA', 'POPULATION', 'DISTRICT', 'CTYSOSID',\n",
      "       'PRECINCT_I', 'PRECINCT_N', 'CTYNUMBER', 'COUNTY', 'CTYNAME', 'FIPS1',\n",
      "       'FIPS2', 'COUNTY_NAM', 'geometry'],\n",
      "      dtype='object')\n"
     ]
    }
   ],
   "source": [
    "#Download the precinct shapefile\n",
    "precinct_shapes_ga = gp.read_file(\"./raw-from-source/GA_shapefile/vtd2016-shape/VTD2016-Shape.shp\")\n",
    "\n",
    "#Filter down to needed columns\n",
    "precinct_shapes_ga = precinct_shapes_ga.drop(['ID', 'AREA', 'DATA', 'COUNTY_NAM'],1)\n",
    "\n",
    "#Create the unique ID\n",
    "precinct_shapes_ga[\"county_prec\"]=precinct_shapes_ga[\"FIPS2\"].astype(str).str.zfill(3)+precinct_shapes_ga[\"PRECINCT_N\"]"
   ]
  },
  {
   "cell_type": "markdown",
   "metadata": {},
   "source": [
    "## Process and Merge the Shapefiles and Election Results"
   ]
  },
  {
   "cell_type": "markdown",
   "metadata": {},
   "source": [
    "## VEST Processing (from documentation):\n",
    "\n",
    "**1. IN PROGRESS (see below)**  \n",
    "Fulton County uses shapefiles and maps sourced from the county GIS program. Precincts CH01/CH04B, CP07A/CP07D, SS29A/SS29B, UC031/UC035 were merged to match how voters were registered in the 2016 voter file.  \n",
    "- Files needed: Fulton County GIS files  \n",
    "\n",
    "**2. COMPLETED**  \n",
    "The following precincts were split by congressional district to match the 2016 election results: Avondale High, Glennwood, Wadsworth in Dekalb County; Cates D in Gwinnett County.   \n",
    "- Files needed: 2016 congressional map   \n",
    "\n",
    "**3. PARTIALLY COMPLETED (see below)**  \n",
    "Cloudland and Teloga precincts in Chattooga County were split along the ridgeline that marks the boundary between them with the USGS Topographic Contour shapefile.\n",
    "- Files needed: USGS Topographic Contour shapefile      \n",
    "\n",
    "**4. COMPLETED**   \n",
    "Three of the four VTDs in Chattahoochee County are comprised of Fort Benning. However, the county only has one polling location for all voters, including residents of Fort Benning that vote within the county. The four Chattahoochee County VTDs have therefore been merged in the shapefile.  \n",
    "- Files needed: n/a**  \n",
    "- *Note: For whatever reason, this already seems to have been done on the files*"
   ]
  },
  {
   "cell_type": "markdown",
   "metadata": {},
   "source": [
    "### Instruction 1"
   ]
  },
  {
   "cell_type": "code",
   "execution_count": 103,
   "metadata": {
    "scrolled": false
   },
   "outputs": [],
   "source": [
    "#Remove the Fulton precincts from the shapefile\n",
    "precinct_shapes_ga = precinct_shapes_ga[~(precinct_shapes_ga[\"DISTRICT\"].str[0:3]==\"121\")]\n",
    "\n",
    "#Import the Fulton precincts\n",
    "fulton_precincts = gp.read_file(\"./raw-from-source/Fulton_2016/Precincts2016.shp\")\n",
    "\n",
    "#Create a unique ID for the Fulton precincts\n",
    "fulton_precincts['PRECINCT_N'] = fulton_precincts[\"VoterDist\"]\n",
    "fulton_precincts=fulton_precincts[['PRECINCT_N',\"geometry\"]]\n",
    "fulton_precincts[\"county_prec\"]=\"121\"+fulton_precincts['PRECINCT_N']\n",
    "fulton_precincts.to_crs(vest_ga.crs,inplace=True)\n",
    "\n",
    "#Add columns to make append work\n",
    "fulton_precincts['DISTRICT']=fulton_precincts[\"county_prec\"]\n",
    "fulton_precincts['CTYSOSID']=fulton_precincts[\"county_prec\"]\n",
    "fulton_precincts['PRECINCT_I']=fulton_precincts['PRECINCT_N']\n",
    "fulton_precincts['CTYNAME']=\"Fulton\"\n",
    "fulton_precincts['CTYNUMBER']=\"60\"\n",
    "fulton_precincts['COUNTY']=\"060\"\n",
    "fulton_precincts['FIPS2']=\"121\"\n",
    "\n",
    "precinct_crs = precinct_shapes_ga.crs\n",
    "\n",
    "precinct_shapes_ga = precinct_shapes_ga.append(fulton_precincts)\n",
    "\n",
    "precinct_shapes_ga = gp.GeoDataFrame(precinct_shapes_ga, crs=precinct_crs)"
   ]
  },
  {
   "cell_type": "code",
   "execution_count": 104,
   "metadata": {},
   "outputs": [
    {
     "name": "stdout",
     "output_type": "stream",
     "text": [
      "     POPULATION DISTRICT CTYSOSID PRECINCT_I PRECINCT_N CTYNUMBER COUNTY  \\\n",
      "273         NaN  121CH01  121CH01       CH01       CH01        60    060   \n",
      "\n",
      "    CTYNAME FIPS1 FIPS2                                           geometry  \\\n",
      "273  Fulton   NaN   121  POLYGON ((-84.70760 33.57692, -84.70704 33.576...   \n",
      "\n",
      "    county_prec  \n",
      "273     121CH01  \n"
     ]
    }
   ],
   "source": [
    "print(precinct_shapes_ga[precinct_shapes_ga[\"county_prec\"]==\"121CH01\"])"
   ]
  },
  {
   "cell_type": "code",
   "execution_count": 105,
   "metadata": {},
   "outputs": [
    {
     "name": "stdout",
     "output_type": "stream",
     "text": [
      "    DISTRICT CTYSOSID PRECINCT_I PRECINCT_N CTYNAME CTYNUMBER CTYNUMBER2  \\\n",
      "348  121CH01  121CH01       CH01       CH01  FULTON        60        060   \n",
      "\n",
      "    FIPS2  G16PRERTRU  G16PREDCLI  G16PRELJOH  G16USSRISA  G16USSDBAR  \\\n",
      "348   121          44         107           6          43         102   \n",
      "\n",
      "     G16USSLBUC  G16PSCRECH  G16PSCLHOS  \\\n",
      "348           5          59          78   \n",
      "\n",
      "                                              geometry  \n",
      "348  MULTIPOLYGON (((-84.71472 33.57614, -84.71471 ...  \n",
      "Empty GeoDataFrame\n",
      "Columns: [DISTRICT, CTYSOSID, PRECINCT_I, PRECINCT_N, CTYNAME, CTYNUMBER, CTYNUMBER2, FIPS2, G16PRERTRU, G16PREDCLI, G16PRELJOH, G16USSRISA, G16USSDBAR, G16USSLBUC, G16PSCRECH, G16PSCLHOS, geometry]\n",
      "Index: []\n"
     ]
    },
    {
     "ename": "AttributeError",
     "evalue": "'PatchCollection' object has no property 'geometry'",
     "output_type": "error",
     "traceback": [
      "\u001b[0;31m---------------------------------------------------------------------------\u001b[0m",
      "\u001b[0;31mAttributeError\u001b[0m                            Traceback (most recent call last)",
      "\u001b[0;32m<ipython-input-105-a66252dce9b3>\u001b[0m in \u001b[0;36m<module>\u001b[0;34m\u001b[0m\n\u001b[1;32m      8\u001b[0m \u001b[0;34m\u001b[0m\u001b[0m\n\u001b[1;32m      9\u001b[0m \u001b[0;34m\u001b[0m\u001b[0m\n\u001b[0;32m---> 10\u001b[0;31m \u001b[0mshape_fort\u001b[0m\u001b[0;34m.\u001b[0m\u001b[0mplot\u001b[0m\u001b[0;34m(\u001b[0m\u001b[0mgeometry\u001b[0m\u001b[0;34m=\u001b[0m\u001b[0;34m\"geometry\"\u001b[0m\u001b[0;34m)\u001b[0m\u001b[0;34m\u001b[0m\u001b[0;34m\u001b[0m\u001b[0m\n\u001b[0m\u001b[1;32m     11\u001b[0m \u001b[0;34m\u001b[0m\u001b[0m\n\u001b[1;32m     12\u001b[0m \u001b[0mdrop_index\u001b[0m \u001b[0;34m=\u001b[0m \u001b[0mprecinct_shapes_ga\u001b[0m\u001b[0;34m[\u001b[0m\u001b[0mprecinct_shapes_ga\u001b[0m\u001b[0;34m[\u001b[0m\u001b[0;34m\"county_prec\"\u001b[0m\u001b[0;34m]\u001b[0m\u001b[0;34m==\u001b[0m\u001b[0;34m\"121CH04B\"\u001b[0m\u001b[0;34m]\u001b[0m\u001b[0;34m.\u001b[0m\u001b[0mindex\u001b[0m\u001b[0;34m.\u001b[0m\u001b[0mvalues\u001b[0m\u001b[0;34m[\u001b[0m\u001b[0;36m0\u001b[0m\u001b[0;34m]\u001b[0m\u001b[0;34m\u001b[0m\u001b[0;34m\u001b[0m\u001b[0m\n",
      "\u001b[0;32m/opt/anaconda3/lib/python3.8/site-packages/geopandas/geodataframe.py\u001b[0m in \u001b[0;36mplot\u001b[0;34m(self, *args, **kwargs)\u001b[0m\n\u001b[1;32m    919\u001b[0m         \u001b[0;32mfrom\u001b[0m \u001b[0mthere\u001b[0m\u001b[0;34m.\u001b[0m\u001b[0;34m\u001b[0m\u001b[0;34m\u001b[0m\u001b[0m\n\u001b[1;32m    920\u001b[0m         \"\"\"\n\u001b[0;32m--> 921\u001b[0;31m         \u001b[0;32mreturn\u001b[0m \u001b[0mplot_dataframe\u001b[0m\u001b[0;34m(\u001b[0m\u001b[0mself\u001b[0m\u001b[0;34m,\u001b[0m \u001b[0;34m*\u001b[0m\u001b[0margs\u001b[0m\u001b[0;34m,\u001b[0m \u001b[0;34m**\u001b[0m\u001b[0mkwargs\u001b[0m\u001b[0;34m)\u001b[0m\u001b[0;34m\u001b[0m\u001b[0;34m\u001b[0m\u001b[0m\n\u001b[0m\u001b[1;32m    922\u001b[0m \u001b[0;34m\u001b[0m\u001b[0m\n\u001b[1;32m    923\u001b[0m     \u001b[0mplot\u001b[0m\u001b[0;34m.\u001b[0m\u001b[0m__doc__\u001b[0m \u001b[0;34m=\u001b[0m \u001b[0mplot_dataframe\u001b[0m\u001b[0;34m.\u001b[0m\u001b[0m__doc__\u001b[0m\u001b[0;34m\u001b[0m\u001b[0;34m\u001b[0m\u001b[0m\n",
      "\u001b[0;32m/opt/anaconda3/lib/python3.8/site-packages/geopandas/plotting.py\u001b[0m in \u001b[0;36mplot_dataframe\u001b[0;34m(df, column, cmap, color, ax, cax, categorical, legend, scheme, k, vmin, vmax, markersize, figsize, legend_kwds, categories, classification_kwds, missing_kwds, aspect, **style_kwds)\u001b[0m\n\u001b[1;32m    613\u001b[0m \u001b[0;34m\u001b[0m\u001b[0m\n\u001b[1;32m    614\u001b[0m     \u001b[0;32mif\u001b[0m \u001b[0mcolumn\u001b[0m \u001b[0;32mis\u001b[0m \u001b[0;32mNone\u001b[0m\u001b[0;34m:\u001b[0m\u001b[0;34m\u001b[0m\u001b[0;34m\u001b[0m\u001b[0m\n\u001b[0;32m--> 615\u001b[0;31m         return plot_series(\n\u001b[0m\u001b[1;32m    616\u001b[0m             \u001b[0mdf\u001b[0m\u001b[0;34m.\u001b[0m\u001b[0mgeometry\u001b[0m\u001b[0;34m,\u001b[0m\u001b[0;34m\u001b[0m\u001b[0;34m\u001b[0m\u001b[0m\n\u001b[1;32m    617\u001b[0m             \u001b[0mcmap\u001b[0m\u001b[0;34m=\u001b[0m\u001b[0mcmap\u001b[0m\u001b[0;34m,\u001b[0m\u001b[0;34m\u001b[0m\u001b[0;34m\u001b[0m\u001b[0m\n",
      "\u001b[0;32m/opt/anaconda3/lib/python3.8/site-packages/geopandas/plotting.py\u001b[0m in \u001b[0;36mplot_series\u001b[0;34m(s, cmap, color, ax, figsize, aspect, **style_kwds)\u001b[0m\n\u001b[1;32m    411\u001b[0m \u001b[0;34m\u001b[0m\u001b[0m\n\u001b[1;32m    412\u001b[0m         \u001b[0mvalues_\u001b[0m \u001b[0;34m=\u001b[0m \u001b[0mvalues\u001b[0m\u001b[0;34m[\u001b[0m\u001b[0mpoly_idx\u001b[0m\u001b[0;34m]\u001b[0m \u001b[0;32mif\u001b[0m \u001b[0mcmap\u001b[0m \u001b[0;32melse\u001b[0m \u001b[0;32mNone\u001b[0m\u001b[0;34m\u001b[0m\u001b[0;34m\u001b[0m\u001b[0m\n\u001b[0;32m--> 413\u001b[0;31m         _plot_polygon_collection(\n\u001b[0m\u001b[1;32m    414\u001b[0m             \u001b[0max\u001b[0m\u001b[0;34m,\u001b[0m \u001b[0mpolys\u001b[0m\u001b[0;34m,\u001b[0m \u001b[0mvalues_\u001b[0m\u001b[0;34m,\u001b[0m \u001b[0mfacecolor\u001b[0m\u001b[0;34m=\u001b[0m\u001b[0mfacecolor\u001b[0m\u001b[0;34m,\u001b[0m \u001b[0mcmap\u001b[0m\u001b[0;34m=\u001b[0m\u001b[0mcmap\u001b[0m\u001b[0;34m,\u001b[0m \u001b[0;34m**\u001b[0m\u001b[0mstyle_kwds\u001b[0m\u001b[0;34m\u001b[0m\u001b[0;34m\u001b[0m\u001b[0m\n\u001b[1;32m    415\u001b[0m         )\n",
      "\u001b[0;32m/opt/anaconda3/lib/python3.8/site-packages/geopandas/plotting.py\u001b[0m in \u001b[0;36m_plot_polygon_collection\u001b[0;34m(ax, geoms, values, color, cmap, vmin, vmax, **kwargs)\u001b[0m\n\u001b[1;32m    144\u001b[0m     \u001b[0m_expand_kwargs\u001b[0m\u001b[0;34m(\u001b[0m\u001b[0mkwargs\u001b[0m\u001b[0;34m,\u001b[0m \u001b[0mmultiindex\u001b[0m\u001b[0;34m)\u001b[0m\u001b[0;34m\u001b[0m\u001b[0;34m\u001b[0m\u001b[0m\n\u001b[1;32m    145\u001b[0m \u001b[0;34m\u001b[0m\u001b[0m\n\u001b[0;32m--> 146\u001b[0;31m     \u001b[0mcollection\u001b[0m \u001b[0;34m=\u001b[0m \u001b[0mPatchCollection\u001b[0m\u001b[0;34m(\u001b[0m\u001b[0;34m[\u001b[0m\u001b[0mPolygonPatch\u001b[0m\u001b[0;34m(\u001b[0m\u001b[0mpoly\u001b[0m\u001b[0;34m)\u001b[0m \u001b[0;32mfor\u001b[0m \u001b[0mpoly\u001b[0m \u001b[0;32min\u001b[0m \u001b[0mgeoms\u001b[0m\u001b[0;34m]\u001b[0m\u001b[0;34m,\u001b[0m \u001b[0;34m**\u001b[0m\u001b[0mkwargs\u001b[0m\u001b[0;34m)\u001b[0m\u001b[0;34m\u001b[0m\u001b[0;34m\u001b[0m\u001b[0m\n\u001b[0m\u001b[1;32m    147\u001b[0m \u001b[0;34m\u001b[0m\u001b[0m\n\u001b[1;32m    148\u001b[0m     \u001b[0;32mif\u001b[0m \u001b[0mvalues\u001b[0m \u001b[0;32mis\u001b[0m \u001b[0;32mnot\u001b[0m \u001b[0;32mNone\u001b[0m\u001b[0;34m:\u001b[0m\u001b[0;34m\u001b[0m\u001b[0;34m\u001b[0m\u001b[0m\n",
      "\u001b[0;32m/opt/anaconda3/lib/python3.8/site-packages/matplotlib/collections.py\u001b[0m in \u001b[0;36m__init__\u001b[0;34m(self, patches, match_original, **kwargs)\u001b[0m\n\u001b[1;32m   1832\u001b[0m             \u001b[0mkwargs\u001b[0m\u001b[0;34m[\u001b[0m\u001b[0;34m'antialiaseds'\u001b[0m\u001b[0;34m]\u001b[0m \u001b[0;34m=\u001b[0m \u001b[0;34m[\u001b[0m\u001b[0mp\u001b[0m\u001b[0;34m.\u001b[0m\u001b[0mget_antialiased\u001b[0m\u001b[0;34m(\u001b[0m\u001b[0;34m)\u001b[0m \u001b[0;32mfor\u001b[0m \u001b[0mp\u001b[0m \u001b[0;32min\u001b[0m \u001b[0mpatches\u001b[0m\u001b[0;34m]\u001b[0m\u001b[0;34m\u001b[0m\u001b[0;34m\u001b[0m\u001b[0m\n\u001b[1;32m   1833\u001b[0m \u001b[0;34m\u001b[0m\u001b[0m\n\u001b[0;32m-> 1834\u001b[0;31m         \u001b[0mCollection\u001b[0m\u001b[0;34m.\u001b[0m\u001b[0m__init__\u001b[0m\u001b[0;34m(\u001b[0m\u001b[0mself\u001b[0m\u001b[0;34m,\u001b[0m \u001b[0;34m**\u001b[0m\u001b[0mkwargs\u001b[0m\u001b[0;34m)\u001b[0m\u001b[0;34m\u001b[0m\u001b[0;34m\u001b[0m\u001b[0m\n\u001b[0m\u001b[1;32m   1835\u001b[0m \u001b[0;34m\u001b[0m\u001b[0m\n\u001b[1;32m   1836\u001b[0m         \u001b[0mself\u001b[0m\u001b[0;34m.\u001b[0m\u001b[0mset_paths\u001b[0m\u001b[0;34m(\u001b[0m\u001b[0mpatches\u001b[0m\u001b[0;34m)\u001b[0m\u001b[0;34m\u001b[0m\u001b[0;34m\u001b[0m\u001b[0m\n",
      "\u001b[0;32m/opt/anaconda3/lib/python3.8/site-packages/matplotlib/collections.py\u001b[0m in \u001b[0;36m__init__\u001b[0;34m(self, edgecolors, facecolors, linewidths, linestyles, capstyle, joinstyle, antialiaseds, offsets, transOffset, norm, cmap, pickradius, hatch, urls, offset_position, zorder, **kwargs)\u001b[0m\n\u001b[1;32m    162\u001b[0m \u001b[0;34m\u001b[0m\u001b[0m\n\u001b[1;32m    163\u001b[0m         \u001b[0mself\u001b[0m\u001b[0;34m.\u001b[0m\u001b[0m_path_effects\u001b[0m \u001b[0;34m=\u001b[0m \u001b[0;32mNone\u001b[0m\u001b[0;34m\u001b[0m\u001b[0;34m\u001b[0m\u001b[0m\n\u001b[0;32m--> 164\u001b[0;31m         \u001b[0mself\u001b[0m\u001b[0;34m.\u001b[0m\u001b[0mupdate\u001b[0m\u001b[0;34m(\u001b[0m\u001b[0mkwargs\u001b[0m\u001b[0;34m)\u001b[0m\u001b[0;34m\u001b[0m\u001b[0;34m\u001b[0m\u001b[0m\n\u001b[0m\u001b[1;32m    165\u001b[0m         \u001b[0mself\u001b[0m\u001b[0;34m.\u001b[0m\u001b[0m_paths\u001b[0m \u001b[0;34m=\u001b[0m \u001b[0;32mNone\u001b[0m\u001b[0;34m\u001b[0m\u001b[0;34m\u001b[0m\u001b[0m\n\u001b[1;32m    166\u001b[0m \u001b[0;34m\u001b[0m\u001b[0m\n",
      "\u001b[0;32m/opt/anaconda3/lib/python3.8/site-packages/matplotlib/artist.py\u001b[0m in \u001b[0;36mupdate\u001b[0;34m(self, props)\u001b[0m\n\u001b[1;32m   1004\u001b[0m \u001b[0;34m\u001b[0m\u001b[0m\n\u001b[1;32m   1005\u001b[0m         \u001b[0;32mwith\u001b[0m \u001b[0mcbook\u001b[0m\u001b[0;34m.\u001b[0m\u001b[0m_setattr_cm\u001b[0m\u001b[0;34m(\u001b[0m\u001b[0mself\u001b[0m\u001b[0;34m,\u001b[0m \u001b[0meventson\u001b[0m\u001b[0;34m=\u001b[0m\u001b[0;32mFalse\u001b[0m\u001b[0;34m)\u001b[0m\u001b[0;34m:\u001b[0m\u001b[0;34m\u001b[0m\u001b[0;34m\u001b[0m\u001b[0m\n\u001b[0;32m-> 1006\u001b[0;31m             \u001b[0mret\u001b[0m \u001b[0;34m=\u001b[0m \u001b[0;34m[\u001b[0m\u001b[0m_update_property\u001b[0m\u001b[0;34m(\u001b[0m\u001b[0mself\u001b[0m\u001b[0;34m,\u001b[0m \u001b[0mk\u001b[0m\u001b[0;34m,\u001b[0m \u001b[0mv\u001b[0m\u001b[0;34m)\u001b[0m \u001b[0;32mfor\u001b[0m \u001b[0mk\u001b[0m\u001b[0;34m,\u001b[0m \u001b[0mv\u001b[0m \u001b[0;32min\u001b[0m \u001b[0mprops\u001b[0m\u001b[0;34m.\u001b[0m\u001b[0mitems\u001b[0m\u001b[0;34m(\u001b[0m\u001b[0;34m)\u001b[0m\u001b[0;34m]\u001b[0m\u001b[0;34m\u001b[0m\u001b[0;34m\u001b[0m\u001b[0m\n\u001b[0m\u001b[1;32m   1007\u001b[0m \u001b[0;34m\u001b[0m\u001b[0m\n\u001b[1;32m   1008\u001b[0m         \u001b[0;32mif\u001b[0m \u001b[0mlen\u001b[0m\u001b[0;34m(\u001b[0m\u001b[0mret\u001b[0m\u001b[0;34m)\u001b[0m\u001b[0;34m:\u001b[0m\u001b[0;34m\u001b[0m\u001b[0;34m\u001b[0m\u001b[0m\n",
      "\u001b[0;32m/opt/anaconda3/lib/python3.8/site-packages/matplotlib/artist.py\u001b[0m in \u001b[0;36m<listcomp>\u001b[0;34m(.0)\u001b[0m\n\u001b[1;32m   1004\u001b[0m \u001b[0;34m\u001b[0m\u001b[0m\n\u001b[1;32m   1005\u001b[0m         \u001b[0;32mwith\u001b[0m \u001b[0mcbook\u001b[0m\u001b[0;34m.\u001b[0m\u001b[0m_setattr_cm\u001b[0m\u001b[0;34m(\u001b[0m\u001b[0mself\u001b[0m\u001b[0;34m,\u001b[0m \u001b[0meventson\u001b[0m\u001b[0;34m=\u001b[0m\u001b[0;32mFalse\u001b[0m\u001b[0;34m)\u001b[0m\u001b[0;34m:\u001b[0m\u001b[0;34m\u001b[0m\u001b[0;34m\u001b[0m\u001b[0m\n\u001b[0;32m-> 1006\u001b[0;31m             \u001b[0mret\u001b[0m \u001b[0;34m=\u001b[0m \u001b[0;34m[\u001b[0m\u001b[0m_update_property\u001b[0m\u001b[0;34m(\u001b[0m\u001b[0mself\u001b[0m\u001b[0;34m,\u001b[0m \u001b[0mk\u001b[0m\u001b[0;34m,\u001b[0m \u001b[0mv\u001b[0m\u001b[0;34m)\u001b[0m \u001b[0;32mfor\u001b[0m \u001b[0mk\u001b[0m\u001b[0;34m,\u001b[0m \u001b[0mv\u001b[0m \u001b[0;32min\u001b[0m \u001b[0mprops\u001b[0m\u001b[0;34m.\u001b[0m\u001b[0mitems\u001b[0m\u001b[0;34m(\u001b[0m\u001b[0;34m)\u001b[0m\u001b[0;34m]\u001b[0m\u001b[0;34m\u001b[0m\u001b[0;34m\u001b[0m\u001b[0m\n\u001b[0m\u001b[1;32m   1007\u001b[0m \u001b[0;34m\u001b[0m\u001b[0m\n\u001b[1;32m   1008\u001b[0m         \u001b[0;32mif\u001b[0m \u001b[0mlen\u001b[0m\u001b[0;34m(\u001b[0m\u001b[0mret\u001b[0m\u001b[0;34m)\u001b[0m\u001b[0;34m:\u001b[0m\u001b[0;34m\u001b[0m\u001b[0;34m\u001b[0m\u001b[0m\n",
      "\u001b[0;32m/opt/anaconda3/lib/python3.8/site-packages/matplotlib/artist.py\u001b[0m in \u001b[0;36m_update_property\u001b[0;34m(self, k, v)\u001b[0m\n\u001b[1;32m    999\u001b[0m                 \u001b[0mfunc\u001b[0m \u001b[0;34m=\u001b[0m \u001b[0mgetattr\u001b[0m\u001b[0;34m(\u001b[0m\u001b[0mself\u001b[0m\u001b[0;34m,\u001b[0m \u001b[0;34m'set_'\u001b[0m \u001b[0;34m+\u001b[0m \u001b[0mk\u001b[0m\u001b[0;34m,\u001b[0m \u001b[0;32mNone\u001b[0m\u001b[0;34m)\u001b[0m\u001b[0;34m\u001b[0m\u001b[0;34m\u001b[0m\u001b[0m\n\u001b[1;32m   1000\u001b[0m                 \u001b[0;32mif\u001b[0m \u001b[0;32mnot\u001b[0m \u001b[0mcallable\u001b[0m\u001b[0;34m(\u001b[0m\u001b[0mfunc\u001b[0m\u001b[0;34m)\u001b[0m\u001b[0;34m:\u001b[0m\u001b[0;34m\u001b[0m\u001b[0;34m\u001b[0m\u001b[0m\n\u001b[0;32m-> 1001\u001b[0;31m                     raise AttributeError('{!r} object has no property {!r}'\n\u001b[0m\u001b[1;32m   1002\u001b[0m                                          .format(type(self).__name__, k))\n\u001b[1;32m   1003\u001b[0m                 \u001b[0;32mreturn\u001b[0m \u001b[0mfunc\u001b[0m\u001b[0;34m(\u001b[0m\u001b[0mv\u001b[0m\u001b[0;34m)\u001b[0m\u001b[0;34m\u001b[0m\u001b[0;34m\u001b[0m\u001b[0m\n",
      "\u001b[0;31mAttributeError\u001b[0m: 'PatchCollection' object has no property 'geometry'"
     ]
    },
    {
     "data": {
      "image/png": "[encoded data removed]",
      "text/plain": [
       "<Figure size 432x288 with 1 Axes>"
      ]
     },
     "metadata": {
      "needs_background": "light"
     },
     "output_type": "display_data"
    }
   ],
   "source": [
    "#Merge Precincts CH01/CH04B\n",
    "print(vest_ga[vest_ga[\"DISTRICT\"]==\"121CH01\"])\n",
    "print(vest_ga[vest_ga[\"DISTRICT\"]==\"121CH04B\"])\n",
    "\n",
    "#New name should be CH01\n",
    "shape_fort = precinct_shapes_ga.loc[precinct_shapes_ga[\"county_prec\"]==\"121CH01\"]\n",
    "shape_fort_1 = precinct_shapes_ga.loc[precinct_shapes_ga[\"county_prec\"]==\"121CH04B\"]\n",
    "\n",
    "\n",
    "shape_fort.plot(geometry=\"geometry\")\n",
    "\n",
    "drop_index = precinct_shapes_ga[precinct_shapes_ga[\"county_prec\"]==\"121CH04B\"].index.values[0]\n",
    "prec2combine = [shape_fort,shape_fort_1]\n",
    "new_fort = gp.GeoDataFrame(pd.concat(prec2combine, ignore_index=True), crs = shape_fort.crs)\n",
    "shape_fort[\"geometry\"]=new_fort.unary_union\n",
    "fulton_precincts = precinct_shapes_ga.drop([drop_index])\n",
    "\n",
    "shape_fort.plot()\n",
    "vest_ga[vest_ga[\"DISTRICT\"]==\"121CH01\"].plot()"
   ]
  },
  {
   "cell_type": "code",
   "execution_count": 52,
   "metadata": {},
   "outputs": [
    {
     "name": "stdout",
     "output_type": "stream",
     "text": [
      "     DISTRICT  CTYSOSID PRECINCT_I PRECINCT_N CTYNAME CTYNUMBER CTYNUMBER2  \\\n",
      "337  121CP07A  121CP07A      CP07A      CP07A  FULTON        60        060   \n",
      "\n",
      "    FIPS2  G16PRERTRU  G16PREDCLI  G16PRELJOH  G16USSRISA  G16USSDBAR  \\\n",
      "337   121          10         441          10          28         373   \n",
      "\n",
      "     G16USSLBUC  G16PSCRECH  G16PSCLHOS  \\\n",
      "337          17          60         323   \n",
      "\n",
      "                                              geometry  \n",
      "337  POLYGON ((-84.47732 33.64665, -84.48463 33.646...  \n",
      "Empty GeoDataFrame\n",
      "Columns: [DISTRICT, CTYSOSID, PRECINCT_I, PRECINCT_N, CTYNAME, CTYNUMBER, CTYNUMBER2, FIPS2, G16PRERTRU, G16PREDCLI, G16PRELJOH, G16USSRISA, G16USSDBAR, G16USSLBUC, G16PSCRECH, G16PSCLHOS, geometry]\n",
      "Index: []\n"
     ]
    },
    {
     "name": "stderr",
     "output_type": "stream",
     "text": [
      "/opt/anaconda3/lib/python3.8/site-packages/geopandas/geodataframe.py:853: SettingWithCopyWarning: \n",
      "A value is trying to be set on a copy of a slice from a DataFrame.\n",
      "Try using .loc[row_indexer,col_indexer] = value instead\n",
      "\n",
      "See the caveats in the documentation: https://pandas.pydata.org/pandas-docs/stable/user_guide/indexing.html#returning-a-view-versus-a-copy\n",
      "  super(GeoDataFrame, self).__setitem__(key, value)\n"
     ]
    },
    {
     "data": {
      "text/plain": [
       "<matplotlib.axes._subplots.AxesSubplot at 0x7f8ba57bb460>"
      ]
     },
     "execution_count": 52,
     "metadata": {},
     "output_type": "execute_result"
    },
    {
     "data": {
      "image/png": "[encoded data removed]",
      "text/plain": [
       "<Figure size 432x288 with 1 Axes>"
      ]
     },
     "metadata": {
      "needs_background": "light"
     },
     "output_type": "display_data"
    },
    {
     "data": {
      "image/png": "[encoded data removed]",
      "text/plain": [
       "<Figure size 432x288 with 1 Axes>"
      ]
     },
     "metadata": {
      "needs_background": "light"
     },
     "output_type": "display_data"
    },
    {
     "data": {
      "image/png": "[encoded data removed]",
      "text/plain": [
       "<Figure size 432x288 with 1 Axes>"
      ]
     },
     "metadata": {
      "needs_background": "light"
     },
     "output_type": "display_data"
    },
    {
     "data": {
      "image/png": "[encoded data removed]",
      "text/plain": [
       "<Figure size 432x288 with 1 Axes>"
      ]
     },
     "metadata": {
      "needs_background": "light"
     },
     "output_type": "display_data"
    }
   ],
   "source": [
    "#Merge Precincts CP07A/CP07D\n",
    "print(vest_ga[vest_ga[\"DISTRICT\"]==\"121CP07A\"])\n",
    "print(vest_ga[vest_ga[\"DISTRICT\"]==\"121CP07D\"])\n",
    "\n",
    "#New name should be CP07A\n",
    "shape_fort = fulton_precincts.loc[fulton_precincts[\"county_prec\"]==\"121CP07A\"]\n",
    "shape_fort_1 = fulton_precincts.loc[fulton_precincts[\"county_prec\"]==\"121CP07D\"]\n",
    "\n",
    "shape_fort.plot()\n",
    "shape_fort_1.plot()\n",
    "\n",
    "drop_index = fulton_precincts[fulton_precincts[\"county_prec\"]==\"121CP07D\"].index.values[0]\n",
    "prec2combine = [shape_fort,shape_fort_1]\n",
    "new_fort = gp.GeoDataFrame(pd.concat(prec2combine, ignore_index=True), crs = shape_fort.crs)\n",
    "shape_fort[\"geometry\"]=new_fort.unary_union\n",
    "fulton_precincts = fulton_precincts.drop([drop_index])\n",
    "\n",
    "shape_fort.plot()\n",
    "vest_ga[vest_ga[\"DISTRICT\"]==\"121CP07A\"].plot()"
   ]
  },
  {
   "cell_type": "code",
   "execution_count": 53,
   "metadata": {},
   "outputs": [
    {
     "name": "stdout",
     "output_type": "stream",
     "text": [
      "     DISTRICT  CTYSOSID PRECINCT_I PRECINCT_N CTYNAME CTYNUMBER CTYNUMBER2  \\\n",
      "303  121SS29A  121SS29A      SS29A      SS29A  FULTON        60        060   \n",
      "\n",
      "    FIPS2  G16PRERTRU  G16PREDCLI  G16PRELJOH  G16USSRISA  G16USSDBAR  \\\n",
      "303   121         681         966          86         861         761   \n",
      "\n",
      "     G16USSLBUC  G16PSCRECH  G16PSCLHOS  \\\n",
      "303          75         987         533   \n",
      "\n",
      "                                              geometry  \n",
      "303  POLYGON ((-84.34855 33.96047, -84.34772 33.961...  \n",
      "Empty GeoDataFrame\n",
      "Columns: [DISTRICT, CTYSOSID, PRECINCT_I, PRECINCT_N, CTYNAME, CTYNUMBER, CTYNUMBER2, FIPS2, G16PRERTRU, G16PREDCLI, G16PRELJOH, G16USSRISA, G16USSDBAR, G16USSLBUC, G16PSCRECH, G16PSCLHOS, geometry]\n",
      "Index: []\n"
     ]
    },
    {
     "name": "stderr",
     "output_type": "stream",
     "text": [
      "/opt/anaconda3/lib/python3.8/site-packages/geopandas/geodataframe.py:853: SettingWithCopyWarning: \n",
      "A value is trying to be set on a copy of a slice from a DataFrame.\n",
      "Try using .loc[row_indexer,col_indexer] = value instead\n",
      "\n",
      "See the caveats in the documentation: https://pandas.pydata.org/pandas-docs/stable/user_guide/indexing.html#returning-a-view-versus-a-copy\n",
      "  super(GeoDataFrame, self).__setitem__(key, value)\n"
     ]
    },
    {
     "data": {
      "text/plain": [
       "<matplotlib.axes._subplots.AxesSubplot at 0x7f8ba8137460>"
      ]
     },
     "execution_count": 53,
     "metadata": {},
     "output_type": "execute_result"
    },
    {
     "data": {
      "image/png": "[encoded data removed]",
      "text/plain": [
       "<Figure size 432x288 with 1 Axes>"
      ]
     },
     "metadata": {
      "needs_background": "light"
     },
     "output_type": "display_data"
    },
    {
     "data": {
      "image/png": "[encoded data removed]",
      "text/plain": [
       "<Figure size 432x288 with 1 Axes>"
      ]
     },
     "metadata": {
      "needs_background": "light"
     },
     "output_type": "display_data"
    },
    {
     "data": {
      "image/png": "[encoded data removed]",
      "text/plain": [
       "<Figure size 432x288 with 1 Axes>"
      ]
     },
     "metadata": {
      "needs_background": "light"
     },
     "output_type": "display_data"
    },
    {
     "data": {
      "image/png": "[encoded data removed]",
      "text/plain": [
       "<Figure size 432x288 with 1 Axes>"
      ]
     },
     "metadata": {
      "needs_background": "light"
     },
     "output_type": "display_data"
    }
   ],
   "source": [
    "#Merge Precincts SS29A/SS29B\n",
    "print(vest_ga[vest_ga[\"DISTRICT\"]==\"121SS29A\"])\n",
    "print(vest_ga[vest_ga[\"DISTRICT\"]==\"121SS29B\"])\n",
    "\n",
    "#New name should be SS29A\n",
    "shape_fort = fulton_precincts.loc[fulton_precincts[\"county_prec\"]==\"121SS29A\"]\n",
    "shape_fort_1 = fulton_precincts.loc[fulton_precincts[\"county_prec\"]==\"121SS29B\"]\n",
    "\n",
    "shape_fort.plot()\n",
    "shape_fort_1.plot()\n",
    "\n",
    "drop_index = fulton_precincts[fulton_precincts[\"county_prec\"]==\"121SS29B\"].index.values[0]\n",
    "prec2combine = [shape_fort,shape_fort_1]\n",
    "new_fort = gp.GeoDataFrame(pd.concat(prec2combine, ignore_index=True), crs = shape_fort.crs)\n",
    "shape_fort[\"geometry\"]=new_fort.unary_union\n",
    "fulton_precincts = fulton_precincts.drop([drop_index])\n",
    "\n",
    "shape_fort.plot()\n",
    "vest_ga[vest_ga[\"DISTRICT\"]==\"121SS29A\"].plot()"
   ]
  },
  {
   "cell_type": "code",
   "execution_count": 54,
   "metadata": {},
   "outputs": [
    {
     "name": "stdout",
     "output_type": "stream",
     "text": [
      "     DISTRICT  CTYSOSID PRECINCT_I PRECINCT_N CTYNAME CTYNUMBER CTYNUMBER2  \\\n",
      "304  121UC031  121UC031      UC031      UC031  FULTON        60        060   \n",
      "\n",
      "    FIPS2  G16PRERTRU  G16PREDCLI  G16PRELJOH  G16USSRISA  G16USSDBAR  \\\n",
      "304   121         281        1019          25         313         904   \n",
      "\n",
      "     G16USSLBUC  G16PSCRECH  G16PSCLHOS  \\\n",
      "304          28         378         686   \n",
      "\n",
      "                                              geometry  \n",
      "304  POLYGON ((-84.51393 33.55938, -84.51390 33.559...  \n",
      "Empty GeoDataFrame\n",
      "Columns: [DISTRICT, CTYSOSID, PRECINCT_I, PRECINCT_N, CTYNAME, CTYNUMBER, CTYNUMBER2, FIPS2, G16PRERTRU, G16PREDCLI, G16PRELJOH, G16USSRISA, G16USSDBAR, G16USSLBUC, G16PSCRECH, G16PSCLHOS, geometry]\n",
      "Index: []\n"
     ]
    },
    {
     "name": "stderr",
     "output_type": "stream",
     "text": [
      "/opt/anaconda3/lib/python3.8/site-packages/geopandas/geodataframe.py:853: SettingWithCopyWarning: \n",
      "A value is trying to be set on a copy of a slice from a DataFrame.\n",
      "Try using .loc[row_indexer,col_indexer] = value instead\n",
      "\n",
      "See the caveats in the documentation: https://pandas.pydata.org/pandas-docs/stable/user_guide/indexing.html#returning-a-view-versus-a-copy\n",
      "  super(GeoDataFrame, self).__setitem__(key, value)\n"
     ]
    },
    {
     "data": {
      "text/plain": [
       "<matplotlib.axes._subplots.AxesSubplot at 0x7f8ba531b250>"
      ]
     },
     "execution_count": 54,
     "metadata": {},
     "output_type": "execute_result"
    },
    {
     "data": {
      "image/png": "[encoded data removed]",
      "text/plain": [
       "<Figure size 432x288 with 1 Axes>"
      ]
     },
     "metadata": {
      "needs_background": "light"
     },
     "output_type": "display_data"
    },
    {
     "data": {
      "image/png": "[encoded data removed]",
      "text/plain": [
       "<Figure size 432x288 with 1 Axes>"
      ]
     },
     "metadata": {
      "needs_background": "light"
     },
     "output_type": "display_data"
    },
    {
     "data": {
      "image/png": "[encoded data removed]",
      "text/plain": [
       "<Figure size 432x288 with 1 Axes>"
      ]
     },
     "metadata": {
      "needs_background": "light"
     },
     "output_type": "display_data"
    },
    {
     "data": {
      "image/png": "[encoded data removed]",
      "text/plain": [
       "<Figure size 432x288 with 1 Axes>"
      ]
     },
     "metadata": {
      "needs_background": "light"
     },
     "output_type": "display_data"
    }
   ],
   "source": [
    "#Merge Precincts UC031/UC035\n",
    "print(vest_ga[vest_ga[\"DISTRICT\"]==\"121UC031\"])\n",
    "print(vest_ga[vest_ga[\"DISTRICT\"]==\"121UC035\"])\n",
    "\n",
    "#New name should be UC031\n",
    "shape_fort = fulton_precincts.loc[fulton_precincts[\"county_prec\"]==\"121UC031\"]\n",
    "shape_fort_1 = fulton_precincts.loc[fulton_precincts[\"county_prec\"]==\"121UC035\"]\n",
    "\n",
    "shape_fort.plot()\n",
    "shape_fort_1.plot()\n",
    "\n",
    "drop_index = fulton_precincts[fulton_precincts[\"county_prec\"]==\"121UC035\"].index.values[0]\n",
    "prec2combine = [shape_fort,shape_fort_1]\n",
    "new_fort = gp.GeoDataFrame(pd.concat(prec2combine, ignore_index=True), crs = shape_fort.crs)\n",
    "shape_fort[\"geometry\"]=new_fort.unary_union\n",
    "fulton_precincts = fulton_precincts.drop([drop_index])\n",
    "\n",
    "shape_fort.plot()\n",
    "vest_ga[vest_ga[\"DISTRICT\"]==\"121UC031\"].plot()"
   ]
  },
  {
   "cell_type": "markdown",
   "metadata": {},
   "source": [
    "### Instruction 2"
   ]
  },
  {
   "cell_type": "markdown",
   "metadata": {},
   "source": [
    "#### Import Congressional File and grab needed GA districts"
   ]
  },
  {
   "cell_type": "code",
   "execution_count": null,
   "metadata": {},
   "outputs": [],
   "source": [
    "#Upload the districts and filter down to just Georgia\n",
    "us_congress = gp.read_file(\"./raw-from-source/Congressional_Districts/tl_2018_us_cd116/tl_2018_us_cd116.shp\")\n",
    "ga_congress = us_congress[us_congress[\"STATEFP\"]==\"13\"]\n",
    "\n",
    "#Grab the needed districts for these splits\n",
    "district_4 = ga_congress.loc[[91]]\n",
    "district_5 = ga_congress.loc[[92]]\n",
    "district_7 = ga_congress.loc[[98]]\n",
    "district_4[\"geometry\"]=district_4.buffer(0)\n",
    "district_5[\"geometry\"]=district_5.buffer(0)\n",
    "district_7[\"geometry\"]=district_7.buffer(0)\n",
    "district_4.to_crs(precinct_shapes_ga.crs,inplace=True)\n",
    "district_5.to_crs(precinct_shapes_ga.crs,inplace=True)\n",
    "district_7.to_crs(precinct_shapes_ga.crs,inplace=True)"
   ]
  },
  {
   "cell_type": "markdown",
   "metadata": {},
   "source": [
    "#### 1. Avondale"
   ]
  },
  {
   "cell_type": "code",
   "execution_count": null,
   "metadata": {},
   "outputs": [],
   "source": [
    "#Locate the avondale precinct and its index\n",
    "avondale_high = precinct_shapes_ga[precinct_shapes_ga[\"PRECINCT_N\"]==\"AVONDALE HIGH\"]\n",
    "avondale_index = precinct_shapes_ga[precinct_shapes_ga[\"PRECINCT_N\"]==\"AVONDALE HIGH\"].index.values[0]\n",
    "\n",
    "#Calculate the intersection\n",
    "avondale_high_4 = gp.overlay(district_4,avondale_high, how='intersection',keep_geom_type=False)\n",
    "avondale_high_5 = gp.overlay(district_5,avondale_high, how='intersection',keep_geom_type=False)\n",
    "\n",
    "#Filter down columns\n",
    "avondale_high_4 = avondale_high_4[['ID', 'AREA', 'DATA', 'POPULATION', 'DISTRICT', 'CTYSOSID','PRECINCT_I', 'PRECINCT_N', 'CTYNUMBER', 'COUNTY', 'CTYNAME', 'FIPS1','FIPS2', 'COUNTY_NAM', 'geometry', 'county_prec']]\n",
    "avondale_high_5 = avondale_high_4[['ID', 'AREA', 'DATA', 'POPULATION', 'DISTRICT', 'CTYSOSID','PRECINCT_I', 'PRECINCT_N', 'CTYNUMBER', 'COUNTY', 'CTYNAME', 'FIPS1','FIPS2', 'COUNTY_NAM', 'geometry', 'county_prec']]\n",
    "\n",
    "#Rename the \"county_prec\"\n",
    "avondale_high_4['county_prec']=\"089AVONDALE HIGH - 04\"\n",
    "avondale_high_5['county_prec']=\"089AVONDALE HIGH - 05\"\n",
    "\n",
    "#Add the new files to the dataframe\n",
    "precinct_shapes_ga = precinct_shapes_ga.append(avondale_high_4)\n",
    "precinct_shapes_ga = precinct_shapes_ga.append(avondale_high_5)\n",
    "\n",
    "#Drop the old precinct\n",
    "precinct_shapes_ga = precinct_shapes_ga.drop([avondale_index])"
   ]
  },
  {
   "cell_type": "markdown",
   "metadata": {},
   "source": [
    "#### 2. Glennwood"
   ]
  },
  {
   "cell_type": "code",
   "execution_count": null,
   "metadata": {},
   "outputs": [],
   "source": [
    "#Locate the glennwood precinct and its index\n",
    "glennwood = precinct_shapes_ga[precinct_shapes_ga[\"PRECINCT_N\"]==\"GLENNWOOD (DEC)\"]\n",
    "glennwood_index = precinct_shapes_ga[precinct_shapes_ga[\"PRECINCT_N\"]==\"GLENNWOOD (DEC)\"].index.values[0]\n",
    "\n",
    "#Calculate the intersection\n",
    "glennwood_4 = gp.overlay(district_4,glennwood, how='intersection',keep_geom_type=False)\n",
    "glennwood_5 = gp.overlay(district_5,glennwood, how='intersection',keep_geom_type=False)\n",
    "\n",
    "#Filter down columns\n",
    "glennwood_4 = glennwood_4[['ID', 'AREA', 'DATA', 'POPULATION', 'DISTRICT', 'CTYSOSID','PRECINCT_I', 'PRECINCT_N', 'CTYNUMBER', 'COUNTY', 'CTYNAME', 'FIPS1','FIPS2', 'COUNTY_NAM', 'geometry', 'county_prec']]\n",
    "glennwood_5 = glennwood_5[['ID', 'AREA', 'DATA', 'POPULATION', 'DISTRICT', 'CTYSOSID','PRECINCT_I', 'PRECINCT_N', 'CTYNUMBER', 'COUNTY', 'CTYNAME', 'FIPS1','FIPS2', 'COUNTY_NAM', 'geometry', 'county_prec']]\n",
    "\n",
    "#Rename the \"county_prec\"\n",
    "glennwood_4['county_prec']=\"089GLENNWOOD - 04\"\n",
    "glennwood_5['county_prec']=\"089GLENNWOOD - 05\"\n",
    "\n",
    "#Add the new files to the dataframe\n",
    "precinct_shapes_ga = precinct_shapes_ga.append(glennwood_4)\n",
    "precinct_shapes_ga = precinct_shapes_ga.append(glennwood_5)\n",
    "\n",
    "#Drop the old precinct\n",
    "precinct_shapes_ga = precinct_shapes_ga.drop([glennwood_index])"
   ]
  },
  {
   "cell_type": "markdown",
   "metadata": {},
   "source": [
    "#### 3. Wadsworth"
   ]
  },
  {
   "cell_type": "code",
   "execution_count": null,
   "metadata": {},
   "outputs": [],
   "source": [
    "#Locate the wadsworth precinct and its index\n",
    "wadsworth = precinct_shapes_ga[precinct_shapes_ga[\"PRECINCT_N\"]==\"WADSWORTH\"]\n",
    "wadsworth_index = precinct_shapes_ga[precinct_shapes_ga[\"PRECINCT_N\"]==\"WADSWORTH\"].index.values[0]\n",
    "\n",
    "#Calculate the intersection\n",
    "wadsworth_4 = gp.overlay(district_4,wadsworth, how='intersection',keep_geom_type=False)\n",
    "wadsworth_5 = gp.overlay(district_5,wadsworth, how='intersection',keep_geom_type=False)\n",
    "\n",
    "#Filter down columns\n",
    "wadsworth_4 = wadsworth_4[['ID', 'AREA', 'DATA', 'POPULATION', 'DISTRICT', 'CTYSOSID','PRECINCT_I', 'PRECINCT_N', 'CTYNUMBER', 'COUNTY', 'CTYNAME', 'FIPS1','FIPS2', 'COUNTY_NAM', 'geometry', 'county_prec']]\n",
    "wadsworth_5 = wadsworth_5[['ID', 'AREA', 'DATA', 'POPULATION', 'DISTRICT', 'CTYSOSID','PRECINCT_I', 'PRECINCT_N', 'CTYNUMBER', 'COUNTY', 'CTYNAME', 'FIPS1','FIPS2', 'COUNTY_NAM', 'geometry', 'county_prec']]\n",
    " \n",
    "#Rename the \"county_prec\"\n",
    "wadsworth_4['county_prec']=\"089WADSWORTH - 04\"\n",
    "wadsworth_5['county_prec']=\"089WADSWORTH - 05\"\n",
    "\n",
    "#Add the new files to the dataframe\n",
    "precinct_shapes_ga = precinct_shapes_ga.append(wadsworth_4)\n",
    "precinct_shapes_ga = precinct_shapes_ga.append(wadsworth_5)\n",
    "\n",
    "#Drop the old precinct\n",
    "precinct_shapes_ga = precinct_shapes_ga.drop([wadsworth_index])"
   ]
  },
  {
   "cell_type": "markdown",
   "metadata": {},
   "source": [
    "#### 4. Cates"
   ]
  },
  {
   "cell_type": "code",
   "execution_count": null,
   "metadata": {},
   "outputs": [],
   "source": [
    "#Locate the Cates precinct and its index\n",
    "cates_d = precinct_shapes_ga[precinct_shapes_ga[\"PRECINCT_N\"]==\"CATES D\"]\n",
    "cates_d_index = precinct_shapes_ga[precinct_shapes_ga[\"PRECINCT_N\"]==\"CATES D\"].index.values[0]\n",
    "\n",
    "#Calculate the intersection\n",
    "cates_d_4 = gp.overlay(district_4,cates_d, how='intersection',keep_geom_type=False)\n",
    "cates_d_7 = gp.overlay(district_7,cates_d, how='intersection',keep_geom_type=False)\n",
    "\n",
    "#Filter down columns\n",
    "cates_d_4 = cates_d_4[['ID', 'AREA', 'DATA', 'POPULATION', 'DISTRICT', 'CTYSOSID','PRECINCT_I', 'PRECINCT_N', 'CTYNUMBER', 'COUNTY', 'CTYNAME', 'FIPS1','FIPS2', 'COUNTY_NAM', 'geometry', 'county_prec']]\n",
    "cates_d_7 = cates_d_7[['ID', 'AREA', 'DATA', 'POPULATION', 'DISTRICT', 'CTYSOSID','PRECINCT_I', 'PRECINCT_N', 'CTYNUMBER', 'COUNTY', 'CTYNAME', 'FIPS1','FIPS2', 'COUNTY_NAM', 'geometry', 'county_prec']]\n",
    "\n",
    "#Rename the \"county_prec\"\n",
    "cates_d_4['county_prec']=\"135CATES D\"\n",
    "cates_d_7['county_prec']=\"135035 CATES D - 04\"\n",
    "\n",
    "#Add the new files to the dataframe\n",
    "precinct_shapes_ga = precinct_shapes_ga.append(cates_d_4)\n",
    "precinct_shapes_ga = precinct_shapes_ga.append(cates_d_7)\n",
    "\n",
    "#Drop the old precinct\n",
    "precinct_shapes_ga = precinct_shapes_ga.drop([cates_d_index])"
   ]
  },
  {
   "cell_type": "markdown",
   "metadata": {},
   "source": [
    "### Instruction 3:"
   ]
  },
  {
   "cell_type": "markdown",
   "metadata": {},
   "source": [
    "This instruction involved splitting the Cloudland Teloga precinct on a certain ridgeline. Loading VEST's final file as well as the precinct shapefile into a GIS sofware gave us confirmation that they indeed split the precinct on the ridgeline. "
   ]
  },
  {
   "cell_type": "code",
   "execution_count": null,
   "metadata": {},
   "outputs": [],
   "source": [
    "#Printing with the merged precinct on top\n",
    "ax2 = precinct_shapes_ga[precinct_shapes_ga[\"CTYSOSID\"]==\"055XC-968\"].plot(zorder=2)\n",
    "vest_ga[vest_ga[\"PRECINCT_N\"]==\"CLOUDLAND\"].plot(ax=ax2,color=\"red\")\n",
    "vest_ga[vest_ga[\"PRECINCT_N\"]==\"TELOGA\"].plot(ax=ax2,color=\"orange\")\n",
    "\n",
    "#Printing with the split precincts on top\n",
    "ax = precinct_shapes_ga[precinct_shapes_ga[\"CTYSOSID\"]==\"055XC-968\"].plot()\n",
    "vest_ga[vest_ga[\"PRECINCT_N\"]==\"CLOUDLAND\"].plot(ax=ax,color=\"red\")\n",
    "vest_ga[vest_ga[\"PRECINCT_N\"]==\"TELOGA\"].plot(ax=ax,color=\"orange\")\n",
    "\n",
    "#Import the topo lines\n",
    "elev_contour_1 = gp.read_file(\"./raw-from-source/Topographic_Lines/VECTOR_Dougherty_Gap_GA_7_5_Min_Shape/Elev_Contour.shp\")\n",
    "elev_contour_2 = gp.read_file(\"./raw-from-source/Topographic_Lines/VECTOR_Jamestown_AL_7_5_Min_Shape/Elev_Contour.shp\")\n",
    "\n",
    "#Plot the elev_countours\n",
    "ax3 = elev_contour_1.plot(linewidth=0.1)\n",
    "elev_contour_2.plot(ax=ax3,linewidth=0.1)\n",
    "minx, miny, maxx, maxy = precinct_shapes_ga[precinct_shapes_ga[\"CTYSOSID\"]==\"055XC-968\"].total_bounds\n",
    "ax3.set_xlim(minx, maxx)\n",
    "ax3.set_ylim(miny, maxy)\n",
    "\n",
    "#Confirm that the precincts are really split on a ridgeline\n",
    "ax4 = vest_ga[vest_ga[\"PRECINCT_N\"]==\"CLOUDLAND\"].plot(color=\"red\")\n",
    "vest_ga[vest_ga[\"PRECINCT_N\"]==\"TELOGA\"].plot(ax=ax4,color=\"orange\")\n",
    "elev_contour_1.plot(ax=ax4,linewidth=0.1)\n",
    "elev_contour_2.plot(ax=ax4,linewidth=0.1)\n",
    "minx, miny, maxx, maxy = precinct_shapes_ga[precinct_shapes_ga[\"CTYSOSID\"]==\"055XC-968\"].total_bounds\n",
    "ax4.set_xlim(minx, maxx)\n",
    "ax4.set_ylim(miny, maxy)\n",
    "\n",
    "#As you can see the precinct is not plotted exactly on "
   ]
  },
  {
   "cell_type": "code",
   "execution_count": null,
   "metadata": {},
   "outputs": [],
   "source": [
    "print(cloudland_teloga)"
   ]
  },
  {
   "cell_type": "markdown",
   "metadata": {},
   "source": [
    "### Instruction 4:\n"
   ]
  },
  {
   "cell_type": "code",
   "execution_count": null,
   "metadata": {},
   "outputs": [],
   "source": [
    "shape_fort = precinct_shapes_ga.loc[precinct_shapes_ga[\"county_prec\"]==\"053ACTIVITY CENTER\"]\n",
    "shape_fort_1 = precinct_shapes_ga[precinct_shapes_ga[\"DISTRICT\"]==\"053FTBEN1\"]\n",
    "shape_fort_2 = precinct_shapes_ga[precinct_shapes_ga[\"DISTRICT\"]==\"053FTBEN2\"]\n",
    "shape_fort_3 = precinct_shapes_ga[precinct_shapes_ga[\"DISTRICT\"]==\"053FTBEN3\"]\n",
    "\n",
    "index_fort_1 = precinct_shapes_ga[precinct_shapes_ga[\"DISTRICT\"]==\"053FTBEN1\"].index.values[0]\n",
    "index_fort_2 = precinct_shapes_ga[precinct_shapes_ga[\"DISTRICT\"]==\"053FTBEN2\"].index.values[0]\n",
    "index_fort_3 = precinct_shapes_ga[precinct_shapes_ga[\"DISTRICT\"]==\"053FTBEN3\"].index.values[0]\n",
    "\n",
    "prec2combine = [shape_fort,shape_fort_1,shape_fort_2,shape_fort_3]\n",
    "\n",
    "new_fort = gp.GeoDataFrame(pd.concat(prec2combine, ignore_index=True), crs = shape_fort.crs)\n",
    "shape_fort[\"geometry\"]=new_fort.unary_union\n",
    "\n",
    "precinct_shapes_ga = precinct_shapes_ga.drop([index_fort_1,index_fort_2,index_fort_3])"
   ]
  },
  {
   "cell_type": "markdown",
   "metadata": {},
   "source": [
    "**Increasing Matches: Changes to MEDSL names**"
   ]
  },
  {
   "cell_type": "code",
   "execution_count": null,
   "metadata": {},
   "outputs": [],
   "source": [
    "changes_dict = {'321SYLVER EAST' : '321SYLVESTER EAST',\n",
    "'317SENIOR CITIZEN CENTER' : '317SENIOR CITIZEN CENTE',\n",
    "'317METASVILLE FIRE STATION' : '317METASVILLE FIRE STA',\n",
    "'315ROCHELLE SOUTH 4' : '315ROCHELLE SOUTH #4',\n",
    "'315ROCHELLE NORTH 1' : '315ROCHELLE NORTH #1',\n",
    "'315PITTS 3' : '315PITTS #3',\n",
    "'315PINEVIEW 2' : '315PINEVIEW #2',\n",
    "'315ABBEVILLE SOUTH 5' : '315ABBEVILLE SOUTH #5',\n",
    "'315ABBEVILLE NORTH 2' : '315ABBEVILLE NORTH #2',\n",
    "'311MT. YONAH' : '311MT YONAH',\n",
    "'305MT. PLEASANT' : '305MT PLEASANT',\n",
    "'295LAFAYETTE' : '295LA FAYETTE',\n",
    "'279514 S.T.I.A.L.C' : '279514 S.T.I.A.L.C.',\n",
    "'27939 NEW BRANCH' : '27939 NEWBRANCH',\n",
    "'277MOTT-LITTMAN GYM' : '277MOTT-LITMAN GYM',\n",
    "'275MERRILLVILLE' : '275MERRILVILLE',\n",
    "'275FIRE STATION 2' : '275FIRE STATION #2',\n",
    "'269#6 REYNOLDS' : '269PRECINCT 6',\n",
    "'269#5 COURTHOUSE' : '269PRECINCT 5',\n",
    "'269#1 BUTLER FIRE DEPT.' : '269PRECINCT 1',\n",
    "'261ANDERSONV' : '261ANDERSONVILLE',\n",
    "'251SCREVEN REC DEPT' : '251SCREVEN REC. DEPT.',\n",
    "'247STANTON' : '247ST',\n",
    "'247ST. PIUS' : '247SP',\n",
    "'247SMYRNA' : '247SM',\n",
    "'247SHEFFIELD' : '247SH',\n",
    "'247SALEM' : '247SA',\n",
    "'247ROCKDALE' : '247RO',\n",
    "'247OLDE TOWNE' : '247OT',\n",
    "'247MILSTEAD' : '247MI',\n",
    "'247MAGNET' : '247MA',\n",
    "'247LORRAINE' : '247LO',\n",
    "'247THE LAKES' : '247LA',\n",
    "'247HIGHTOWER' : '247HI',\n",
    "'247HONEY CREEK' : '247HC',\n",
    "'247FLAT SHOALS' : '247FS',\n",
    "'247FIELDSTONE' : '247FI',\n",
    "'247CONYERS' : '247CO',\n",
    "'247BETHEL' : '247BT',\n",
    "'247BARKSDALE' : '247BA',\n",
    "'243FOUNTAIN BRIDGE-4TH' : '243FOUNTAIN BRIDGE',\n",
    "'241RABUN' : '241RABUN COUNTY',\n",
    "'215ST PETER U. M. C.' : '215ST. PETER',\n",
    "'215NATIONAL INFANTRY' : '215NATIONAL INFANTRY MUSEUM',\n",
    "'215ST. MARK/HEIFERHORN' : '215ST MARK/HEIFERHORN',\n",
    "'215ST. ANDREWS/MIDLAND' : '215ST ANDREWS/MIDLAND',\n",
    "'215MT. PILGRIM' : '215MT PILGRIM',\n",
    "'215GALLOPS/HANNAN' : '215MARIANNA GALLOPS',\n",
    "'215CORNERSTONE CHURCH' : '215CORNERSTONE',\n",
    "'215BRITT DAVID BAPT CH' : '215BRITT DAVID',\n",
    "'211WEST MORGAN' : '2116. WEST MORGAN',\n",
    "'211NORTHEAST MORGAN' : '2111. NORTHEAST MORGAN',\n",
    "'211NORTH MORGAN' : '2117. NORTH MORGAN',\n",
    "'211EAST MORGAN' : '2112. EAST MORGAN',\n",
    "'211CLACKS CHAPEL' : '2115. CLACKS CHAPEL',\n",
    "'211CENTRAL MORGAN' : '2114. CENTRAL MORGAN',\n",
    "'211BETH/SPRINGFIELD' : '2113. BETH/SPRINGFIELD',\n",
    "'205HISONTON' : '205HINSONTON',\n",
    "'199WOODBURY' : '199LOWER 9TH-WOODBURY',\n",
    "'199WARM SPRINGS' : '1992ND-WARM SPRINGS',\n",
    "'199ODESSADALE' : '1997TH-ODESSADALE',\n",
    "'199MANCHESTER GILL II' : '199GILL II',\n",
    "'199MANCHESTER GILL I' : '199GILL I',\n",
    "'199GREENVILLE' : '1998TH-GREENVILLE',\n",
    "'199GAY' : '199MIDDLE 9TH-GAY',\n",
    "'199DURAND' : '199THIRD-DURAND',\n",
    "'199ALVATON' : '199UPPER 9TH -ALVATON',\n",
    "'197FT. PERRY' : '197FORT PERRY',\n",
    "'193MONTEZUMA 5' : '193MONTEZUMA #5',\n",
    "'193MONTEZUMA 4' : '193MONTEZUMA #4',\n",
    "'179LIBERTY COUNTY' : '179LIBERTY COUNTY COMPLEX',\n",
    "'179HINESVILLE LODGE' : '179HINESVILLE LODGE 271',\n",
    "'177SOVEREIGN GRACE' : '177#8 SOVEREIGN GRACE',\n",
    "'177SMITHVILLE' : '177#2 SMITHVILLE',\n",
    "'177SDA CHURCH' : '177#7 SDA CHURCH',\n",
    "'177REDBONE' : '177#10 REDBONE',\n",
    "'177LEESBURG' : '177#4 LEESBURG',\n",
    "'177FRIENDSHIP BAPT' : '177#5 FRIENDSHIP BAPT.',\n",
    "'177FIRST BAPTIST' : '177#6 FIRST BAPTIST',\n",
    "'177CJC' : '177#3 CJC',\n",
    "'177CHOKEE' : '177#1 CHOKEE',\n",
    "'177CENTURY FIRE STATION' : '177#9 CENTURY FIRE STAT',\n",
    "'175LCFS 10 (VALAMBROSIA)' : '175LCFS #10 (VALAMBROSIA)',\n",
    "'175FAMILY LIFE CENTER' : '175FBC - FLC',\n",
    "'171SENIOR CITZEN BLDG' : '171SENIOR CITIZEN BLDG',\n",
    "'161HAZELHURST' : '161HAZLEHURST',\n",
    "'157SOUTH MINISH' : '157S MINISH',\n",
    "'157SOUTH JEFFERSON' : '157S JEFFERSON',\n",
    "'157NORTH MINISH' : '157N MINISH',\n",
    "'157NORTH JEFFERSON' : '157N JEFFERSON',\n",
    "'151MT. CARMEL' : '151MOUNT CARMEL',\n",
    "'141MAYFIELD COMM CENTER' : '141MAYFIELD COMMUNITY CENTER',\n",
    "'13931-FRIENDSHIP IV' : '139FRIENDSHIP IV',\n",
    "'13930-FRIENDSHIP III' : '139FRIENDSHIP III',\n",
    "'13929-FRIENDSHIP II' : '139FRIENDSHIP II',\n",
    "'13928-FRIENDSHIP I' : '139FRIENDSHIP I',\n",
    "'13927-BIG HICKORY' : '139BIG HICKORY',\n",
    "'13926-GILLSVILLE' : '139GILLSVILLE',\n",
    "'13925-GAINESVILLE V' : '139GAINESVILLE V',\n",
    "'13924-GAINESVILLE IV' : '139GAINESVILLE IV',\n",
    "'13923-GAINESVILLE III' : '139GAINESVILLE III',\n",
    "'13922-GAINESVILLE II' : '139GAINESVILLE II',\n",
    "'13921-GAINESVILLE I' : '139GAINESVILLE I',\n",
    "'13920-WEST WHELCHEL' : '139WEST WHELCHEL',\n",
    "'13919-WHELCHEL' : '139WHELCHEL',\n",
    "'13918-FORK' : '139FORK',\n",
    "'13917-CHESTATEE' : '139CHESTATEE',\n",
    "'13916-BARK CAMP' : '139BARK CAMP',\n",
    "'13915-QUILLIANS' : '139QUILLIANS',\n",
    "'13914-CLERMONT' : '139CLERMONT',\n",
    "'13913-LULA' : '139LULA',\n",
    "'13912-GLADE' : '139GLADE',\n",
    "'13911-TADMORE' : '139TADMORE',\n",
    "'13910-CANDLER' : '139CANDLER',\n",
    "'13909-MORGAN II' : '139MORGAN II',\n",
    "'13908-MORGAN I' : '139MORGAN I',\n",
    "'13907-ROBERTS' : '139ROBERTS',\n",
    "'13906-FLOWERY BRANCH II' : '139FLOWERY BRANCH II',\n",
    "'13905-FLOWERY BRANCH I' : '139FLOWERY BRANCH I',\n",
    "'13904-OAKWOOD II' : '139OAKWOOD II',\n",
    "'13903-OAKWOOD I' : '139OAKWOOD I',\n",
    "'13902-CHICOPEE' : '139CHICOPEE',\n",
    "'13901-WILSON' : '139WILSON',\n",
    "'131CAIRO 5TH DISTRICT' : '131CAIRO 5TH DISTR',\n",
    "'131CAIRO 4TH DISTRICT' : '131CAIRO 4TH DISTR',\n",
    "'127STERLING ELEM SCHOOL' : '127STERLING ELEMENTARY',\n",
    "'127STERLING CHURCH OF GOD' : '127STERLING CH. OF GOD',\n",
    "'127BURROUGHS' : '127BURROUGHS MOLETTE',\n",
    "'127BALLARD COMPLEX' : '127BALLARD COMMUNITY BUILDING',\n",
    "'099LUCILLE' : '099LUCILE',\n",
    "'097FIRST BAPTIST CHURCH' : '097FIRST BAPTIST DOUGLASVILLE',\n",
    "'097FIRST BAPTIST - LITHIA SPRINGS' : '097FIRST BAPTIST LITHIA SPRINGS',\n",
    "'097DAY STAR' : '097DAY STAR GYM',\n",
    "'097COUNTY LINE BAPTIST CHURCH' : '097COUNTY LINE BAPTIST',\n",
    "'097CHURCH-CH' : '097CHURCH AT CHAPEL HILL',\n",
    "'097BEULAH' : '097BEULAH BAPTIST CHURCH',\n",
    "'095SHILOH BAPTIST CHURCH' : '095SHILOH BAPTIST CHURC',\n",
    "'095SECOND MT. ZION' : '0952ND MT ZION CHURCH',\n",
    "'095PUTNEY 1ST BAPT CHURCH' : '095PUTNEY 1ST BAPT CHUR',\n",
    "'095PINE BLUFF BAPT CHURCH' : '095PINE BLUFF BAPT CHUR',\n",
    "'095PHOEBE EDU. BLDG' : '095PHOEBE EDUCATION BLD',\n",
    "'095PALMYRA RD METH CHURCH' : '095PALMYRA METH CHURCH',\n",
    "'095MT. ZION CENTER' : '095MT ZION CENTER',\n",
    "'095LAMAR REESE ELEM SCHOOL' : '095LAMAR REESE ELEM SCH',\n",
    "'095FIRST CHRISTIAN CHURCH' : '0951ST CHRISTIAN CHURCH',\n",
    "'095COVENANT PRES CHURCH' : '095COVENANT CHURCH',\n",
    "'091YONKER' : '091YONKE',\n",
    "'091VILULA' : '091VILUL',\n",
    "'091RAWLINS' : '091RAWLI',\n",
    "'091PONDTOWN' : '091PONDT',\n",
    "'091PLAINFIELD' : '091PLAIN',\n",
    "'091MULLIS' : '091MULLI',\n",
    "'091MITCHELL' : '091MITCH',\n",
    "'091MCCRANIE' : '091MCCRA',\n",
    "'091JAYBIRD' : '091JAYBI',\n",
    "'091EMPIRE' : '091EMPIR',\n",
    "'091CHAUNCEY' : '091CHAUN',\n",
    "'089WOODWARD ELEM' : '089WOODWARD (BHAVN)',\n",
    "'089WINTERS CHAPEL' : '089WINTERS CHAPEL (DUN)',\n",
    "'089WINNONA PARK ELEM' : '089WINNONA PARK ELEM (DEC)',\n",
    "'089WHITEFOORD ELEM' : '089WHITEFOORD ELEM (ATL)',\n",
    "'089TILLY MILL ROAD' : '089TILLY MILL ROAD (DUN)',\n",
    "'089TERRY MILL ELEM' : '089TERRY MILL',\n",
    "'089STONE MOUNTAIN MIDDLE' : '089STN MTN MIDDLE',\n",
    "'089STONE MOUNTAIN LIBRARY' : '089STONE MTN LIBRARY  (STO)',\n",
    "'089STONE MOUNTAIN CHAMPION' : '089STONE MTN CHAMPION (STO)',\n",
    "'089SNAPFINGER ROAD SOUTH' : '089SNAPFINGER ROAD S',\n",
    "'089SNAPFINGER ROAD NORTH' : '089SNAPFINGER ROAD N',\n",
    "'089SMOKE RISE ELEM' : '089SMOKE RISE',\n",
    "'089SKYLAND' : '089SKYLAND (BHAVN)',\n",
    "'089SILVER LAKE' : '089SILVER LAKE (BHAVN)',\n",
    "'089ROCKBRIDGE ELEM' : '089ROCKBRIDGE',\n",
    "'089RENFROE MIDDLE' : '089RENFROE MIDDLE (DEC)',\n",
    "'089PONCE DE LEON' : '089PONCE DE LEON (DEC)',\n",
    "'089PLEASANTDALE ELEM' : '089PLEASANTDALE ROAD',\n",
    "'089PINE LAKE' : '089PINE LAKE (PIN)',\n",
    "'089PEACHTREE MIDDLE' : '089PEACHTREE MIDDLE (DUN)',\n",
    "'089PEACHCREST ELEM' : '089PEACHCREST',\n",
    "'089OAKHURST' : '089OAKHURST (DEC)',\n",
    "'089NORTH PEACHTREE' : '089NORTH PEACHTREE (DUN)',\n",
    "'089MT. VERNON WEST' : '089MOUNT VERNON WEST (DUN)',\n",
    "'089MT. VERNON EAST' : '089MOUNT VERNON EAST (DUN)',\n",
    "'089MONTGOMERY ELEM' : '089MONTGOMERY ELEM  (BHAVN)',\n",
    "'089MILLER-ELDRIDGE L. MILLER ELEM' : '089MILLER-ELDRIDGE L MILLER ELEM',\n",
    "'089MILLER GROVE MIDDLE' : '089MILLER GROVE',\n",
    "'089MIDWAY ELEM' : '089MIDWAY',\n",
    "'089METROPOLITAN' : '089METROPOLITAN (ATL)',\n",
    "'089MEDLOCK ELEM' : '089MEDLOCK',\n",
    "'089MEADOWVIEW ELEM' : '089MEADOWVIEW',\n",
    "'089MCNAIR MIDDLE' : '089MCNAIR',\n",
    "'089LITHONIA' : '089LITHONIA (LIT)',\n",
    "'089LIN-MARY LIN ELEM' : '089LIN-MARY LIN ELEM (ATL)',\n",
    "'089KNOLLWOOD ELEM' : '089KNOLLWOOD',\n",
    "'089KITTREDGE ELEM' : '089KITTREDGE ELEM (BHAVN)',\n",
    "'089KINGSLEY ELEM' : '089KINGSLEY ELEM (DUN)',\n",
    "'089JOHNSON ESTATES' : '089JOHNSON ESTATES (ATL)',\n",
    "'089IDLEWOOD ELEM' : '089IDLEWOOD ELEM (TUC)',\n",
    "'089HUNTLEY HILLS ELEM' : '089HUNTLEY HILLS ELEM (CHA)',\n",
    "'089HARRIS-NARVIE J. HARRIS ELEM' : '089NARVIE J HARRIS ELEM',\n",
    "'089GEORGETOWN SQUARE' : '089GEORGETOWN SQ (DUN)',\n",
    "'089EPWORTH' : '089EPWORTH (ATL)',\n",
    "'089EAST LAKE ELEM' : '089EAST LAKE (ATL)',\n",
    "'089DUNWOODY LIBRARY' : '089DUNWOODY LIBRARY (DUN)',\n",
    "'089DUNWOODY HIGH' : '089DUNWOODY HIGH (DUN)',\n",
    "'089DUNWOODY' : '089DUNWOODY (DUN)',\n",
    "'089DRESDEN ELEM' : '089DRESDEN ELEM (CHA)',\n",
    "'089DORAVILLE SOUTH' : '089DORAVILLE SOUTH (DOR)',\n",
    "'089DORAVILLE NORTH' : '089DORAVILLE NORTH (DOR)',\n",
    "'089CROSS KEYS HIGH' : '089CROSS KEYS HIGH (BHAVN)',\n",
    "'089COVINGTON HWY LIBRARY' : '089COVINGTON HWY',\n",
    "'089CLIFTON ELEM' : '089CLIFTON',\n",
    "'089CLARKSTON' : '089CLARKSTON (CLA)',\n",
    "'089CLAIREMONT WEST' : '089CLAIREMONT WEST (DEC)',\n",
    "'089CLAIREMONT EAST' : '089CLAIREMONT EAST (DEC)',\n",
    "'089CHESNUT ELEM' : '089CHESNUT ELEM (DUN)',\n",
    "'089CHAMBLEE 2' : '089CHAMBLEE 2 (CHA)',\n",
    "'089CHAMBLEE' : '089CHAMBLEE (CHA)',\n",
    "'089BURGESS ELEM' : '089BURGESS ELEM (ATL)',\n",
    "'089BROOKHAVEN' : '089BROOKHAVEN (BHAVN)',\n",
    "'089BROCKETT ELEM' : '089BROCKETT ELEM (TUC)',\n",
    "'089BROCKETT' : '089BROCKETT (TUC)',\n",
    "'089BRIARWOOD' : '089BRIARWOOD (BHAVN)',\n",
    "'089BOULEVARD' : '089BOULEVARD (ATL)',\n",
    "'089BOULDERCREST RD' : '089BOULDERCREST ROAD',\n",
    "'089AVONDALE' : '089AVONDALE (AVO)',\n",
    "'089AUSTIN' : '089AUSTIN (DUN)',\n",
    "'089ASHFORD PARKSIDE' : '089ASHFORD PARKSIDE (BHAVN)',\n",
    "'089ASHFORD PARK ELEM' : '089ASHFORD PARK ELEM (BHAVN)',\n",
    "'089ASHFORD DUNWOODY RD' : '089ASHFORD DUNWOODY RD (BHAVN)',\n",
    "'087MT PLEASANT' : '087MT. PLEASANT',\n",
    "'087BRIDGE-FAIRGROUNDS' : '087BDGE-FAIRGROUNDS',\n",
    "'075NEW LIFE BAPT. CHURCH' : '075NEW LIFE BAPTIST CH.',\n",
    "'073WOODLAWN BAPTIST CHURCH' : '073WOODLAWN BAPT CHURCH',\n",
    "'073WARREN BAPTIST CHURCH - GROVETOWN' : '073WARREN BAPTIST CHURCH-GROVETOWN',\n",
    "'073SECOND MT CARMEL BAPT CHURCH' : '073SECOND MT. CARMEL BAPTIST CHURCH',\n",
    "'073MTZ COL FIRE HDQTR' : '073MTZ COL FIRE HDQTR.',\n",
    "'073MARVIN METHODIST CHURCH' : '073MARVIN METHODIST',\n",
    "'073LEWIS METHODIST CHURCH' : '073LEWIS METHODIST',\n",
    "'073GROVETOWN MIDDLE SCHOOL' : '073GROVETOWN MIDDLE SCH',\n",
    "'073GROVETOWN METHODIST CHURCH' : '073GROVETOWN METHODIST',\n",
    "'073EUBANK/BLANCHARD CENTER' : '073EUBANK/BLANCHARD CTR',\n",
    "'073DAMASCUS BAPTIST CHURCH' : '073DAMASCUS BAPT CHURCH',\n",
    "'073COL CTY BD OF EDU' : '073COL CTY BOARD OF EDU',\n",
    "'073CHRIST THE KING LUTH CH' : '073CHRIST THE KING CH',\n",
    "'073CHRIST CHURCH' : '073CHRIST CHURCH, PRESBYTERIAN',\n",
    "'073BLUE RIDGE ELEMENTARY' : '073BLUERIDGE ELEMENTARY',\n",
    "'067WILEO 01' : '067WILLEO 01',\n",
    "'067VAUGHN 01' : '067VAUGHAN 01',\n",
    "'067SHALLOWFORD FALL 01' : '067SHALLOWFORD FALLS 01',\n",
    "'067ROCKY MOUNTAIN 01' : '067ROCKY MOUNT 01',\n",
    "'067MOUNT BETHEL 04' : '067MT BETHEL 04',\n",
    "'067MOUNT BETHEL 03' : '067MT BETHEL 03',\n",
    "'067MOUNT BETHEL 01' : '067MT BETHEL 01',\n",
    "'067LASSSITER 01' : '067LASSITER 01',\n",
    "'067HARMONY LELAND 01' : '067HARMONY-LELAND 01',\n",
    "\"061DAY'S CROSS ROADS\" : '061DAYS CROSS ROAD',\n",
    "'061COURTHOUSE' : '061COURT HOUSE',\n",
    "'0518-15 GARDEN CITY RECREATION CENTER' : '051GARDEN CITY REC CTR',\n",
    "'0518-13 SAVANNAH CHRISTIAN SCHOOL' : '051SAVANNAH CHRISTIAN S',\n",
    "'0518-12 BEACH HIGH SCHOOL' : '051BEACH HIGH SCHOOL',\n",
    "'0518-11 BUTLER SCHOOL' : '051BUTLER ELEMENTARY SC',\n",
    "'0518-10 CARVER HEIGHTS COMMUNITY CENTER' : '051CARVER HEIGHTS COMM',\n",
    "'0518-09 MOSES JACKSON CENTER' : '051MOSES JACKSON CENTER',\n",
    "'0518-08 RESURRECTION OF OUR LORD CHURCH' : '051RESURRECTION OF OUR LORD CATHOLIC CHURCH',\n",
    "'0518-07 WOODVILLE TOMPKINS TECHNICAL INSTITUTE' : '051WOODVILLE-TOMPKINS TECHNICAL INST',\n",
    "'0518-05 W BROAD YMCA' : '051WEST BROAD STREET YMCA',\n",
    "'0518-03 SILK HOPE BAPTIST CHURCH' : '051SILK HOPE BAPTIST CHURCH',\n",
    "'0518-01 CIVIC CENTER' : '051CIVIC CENTER',\n",
    "'0517-14 COASTAL CATHEDRAL CHURCH OF GOD' : '051COASTAL CATHEDRAL',\n",
    "'0517-12 POOLER CHURCH' : '051POOLER CHRURCH',\n",
    "'0517-11 SAVANNAH FIRST SEVENTH DAY ADVENTIST CHURCH' : '051SEVENTH DAY ADV CHR',\n",
    "'0517-10 PROGRESSIVE RECREATION' : '051PROGRESSIVE REC CTR',\n",
    "'0517-08 BLOOMINGDALE COMMUNITY CENTER' : '051BLOOMINGDALE COMMUNITY CENTER',\n",
    "'0517-07 ROTHWELL BAPTIST CHURCH' : '051ROTHWELL BAPTIST CHURCH',\n",
    "'0517-06 POOLER CITY HALL' : '051POOLER CITY HALL',\n",
    "'0517-05 WOODLAWN BAPTIST CHURCH' : '051WOODLAWN BAPTIST CHURCH',\n",
    "'0517-04 LAKESHORE COMMUNITY CENTER' : '051LAKE SHORE COMMUNITY CENTER',\n",
    "'0517-03 PRESTON B. EDWARDS GYMNASIUM' : '051PB EDWARDS GYMNASIUM',\n",
    "'0517-01 GARDEN CITY SENIOR CENTER' : '051GARDEN CITY SENIOR CENTER',\n",
    "'0516-10 GEORGETOWN ELEMENTARY' : '051GEORGETOWN ELEMENTAR',\n",
    "'0516-09 TRINITY LUTHERAN CHURCH' : '051TRINITY LUTHERAN CHURCH',\n",
    "'0516-06 THE LIGHT' : '051THE LIGHT CHURCH',\n",
    "'0516-05 WINDSOR ELEM./ GOLDEN AGE' : '051WINDSOR FOREST ELEM/GOLDEN AGE CENTER',\n",
    "'0516-03 CRUSADER COMMUNITY CENTER' : '051CRUSADER COMMUNITY CENTER',\n",
    "'0516-02 WINDSOR FOREST BAPTIST SCHOOL' : '051WINDSOR FOREST BAPTIST CHURCH SCHOOL',\n",
    "'0516-01 WHITE BLUFF PRESBYTERIAN CHURCH' : '051WHITE BLUFF PRESBYTERIAN CHURCH',\n",
    "'0515-11 LARGO TIBET SCHOOL' : '051LARGO-TIBET ELEMENTA',\n",
    "'0515-10 JONESVILLE BAPTIST CHURCH' : '051JONESVILLE BAPT CH',\n",
    "'0515-08 SAVANNAH PRIMITIVE BAPTIST CHURCH' : '051SAVANNAH PRIMITIVE BAPTIST CHURCH',\n",
    "'0515-07 ELKS LODGE' : '051ELKS LODGE',\n",
    "'0515-06 SEED CHURCH' : '051SEED CHURCH',\n",
    "'0515-05 LIBERTY CITY COMMUNITY CENTER' : '051LIBERTY CITY COMMUNITY CENTER',\n",
    "'0515-03 BUTLER PRESBYTERIAN ED. BUILDING' : '051BUTLER PRESBYTERIAN CHURCH ED BLDG',\n",
    "'0515-02 SENIOR CITIZENS CENTER' : '051SENIOR CITIZEN CENTER',\n",
    "'0515-01 BARTLETT MIDDLE SCHOOL' : '051BARTLETT MIDDLE SCHOOL',\n",
    "'0514-15 SKIDAWAY ISLAND STATE PARK' : '051SKIDAWAY ISLAND STAT',\n",
    "'0514-14 SKIDAWAY ISLAND METHODIST CHURCH' : '051SKID METHODIST CH',\n",
    "'0514-13 SKIDAWAY ISLAND PRESBYTERIAN CHURCH' : '051SKID IS PRES CHURCH',\n",
    "'0514-12 ST. PETERS EPISCOPAL CHURCH' : '051ST PETERS EPISCOPAL',\n",
    "'0514-11 TYBEE SCHOOL CAFETERIA' : '051TYBEE IS SCH CAFE',\n",
    "'0514-10 GUARD HOUSE COMMUNITY CENTER' : '051GUARD HOUSE COMM CTR',\n",
    "'0514-08 WILMINGTON ISLAND PRESBYTERIAN CHURCH' : '051WILMINGTON ISLAND PRESBYTERIAN CHURCH',\n",
    "'0514-07 WILMINGTON ISLAND METHODIST CHURCH' : '051WILMINGTON ISLAND UNITED METHODIST CHURCH',\n",
    "'0514-06 FIRST BAPTIST CHURCH OF ISLAND' : '051FIRST BAPTIST CHURCH OF THE ISLAND',\n",
    "'0514-05 SAINT FRANCIS EPISCOPAL' : '051SAINT FRANCIS EPISCOPAL CHURCH',\n",
    "'0514-04 LIGHTHOUSE BAPTIST CHURCH' : '051LIGHTHOUSE BAPTIST CHURCH',\n",
    "'0514-02 FRANK MURRAY COMMUNITY CENTER' : '051FRANK MURRAY COMMUNITY CENTER',\n",
    "'0513-13 NEW COVENANT SEVENTH DAY ADVENTIST CHURCH' : '051NEW COV 7 DAY ADV CH',\n",
    "'0513-12 THUNDERBOLT MUNICIPAL COMPLEX' : '051THUNDERBOLT MUN COMP',\n",
    "'0513-11 SOUTHSIDE BAPTIST CHURCH' : '051SOUTHSIDE BAPTIST CH',\n",
    "'0513-10 BIBLE BAPTIST CHURCH' : '051BIBLE BAPTIST CHURCH',\n",
    "'0513-09 COKESBURY METHODIST CHURCH' : '051COKESBURY METHODIST CHURCH',\n",
    "'0513-08 JENKINS HIGH SCHOOL' : '051JENKINS HIGH SCHOOL',\n",
    "'0513-05 ALDERSGATE YOUTH CENTER' : '051ALDERSGATE YOUTH CENTER',\n",
    "'0513-04 1ST AFRICAN BAPTIST CHURCH' : '051FIRST AFRICAN BAPTIST CHURCH',\n",
    "'0513-03 SAVANNAH HIGH SCHOOL' : '051SAVANNAH HIGH SCHOOL',\n",
    "'0513-02 ROSE OF SHARON' : '051ROSE OF SHARON',\n",
    "'0513-01 OLD COURTHOUSE' : '051OLD COURTHOUSE',\n",
    "'0512-12 WILLIAMS COURT' : '051WILLIAMS COURT APTS',\n",
    "'0512-09 SALVATION ARMY' : '051SALVATION ARMY',\n",
    "'0512-07 CHRIST COMMUNITY CHURCH AT MORNINGSIDE' : '051CHRIST COMMUNITY CHURCH AT MORNINGSIDE',\n",
    "'0512-05 HOLY SPIRIT LUTHERAN CHURCH' : '051HOLY SPIRIT LUTHERAN CHURCH',\n",
    "'0512-04 FELLOWSHIP OF LOVE COMMUNITY CHURCH' : '051FELLOWSHIP OF LOVE COMMUNITY CHURCH',\n",
    "'0512-03 W. W. LAW CENTER' : '051W W LAW CENTER',\n",
    "'0512-02 BLACKSHEAR COMMUNITY CENTER' : '051BLACKSHEAR COMMUNITY CENTER',\n",
    "'0511-17 ISLANDS CHRISTIAN CHURCH' : '051ISLANDS CHRISTIAN CH',\n",
    "'0511-16 FERGUSON AVE BAPTIST CHURCH' : '051FERGUSON AVE BAPTIST',\n",
    "'0511-14 ST. LUKE UNITED METHODIST CHURCH' : '051ST LUKE CHURCH',\n",
    "'0511-13 THE SANCTUARY' : '051THE SANCTUARY',\n",
    "'0511-12 ISLE OF HOPE BAPTIST CENTER' : '051ISLE OF HOPE BAPTIST',\n",
    "'0511-09 IMMANUEL BAPTIST CHURCH' : '051IMMANUEL BAPTIST CHURCH',\n",
    "'0511-08 GRACE UNITED METHODIST CHURCH' : '051GRACE UNITED METHODIST CHURCH',\n",
    "'0511-06 CENTRAL CHURCH OF CHRIST' : '051CENTRAL CHURCH OF CHRIST',\n",
    "'0511-05 J E A BUILDING' : '051JEA BUILDING',\n",
    "'0511-01 FIRST PRESBYTERIAN CHURCH' : '051FIRST PRESBYTERIAN CHURCH',\n",
    "'047FORT OGLETHORPE' : '047FT OGLETHORPE',\n",
    "'045WHITESBURG (682)' : '045WHITESBURG',\n",
    "'045WEST CARROLLTON (714A1)' : '045WEST CARROLLTON',\n",
    "'045VILLA RICA CITY (642)' : '045VILLA RICA CITY',\n",
    "'045V R COUNTY SOUTH (640)' : '045V R COUNTY SOUTH',\n",
    "'045V R COUNTY NORTH (641)' : '045V R COUNTY NORTH',\n",
    "'045UNIVERSITY OF W. GA (714A4)' : '045UNIVERSITY OF W. GA',\n",
    "'045TYUS (1533)' : '045TYUS',\n",
    "'045TEMPLE COUNTY (649)' : '045TEMPLE COUNTY',\n",
    "'045TEMPLE CITY (650)' : '045TEMPLE CITY',\n",
    "'045TABERNACLE CHURCH (714A6)' : '045TABERNACLE CHURCH',\n",
    "'045SANDHILL (1122)' : '045SANDHILL',\n",
    "'045ROOPVILLE (713)' : '045ROOPVILLE',\n",
    "'045OLD CAMP CHURCH (714BW)' : '045OLD CAMP CHURCH',\n",
    "'045OAK GROVE (715)' : '045OAK GROVE',\n",
    "'045NEW HOPE (716)' : '045NEW HOPE',\n",
    "'045MT ZION (1240)' : '045MT ZION',\n",
    "'045LOWELL (1163)' : '045LOWELL',\n",
    "'045KANSAS (1006)' : '045KANSAS',\n",
    "'045HULETT (1542)' : '045HULETT',\n",
    "'045FAIRFIELD (1540)' : '045FAIRFIELD',\n",
    "'045EMC (714BN)' : '045EMC',\n",
    "'045EAST CARROLLTON REC (714A2)' : '045EAST CARROLLTON REC',\n",
    "'045COUNTY ADMIN BLDG (714A5)' : '045COUNTY ADMIN BLDG',\n",
    "'045CLEM (1483)' : '045CLEM',\n",
    "'045CENTER POINT (1152)' : '045CENTER POINT',\n",
    "'045BURWELL (1371)' : '045BURWELL',\n",
    "'045BOWDON JUNCTION (1496)' : '045BOWDON JUNCTION',\n",
    "'045BOWDON (1111)' : '045BOWDON',\n",
    "'045BONNER (714A3)' : '045BONNER',\n",
    "'045BETHANY (501)' : '045BETHANY',\n",
    "'043METTER -1685' : '043METTER - 1685',\n",
    "'043CANDLER-1736' : '043CANDLER - 1736',\n",
    "'029RH RECREATION' : '029RH RECREATION COMPX',\n",
    "'029PUBLIC SAFETY' : '029PUBLIC SAFETY COMPX',\n",
    "'029J.F. GREGORY PARK' : '029J.F.GREGORY PARK',\n",
    "'015WOODLAND HIGH' : '015WOODLAND',\n",
    "'01316 THE CHURCH AT WINDER' : '013THE CHURCH AT WINDER',\n",
    "'01315 COUNTY LINE ELEMENTARY SCHOOL' : '013COUNTY LINE ELEMENTARY SCHOOL',\n",
    "'01314 CEDAR CREEK BAPTIST CHURCH' : '013CEDAR CREEK BAPTIST CHURCH',\n",
    "'01313 WINDER COMMUNITY CENTER' : '013WINDER COMMUNITY CENTER',\n",
    "'01312 MIDWAY UNITED METHODIST CHURCH' : '013MIDWAY UNITED METHODIST CHURCH',\n",
    "'01311 APALACHEE HIGH SCHOOL' : '013APALACHEE HIGH SCHOOL',\n",
    "'01310 LEISURE SERVICES CENTER' : '013LEISURE SERVICES CENTER',\n",
    "'01309 LIONS CLUB' : '013LIONS CLUB',\n",
    "'01308 FIRST BAPTIST CHURCH WINDER' : '013FIRST BAPTIST CHURCH  WINDER',\n",
    "'01307 STATHAM ELEMENTARY SCHOOL' : '013STATHAM ELEMENTARY SCHOOL',\n",
    "'01306 WINDER BARROW HIGH SCHOOL' : '013WINDER-BARROW HIGH SCHOOL',\n",
    "'01305 FIRE STATION 1 (STATHAM)' : '013FIRE STATION 1 (STATHAM)',\n",
    "'01304 WESTSIDE MIDDLE SCHOOL' : '013WESTSIDE MIDDLE SCHOOL',\n",
    "'01303 BRAMLETT ELEMENTARY SCHOOL' : '013BRAMLETT ELEMENTARY SCHOOL',\n",
    "'01302 BETHABRA BAPTIST CHURCH' : '013BETHABRA BAPTIST CHURCH',\n",
    "'01301 BETHLEHEM COMMUNITY CENTER' : '013BETHLEHEM COMMUNITY CENTER',\n",
    "'007HOGGARD MILL' : '007HOGGARDS MILL',\n",
    "\"053CHATTAHOOCHEE ACVITITY CENTER\":\"053ACTIVITY CENTER (Includes FTBEN 1-3)\",\n",
    "\"089WADSWORTH ELEM - 04\":\"089WADSWORTH - 04\",\n",
    "\"089WADSWORTH ELEM - 05\":\"089WADSWORTH - 05\"}"
   ]
  },
  {
   "cell_type": "code",
   "execution_count": null,
   "metadata": {},
   "outputs": [],
   "source": [
    "medsl_final['county_prec'] = medsl_final['county_prec'].map(changes_dict).fillna(medsl_final[\"county_prec\"])"
   ]
  },
  {
   "cell_type": "code",
   "execution_count": null,
   "metadata": {},
   "outputs": [],
   "source": [
    "#Noticed these by matching the vote totals\n",
    "medsl_255 = [\"255UGA CAMPUS\",\"255THIRD WARD\",\"255SUNNYSIDE METHODI\",\"255SENIOR CENTER\",\"255SECOND BAPTISH CH\",\"255ROBERTS\",\"255LIBERTY\",\"255GARY REID\",\"255FIRST PRESBYTERIA\",\"255FIRST METHODIST\",\"255FIRST ASSEMBLY\",\"255FAIRMONT\",\"255EAGES LANDING BAPTIST\",\"255COUNTY LINE\",\"255COMMUNITY\",\"255CITY PARK\",\"255CARVER\",\"255CABIN\",\"255BOY SCOUTS HDQTRS\",\"255BLALOCK\",\"255AMBUCS\"]\n",
    "vest_255 = [\"25521\",\"25520\",\"25519\",\"25518\",\"25517\",\"25516\",\"25515\",\"25514\",\"25513\",\"25512\",\"25511\",\"25510\",\"25509\",\"25508\",\"25507\",\"25506\",\"25505\",\"25504\",\"25503\",\"25502\",\"25501\"]\n",
    "\n",
    "changes_255 = {\"255BLALOCK\": \"25515\",\n",
    "\"255CABIN\": \"25509\",\n",
    "\"255COUNTY LINE\": \"25513\",\n",
    "\"255LIBERTY\": \"25512\",\n",
    "\"255THIRD WARD\": \"25504\",\n",
    "\"255SENIOR CENTER\": \"25503\",\n",
    "\"255ROBERTS\": \"25520\",\n",
    "\"255FIRST METHODIST\": \"25507\",\n",
    "\"255SUNNYSIDE METHODI\": \"25514\",\n",
    "\"255BOY SCOUTS HDQTRS\": \"25508\",\n",
    "\"255AMBUCS\": \"25517\",\n",
    "\"255CARVER\": \"25510\",\n",
    "\"255FIRST ASSEMBLY\": \"25519\",\n",
    "\"255FIRST PRESBYTERIA\": \"25511\",\n",
    "\"255SECOND BAPTISH CH\": \"25501\",\n",
    "\"255COMMUNITY\": \"25518\",\n",
    "\"255GARY REID\": \"25516\",\n",
    "\"255CITY PARK\": \"25506\",\n",
    "\"255FAIRMONT\": \"25502\",\n",
    "\"255EAGES LANDING BAPTIST\": \"25521\",\n",
    "\"255UGA CAMPUS\": \"25505\",\n",
    "#Found these by looking at the \"Precinct I\" column\n",
    "\"0598C FIRESTATION #7\":\"0598C\",\n",
    "\"0598B CEDAR SHLS HIGH SCH\":\"0598B\",\n",
    "\"0598A GAINES SCHOOL\":\"0598A\",\n",
    "\"0597C FIRESTATION #3\":\"0597C\",\n",
    "\"0597B ALPS ELEM. SCHOOL\":\"0597B\",\n",
    "\"0597A TIMOTHY ROAD SCHOOL\":\"059TIMOTHY ELEMENTARY SCHOOL\", #Looked at Precinct_I\n",
    "\"0596D FIRESTATION #4\":\"0596D\",\n",
    "\"0596C TIMOTHY ROAD SCHOOL\":\"0596C\",\n",
    "\"0596B GA SQUARE MALL\":\"059GEORGIA SQUARE MALL\", #Looked at Precinct_I\n",
    "\"0596A CLEVELAND RD SCHOOL\":\"0596A\",\n",
    "\"0595D ACC FLEET MGT BLDG\":\"0595D\",\n",
    "\"0595C CHASE STREET SCHOOL\":\"0595C\",\n",
    "\"0595B WHITEHEAD RD SCHOOL\":\"0595B\",\n",
    "\"0595A OGLETHORPE SCHOOL\":\"0595A\",\n",
    "\"0594B MEMORIAL PARK\":\"0594B\",\n",
    "\"0594A ATHENS TRANSIT CTR\":\"0594A\",\n",
    "\"0593B THOMAS N. LAY PARK\":\"0593B\",\n",
    "\"0593A CLARKE CENTRAL HIGH\":\"0593A\",\n",
    "\"0592B HOWARD STROUD SCHOOL\":\"0592B\",\n",
    "\"0592A JUDIA J. HARRIS SCH\":\"0592A\",\n",
    "\"0591D WHIT DAVIS SCHOOL\":\"0591D\",\n",
    "\"0591C WHIT DAVIS SCHOOL\":\"059WHIT DAVIS SCHOOL\", #Looked at Precinct_I\n",
    "\"0591B GAINES SCHOOL\":\"059GAINES SCHOOL\", #Looked at Precinct_I\n",
    "\"0591A W'VILLE TRAIN DEPOT\":\"0591A\",\n",
    "\"0518-06 MARY FLOURNOY GOLDEN AGE CENTER\":\"051TOMPKINS RECREATION CENTER\",\n",
    "\"0518-02 HELLENIC CENTER\":\"051BULL STREE BAPTIST CHURCH\",\n",
    "\"0517-13 SOUTHSIDE FIRE TRAINING CENTER\":\"051GARDEN CITY CITY HAL\",\n",
    "\"0517-09 SAVANNAH HOLY CHURCH OF GOD\":\"051SOUTHWEST BAPTIST CHURCH\",\n",
    "\"0516-11 COASTAL GEORGIA BOTANICAL GARDENS\":\"051BAMBOO FARMS\",\n",
    "\"0516-08 SAVANNAH COMMONS\":\"051ST. FRANCIS CABRINI CHURCH\",\n",
    "\"0513-14 OGLETHORPE CHARTER ACADEMY\":\"051RIVERVIEW HEALTH REH\",\n",
    "\"0512-11 STILLWELL TOWERS\":\"051S GARDENS CHRISTIAN\",\n",
    "\"0511-10 ST. THOMAS EPISCOPAL CHURCH\":\"051ISLE OF HOPE SCHOOL\",\n",
    "\"0791A\":\"079DISTRICT 1A\",\n",
    "\"0794\":\"079DISTRICT 4\",\n",
    "\"0795\":\"079DISTRICT 5\",\n",
    "\"023FAIRGROUND\":\"0231\",\n",
    "\"251COOPERVILLE FIRE STATION\":\"251FOY'S STORE\",\n",
    "\"215WYNNTON\":\"215WYNNTON/BRITT\",\n",
    "\"0513-15 ELI WHITNEY COMPLEX\":\"051ELI WHITNEY COMPLEX3-15\",\n",
    "\"0512-06 ELI WHITNEY COMPLEX\":\"051ELI WHITNEY COMPLEX2-6\"}\n",
    "\n",
    "medsl_final['county_prec'] = medsl_final['county_prec'].map(changes_255).fillna(medsl_final[\"county_prec\"])"
   ]
  },
  {
   "cell_type": "code",
   "execution_count": null,
   "metadata": {},
   "outputs": [],
   "source": [
    "def row_merger(dataframe,row_1_id,row_2_id,new_name,id_column,column_list,data_columns):\n",
    "    #Get the index values for the two rows to be merged\n",
    "    index_one = dataframe[dataframe[id_column]==row_1_id].index.values[0]\n",
    "    index_two = dataframe[dataframe[id_column]==row_2_id].index.values[0]\n",
    "    \n",
    "    #Create the new row, specific to this use case\n",
    "    new_row = pd.DataFrame([[new_name,0,0,0,0,0,0,0,0]],columns=column_list)\n",
    "    \n",
    "    #Populate the new row with the values from the other two rows\n",
    "    for i in data_columns:\n",
    "        new_row.loc[0,i]=int(medsl_final.loc[index_one,i])+int(medsl_final.loc[index_two,i])\n",
    "    \n",
    "    #Delete the old rows from the dataframe\n",
    "    dataframe = dataframe.drop([index_one,index_two])\n",
    "    \n",
    "    #Append the new row \n",
    "    dataframe = dataframe.append(new_row)\n",
    "    return dataframe"
   ]
  },
  {
   "cell_type": "code",
   "execution_count": null,
   "metadata": {},
   "outputs": [],
   "source": [
    "#### Merge precinct election results\n",
    "column_list = ['county_prec','G16PRERTRU', 'G16PREDCLI','G16PRELJOH', 'G16USSRISA', 'G16USSDBAR', 'G16USSLBUC', 'G16PSCRECH','G16PSCLHOS']\n",
    "data_columns = ['G16PRERTRU', 'G16PREDCLI','G16PRELJOH', 'G16USSRISA', 'G16USSDBAR', 'G16USSLBUC', 'G16PSCRECH','G16PSCLHOS']\n",
    "\n",
    "medsl_final =row_merger(medsl_final,\"0791B - CITY\",\"0791B - COUNTY\",\"079DISTRICT 1B\",'county_prec',column_list,data_columns)\n",
    "medsl_final =row_merger(medsl_final,\"0792 - CITY\",\"0792 - COUNTY\",\"079DISTRICT 2\",'county_prec',column_list,data_columns)\n",
    "medsl_final =row_merger(medsl_final,\"0793 - CITY\",\"0793 - COUNTY\",\"079DISTRICT 3\",'county_prec',column_list,data_columns)\n",
    "medsl_final =row_merger(medsl_final,\"1031B-1\",\"1031B-12\",\"1031B\",'county_prec',column_list,data_columns)\n",
    "medsl_final =row_merger(medsl_final,\"1034B-1\",\"1034B-12\",\"1034B\",'county_prec',column_list,data_columns)\n",
    "medsl_final =row_merger(medsl_final,\"021HOWARD 2 - 02\",\"021HOWARD 2 - 08\",\"021HOWARD 2\",'county_prec',column_list,data_columns)\n",
    "medsl_final =row_merger(medsl_final,\"073HARLEM BAPTIST CHURCH-10\",\"073HARLEM BAPTIST CHURCH-12\",\"073HARLEM BAPTIST\",'county_prec',column_list,data_columns)\n",
    "medsl_final =row_merger(medsl_final,\"073HARLEM MIDDLE SCHOOL-10\",\"073HARLEM MIDDLE SCHOOL-12\",\"073HARLEM MIDDLE SCHOOL\",'county_prec',column_list,data_columns)\n",
    "medsl_final =row_merger(medsl_final,\"073KIOKEE BAPTIST CHURCH-10\",\"073KIOKEE BAPTIST CHURCH-12\",\"073KIOKEE BAPT CHURCH\",'county_prec',column_list,data_columns)\n",
    "medsl_final =row_merger(medsl_final,\"113DOGWOOD-03\",\"113DOGWOOD-13\",\"113DOGWOOD\",'county_prec',column_list,data_columns)\n",
    "medsl_final =row_merger(medsl_final,\"113SANDY CREEK-03\",\"113SANDY CREEK-13\",\"113SANDY CREEK\",'county_prec',column_list,data_columns)\n",
    "medsl_final =row_merger(medsl_final,\"11703 BROWNS BRIDGE-7\",\"11703 BROWNS BRIDGE-9\",\"11703 BROWNS BRIDGE\",'county_prec',column_list,data_columns)\n",
    "medsl_final =row_merger(medsl_final,\"11710 MIDWAY-7\",\"11710 MIDWAY-9\",\"11710 MIDWAY\",'county_prec',column_list,data_columns)\n",
    "medsl_final =row_merger(medsl_final,\"11715 HEARDSVILLE-7\",\"11715 HEARDSVILLE-9\",\"11715 HEARDSVILLE\",'county_prec',column_list,data_columns)\n",
    "medsl_final =row_merger(medsl_final,\"11716 OTWELL-7\",\"11716 OTWELL-9\",\"11716 OTWELL\",'county_prec',column_list,data_columns)\n",
    "medsl_final =row_merger(medsl_final,\"121EP04-05\",\"121EP04-13\",\"121EP04\",'county_prec',column_list,data_columns)\n",
    "medsl_final =row_merger(medsl_final,\"151UNITY GROVE - 03\",\"151UNITY GROVE - 10\",\"151UNITY GROVE\",'county_prec',column_list,data_columns)\n",
    "medsl_final =row_merger(medsl_final,\"185NAYLOR-001\",\"185NAYLOR-008\",\"185NAYLOR\",'county_prec',column_list,data_columns)\n",
    "medsl_final =row_merger(medsl_final,\"185TRINITY-001\",\"185TRINITY-008\",\"185TRINITY\",'county_prec',column_list,data_columns)\n",
    "medsl_final =row_merger(medsl_final,\"215EPWORTH-02\",\"215EPWORTH-03\",\"215EPWORTH UMC\",'county_prec',column_list,data_columns)\n",
    "medsl_final =row_merger(medsl_final,\"215ST PAUL U.M.C.-02\",\"215ST PAUL U.M.C.-03\",\"215ST PAUL/CLUBVIEW\",'county_prec',column_list,data_columns)\n",
    "medsl_final =row_merger(medsl_final,\"217ALCOVY-10\",\"217ALCOVY-4\",\"217ALCOVY\",'county_prec',column_list,data_columns)\n",
    "medsl_final =row_merger(medsl_final,\"217ROCKY PLAINS-10\",\"217ROCKY PLAINS-4\",\"217ROCKY PLAINS\",'county_prec',column_list,data_columns)\n",
    "medsl_final =row_merger(medsl_final,\"227TATE - 09\",\"227TATE - 14\",\"227TATE\",'county_prec',column_list,data_columns)"
   ]
  },
  {
   "cell_type": "markdown",
   "metadata": {},
   "source": [
    "#### Changes to Shapefile Names"
   ]
  },
  {
   "cell_type": "code",
   "execution_count": null,
   "metadata": {},
   "outputs": [],
   "source": [
    "#Rename shapefile file to match with VEST\n",
    "change_for_vest = {\"135PINKCNEYVILLE A\":\"135PINCKNEYVILLE A\",\"053ACTIVITY CENTER\":\"053ACTIVITY CENTER (Includes FTBEN 1-3)\"}\n",
    "\n",
    "precinct_shapes_ga['county_prec'] = precinct_shapes_ga['county_prec'].map(change_for_vest).fillna(precinct_shapes_ga[\"county_prec\"])\n",
    "\n",
    "#Rename the two \"ELI WHITNEY COMPLEX\" precincts based on their district\n",
    "print(precinct_shapes_ga[precinct_shapes_ga[\"county_prec\"]==\"051ELI WHITNEY COMPLEX\"])\n",
    "precinct_shapes_ga.loc[1330,\"county_prec\"]=\"051ELI WHITNEY COMPLEX3-15\"\n",
    "precinct_shapes_ga.loc[1347,\"county_prec\"]=\"051ELI WHITNEY COMPLEX2-6\""
   ]
  },
  {
   "cell_type": "markdown",
   "metadata": {},
   "source": [
    "#### Check for any 0 vote precincts"
   ]
  },
  {
   "cell_type": "code",
   "execution_count": null,
   "metadata": {},
   "outputs": [],
   "source": [
    "vest_empty = vest_ga[(vest_ga[\"G16PRERTRU\"]==0) & (vest_ga['G16PREDCLI']==0) &\n",
    "              (vest_ga['G16PRELJOH']==0) & (vest_ga['G16USSRISA']==0) &\n",
    "              (vest_ga['G16USSDBAR']==0) & (vest_ga['G16USSLBUC']==0) &\n",
    "              (vest_ga['G16PSCRECH']==0) & (vest_ga['G16PSCLHOS']==0) ][\"DISTRICT\"]\n",
    "\n",
    "shapefile_empty = precinct_shapes_ga[precinct_shapes_ga[\"county_prec\"].isna()][\"DISTRICT\"]\n",
    "print(vest_empty.isin(shapefile_empty))                          \n",
    "print(vest_empty)\n",
    "\n",
    "#165      121CP06B\n",
    "#175      121CP053\n",
    "\n",
    "#These are both 0 population precincts\n",
    "\n",
    "print(shapefile_empty.isin(vest_empty))  \n",
    "print(shapefile_empty)\n",
    "\n",
    "#137      121UC035\n",
    "#169      121CH04B\n",
    "#1735     121CP07D\n",
    "#1784     121SS29B\n",
    "\n",
    "print(vest_ga[vest_ga[\"DISTRICT\"]==\"121CP06B\"])\n"
   ]
  },
  {
   "cell_type": "markdown",
   "metadata": {},
   "source": [
    "Fulton County uses shapefiles and maps sourced from the county GIS program. Precincts CH01/CH04B, CP07A/CP07D, SS29A/SS29B, UC031/UC035 were merged to match how voters were registered in the 2016 voter file."
   ]
  },
  {
   "cell_type": "code",
   "execution_count": null,
   "metadata": {},
   "outputs": [],
   "source": [
    "no_county_prec_list = [\"121UC033\",\"121UC01D\",\"121UC01C\",\"121SC29B\",\"121SC21A\",\"121SC17B\",\"121SC08A\",\"121SC07B\",\"121RW22B\",\"121RW11B\",\"121EP04\",\"121CP084\",\"121CP07B\",\"121CP052\",\"121AP12D\",\"121AP01E\",\"12108F2\",\"12103P1B\",\"12101I\",\"215ZZZZZZ\",\"215FTBEN4\",\"215FTBEN3\",\"215FTBEN2\",\"215FTBEN1\"]\n",
    "\n",
    "#Pull into a separate dataframe\n",
    "empty_precincts = precinct_shapes_ga[precinct_shapes_ga[\"DISTRICT\"].isin(no_county_prec_list)]\n",
    "print(empty_precincts.head())\n",
    "\n",
    "#Drop from the precinct_shapes_ga dataframe\n",
    "print(precinct_shapes_ga.shape)\n",
    "precinct_shapes_ga = precinct_shapes_ga[~precinct_shapes_ga[\"DISTRICT\"].isin(no_county_prec_list)]\n",
    "print(precinct_shapes_ga.shape)\n",
    "\n",
    "#Assign a county_prec\n",
    "empty_precincts[\"county_prec\"] = empty_precincts[\"DISTRICT\"]\n",
    "empty_precincts[\"_merge\"]=\"n/a\"\n",
    "\n",
    "#Add in vote columns with 0\n",
    "data_columns = ['G16PRERTRU', 'G16PREDCLI','G16PRELJOH', 'G16USSRISA', 'G16USSDBAR', 'G16USSLBUC', 'G16PSCRECH','G16PSCLHOS']\n",
    "for i in data_columns:\n",
    "    empty_precincts[i] = 0\n",
    "\n",
    "\n",
    "    \n",
    "    \n",
    "#Make new rows with these"
   ]
  },
  {
   "cell_type": "code",
   "execution_count": null,
   "metadata": {},
   "outputs": [],
   "source": [
    "election_shapefile = pd.merge(medsl_final,precinct_shapes_ga,on='county_prec',how='outer',indicator=True)\n",
    "elections_only = election_shapefile[election_shapefile[\"_merge\"]==\"left_only\"]\n",
    "shapefile_only = election_shapefile[election_shapefile[\"_merge\"]==\"right_only\"]\n",
    "both = election_shapefile[election_shapefile[\"_merge\"]==\"both\"]\n",
    "\n",
    "print(\"There are \" + str(elections_only['county_prec'].count()) + \" precincts that only appear in the election results\")\n",
    "print(\"There are \" + str(shapefile_only['DISTRICT'].count()) + \" precincts that only appear in the shapefile\")\n",
    "print(\"There are \" + str(both['county_prec'].count()) + \" precincts that were matched between the two files\")\n",
    "\n",
    "#elections_only_export = pd.Series(elections_only)\n",
    "elections_only.to_csv(\"./elections_only.csv\")\n",
    "\n",
    "#shapefile_only_export = pd.Series(shapefile_only)\n",
    "shapefile_only.to_csv(\"./shapefile_only.csv\")"
   ]
  },
  {
   "cell_type": "code",
   "execution_count": null,
   "metadata": {},
   "outputs": [],
   "source": [
    "#Need to merge these with the above\n",
    "election_shapefile = pd.concat([election_shapefile,empty_precincts])"
   ]
  },
  {
   "cell_type": "markdown",
   "metadata": {},
   "source": [
    "### Merge with VEST file"
   ]
  },
  {
   "cell_type": "code",
   "execution_count": null,
   "metadata": {},
   "outputs": [],
   "source": [
    "print(vest_ga[vest_ga[\"county_prec\"].isna()])\n",
    "#print(vest_ga[vest_ga[\"DISTRICT\"]!=vest_ga[\"county_prec\"]])\n",
    "\n",
    "vest_ga[\"county_prec\"] = np.where(vest_ga[\"county_prec\"].isna(), vest_ga[\"DISTRICT\"], vest_ga[\"county_prec\"])\n",
    "print(vest_ga[vest_ga[\"county_prec\"].isna()])"
   ]
  },
  {
   "cell_type": "code",
   "execution_count": null,
   "metadata": {
    "scrolled": true
   },
   "outputs": [],
   "source": [
    "print(election_shapefile[election_shapefile[\"county_prec\"]==\"121AP01E\"])\n",
    "print(vest_ga[vest_ga[\"county_prec\"]==\"121AP01E\"])\n",
    "print(vest_ga[vest_ga[\"DISTRICT\"]==\"215ZZZZZZ\"])\n",
    "print(vest_ga.loc[6,\"county_prec\"])\n",
    "print(vest_ga.columns)"
   ]
  },
  {
   "cell_type": "code",
   "execution_count": null,
   "metadata": {},
   "outputs": [],
   "source": [
    "print(vest_ga.columns)"
   ]
  },
  {
   "cell_type": "code",
   "execution_count": null,
   "metadata": {},
   "outputs": [],
   "source": [
    "print(vest_ga.head())\n",
    "vest_ga[\"county_prec\"]=vest_ga[\"FIPS2\"].astype(str).str.zfill(3)+vest_ga[\"PRECINCT_N\"]"
   ]
  },
  {
   "cell_type": "code",
   "execution_count": null,
   "metadata": {},
   "outputs": [],
   "source": [
    "print(vest_ga[vest_ga[\"county_prec\"]==\"121AVONDALE -04\"])"
   ]
  },
  {
   "cell_type": "code",
   "execution_count": null,
   "metadata": {},
   "outputs": [],
   "source": [
    "validated_1 = pd.merge(election_shapefile,vest_ga,on='county_prec',how='outer',indicator=\"final_merge\")\n",
    "validated_2 = pd.merge(election_shapefile,vest_ga,on='county_prec',how='outer',indicator=\"final_merge\")"
   ]
  },
  {
   "cell_type": "code",
   "execution_count": null,
   "metadata": {},
   "outputs": [],
   "source": [
    "#print(validated_1.head())\n",
    "print(validated_1[\"final_merge\"].value_counts())\n",
    "valid_unmatched = validated_1[validated_1[\"final_merge\"]==\"left_only\"]\n",
    "valid_unmatched.to_csv(\"./valid_unmatched.csv\")\n",
    "\n",
    "vest_unmatched = validated_1[validated_1[\"final_merge\"]==\"right_only\"]\n",
    "vest_unmatched.to_csv(\"./vest_unmatched.csv\")"
   ]
  },
  {
   "cell_type": "code",
   "execution_count": null,
   "metadata": {},
   "outputs": [],
   "source": [
    "print(validated_2.head())\n",
    "print(validated_2[\"final_merge\"].value_counts())\n",
    "\n",
    "\n",
    "validated_2[validated_2[\"final_merge\"]==\"left_only\"].to_csv(\"./medsl_all_unmatched.csv\")\n",
    "validated_2[validelection_shapefileated_2[\"final_merge\"]==\"right_only\"].to_csv(\"./vest_all_unmatched.csv\")\n",
    "validated_2[(validated_2[\"final_merge\"]==\"both\")& (validated_2[\"_merge\"]==\"left_only\")].to_csv(\"./both_left_only_unmatched.csv\")\n",
    "validated_2[(validated_2[\"final_merge\"]==\"both\")& (validated_2[\"_merge\"]==\"right_only\")].to_csv(\"./both_right_only_unmatched.csv\")"
   ]
  },
  {
   "cell_type": "code",
   "execution_count": null,
   "metadata": {},
   "outputs": [],
   "source": [
    "#21 of the unmatched VEST file precincts are in Fulton County and have 0 votes\n",
    "\n"
   ]
  },
  {
   "cell_type": "code",
   "execution_count": null,
   "metadata": {},
   "outputs": [],
   "source": [
    "source_shapes = gp.GeoDataFrame(validated_1[validated_1[\"final_merge\"]==\"both\"], geometry='geometry_x')\n",
    "vest_shapes = gp.GeoDataFrame(validated_1[validated_1[\"final_merge\"]==\"both\"], geometry='geometry_y')"
   ]
  },
  {
   "cell_type": "code",
   "execution_count": null,
   "metadata": {},
   "outputs": [],
   "source": [
    "vals = source_shapes.geom_almost_equals(vest_shapes,decimal=0)\n",
    "print(vals.shape)\n",
    "print(validated_1[validated_1[\"final_merge\"]==\"both\"][~vals][\"county_prec\"].str[0:3].value_counts())\n",
    "print(validated_1[validated_1[\"final_merge\"]==\"both\"][~vals].shape)\n",
    "\n",
    "#344 of these are from Fulton County, which makes sense, given that we are not using the same shapefile"
   ]
  },
  {
   "cell_type": "code",
   "execution_count": null,
   "metadata": {},
   "outputs": [],
   "source": [
    "#Extremely small difference\n",
    "shp_difference = gp.overlay(source_shapes,vest_shapes,how='symmetric_difference')\n",
    "shp_difference.plot()"
   ]
  },
  {
   "cell_type": "code",
   "execution_count": null,
   "metadata": {},
   "outputs": [],
   "source": [
    "source_shapes.plot()"
   ]
  },
  {
   "cell_type": "code",
   "execution_count": null,
   "metadata": {},
   "outputs": [],
   "source": [
    "vest_shapes.plot()"
   ]
  },
  {
   "cell_type": "code",
   "execution_count": null,
   "metadata": {},
   "outputs": [],
   "source": [
    "def validater_row (df, column_List):\n",
    "    matching_rows = 0\n",
    "    different_rows = 0\n",
    "    diff_list=[]\n",
    "    diff_values = []\n",
    "    max_diff = 0\n",
    "    \n",
    "    for j in range(0,len(df.index)):\n",
    "        same = True\n",
    "        for i in column_List:\n",
    "            left_Data = i + \"_x\"\n",
    "            right_Data = i + \"_y\"\n",
    "            diff = abs(df.iloc[j][left_Data]-df.iloc[j][right_Data])\n",
    "            if(diff != 0):\n",
    "                diff_values.append(abs(diff))\n",
    "                same = False\n",
    "                if(np.isnan(diff)):\n",
    "                    print(\"NaN value at diff is: \", df.iloc[j]['county_prec'])\n",
    "                if (diff>max_diff):\n",
    "                    max_diff = diff\n",
    "                    print(\"New max diff is: \", str(max_diff))\n",
    "                    print(df.iloc[j]['county_prec'])\n",
    "        if(same != True):\n",
    "            different_rows +=1\n",
    "            diff_list.append(df.iloc[j]['county_prec'])\n",
    "        else:\n",
    "            matching_rows +=1\n",
    "    print(\"There are \", len(df.index),\" total rows\")\n",
    "    print(different_rows,\" of these rows have election result differences\")\n",
    "    print(matching_rows,\" of these rows are the same\")\n",
    "    print(\"\")\n",
    "    print(\"The max difference between any one shared column in a row is: \", max_diff)\n",
    "    if(len(diff_values)!=0):\n",
    "        print(\"The average difference is: \", str(sum(diff_values)/len(diff_values)))\n",
    "    count_big_diff = len([i for i in diff_values if i > 5])\n",
    "    print(\"There are \", str(count_big_diff), \"precinct results with a difference greater than 5\")"
   ]
  },
  {
   "cell_type": "code",
   "execution_count": null,
   "metadata": {},
   "outputs": [],
   "source": [
    "column_List = ['G16PRERTRU', 'G16PREDCLI',\n",
    "       'G16PRELJOH', 'G16USSRISA', 'G16USSDBAR', 'G16USSLBUC', 'G16PSCRECH',\n",
    "       'G16PSCLHOS']\n",
    "validater_row(validated_1[validated_1[\"final_merge\"]==\"both\"],column_List)"
   ]
  },
  {
   "cell_type": "code",
   "execution_count": null,
   "metadata": {},
   "outputs": [],
   "source": [
    "#New names should be \"AVONDALE HIGH -05 , AVONDALE HIGH -04 \"\n",
    "avondale_high = precinct_shapes_ga[precinct_shapes_ga[\"PRECINCT_N\"]==\"AVONDALE HIGH\"]\n",
    "\n",
    "avondale_high_4 = gp.overlay(district_4,avondale_high, how='intersection',keep_geom_type=False)\n",
    "avondale_high_5 = gp.overlay(district_5,avondale_high, how='intersection',keep_geom_type=False)\n",
    "\n",
    "avondale_high_4.plot()\n",
    "avondale_high_5.plot()\n",
    "\n",
    "    #Need to add these two columns with a new name\n",
    "\n",
    "vest_avondale_4 = vest_ga[vest_ga[\"county_prec\"]==\"089AVONDALE HIGH - 04\"]\n",
    "vest_avondale_5 = vest_ga[vest_ga[\"county_prec\"]==\"089AVONDALE HIGH - 05\"]\n",
    "\n",
    "vest_avondale_4.plot(color=\"red\")\n",
    "vest_avondale_5.plot(color=\"red\")\n",
    "\n",
    "#\"GLENNWOOD - 05\" and \"GLENNWOOD - 04\"\n",
    "glennwood = precinct_shapes_ga[precinct_shapes_ga[\"PRECINCT_N\"]==\"GLENNWOOD (DEC)\"]\n",
    "\n",
    "glennwood_4 = gp.overlay(district_4,glennwood, how='intersection',keep_geom_type=False)\n",
    "glennwood_5 = gp.overlay(district_5,glennwood, how='intersection',keep_geom_type=False)\n",
    "\n",
    "glennwood_4.plot()\n",
    "glennwood_5.plot()\n",
    "    \n",
    "    #Need to add these two columns with a new name\n",
    "\n",
    "vest_glennwood_4 = vest_ga[vest_ga[\"county_prec\"]==\"089GLENNWOOD - 04\"]\n",
    "vest_glennwood_5 = vest_ga[vest_ga[\"county_prec\"]==\"089GLENNWOOD - 05\"]\n",
    "\n",
    "vest_glennwood_4.plot(color=\"red\")\n",
    "vest_glennwood_5.plot(color=\"red\")\n",
    "\n",
    "\n",
    "#\"WADSWORTH ELEM - 05\" and \"WADSWORTH ELEM - 04\"\n",
    "wadsworth = precinct_shapes_ga[precinct_shapes_ga[\"PRECINCT_N\"]==\"WADSWORTH\"]\n",
    "\n",
    "wadsworth_4 = gp.overlay(district_4,wadsworth, how='intersection',keep_geom_type=False)\n",
    "wadsworth_5 = gp.overlay(district_5,wadsworth, how='intersection',keep_geom_type=False)\n",
    "\n",
    "wadsworth_4.plot()\n",
    "wadsworth_5.plot()\n",
    "    \n",
    "    #Need to add these two columns with a new name\n",
    "\n",
    "vest_wadsworth_4 = vest_ga[vest_ga[\"county_prec\"]==\"089WADSWORTH - 04\"]\n",
    "vest_wadsworth_5 = vest_ga[vest_ga[\"county_prec\"]==\"089WADSWORTH - 05\"]\n",
    "\n",
    "vest_wadsworth_4.plot(color=\"red\")\n",
    "vest_wadsworth_5.plot(color=\"red\")\n",
    "\n",
    "# 'Cates_D' and 'Cates_D - 04'\n",
    "cates_d = precinct_shapes_ga[precinct_shapes_ga[\"PRECINCT_N\"]==\"CATES D\"]\n",
    "\n",
    "cates_d_4 = gp.overlay(district_4,cates_d, how='intersection',keep_geom_type=False)\n",
    "cates_d_7 = gp.overlay(district_7,cates_d, how='intersection',keep_geom_type=False)\n",
    "\n",
    "cates_d_4.plot()\n",
    "cates_d_7.plot()\n",
    "\n",
    "    #Need to add these two columns with a new name\n",
    "\n",
    "vest_cates_4 = vest_ga[vest_ga[\"county_prec\"]==\"135035 Cates D - 04\"]\n",
    "vest_cates_7 = vest_ga[vest_ga[\"county_prec\"]==\"135CATES D\"]\n",
    "\n",
    "vest_cates_7.plot(color=\"red\")\n",
    "vest_cates_4.plot(color=\"red\")"
   ]
  },
  {
   "cell_type": "code",
   "execution_count": null,
   "metadata": {},
   "outputs": [],
   "source": []
  }
 ],
 "metadata": {
  "kernelspec": {
   "display_name": "Python 3",
   "language": "python",
   "name": "python3"
  },
  "language_info": {
   "codemirror_mode": {
    "name": "ipython",
    "version": 3
   },
   "file_extension": ".py",
   "mimetype": "text/x-python",
   "name": "python",
   "nbconvert_exporter": "python",
   "pygments_lexer": "ipython3",
   "version": "3.8.3"
  }
 },
 "nbformat": 4,
 "nbformat_minor": 4
}
