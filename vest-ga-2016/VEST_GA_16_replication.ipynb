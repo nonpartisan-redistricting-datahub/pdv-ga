{
 "cells": [
  {
   "cell_type": "code",
   "execution_count": 1,
   "metadata": {},
   "outputs": [],
   "source": [
    "import maup # mggg's library for proration, see documentation here: https://github.com/mggg/maup\n",
    "import pandas as pd # standard python data library\n",
    "import geopandas as gp # the geo-version of pandas\n",
    "import numpy as np \n",
    "import os\n",
    "import fiona\n",
    "from statistics import mean, median\n",
    "from pandas import read_csv\n",
    "gp.io.file.fiona.drvsupport.supported_drivers['KML'] = 'rw' #To load KML files"
   ]
  },
  {
   "cell_type": "markdown",
   "metadata": {},
   "source": [
    "# VEST Georgia Validation"
   ]
  },
  {
   "cell_type": "markdown",
   "metadata": {},
   "source": [
    "## Examining and Loading Files"
   ]
  },
  {
   "cell_type": "markdown",
   "metadata": {},
   "source": [
    "### VEST"
   ]
  },
  {
   "cell_type": "markdown",
   "metadata": {},
   "source": [
    "#### Copy in VEST GA 16 file"
   ]
  },
  {
   "cell_type": "code",
   "execution_count": 3,
   "metadata": {},
   "outputs": [],
   "source": [
    "vest_ga = gp.read_file(\"./raw-from-source/VEST/ga_2016/ga_2016.shp\")"
   ]
  },
  {
   "cell_type": "code",
   "execution_count": 4,
   "metadata": {},
   "outputs": [
    {
     "name": "stdout",
     "output_type": "stream",
     "text": [
      "  DISTRICT CTYSOSID PRECINCT_I PRECINCT_N CTYNAME CTYNUMBER CTYNUMBER2 FIPS2  \\\n",
      "0  121JC15  121JC15       JC15       JC15  FULTON        60        060   121   \n",
      "1  12108N1  12108N1       08N1       08N1  FULTON        60        060   121   \n",
      "2  12108N2  12108N2       08N2       08N2  FULTON        60        060   121   \n",
      "3  121JC14  121JC14       JC14       JC14  FULTON        60        060   121   \n",
      "4  121JC05  121JC05       JC05       JC05  FULTON        60        060   121   \n",
      "\n",
      "   G16PRERTRU  G16PREDCLI  G16PRELJOH  G16USSRISA  G16USSDBAR  G16USSLBUC  \\\n",
      "0         202         294          29         206         257          38   \n",
      "1         313         232          32         445         133           6   \n",
      "2         402         500          22         517         353          27   \n",
      "3        1000         708          60        1199         497          39   \n",
      "4         651         736          81         767         561          75   \n",
      "\n",
      "   G16PSCRECH  G16PSCLHOS                                           geometry  \n",
      "0         245         219  MULTIPOLYGON (((-84.24444 34.04090, -84.24179 ...  \n",
      "1         463          80  POLYGON ((-84.41635 33.83995, -84.41666 33.839...  \n",
      "2         593         181  POLYGON ((-84.41635 33.83995, -84.41675 33.839...  \n",
      "3        1320         336  POLYGON ((-84.24930 34.02987, -84.24918 34.029...  \n",
      "4         875         449  POLYGON ((-84.20322 34.06888, -84.19996 34.068...  \n"
     ]
    }
   ],
   "source": [
    "print(vest_ga.head())"
   ]
  },
  {
   "cell_type": "markdown",
   "metadata": {},
   "source": [
    "#### VEST Data Sources (from documentation):"
   ]
  },
  {
   "cell_type": "markdown",
   "metadata": {},
   "source": [
    "Election results from the Georgia Secretary of State Elections Division  (https://sos.ga.gov/index.php/Elections/current_and_past_elections_results)  \n",
    "Precinct shapefile primarily from the Georgia General Assembly Reapportionment Office (http://www.legis.ga.gov/Joint/reapportionment/en-US/default.aspx)  "
   ]
  },
  {
   "cell_type": "markdown",
   "metadata": {},
   "source": [
    "#### VEST Processing (from documentation):"
   ]
  },
  {
   "cell_type": "markdown",
   "metadata": {},
   "source": [
    "Fulton County uses shapefiles and maps sourced from the county GIS program. Precincts CH01/CH04B, CP07A/CP07D, SS29A/SS29B, UC031/UC035 were merged to match how voters were registered in the 2016 voter file.\n",
    "\n",
    "The following precincts were split by congressional district to match the 2016 election results: Avondale High, Glennwood, Wadsworth in Dekalb County; Cates D in Gwinnett County.\n",
    "\n",
    "Cloudland and Teloga precincts in Chattooga County were split along the ridgeline that marks the boundary between them with the USGS Topographic Contour shapefile.\n",
    "\n",
    "Three of the four VTDs in Chattahoochee County are comprised of Fort Benning. However, the county only has one polling location for all voters, including residents of Fort Benning that vote within the county. The four Chattahoochee County VTDs have therefore been merged in the shapefile."
   ]
  },
  {
   "cell_type": "markdown",
   "metadata": {},
   "source": [
    "#### VEST Field Names (from documentation):"
   ]
  },
  {
   "cell_type": "markdown",
   "metadata": {},
   "source": [
    "G16PRERTRU - Donald J. Trump (Republican Party)  \n",
    "G16PREDCLI - Hillary Clinton (Democratic Party)  \n",
    "G16PRELJOH - Gary Johnson (Libertarian Party)  \n",
    "  \n",
    "G16USSRISA - Johnny Isakson (Republican Party)  \n",
    "G16USSDBAR - Jim Barksdale (Democratic Party)  \n",
    "G16USSLBUC - Allen Buckley (Libertarian Party)  \n",
    "  \n",
    "G16PSCRECH - Tim Echols (Republican Party)  \n",
    "G16PSCLHOS - Eric Hoskins (Libertarian Party)  "
   ]
  },
  {
   "cell_type": "markdown",
   "metadata": {},
   "source": [
    "### Election and Precinct Files"
   ]
  },
  {
   "cell_type": "code",
   "execution_count": 8,
   "metadata": {},
   "outputs": [
    {
     "name": "stderr",
     "output_type": "stream",
     "text": [
      "/opt/anaconda3/lib/python3.8/site-packages/IPython/core/interactiveshell.py:3071: DtypeWarning: Columns (13,17,19,31,32) have mixed types.Specify dtype option on import or set low_memory=False.\n",
      "  has_raised = await self.run_ast_nodes(code_ast.body, cell_name,\n"
     ]
    }
   ],
   "source": [
    "#Note: Some difficulties in using the link provided by VEST (need to do work on each county)\n",
    "#Try this:\n",
    "#medsl_election = pd.read_csv(\"./raw-from-source/MEDSL/2016-precinct-president.csv\")\n",
    "medsl_election = pd.read_csv(\"./raw-from-source/MEDSL/2016-precinct-president.tab\",sep=\"\\t\")"
   ]
  },
  {
   "cell_type": "code",
   "execution_count": 9,
   "metadata": {},
   "outputs": [
    {
     "name": "stdout",
     "output_type": "stream",
     "text": [
      "   year stage  special    state state_postal  state_fips  state_icpsr  \\\n",
      "0  2016   gen    False  Alabama           AL           1           41   \n",
      "1  2016   gen    False  Alabama           AL           1           41   \n",
      "2  2016   gen    False  Alabama           AL           1           41   \n",
      "3  2016   gen    False  Alabama           AL           1           41   \n",
      "4  2016   gen    False  Alabama           AL           1           41   \n",
      "\n",
      "      county_name  county_fips  county_ansi  ...  candidate_middle  \\\n",
      "0  Autauga County       1001.0     161526.0  ...               NaN   \n",
      "1  Autauga County       1001.0     161526.0  ...               NaN   \n",
      "2  Autauga County       1001.0     161526.0  ...               NaN   \n",
      "3  Autauga County       1001.0     161526.0  ...               NaN   \n",
      "4  Autauga County       1001.0     161526.0  ...               NaN   \n",
      "\n",
      "   candidate_full candidate_suffix candidate_nickname candidate_fec  \\\n",
      "0             NaN              NaN                NaN     P00003392   \n",
      "1             NaN              NaN                NaN     P60012234   \n",
      "2             NaN              NaN                NaN     P20003984   \n",
      "3             NaN              NaN                NaN     P80001571   \n",
      "4             NaN              NaN                NaN           NaN   \n",
      "\n",
      "                                candidate_fec_name candidate_google  \\\n",
      "0  CLINTON, HILLARY RODHAM / TIMOTHY MICHAEL KAINE              NaN   \n",
      "1                     JOHNSON, JOHN FITZGERALD MR.              NaN   \n",
      "2                                      STEIN, JILL              NaN   \n",
      "3              TRUMP, DONALD J. / MICHAEL R. PENCE              NaN   \n",
      "4                                              NaN              NaN   \n",
      "\n",
      "  candidate_govtrack  candidate_icpsr candidate_maplight  \n",
      "0                NaN              NaN                NaN  \n",
      "1                NaN              NaN                NaN  \n",
      "2                NaN              NaN                NaN  \n",
      "3                NaN              NaN                NaN  \n",
      "4                NaN              NaN                NaN  \n",
      "\n",
      "[5 rows x 37 columns]\n"
     ]
    }
   ],
   "source": [
    "print(medsl_election.head())"
   ]
  },
  {
   "cell_type": "code",
   "execution_count": 10,
   "metadata": {},
   "outputs": [],
   "source": [
    "precinct_shapes_ga = gp.read_file(\"./raw-from-source/GA_shapefile/vtd2016-shape/VTD2016-Shape.shp\")"
   ]
  },
  {
   "cell_type": "code",
   "execution_count": 11,
   "metadata": {},
   "outputs": [
    {
     "name": "stdout",
     "output_type": "stream",
     "text": [
      "           ID       AREA  DATA  POPULATION DISTRICT CTYSOSID PRECINCT_I  \\\n",
      "0     6094217   1.864348   690        1013   073131   073131        131   \n",
      "1     6094266   1.636596   714        3858   073064   073064        064   \n",
      "2     6094297   5.598643   711        1920   073061   073061        061   \n",
      "3     6094341   0.872412   713        1770   073063   073063        063   \n",
      "4     6094377   3.783726   691        3131   073132   073132        132   \n",
      "...       ...        ...   ...         ...      ...      ...        ...   \n",
      "2692  5876204  36.596876  1892        2983     1473     1473          3   \n",
      "2693  5876331  40.082724  1087        2424   105197   105197        197   \n",
      "2694  5956950  39.503473  2565        4211   281990   281990        990   \n",
      "2695  5957097  94.810515  2564        2839   281833   281833        833   \n",
      "2696  5957241  58.307267  2766        1735    13707    13707         07   \n",
      "\n",
      "                PRECINCT_N CTYNUMBER COUNTY    CTYNAME  FIPS1 FIPS2  \\\n",
      "0     JOURNEY COMM. CHURCH        36    036   Columbia  13073   073   \n",
      "1     GRACE BAPTIST CHURCH        36    036   Columbia  13073   073   \n",
      "2          GREENBRIER HIGH        36    036   Columbia  13073   073   \n",
      "3     RIVERSIDE ELEMENTARY        36    036   Columbia  13073   073   \n",
      "4         WESLEY METHODIST        36    036   Columbia  13073   073   \n",
      "...                    ...       ...    ...        ...    ...   ...   \n",
      "2692              GOLDMINE        73    073       Hart  13147   147   \n",
      "2693                  PIKE        52    052     Elbert  13105   105   \n",
      "2694             HIAWASSEE       139    139      Towns  13281   281   \n",
      "2695             MACEDONIA       139    139      Towns  13281   281   \n",
      "2696            AMYS CREEK        68    068  Habersham  13137   137   \n",
      "\n",
      "     COUNTY_NAM                                           geometry  \n",
      "0      COLUMBIA  POLYGON ((-82.14546 33.57854, -82.14520 33.578...  \n",
      "1      COLUMBIA  POLYGON ((-82.16342 33.57423, -82.16364 33.574...  \n",
      "2      COLUMBIA  POLYGON ((-82.16581 33.56498, -82.16577 33.564...  \n",
      "3      COLUMBIA  POLYGON ((-82.13909 33.57592, -82.13914 33.575...  \n",
      "4      COLUMBIA  POLYGON ((-82.14330 33.57348, -82.14300 33.573...  \n",
      "...         ...                                                ...  \n",
      "2692       HART  POLYGON ((-83.06885 34.22465, -83.06886 34.224...  \n",
      "2693     ELBERT  POLYGON ((-82.90856 34.10425, -82.90868 34.104...  \n",
      "2694      TOWNS  POLYGON ((-83.85026 34.98148, -83.85002 34.981...  \n",
      "2695      TOWNS  POLYGON ((-83.65374 34.82063, -83.65381 34.820...  \n",
      "2696  HABERSHAM  POLYGON ((-83.68160 34.80059, -83.68073 34.801...  \n",
      "\n",
      "[2697 rows x 15 columns]\n"
     ]
    }
   ],
   "source": [
    "print(precinct_shapes_ga)"
   ]
  },
  {
   "cell_type": "code",
   "execution_count": 12,
   "metadata": {},
   "outputs": [
    {
     "name": "stdout",
     "output_type": "stream",
     "text": [
      "     DISTRICT CTYSOSID PRECINCT_I     PRECINCT_N   CTYNAME CTYNUMBER  \\\n",
      "0     121JC15  121JC15       JC15           JC15    FULTON        60   \n",
      "1     12108N1  12108N1       08N1           08N1    FULTON        60   \n",
      "2     12108N2  12108N2       08N2           08N2    FULTON        60   \n",
      "3     121JC14  121JC14       JC14           JC14    FULTON        60   \n",
      "4     121JC05  121JC05       JC05           JC05    FULTON        60   \n",
      "...       ...      ...        ...            ...       ...       ...   \n",
      "2692  067NC01  067NC01       NC01  NORTH COBB 01      COBB        33   \n",
      "2693  067AC1B  067AC1B       AC1B     ACWORTH 1B      COBB        33   \n",
      "2694  067MS01  067MS01       MS01   MARS HILL 01      COBB        33   \n",
      "2695  067BK01  067BK01       BK01       BAKER 01      COBB        33   \n",
      "2696   057006   057006        006          BELLS  CHEROKEE        28   \n",
      "\n",
      "     CTYNUMBER2 FIPS2  G16PRERTRU  G16PREDCLI  G16PRELJOH  G16USSRISA  \\\n",
      "0           060   121         202         294          29         206   \n",
      "1           060   121         313         232          32         445   \n",
      "2           060   121         402         500          22         517   \n",
      "3           060   121        1000         708          60        1199   \n",
      "4           060   121         651         736          81         767   \n",
      "...         ...   ...         ...         ...         ...         ...   \n",
      "2692        033   067         788         597          71         829   \n",
      "2693        033   067        1610        1155         118        1618   \n",
      "2694        033   067        1639         472          71        1604   \n",
      "2695        033   067        1260        1470         153        1373   \n",
      "2696        028   057        1853        1068         182        1824   \n",
      "\n",
      "      G16USSDBAR  G16USSLBUC  G16PSCRECH  G16PSCLHOS  \\\n",
      "0            257          38         245         219   \n",
      "1            133           6         463          80   \n",
      "2            353          27         593         181   \n",
      "3            497          39        1320         336   \n",
      "4            561          75         875         449   \n",
      "...          ...         ...         ...         ...   \n",
      "2692         521          69         889         449   \n",
      "2693         978         167        1754         813   \n",
      "2694         415         109        1667         379   \n",
      "2695        1246         162        1517        1025   \n",
      "2696         922         249        1961         900   \n",
      "\n",
      "                                               geometry  \n",
      "0     MULTIPOLYGON (((-84.24444 34.04090, -84.24179 ...  \n",
      "1     POLYGON ((-84.41635 33.83995, -84.41666 33.839...  \n",
      "2     POLYGON ((-84.41635 33.83995, -84.41675 33.839...  \n",
      "3     POLYGON ((-84.24930 34.02987, -84.24918 34.029...  \n",
      "4     POLYGON ((-84.20322 34.06888, -84.19996 34.068...  \n",
      "...                                                 ...  \n",
      "2692  MULTIPOLYGON (((-84.65137 34.06216, -84.65128 ...  \n",
      "2693  POLYGON ((-84.66368 34.07832, -84.66368 34.078...  \n",
      "2694  MULTIPOLYGON (((-84.68982 34.07863, -84.68982 ...  \n",
      "2695  MULTIPOLYGON (((-84.64180 34.07795, -84.64180 ...  \n",
      "2696  POLYGON ((-84.65923 34.07824, -84.65923 34.078...  \n",
      "\n",
      "[2697 rows x 17 columns]\n"
     ]
    }
   ],
   "source": [
    "print(vest_ga)"
   ]
  },
  {
   "cell_type": "code",
   "execution_count": 17,
   "metadata": {},
   "outputs": [
    {
     "name": "stdout",
     "output_type": "stream",
     "text": [
      "[False]\n"
     ]
    }
   ],
   "source": [
    "print(precinct_shapes_ga.geom_almost_equals(vest_ga,decimal=4).unique())\n"
   ]
  },
  {
   "cell_type": "code",
   "execution_count": null,
   "metadata": {},
   "outputs": [],
   "source": []
  }
 ],
 "metadata": {
  "kernelspec": {
   "display_name": "Python 3",
   "language": "python",
   "name": "python3"
  },
  "language_info": {
   "codemirror_mode": {
    "name": "ipython",
    "version": 3
   },
   "file_extension": ".py",
   "mimetype": "text/x-python",
   "name": "python",
   "nbconvert_exporter": "python",
   "pygments_lexer": "ipython3",
   "version": "3.8.3"
  }
 },
 "nbformat": 4,
 "nbformat_minor": 4
}
