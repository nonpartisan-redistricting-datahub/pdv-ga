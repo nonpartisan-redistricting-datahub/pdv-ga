{
 "cells": [
  {
   "cell_type": "code",
   "execution_count": 2,
   "metadata": {},
   "outputs": [],
   "source": [
    "import maup # mggg's library for proration, see documentation here: https://github.com/mggg/maup\n",
    "import pandas as pd # standard python data library\n",
    "import geopandas as gp # the geo-version of pandas\n",
    "import numpy as np \n",
    "import os\n",
    "import fiona\n",
    "from statistics import mean, median\n",
    "from pandas import read_csv\n",
    "gp.io.file.fiona.drvsupport.supported_drivers['KML'] = 'rw' #To load KML files"
   ]
  },
  {
   "cell_type": "markdown",
   "metadata": {},
   "source": [
    "# VEST Georgia Validation"
   ]
  },
  {
   "cell_type": "markdown",
   "metadata": {},
   "source": [
    "## Examining and Loading Files"
   ]
  },
  {
   "cell_type": "markdown",
   "metadata": {},
   "source": [
    "### VEST"
   ]
  },
  {
   "cell_type": "markdown",
   "metadata": {},
   "source": [
    "#### Copy in VEST GA 16 file"
   ]
  },
  {
   "cell_type": "code",
   "execution_count": 3,
   "metadata": {},
   "outputs": [],
   "source": [
    "vest_ga = gp.read_file(\"./raw-from-source/VEST/ga_2016/ga_2016.shp\")"
   ]
  },
  {
   "cell_type": "code",
   "execution_count": 4,
   "metadata": {},
   "outputs": [
    {
     "name": "stdout",
     "output_type": "stream",
     "text": [
      "  DISTRICT CTYSOSID PRECINCT_I PRECINCT_N CTYNAME CTYNUMBER CTYNUMBER2 FIPS2  \\\n",
      "0  121JC15  121JC15       JC15       JC15  FULTON        60        060   121   \n",
      "1  12108N1  12108N1       08N1       08N1  FULTON        60        060   121   \n",
      "2  12108N2  12108N2       08N2       08N2  FULTON        60        060   121   \n",
      "3  121JC14  121JC14       JC14       JC14  FULTON        60        060   121   \n",
      "4  121JC05  121JC05       JC05       JC05  FULTON        60        060   121   \n",
      "\n",
      "   G16PRERTRU  G16PREDCLI  G16PRELJOH  G16USSRISA  G16USSDBAR  G16USSLBUC  \\\n",
      "0         202         294          29         206         257          38   \n",
      "1         313         232          32         445         133           6   \n",
      "2         402         500          22         517         353          27   \n",
      "3        1000         708          60        1199         497          39   \n",
      "4         651         736          81         767         561          75   \n",
      "\n",
      "   G16PSCRECH  G16PSCLHOS                                           geometry  \n",
      "0         245         219  MULTIPOLYGON (((-84.24444 34.04090, -84.24179 ...  \n",
      "1         463          80  POLYGON ((-84.41635 33.83995, -84.41666 33.839...  \n",
      "2         593         181  POLYGON ((-84.41635 33.83995, -84.41675 33.839...  \n",
      "3        1320         336  POLYGON ((-84.24930 34.02987, -84.24918 34.029...  \n",
      "4         875         449  POLYGON ((-84.20322 34.06888, -84.19996 34.068...  \n"
     ]
    }
   ],
   "source": [
    "print(vest_ga.head())"
   ]
  },
  {
   "cell_type": "markdown",
   "metadata": {},
   "source": [
    "#### VEST Data Sources (from documentation):"
   ]
  },
  {
   "cell_type": "markdown",
   "metadata": {},
   "source": [
    "Election results from the Georgia Secretary of State Elections Division  (https://sos.ga.gov/index.php/Elections/current_and_past_elections_results)  \n",
    "Precinct shapefile primarily from the Georgia General Assembly Reapportionment Office (http://www.legis.ga.gov/Joint/reapportionment/en-US/default.aspx)  "
   ]
  },
  {
   "cell_type": "markdown",
   "metadata": {},
   "source": [
    "#### VEST Processing (from documentation):"
   ]
  },
  {
   "cell_type": "markdown",
   "metadata": {},
   "source": [
    "Fulton County uses shapefiles and maps sourced from the county GIS program. Precincts CH01/CH04B, CP07A/CP07D, SS29A/SS29B, UC031/UC035 were merged to match how voters were registered in the 2016 voter file.\n",
    "\n",
    "The following precincts were split by congressional district to match the 2016 election results: Avondale High, Glennwood, Wadsworth in Dekalb County; Cates D in Gwinnett County.\n",
    "\n",
    "Cloudland and Teloga precincts in Chattooga County were split along the ridgeline that marks the boundary between them with the USGS Topographic Contour shapefile.\n",
    "\n",
    "Three of the four VTDs in Chattahoochee County are comprised of Fort Benning. However, the county only has one polling location for all voters, including residents of Fort Benning that vote within the county. The four Chattahoochee County VTDs have therefore been merged in the shapefile."
   ]
  },
  {
   "cell_type": "markdown",
   "metadata": {},
   "source": [
    "#### VEST Field Names (from documentation):"
   ]
  },
  {
   "cell_type": "markdown",
   "metadata": {},
   "source": [
    "G16PRERTRU - Donald J. Trump (Republican Party)  \n",
    "G16PREDCLI - Hillary Clinton (Democratic Party)  \n",
    "G16PRELJOH - Gary Johnson (Libertarian Party)  \n",
    "  \n",
    "G16USSRISA - Johnny Isakson (Republican Party)  \n",
    "G16USSDBAR - Jim Barksdale (Democratic Party)  \n",
    "G16USSLBUC - Allen Buckley (Libertarian Party)  \n",
    "  \n",
    "G16PSCRECH - Tim Echols (Republican Party)  \n",
    "G16PSCLHOS - Eric Hoskins (Libertarian Party)  "
   ]
  },
  {
   "cell_type": "markdown",
   "metadata": {},
   "source": [
    "### Election and Precinct Files"
   ]
  },
  {
   "cell_type": "code",
   "execution_count": 39,
   "metadata": {},
   "outputs": [
    {
     "name": "stderr",
     "output_type": "stream",
     "text": [
      "/opt/anaconda3/lib/python3.8/site-packages/IPython/core/interactiveshell.py:3071: DtypeWarning: Columns (13,17,19,31,32) have mixed types.Specify dtype option on import or set low_memory=False.\n",
      "  has_raised = await self.run_ast_nodes(code_ast.body, cell_name,\n"
     ]
    }
   ],
   "source": [
    "#Note: Some difficulties in using the link provided by VEST (need to do work on each county)\n",
    "#Try this:\n",
    "#medsl_election = pd.read_csv(\"./raw-from-source/MEDSL/2016-precinct-president.csv\")\n",
    "medsl_election = pd.read_csv(\"./raw-from-source/MEDSL/2016-precinct-president.tab\",sep=\"\\t\")\n",
    "medsl_election= medsl_election[medsl_election.state==\"Georgia\"]"
   ]
  },
  {
   "cell_type": "code",
   "execution_count": 40,
   "metadata": {},
   "outputs": [
    {
     "name": "stdout",
     "output_type": "stream",
     "text": [
      "Index(['year', 'stage', 'special', 'state', 'state_postal', 'state_fips',\n",
      "       'state_icpsr', 'county_name', 'county_fips', 'county_ansi',\n",
      "       'county_lat', 'county_long', 'jurisdiction', 'precinct', 'candidate',\n",
      "       'candidate_normalized', 'office', 'district', 'writein', 'party',\n",
      "       'mode', 'votes', 'candidate_opensecrets', 'candidate_wikidata',\n",
      "       'candidate_party', 'candidate_last', 'candidate_first',\n",
      "       'candidate_middle', 'candidate_full', 'candidate_suffix',\n",
      "       'candidate_nickname', 'candidate_fec', 'candidate_fec_name',\n",
      "       'candidate_google', 'candidate_govtrack', 'candidate_icpsr',\n",
      "       'candidate_maplight'],\n",
      "      dtype='object')\n"
     ]
    }
   ],
   "source": [
    "print(medsl_election.columns)"
   ]
  },
  {
   "cell_type": "code",
   "execution_count": 43,
   "metadata": {},
   "outputs": [
    {
     "name": "stdout",
     "output_type": "stream",
     "text": [
      "           county_name  county_fips jurisdiction precinct        candidate  \\\n",
      "573155  Appling County      13001.0      Appling        2  Hillary Clinton   \n",
      "573156  Appling County      13001.0      Appling        2  Hillary Clinton   \n",
      "573157  Appling County      13001.0      Appling        2  Hillary Clinton   \n",
      "573158  Appling County      13001.0      Appling        2  Hillary Clinton   \n",
      "573159  Appling County      13001.0      Appling        2     Gary Johnson   \n",
      "\n",
      "       candidate_normalized        office   district  writein        party  \\\n",
      "573155              clinton  US President  statewide    False   democratic   \n",
      "573156              clinton  US President  statewide    False   democratic   \n",
      "573157              clinton  US President  statewide    False   democratic   \n",
      "573158              clinton  US President  statewide    False   democratic   \n",
      "573159              johnson  US President  statewide    False  libertarian   \n",
      "\n",
      "                     mode  votes candidate_fec  \\\n",
      "573155       election day    338     P00003392   \n",
      "573156   absentee by mail     87     P00003392   \n",
      "573157  advance in person    317     P00003392   \n",
      "573158        provisional      0     P00003392   \n",
      "573159       election day      5     P60012234   \n",
      "\n",
      "                                     candidate_fec_name  \n",
      "573155  CLINTON, HILLARY RODHAM / TIMOTHY MICHAEL KAINE  \n",
      "573156  CLINTON, HILLARY RODHAM / TIMOTHY MICHAEL KAINE  \n",
      "573157  CLINTON, HILLARY RODHAM / TIMOTHY MICHAEL KAINE  \n",
      "573158  CLINTON, HILLARY RODHAM / TIMOTHY MICHAEL KAINE  \n",
      "573159                     JOHNSON, JOHN FITZGERALD MR.  \n"
     ]
    }
   ],
   "source": [
    "\n",
    "medsl_election= medsl_election[[\"county_name\",\"county_fips\",'jurisdiction', 'precinct', 'candidate',\n",
    "       'candidate_normalized', 'office', 'district', 'writein', 'party',\n",
    "       'mode', 'votes','candidate_fec', 'candidate_fec_name']]\n",
    "print(medsl_election.head())\n"
   ]
  },
  {
   "cell_type": "code",
   "execution_count": 30,
   "metadata": {},
   "outputs": [],
   "source": [
    "medsl_election['county_fips'] = medsl_election['county_fips'].astype(int)\n",
    "medsl_election['county_fips'] = medsl_election['county_fips'].astype(str)"
   ]
  },
  {
   "cell_type": "code",
   "execution_count": 31,
   "metadata": {},
   "outputs": [],
   "source": [
    "medsl_election['prec_county'] = medsl_election['precinct'] + medsl_election['county_fips']"
   ]
  },
  {
   "cell_type": "code",
   "execution_count": 32,
   "metadata": {},
   "outputs": [
    {
     "name": "stdout",
     "output_type": "stream",
     "text": [
      "573155          213001\n",
      "573156          213001\n",
      "573157          213001\n",
      "573158          213001\n",
      "573159          213001\n",
      "              ...     \n",
      "605996    Warwick13321\n",
      "605997    Warwick13321\n",
      "605998    Warwick13321\n",
      "605999    Warwick13321\n",
      "606000    Warwick13321\n",
      "Name: prec_county, Length: 32846, dtype: object\n"
     ]
    }
   ],
   "source": [
    "print(medsl_election['prec_county'])"
   ]
  },
  {
   "cell_type": "code",
   "execution_count": 10,
   "metadata": {},
   "outputs": [],
   "source": [
    "precinct_shapes_ga = gp.read_file(\"./raw-from-source/GA_shapefile/vtd2016-shape/VTD2016-Shape.shp\")"
   ]
  },
  {
   "cell_type": "code",
   "execution_count": 11,
   "metadata": {},
   "outputs": [
    {
     "name": "stdout",
     "output_type": "stream",
     "text": [
      "           ID       AREA  DATA  POPULATION DISTRICT CTYSOSID PRECINCT_I  \\\n",
      "0     6094217   1.864348   690        1013   073131   073131        131   \n",
      "1     6094266   1.636596   714        3858   073064   073064        064   \n",
      "2     6094297   5.598643   711        1920   073061   073061        061   \n",
      "3     6094341   0.872412   713        1770   073063   073063        063   \n",
      "4     6094377   3.783726   691        3131   073132   073132        132   \n",
      "...       ...        ...   ...         ...      ...      ...        ...   \n",
      "2692  5876204  36.596876  1892        2983     1473     1473          3   \n",
      "2693  5876331  40.082724  1087        2424   105197   105197        197   \n",
      "2694  5956950  39.503473  2565        4211   281990   281990        990   \n",
      "2695  5957097  94.810515  2564        2839   281833   281833        833   \n",
      "2696  5957241  58.307267  2766        1735    13707    13707         07   \n",
      "\n",
      "                PRECINCT_N CTYNUMBER COUNTY    CTYNAME  FIPS1 FIPS2  \\\n",
      "0     JOURNEY COMM. CHURCH        36    036   Columbia  13073   073   \n",
      "1     GRACE BAPTIST CHURCH        36    036   Columbia  13073   073   \n",
      "2          GREENBRIER HIGH        36    036   Columbia  13073   073   \n",
      "3     RIVERSIDE ELEMENTARY        36    036   Columbia  13073   073   \n",
      "4         WESLEY METHODIST        36    036   Columbia  13073   073   \n",
      "...                    ...       ...    ...        ...    ...   ...   \n",
      "2692              GOLDMINE        73    073       Hart  13147   147   \n",
      "2693                  PIKE        52    052     Elbert  13105   105   \n",
      "2694             HIAWASSEE       139    139      Towns  13281   281   \n",
      "2695             MACEDONIA       139    139      Towns  13281   281   \n",
      "2696            AMYS CREEK        68    068  Habersham  13137   137   \n",
      "\n",
      "     COUNTY_NAM                                           geometry  \n",
      "0      COLUMBIA  POLYGON ((-82.14546 33.57854, -82.14520 33.578...  \n",
      "1      COLUMBIA  POLYGON ((-82.16342 33.57423, -82.16364 33.574...  \n",
      "2      COLUMBIA  POLYGON ((-82.16581 33.56498, -82.16577 33.564...  \n",
      "3      COLUMBIA  POLYGON ((-82.13909 33.57592, -82.13914 33.575...  \n",
      "4      COLUMBIA  POLYGON ((-82.14330 33.57348, -82.14300 33.573...  \n",
      "...         ...                                                ...  \n",
      "2692       HART  POLYGON ((-83.06885 34.22465, -83.06886 34.224...  \n",
      "2693     ELBERT  POLYGON ((-82.90856 34.10425, -82.90868 34.104...  \n",
      "2694      TOWNS  POLYGON ((-83.85026 34.98148, -83.85002 34.981...  \n",
      "2695      TOWNS  POLYGON ((-83.65374 34.82063, -83.65381 34.820...  \n",
      "2696  HABERSHAM  POLYGON ((-83.68160 34.80059, -83.68073 34.801...  \n",
      "\n",
      "[2697 rows x 15 columns]\n"
     ]
    }
   ],
   "source": [
    "print(precinct_shapes_ga)"
   ]
  },
  {
   "cell_type": "code",
   "execution_count": 6,
   "metadata": {},
   "outputs": [
    {
     "ename": "NameError",
     "evalue": "name 'precinct_shapes_ga' is not defined",
     "output_type": "error",
     "traceback": [
      "\u001b[0;31m---------------------------------------------------------------------------\u001b[0m",
      "\u001b[0;31mNameError\u001b[0m                                 Traceback (most recent call last)",
      "\u001b[0;32m<ipython-input-6-c705bf9dc321>\u001b[0m in \u001b[0;36m<module>\u001b[0;34m\u001b[0m\n\u001b[1;32m      1\u001b[0m \u001b[0;31m#This seems to be the correct shapefile given the same number of rows\u001b[0m\u001b[0;34m\u001b[0m\u001b[0;34m\u001b[0m\u001b[0;34m\u001b[0m\u001b[0m\n\u001b[0;32m----> 2\u001b[0;31m \u001b[0mprint\u001b[0m\u001b[0;34m(\u001b[0m\u001b[0mprecinct_shapes_ga\u001b[0m\u001b[0;34m.\u001b[0m\u001b[0mshape\u001b[0m\u001b[0;34m)\u001b[0m\u001b[0;34m\u001b[0m\u001b[0;34m\u001b[0m\u001b[0m\n\u001b[0m\u001b[1;32m      3\u001b[0m \u001b[0mprint\u001b[0m\u001b[0;34m(\u001b[0m\u001b[0mvest_ga\u001b[0m\u001b[0;34m.\u001b[0m\u001b[0mshape\u001b[0m\u001b[0;34m)\u001b[0m\u001b[0;34m\u001b[0m\u001b[0;34m\u001b[0m\u001b[0m\n",
      "\u001b[0;31mNameError\u001b[0m: name 'precinct_shapes_ga' is not defined"
     ]
    }
   ],
   "source": [
    "#This seems to be the correct shapefile given the same number of rows\n",
    "print(precinct_shapes_ga.shape)\n",
    "print(vest_ga.shape)"
   ]
  },
  {
   "cell_type": "code",
   "execution_count": 17,
   "metadata": {},
   "outputs": [
    {
     "name": "stdout",
     "output_type": "stream",
     "text": [
      "[False]\n"
     ]
    }
   ],
   "source": [
    "print(precinct_shapes_ga.geom_almost_equals(vest_ga,decimal=4).unique())\n"
   ]
  },
  {
   "cell_type": "code",
   "execution_count": null,
   "metadata": {},
   "outputs": [],
   "source": []
  }
 ],
 "metadata": {
  "kernelspec": {
   "display_name": "Python 3",
   "language": "python",
   "name": "python3"
  },
  "language_info": {
   "codemirror_mode": {
    "name": "ipython",
    "version": 3
   },
   "file_extension": ".py",
   "mimetype": "text/x-python",
   "name": "python",
   "nbconvert_exporter": "python",
   "pygments_lexer": "ipython3",
   "version": "3.8.3"
  }
 },
 "nbformat": 4,
 "nbformat_minor": 4
}
