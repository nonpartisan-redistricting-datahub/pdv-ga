{
 "cells": [
  {
   "cell_type": "code",
   "execution_count": null,
   "metadata": {},
   "outputs": [],
   "source": [
    "import maup # mggg's library for proration, see documentation here: https://github.com/mggg/maup\n",
    "import pandas as pd # standard python data library\n",
    "import geopandas as gp # the geo-version of pandas\n",
    "import numpy as np \n",
    "import os\n",
    "import fiona\n",
    "from statistics import mean, median\n",
    "from pandas import read_csv\n",
    "gp.io.file.fiona.drvsupport.supported_drivers['KML'] = 'rw' #To load KML files\n",
    "import string\n",
    "import xml.etree.ElementTree as et "
   ]
  },
  {
   "cell_type": "code",
   "execution_count": null,
   "metadata": {},
   "outputs": [],
   "source": [
    "loaded_counties = os.listdir(\"./raw-from-source/Runoff_Results/\")\n",
    "z=[]\n",
    "for locale in loaded_counties:\n",
    "    if locale.endswith('.xml'):\n",
    "        print(\"Working on \", locale)\n",
    "        file_string = \"./raw-from-source/Runoff_Results/\"+locale\n",
    "        xtree = et.parse(file_string)\n",
    "        xroot = xtree.getroot()\n",
    "        store_list = []\n",
    "        county_area = xroot.findall(\".//Region\")\n",
    "        #county = county_area.attrib.get('text')\n",
    "        for i in county_area:\n",
    "            county = i.text\n",
    "        contests = xroot.findall(\".//Contest\")\n",
    "        for i in contests:\n",
    "            contest = i.attrib.get('text')\n",
    "            lower = i.findall(\"./Choice\")\n",
    "            for j in lower:\n",
    "                choice = j.attrib.get('text')\n",
    "                lower_2 = j.findall(\"./VoteType\")\n",
    "                for k in lower_2:\n",
    "                    voting_method = k.attrib.get('name')\n",
    "                    lower_3 = k.findall(\"./Precinct\")\n",
    "                    for l in lower_3:\n",
    "                        precinct_name = l.attrib.get('name')\n",
    "                        num_votes = l.attrib.get('votes')\n",
    "                        z.append([county,contest,choice,voting_method,precinct_name,num_votes])\n",
    "                        #print(x)\n",
    "                    #print(\"\")\n",
    "                #print(\"\")\n",
    "            #print(\"\")\n",
    "dfcols = ['county','contest','choice','voting_method','precinct','num_votes']\n",
    "df_2 = pd.DataFrame(z,columns=dfcols)"
   ]
  },
  {
   "cell_type": "code",
   "execution_count": null,
   "metadata": {},
   "outputs": [],
   "source": [
    "df_2[\"num_votes\"]=df_2[\"num_votes\"].astype(int)\n",
    "runoff_list = ['Secretary Of State','Public Service Commission, District 3 - Metro-Atlanta']\n",
    "df_2=df_2[df_2[\"contest\"].isin(runoff_list)]\n",
    "print(sum(df_2[\"num_votes\"]))\n",
    "\n",
    "vest_list = ['R18SOSRRAF', 'R18SOSDBAR','R18PSCREAT', 'R18PSCDMIL']\n",
    "total = 0\n",
    "for i in vest_list:\n",
    "    total += sum(vest_ga_18[i])\n",
    "print(total)"
   ]
  },
  {
   "cell_type": "code",
   "execution_count": null,
   "metadata": {},
   "outputs": [],
   "source": [
    "loaded_counties = os.listdir(\"./raw-from-source/Election_Results/\")\n",
    "z=[]\n",
    "for locale in loaded_counties:\n",
    "    if locale.endswith('.xml'):\n",
    "        print(\"Working on \", locale)\n",
    "        file_string = \"./raw-from-source/Election_Results/\"+locale\n",
    "        xtree = et.parse(file_string)\n",
    "        xroot = xtree.getroot()\n",
    "        store_list = []\n",
    "        county_area = xroot.findall(\".//Region\")\n",
    "        #county = county_area.attrib.get('text')\n",
    "        for i in county_area:\n",
    "            county = i.text\n",
    "        contests = xroot.findall(\".//Contest\")\n",
    "        for i in contests:\n",
    "            contest = i.attrib.get('text')\n",
    "            lower = i.findall(\"./Choice\")\n",
    "            for j in lower:\n",
    "                choice = j.attrib.get('text')\n",
    "                lower_2 = j.findall(\"./VoteType\")\n",
    "                for k in lower_2:\n",
    "                    voting_method = k.attrib.get('name')\n",
    "                    lower_3 = k.findall(\"./Precinct\")\n",
    "                    for l in lower_3:\n",
    "                        precinct_name = l.attrib.get('name')\n",
    "                        num_votes = l.attrib.get('votes')\n",
    "                        z.append([county,contest,choice,voting_method,precinct_name,num_votes])\n",
    "                        #print(x)\n",
    "                    #print(\"\")\n",
    "                #print(\"\")\n",
    "            #print(\"\")\n",
    "dfcols = ['county','contest','choice','voting_method','precinct','num_votes']\n",
    "df = pd.DataFrame(z,columns=dfcols)"
   ]
  },
  {
   "cell_type": "code",
   "execution_count": null,
   "metadata": {},
   "outputs": [],
   "source": [
    "print(df.head())\n",
    "df[\"num_votes\"]=df[\"num_votes\"].astype(int)\n"
   ]
  },
  {
   "cell_type": "code",
   "execution_count": null,
   "metadata": {},
   "outputs": [],
   "source": [
    "office_list = ['Governor', 'Lieutenant Governor', 'Secretary Of State','Attorney General', 'Commissioner Of Agriculture','Commissioner Of Insurance','State School Superintendent','Commissioner Of Labor','Public Service Commission, District 3 - Metro-Atlanta','Public Service Commission, District 5 - Western']\n",
    "df = df[df[\"contest\"].isin(office_list)]\n",
    "print(sum(df[\"num_votes\"]))"
   ]
  },
  {
   "cell_type": "code",
   "execution_count": null,
   "metadata": {},
   "outputs": [],
   "source": [
    "G18GOVRKEM - Brian Kemp (Republican Party)  \n",
    "G18GOVDABR - Stacey Abrams (Democratic Party)  \n",
    "G18GOVLMET - Ted Metz (Libertarian Party)  \n",
    "\n",
    "G18LTGRDUN - Geoff Duncan (Republican Party)  \n",
    "G18LTGDAMI - Sarah Riggs Amico (Democratic Party)  \n",
    "\n",
    "G18SOSRRAF - Brad Raffensperger (Republican Party)  \n",
    "G18SOSDBAR - John Barrow (Democratic Party)  \n",
    "G18SOSLDUV - Smythe Duval (Libertarian Party)  \n",
    "\n",
    "G18ATGRCAR - Chris Carr (Republican Party)  \n",
    "G18ATGDBAI - Charlie Bailey (Democratic Party)  \n",
    "\n",
    "G18AGRRBLA - Gary Black (Republican Party)  \n",
    "G18AGRDSWA - Fred Swann (Democratic Party)  \n",
    "\n",
    "G18INSRBEC - Jim Beck (Republican Party)  \n",
    "G18INSDLAW - Janice Laws (Democratic Party)  \n",
    "G18INSLFOS - Donnie Foster (Libertarian Party)  \n",
    "\n",
    "G18SPIRWOO - Richard Woods (Republican Party)  \n",
    "G18SPIDTHO - Otha E. Thornton, Jr. (Democratic Party)  \n",
    "\n",
    "G18LABRBUT - Mark Butler (Republican Party)  \n",
    "G18LABDKEA - Richard Keatley (Democratic Party)  \n",
    "\n",
    "G18PSCREAT - Chuck Eaton (Republican Party)  \n",
    "G18PSCDMIL - Lindy Miller (Democratic Party)  \n",
    "G18PSCLGRA - Ryan Graham (Libertarian Party)  \n",
    "\n",
    "G18PSCRPRI - Tricia Pridemore (Republican Party)  \n",
    "G18PSCDRAN - Dawn A. Randolph (Democratic Party)  \n",
    "G18PSCLTUR - John Turpish (Libertarian Party)  \n",
    "\n",
    "R18SOSRRAF - Brad Raffensperger (Republican Party)  \n",
    "R18SOSDBAR - John Barrow (Democratic Party)  \n",
    "\n",
    "R18PSCREAT - Chuck Eaton (Republican Party)  \n",
    "R18PSCDMIL - Lindy Miller (Democratic Party)  "
   ]
  },
  {
   "cell_type": "code",
   "execution_count": null,
   "metadata": {},
   "outputs": [],
   "source": [
    "vest_ga_18 = gp.read_file(\"./raw-from-source/VEST/ga_2018/ga_2018.shp\")\n",
    "print(vest_ga_18.columns)\n",
    "\n",
    "vest_list = ['G18GOVRKEM', 'G18GOVDABR',\n",
    "       'G18GOVLMET', 'G18LTGRDUN', 'G18LTGDAMI', 'G18SOSRRAF', 'G18SOSDBAR',\n",
    "       'G18SOSLDUV', 'G18ATGRCAR', 'G18ATGDBAI', 'G18AGRRBLA', 'G18AGRDSWA',\n",
    "       'G18INSRBEC', 'G18INSDLAW', 'G18INSLFOS', 'G18SPIRWOO', 'G18SPIDTHO',\n",
    "       'G18LABRBUT', 'G18LABDKEA', 'G18PSCREAT', 'G18PSCDMIL', 'G18PSCLGRA',\n",
    "       'G18PSCRPRI', 'G18PSCDRAN', 'G18PSCLTUR']\n",
    "total = 0\n",
    "for i in vest_list:\n",
    "    total += sum(vest_ga_18[i])\n",
    "print(total)"
   ]
  },
  {
   "cell_type": "markdown",
   "metadata": {},
   "source": [
    "Georgia\n",
    "-------\n",
    "Election results from the Georgia Secretary of State Elections Division (https://sos.ga.gov/index.php/Elections/current_and_past_elections_results)\n",
    "Precinct shapefile primarily from the Georgia General Assembly Reapportionment Office (http://www.legis.ga.gov/Joint/reapportionment/en-US/default.aspx)"
   ]
  },
  {
   "cell_type": "markdown",
   "metadata": {},
   "source": [
    "2018 Election Results by Precinct\n",
    "\n",
    "Vote Column Label Format\n",
    "------------------------\n",
    "Columns reporting votes follow a standard label pattern. One example is:\n",
    "G16PREDCli\n",
    "The first character is G for a general election, P for a primary, S for a special, and R for a runoff.\n",
    "Characters 2 and 3 are the year of the election.\n",
    "Characters 4-6 represent the office type (see list below).\n",
    "Character 7 represents the party of the candidate.\n",
    "Characters 8-10 are the first three letters of the candidate's last name.\n",
    "\n",
    "Office Codes\n",
    "A## - Ballot amendment, where ## is an identifier\n",
    "AGR - Commissioner of Agriculture\n",
    "ATG - Attorney General\n",
    "AUD - Auditor\n",
    "CFO - Chief Financial Officer\n",
    "CHA - Council Chairman\n",
    "COC - Corporation Commissioner\n",
    "COM - Comptroller\n",
    "CON - State Controller\n",
    "COU - City Council Member\n",
    "CSC - Clerk of the Supreme Court\n",
    "DEL - Delegate to the U.S. House\n",
    "GOV - Governor\n",
    "H## - U.S. House, where ## is the district number. AL: at large.\n",
    "HOD - House of Delegates, accompanied by a HOD_DIST column indicating district number\n",
    "HOR - U.S. House, accompanied by a HOR_DIST column indicating district number\n",
    "INS - Insurance Commissioner\n",
    "LAB - Labor Commissioner\n",
    "LND - Commissioner of Public/State Lands\n",
    "LTG - Lieutenant Governor\n",
    "MAY - Mayor\n",
    "MNI - State Mine Inspector\n",
    "PSC - Public Service Commissioner\n",
    "PUC - Public Utilities Commissioner\n",
    "RGT - State University Regent\n",
    "SAC - State Appeals Court\n",
    "SBE - State Board of Education\n",
    "SOC - Secretary of Commonwealth\n",
    "SOS - Secretary of State\n",
    "SPI - Superintendent of Public Instruction\n",
    "SPL - Commissioner of School and Public Lands\n",
    "SSC - State Supreme Court\n",
    "TAX - Tax Commissioner\n",
    "TRE - Treasurer\n",
    "UBR - University Board of Regents/Trustees/Governors\n",
    "USS - U.S. Senate\n",
    "\n",
    "Party Codes\n",
    "D and R will always represent Democrat and Republican, respectively.\n",
    "See the state-specific notes for the remaining codes used in a particular file; note that third-party candidates may appear on the ballot under different party labels in different states."
   ]
  },
  {
   "cell_type": "markdown",
   "metadata": {},
   "source": [
    "Fulton County uses shapefiles and maps sourced from the county GIS program. Precincts CH01/CH04B, CP07A/CP07D, SS29A/SS29B, UC031/UC035 were merged to match how voters were registered in the 2018 voter file.  \n",
    "\n",
    "The following precincts were split by congressional district to match the 2018 election results: Avondale High, Glennwood, Wadsworth in Dekalb County; Cates D in Gwinnett County.  \n",
    "\n",
    "Cloudland and Teloga precincts in Chattooga County were split along the ridgeline that marks the boundary between them with the USGS Topographic Contour shapefile.  \n",
    "\n",
    "Three of the four VTDs in Chattahoochee County are comprised of Fort Benning. However, the county only has one polling location for all voters, including residents of Fort Benning that vote within the county. The four Chattahoochee County VTDs have therefore been merged in the shapefile.  \n",
    "\n",
    "G18GOVRKEM - Brian Kemp (Republican Party)  \n",
    "G18GOVDABR - Stacey Abrams (Democratic Party)  \n",
    "G18GOVLMET - Ted Metz (Libertarian Party)  \n",
    "\n",
    "G18LTGRDUN - Geoff Duncan (Republican Party)  \n",
    "G18LTGDAMI - Sarah Riggs Amico (Democratic Party)  \n",
    "\n",
    "G18SOSRRAF - Brad Raffensperger (Republican Party)  \n",
    "G18SOSDBAR - John Barrow (Democratic Party)  \n",
    "G18SOSLDUV - Smythe Duval (Libertarian Party)  \n",
    "\n",
    "G18ATGRCAR - Chris Carr (Republican Party)  \n",
    "G18ATGDBAI - Charlie Bailey (Democratic Party)  \n",
    "\n",
    "G18AGRRBLA - Gary Black (Republican Party)  \n",
    "G18AGRDSWA - Fred Swann (Democratic Party)  \n",
    "\n",
    "G18INSRBEC - Jim Beck (Republican Party)  \n",
    "G18INSDLAW - Janice Laws (Democratic Party)  \n",
    "G18INSLFOS - Donnie Foster (Libertarian Party)  \n",
    "\n",
    "G18SPIRWOO - Richard Woods (Republican Party)  \n",
    "G18SPIDTHO - Otha E. Thornton, Jr. (Democratic Party)  \n",
    "\n",
    "G18LABRBUT - Mark Butler (Republican Party)  \n",
    "G18LABDKEA - Richard Keatley (Democratic Party)  \n",
    "\n",
    "G18PSCREAT - Chuck Eaton (Republican Party)  \n",
    "G18PSCDMIL - Lindy Miller (Democratic Party)  \n",
    "G18PSCLGRA - Ryan Graham (Libertarian Party)  \n",
    "\n",
    "G18PSCRPRI - Tricia Pridemore (Republican Party)  \n",
    "G18PSCDRAN - Dawn A. Randolph (Democratic Party)  \n",
    "G18PSCLTUR - John Turpish (Libertarian Party)  \n",
    "\n",
    "R18SOSRRAF - Brad Raffensperger (Republican Party)  \n",
    "R18SOSDBAR - John Barrow (Democratic Party)  \n",
    "\n",
    "R18PSCREAT - Chuck Eaton (Republican Party)  \n",
    "R18PSCDMIL - Lindy Miller (Democratic Party)  "
   ]
  },
  {
   "cell_type": "code",
   "execution_count": null,
   "metadata": {},
   "outputs": [],
   "source": [
    "print(vest_ga_18.shape)\n",
    "print(vest_ga_18.crs)\n",
    "print(vest_ga_18[\"CTYSOSID\"].value_counts())\n",
    "print(vest_ga_18[vest_ga_18[\"CTYSOSID\"]==\"\"])"
   ]
  },
  {
   "cell_type": "code",
   "execution_count": null,
   "metadata": {},
   "outputs": [],
   "source": [
    "print(vest_ga_18.head())"
   ]
  },
  {
   "cell_type": "code",
   "execution_count": null,
   "metadata": {},
   "outputs": [],
   "source": [
    "precincts_ga = gp.read_file(\"./raw-from-source/GA_shapefile/vtd2018-shapefile/VTD2018-Shapefile.shp\")"
   ]
  },
  {
   "cell_type": "code",
   "execution_count": null,
   "metadata": {},
   "outputs": [],
   "source": [
    "print(precincts_ga.shape)\n",
    "print(precincts_ga.crs)\n",
    "print(precincts_ga[precincts_ga[\"CTYSOSID\"].isna()])"
   ]
  },
  {
   "cell_type": "code",
   "execution_count": null,
   "metadata": {},
   "outputs": [],
   "source": [
    "test = pd.merge(vest_ga_18,precincts_ga,on=\"CTYSOSID\",how=\"inner\",indicator=True)"
   ]
  },
  {
   "cell_type": "code",
   "execution_count": null,
   "metadata": {},
   "outputs": [],
   "source": [
    "print(test[\"_merge\"].value_counts())"
   ]
  },
  {
   "cell_type": "code",
   "execution_count": null,
   "metadata": {},
   "outputs": [],
   "source": [
    "print(test.shape)"
   ]
  },
  {
   "cell_type": "markdown",
   "metadata": {},
   "source": [
    "### Importing Election Results"
   ]
  },
  {
   "cell_type": "code",
   "execution_count": null,
   "metadata": {},
   "outputs": [],
   "source": [
    "try_1 = pd.read_csv(\"./Berien/detail.txt\",engine='python',error_bad_lines = False)\n",
    "#try_2 = pd.read_csv(\"./Berien/detail.xls\")\n",
    "#try_3 = pd.read_csv(\"./Berien/detail.xml\")"
   ]
  },
  {
   "cell_type": "code",
   "execution_count": null,
   "metadata": {},
   "outputs": [],
   "source": [
    "print(try_1.shape)"
   ]
  },
  {
   "cell_type": "code",
   "execution_count": null,
   "metadata": {},
   "outputs": [],
   "source": [
    "print(try_1.columns)"
   ]
  },
  {
   "cell_type": "code",
   "execution_count": null,
   "metadata": {},
   "outputs": [],
   "source": [
    "\n",
    "#print(xtree)\n",
    "#print(xroot)\n",
    "x2 = list(xroot)\n",
    "for child in x2:\n",
    "    print(child.text)\n",
    "    #print(child.tag, child.attrib)\n",
    "\n",
    "xroot.findall(\"/./contest/choice\")\n"
   ]
  },
  {
   "cell_type": "code",
   "execution_count": null,
   "metadata": {},
   "outputs": [],
   "source": [
    "print(df.shape)"
   ]
  },
  {
   "cell_type": "code",
   "execution_count": null,
   "metadata": {},
   "outputs": [],
   "source": [
    "print(df.columns)"
   ]
  },
  {
   "cell_type": "code",
   "execution_count": null,
   "metadata": {},
   "outputs": [],
   "source": [
    "print(df.head())"
   ]
  },
  {
   "cell_type": "code",
   "execution_count": null,
   "metadata": {},
   "outputs": [],
   "source": []
  },
  {
   "cell_type": "code",
   "execution_count": null,
   "metadata": {},
   "outputs": [],
   "source": [
    "https://results.enr.clarityelections.com/GA/Atkinson/91642/222414/reports/detailxml.zip\n",
    "https://results.enr.clarityelections.com/GA/Barrow/91647/222418/reports/detailxml.zip"
   ]
  },
  {
   "cell_type": "code",
   "execution_count": null,
   "metadata": {},
   "outputs": [],
   "source": [
    "from selenium import webdriver\n",
    "from selenium.common.exceptions import TimeoutException\n",
    "from selenium.webdriver.support.ui import WebDriverWait\n",
    "from selenium.webdriver.support import expected_conditions as EC\n",
    "from selenium.webdriver.common.by import By\n",
    "\n",
    "\n",
    "browser = webdriver.Safari() \n",
    "browser.get('https://results.enr.clarityelections.com/GA/Wilkinson/93870/Web02.222611/#/')\n",
    "timeout = 20\n",
    "try:\n",
    "    element_present = EC.presence_of_element_located((By.XPATH,\"//a[href*='detailxls']\"))\n",
    "    WebDriverWait(browser, timeout).until(element_present)\n",
    "    browser.find_element(By.XPATH,\"//a[href*='detailxls']\").click()\n",
    "except TimeoutException:\n",
    "    print(\"Timed out waiting for page to load\")\n",
    "#element = browser.find_element_by_id('your-element-id') \n",
    "#element = browser.find_elements_by_class_name(\"col-md-4 col-sm-6 col-xs-12 d-table v-top pbm ng-scope\")\n"
   ]
  },
  {
   "cell_type": "code",
   "execution_count": null,
   "metadata": {},
   "outputs": [],
   "source": [
    "exceptions = [\"Appling\"]\n",
    "first_num = 91642\n",
    "second_num = 222414\n",
    "for i in county_list:\n",
    "    if i not in exceptions:\n",
    "        url_string = \"https://results.enr.clarityelections.com/GA/\"+i+\"/\"+str(first_num)+\"/\"+str(second_num)+\"/reports/detailxml.zip\"\n",
    "        print(url_string)\n",
    "        download_string = \"./raw-from-source/Election_Results/\"+i+\".zip\"\n",
    "        urllib.request.urlretrieve(url_string, download_string)\n",
    "        first_num+=1\n",
    "        second_num+=1\n",
    "    else:\n",
    "        print(\"Not loading\")"
   ]
  },
  {
   "cell_type": "code",
   "execution_count": null,
   "metadata": {},
   "outputs": [],
   "source": [
    "for i in county_list:\n",
    "    check_string = i+\".zip\"\n",
    "    if check_string not in loaded_counties:\n",
    "        print(check_string)\n",
    "        \n",
    "#Manually load in Appling\n",
    "url_string = \"https://results.enr.clarityelections.com/GA/Appling/91641/221410/reports/detailxml.zip\"\n",
    "url = 'https://results.enr.clarityelections.com/GA/Baker/91644/222416/reports/detailxml.zip'\n",
    "download_string = \"./raw-from-source/Election_Results/\"+Appling+\".zip\"\n",
    "urllib.request.urlretrieve(url, download_string)"
   ]
  },
  {
   "cell_type": "code",
   "execution_count": null,
   "metadata": {},
   "outputs": [],
   "source": [
    "county_list = [\"Appling\",\"Atkinson\",\"Bacon\",\"Baker\",\"Baldwin\",\"Banks\",\n",
    "\"Barrow\",\"Bartow\",\"Ben_Hill\",\"Berrien\",\"Bibb\",\"Bleckley\",\"Brantley\",\"Brooks\",\"Bryan\",\"Bulloch\",\"Burke\",\n",
    "\"Butts\",\"Calhoun\",\"Camden\",\"Candler\",\"Carroll\",\"Catoosa\",\"Charlton\",\n",
    "\"Chatham\",\"Chattahoochee\",\"Chattooga\",\"Cherokee\",\n",
    "\"Clarke\",\"Clay\",\"Clayton\",\"Clinch\",\"Cobb\",\"Coffee\",\"Colquitt\",\"Columbia\",\n",
    "\"Cook\",\"Coweta\",\"Crawford\",\"Crisp\",\"Dade\",\"Dawson\",\"Decatur\",\"DeKalb\",\"Dodge\",\"Dooly\",\"Dougherty\",\"Douglas\",\n",
    "\"Early\",\"Echols\",\"Effingham\",\"Elbert\",\"Emanuel\",\"Evans\",\"Fannin\",\"Fayette\",\n",
    "\"Floyd\",\"Forsyth\",\"Franklin\",\"Fulton\",\"Gilmer\",\"Glascock\",\"Glynn\",\"Gordon\",\"Grady\",\"Greene\",\n",
    "\"Gwinnett\",\"Habersham\",\"Hall\",\"Hancock\",\"Haralson\",\"Harris\",\"Hart\",\"Heard\",\"Henry\",\"Houston\",\n",
    "\"Irwin\",\"Jackson\",\"Jasper\",\"Jeff_Davis\",\"Jefferson\",\"Jenkins\",\"Johnson\",\"Jones\",\"Lamar\",\"Lanier\",\"Laurens\",\"Lee\",\n",
    "\"Liberty\",\"Lincoln\",\"Long\",\"Lowndes\",\"Lumpkin\",\"Macon\",\"Madison\",\"Marion\",\"McDuffie\",\"McIntosh\",\n",
    "\"Meriwether\",\"Miller\",\"Mitchell\",\"Monroe\",\"Montgomery\",\"Morgan\",\"Murray\",\"Muscogee\",\"Newton\",\n",
    "\"Oconee\",\"Oglethorpe\",\"Paulding\",\"Peach\",\"Pickens\",\"Pierce\",\"Pike\",\"Polk\",\"Pulaski\",\"Putnam\",\"Quitman\",\"Rabun\",\"Randolph\",\n",
    "\"Richmond\",\"Rockdale\",\"Schley\",\"Screven\",\"Seminole\",\"Spalding\",\"Stephens\",\"Stewart\",\n",
    "\"Sumter\",\"Talbot\",\"Taliaferro\",\"Tattnall\",\"Taylor\",\"Telfair\",\"Terrell\",\"Thomas\",\"Tift\",\n",
    "\"Toombs\",\"Towns\",\"Treutlen\",\"Troup\",\"Turner\",\"Twiggs\",\"Union\",\"Upson\",\"Walker\",\"Walton\",\"Ware\",\"Warren\",\"Washington\",\"Wayne\",\"Webster\",\"Wheeler\",\"White\",\"Whitfield\",\"Wilcox\",\"Wilkes\",\"Wilkinson\",\"Worth\"]"
   ]
  }
 ],
 "metadata": {
  "kernelspec": {
   "display_name": "Python 3",
   "language": "python",
   "name": "python3"
  },
  "language_info": {
   "codemirror_mode": {
    "name": "ipython",
    "version": 3
   },
   "file_extension": ".py",
   "mimetype": "text/x-python",
   "name": "python",
   "nbconvert_exporter": "python",
   "pygments_lexer": "ipython3",
   "version": "3.8.3"
  }
 },
 "nbformat": 4,
 "nbformat_minor": 4
}
