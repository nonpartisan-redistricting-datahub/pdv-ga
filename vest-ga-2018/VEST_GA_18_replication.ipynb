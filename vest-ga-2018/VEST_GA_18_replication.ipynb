{
 "cells": [
  {
   "cell_type": "code",
   "execution_count": 2,
   "metadata": {},
   "outputs": [],
   "source": [
    "import maup # mggg's library for proration, see documentation here: https://github.com/mggg/maup\n",
    "import pandas as pd # standard python data library\n",
    "import geopandas as gp # the geo-version of pandas\n",
    "import numpy as np \n",
    "import os\n",
    "import fiona\n",
    "from statistics import mean, median\n",
    "from pandas import read_csv\n",
    "gp.io.file.fiona.drvsupport.supported_drivers['KML'] = 'rw' #To load KML files\n",
    "import string"
   ]
  },
  {
   "cell_type": "markdown",
   "metadata": {},
   "source": [
    "Georgia\n",
    "-------\n",
    "Election results from the Georgia Secretary of State Elections Division (https://sos.ga.gov/index.php/Elections/current_and_past_elections_results)\n",
    "Precinct shapefile primarily from the Georgia General Assembly Reapportionment Office (http://www.legis.ga.gov/Joint/reapportionment/en-US/default.aspx)"
   ]
  },
  {
   "cell_type": "markdown",
   "metadata": {},
   "source": [
    "2018 Election Results by Precinct\n",
    "\n",
    "Vote Column Label Format\n",
    "------------------------\n",
    "Columns reporting votes follow a standard label pattern. One example is:\n",
    "G16PREDCli\n",
    "The first character is G for a general election, P for a primary, S for a special, and R for a runoff.\n",
    "Characters 2 and 3 are the year of the election.\n",
    "Characters 4-6 represent the office type (see list below).\n",
    "Character 7 represents the party of the candidate.\n",
    "Characters 8-10 are the first three letters of the candidate's last name.\n",
    "\n",
    "Office Codes\n",
    "A## - Ballot amendment, where ## is an identifier\n",
    "AGR - Commissioner of Agriculture\n",
    "ATG - Attorney General\n",
    "AUD - Auditor\n",
    "CFO - Chief Financial Officer\n",
    "CHA - Council Chairman\n",
    "COC - Corporation Commissioner\n",
    "COM - Comptroller\n",
    "CON - State Controller\n",
    "COU - City Council Member\n",
    "CSC - Clerk of the Supreme Court\n",
    "DEL - Delegate to the U.S. House\n",
    "GOV - Governor\n",
    "H## - U.S. House, where ## is the district number. AL: at large.\n",
    "HOD - House of Delegates, accompanied by a HOD_DIST column indicating district number\n",
    "HOR - U.S. House, accompanied by a HOR_DIST column indicating district number\n",
    "INS - Insurance Commissioner\n",
    "LAB - Labor Commissioner\n",
    "LND - Commissioner of Public/State Lands\n",
    "LTG - Lieutenant Governor\n",
    "MAY - Mayor\n",
    "MNI - State Mine Inspector\n",
    "PSC - Public Service Commissioner\n",
    "PUC - Public Utilities Commissioner\n",
    "RGT - State University Regent\n",
    "SAC - State Appeals Court\n",
    "SBE - State Board of Education\n",
    "SOC - Secretary of Commonwealth\n",
    "SOS - Secretary of State\n",
    "SPI - Superintendent of Public Instruction\n",
    "SPL - Commissioner of School and Public Lands\n",
    "SSC - State Supreme Court\n",
    "TAX - Tax Commissioner\n",
    "TRE - Treasurer\n",
    "UBR - University Board of Regents/Trustees/Governors\n",
    "USS - U.S. Senate\n",
    "\n",
    "Party Codes\n",
    "D and R will always represent Democrat and Republican, respectively.\n",
    "See the state-specific notes for the remaining codes used in a particular file; note that third-party candidates may appear on the ballot under different party labels in different states."
   ]
  },
  {
   "cell_type": "markdown",
   "metadata": {},
   "source": [
    "Fulton County uses shapefiles and maps sourced from the county GIS program. Precincts CH01/CH04B, CP07A/CP07D, SS29A/SS29B, UC031/UC035 were merged to match how voters were registered in the 2018 voter file.  \n",
    "\n",
    "The following precincts were split by congressional district to match the 2018 election results: Avondale High, Glennwood, Wadsworth in Dekalb County; Cates D in Gwinnett County.  \n",
    "\n",
    "Cloudland and Teloga precincts in Chattooga County were split along the ridgeline that marks the boundary between them with the USGS Topographic Contour shapefile.  \n",
    "\n",
    "Three of the four VTDs in Chattahoochee County are comprised of Fort Benning. However, the county only has one polling location for all voters, including residents of Fort Benning that vote within the county. The four Chattahoochee County VTDs have therefore been merged in the shapefile.  \n",
    "\n",
    "G18GOVRKEM - Brian Kemp (Republican Party)  \n",
    "G18GOVDABR - Stacey Abrams (Democratic Party)  \n",
    "G18GOVLMET - Ted Metz (Libertarian Party)  \n",
    "\n",
    "G18LTGRDUN - Geoff Duncan (Republican Party)  \n",
    "G18LTGDAMI - Sarah Riggs Amico (Democratic Party)  \n",
    "\n",
    "G18SOSRRAF - Brad Raffensperger (Republican Party)  \n",
    "G18SOSDBAR - John Barrow (Democratic Party)  \n",
    "G18SOSLDUV - Smythe Duval (Libertarian Party)  \n",
    "\n",
    "G18ATGRCAR - Chris Carr (Republican Party)  \n",
    "G18ATGDBAI - Charlie Bailey (Democratic Party)  \n",
    "\n",
    "G18AGRRBLA - Gary Black (Republican Party)  \n",
    "G18AGRDSWA - Fred Swann (Democratic Party)  \n",
    "\n",
    "G18INSRBEC - Jim Beck (Republican Party)  \n",
    "G18INSDLAW - Janice Laws (Democratic Party)  \n",
    "G18INSLFOS - Donnie Foster (Libertarian Party)  \n",
    "\n",
    "G18SPIRWOO - Richard Woods (Republican Party)  \n",
    "G18SPIDTHO - Otha E. Thornton, Jr. (Democratic Party)  \n",
    "\n",
    "G18LABRBUT - Mark Butler (Republican Party)  \n",
    "G18LABDKEA - Richard Keatley (Democratic Party)  \n",
    "\n",
    "G18PSCREAT - Chuck Eaton (Republican Party)  \n",
    "G18PSCDMIL - Lindy Miller (Democratic Party)  \n",
    "G18PSCLGRA - Ryan Graham (Libertarian Party)  \n",
    "\n",
    "G18PSCRPRI - Tricia Pridemore (Republican Party)  \n",
    "G18PSCDRAN - Dawn A. Randolph (Democratic Party)  \n",
    "G18PSCLTUR - John Turpish (Libertarian Party)  \n",
    "\n",
    "R18SOSRRAF - Brad Raffensperger (Republican Party)  \n",
    "R18SOSDBAR - John Barrow (Democratic Party)  \n",
    "\n",
    "R18PSCREAT - Chuck Eaton (Republican Party)  \n",
    "R18PSCDMIL - Lindy Miller (Democratic Party)  "
   ]
  },
  {
   "cell_type": "code",
   "execution_count": 3,
   "metadata": {},
   "outputs": [],
   "source": [
    "vest_ga_18 = gp.read_file(\"./raw-from-source/VEST/ga_2018/ga_2018.shp\")"
   ]
  },
  {
   "cell_type": "code",
   "execution_count": 4,
   "metadata": {},
   "outputs": [
    {
     "name": "stdout",
     "output_type": "stream",
     "text": [
      "(2659, 38)\n",
      "epsg:4019\n",
      "135035     2\n",
      "089AI      2\n",
      "089WA      2\n",
      "089GA      2\n",
      "149ENO     1\n",
      "          ..\n",
      "0110007    1\n",
      "271HE      1\n",
      "213824     1\n",
      "1031A      1\n",
      "1473       1\n",
      "Name: CTYSOSID, Length: 2647, dtype: int64\n",
      "Empty GeoDataFrame\n",
      "Columns: [DISTRICT, CTYSOSID, PRECINCT_I, PRECINCT_N, CTYNAME, CTYNUMBER, CTYNUMBER2, FIPS2, G18GOVRKEM, G18GOVDABR, G18GOVLMET, G18LTGRDUN, G18LTGDAMI, G18SOSRRAF, G18SOSDBAR, G18SOSLDUV, G18ATGRCAR, G18ATGDBAI, G18AGRRBLA, G18AGRDSWA, G18INSRBEC, G18INSDLAW, G18INSLFOS, G18SPIRWOO, G18SPIDTHO, G18LABRBUT, G18LABDKEA, G18PSCREAT, G18PSCDMIL, G18PSCLGRA, G18PSCRPRI, G18PSCDRAN, G18PSCLTUR, R18SOSRRAF, R18SOSDBAR, R18PSCREAT, R18PSCDMIL, geometry]\n",
      "Index: []\n",
      "\n",
      "[0 rows x 38 columns]\n"
     ]
    }
   ],
   "source": [
    "print(vest_ga_18.shape)\n",
    "print(vest_ga_18.crs)\n",
    "print(vest_ga_18[\"CTYSOSID\"].value_counts())\n",
    "print(vest_ga_18[vest_ga_18[\"CTYSOSID\"]==\"\"])"
   ]
  },
  {
   "cell_type": "code",
   "execution_count": 5,
   "metadata": {},
   "outputs": [
    {
     "name": "stdout",
     "output_type": "stream",
     "text": [
      "  DISTRICT CTYSOSID PRECINCT_I PRECINCT_N CTYNAME CTYNUMBER CTYNUMBER2 FIPS2  \\\n",
      "0  121JC15  121JC15       JC15       JC15  FULTON        60        060   121   \n",
      "1  12108N1  12108N1       08N1       08N1  FULTON        60        060   121   \n",
      "2  12108N2  12108N2       08N2       08N2  FULTON        60        060   121   \n",
      "3  121JC14  121JC14       JC14       JC14  FULTON        60        060   121   \n",
      "4  121JC05  121JC05       JC05       JC05  FULTON        60        060   121   \n",
      "\n",
      "   G18GOVRKEM  G18GOVDABR  ...  G18PSCDMIL  G18PSCLGRA  G18PSCRPRI  \\\n",
      "0         193         309  ...         295          30         198   \n",
      "1         349         224  ...         198          14         368   \n",
      "2         399         510  ...         468          23         420   \n",
      "3         910         704  ...         643          36         924   \n",
      "4         592         763  ...         723          48         593   \n",
      "\n",
      "   G18PSCDRAN  G18PSCLTUR  R18SOSRRAF  R18SOSDBAR  R18PSCREAT  R18PSCDMIL  \\\n",
      "0         289          21          58          93          57          94   \n",
      "1         188          12         132          97         130          98   \n",
      "2         451          20         151         237         152         236   \n",
      "3         622          38         319         239         309         249   \n",
      "4         715          52         203         232         197         236   \n",
      "\n",
      "                                            geometry  \n",
      "0  MULTIPOLYGON (((-84.24444 34.04090, -84.24179 ...  \n",
      "1  POLYGON ((-84.41635 33.83995, -84.41666 33.839...  \n",
      "2  POLYGON ((-84.41635 33.83995, -84.41675 33.839...  \n",
      "3  POLYGON ((-84.24930 34.02987, -84.24918 34.029...  \n",
      "4  POLYGON ((-84.20322 34.06888, -84.19996 34.068...  \n",
      "\n",
      "[5 rows x 38 columns]\n"
     ]
    }
   ],
   "source": [
    "print(vest_ga_18.head())"
   ]
  },
  {
   "cell_type": "code",
   "execution_count": 6,
   "metadata": {},
   "outputs": [],
   "source": [
    "precincts_ga = gp.read_file(\"./raw-from-source/GA_shapefile/vtd2018-shapefile/VTD2018-Shapefile.shp\")"
   ]
  },
  {
   "cell_type": "code",
   "execution_count": 7,
   "metadata": {},
   "outputs": [
    {
     "name": "stdout",
     "output_type": "stream",
     "text": [
      "(2660, 12)\n",
      "epsg:4019\n",
      "           ID        AREA  DATA   DISTRICT CTYSOSID PRECINCT_I PRECINCT_N  \\\n",
      "34    2177992    0.012985  1499   121SC21A     None       None       None   \n",
      "36    2178031    0.005950  1474   121SC08A     None       None       None   \n",
      "38    2178079    0.007344  1473   121SC07B     None       None       None   \n",
      "65    2190402    0.012572  1504   121SC29B     None       None       None   \n",
      "66    2190421    0.274807  1556   121UC035     None       None       None   \n",
      "76    2190675    0.317995  1548   121UC01C     None       None       None   \n",
      "77    2190702    0.081066  1555   121UC033     None       None       None   \n",
      "191   2200224    0.151989  1385   121CP052     None       None       None   \n",
      "194   2200289    0.183224  2837   121CP07A     None       None       None   \n",
      "293    458811    0.017037  1377   121CH04B     None       None       None   \n",
      "1215   148044    7.941360   350  053FTBEN3     None       None       None   \n",
      "1216   148061    2.396154  2186  215FTBEN3     None       None       None   \n",
      "1315   234974   68.594480   349  053FTBEN2     None       None       None   \n",
      "1316   234994    1.927883  2185  215FTBEN2     None       None       None   \n",
      "1317   235013    1.484483  2187  215FTBEN4     None       None       None   \n",
      "1319   235051    6.303149  2184  215FTBEN1     None       None       None   \n",
      "1325   235164   66.618362  2188  215ZZZZZZ     None       None       None   \n",
      "1326   235186  111.554520   348  053FTBEN1     None       None       None   \n",
      "1449  1869699   16.899953   346   051XFTPU     None       None       None   \n",
      "1532  1807847  171.125396   149  029FTSTEW     None       None       None   \n",
      "2036  2564667    0.001403  1544   121SS29B     None       None       None   \n",
      "2040  2564743    0.352882  1456   121RW11B     None       None       None   \n",
      "2071  2577424    0.007597  1353   121AP01E     None       None       None   \n",
      "2101  2210410    0.106950  2783   121CP06B     None       None       None   \n",
      "2117  2210745    0.351046  1338    12112E2     None       None       None   \n",
      "2335  2755829    0.053483  1370   121AP12D     None       None       None   \n",
      "2403  2465086    0.039252  1229   12103P1B     None       None       None   \n",
      "2405  2465126    0.069037  1196     12101I     None       None       None   \n",
      "2452  2306900    0.032323  1286    12108F2     None       None       None   \n",
      "2591  2591595    0.034437  1465   121RW22B     None       None       None   \n",
      "\n",
      "     CTYNAME CTYNUMBER CTYNUMBER2 FIPS2  \\\n",
      "34      None      None       None  None   \n",
      "36      None      None       None  None   \n",
      "38      None      None       None  None   \n",
      "65      None      None       None  None   \n",
      "66      None      None       None  None   \n",
      "76      None      None       None  None   \n",
      "77      None      None       None  None   \n",
      "191     None      None       None  None   \n",
      "194     None      None       None  None   \n",
      "293     None      None       None  None   \n",
      "1215    None      None       None  None   \n",
      "1216    None      None       None  None   \n",
      "1315    None      None       None  None   \n",
      "1316    None      None       None  None   \n",
      "1317    None      None       None  None   \n",
      "1319    None      None       None  None   \n",
      "1325    None      None       None  None   \n",
      "1326    None      None       None  None   \n",
      "1449    None      None       None  None   \n",
      "1532    None      None       None  None   \n",
      "2036    None      None       None  None   \n",
      "2040    None      None       None  None   \n",
      "2071    None      None       None  None   \n",
      "2101    None      None       None  None   \n",
      "2117    None      None       None  None   \n",
      "2335    None      None       None  None   \n",
      "2403    None      None       None  None   \n",
      "2405    None      None       None  None   \n",
      "2452    None      None       None  None   \n",
      "2591    None      None       None  None   \n",
      "\n",
      "                                               geometry  \n",
      "34    POLYGON ((-84.55152 33.55713, -84.55163 33.557...  \n",
      "36    POLYGON ((-84.55687 33.60637, -84.55668 33.606...  \n",
      "38    POLYGON ((-84.58205 33.62432, -84.58228 33.624...  \n",
      "65    POLYGON ((-84.51593 33.58613, -84.51575 33.586...  \n",
      "66    MULTIPOLYGON (((-84.51096 33.58411, -84.51026 ...  \n",
      "76    MULTIPOLYGON (((-84.51588 33.59199, -84.50994 ...  \n",
      "77    MULTIPOLYGON (((-84.49907 33.59374, -84.49815 ...  \n",
      "191   POLYGON ((-84.47378 33.62078, -84.47454 33.620...  \n",
      "194   POLYGON ((-84.48674 33.64957, -84.48684 33.651...  \n",
      "293   POLYGON ((-84.66399 33.53585, -84.66394 33.535...  \n",
      "1215  POLYGON ((-84.95700 32.37390, -84.95705 32.373...  \n",
      "1216  POLYGON ((-84.93783 32.40666, -84.93765 32.406...  \n",
      "1315  POLYGON ((-84.89319 32.40072, -84.89307 32.400...  \n",
      "1316  POLYGON ((-84.93473 32.40556, -84.93448 32.405...  \n",
      "1317  POLYGON ((-84.91564 32.42299, -84.90945 32.422...  \n",
      "1319  POLYGON ((-84.89897 32.44577, -84.89896 32.449...  \n",
      "1325  POLYGON ((-84.89892 32.45201, -84.89890 32.452...  \n",
      "1326  POLYGON ((-84.79436 32.30960, -84.79455 32.309...  \n",
      "1449  POLYGON ((-80.96828 32.04402, -80.96876 32.044...  \n",
      "1532  MULTIPOLYGON (((-81.59263 32.10346, -81.59242 ...  \n",
      "2036  POLYGON ((-84.34772 33.96030, -84.34804 33.960...  \n",
      "2040  POLYGON ((-84.38333 33.99280, -84.38374 33.992...  \n",
      "2071  POLYGON ((-84.29921 34.03888, -84.29797 34.038...  \n",
      "2101  POLYGON ((-84.47392 33.62470, -84.47114 33.624...  \n",
      "2117  POLYGON ((-84.42853 33.65661, -84.42855 33.657...  \n",
      "2335  POLYGON ((-84.25856 34.09217, -84.25808 34.092...  \n",
      "2403  POLYGON ((-84.40704 33.77306, -84.40683 33.772...  \n",
      "2405  POLYGON ((-84.38521 33.74969, -84.38565 33.749...  \n",
      "2452  POLYGON ((-84.45549 33.82681, -84.45513 33.826...  \n",
      "2591  POLYGON ((-84.27680 33.99080, -84.27647 33.990...  \n"
     ]
    }
   ],
   "source": [
    "print(precincts_ga.shape)\n",
    "print(precincts_ga.crs)\n",
    "print(precincts_ga[precincts_ga[\"CTYSOSID\"].isna()])"
   ]
  },
  {
   "cell_type": "code",
   "execution_count": 8,
   "metadata": {},
   "outputs": [],
   "source": [
    "test = pd.merge(vest_ga_18,precincts_ga,on=\"CTYSOSID\",how=\"inner\",indicator=True)"
   ]
  },
  {
   "cell_type": "code",
   "execution_count": 9,
   "metadata": {},
   "outputs": [
    {
     "name": "stdout",
     "output_type": "stream",
     "text": [
      "both          2873\n",
      "right_only       0\n",
      "left_only        0\n",
      "Name: _merge, dtype: int64\n"
     ]
    }
   ],
   "source": [
    "print(test[\"_merge\"].value_counts())"
   ]
  },
  {
   "cell_type": "code",
   "execution_count": 10,
   "metadata": {},
   "outputs": [
    {
     "name": "stdout",
     "output_type": "stream",
     "text": [
      "(2873, 50)\n"
     ]
    }
   ],
   "source": [
    "print(test.shape)"
   ]
  },
  {
   "cell_type": "markdown",
   "metadata": {},
   "source": [
    "### Importing Election Results"
   ]
  },
  {
   "cell_type": "code",
   "execution_count": 37,
   "metadata": {},
   "outputs": [
    {
     "name": "stderr",
     "output_type": "stream",
     "text": [
      "Skipping line 82: Expected 1 fields in line 82, saw 2\n",
      "Skipping line 99: Expected 1 fields in line 99, saw 2\n",
      "Skipping line 108: Expected 1 fields in line 108, saw 2\n",
      "Skipping line 117: Expected 1 fields in line 117, saw 2\n",
      "Skipping line 126: Expected 1 fields in line 126, saw 2\n",
      "Skipping line 135: Expected 1 fields in line 135, saw 2\n",
      "Skipping line 144: Expected 1 fields in line 144, saw 2\n",
      "Skipping line 153: Expected 1 fields in line 153, saw 2\n",
      "Skipping line 162: Expected 1 fields in line 162, saw 2\n",
      "Skipping line 168: Expected 1 fields in line 168, saw 2\n",
      "Skipping line 176: Expected 1 fields in line 176, saw 2\n",
      "Skipping line 192: Expected 1 fields in line 192, saw 3\n",
      "Skipping line 201: Expected 1 fields in line 201, saw 3\n",
      "Skipping line 210: Expected 1 fields in line 210, saw 3\n"
     ]
    }
   ],
   "source": [
    "try_1 = pd.read_csv(\"./Berien/detail.txt\",engine='python',error_bad_lines = False)\n",
    "#try_2 = pd.read_csv(\"./Berien/detail.xls\")\n",
    "#try_3 = pd.read_csv(\"./Berien/detail.xml\")"
   ]
  },
  {
   "cell_type": "code",
   "execution_count": 27,
   "metadata": {},
   "outputs": [
    {
     "name": "stdout",
     "output_type": "stream",
     "text": [
      "(214, 1)\n"
     ]
    }
   ],
   "source": [
    "print(try_1.shape)"
   ]
  },
  {
   "cell_type": "code",
   "execution_count": 31,
   "metadata": {},
   "outputs": [
    {
     "name": "stdout",
     "output_type": "stream",
     "text": [
      "Int64Index([0], dtype='int64')\n"
     ]
    }
   ],
   "source": [
    "print(try_1.columns)"
   ]
  },
  {
   "cell_type": "code",
   "execution_count": 34,
   "metadata": {},
   "outputs": [
    {
     "ename": "KeyError",
     "evalue": "1",
     "output_type": "error",
     "traceback": [
      "\u001b[0;31m---------------------------------------------------------------------------\u001b[0m",
      "\u001b[0;31mKeyError\u001b[0m                                  Traceback (most recent call last)",
      "\u001b[0;32m/opt/anaconda3/lib/python3.8/site-packages/pandas/core/indexes/base.py\u001b[0m in \u001b[0;36mget_loc\u001b[0;34m(self, key, method, tolerance)\u001b[0m\n\u001b[1;32m   2645\u001b[0m             \u001b[0;32mtry\u001b[0m\u001b[0;34m:\u001b[0m\u001b[0;34m\u001b[0m\u001b[0;34m\u001b[0m\u001b[0m\n\u001b[0;32m-> 2646\u001b[0;31m                 \u001b[0;32mreturn\u001b[0m \u001b[0mself\u001b[0m\u001b[0;34m.\u001b[0m\u001b[0m_engine\u001b[0m\u001b[0;34m.\u001b[0m\u001b[0mget_loc\u001b[0m\u001b[0;34m(\u001b[0m\u001b[0mkey\u001b[0m\u001b[0;34m)\u001b[0m\u001b[0;34m\u001b[0m\u001b[0;34m\u001b[0m\u001b[0m\n\u001b[0m\u001b[1;32m   2647\u001b[0m             \u001b[0;32mexcept\u001b[0m \u001b[0mKeyError\u001b[0m\u001b[0;34m:\u001b[0m\u001b[0;34m\u001b[0m\u001b[0;34m\u001b[0m\u001b[0m\n",
      "\u001b[0;32mpandas/_libs/index.pyx\u001b[0m in \u001b[0;36mpandas._libs.index.IndexEngine.get_loc\u001b[0;34m()\u001b[0m\n",
      "\u001b[0;32mpandas/_libs/index.pyx\u001b[0m in \u001b[0;36mpandas._libs.index.IndexEngine.get_loc\u001b[0;34m()\u001b[0m\n",
      "\u001b[0;32mpandas/_libs/hashtable_class_helper.pxi\u001b[0m in \u001b[0;36mpandas._libs.hashtable.Int64HashTable.get_item\u001b[0;34m()\u001b[0m\n",
      "\u001b[0;32mpandas/_libs/hashtable_class_helper.pxi\u001b[0m in \u001b[0;36mpandas._libs.hashtable.Int64HashTable.get_item\u001b[0;34m()\u001b[0m\n",
      "\u001b[0;31mKeyError\u001b[0m: 1",
      "\nDuring handling of the above exception, another exception occurred:\n",
      "\u001b[0;31mKeyError\u001b[0m                                  Traceback (most recent call last)",
      "\u001b[0;32m<ipython-input-34-31a12f6973cc>\u001b[0m in \u001b[0;36m<module>\u001b[0;34m\u001b[0m\n\u001b[0;32m----> 1\u001b[0;31m \u001b[0mprint\u001b[0m\u001b[0;34m(\u001b[0m\u001b[0mtry_1\u001b[0m\u001b[0;34m.\u001b[0m\u001b[0mloc\u001b[0m\u001b[0;34m[\u001b[0m\u001b[0;36m0\u001b[0m\u001b[0;34m,\u001b[0m\u001b[0;36m1\u001b[0m\u001b[0;34m]\u001b[0m\u001b[0;34m)\u001b[0m\u001b[0;34m\u001b[0m\u001b[0;34m\u001b[0m\u001b[0m\n\u001b[0m",
      "\u001b[0;32m/opt/anaconda3/lib/python3.8/site-packages/pandas/core/indexing.py\u001b[0m in \u001b[0;36m__getitem__\u001b[0;34m(self, key)\u001b[0m\n\u001b[1;32m   1760\u001b[0m                 \u001b[0;32mexcept\u001b[0m \u001b[0;34m(\u001b[0m\u001b[0mKeyError\u001b[0m\u001b[0;34m,\u001b[0m \u001b[0mIndexError\u001b[0m\u001b[0;34m,\u001b[0m \u001b[0mAttributeError\u001b[0m\u001b[0;34m)\u001b[0m\u001b[0;34m:\u001b[0m\u001b[0;34m\u001b[0m\u001b[0;34m\u001b[0m\u001b[0m\n\u001b[1;32m   1761\u001b[0m                     \u001b[0;32mpass\u001b[0m\u001b[0;34m\u001b[0m\u001b[0;34m\u001b[0m\u001b[0m\n\u001b[0;32m-> 1762\u001b[0;31m             \u001b[0;32mreturn\u001b[0m \u001b[0mself\u001b[0m\u001b[0;34m.\u001b[0m\u001b[0m_getitem_tuple\u001b[0m\u001b[0;34m(\u001b[0m\u001b[0mkey\u001b[0m\u001b[0;34m)\u001b[0m\u001b[0;34m\u001b[0m\u001b[0;34m\u001b[0m\u001b[0m\n\u001b[0m\u001b[1;32m   1763\u001b[0m         \u001b[0;32melse\u001b[0m\u001b[0;34m:\u001b[0m\u001b[0;34m\u001b[0m\u001b[0;34m\u001b[0m\u001b[0m\n\u001b[1;32m   1764\u001b[0m             \u001b[0;31m# we by definition only have the 0th axis\u001b[0m\u001b[0;34m\u001b[0m\u001b[0;34m\u001b[0m\u001b[0;34m\u001b[0m\u001b[0m\n",
      "\u001b[0;32m/opt/anaconda3/lib/python3.8/site-packages/pandas/core/indexing.py\u001b[0m in \u001b[0;36m_getitem_tuple\u001b[0;34m(self, tup)\u001b[0m\n\u001b[1;32m   1270\u001b[0m     \u001b[0;32mdef\u001b[0m \u001b[0m_getitem_tuple\u001b[0m\u001b[0;34m(\u001b[0m\u001b[0mself\u001b[0m\u001b[0;34m,\u001b[0m \u001b[0mtup\u001b[0m\u001b[0;34m:\u001b[0m \u001b[0mTuple\u001b[0m\u001b[0;34m)\u001b[0m\u001b[0;34m:\u001b[0m\u001b[0;34m\u001b[0m\u001b[0;34m\u001b[0m\u001b[0m\n\u001b[1;32m   1271\u001b[0m         \u001b[0;32mtry\u001b[0m\u001b[0;34m:\u001b[0m\u001b[0;34m\u001b[0m\u001b[0;34m\u001b[0m\u001b[0m\n\u001b[0;32m-> 1272\u001b[0;31m             \u001b[0;32mreturn\u001b[0m \u001b[0mself\u001b[0m\u001b[0;34m.\u001b[0m\u001b[0m_getitem_lowerdim\u001b[0m\u001b[0;34m(\u001b[0m\u001b[0mtup\u001b[0m\u001b[0;34m)\u001b[0m\u001b[0;34m\u001b[0m\u001b[0;34m\u001b[0m\u001b[0m\n\u001b[0m\u001b[1;32m   1273\u001b[0m         \u001b[0;32mexcept\u001b[0m \u001b[0mIndexingError\u001b[0m\u001b[0;34m:\u001b[0m\u001b[0;34m\u001b[0m\u001b[0;34m\u001b[0m\u001b[0m\n\u001b[1;32m   1274\u001b[0m             \u001b[0;32mpass\u001b[0m\u001b[0;34m\u001b[0m\u001b[0;34m\u001b[0m\u001b[0m\n",
      "\u001b[0;32m/opt/anaconda3/lib/python3.8/site-packages/pandas/core/indexing.py\u001b[0m in \u001b[0;36m_getitem_lowerdim\u001b[0;34m(self, tup)\u001b[0m\n\u001b[1;32m   1419\u001b[0m                     \u001b[0;32mreturn\u001b[0m \u001b[0msection\u001b[0m\u001b[0;34m\u001b[0m\u001b[0;34m\u001b[0m\u001b[0m\n\u001b[1;32m   1420\u001b[0m                 \u001b[0;31m# This is an elided recursive call to iloc/loc/etc'\u001b[0m\u001b[0;34m\u001b[0m\u001b[0;34m\u001b[0m\u001b[0;34m\u001b[0m\u001b[0m\n\u001b[0;32m-> 1421\u001b[0;31m                 \u001b[0;32mreturn\u001b[0m \u001b[0mgetattr\u001b[0m\u001b[0;34m(\u001b[0m\u001b[0msection\u001b[0m\u001b[0;34m,\u001b[0m \u001b[0mself\u001b[0m\u001b[0;34m.\u001b[0m\u001b[0mname\u001b[0m\u001b[0;34m)\u001b[0m\u001b[0;34m[\u001b[0m\u001b[0mnew_key\u001b[0m\u001b[0;34m]\u001b[0m\u001b[0;34m\u001b[0m\u001b[0;34m\u001b[0m\u001b[0m\n\u001b[0m\u001b[1;32m   1422\u001b[0m \u001b[0;34m\u001b[0m\u001b[0m\n\u001b[1;32m   1423\u001b[0m         \u001b[0;32mraise\u001b[0m \u001b[0mIndexingError\u001b[0m\u001b[0;34m(\u001b[0m\u001b[0;34m\"not applicable\"\u001b[0m\u001b[0;34m)\u001b[0m\u001b[0;34m\u001b[0m\u001b[0;34m\u001b[0m\u001b[0m\n",
      "\u001b[0;32m/opt/anaconda3/lib/python3.8/site-packages/pandas/core/indexing.py\u001b[0m in \u001b[0;36m__getitem__\u001b[0;34m(self, key)\u001b[0m\n\u001b[1;32m   1766\u001b[0m \u001b[0;34m\u001b[0m\u001b[0m\n\u001b[1;32m   1767\u001b[0m             \u001b[0mmaybe_callable\u001b[0m \u001b[0;34m=\u001b[0m \u001b[0mcom\u001b[0m\u001b[0;34m.\u001b[0m\u001b[0mapply_if_callable\u001b[0m\u001b[0;34m(\u001b[0m\u001b[0mkey\u001b[0m\u001b[0;34m,\u001b[0m \u001b[0mself\u001b[0m\u001b[0;34m.\u001b[0m\u001b[0mobj\u001b[0m\u001b[0;34m)\u001b[0m\u001b[0;34m\u001b[0m\u001b[0;34m\u001b[0m\u001b[0m\n\u001b[0;32m-> 1768\u001b[0;31m             \u001b[0;32mreturn\u001b[0m \u001b[0mself\u001b[0m\u001b[0;34m.\u001b[0m\u001b[0m_getitem_axis\u001b[0m\u001b[0;34m(\u001b[0m\u001b[0mmaybe_callable\u001b[0m\u001b[0;34m,\u001b[0m \u001b[0maxis\u001b[0m\u001b[0;34m=\u001b[0m\u001b[0maxis\u001b[0m\u001b[0;34m)\u001b[0m\u001b[0;34m\u001b[0m\u001b[0;34m\u001b[0m\u001b[0m\n\u001b[0m\u001b[1;32m   1769\u001b[0m \u001b[0;34m\u001b[0m\u001b[0m\n\u001b[1;32m   1770\u001b[0m     \u001b[0;32mdef\u001b[0m \u001b[0m_is_scalar_access\u001b[0m\u001b[0;34m(\u001b[0m\u001b[0mself\u001b[0m\u001b[0;34m,\u001b[0m \u001b[0mkey\u001b[0m\u001b[0;34m:\u001b[0m \u001b[0mTuple\u001b[0m\u001b[0;34m)\u001b[0m\u001b[0;34m:\u001b[0m\u001b[0;34m\u001b[0m\u001b[0;34m\u001b[0m\u001b[0m\n",
      "\u001b[0;32m/opt/anaconda3/lib/python3.8/site-packages/pandas/core/indexing.py\u001b[0m in \u001b[0;36m_getitem_axis\u001b[0;34m(self, key, axis)\u001b[0m\n\u001b[1;32m   1963\u001b[0m         \u001b[0;31m# fall thru to straight lookup\u001b[0m\u001b[0;34m\u001b[0m\u001b[0;34m\u001b[0m\u001b[0;34m\u001b[0m\u001b[0m\n\u001b[1;32m   1964\u001b[0m         \u001b[0mself\u001b[0m\u001b[0;34m.\u001b[0m\u001b[0m_validate_key\u001b[0m\u001b[0;34m(\u001b[0m\u001b[0mkey\u001b[0m\u001b[0;34m,\u001b[0m \u001b[0maxis\u001b[0m\u001b[0;34m)\u001b[0m\u001b[0;34m\u001b[0m\u001b[0;34m\u001b[0m\u001b[0m\n\u001b[0;32m-> 1965\u001b[0;31m         \u001b[0;32mreturn\u001b[0m \u001b[0mself\u001b[0m\u001b[0;34m.\u001b[0m\u001b[0m_get_label\u001b[0m\u001b[0;34m(\u001b[0m\u001b[0mkey\u001b[0m\u001b[0;34m,\u001b[0m \u001b[0maxis\u001b[0m\u001b[0;34m=\u001b[0m\u001b[0maxis\u001b[0m\u001b[0;34m)\u001b[0m\u001b[0;34m\u001b[0m\u001b[0;34m\u001b[0m\u001b[0m\n\u001b[0m\u001b[1;32m   1966\u001b[0m \u001b[0;34m\u001b[0m\u001b[0m\n\u001b[1;32m   1967\u001b[0m \u001b[0;34m\u001b[0m\u001b[0m\n",
      "\u001b[0;32m/opt/anaconda3/lib/python3.8/site-packages/pandas/core/indexing.py\u001b[0m in \u001b[0;36m_get_label\u001b[0;34m(self, label, axis)\u001b[0m\n\u001b[1;32m    619\u001b[0m             \u001b[0;31m# but will fail when the index is not present\u001b[0m\u001b[0;34m\u001b[0m\u001b[0;34m\u001b[0m\u001b[0;34m\u001b[0m\u001b[0m\n\u001b[1;32m    620\u001b[0m             \u001b[0;31m# see GH5667\u001b[0m\u001b[0;34m\u001b[0m\u001b[0;34m\u001b[0m\u001b[0;34m\u001b[0m\u001b[0m\n\u001b[0;32m--> 621\u001b[0;31m             \u001b[0;32mreturn\u001b[0m \u001b[0mself\u001b[0m\u001b[0;34m.\u001b[0m\u001b[0mobj\u001b[0m\u001b[0;34m.\u001b[0m\u001b[0m_xs\u001b[0m\u001b[0;34m(\u001b[0m\u001b[0mlabel\u001b[0m\u001b[0;34m,\u001b[0m \u001b[0maxis\u001b[0m\u001b[0;34m=\u001b[0m\u001b[0maxis\u001b[0m\u001b[0;34m)\u001b[0m\u001b[0;34m\u001b[0m\u001b[0;34m\u001b[0m\u001b[0m\n\u001b[0m\u001b[1;32m    622\u001b[0m         \u001b[0;32melif\u001b[0m \u001b[0misinstance\u001b[0m\u001b[0;34m(\u001b[0m\u001b[0mlabel\u001b[0m\u001b[0;34m,\u001b[0m \u001b[0mtuple\u001b[0m\u001b[0;34m)\u001b[0m \u001b[0;32mand\u001b[0m \u001b[0misinstance\u001b[0m\u001b[0;34m(\u001b[0m\u001b[0mlabel\u001b[0m\u001b[0;34m[\u001b[0m\u001b[0maxis\u001b[0m\u001b[0;34m]\u001b[0m\u001b[0;34m,\u001b[0m \u001b[0mslice\u001b[0m\u001b[0;34m)\u001b[0m\u001b[0;34m:\u001b[0m\u001b[0;34m\u001b[0m\u001b[0;34m\u001b[0m\u001b[0m\n\u001b[1;32m    623\u001b[0m             \u001b[0;32mraise\u001b[0m \u001b[0mIndexingError\u001b[0m\u001b[0;34m(\u001b[0m\u001b[0;34m\"no slices here, handle elsewhere\"\u001b[0m\u001b[0;34m)\u001b[0m\u001b[0;34m\u001b[0m\u001b[0;34m\u001b[0m\u001b[0m\n",
      "\u001b[0;32m/opt/anaconda3/lib/python3.8/site-packages/pandas/core/generic.py\u001b[0m in \u001b[0;36mxs\u001b[0;34m(self, key, axis, level, drop_level)\u001b[0m\n\u001b[1;32m   3535\u001b[0m             \u001b[0mloc\u001b[0m\u001b[0;34m,\u001b[0m \u001b[0mnew_index\u001b[0m \u001b[0;34m=\u001b[0m \u001b[0mself\u001b[0m\u001b[0;34m.\u001b[0m\u001b[0mindex\u001b[0m\u001b[0;34m.\u001b[0m\u001b[0mget_loc_level\u001b[0m\u001b[0;34m(\u001b[0m\u001b[0mkey\u001b[0m\u001b[0;34m,\u001b[0m \u001b[0mdrop_level\u001b[0m\u001b[0;34m=\u001b[0m\u001b[0mdrop_level\u001b[0m\u001b[0;34m)\u001b[0m\u001b[0;34m\u001b[0m\u001b[0;34m\u001b[0m\u001b[0m\n\u001b[1;32m   3536\u001b[0m         \u001b[0;32melse\u001b[0m\u001b[0;34m:\u001b[0m\u001b[0;34m\u001b[0m\u001b[0;34m\u001b[0m\u001b[0m\n\u001b[0;32m-> 3537\u001b[0;31m             \u001b[0mloc\u001b[0m \u001b[0;34m=\u001b[0m \u001b[0mself\u001b[0m\u001b[0;34m.\u001b[0m\u001b[0mindex\u001b[0m\u001b[0;34m.\u001b[0m\u001b[0mget_loc\u001b[0m\u001b[0;34m(\u001b[0m\u001b[0mkey\u001b[0m\u001b[0;34m)\u001b[0m\u001b[0;34m\u001b[0m\u001b[0;34m\u001b[0m\u001b[0m\n\u001b[0m\u001b[1;32m   3538\u001b[0m \u001b[0;34m\u001b[0m\u001b[0m\n\u001b[1;32m   3539\u001b[0m             \u001b[0;32mif\u001b[0m \u001b[0misinstance\u001b[0m\u001b[0;34m(\u001b[0m\u001b[0mloc\u001b[0m\u001b[0;34m,\u001b[0m \u001b[0mnp\u001b[0m\u001b[0;34m.\u001b[0m\u001b[0mndarray\u001b[0m\u001b[0;34m)\u001b[0m\u001b[0;34m:\u001b[0m\u001b[0;34m\u001b[0m\u001b[0;34m\u001b[0m\u001b[0m\n",
      "\u001b[0;32m/opt/anaconda3/lib/python3.8/site-packages/pandas/core/indexes/base.py\u001b[0m in \u001b[0;36mget_loc\u001b[0;34m(self, key, method, tolerance)\u001b[0m\n\u001b[1;32m   2646\u001b[0m                 \u001b[0;32mreturn\u001b[0m \u001b[0mself\u001b[0m\u001b[0;34m.\u001b[0m\u001b[0m_engine\u001b[0m\u001b[0;34m.\u001b[0m\u001b[0mget_loc\u001b[0m\u001b[0;34m(\u001b[0m\u001b[0mkey\u001b[0m\u001b[0;34m)\u001b[0m\u001b[0;34m\u001b[0m\u001b[0;34m\u001b[0m\u001b[0m\n\u001b[1;32m   2647\u001b[0m             \u001b[0;32mexcept\u001b[0m \u001b[0mKeyError\u001b[0m\u001b[0;34m:\u001b[0m\u001b[0;34m\u001b[0m\u001b[0;34m\u001b[0m\u001b[0m\n\u001b[0;32m-> 2648\u001b[0;31m                 \u001b[0;32mreturn\u001b[0m \u001b[0mself\u001b[0m\u001b[0;34m.\u001b[0m\u001b[0m_engine\u001b[0m\u001b[0;34m.\u001b[0m\u001b[0mget_loc\u001b[0m\u001b[0;34m(\u001b[0m\u001b[0mself\u001b[0m\u001b[0;34m.\u001b[0m\u001b[0m_maybe_cast_indexer\u001b[0m\u001b[0;34m(\u001b[0m\u001b[0mkey\u001b[0m\u001b[0;34m)\u001b[0m\u001b[0;34m)\u001b[0m\u001b[0;34m\u001b[0m\u001b[0;34m\u001b[0m\u001b[0m\n\u001b[0m\u001b[1;32m   2649\u001b[0m         \u001b[0mindexer\u001b[0m \u001b[0;34m=\u001b[0m \u001b[0mself\u001b[0m\u001b[0;34m.\u001b[0m\u001b[0mget_indexer\u001b[0m\u001b[0;34m(\u001b[0m\u001b[0;34m[\u001b[0m\u001b[0mkey\u001b[0m\u001b[0;34m]\u001b[0m\u001b[0;34m,\u001b[0m \u001b[0mmethod\u001b[0m\u001b[0;34m=\u001b[0m\u001b[0mmethod\u001b[0m\u001b[0;34m,\u001b[0m \u001b[0mtolerance\u001b[0m\u001b[0;34m=\u001b[0m\u001b[0mtolerance\u001b[0m\u001b[0;34m)\u001b[0m\u001b[0;34m\u001b[0m\u001b[0;34m\u001b[0m\u001b[0m\n\u001b[1;32m   2650\u001b[0m         \u001b[0;32mif\u001b[0m \u001b[0mindexer\u001b[0m\u001b[0;34m.\u001b[0m\u001b[0mndim\u001b[0m \u001b[0;34m>\u001b[0m \u001b[0;36m1\u001b[0m \u001b[0;32mor\u001b[0m \u001b[0mindexer\u001b[0m\u001b[0;34m.\u001b[0m\u001b[0msize\u001b[0m \u001b[0;34m>\u001b[0m \u001b[0;36m1\u001b[0m\u001b[0;34m:\u001b[0m\u001b[0;34m\u001b[0m\u001b[0;34m\u001b[0m\u001b[0m\n",
      "\u001b[0;32mpandas/_libs/index.pyx\u001b[0m in \u001b[0;36mpandas._libs.index.IndexEngine.get_loc\u001b[0;34m()\u001b[0m\n",
      "\u001b[0;32mpandas/_libs/index.pyx\u001b[0m in \u001b[0;36mpandas._libs.index.IndexEngine.get_loc\u001b[0;34m()\u001b[0m\n",
      "\u001b[0;32mpandas/_libs/hashtable_class_helper.pxi\u001b[0m in \u001b[0;36mpandas._libs.hashtable.Int64HashTable.get_item\u001b[0;34m()\u001b[0m\n",
      "\u001b[0;32mpandas/_libs/hashtable_class_helper.pxi\u001b[0m in \u001b[0;36mpandas._libs.hashtable.Int64HashTable.get_item\u001b[0;34m()\u001b[0m\n",
      "\u001b[0;31mKeyError\u001b[0m: 1"
     ]
    }
   ],
   "source": []
  },
  {
   "cell_type": "code",
   "execution_count": null,
   "metadata": {},
   "outputs": [],
   "source": []
  }
 ],
 "metadata": {
  "kernelspec": {
   "display_name": "Python 3",
   "language": "python",
   "name": "python3"
  },
  "language_info": {
   "codemirror_mode": {
    "name": "ipython",
    "version": 3
   },
   "file_extension": ".py",
   "mimetype": "text/x-python",
   "name": "python",
   "nbconvert_exporter": "python",
   "pygments_lexer": "ipython3",
   "version": "3.8.3"
  }
 },
 "nbformat": 4,
 "nbformat_minor": 4
}
