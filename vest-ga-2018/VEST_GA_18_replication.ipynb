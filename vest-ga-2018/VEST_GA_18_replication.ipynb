{
 "cells": [
  {
   "cell_type": "code",
   "execution_count": 2,
   "metadata": {},
   "outputs": [],
   "source": [
    "import maup # mggg's library for proration, see documentation here: https://github.com/mggg/maup\n",
    "import pandas as pd # standard python data library\n",
    "import geopandas as gp # the geo-version of pandas\n",
    "import numpy as np \n",
    "import os\n",
    "import fiona\n",
    "from statistics import mean, median\n",
    "from pandas import read_csv\n",
    "gp.io.file.fiona.drvsupport.supported_drivers['KML'] = 'rw' #To load KML files\n",
    "import string"
   ]
  },
  {
   "cell_type": "markdown",
   "metadata": {},
   "source": [
    "Georgia\n",
    "-------\n",
    "Election results from the Georgia Secretary of State Elections Division (https://sos.ga.gov/index.php/Elections/current_and_past_elections_results)\n",
    "Precinct shapefile primarily from the Georgia General Assembly Reapportionment Office (http://www.legis.ga.gov/Joint/reapportionment/en-US/default.aspx)"
   ]
  },
  {
   "cell_type": "markdown",
   "metadata": {},
   "source": [
    "2018 Election Results by Precinct\n",
    "\n",
    "Vote Column Label Format\n",
    "------------------------\n",
    "Columns reporting votes follow a standard label pattern. One example is:\n",
    "G16PREDCli\n",
    "The first character is G for a general election, P for a primary, S for a special, and R for a runoff.\n",
    "Characters 2 and 3 are the year of the election.\n",
    "Characters 4-6 represent the office type (see list below).\n",
    "Character 7 represents the party of the candidate.\n",
    "Characters 8-10 are the first three letters of the candidate's last name.\n",
    "\n",
    "Office Codes\n",
    "A## - Ballot amendment, where ## is an identifier\n",
    "AGR - Commissioner of Agriculture\n",
    "ATG - Attorney General\n",
    "AUD - Auditor\n",
    "CFO - Chief Financial Officer\n",
    "CHA - Council Chairman\n",
    "COC - Corporation Commissioner\n",
    "COM - Comptroller\n",
    "CON - State Controller\n",
    "COU - City Council Member\n",
    "CSC - Clerk of the Supreme Court\n",
    "DEL - Delegate to the U.S. House\n",
    "GOV - Governor\n",
    "H## - U.S. House, where ## is the district number. AL: at large.\n",
    "HOD - House of Delegates, accompanied by a HOD_DIST column indicating district number\n",
    "HOR - U.S. House, accompanied by a HOR_DIST column indicating district number\n",
    "INS - Insurance Commissioner\n",
    "LAB - Labor Commissioner\n",
    "LND - Commissioner of Public/State Lands\n",
    "LTG - Lieutenant Governor\n",
    "MAY - Mayor\n",
    "MNI - State Mine Inspector\n",
    "PSC - Public Service Commissioner\n",
    "PUC - Public Utilities Commissioner\n",
    "RGT - State University Regent\n",
    "SAC - State Appeals Court\n",
    "SBE - State Board of Education\n",
    "SOC - Secretary of Commonwealth\n",
    "SOS - Secretary of State\n",
    "SPI - Superintendent of Public Instruction\n",
    "SPL - Commissioner of School and Public Lands\n",
    "SSC - State Supreme Court\n",
    "TAX - Tax Commissioner\n",
    "TRE - Treasurer\n",
    "UBR - University Board of Regents/Trustees/Governors\n",
    "USS - U.S. Senate\n",
    "\n",
    "Party Codes\n",
    "D and R will always represent Democrat and Republican, respectively.\n",
    "See the state-specific notes for the remaining codes used in a particular file; note that third-party candidates may appear on the ballot under different party labels in different states."
   ]
  },
  {
   "cell_type": "markdown",
   "metadata": {},
   "source": [
    "Fulton County uses shapefiles and maps sourced from the county GIS program. Precincts CH01/CH04B, CP07A/CP07D, SS29A/SS29B, UC031/UC035 were merged to match how voters were registered in the 2018 voter file.  \n",
    "\n",
    "The following precincts were split by congressional district to match the 2018 election results: Avondale High, Glennwood, Wadsworth in Dekalb County; Cates D in Gwinnett County.  \n",
    "\n",
    "Cloudland and Teloga precincts in Chattooga County were split along the ridgeline that marks the boundary between them with the USGS Topographic Contour shapefile.  \n",
    "\n",
    "Three of the four VTDs in Chattahoochee County are comprised of Fort Benning. However, the county only has one polling location for all voters, including residents of Fort Benning that vote within the county. The four Chattahoochee County VTDs have therefore been merged in the shapefile.  \n",
    "\n",
    "G18GOVRKEM - Brian Kemp (Republican Party)  \n",
    "G18GOVDABR - Stacey Abrams (Democratic Party)  \n",
    "G18GOVLMET - Ted Metz (Libertarian Party)  \n",
    "\n",
    "G18LTGRDUN - Geoff Duncan (Republican Party)  \n",
    "G18LTGDAMI - Sarah Riggs Amico (Democratic Party)  \n",
    "\n",
    "G18SOSRRAF - Brad Raffensperger (Republican Party)  \n",
    "G18SOSDBAR - John Barrow (Democratic Party)  \n",
    "G18SOSLDUV - Smythe Duval (Libertarian Party)  \n",
    "\n",
    "G18ATGRCAR - Chris Carr (Republican Party)  \n",
    "G18ATGDBAI - Charlie Bailey (Democratic Party)  \n",
    "\n",
    "G18AGRRBLA - Gary Black (Republican Party)  \n",
    "G18AGRDSWA - Fred Swann (Democratic Party)  \n",
    "\n",
    "G18INSRBEC - Jim Beck (Republican Party)  \n",
    "G18INSDLAW - Janice Laws (Democratic Party)  \n",
    "G18INSLFOS - Donnie Foster (Libertarian Party)  \n",
    "\n",
    "G18SPIRWOO - Richard Woods (Republican Party)  \n",
    "G18SPIDTHO - Otha E. Thornton, Jr. (Democratic Party)  \n",
    "\n",
    "G18LABRBUT - Mark Butler (Republican Party)  \n",
    "G18LABDKEA - Richard Keatley (Democratic Party)  \n",
    "\n",
    "G18PSCREAT - Chuck Eaton (Republican Party)  \n",
    "G18PSCDMIL - Lindy Miller (Democratic Party)  \n",
    "G18PSCLGRA - Ryan Graham (Libertarian Party)  \n",
    "\n",
    "G18PSCRPRI - Tricia Pridemore (Republican Party)  \n",
    "G18PSCDRAN - Dawn A. Randolph (Democratic Party)  \n",
    "G18PSCLTUR - John Turpish (Libertarian Party)  \n",
    "\n",
    "R18SOSRRAF - Brad Raffensperger (Republican Party)  \n",
    "R18SOSDBAR - John Barrow (Democratic Party)  \n",
    "\n",
    "R18PSCREAT - Chuck Eaton (Republican Party)  \n",
    "R18PSCDMIL - Lindy Miller (Democratic Party)  "
   ]
  },
  {
   "cell_type": "code",
   "execution_count": 11,
   "metadata": {},
   "outputs": [],
   "source": [
    "vest_ga_18 = gp.read_file(\"./raw-from-source/VEST/ga_2018/ga_2018.shp\")"
   ]
  },
  {
   "cell_type": "code",
   "execution_count": 28,
   "metadata": {},
   "outputs": [
    {
     "name": "stdout",
     "output_type": "stream",
     "text": [
      "(2659, 38)\n",
      "epsg:4019\n",
      "135035    2\n",
      "089AI     2\n",
      "089WA     2\n",
      "089GA     2\n",
      "245802    1\n",
      "         ..\n",
      "057041    1\n",
      "089MS     1\n",
      "135100    1\n",
      "161502    1\n",
      "13704     1\n",
      "Name: CTYSOSID, Length: 2647, dtype: int64\n",
      "Empty GeoDataFrame\n",
      "Columns: [DISTRICT, CTYSOSID, PRECINCT_I, PRECINCT_N, CTYNAME, CTYNUMBER, CTYNUMBER2, FIPS2, G18GOVRKEM, G18GOVDABR, G18GOVLMET, G18LTGRDUN, G18LTGDAMI, G18SOSRRAF, G18SOSDBAR, G18SOSLDUV, G18ATGRCAR, G18ATGDBAI, G18AGRRBLA, G18AGRDSWA, G18INSRBEC, G18INSDLAW, G18INSLFOS, G18SPIRWOO, G18SPIDTHO, G18LABRBUT, G18LABDKEA, G18PSCREAT, G18PSCDMIL, G18PSCLGRA, G18PSCRPRI, G18PSCDRAN, G18PSCLTUR, R18SOSRRAF, R18SOSDBAR, R18PSCREAT, R18PSCDMIL, geometry]\n",
      "Index: []\n",
      "\n",
      "[0 rows x 38 columns]\n"
     ]
    }
   ],
   "source": [
    "print(vest_ga_18.shape)\n",
    "print(vest_ga_18.crs)\n",
    "print(vest_ga_18[\"CTYSOSID\"].value_counts())\n",
    "print(vest_ga_18[vest_ga_18[\"CTYSOSID\"]==\"\"])"
   ]
  },
  {
   "cell_type": "code",
   "execution_count": 13,
   "metadata": {},
   "outputs": [
    {
     "name": "stdout",
     "output_type": "stream",
     "text": [
      "  DISTRICT CTYSOSID PRECINCT_I PRECINCT_N CTYNAME CTYNUMBER CTYNUMBER2 FIPS2  \\\n",
      "0  121JC15  121JC15       JC15       JC15  FULTON        60        060   121   \n",
      "1  12108N1  12108N1       08N1       08N1  FULTON        60        060   121   \n",
      "2  12108N2  12108N2       08N2       08N2  FULTON        60        060   121   \n",
      "3  121JC14  121JC14       JC14       JC14  FULTON        60        060   121   \n",
      "4  121JC05  121JC05       JC05       JC05  FULTON        60        060   121   \n",
      "\n",
      "   G18GOVRKEM  G18GOVDABR  ...  G18PSCDMIL  G18PSCLGRA  G18PSCRPRI  \\\n",
      "0         193         309  ...         295          30         198   \n",
      "1         349         224  ...         198          14         368   \n",
      "2         399         510  ...         468          23         420   \n",
      "3         910         704  ...         643          36         924   \n",
      "4         592         763  ...         723          48         593   \n",
      "\n",
      "   G18PSCDRAN  G18PSCLTUR  R18SOSRRAF  R18SOSDBAR  R18PSCREAT  R18PSCDMIL  \\\n",
      "0         289          21          58          93          57          94   \n",
      "1         188          12         132          97         130          98   \n",
      "2         451          20         151         237         152         236   \n",
      "3         622          38         319         239         309         249   \n",
      "4         715          52         203         232         197         236   \n",
      "\n",
      "                                            geometry  \n",
      "0  MULTIPOLYGON (((-84.24444 34.04090, -84.24179 ...  \n",
      "1  POLYGON ((-84.41635 33.83995, -84.41666 33.839...  \n",
      "2  POLYGON ((-84.41635 33.83995, -84.41675 33.839...  \n",
      "3  POLYGON ((-84.24930 34.02987, -84.24918 34.029...  \n",
      "4  POLYGON ((-84.20322 34.06888, -84.19996 34.068...  \n",
      "\n",
      "[5 rows x 38 columns]\n"
     ]
    }
   ],
   "source": [
    "print(vest_ga_18.head())"
   ]
  },
  {
   "cell_type": "code",
   "execution_count": 14,
   "metadata": {},
   "outputs": [],
   "source": [
    "precincts_ga = gp.read_file(\"./raw-from-source/GA_shapefile/vtd2018-shapefile/VTD2018-Shapefile.shp\")"
   ]
  },
  {
   "cell_type": "code",
   "execution_count": 22,
   "metadata": {},
   "outputs": [
    {
     "name": "stdout",
     "output_type": "stream",
     "text": [
      "(2660, 12)\n",
      "epsg:4019\n",
      "Empty GeoDataFrame\n",
      "Columns: [ID, AREA, DATA, DISTRICT, CTYSOSID, PRECINCT_I, PRECINCT_N, CTYNAME, CTYNUMBER, CTYNUMBER2, FIPS2, geometry]\n",
      "Index: []\n"
     ]
    }
   ],
   "source": [
    "print(precincts_ga.shape)\n",
    "print(precincts_ga.crs)\n",
    "print(precincts_ga[precincts_ga[\"CTYSOSID\"]==None])"
   ]
  },
  {
   "cell_type": "code",
   "execution_count": 24,
   "metadata": {},
   "outputs": [],
   "source": [
    "test = pd.merge(vest_ga_18,precincts_ga,on=\"CTYSOSID\",how=\"inner\",indicator=True)"
   ]
  },
  {
   "cell_type": "code",
   "execution_count": 25,
   "metadata": {},
   "outputs": [
    {
     "name": "stdout",
     "output_type": "stream",
     "text": [
      "both          2873\n",
      "right_only       0\n",
      "left_only        0\n",
      "Name: _merge, dtype: int64\n"
     ]
    }
   ],
   "source": [
    "print(test[\"_merge\"].value_counts())"
   ]
  },
  {
   "cell_type": "code",
   "execution_count": 23,
   "metadata": {},
   "outputs": [
    {
     "name": "stdout",
     "output_type": "stream",
     "text": [
      "(2893, 50)\n"
     ]
    }
   ],
   "source": [
    "print(test.shape)"
   ]
  },
  {
   "cell_type": "code",
   "execution_count": null,
   "metadata": {},
   "outputs": [],
   "source": []
  }
 ],
 "metadata": {
  "kernelspec": {
   "display_name": "Python 3",
   "language": "python",
   "name": "python3"
  },
  "language_info": {
   "codemirror_mode": {
    "name": "ipython",
    "version": 3
   },
   "file_extension": ".py",
   "mimetype": "text/x-python",
   "name": "python",
   "nbconvert_exporter": "python",
   "pygments_lexer": "ipython3",
   "version": "3.8.3"
  }
 },
 "nbformat": 4,
 "nbformat_minor": 4
}
