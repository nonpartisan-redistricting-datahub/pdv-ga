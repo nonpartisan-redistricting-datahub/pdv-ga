{
 "cells": [
  {
   "cell_type": "code",
   "execution_count": 1,
   "id": "9be4f4bd",
   "metadata": {},
   "outputs": [],
   "source": [
    "import pandas as pd # standard python data library\n",
    "import geopandas as gp # the geo-version of pandas\n",
    "import numpy as np \n",
    "import os\n",
    "import fiona\n",
    "from statistics import mean, median\n",
    "from pandas import read_csv\n",
    "gp.io.file.fiona.drvsupport.supported_drivers['KML'] = 'rw' #To load KML files\n",
    "import string\n",
    "import xml.etree.ElementTree as et"
   ]
  },
  {
   "cell_type": "markdown",
   "id": "8f823c2b",
   "metadata": {},
   "source": [
    "Georgia\n",
    "-------\n",
    "Election results from the Georgia Secretary of State Elections Division (https://sos.ga.gov/index.php/Elections/current_and_past_elections_results). Presidential recount results from the Georgia Secretary of State Elections Division via Reuters.\n",
    "\n",
    "Precinct shapefile primarily from the Georgia General Assembly Reapportionment Office (http://www.legis.ga.gov/Joint/reapportionment/en-US/default.aspx). The following counties instead use shapefiles from the U.S. Census Bureau's 2020 Redistricting Data Program Phase 2 release: Cobb, DeKalb, Gwinnett. Forsyth and Fulton use shapefiles sourced from the respective counties.\n",
    "\n",
    "Three of the four VTDs in Chattahoochee County are comprised of Fort Benning. However, the county only reports one polling location for all voters, including residents of Fort Benning that vote within the county. The four Chattahoochee County VTDs have therefore been merged in the shapefile.\n",
    "\n",
    "The following additional modifications reflect changes made prior to the 2020 general election:\n",
    "\n",
    "Barrow: Merge 2/15, 3/12, 4/14, 5/7, 6/10/13, 8/9, 11/16; Adjust new 2/13 boundary\n",
    "Bartow: Split Cassville/Hamilton Crossing\n",
    "Candler: Merge Candler/Metter as Jack Strickland Comm Center\n",
    "Chatham: Split 7-7/8-16, 7-12/7-16; Realign 7-06C/7-07C\n",
    "Chatooga: Split Cloudland/Teloga along ridgeline that marks boundary between them with the USGS Topographic Contour shapefile\n",
    "Clayton: Split Ellenswood 1/2, Jonesboro 1/17/19, Lovejoy 3/6/7, Morrow 3/11, 5/10, Oak 3/5 \n",
    "Cobb: Split Bells Ferry 3/4, Dobbins 1/2, Marietta 3A/3B, Smyrna 3A/3B\n",
    "Columbia: Split Bessie Thomas/2nd Mt Moriah, Harlem Branch/Harlem Senior Ctr; Merge Blanchard Park/MTZ Col FD;  Align multiple precincts with county maps\n",
    "Coweta: Merge Arts Centre/Jefferson Parkway as Newnan Centre\n",
    "Fulton: Merge CP07A/CP07D, CH01/CH04B, SS29A/SS29B, UC031/UC035\n",
    "DeKalb: Split Clarkston/Clarkston Comm Ctr; Realign Decatur/Oakhurst; Align precincts with Atlanta, Brookhaven, Decatur, Tucker city limits \n",
    "Gwinnett: Adjust Baycreek F/G, Berkshire J/M, Cates D/F, Garners C/B, Lawrenceville G/N, Pinckneyville S/T, Rockbridge A/G\n",
    "Lowndes: Split Northgate Assembly/Trinity, Jaycee/Mt Calvary/Northside/VSU\n",
    "Oconee: Merge Annex/City Hall; Align City Hall with Watkinsville city limits\n",
    "Paulding: Reorganize 12 precincts into 19 precincts as redrawn in 2019\n",
    "Randolph: Merge Carnegie/Cuthbert-Courthouse, 4th District/Fountain Bridge/Shellman\n",
    "Troup: Split Mountville between Gardner Newman/Hogansville/Rosemont; Align multiple precincts with county maps\n",
    "Towns: Merge Macedonia/Tate City\n",
    "\n",
    "Note that the leading zeros in the Paulding County precinct IDs are included in some election reports and omitted in others. The shapefile includes the leading zeros consistent with the voter file."
   ]
  },
  {
   "cell_type": "markdown",
   "id": "e5f280e3",
   "metadata": {},
   "source": [
    "### Load Non-Recount Election Data"
   ]
  },
  {
   "cell_type": "markdown",
   "id": "7a819f70",
   "metadata": {},
   "source": [
    "This data had to be downloaded county-by-county in XML format. The below code parses the XML and grabs the necessary data, adds it to a list, gives it the appropriate column names, and converts the data into a dataframe."
   ]
  },
  {
   "cell_type": "code",
   "execution_count": 82,
   "id": "4116fd60",
   "metadata": {},
   "outputs": [],
   "source": [
    "loaded_counties = os.listdir(\"./raw-from-source/Non_Recount_Results/\")\n",
    "z=[]\n",
    "for locale in loaded_counties:\n",
    "    if locale.endswith('.xml'):\n",
    "        file_string = \"./raw-from-source/Non_Recount_Results/\"+locale\n",
    "        xtree = et.parse(file_string)\n",
    "        xroot = xtree.getroot()\n",
    "        store_list = []\n",
    "        county_area = xroot.findall(\".//Region\")\n",
    "        #county = county_area.attrib.get('text')\n",
    "        for i in county_area:\n",
    "            county = i.text\n",
    "        contests = xroot.findall(\".//Contest\")\n",
    "        for i in contests:\n",
    "            contest = i.attrib.get('text')\n",
    "            lower = i.findall(\"./Choice\")\n",
    "            for j in lower:\n",
    "                choice = j.attrib.get('text')\n",
    "                lower_2 = j.findall(\"./VoteType\")\n",
    "                for k in lower_2:\n",
    "                    voting_method = k.attrib.get('name')\n",
    "                    lower_3 = k.findall(\"./Precinct\")\n",
    "                    for l in lower_3:\n",
    "                        precinct_name = l.attrib.get('name')\n",
    "                        num_votes = l.attrib.get('votes')\n",
    "                        z.append([county,contest,choice,voting_method,precinct_name,num_votes])\n",
    "dfcols = ['county','contest','choice','voting_method','precinct','num_votes']\n",
    "df_general = pd.DataFrame(z,columns=dfcols)"
   ]
  },
  {
   "cell_type": "markdown",
   "id": "73366f98",
   "metadata": {},
   "source": [
    "#### Take a look at the dataframe"
   ]
  },
  {
   "cell_type": "code",
   "execution_count": 84,
   "id": "e5b67f02",
   "metadata": {},
   "outputs": [
    {
     "name": "stdout",
     "output_type": "stream",
     "text": [
      "       county                                            contest  \\\n",
      "0       Crisp                     President of the United States   \n",
      "1       Crisp                     President of the United States   \n",
      "2       Crisp                     President of the United States   \n",
      "3       Crisp                     President of the United States   \n",
      "4       Crisp                     President of the United States   \n",
      "...       ...                                                ...   \n",
      "581519  Evans  Claxton Sunday Package Sales Referendum - Special   \n",
      "581520  Evans  Claxton Sunday Package Sales Referendum - Special   \n",
      "581521  Evans  Claxton Sunday Package Sales Referendum - Special   \n",
      "581522  Evans  Claxton Sunday Package Sales Referendum - Special   \n",
      "581523  Evans  Claxton Sunday Package Sales Referendum - Special   \n",
      "\n",
      "                           choice           voting_method  \\\n",
      "0       Donald J. Trump (I) (Rep)      Election Day Votes   \n",
      "1       Donald J. Trump (I) (Rep)      Election Day Votes   \n",
      "2       Donald J. Trump (I) (Rep)      Election Day Votes   \n",
      "3       Donald J. Trump (I) (Rep)      Election Day Votes   \n",
      "4       Donald J. Trump (I) (Rep)      Election Day Votes   \n",
      "...                           ...                     ...   \n",
      "581519                        YES       Provisional Votes   \n",
      "581520                         NO      Election Day Votes   \n",
      "581521                         NO   Advanced Voting Votes   \n",
      "581522                         NO  Absentee by Mail Votes   \n",
      "581523                         NO       Provisional Votes   \n",
      "\n",
      "                         precinct num_votes  \n",
      "0                           Arabi       163  \n",
      "1                           Coney       128  \n",
      "2                         Cordele       282  \n",
      "3                       Jamestown       209  \n",
      "4                        Listonia       195  \n",
      "...                           ...       ...  \n",
      "581519  Veterans Community Center         0  \n",
      "581520  Veterans Community Center        48  \n",
      "581521  Veterans Community Center       176  \n",
      "581522  Veterans Community Center        78  \n",
      "581523  Veterans Community Center         0  \n",
      "\n",
      "[581524 rows x 6 columns]\n"
     ]
    }
   ],
   "source": [
    "print(df_general)"
   ]
  },
  {
   "cell_type": "markdown",
   "id": "26084d50",
   "metadata": {},
   "source": [
    "### Load Recount Election Data"
   ]
  },
  {
   "cell_type": "markdown",
   "id": "a9c6bcaa",
   "metadata": {},
   "source": [
    "This data had to be downloaded county-by-county in XML format. The below code parses the XML and grabs the necessary data, adds it to a list, gives it the appropriate column names, and converts the data into a dataframe."
   ]
  },
  {
   "cell_type": "code",
   "execution_count": 3,
   "id": "3df66801",
   "metadata": {},
   "outputs": [],
   "source": [
    "loaded_counties = os.listdir(\"./raw-from-source/Recount_Results/\")\n",
    "z=[]\n",
    "for locale in loaded_counties:\n",
    "    if locale.endswith('.xml'):\n",
    "        file_string = \"./raw-from-source/Recount_Results/\"+locale\n",
    "        xtree = et.parse(file_string)\n",
    "        xroot = xtree.getroot()\n",
    "        store_list = []\n",
    "        county_area = xroot.findall(\".//Region\")\n",
    "        #county = county_area.attrib.get('text')\n",
    "        for i in county_area:\n",
    "            county = i.text\n",
    "        contests = xroot.findall(\".//Contest\")\n",
    "        for i in contests:\n",
    "            contest = i.attrib.get('text')\n",
    "            lower = i.findall(\"./Choice\")\n",
    "            for j in lower:\n",
    "                choice = j.attrib.get('text')\n",
    "                lower_2 = j.findall(\"./VoteType\")\n",
    "                for k in lower_2:\n",
    "                    voting_method = k.attrib.get('name')\n",
    "                    lower_3 = k.findall(\"./Precinct\")\n",
    "                    for l in lower_3:\n",
    "                        precinct_name = l.attrib.get('name')\n",
    "                        num_votes = l.attrib.get('votes')\n",
    "                        z.append([county,contest,choice,voting_method,precinct_name,num_votes])\n",
    "dfcols = ['county','contest','choice','voting_method','precinct','num_votes']\n",
    "df_recount = pd.DataFrame(z,columns=dfcols)"
   ]
  },
  {
   "cell_type": "markdown",
   "id": "577bfa93",
   "metadata": {},
   "source": [
    "#### Take a look at the dataframe"
   ]
  },
  {
   "cell_type": "code",
   "execution_count": 4,
   "id": "460c812f",
   "metadata": {},
   "outputs": [
    {
     "name": "stdout",
     "output_type": "stream",
     "text": [
      "       county                         contest                     choice  \\\n",
      "0      Oconee  President of the United States  Donald J. Trump (I) (Rep)   \n",
      "1      Oconee  President of the United States  Donald J. Trump (I) (Rep)   \n",
      "2      Oconee  President of the United States  Donald J. Trump (I) (Rep)   \n",
      "3      Oconee  President of the United States  Donald J. Trump (I) (Rep)   \n",
      "4      Oconee  President of the United States  Donald J. Trump (I) (Rep)   \n",
      "...       ...                             ...                        ...   \n",
      "31867  Thomas  President of the United States         Jo Jorgensen (Lib)   \n",
      "31868  Thomas  President of the United States         Jo Jorgensen (Lib)   \n",
      "31869  Thomas  President of the United States         Jo Jorgensen (Lib)   \n",
      "31870  Thomas  President of the United States         Jo Jorgensen (Lib)   \n",
      "31871  Thomas  President of the United States         Jo Jorgensen (Lib)   \n",
      "\n",
      "            voting_method         precinct num_votes  \n",
      "0      Election Day Votes        City Hall       244  \n",
      "1      Election Day Votes     Colham Ferry       182  \n",
      "2      Election Day Votes          Antioch       217  \n",
      "3      Election Day Votes       Farmington       144  \n",
      "4      Election Day Votes           Bishop       193  \n",
      "...                   ...              ...       ...  \n",
      "31867   Provisional Votes    Remington Esc         0  \n",
      "31868   Provisional Votes  Resource Center         0  \n",
      "31869   Provisional Votes            Scott         0  \n",
      "31870   Provisional Votes     Merrillville         0  \n",
      "31871   Provisional Votes           Patten         0  \n",
      "\n",
      "[31872 rows x 6 columns]\n",
      "['President of the United States'\n",
      " 'President of the United States/Presidentede los Estados Unidos']\n"
     ]
    }
   ],
   "source": [
    "print(df_recount)"
   ]
  },
  {
   "cell_type": "markdown",
   "id": "3175f894",
   "metadata": {},
   "source": [
    "### Clean Recount Data - Contest Names"
   ]
  },
  {
   "cell_type": "markdown",
   "id": "6a15b250",
   "metadata": {},
   "source": [
    "Note: Doing this before combining with the other data so the presidential vote tallies don't get mixed up"
   ]
  },
  {
   "cell_type": "code",
   "execution_count": 85,
   "id": "436e18f7",
   "metadata": {},
   "outputs": [
    {
     "name": "stdout",
     "output_type": "stream",
     "text": [
      "['President-Recount']\n"
     ]
    }
   ],
   "source": [
    "print(df_recount[\"contest\"].unique())\n",
    "\n",
    "contest_changes_dict = {'President of the United States':'President-Recount',\n",
    " 'President of the United States/Presidentede los Estados Unidos':'President-Recount'}\n",
    "\n",
    "df_recount[\"contest\"] = df_recount[\"contest\"].map(contest_changes_dict).fillna(df_recount[\"contest\"])"
   ]
  },
  {
   "cell_type": "markdown",
   "id": "b208a6d0",
   "metadata": {},
   "source": [
    "### Join Election Data Together"
   ]
  },
  {
   "cell_type": "code",
   "execution_count": 87,
   "id": "4067c918",
   "metadata": {},
   "outputs": [
    {
     "name": "stdout",
     "output_type": "stream",
     "text": [
      "159\n"
     ]
    }
   ],
   "source": [
    "ga_election = pd.concat([df_general,df_recount])\n",
    "\n",
    "#Sanity check that there are the right number of counties, should be 159\n",
    "print(len(ga_election[\"county\"].unique()))"
   ]
  },
  {
   "cell_type": "markdown",
   "id": "cac52c1c",
   "metadata": {},
   "source": [
    "### Filter Down to Relevant Races"
   ]
  },
  {
   "cell_type": "code",
   "execution_count": 7,
   "id": "bea32e9a",
   "metadata": {},
   "outputs": [],
   "source": [
    "office_list = ['President of the United States','US Senate (Perdue)','US Senate (Loeffler) - Special',\n",
    "              'Public Service Commission District 1','Public Service Commission District 4',\n",
    "              'US Senate (Loeffler) - Special Election','President-Recount','President of the United States/Presidentede los Estados Unidos',\n",
    "              'Public Service Commission Dist 1/Comisionado de Servicio Público Dist 1',\n",
    "       'Public Service Commission Dist 4/Comisionado de Servicio Público Dist 4','US Senate (Perdue)/Senado de los EE.UU. (Perdue)',\n",
    "       'US Senate (Loeffler) - Special/Senado de los EE.UU. (Loeffler) - Especial',]\n",
    "\n",
    "ga_election = ga_election[ga_election[\"contest\"].isin(office_list)]"
   ]
  },
  {
   "cell_type": "markdown",
   "id": "c4d50b84",
   "metadata": {},
   "source": [
    "### Clean Contest Names"
   ]
  },
  {
   "cell_type": "code",
   "execution_count": 8,
   "id": "7a891ff7",
   "metadata": {},
   "outputs": [
    {
     "name": "stdout",
     "output_type": "stream",
     "text": [
      "['President of the United States' 'US Senate (Perdue)'\n",
      " 'US Senate (Loeffler) - Special' 'Public Service Commission District 1'\n",
      " 'Public Service Commission District 4'\n",
      " 'US Senate (Loeffler) - Special Election'\n",
      " 'President of the United States/Presidentede los Estados Unidos'\n",
      " 'US Senate (Perdue)/Senado de los EE.UU. (Perdue)'\n",
      " 'US Senate (Loeffler) - Special/Senado de los EE.UU. (Loeffler) - Especial'\n",
      " 'Public Service Commission Dist 1/Comisionado de Servicio Público Dist 1'\n",
      " 'Public Service Commission Dist 4/Comisionado de Servicio Público Dist 4'\n",
      " 'President-Recount']\n"
     ]
    }
   ],
   "source": [
    "print(ga_election[\"contest\"].unique())"
   ]
  },
  {
   "cell_type": "code",
   "execution_count": 9,
   "id": "387927d2",
   "metadata": {},
   "outputs": [
    {
     "name": "stdout",
     "output_type": "stream",
     "text": [
      "['President of the United States' 'US Senate (Perdue)'\n",
      " 'US Senate (Loeffler) - Special' 'Public Service Commission District 1'\n",
      " 'Public Service Commission District 4' 'President-Recount']\n"
     ]
    }
   ],
   "source": [
    "contest_changes_dict = {'US Senate (Loeffler) - Special Election':'US Senate (Loeffler) - Special',\n",
    "                        'US Senate (Loeffler) - Special/Senado de los EE.UU. (Loeffler) - Especial':'US Senate (Loeffler) - Special',\n",
    "                        'US Senate (Perdue)/Senado de los EE.UU. (Perdue)':'US Senate (Perdue)',\n",
    "                        'President of the United States/Presidentede los Estados Unidos':'President of the United States',\n",
    "                        'Public Service Commission Dist 1/Comisionado de Servicio Público Dist 1':'Public Service Commission District 1',\n",
    "                        'Public Service Commission Dist 4/Comisionado de Servicio Público Dist 4':'Public Service Commission District 4'}\n",
    "\n",
    "ga_election[\"contest\"] = ga_election[\"contest\"].map(contest_changes_dict).fillna(ga_election[\"contest\"])"
   ]
  },
  {
   "cell_type": "markdown",
   "id": "0c051a00",
   "metadata": {},
   "source": [
    "#### Check remaining contests"
   ]
  },
  {
   "cell_type": "code",
   "execution_count": 88,
   "id": "d009f1a5",
   "metadata": {},
   "outputs": [
    {
     "name": "stdout",
     "output_type": "stream",
     "text": [
      "['President of the United States' 'US Senate (Perdue)'\n",
      " 'US Senate (Loeffler) - Special' 'Public Service Commission District 1'\n",
      " 'Public Service Commission District 4' 'US House District 2'\n",
      " 'State Senate District 13' 'State House District 148' 'Probate Judge'\n",
      " 'Clerk of Superior Court' 'Sheriff' 'Tax Commissioner' 'Coroner'\n",
      " 'Chief Magistrate' 'County Commission Dist 1 Post 2'\n",
      " 'County Commission Dist 2 Post 1' 'Board of Education At Large - Cordele'\n",
      " 'Board of Education At Large - West Crisp'\n",
      " 'Soil and Water - Middle South Georgia' 'Constitutional Amendment #1'\n",
      " 'Constitutional Amendment #2' 'Statewide Referendum A'\n",
      " 'US House District 1' 'State Senate District 1'\n",
      " 'State House District 160' 'State House District 164'\n",
      " 'State House District 166' 'Solicitor General' 'County Commission Chair'\n",
      " 'County Commission District 1' 'County Commission District 3'\n",
      " 'Board of Education Vice Chair' 'Board of Education District 2'\n",
      " 'Board of Education District 3' 'US House District 8'\n",
      " 'State Senate District 8' 'State House District 175'\n",
      " 'District Attorney - Southern' 'Surveyor' 'County Commission District 4'\n",
      " 'County Commission District 5' 'Board of Education At Large'\n",
      " 'Board of Education District 1' 'Board of Education District 5'\n",
      " 'Constitutional Amendment #1 ' 'Brooks County SPLOST - Special'\n",
      " 'State Senate District 7' 'State House District 155'\n",
      " 'County Commissioner At Large' 'County Commission District 2 Post 1'\n",
      " 'County Commission District 3 Post 2'\n",
      " 'US Senate (Loeffler) - Special Election' 'US House District 10'\n",
      " 'State Senate District 46' 'State House District 117'\n",
      " 'State House District 119' 'District Attorney - Western - Special'\n",
      " 'County Commission Post 1' 'County Commission Post 3 - Special'\n",
      " 'County Commission Post 4' 'Board of Education Chair Post 1'\n",
      " 'Board of Education Post 4' 'Board of Education Post 5'\n",
      " 'Watkinsville City Council Post 3' 'Watkinsville City Council Post 4'\n",
      " 'Watkinsville City Council Post 5'\n",
      " 'SPLOST and General Obligation Debt - Special' 'US House District 12'\n",
      " 'State Senate District 22' 'State Senate District 23'\n",
      " 'State Senate District 24' 'State House District 123'\n",
      " 'State House District 124' 'State House District 125'\n",
      " 'State House District 126' 'State House District 127'\n",
      " 'District Attorney - Augusta' 'Presiding Judge Civil-Magistrate Crt'\n",
      " 'Solicitor-General' 'Board of Education District 4'\n",
      " 'Board of Education District 8' 'Board of Education District 10'\n",
      " 'Blythe City Councilmember - Special'\n",
      " 'Board of Education SPLOST - Special' 'State Senate District 11'\n",
      " 'State House District 172' 'State House District 173'\n",
      " 'County Commission District 2' 'County Commission District 6'\n",
      " 'County Commission District 8' 'Board of Education District 6'\n",
      " 'State House District 170' 'District Attorney - Tifton'\n",
      " 'County Commission District 7' 'Board of Education District 7'\n",
      " 'State Senate District 12' 'State House District 151'\n",
      " 'Soil and Water - Lower Chattahoochee River'\n",
      " 'County Police Force Referendum - Special' 'State House District 120'\n",
      " 'District Attorney - Northern' 'State House District 153'\n",
      " 'State House District 154' 'District Attorney - Dougherty'\n",
      " 'Probate Judge - Special' 'Soil and Water - Flint River'\n",
      " 'Dougherty County School Board ESPLOST - Special' 'US House District 9'\n",
      " 'State House District 33' 'State Senate District 4'\n",
      " 'State House District 158' 'District Attorney - Middle'\n",
      " 'State House District 176' 'District Attorney - Alapaha'\n",
      " 'Soil and Water - Satilla River' 'State House District 159'\n",
      " 'State House District 161' 'District Attorney - Ogeechee'\n",
      " 'Soil and Water - Ogeechee River' 'One Percent TSPLOST - Special'\n",
      " 'Soil and Water - Brier Creek' 'County Commission District 3 - Special'\n",
      " 'Dawson Mayor' 'Dawson City Council Ward 1' 'Dawson City Council Ward 3'\n",
      " 'Dawson City Council Ward 4' 'State Senate District 15'\n",
      " 'State House District 138' 'District Attorney - Southwestern - Special'\n",
      " 'State Senate District 19' 'State House District 149'\n",
      " 'District Attorney - Oconee' 'Soil and Water - Altamaha'\n",
      " 'US House District 3' 'US House District 13' 'State Senate District 16'\n",
      " 'State Senate District 34' 'State House District 63'\n",
      " 'State House District 64' 'State House District 71'\n",
      " 'State House District 72' 'State House District 73'\n",
      " 'County Commission District 5 (At Large)'\n",
      " 'Board of Education District 5 (At Large)'\n",
      " 'Brooks Council Member Post 1 - Special'\n",
      " 'Fayette Co School District Homestead Exemption - Special'\n",
      " 'State Senate District 3' 'State House District 178'\n",
      " 'County Commission Post 2' 'County Commission Post 3'\n",
      " 'US House District 14' 'State Senate District 53'\n",
      " 'State House District 1' 'District Attorney - Lookout Mountain'\n",
      " 'Board of Education District 5, At Large' 'Soil and Water - Coosa River'\n",
      " 'State Senate District 18' 'State Senate District 25'\n",
      " 'State Senate District 26' 'State House District 140'\n",
      " 'State House District 141' 'State House District 142'\n",
      " 'State House District 143' 'State House District 144'\n",
      " 'District Attorney - Macon' 'Solicitor of State Court'\n",
      " 'District Attorney - South Georgia' 'County Commission Precinct 2'\n",
      " 'County Commission Precinct 4' 'Board of Education Precinct 1'\n",
      " 'Board of Education Precinct 2' 'Board of Education Precinct 3'\n",
      " 'Board of Education Precinct 4' 'Board of Education Precinct 5'\n",
      " 'Edison City Council Post 1 - Special' 'State House District 137'\n",
      " 'District Attorney - Chattahoochee' 'State Senate District 50'\n",
      " 'State House District 28' 'District Attorney - Mountain'\n",
      " 'Board of Education District 1 Post 1'\n",
      " 'Board of Education District 3 Post 2' 'State House District 152'\n",
      " 'District Attorney - Toombs'\n",
      " 'Crawfordville City Council Post 4 - Special' 'State Senate District 52'\n",
      " 'State House District 12' 'State House District 13'\n",
      " 'State House District 14' 'District Attorney - Rome'\n",
      " 'State House District 169' 'State House District 145'\n",
      " 'District Attorney - Ocmulgee' 'State House District 110'\n",
      " 'State House District 129' 'District Attorney - Towaliga'\n",
      " 'State House District 174' 'US House District 4'\n",
      " 'State Senate District 17' 'State Senate District 43'\n",
      " 'State House District 90' 'State House District 91'\n",
      " 'State House District 92' 'State House District 109'\n",
      " 'State House District 113' 'State House District 114'\n",
      " 'State House District 139' 'State House District 8'\n",
      " 'Board of Education Post 2' 'Soil and Water - Blue Ridge Mountain'\n",
      " 'State House District 157' 'Clerk of Courts'\n",
      " 'Special Local Option Sales Tax (SPLOST) - Special'\n",
      " 'State Senate District 20' 'Sole County Commissioner'\n",
      " 'State Senate District 51' 'State House District 7'\n",
      " 'District Attorney - Appalachian' 'Board of Education - Bramlett'\n",
      " 'Board of Education - Deweese' 'Board of Education - Galloway'\n",
      " 'Probate-Magistrate Judge' 'County Commission Anna District'\n",
      " 'County Commission Elmodel District'\n",
      " 'County Commission Hoggards Mill District'\n",
      " 'County Commission Milford District' 'County Commission Newton District'\n",
      " 'Board of Education Anna District' 'Board of Education Elmodel District'\n",
      " 'Board of Education Hoggards Mill District'\n",
      " 'Board of Education Milford District'\n",
      " 'Board of Education Newton District' 'State Senate District 54'\n",
      " 'State House District 5' 'State House District 11'\n",
      " 'District Attorney - Cherokee' 'Board of Education Post 6'\n",
      " 'State House District 167' 'Soil and Water - Coastal'\n",
      " '1% Educational Sales Tax - Special' 'State House District 128'\n",
      " 'SPLOST - Special' 'Ashburn City Council' 'State House District 131'\n",
      " 'Soil and Water - Towaliga' '1% Sales Tax for Education - Special'\n",
      " 'Soil and Water - Lincoln County'\n",
      " 'Lincolnton City Council Member Post 5 - Special'\n",
      " 'Special Purpose Local Option Sales Tax-SPLOST - Special'\n",
      " 'State Senate District 28' 'State Senate District 30'\n",
      " 'State House District 18' 'State House District 68'\n",
      " 'State House District 69' 'State House District 70'\n",
      " 'District Attorney - Coweta'\n",
      " 'Bremen General Obligation School Bonds - Special' 'Probate Judge '\n",
      " 'Coroner ' 'County Commissioner' 'Board of Education District 1 '\n",
      " 'BOE Amendment to Constitution - Special' 'County Chairperson'\n",
      " 'County Commission Gibson District' 'County Commission Mill District'\n",
      " 'County Commission Mitchell/Edgehill District'\n",
      " '2020 Special Local Option Sales Tax (SPLOST) - Special'\n",
      " 'State House District 180' 'Folkston City Council At Large - Special'\n",
      " 'State House District 132' 'Soil and Water - West Georgia'\n",
      " 'Board of Education Chair' 'Lakeland City Council Post 1 - Special'\n",
      " 'State House District 150' 'District Attorney - Dublin'\n",
      " 'State Senate District 29' 'State House District 133'\n",
      " 'Amend School District Homestead Exemption Ad Valorem Taxes - Special'\n",
      " 'Soil and Water - Ohoopee River' 'Alamo City Council - Special'\n",
      " 'State House District 168' 'Midway City Council - Special'\n",
      " 'Expansion of Level 1 Freeport Tax Exemption - Special'\n",
      " 'Sunday Sales of Alcoholic Beverages By the Drink - Special'\n",
      " 'State House District 156' 'District Attorney - Brunswick'\n",
      " 'State House District 2' 'State House District 3'\n",
      " 'Soil and Water - Catoosa' 'State House District 171'\n",
      " 'US House District 5' 'US House District 6' 'US House District 11'\n",
      " 'State Senate District 6' 'State Senate District 21'\n",
      " 'State Senate District 32' 'State Senate District 35'\n",
      " 'State Senate District 36' 'State Senate District 38'\n",
      " 'State Senate District 39 - Special Democratic Primary'\n",
      " 'State Senate District 40' 'State Senate District 48'\n",
      " 'State Senate District 56' 'State House District 22'\n",
      " 'State House District 25' 'State House District 40'\n",
      " 'State House District 45' 'State House District 47'\n",
      " 'State House District 48' 'State House District 49'\n",
      " 'State House District 50' 'State House District 51'\n",
      " 'State House District 52' 'State House District 53'\n",
      " 'State House District 54' 'State House District 55'\n",
      " 'State House District 56' 'State House District 57'\n",
      " 'State House District 58' 'State House District 59'\n",
      " 'State House District 60' 'State House District 61'\n",
      " 'State House District 62' 'State House District 65'\n",
      " 'State House District 80' 'State House District 95'\n",
      " 'District Attorney - Atlanta' 'Soil and Water - Fulton County'\n",
      " 'Atlanta Homestead Exemption - Special'\n",
      " 'East Point Sunday Alcohol Sales - Special'\n",
      " 'Union City Homestead Exemption - Special' 'State House District 10'\n",
      " 'County Commissioner District 1 ' 'County Commissioner District 4 '\n",
      " 'County Commissioner District 5 ' 'Board of Education District 2 '\n",
      " 'Demorest City Council - Special' 'State House District 115'\n",
      " 'District Attorney - Alcovy' 'Good Hope Mayor'\n",
      " 'Good Hope City Council Post 1' 'Good Hope City Council Post 2'\n",
      " 'Good Hope City Council Post 3' 'Good Hope City Council Post 4'\n",
      " 'Good Hope City Council Post 5'\n",
      " 'Monroe Councilmember District 6 - Special' 'TSPLOST - Special'\n",
      " 'State House District 121' 'County Commission District 2 Seat A'\n",
      " 'County Commission District 2 Seat B' 'Soil and Water - McDuffie County'\n",
      " 'McDuffie County SPLOST - Special'\n",
      " 'McDuffie County Sunday Sales of Alcohol by the Drink - Special'\n",
      " 'Thomson Sunday Sales of Alcohol by the Drink - Special'\n",
      " 'Soil and Water - Pine Mountain'\n",
      " 'Special One Percent Sales and Use Tax - Special'\n",
      " 'Sunday Packaged Sales Referendum - Special'\n",
      " 'Wayne County Sunday Sales of Alcohol - Special'\n",
      " 'Screven Alcohol Sales by the Drink - Special'\n",
      " 'Screven Sunday Package Sales - Special'\n",
      " 'Screven Sunday Alcohol Sales by the Drink - Special'\n",
      " 'US House District 7' 'State Senate District 27' 'State House District 9'\n",
      " 'State House District 24' 'State House District 26'\n",
      " 'District Attorney - Bell-Forsyth' 'State House District 32'\n",
      " 'Soil and Water - Broad River' 'Homestead Exemption Referendum - Special'\n",
      " 'Distilled Spirits By The Drink - Special' 'State Senate District 47'\n",
      " 'State House District 118' 'County Commission District 6 - Special'\n",
      " 'Tennille Council District 2 Post 1 - Special'\n",
      " 'Tennille Council District 3 Post 1 - Special' 'State House District 27'\n",
      " 'Board of Education District 5 At Large'\n",
      " 'Darien General Obligation Bonds - Special' 'Soil and Water - Piedmont'\n",
      " 'Soil and Water - Upper Ocmulgee River' 'State House District 4'\n",
      " 'State House District 6' 'District Attorney - Conasauga'\n",
      " 'Referendum to Adopt Local Act - Special'\n",
      " 'President of the United States/Presidentede los Estados Unidos'\n",
      " 'US Senate (Perdue)/Senado de los EE.UU. (Perdue)'\n",
      " 'US Senate (Loeffler) - Special/Senado de los EE.UU. (Loeffler) - Especial'\n",
      " 'Public Service Commission Dist 1/Comisionado de Servicio Público Dist 1'\n",
      " 'Public Service Commission Dist 4/Comisionado de Servicio Público Dist 4'\n",
      " 'US House Dist 4/Distrito del Congreso 4'\n",
      " 'US House Dist 7/Distrito del Congreso 7'\n",
      " 'US House Dist 10/Distrito del Congreso 10'\n",
      " 'State Senate Dist 5/Senador Estatal Dist 5'\n",
      " 'State Senate Dist 9/Senador Estatal Dist 9'\n",
      " 'State Senate Dist 40/Senador Estatal Dist 40'\n",
      " 'State Senate Dist 41/Senador Estatal Dist 41'\n",
      " 'State Senate Dist 45/Senador Estatal Dist 45'\n",
      " 'State Senate Dist 48/Senador Estatal Dist 48'\n",
      " 'State Senate Dist 55/Senador Estatal Dist 55'\n",
      " 'State House Dist 81/Estatal ante la Asamblea General Dist 81'\n",
      " 'State House Dist 93/Estatal ante la Asamblea General Dist 93'\n",
      " 'State House Dist 94/Estatal ante la Asamblea General Dist 94'\n",
      " 'State House Dist 95/Estatal ante la Asamblea General Dist 95'\n",
      " 'State House Dist 96/Estatal ante la Asamblea General Dist 96'\n",
      " 'State House Dist 97/Estatal ante la Asamblea General Dist 97'\n",
      " 'State House Dist 98/Estatal ante la Asamblea General Dist 98'\n",
      " 'State House Dist 99/Estatal ante la Asamblea General Dist 99'\n",
      " 'State House Dist 100/Estatal ante la Asamblea General Dist 100'\n",
      " 'State House Dist 101/Estatal ante la Asamblea General Dist 101'\n",
      " 'State House Dist 102/Estatal ante la Asamblea General Dist 102'\n",
      " 'State House Dist 103/Estatal ante la Asamblea General Dist 103'\n",
      " 'State House Dist 104/Estatal ante la Asamblea General Dist 104'\n",
      " 'State House Dist 105/Estatal ante la Asamblea General Dist 105'\n",
      " 'State House Dist 106/Estatal ante la Asamblea General Dist 106'\n",
      " 'State House Dist 107/Estatal ante la Asamblea General Dist 107'\n",
      " 'State House Dist 108/Estatal ante la Asamblea General Dist 108'\n",
      " 'State House Dist 114/Estatal ante la Asamblea General Dist 114'\n",
      " 'District Attorney - Gwinnett/Fiscal del Distrito - Gwinnett'\n",
      " 'Clerk of Superior Court/Para Secretario del Tribunal Superior'\n",
      " 'Sheriff/Alguacil' 'Tax Commissioner/Comisionado de Impuestos'\n",
      " 'Co Commission Chair/Presidente de la Comisión del Condado'\n",
      " 'Co Commission Dist 1/Comisionado del Condado para el Dist 1'\n",
      " 'Co Commission Dist 3/Comisionado del Condado para el Dist 3'\n",
      " 'Brd of Education Dist 1/Consejo de Educación del Dist 1'\n",
      " 'Brd of Education Dist 3/Consejo de Educación del Dist 3'\n",
      " 'Brd of Education Dist 5/Consejo de Educación del Dist 5'\n",
      " 'Gwinnett County Soil and Water/Suelo y Agua del Condado de Gwinnett'\n",
      " 'Constitutional Amendment #1/Propuestas de Enmienda Constitucional #1'\n",
      " 'Constitutional Amendment #2/Propuestas de Enmienda Constitucional #2'\n",
      " 'Statewide Referendum A/Propuesta de Referéndum Estatal A'\n",
      " 'Gwinnett-Buford Board of Education SPLOST/Gwinnett-Buford Referéndum SPLOST de la Junta de Educación '\n",
      " 'Gwinnett Transit Referendum/Referéndum de Tránsito de Gwinnett'\n",
      " 'State House District 122' 'Soil and Water - Columbia County'\n",
      " 'Homestead Exemption for 70 Years and Older - Special'\n",
      " 'State House District 146' 'State House District 147'\n",
      " 'District Attorney - Houston' 'County Commission District 3 '\n",
      " 'County Commission District 4 ' 'County Commission District 5 '\n",
      " 'State Senate District 14' 'State Senate District 33'\n",
      " 'State Senate District 37' 'State House District 34'\n",
      " 'State House District 35' 'State House District 36'\n",
      " 'State House District 37' 'State House District 38'\n",
      " 'State House District 39' 'State House District 41'\n",
      " 'State House District 42' 'State House District 43'\n",
      " 'State House District 44' 'State House District 46'\n",
      " 'District Attorney - Cobb - Special' 'Soil and Water - Cobb County'\n",
      " 'Cobb County Special Purpose Local Option Sales Tax - Special'\n",
      " 'State Senate District 10' 'State House District 76'\n",
      " 'State House District 78' 'State House District 111'\n",
      " 'State House District 130' 'District Attorney - Flint'\n",
      " 'Redevelopment Powers Referendum - Special'\n",
      " 'Soil and Water - Warren County' 'Camak Mayor' 'Camak City Council'\n",
      " 'Warren County SPLOST - Special' 'County Commission District 1 - Special'\n",
      " 'State House District 20' 'State House District 21'\n",
      " 'State House District 23' 'District Attorney - Blue Ridge'\n",
      " 'Soil and Water - Limestone Valley' 'Holly Springs Mayor'\n",
      " 'Holly Springs City Council Ward 3' 'Holly Springs City Council Ward 5'\n",
      " 'Holly Springs Homestead Exemption - Special' 'State House District 134'\n",
      " 'Board of Education District 5 - Special'\n",
      " 'Hamilton City Council - Special' 'State House District 179'\n",
      " 'County Commissioner At Large Post 2'\n",
      " 'Board of Education At Large Post 2' 'Statewide Referendum A '\n",
      " '1 % Sales Tax for Educational Purposes - Special'\n",
      " 'State Senate District 49' 'State House District 29'\n",
      " 'State House District 30' 'State House District 103'\n",
      " 'Soil and Water - Hall County' 'Lula Alcohol by the Drink - Special'\n",
      " 'Lula Sunday Sales of Beer and Wine - Special' 'Soil and Water - Alapaha'\n",
      " 'Soil and Water - Central Georgia'\n",
      " 'McIntyre City Council District 1 - Special'\n",
      " 'Worth County SPLOST - Special'\n",
      " 'Sylvester Sales of Alcoholic Beverages on Sunday - Special'\n",
      " 'Sylvester Package Sales on Sunday - Special' 'State House District 31'\n",
      " 'District Attorney - Piedmont' 'Board of Education Post 1'\n",
      " 'Soil and Water - Oconee River' 'Arcade Fire Advisory Board Post 1'\n",
      " 'Arcade Fire Advisory Board Post 2'\n",
      " 'Harrisburg Fire Advisory Board Post 6'\n",
      " 'Harrisburg Fire Advisory Board Post 7'\n",
      " 'Harrisburg Fire Advisory Board Post 8'\n",
      " 'Harrisburg Fire Advisory Board Post 9'\n",
      " 'East Jackson Fire Advisory Board Post 2'\n",
      " 'East Jackson Fire Advisory Board Post 4'\n",
      " 'Jackson Trail Fire Advisory Board Post 1'\n",
      " 'Jackson Trail Fire Advisory Board Post 2'\n",
      " 'Jackson Trail Fire Advisory Board Post 3'\n",
      " 'Maysville Fire Advisory Board Post 3'\n",
      " 'Nicholson Fire Advisory Board Post 4'\n",
      " 'Nicholson Fire Advisory Board Post 5'\n",
      " 'North Jackson Fire Advisory Board Post 5'\n",
      " 'North Jackson Fire Advisory Board Post 6'\n",
      " 'North Jackson Fire Advisory Board Post 7'\n",
      " 'North Jackson Fire Advisory Board Post 8'\n",
      " 'Plainview Fire Advisory Board Post 2'\n",
      " 'Plainview Fire Advisory Board Post 3'\n",
      " 'South Jackson Fire Advisory Board Post 3'\n",
      " 'South Jackson Fire Advisory Board Post 5'\n",
      " 'West Jackson Fire Advisory Board Post 3'\n",
      " 'West Jackson Fire Advisory Board Post 5' 'State Senate District 44'\n",
      " 'State House District 74' 'State House District 75'\n",
      " 'State House District 77'\n",
      " 'District Attorney - Clayton - Special Election'\n",
      " 'Soil and Water - Clayton County'\n",
      " 'Sunday On-Premise Alcohol Consumption Starting at 11:00 AM - Special'\n",
      " 'State Senate District 2' 'State House District 162'\n",
      " 'State House District 163' 'State House District 165'\n",
      " 'District Attorney - Eastern' 'State Senate District 31'\n",
      " 'State House District 16' 'District Attorney - Tallapoosa'\n",
      " 'Chief Magistrate - Special Republican Primary'\n",
      " 'Haralson County ESPLOST - Special' 'Homestead Exemption - Special'\n",
      " 'Bremen City Schools Bond - Special' 'Soil and Water - Lamar County'\n",
      " 'Milner City Council - Special' 'State House District 177'\n",
      " 'Lake Park City Council - Special' 'Soil and Water - Ocmulgee River'\n",
      " 'Fluoride in County Water System - Special'\n",
      " 'Franklin County Homestead Exemption - Special'\n",
      " 'City of Lavonia Homestead Exemption - Special'\n",
      " 'Soil and Water - Roosevelt'\n",
      " 'Manchester Regulation of Sunday Alcohol Sales By the Drink - Special'\n",
      " 'Manchester Regulation of Distilled Spirits Sales By the Drink - Special'\n",
      " 'Manchester Regulation of Package Sales - Special' 'Coroner - Special'\n",
      " 'County Commission District 4 - Special'\n",
      " 'Sales and Use Tax and Bond Election - Special'\n",
      " 'Nonbinding Advisory Referendum - Special'\n",
      " 'Pulaski County Sunday Package Sales - Special'\n",
      " 'Hawkinsville Sunday Alcohol By The Drink - Special'\n",
      " 'Hawkinsville Sunday Package Sales - Special' 'Monroe County TSPLOST'\n",
      " 'Kingsland City Council Post 1' 'Kingsland City Council Post 2'\n",
      " 'St. Marys Mayor' 'St. Marys City Council Post 4'\n",
      " 'St. Marys City Council Post 5' 'St. Marys City Council Post 6'\n",
      " 'Sunday Package Sales of Alcohol - Special' 'State Senate District 41'\n",
      " 'State Senate District 42' 'State Senate District 55'\n",
      " 'State House District 79' 'State House District 81'\n",
      " 'State House District 82' 'State House District 83'\n",
      " 'State House District 84' 'State House District 85'\n",
      " 'State House District 86' 'State House District 87'\n",
      " 'State House District 88' 'State House District 89'\n",
      " 'State House District 93' 'State House District 94'\n",
      " 'District Attorney - Stone Mountain' 'Chief Executive Officer'\n",
      " 'Soil and Water - DeKalb County' 'Clarkston Mayor - Special'\n",
      " 'Doraville City Council District 1 - Special'\n",
      " 'DeKalb County Ethics - Special' 'Brookhaven Term Limits - Special'\n",
      " 'Concord Sunday Sales of Alcohol by the Drink - Special'\n",
      " 'County Commission District 3 Post 1' 'Vidalia Mayor - Special'\n",
      " 'Sunday Package Sales - Special'\n",
      " 'Transportation Special Purpose Local Option Sales Tax - Special'\n",
      " 'County Commission District 2 (Term Expires 2022) - Special'\n",
      " 'State House District 15' 'Adairsville City Council Post 4 - Special'\n",
      " 'Euharlee City Council At Large - Special'\n",
      " 'Bartow County Homestead Exemption - Special'\n",
      " 'Cartersville School Tax Exemption - Special'\n",
      " 'County Commissioner District 2 ' 'Board of Education At Large - Special'\n",
      " 'Board of Education District 4 ' 'State House District 66'\n",
      " 'State House District 67' 'District Attorney - Douglas - Special'\n",
      " 'Redevelopment Powers - Special' 'State House District 112'\n",
      " 'ESPLOST - Special' 'Bostwick - Cease Fluoridation - Special'\n",
      " 'Continuation of ESPLOST - Special' 'Ray City Council - Special'\n",
      " 'County Commission District 1, Seat A'\n",
      " 'County Commission District 2, Seat A'\n",
      " 'County Commission District 2, Seat C' 'State House District 135'\n",
      " 'State House District 136' 'Municipal Court Judge'\n",
      " 'Municipal Court Clerk' 'State House District 17'\n",
      " 'State House District 19' 'Dallas Mayor - Special'\n",
      " 'Creation of State Court - Special' 'County Commission Post 5 At Large'\n",
      " 'Board of Education Post 3' 'Transportation SPLOST - Special'\n",
      " 'State House District 116' 'Board of Education District 8 At Large'\n",
      " 'Bethlehem Council Post 1 - Special'\n",
      " 'Claxton Sunday Package Sales Referendum - Special' 'President-Recount']\n"
     ]
    }
   ],
   "source": [
    "print(ga_election[\"contest\"].unique())"
   ]
  },
  {
   "cell_type": "code",
   "execution_count": 10,
   "id": "909fae6a",
   "metadata": {},
   "outputs": [
    {
     "data": {
      "text/plain": [
       "29581664"
      ]
     },
     "execution_count": 10,
     "metadata": {},
     "output_type": "execute_result"
    }
   ],
   "source": [
    "ga_election[\"num_votes\"]=ga_election[\"num_votes\"].astype(int)\n",
    "sum(ga_election[\"num_votes\"])"
   ]
  },
  {
   "cell_type": "code",
   "execution_count": 11,
   "id": "9192e845",
   "metadata": {},
   "outputs": [
    {
     "name": "stdout",
     "output_type": "stream",
     "text": [
      "['Donald J. Trump (I) (Rep)' 'Joseph R. Biden (Dem)' 'Jo Jorgensen (Lib)'\n",
      " 'David A. Perdue (I) (Rep)' 'Jon Ossoff (Dem)' 'Shane Hazel (Lib)'\n",
      " 'Al Bartell (Ind)' 'Allen Buckley (Ind)' 'Doug Collins (Rep)'\n",
      " 'John Fortuin (Grn)' 'Derrick E. Grayson (Rep)'\n",
      " 'Michael Todd Greene (Ind)' 'Annette Davis Jackson (Rep)'\n",
      " 'Deborah Jackson (Dem)' 'Jamesia James (Dem)' 'A. Wayne Johnson (Rep)'\n",
      " 'Tamara Johnson-Shealey (Dem)' 'Matt Lieberman (Dem)'\n",
      " 'Kelly Loeffler (I) (Rep)' 'Joy Felicia Slade (Dem)'\n",
      " 'Brian Slowinski (Lib)' 'Valencia Stovall (Ind)' 'Ed Tarver (Dem)'\n",
      " 'Kandiss Taylor (Rep)' 'Raphael Warnock (Dem)'\n",
      " 'Richard Dien Winfield (Dem)' 'Jason Shaw (I) (Rep)'\n",
      " 'Robert G. Bryant (Dem)' 'Elizabeth Melton (Lib)'\n",
      " 'Lauren Bubba McDonald, Jr. (I) (Rep)' 'Daniel Blackman (Dem)'\n",
      " 'Nathan Wilson (Lib)' 'Matt Lierberman (Dem)']\n"
     ]
    }
   ],
   "source": [
    "print(ga_election[\"choice\"].unique())"
   ]
  },
  {
   "cell_type": "code",
   "execution_count": 12,
   "id": "d3d4e3ad",
   "metadata": {},
   "outputs": [],
   "source": [
    "cand_change_dict = {'Matt Lierberman (Dem)':'Matt Lieberman (Dem)'}\n",
    "ga_election[\"choice\"] = ga_election[\"choice\"].map(cand_change_dict).fillna(ga_election[\"choice\"])"
   ]
  },
  {
   "cell_type": "code",
   "execution_count": null,
   "id": "cf89415c",
   "metadata": {},
   "outputs": [],
   "source": []
  },
  {
   "cell_type": "code",
   "execution_count": 13,
   "id": "09b47d6b",
   "metadata": {},
   "outputs": [],
   "source": [
    "fips_file = pd.read_csv(\"./raw-from-source/FIPS/US_FIPS_Codes.csv\")\n",
    "fips_file = fips_file[fips_file[\"State\"]==\"Georgia\"]\n",
    "fips_file[\"FIPS County\"] = fips_file[\"FIPS County\"].astype(str)\n",
    "fips_file[\"FIPS County\"] = fips_file[\"FIPS County\"].str.zfill(3)\n",
    "fips_file[\"County Name\"] = fips_file[\"County Name\"].replace(\"De Kalb\",\"DeKalb\")\n",
    "fips_dict = dict(zip(fips_file['County Name'], fips_file['FIPS County']))"
   ]
  },
  {
   "cell_type": "code",
   "execution_count": 14,
   "id": "cb1940b2",
   "metadata": {},
   "outputs": [],
   "source": [
    "ga_election['county_fips'] = ga_election['county'].map(fips_dict).fillna(ga_election['county'])\n",
    "ga_election['county_fips'] = ga_election['county_fips'].astype(str)\n",
    "ga_election['county_fips'] = ga_election['county_fips'].str.zfill(3)\n",
    "ga_election[\"unique_ID\"]=ga_election[\"county_fips\"]+ga_election[\"precinct\"]\n",
    "ga_election[\"choice\"]=ga_election[\"choice\"]+ga_election[\"contest\"]\n",
    "ga_election=pd.pivot_table(ga_election,index=[\"unique_ID\",\"county\",\"county_fips\",\"precinct\"],columns=[\"choice\"],values=['num_votes'],aggfunc=sum)\n",
    "ga_election = ga_election.fillna(0)\n",
    "ga_election.columns = ga_election.columns.droplevel(0)\n",
    "ga_election = ga_election.reset_index()"
   ]
  },
  {
   "cell_type": "code",
   "execution_count": 15,
   "id": "4df03d74",
   "metadata": {},
   "outputs": [],
   "source": [
    "column_changes_dict = {'A. Wayne Johnson (Rep)US Senate (Loeffler) - Special':'S20USSRJOH',\n",
    "       'Al Bartell (Ind)US Senate (Loeffler) - Special':'S20USSIBAR',\n",
    "       'Allen Buckley (Ind)US Senate (Loeffler) - Special':'S20USSIBUC',\n",
    "       'Annette Davis Jackson (Rep)US Senate (Loeffler) - Special':'S20USSRJAC',\n",
    "       'Brian Slowinski (Lib)US Senate (Loeffler) - Special':'S20USSLSLO',\n",
    "       'Daniel Blackman (Dem)Public Service Commission District 4':'G20PSCDBLA',\n",
    "       'David A. Perdue (I) (Rep)US Senate (Perdue)':'G20USSRPER',\n",
    "       'Deborah Jackson (Dem)US Senate (Loeffler) - Special':'S20USSDJAC',\n",
    "       'Derrick E. Grayson (Rep)US Senate (Loeffler) - Special':'S20USSRGRA',\n",
    "       'Donald J. Trump (I) (Rep)President of the United States':'G20PRERTRU',\n",
    "       'Donald J. Trump (I) (Rep)President-Recount':'C20PRERTRU',\n",
    "       'Doug Collins (Rep)US Senate (Loeffler) - Special':'S20USSRCOL',\n",
    "       'Ed Tarver (Dem)US Senate (Loeffler) - Special':'S20USSDTAR',\n",
    "       'Elizabeth Melton (Lib)Public Service Commission District 1':'G20PSCLMEL',\n",
    "       'Jamesia James (Dem)US Senate (Loeffler) - Special':'S20USSDJAM',\n",
    "       'Jason Shaw (I) (Rep)Public Service Commission District 1':'G20PSCRSHA',\n",
    "       'Jo Jorgensen (Lib)President of the United States':'G20PRELJOR',\n",
    "       'Jo Jorgensen (Lib)President-Recount':'C20PRELJOR',\n",
    "       'John Fortuin (Grn)US Senate (Loeffler) - Special':'S20USSGFOR',\n",
    "       'Jon Ossoff (Dem)US Senate (Perdue)':'G20USSDOSS',\n",
    "       'Joseph R. Biden (Dem)President of the United States':'G20PREDBID',\n",
    "       'Joseph R. Biden (Dem)President-Recount':'C20PREDBID',\n",
    "       'Joy Felicia Slade (Dem)US Senate (Loeffler) - Special':'S20USSDSLA',\n",
    "       'Kandiss Taylor (Rep)US Senate (Loeffler) - Special':'S20USSRTAY',\n",
    "       'Kelly Loeffler (I) (Rep)US Senate (Loeffler) - Special':'S20USSRLOE',\n",
    "       'Lauren Bubba McDonald, Jr. (I) (Rep)Public Service Commission District 4':'G20PSCRMCD',\n",
    "       'Matt Lieberman (Dem)US Senate (Loeffler) - Special':'S20USSDLIE',\n",
    "       'Michael Todd Greene (Ind)US Senate (Loeffler) - Special':'S20USSIGRE',\n",
    "       'Nathan Wilson (Lib)Public Service Commission District 4':'G20PSCLWIL',\n",
    "       'Raphael Warnock (Dem)US Senate (Loeffler) - Special':'S20USSDWAR',\n",
    "       'Richard Dien Winfield (Dem)US Senate (Loeffler) - Special':'S20USSDWIN',\n",
    "       'Robert G. Bryant (Dem)Public Service Commission District 1':'G20PSCDBRY',\n",
    "       'Shane Hazel (Lib)US Senate (Perdue)':'G20USSLHAZ',\n",
    "       'Tamara Johnson-Shealey (Dem)US Senate (Loeffler) - Special':'S20USSDJOH',\n",
    "       'Valencia Stovall (Ind)US Senate (Loeffler) - Special':'S20USSISTO'}"
   ]
  },
  {
   "cell_type": "code",
   "execution_count": 16,
   "id": "df5c3f65",
   "metadata": {},
   "outputs": [],
   "source": [
    "ga_election = ga_election.rename(columns=column_changes_dict)"
   ]
  },
  {
   "cell_type": "code",
   "execution_count": 17,
   "id": "c314fcd5",
   "metadata": {},
   "outputs": [
    {
     "name": "stdout",
     "output_type": "stream",
     "text": [
      "Index(['unique_ID', 'county', 'county_fips', 'precinct', 'S20USSRJOH',\n",
      "       'S20USSIBAR', 'S20USSIBUC', 'S20USSRJAC', 'S20USSLSLO', 'G20PSCDBLA',\n",
      "       'G20USSRPER', 'S20USSDJAC', 'S20USSRGRA', 'G20PRERTRU', 'C20PRERTRU',\n",
      "       'S20USSRCOL', 'S20USSDTAR', 'G20PSCLMEL', 'S20USSDJAM', 'G20PSCRSHA',\n",
      "       'G20PRELJOR', 'C20PRELJOR', 'S20USSGFOR', 'G20USSDOSS', 'G20PREDBID',\n",
      "       'C20PREDBID', 'S20USSDSLA', 'S20USSRTAY', 'S20USSRLOE', 'G20PSCRMCD',\n",
      "       'S20USSDLIE', 'S20USSIGRE', 'G20PSCLWIL', 'S20USSDWAR', 'S20USSDWIN',\n",
      "       'G20PSCDBRY', 'G20USSLHAZ', 'S20USSDJOH', 'S20USSISTO'],\n",
      "      dtype='object', name='choice')\n"
     ]
    }
   ],
   "source": [
    "print(ga_election.columns)"
   ]
  },
  {
   "cell_type": "code",
   "execution_count": 18,
   "id": "6629f548",
   "metadata": {},
   "outputs": [],
   "source": [
    "vest_ga_20 = gp.read_file(\"./raw-from-source/VEST/ga_2020/ga_2020.shp\")"
   ]
  },
  {
   "cell_type": "code",
   "execution_count": 19,
   "id": "bfb8fc4a",
   "metadata": {},
   "outputs": [
    {
     "name": "stdout",
     "output_type": "stream",
     "text": [
      "(2679, 44)\n"
     ]
    }
   ],
   "source": [
    "print(vest_ga_20.shape)"
   ]
  },
  {
   "cell_type": "code",
   "execution_count": 20,
   "id": "787b06d8",
   "metadata": {},
   "outputs": [],
   "source": [
    "ga_election['FIPS2'] = ga_election[\"county_fips\"]"
   ]
  },
  {
   "cell_type": "code",
   "execution_count": 21,
   "id": "853d025a",
   "metadata": {},
   "outputs": [
    {
     "name": "stdout",
     "output_type": "stream",
     "text": [
      "G20PRERTRU:EQUAL\n",
      "G20PREDBID:EQUAL\n",
      "G20PRELJOR:EQUAL\n",
      "C20PRERTRU:EQUAL\n",
      "C20PREDBID:EQUAL\n",
      "C20PRELJOR:EQUAL\n",
      "G20USSRPER:EQUAL\n",
      "G20USSDOSS:EQUAL\n",
      "G20USSLHAZ:EQUAL\n",
      "S20USSRLOE:EQUAL\n",
      "S20USSRCOL:EQUAL\n",
      "S20USSRGRA:EQUAL\n",
      "S20USSRJAC:EQUAL\n",
      "S20USSRTAY:EQUAL\n",
      "S20USSRJOH:EQUAL\n",
      "S20USSDWAR:EQUAL\n",
      "S20USSDJAC:EQUAL\n",
      "S20USSDLIE:EQUAL\n",
      "S20USSDJOH:EQUAL\n",
      "S20USSDJAM:EQUAL\n",
      "S20USSDSLA:EQUAL\n",
      "S20USSDWIN:EQUAL\n",
      "S20USSDTAR:EQUAL\n",
      "S20USSLSLO:EQUAL\n",
      "S20USSGFOR:EQUAL\n",
      "S20USSIBUC:EQUAL\n",
      "S20USSIBAR:EQUAL\n",
      "S20USSISTO:EQUAL\n",
      "S20USSIGRE:EQUAL\n",
      "G20PSCRSHA:EQUAL\n",
      "G20PSCDBRY:EQUAL\n",
      "G20PSCLMEL:EQUAL\n",
      "G20PSCRMCD:EQUAL\n",
      "G20PSCDBLA:EQUAL\n",
      "G20PSCLWIL:EQUAL\n"
     ]
    }
   ],
   "source": [
    "data_columns = ['G20PRERTRU', 'G20PREDBID',\n",
    "       'G20PRELJOR', 'C20PRERTRU', 'C20PREDBID', 'C20PRELJOR', 'G20USSRPER',\n",
    "       'G20USSDOSS', 'G20USSLHAZ', 'S20USSRLOE', 'S20USSRCOL', 'S20USSRGRA',\n",
    "       'S20USSRJAC', 'S20USSRTAY', 'S20USSRJOH', 'S20USSDWAR', 'S20USSDJAC',\n",
    "       'S20USSDLIE', 'S20USSDJOH', 'S20USSDJAM', 'S20USSDSLA', 'S20USSDWIN',\n",
    "       'S20USSDTAR', 'S20USSLSLO', 'S20USSGFOR', 'S20USSIBUC', 'S20USSIBAR',\n",
    "       'S20USSISTO', 'S20USSIGRE', 'G20PSCRSHA', 'G20PSCDBRY', 'G20PSCLMEL',\n",
    "       'G20PSCRMCD', 'G20PSCDBLA', 'G20PSCLWIL']\n",
    "\n",
    "\n",
    "for race in data_columns:\n",
    "    if (sum(vest_ga_20[race])-sum(ga_election[race]) != 0):\n",
    "        print(race+\" has a difference of \"+str(sum(vest_ga_20[race])-sum(ga_election[race]))+\" votes\")\n",
    "        print(\"\\tVEST: \"+str(sum(vest_ga_20[race]))+\" votes\")\n",
    "        print(\"\\tSOURCES: \"+str(sum(frame[race]))+\" votes\")\n",
    "    else:\n",
    "        print(race+\":EQUAL\")"
   ]
  },
  {
   "cell_type": "code",
   "execution_count": 22,
   "id": "f3481311",
   "metadata": {},
   "outputs": [
    {
     "name": "stdout",
     "output_type": "stream",
     "text": [
      "Counties with differences printed below:\n",
      "\n",
      "All other races in all counties are equal\n"
     ]
    }
   ],
   "source": [
    "print(\"Counties with differences printed below:\")\n",
    "diff_counties=[]\n",
    "for i in data_columns:\n",
    "    diff = vest_ga_20.groupby([\"FIPS2\"]).sum()[i]-ga_election.groupby([\"FIPS2\"]).sum()[i]\n",
    "    for val in diff[diff != 0].index.values.tolist():\n",
    "        if val not in diff_counties:\n",
    "            diff_counties.append(val)\n",
    "    if len(diff[diff != 0]!=0):\n",
    "        print(i)\n",
    "        print(diff[diff != 0].to_string(header=False))\n",
    "print(\"\")\n",
    "print(\"All other races in all counties are equal\")"
   ]
  },
  {
   "cell_type": "code",
   "execution_count": 23,
   "id": "e54bfcc2",
   "metadata": {},
   "outputs": [
    {
     "name": "stdout",
     "output_type": "stream",
     "text": [
      "None\n",
      "       DISTRICT CTYSOSID PRECINCT_I PRECINCT_N CTYNAME CTYNUMBER CTYNUMBER2  \\\n",
      "1329   051XFTPU     None       None       None    None      None       None   \n",
      "1447  029FTSTEW     None       None       None    None      None       None   \n",
      "2125  215FTBEN2     None       None       None    None      None       None   \n",
      "2128  215FTBEN4     None       None       None    None      None       None   \n",
      "2146  215FTBEN3     None       None       None    None      None       None   \n",
      "2229  215ZZZZZZ     None       None       None    None      None       None   \n",
      "2230  215FTBEN1     None       None       None    None      None       None   \n",
      "\n",
      "     FIPS2  G20PRERTRU  G20PREDBID  ...  S20USSIBAR  S20USSISTO  S20USSIGRE  \\\n",
      "1329  None           0           0  ...           0           0           0   \n",
      "1447  None           0           0  ...           0           0           0   \n",
      "2125  None           0           0  ...           0           0           0   \n",
      "2128  None           0           0  ...           0           0           0   \n",
      "2146  None           0           0  ...           0           0           0   \n",
      "2229  None           0           0  ...           0           0           0   \n",
      "2230  None           0           0  ...           0           0           0   \n",
      "\n",
      "      G20PSCRSHA  G20PSCDBRY  G20PSCLMEL  G20PSCRMCD  G20PSCDBLA  G20PSCLWIL  \\\n",
      "1329           0           0           0           0           0           0   \n",
      "1447           0           0           0           0           0           0   \n",
      "2125           0           0           0           0           0           0   \n",
      "2128           0           0           0           0           0           0   \n",
      "2146           0           0           0           0           0           0   \n",
      "2229           0           0           0           0           0           0   \n",
      "2230           0           0           0           0           0           0   \n",
      "\n",
      "                                               geometry  \n",
      "1329  POLYGON ((-80.96828 32.04402, -80.96876 32.044...  \n",
      "1447  MULTIPOLYGON (((-81.59263 32.10346, -81.59242 ...  \n",
      "2125  POLYGON ((-84.93473 32.40556, -84.93448 32.405...  \n",
      "2128  POLYGON ((-84.91564 32.42299, -84.90945 32.422...  \n",
      "2146  POLYGON ((-84.93783 32.40666, -84.93765 32.406...  \n",
      "2229  POLYGON ((-84.89892 32.45201, -84.89890 32.452...  \n",
      "2230  POLYGON ((-84.89897 32.44577, -84.89896 32.449...  \n",
      "\n",
      "[7 rows x 44 columns]\n"
     ]
    }
   ],
   "source": [
    "for i in list(vest_ga_20['FIPS2'].unique()):\n",
    "    if i not in (list(ga_election['FIPS2'].unique())):\n",
    "        print(i)\n",
    "\n",
    "print(vest_ga_20[vest_ga_20['FIPS2'].isna()])"
   ]
  },
  {
   "cell_type": "code",
   "execution_count": 24,
   "id": "dfa1f413",
   "metadata": {},
   "outputs": [
    {
     "name": "stdout",
     "output_type": "stream",
     "text": [
      "      DISTRICT  CTYSOSID PRECINCT_I          PRECINCT_N   CTYNAME CTYNUMBER  \\\n",
      "0       215122    215122        122       FIRST AFRICAN  MUSCOGEE       106   \n",
      "1       215108    215108        108  ST MARK/HEIFERHORN  MUSCOGEE       106   \n",
      "2       057031    057031        031           R T JONES  CHEROKEE        28   \n",
      "3       057033    057033        033             SALACOA  CHEROKEE        28   \n",
      "4        01506     01506         06              CENTER    BARTOW         8   \n",
      "...        ...       ...        ...                 ...       ...       ...   \n",
      "2674  121SC14A  121SC14A      SC14A               SC14A    FULTON        60   \n",
      "2675    12109B    12109B        09B                 09B    FULTON        60   \n",
      "2676   121CH05   121CH05       CH05                CH05    FULTON        60   \n",
      "2677  121FA01D  121FA01D      FA01D               FA01D    FULTON        60   \n",
      "2678     07707     07707         07        FISCHER ROAD    COWETA        38   \n",
      "\n",
      "     CTYNUMBER2 FIPS2  G20PRERTRU  G20PREDBID  ...  S20USSIBAR  S20USSISTO  \\\n",
      "0           106   215         238         668  ...           9           1   \n",
      "1           106   215        3243        1676  ...          12          16   \n",
      "2           028   057        1021         513  ...           2           2   \n",
      "3           028   057         454          69  ...           2           1   \n",
      "4           008   015        2312         568  ...           4          10   \n",
      "...         ...   ...         ...         ...  ...         ...         ...   \n",
      "2674        060   121          32         474  ...           0          10   \n",
      "2675        060   121           7         175  ...           0           1   \n",
      "2676        060   121         240          90  ...           0           0   \n",
      "2677        060   121          16         159  ...           1           0   \n",
      "2678        038   077        2423         951  ...           5           5   \n",
      "\n",
      "      S20USSIGRE  G20PSCRSHA  G20PSCDBRY  G20PSCLMEL  G20PSCRMCD  G20PSCDBLA  \\\n",
      "0              4         251         587          52         251         587   \n",
      "1             12        3292        1426         172        3268        1456   \n",
      "2              3         994         459          71         998         461   \n",
      "3              0         425          62          19         419          61   \n",
      "4             10        2252         493         121        2230         516   \n",
      "...          ...         ...         ...         ...         ...         ...   \n",
      "2674           0          19         468          16          18         464   \n",
      "2675           0           6         167           4           5         173   \n",
      "2676           0         225          89          11         217          88   \n",
      "2677           0          15         153           6          20         149   \n",
      "2678           3        2458         784         130        2449         799   \n",
      "\n",
      "      G20PSCLWIL                                           geometry  \n",
      "0             44  POLYGON ((-84.96984 32.46725, -84.97031 32.467...  \n",
      "1            122  POLYGON ((-84.96552 32.53259, -84.96852 32.532...  \n",
      "2             60  POLYGON ((-84.46579 34.25122, -84.46545 34.251...  \n",
      "3             17  POLYGON ((-84.53036 34.38103, -84.53047 34.380...  \n",
      "4            107  MULTIPOLYGON (((-84.65788 34.14247, -84.65830 ...  \n",
      "...          ...                                                ...  \n",
      "2674          18  MULTIPOLYGON (((-84.53934 33.74731, -84.53919 ...  \n",
      "2675           0  POLYGON ((-84.50983 33.79368, -84.50791 33.795...  \n",
      "2676          16  POLYGON ((-84.84959 33.51270, -84.84931 33.513...  \n",
      "2677           5  POLYGON ((-84.63189 33.51109, -84.63174 33.511...  \n",
      "2678         106  POLYGON ((-84.61634 33.50258, -84.61634 33.502...  \n",
      "\n",
      "[2679 rows x 44 columns]\n"
     ]
    }
   ],
   "source": [
    "print(vest_ga_20)"
   ]
  },
  {
   "cell_type": "code",
   "execution_count": 25,
   "id": "dbd25a40",
   "metadata": {},
   "outputs": [
    {
     "name": "stdout",
     "output_type": "stream",
     "text": [
      "right_only    2067\n",
      "left_only     2044\n",
      "both           612\n",
      "Name: _merge, dtype: int64\n"
     ]
    }
   ],
   "source": [
    "ga_election[\"precinct\"] = ga_election[\"precinct\"].str.strip().str.upper()\n",
    "ga_election[\"unique_ID\"]=ga_election[\"county_fips\"]+\"-\"+ga_election[\"precinct\"]\n",
    "vest_ga_20[\"unique_ID\"]=vest_ga_20[\"FIPS2\"]+\"-\"+vest_ga_20[\"PRECINCT_I\"]\n",
    "\n",
    "join_attempt_1 = pd.merge(ga_election,vest_ga_20,how=\"outer\",on=\"unique_ID\",indicator=True)\n",
    "print(join_attempt_1[\"_merge\"].value_counts())"
   ]
  },
  {
   "cell_type": "code",
   "execution_count": 26,
   "id": "68c60db6",
   "metadata": {},
   "outputs": [],
   "source": [
    "ga_election[\"precinct\"] = ga_election[\"precinct\"].str.strip().str.upper()\n",
    "ga_election[\"unique_ID\"]=ga_election[\"county_fips\"]+\"-\"+ga_election[\"precinct\"]\n",
    "vest_ga_20[\"unique_ID\"]=vest_ga_20[\"FIPS2\"]+\"-\"+vest_ga_20[\"PRECINCT_N\"]"
   ]
  },
  {
   "cell_type": "code",
   "execution_count": 27,
   "id": "784c3459",
   "metadata": {},
   "outputs": [
    {
     "name": "stdout",
     "output_type": "stream",
     "text": [
      "      DISTRICT  CTYSOSID PRECINCT_I           PRECINCT_N  CTYNAME CTYNUMBER  \\\n",
      "2245  0513-15C  0513-15C      3-15C  ELI WHITNEY COMPLEX  CHATHAM        25   \n",
      "2247  0512-06C  0512-06C      2-06C  ELI WHITNEY COMPLEX  CHATHAM        25   \n",
      "\n",
      "     CTYNUMBER2 FIPS2  G20PRERTRU  G20PREDBID  ...  S20USSISTO  S20USSIGRE  \\\n",
      "2245        025   051         278         361  ...           0           1   \n",
      "2247        025   051          65         335  ...           2           1   \n",
      "\n",
      "      G20PSCRSHA  G20PSCDBRY  G20PSCLMEL  G20PSCRMCD  G20PSCDBLA  G20PSCLWIL  \\\n",
      "2245         301         320          16         290         325          15   \n",
      "2247          72         294          25          67         301          19   \n",
      "\n",
      "                                               geometry  \\\n",
      "2245  POLYGON ((-81.02948 32.06200, -81.03000 32.060...   \n",
      "2247  POLYGON ((-81.05333 32.07291, -81.05336 32.072...   \n",
      "\n",
      "                    unique_ID  \n",
      "2245  051-ELI WHITNEY COMPLEX  \n",
      "2247  051-ELI WHITNEY COMPLEX  \n",
      "\n",
      "[2 rows x 45 columns]\n"
     ]
    }
   ],
   "source": [
    "print(vest_ga_20[vest_ga_20[\"unique_ID\"]==\"051-ELI WHITNEY COMPLEX\"])\n",
    "\n"
   ]
  },
  {
   "cell_type": "code",
   "execution_count": 28,
   "id": "548dfc3c",
   "metadata": {},
   "outputs": [],
   "source": [
    "vest_ga_20.loc[vest_ga_20[\"CTYSOSID\"]==\"0513-15C\",\"unique_ID\"] = \"051-ELI WHITNEY COMPLEX 3-15C\"\n",
    "vest_ga_20.loc[vest_ga_20[\"CTYSOSID\"]==\"0512-06C\",\"unique_ID\"] = \"051-ELI WHITNEY COMPLEX 2-06C\""
   ]
  },
  {
   "cell_type": "code",
   "execution_count": 29,
   "id": "ed98903c",
   "metadata": {},
   "outputs": [
    {
     "name": "stdout",
     "output_type": "stream",
     "text": [
      "291-CHOESTOE                 1\n",
      "097-CHURCH AT CHAPEL HILL    1\n",
      "245-404                      1\n",
      "131-LIMESINK                 1\n",
      "135-DULUTH F                 1\n",
      "                            ..\n",
      "089-PONCE DE LEON            1\n",
      "121-01T                      1\n",
      "067-HARMONY-LELAND 01        1\n",
      "305-PINE STREET              1\n",
      "121-09H                      1\n",
      "Name: unique_ID, Length: 2656, dtype: int64\n",
      "291-CHOESTOE                    1\n",
      "223-POPLAR SPRGS BAPT CHURCH    1\n",
      "217-STANSELLS                   1\n",
      "245-404                         1\n",
      "087-CLIMAX                      1\n",
      "                               ..\n",
      "255-17                          1\n",
      "151-STOCKBRIDGE EAST-WEST       1\n",
      "089-PANOLA ROAD                 1\n",
      "297-E MONROE                    1\n",
      "121-09H                         1\n",
      "Name: unique_ID, Length: 2672, dtype: int64\n"
     ]
    }
   ],
   "source": [
    "print(ga_election[\"unique_ID\"].value_counts())\n",
    "print(vest_ga_20[\"unique_ID\"].value_counts())"
   ]
  },
  {
   "cell_type": "code",
   "execution_count": 30,
   "id": "085e3d0d",
   "metadata": {},
   "outputs": [
    {
     "name": "stdout",
     "output_type": "stream",
     "text": [
      "both          2545\n",
      "right_only     134\n",
      "left_only      111\n",
      "Name: _merge, dtype: int64\n"
     ]
    }
   ],
   "source": [
    "join_attempt_1 = pd.merge(ga_election,vest_ga_20,how=\"outer\",on=\"unique_ID\",indicator=True)\n",
    "print(join_attempt_1[\"_merge\"].value_counts())"
   ]
  },
  {
   "cell_type": "code",
   "execution_count": 31,
   "id": "c0805f10",
   "metadata": {},
   "outputs": [],
   "source": [
    "left_only = join_attempt_1[join_attempt_1[\"_merge\"]==\"left_only\"]\n",
    "right_only = join_attempt_1[join_attempt_1[\"_merge\"]==\"right_only\"]\n",
    "\n"
   ]
  },
  {
   "cell_type": "code",
   "execution_count": 32,
   "id": "9cf1e86d",
   "metadata": {},
   "outputs": [],
   "source": [
    "example_csv = pd.read_csv(\"./source_vest_id_changes.csv\")\n",
    "example_fips_dict = dict(zip(example_csv[\"source_ID\"],example_csv[\"vest_ID\"]))"
   ]
  },
  {
   "cell_type": "code",
   "execution_count": 33,
   "id": "c0c95866",
   "metadata": {},
   "outputs": [],
   "source": [
    "ga_election[\"unique_ID\"] = ga_election[\"unique_ID\"].map(example_fips_dict).fillna(ga_election[\"unique_ID\"])"
   ]
  },
  {
   "cell_type": "code",
   "execution_count": 34,
   "id": "0a5a4f9e",
   "metadata": {},
   "outputs": [
    {
     "name": "stdout",
     "output_type": "stream",
     "text": [
      "both          2656\n",
      "right_only      23\n",
      "left_only        0\n",
      "Name: _merge, dtype: int64\n"
     ]
    }
   ],
   "source": [
    "join_attempt_2 = pd.merge(ga_election,vest_ga_20,how=\"outer\",on=\"unique_ID\",indicator=True)\n",
    "print(join_attempt_2[\"_merge\"].value_counts())\n",
    "\n",
    "both = join_attempt_2[join_attempt_2[\"_merge\"]==\"both\"]\n",
    "left_only = join_attempt_2[join_attempt_2[\"_merge\"]==\"left_only\"]\n",
    "right_only = join_attempt_2[join_attempt_2[\"_merge\"]==\"right_only\"]\n",
    "\n",
    "left_only.to_csv(\"./source_only.csv\")\n",
    "right_only.to_csv(\"./VEST_only.csv\")"
   ]
  },
  {
   "cell_type": "code",
   "execution_count": 35,
   "id": "96b5aa25",
   "metadata": {},
   "outputs": [
    {
     "name": "stdout",
     "output_type": "stream",
     "text": [
      "\n",
      "There are  2656  total rows\n",
      "0  of these rows have election result differences\n",
      "2656  of these rows are the same\n",
      "\n",
      "The max difference between any one shared column in a row is:  0\n",
      "There are  0 precinct results with a difference greater than 10\n",
      "[]\n"
     ]
    }
   ],
   "source": [
    "def validater_row (df, column_List):\n",
    "    matching_rows = 0\n",
    "    different_rows = 0\n",
    "    diff_list=[]\n",
    "    diff_values = []\n",
    "    max_diff = 0\n",
    "    for j in range(0,len(df.index)):\n",
    "        same = True\n",
    "        for i in column_List:\n",
    "            left_Data = i + \"_x\"\n",
    "            right_Data = i + \"_y\"\n",
    "            diff = abs(df.iloc[j][left_Data]-df.iloc[j][right_Data])\n",
    "            if(diff >0):\n",
    "                if(diff>0):\n",
    "                    print(i, \"{:.>72}\".format(df.iloc[j][\"final_join_col\"]), \"(S)\",\"{:.>5}\".format(int(df.iloc[j][left_Data])),\" (V){:.>5}\".format(int(df.iloc[j][right_Data])),\"(D):{:>5}\".format(int(df.iloc[j][right_Data])-int(df.iloc[j][left_Data])))           \n",
    "                #print(df.iloc[j]['countypct'])\n",
    "                \n",
    "                diff_values.append(abs(diff))\n",
    "                same = False\n",
    "                if(np.isnan(diff)):\n",
    "                    print(\"NaN value at diff is: \", df.iloc[j][\"final_join_col\"])\n",
    "                    print(df.iloc[j][left_Data])\n",
    "                    print(df.iloc[j][right_Data])\n",
    "                if (diff>max_diff):\n",
    "                    max_diff = diff\n",
    "                    #print(\"New max diff is: \", str(max_diff))\n",
    "                    #print(df.iloc[j]['cty_pct'])\n",
    "        if(same != True):\n",
    "            different_rows +=1\n",
    "            diff_list.append(df.iloc[j][\"final_join_col\"])\n",
    "        else:\n",
    "            matching_rows +=1\n",
    "    print(\"\")\n",
    "    print(\"There are \", len(df.index),\" total rows\")\n",
    "    print(different_rows,\" of these rows have election result differences\")\n",
    "    print(matching_rows,\" of these rows are the same\")\n",
    "    print(\"\")\n",
    "    print(\"The max difference between any one shared column in a row is: \", max_diff)\n",
    "    if(len(diff_values)!=0):\n",
    "        print(\"The average difference is: \", str(sum(diff_values)/len(diff_values)))\n",
    "    count_big_diff = len([i for i in diff_values if i > 10])\n",
    "    print(\"There are \", str(count_big_diff), \"precinct results with a difference greater than 10\")\n",
    "    diff_list.sort()\n",
    "    print(diff_list)\n",
    "    \n",
    "validater_row(both,data_columns)"
   ]
  },
  {
   "cell_type": "code",
   "execution_count": 36,
   "id": "1a3afa41",
   "metadata": {},
   "outputs": [
    {
     "name": "stdout",
     "output_type": "stream",
     "text": [
      "23\n"
     ]
    }
   ],
   "source": [
    "empty_precincts = []\n",
    "for index, row in right_only.iterrows():\n",
    "    for race in data_columns:\n",
    "        keep=True\n",
    "        if (row[race+\"_y\"]!=0):\n",
    "            keep = False\n",
    "    if(keep):\n",
    "        empty_precincts.append(row[\"DISTRICT\"])\n",
    "print(len(empty_precincts))  "
   ]
  },
  {
   "cell_type": "code",
   "execution_count": 37,
   "id": "3790797d",
   "metadata": {},
   "outputs": [
    {
     "name": "stdout",
     "output_type": "stream",
     "text": [
      "['121AP01E', '121UC033', '12103P1B', '121AP12D', '121SC29B', '121CP06B', '121CP053', '121SC07B', '121RW22B', '121SC08A', '121SC21A', '121UC01C', '121CP052', '051XFTPU', '029FTSTEW', '215FTBEN2', '215FTBEN4', '215FTBEN3', '215ZZZZZZ', '215FTBEN1', '121RW11B', '12108F2', '12112E2']\n"
     ]
    }
   ],
   "source": [
    "print(empty_precincts)"
   ]
  },
  {
   "cell_type": "code",
   "execution_count": 38,
   "id": "865fd36a",
   "metadata": {},
   "outputs": [
    {
     "data": {
      "text/html": [
       "<div>\n",
       "<style scoped>\n",
       "    .dataframe tbody tr th:only-of-type {\n",
       "        vertical-align: middle;\n",
       "    }\n",
       "\n",
       "    .dataframe tbody tr th {\n",
       "        vertical-align: top;\n",
       "    }\n",
       "\n",
       "    .dataframe thead th {\n",
       "        text-align: right;\n",
       "    }\n",
       "</style>\n",
       "<table border=\"1\" class=\"dataframe\">\n",
       "  <thead>\n",
       "    <tr style=\"text-align: right;\">\n",
       "      <th></th>\n",
       "      <th>DISTRICT</th>\n",
       "      <th>CTYSOSID</th>\n",
       "      <th>PRECINCT_I</th>\n",
       "      <th>PRECINCT_N</th>\n",
       "      <th>CTYNAME</th>\n",
       "      <th>CTYNUMBER</th>\n",
       "      <th>CTYNUMBER2</th>\n",
       "      <th>FIPS2</th>\n",
       "      <th>G20PRERTRU</th>\n",
       "      <th>G20PREDBID</th>\n",
       "      <th>...</th>\n",
       "      <th>S20USSISTO</th>\n",
       "      <th>S20USSIGRE</th>\n",
       "      <th>G20PSCRSHA</th>\n",
       "      <th>G20PSCDBRY</th>\n",
       "      <th>G20PSCLMEL</th>\n",
       "      <th>G20PSCRMCD</th>\n",
       "      <th>G20PSCDBLA</th>\n",
       "      <th>G20PSCLWIL</th>\n",
       "      <th>geometry</th>\n",
       "      <th>unique_ID</th>\n",
       "    </tr>\n",
       "  </thead>\n",
       "  <tbody>\n",
       "    <tr>\n",
       "      <th>249</th>\n",
       "      <td>121AP01E</td>\n",
       "      <td>121AP01E</td>\n",
       "      <td>AP01E</td>\n",
       "      <td>AP01E</td>\n",
       "      <td>FULTON</td>\n",
       "      <td>60</td>\n",
       "      <td>060</td>\n",
       "      <td>121</td>\n",
       "      <td>0</td>\n",
       "      <td>0</td>\n",
       "      <td>...</td>\n",
       "      <td>0</td>\n",
       "      <td>0</td>\n",
       "      <td>0</td>\n",
       "      <td>0</td>\n",
       "      <td>0</td>\n",
       "      <td>0</td>\n",
       "      <td>0</td>\n",
       "      <td>0</td>\n",
       "      <td>POLYGON ((-84.29795 34.03893, -84.29797 34.037...</td>\n",
       "      <td>121-AP01E</td>\n",
       "    </tr>\n",
       "    <tr>\n",
       "      <th>250</th>\n",
       "      <td>121UC033</td>\n",
       "      <td>121UC033</td>\n",
       "      <td>UC033</td>\n",
       "      <td>UC033</td>\n",
       "      <td>FULTON</td>\n",
       "      <td>60</td>\n",
       "      <td>060</td>\n",
       "      <td>121</td>\n",
       "      <td>0</td>\n",
       "      <td>0</td>\n",
       "      <td>...</td>\n",
       "      <td>0</td>\n",
       "      <td>0</td>\n",
       "      <td>0</td>\n",
       "      <td>0</td>\n",
       "      <td>0</td>\n",
       "      <td>0</td>\n",
       "      <td>0</td>\n",
       "      <td>0</td>\n",
       "      <td>MULTIPOLYGON (((-84.50565 33.58889, -84.50668 ...</td>\n",
       "      <td>121-UC033</td>\n",
       "    </tr>\n",
       "    <tr>\n",
       "      <th>679</th>\n",
       "      <td>12103P1B</td>\n",
       "      <td>12103P1B</td>\n",
       "      <td>03P1B</td>\n",
       "      <td>03P1B</td>\n",
       "      <td>FULTON</td>\n",
       "      <td>60</td>\n",
       "      <td>060</td>\n",
       "      <td>121</td>\n",
       "      <td>0</td>\n",
       "      <td>0</td>\n",
       "      <td>...</td>\n",
       "      <td>0</td>\n",
       "      <td>0</td>\n",
       "      <td>0</td>\n",
       "      <td>0</td>\n",
       "      <td>0</td>\n",
       "      <td>0</td>\n",
       "      <td>0</td>\n",
       "      <td>0</td>\n",
       "      <td>POLYGON ((-84.40813 33.77318, -84.40764 33.773...</td>\n",
       "      <td>121-03P1B</td>\n",
       "    </tr>\n",
       "    <tr>\n",
       "      <th>688</th>\n",
       "      <td>121AP12D</td>\n",
       "      <td>121AP12D</td>\n",
       "      <td>AP12D</td>\n",
       "      <td>AP12D</td>\n",
       "      <td>FULTON</td>\n",
       "      <td>60</td>\n",
       "      <td>060</td>\n",
       "      <td>121</td>\n",
       "      <td>0</td>\n",
       "      <td>0</td>\n",
       "      <td>...</td>\n",
       "      <td>0</td>\n",
       "      <td>0</td>\n",
       "      <td>0</td>\n",
       "      <td>0</td>\n",
       "      <td>0</td>\n",
       "      <td>0</td>\n",
       "      <td>0</td>\n",
       "      <td>0</td>\n",
       "      <td>POLYGON ((-84.25836 34.09181, -84.25818 34.091...</td>\n",
       "      <td>121-AP12D</td>\n",
       "    </tr>\n",
       "    <tr>\n",
       "      <th>887</th>\n",
       "      <td>121SC29B</td>\n",
       "      <td>121SC29B</td>\n",
       "      <td>SC29B</td>\n",
       "      <td>SC29B</td>\n",
       "      <td>FULTON</td>\n",
       "      <td>60</td>\n",
       "      <td>060</td>\n",
       "      <td>121</td>\n",
       "      <td>0</td>\n",
       "      <td>0</td>\n",
       "      <td>...</td>\n",
       "      <td>0</td>\n",
       "      <td>0</td>\n",
       "      <td>0</td>\n",
       "      <td>0</td>\n",
       "      <td>0</td>\n",
       "      <td>0</td>\n",
       "      <td>0</td>\n",
       "      <td>0</td>\n",
       "      <td>POLYGON ((-84.51576 33.58520, -84.51580 33.585...</td>\n",
       "      <td>121-SC29B</td>\n",
       "    </tr>\n",
       "    <tr>\n",
       "      <th>935</th>\n",
       "      <td>121CP06B</td>\n",
       "      <td>121CP06B</td>\n",
       "      <td>CP06B</td>\n",
       "      <td>CP06B</td>\n",
       "      <td>FULTON</td>\n",
       "      <td>60</td>\n",
       "      <td>060</td>\n",
       "      <td>121</td>\n",
       "      <td>0</td>\n",
       "      <td>0</td>\n",
       "      <td>...</td>\n",
       "      <td>0</td>\n",
       "      <td>0</td>\n",
       "      <td>0</td>\n",
       "      <td>0</td>\n",
       "      <td>0</td>\n",
       "      <td>0</td>\n",
       "      <td>0</td>\n",
       "      <td>0</td>\n",
       "      <td>POLYGON ((-84.46700 33.62007, -84.47102 33.620...</td>\n",
       "      <td>121-CP06B</td>\n",
       "    </tr>\n",
       "    <tr>\n",
       "      <th>951</th>\n",
       "      <td>121CP053</td>\n",
       "      <td>121CP053</td>\n",
       "      <td>CP053</td>\n",
       "      <td>CP053</td>\n",
       "      <td>FULTON</td>\n",
       "      <td>60</td>\n",
       "      <td>060</td>\n",
       "      <td>121</td>\n",
       "      <td>0</td>\n",
       "      <td>0</td>\n",
       "      <td>...</td>\n",
       "      <td>0</td>\n",
       "      <td>0</td>\n",
       "      <td>0</td>\n",
       "      <td>0</td>\n",
       "      <td>0</td>\n",
       "      <td>0</td>\n",
       "      <td>0</td>\n",
       "      <td>0</td>\n",
       "      <td>POLYGON ((-84.48197 33.62309, -84.48200 33.623...</td>\n",
       "      <td>121-CP053</td>\n",
       "    </tr>\n",
       "    <tr>\n",
       "      <th>955</th>\n",
       "      <td>121SC07B</td>\n",
       "      <td>121SC07B</td>\n",
       "      <td>SC07B</td>\n",
       "      <td>SC07B</td>\n",
       "      <td>FULTON</td>\n",
       "      <td>60</td>\n",
       "      <td>060</td>\n",
       "      <td>121</td>\n",
       "      <td>0</td>\n",
       "      <td>0</td>\n",
       "      <td>...</td>\n",
       "      <td>0</td>\n",
       "      <td>0</td>\n",
       "      <td>0</td>\n",
       "      <td>0</td>\n",
       "      <td>0</td>\n",
       "      <td>0</td>\n",
       "      <td>0</td>\n",
       "      <td>0</td>\n",
       "      <td>POLYGON ((-84.58213 33.62434, -84.58229 33.624...</td>\n",
       "      <td>121-SC07B</td>\n",
       "    </tr>\n",
       "    <tr>\n",
       "      <th>966</th>\n",
       "      <td>121RW22B</td>\n",
       "      <td>121RW22B</td>\n",
       "      <td>RW22B</td>\n",
       "      <td>RW22B</td>\n",
       "      <td>FULTON</td>\n",
       "      <td>60</td>\n",
       "      <td>060</td>\n",
       "      <td>121</td>\n",
       "      <td>0</td>\n",
       "      <td>0</td>\n",
       "      <td>...</td>\n",
       "      <td>0</td>\n",
       "      <td>0</td>\n",
       "      <td>0</td>\n",
       "      <td>0</td>\n",
       "      <td>0</td>\n",
       "      <td>0</td>\n",
       "      <td>0</td>\n",
       "      <td>0</td>\n",
       "      <td>POLYGON ((-84.27466 33.99256, -84.27435 33.992...</td>\n",
       "      <td>121-RW22B</td>\n",
       "    </tr>\n",
       "    <tr>\n",
       "      <th>999</th>\n",
       "      <td>121SC08A</td>\n",
       "      <td>121SC08A</td>\n",
       "      <td>SC08A</td>\n",
       "      <td>SC08A</td>\n",
       "      <td>FULTON</td>\n",
       "      <td>60</td>\n",
       "      <td>060</td>\n",
       "      <td>121</td>\n",
       "      <td>0</td>\n",
       "      <td>0</td>\n",
       "      <td>...</td>\n",
       "      <td>0</td>\n",
       "      <td>0</td>\n",
       "      <td>0</td>\n",
       "      <td>0</td>\n",
       "      <td>0</td>\n",
       "      <td>0</td>\n",
       "      <td>0</td>\n",
       "      <td>0</td>\n",
       "      <td>POLYGON ((-84.55685 33.60644, -84.55673 33.606...</td>\n",
       "      <td>121-SC08A</td>\n",
       "    </tr>\n",
       "    <tr>\n",
       "      <th>1002</th>\n",
       "      <td>121SC21A</td>\n",
       "      <td>121SC21A</td>\n",
       "      <td>SC21A</td>\n",
       "      <td>SC21A</td>\n",
       "      <td>FULTON</td>\n",
       "      <td>60</td>\n",
       "      <td>060</td>\n",
       "      <td>121</td>\n",
       "      <td>0</td>\n",
       "      <td>0</td>\n",
       "      <td>...</td>\n",
       "      <td>0</td>\n",
       "      <td>0</td>\n",
       "      <td>0</td>\n",
       "      <td>0</td>\n",
       "      <td>0</td>\n",
       "      <td>0</td>\n",
       "      <td>0</td>\n",
       "      <td>0</td>\n",
       "      <td>POLYGON ((-84.54970 33.55797, -84.54974 33.557...</td>\n",
       "      <td>121-SC21A</td>\n",
       "    </tr>\n",
       "    <tr>\n",
       "      <th>1004</th>\n",
       "      <td>121UC01C</td>\n",
       "      <td>121UC01C</td>\n",
       "      <td>UC01C</td>\n",
       "      <td>UC01C</td>\n",
       "      <td>FULTON</td>\n",
       "      <td>60</td>\n",
       "      <td>060</td>\n",
       "      <td>121</td>\n",
       "      <td>0</td>\n",
       "      <td>0</td>\n",
       "      <td>...</td>\n",
       "      <td>0</td>\n",
       "      <td>0</td>\n",
       "      <td>0</td>\n",
       "      <td>0</td>\n",
       "      <td>0</td>\n",
       "      <td>0</td>\n",
       "      <td>0</td>\n",
       "      <td>0</td>\n",
       "      <td>MULTIPOLYGON (((-84.49977 33.59740, -84.49836 ...</td>\n",
       "      <td>121-UC01C</td>\n",
       "    </tr>\n",
       "    <tr>\n",
       "      <th>1301</th>\n",
       "      <td>121CP052</td>\n",
       "      <td>121CP052</td>\n",
       "      <td>CP052</td>\n",
       "      <td>CP052</td>\n",
       "      <td>FULTON</td>\n",
       "      <td>60</td>\n",
       "      <td>060</td>\n",
       "      <td>121</td>\n",
       "      <td>0</td>\n",
       "      <td>0</td>\n",
       "      <td>...</td>\n",
       "      <td>0</td>\n",
       "      <td>0</td>\n",
       "      <td>0</td>\n",
       "      <td>0</td>\n",
       "      <td>0</td>\n",
       "      <td>0</td>\n",
       "      <td>0</td>\n",
       "      <td>0</td>\n",
       "      <td>POLYGON ((-84.48420 33.62904, -84.48421 33.623...</td>\n",
       "      <td>121-CP052</td>\n",
       "    </tr>\n",
       "    <tr>\n",
       "      <th>1329</th>\n",
       "      <td>051XFTPU</td>\n",
       "      <td>None</td>\n",
       "      <td>None</td>\n",
       "      <td>None</td>\n",
       "      <td>None</td>\n",
       "      <td>None</td>\n",
       "      <td>None</td>\n",
       "      <td>None</td>\n",
       "      <td>0</td>\n",
       "      <td>0</td>\n",
       "      <td>...</td>\n",
       "      <td>0</td>\n",
       "      <td>0</td>\n",
       "      <td>0</td>\n",
       "      <td>0</td>\n",
       "      <td>0</td>\n",
       "      <td>0</td>\n",
       "      <td>0</td>\n",
       "      <td>0</td>\n",
       "      <td>POLYGON ((-80.96828 32.04402, -80.96876 32.044...</td>\n",
       "      <td>NaN</td>\n",
       "    </tr>\n",
       "    <tr>\n",
       "      <th>1447</th>\n",
       "      <td>029FTSTEW</td>\n",
       "      <td>None</td>\n",
       "      <td>None</td>\n",
       "      <td>None</td>\n",
       "      <td>None</td>\n",
       "      <td>None</td>\n",
       "      <td>None</td>\n",
       "      <td>None</td>\n",
       "      <td>0</td>\n",
       "      <td>0</td>\n",
       "      <td>...</td>\n",
       "      <td>0</td>\n",
       "      <td>0</td>\n",
       "      <td>0</td>\n",
       "      <td>0</td>\n",
       "      <td>0</td>\n",
       "      <td>0</td>\n",
       "      <td>0</td>\n",
       "      <td>0</td>\n",
       "      <td>MULTIPOLYGON (((-81.59263 32.10346, -81.59242 ...</td>\n",
       "      <td>NaN</td>\n",
       "    </tr>\n",
       "    <tr>\n",
       "      <th>1766</th>\n",
       "      <td>121RW11B</td>\n",
       "      <td>121RW11B</td>\n",
       "      <td>RW11B</td>\n",
       "      <td>RW11B</td>\n",
       "      <td>FULTON</td>\n",
       "      <td>60</td>\n",
       "      <td>060</td>\n",
       "      <td>121</td>\n",
       "      <td>0</td>\n",
       "      <td>0</td>\n",
       "      <td>...</td>\n",
       "      <td>0</td>\n",
       "      <td>0</td>\n",
       "      <td>0</td>\n",
       "      <td>0</td>\n",
       "      <td>0</td>\n",
       "      <td>0</td>\n",
       "      <td>0</td>\n",
       "      <td>0</td>\n",
       "      <td>POLYGON ((-84.37992 34.00254, -84.37993 34.002...</td>\n",
       "      <td>121-RW11B</td>\n",
       "    </tr>\n",
       "    <tr>\n",
       "      <th>1773</th>\n",
       "      <td>12108F2</td>\n",
       "      <td>12108F2</td>\n",
       "      <td>08F2</td>\n",
       "      <td>08F2</td>\n",
       "      <td>FULTON</td>\n",
       "      <td>60</td>\n",
       "      <td>060</td>\n",
       "      <td>121</td>\n",
       "      <td>0</td>\n",
       "      <td>0</td>\n",
       "      <td>...</td>\n",
       "      <td>0</td>\n",
       "      <td>0</td>\n",
       "      <td>0</td>\n",
       "      <td>0</td>\n",
       "      <td>0</td>\n",
       "      <td>0</td>\n",
       "      <td>0</td>\n",
       "      <td>0</td>\n",
       "      <td>POLYGON ((-84.45236 33.82719, -84.45220 33.827...</td>\n",
       "      <td>121-08F2</td>\n",
       "    </tr>\n",
       "    <tr>\n",
       "      <th>1843</th>\n",
       "      <td>12112E2</td>\n",
       "      <td>12112E2</td>\n",
       "      <td>12E2</td>\n",
       "      <td>12E2</td>\n",
       "      <td>FULTON</td>\n",
       "      <td>60</td>\n",
       "      <td>060</td>\n",
       "      <td>121</td>\n",
       "      <td>0</td>\n",
       "      <td>0</td>\n",
       "      <td>...</td>\n",
       "      <td>0</td>\n",
       "      <td>0</td>\n",
       "      <td>0</td>\n",
       "      <td>0</td>\n",
       "      <td>0</td>\n",
       "      <td>0</td>\n",
       "      <td>0</td>\n",
       "      <td>0</td>\n",
       "      <td>POLYGON ((-84.42842 33.64877, -84.42843 33.654...</td>\n",
       "      <td>121-12E2</td>\n",
       "    </tr>\n",
       "    <tr>\n",
       "      <th>2125</th>\n",
       "      <td>215FTBEN2</td>\n",
       "      <td>None</td>\n",
       "      <td>None</td>\n",
       "      <td>None</td>\n",
       "      <td>None</td>\n",
       "      <td>None</td>\n",
       "      <td>None</td>\n",
       "      <td>None</td>\n",
       "      <td>0</td>\n",
       "      <td>0</td>\n",
       "      <td>...</td>\n",
       "      <td>0</td>\n",
       "      <td>0</td>\n",
       "      <td>0</td>\n",
       "      <td>0</td>\n",
       "      <td>0</td>\n",
       "      <td>0</td>\n",
       "      <td>0</td>\n",
       "      <td>0</td>\n",
       "      <td>POLYGON ((-84.93473 32.40556, -84.93448 32.405...</td>\n",
       "      <td>NaN</td>\n",
       "    </tr>\n",
       "    <tr>\n",
       "      <th>2128</th>\n",
       "      <td>215FTBEN4</td>\n",
       "      <td>None</td>\n",
       "      <td>None</td>\n",
       "      <td>None</td>\n",
       "      <td>None</td>\n",
       "      <td>None</td>\n",
       "      <td>None</td>\n",
       "      <td>None</td>\n",
       "      <td>0</td>\n",
       "      <td>0</td>\n",
       "      <td>...</td>\n",
       "      <td>0</td>\n",
       "      <td>0</td>\n",
       "      <td>0</td>\n",
       "      <td>0</td>\n",
       "      <td>0</td>\n",
       "      <td>0</td>\n",
       "      <td>0</td>\n",
       "      <td>0</td>\n",
       "      <td>POLYGON ((-84.91564 32.42299, -84.90945 32.422...</td>\n",
       "      <td>NaN</td>\n",
       "    </tr>\n",
       "    <tr>\n",
       "      <th>2146</th>\n",
       "      <td>215FTBEN3</td>\n",
       "      <td>None</td>\n",
       "      <td>None</td>\n",
       "      <td>None</td>\n",
       "      <td>None</td>\n",
       "      <td>None</td>\n",
       "      <td>None</td>\n",
       "      <td>None</td>\n",
       "      <td>0</td>\n",
       "      <td>0</td>\n",
       "      <td>...</td>\n",
       "      <td>0</td>\n",
       "      <td>0</td>\n",
       "      <td>0</td>\n",
       "      <td>0</td>\n",
       "      <td>0</td>\n",
       "      <td>0</td>\n",
       "      <td>0</td>\n",
       "      <td>0</td>\n",
       "      <td>POLYGON ((-84.93783 32.40666, -84.93765 32.406...</td>\n",
       "      <td>NaN</td>\n",
       "    </tr>\n",
       "    <tr>\n",
       "      <th>2229</th>\n",
       "      <td>215ZZZZZZ</td>\n",
       "      <td>None</td>\n",
       "      <td>None</td>\n",
       "      <td>None</td>\n",
       "      <td>None</td>\n",
       "      <td>None</td>\n",
       "      <td>None</td>\n",
       "      <td>None</td>\n",
       "      <td>0</td>\n",
       "      <td>0</td>\n",
       "      <td>...</td>\n",
       "      <td>0</td>\n",
       "      <td>0</td>\n",
       "      <td>0</td>\n",
       "      <td>0</td>\n",
       "      <td>0</td>\n",
       "      <td>0</td>\n",
       "      <td>0</td>\n",
       "      <td>0</td>\n",
       "      <td>POLYGON ((-84.89892 32.45201, -84.89890 32.452...</td>\n",
       "      <td>NaN</td>\n",
       "    </tr>\n",
       "    <tr>\n",
       "      <th>2230</th>\n",
       "      <td>215FTBEN1</td>\n",
       "      <td>None</td>\n",
       "      <td>None</td>\n",
       "      <td>None</td>\n",
       "      <td>None</td>\n",
       "      <td>None</td>\n",
       "      <td>None</td>\n",
       "      <td>None</td>\n",
       "      <td>0</td>\n",
       "      <td>0</td>\n",
       "      <td>...</td>\n",
       "      <td>0</td>\n",
       "      <td>0</td>\n",
       "      <td>0</td>\n",
       "      <td>0</td>\n",
       "      <td>0</td>\n",
       "      <td>0</td>\n",
       "      <td>0</td>\n",
       "      <td>0</td>\n",
       "      <td>POLYGON ((-84.89897 32.44577, -84.89896 32.449...</td>\n",
       "      <td>NaN</td>\n",
       "    </tr>\n",
       "  </tbody>\n",
       "</table>\n",
       "<p>23 rows × 45 columns</p>\n",
       "</div>"
      ],
      "text/plain": [
       "       DISTRICT  CTYSOSID PRECINCT_I PRECINCT_N CTYNAME CTYNUMBER CTYNUMBER2  \\\n",
       "249    121AP01E  121AP01E      AP01E      AP01E  FULTON        60        060   \n",
       "250    121UC033  121UC033      UC033      UC033  FULTON        60        060   \n",
       "679    12103P1B  12103P1B      03P1B      03P1B  FULTON        60        060   \n",
       "688    121AP12D  121AP12D      AP12D      AP12D  FULTON        60        060   \n",
       "887    121SC29B  121SC29B      SC29B      SC29B  FULTON        60        060   \n",
       "935    121CP06B  121CP06B      CP06B      CP06B  FULTON        60        060   \n",
       "951    121CP053  121CP053      CP053      CP053  FULTON        60        060   \n",
       "955    121SC07B  121SC07B      SC07B      SC07B  FULTON        60        060   \n",
       "966    121RW22B  121RW22B      RW22B      RW22B  FULTON        60        060   \n",
       "999    121SC08A  121SC08A      SC08A      SC08A  FULTON        60        060   \n",
       "1002   121SC21A  121SC21A      SC21A      SC21A  FULTON        60        060   \n",
       "1004   121UC01C  121UC01C      UC01C      UC01C  FULTON        60        060   \n",
       "1301   121CP052  121CP052      CP052      CP052  FULTON        60        060   \n",
       "1329   051XFTPU      None       None       None    None      None       None   \n",
       "1447  029FTSTEW      None       None       None    None      None       None   \n",
       "1766   121RW11B  121RW11B      RW11B      RW11B  FULTON        60        060   \n",
       "1773    12108F2   12108F2       08F2       08F2  FULTON        60        060   \n",
       "1843    12112E2   12112E2       12E2       12E2  FULTON        60        060   \n",
       "2125  215FTBEN2      None       None       None    None      None       None   \n",
       "2128  215FTBEN4      None       None       None    None      None       None   \n",
       "2146  215FTBEN3      None       None       None    None      None       None   \n",
       "2229  215ZZZZZZ      None       None       None    None      None       None   \n",
       "2230  215FTBEN1      None       None       None    None      None       None   \n",
       "\n",
       "     FIPS2  G20PRERTRU  G20PREDBID  ...  S20USSISTO  S20USSIGRE  G20PSCRSHA  \\\n",
       "249    121           0           0  ...           0           0           0   \n",
       "250    121           0           0  ...           0           0           0   \n",
       "679    121           0           0  ...           0           0           0   \n",
       "688    121           0           0  ...           0           0           0   \n",
       "887    121           0           0  ...           0           0           0   \n",
       "935    121           0           0  ...           0           0           0   \n",
       "951    121           0           0  ...           0           0           0   \n",
       "955    121           0           0  ...           0           0           0   \n",
       "966    121           0           0  ...           0           0           0   \n",
       "999    121           0           0  ...           0           0           0   \n",
       "1002   121           0           0  ...           0           0           0   \n",
       "1004   121           0           0  ...           0           0           0   \n",
       "1301   121           0           0  ...           0           0           0   \n",
       "1329  None           0           0  ...           0           0           0   \n",
       "1447  None           0           0  ...           0           0           0   \n",
       "1766   121           0           0  ...           0           0           0   \n",
       "1773   121           0           0  ...           0           0           0   \n",
       "1843   121           0           0  ...           0           0           0   \n",
       "2125  None           0           0  ...           0           0           0   \n",
       "2128  None           0           0  ...           0           0           0   \n",
       "2146  None           0           0  ...           0           0           0   \n",
       "2229  None           0           0  ...           0           0           0   \n",
       "2230  None           0           0  ...           0           0           0   \n",
       "\n",
       "      G20PSCDBRY  G20PSCLMEL  G20PSCRMCD  G20PSCDBLA  G20PSCLWIL  \\\n",
       "249            0           0           0           0           0   \n",
       "250            0           0           0           0           0   \n",
       "679            0           0           0           0           0   \n",
       "688            0           0           0           0           0   \n",
       "887            0           0           0           0           0   \n",
       "935            0           0           0           0           0   \n",
       "951            0           0           0           0           0   \n",
       "955            0           0           0           0           0   \n",
       "966            0           0           0           0           0   \n",
       "999            0           0           0           0           0   \n",
       "1002           0           0           0           0           0   \n",
       "1004           0           0           0           0           0   \n",
       "1301           0           0           0           0           0   \n",
       "1329           0           0           0           0           0   \n",
       "1447           0           0           0           0           0   \n",
       "1766           0           0           0           0           0   \n",
       "1773           0           0           0           0           0   \n",
       "1843           0           0           0           0           0   \n",
       "2125           0           0           0           0           0   \n",
       "2128           0           0           0           0           0   \n",
       "2146           0           0           0           0           0   \n",
       "2229           0           0           0           0           0   \n",
       "2230           0           0           0           0           0   \n",
       "\n",
       "                                               geometry  unique_ID  \n",
       "249   POLYGON ((-84.29795 34.03893, -84.29797 34.037...  121-AP01E  \n",
       "250   MULTIPOLYGON (((-84.50565 33.58889, -84.50668 ...  121-UC033  \n",
       "679   POLYGON ((-84.40813 33.77318, -84.40764 33.773...  121-03P1B  \n",
       "688   POLYGON ((-84.25836 34.09181, -84.25818 34.091...  121-AP12D  \n",
       "887   POLYGON ((-84.51576 33.58520, -84.51580 33.585...  121-SC29B  \n",
       "935   POLYGON ((-84.46700 33.62007, -84.47102 33.620...  121-CP06B  \n",
       "951   POLYGON ((-84.48197 33.62309, -84.48200 33.623...  121-CP053  \n",
       "955   POLYGON ((-84.58213 33.62434, -84.58229 33.624...  121-SC07B  \n",
       "966   POLYGON ((-84.27466 33.99256, -84.27435 33.992...  121-RW22B  \n",
       "999   POLYGON ((-84.55685 33.60644, -84.55673 33.606...  121-SC08A  \n",
       "1002  POLYGON ((-84.54970 33.55797, -84.54974 33.557...  121-SC21A  \n",
       "1004  MULTIPOLYGON (((-84.49977 33.59740, -84.49836 ...  121-UC01C  \n",
       "1301  POLYGON ((-84.48420 33.62904, -84.48421 33.623...  121-CP052  \n",
       "1329  POLYGON ((-80.96828 32.04402, -80.96876 32.044...        NaN  \n",
       "1447  MULTIPOLYGON (((-81.59263 32.10346, -81.59242 ...        NaN  \n",
       "1766  POLYGON ((-84.37992 34.00254, -84.37993 34.002...  121-RW11B  \n",
       "1773  POLYGON ((-84.45236 33.82719, -84.45220 33.827...   121-08F2  \n",
       "1843  POLYGON ((-84.42842 33.64877, -84.42843 33.654...   121-12E2  \n",
       "2125  POLYGON ((-84.93473 32.40556, -84.93448 32.405...        NaN  \n",
       "2128  POLYGON ((-84.91564 32.42299, -84.90945 32.422...        NaN  \n",
       "2146  POLYGON ((-84.93783 32.40666, -84.93765 32.406...        NaN  \n",
       "2229  POLYGON ((-84.89892 32.45201, -84.89890 32.452...        NaN  \n",
       "2230  POLYGON ((-84.89897 32.44577, -84.89896 32.449...        NaN  \n",
       "\n",
       "[23 rows x 45 columns]"
      ]
     },
     "execution_count": 38,
     "metadata": {},
     "output_type": "execute_result"
    }
   ],
   "source": [
    "vest_ga_20[vest_ga_20[\"DISTRICT\"].isin(empty_precincts)]"
   ]
  },
  {
   "cell_type": "code",
   "execution_count": 39,
   "id": "1f8a1a3e",
   "metadata": {},
   "outputs": [
    {
     "name": "stdout",
     "output_type": "stream",
     "text": [
      "Index(['DISTRICT', 'CTYSOSID', 'PRECINCT_I', 'PRECINCT_N', 'CTYNAME',\n",
      "       'CTYNUMBER', 'CTYNUMBER2', 'FIPS2', 'G20PRERTRU', 'G20PREDBID',\n",
      "       'G20PRELJOR', 'C20PRERTRU', 'C20PREDBID', 'C20PRELJOR', 'G20USSRPER',\n",
      "       'G20USSDOSS', 'G20USSLHAZ', 'S20USSRLOE', 'S20USSRCOL', 'S20USSRGRA',\n",
      "       'S20USSRJAC', 'S20USSRTAY', 'S20USSRJOH', 'S20USSDWAR', 'S20USSDJAC',\n",
      "       'S20USSDLIE', 'S20USSDJOH', 'S20USSDJAM', 'S20USSDSLA', 'S20USSDWIN',\n",
      "       'S20USSDTAR', 'S20USSLSLO', 'S20USSGFOR', 'S20USSIBUC', 'S20USSIBAR',\n",
      "       'S20USSISTO', 'S20USSIGRE', 'G20PSCRSHA', 'G20PSCDBRY', 'G20PSCLMEL',\n",
      "       'G20PSCRMCD', 'G20PSCDBLA', 'G20PSCLWIL', 'geometry', 'unique_ID'],\n",
      "      dtype='object')\n"
     ]
    }
   ],
   "source": [
    "print(vest_ga_20.columns)"
   ]
  },
  {
   "cell_type": "code",
   "execution_count": 40,
   "id": "e9a53daf",
   "metadata": {},
   "outputs": [
    {
     "name": "stderr",
     "output_type": "stream",
     "text": [
      "/Users/peterhorton/opt/anaconda3/envs/geo_env/lib/python3.9/site-packages/geopandas/geodataframe.py:1322: SettingWithCopyWarning: \n",
      "A value is trying to be set on a copy of a slice from a DataFrame.\n",
      "Try using .loc[row_indexer,col_indexer] = value instead\n",
      "\n",
      "See the caveats in the documentation: https://pandas.pydata.org/pandas-docs/stable/user_guide/indexing.html#returning-a-view-versus-a-copy\n",
      "  super(GeoDataFrame, self).__setitem__(key, value)\n"
     ]
    }
   ],
   "source": [
    "empty_unjoined = vest_ga_20[vest_ga_20[\"DISTRICT\"].isin(empty_precincts)]\n",
    "empty_unjoined[\"unique_ID\"]=empty_unjoined[\"DISTRICT\"].str[0:3]+\"-\"+empty_unjoined[\"DISTRICT\"].str[3:]\n",
    "empty_unjoined = empty_unjoined[[\"unique_ID\",\"CTYNAME\",\"FIPS2\",\"PRECINCT_N\",'S20USSRJOH',\n",
    "       'S20USSIBAR', 'S20USSIBUC', 'S20USSRJAC', 'S20USSLSLO', 'G20PSCDBLA',\n",
    "       'G20USSRPER', 'S20USSDJAC', 'S20USSRGRA', 'G20PRERTRU', 'C20PRERTRU',\n",
    "       'S20USSRCOL', 'S20USSDTAR', 'G20PSCLMEL', 'S20USSDJAM', 'G20PSCRSHA',\n",
    "       'G20PRELJOR', 'C20PRELJOR', 'S20USSGFOR', 'G20USSDOSS', 'G20PREDBID',\n",
    "       'C20PREDBID', 'S20USSDSLA', 'S20USSRTAY', 'S20USSRLOE', 'G20PSCRMCD',\n",
    "       'S20USSDLIE', 'S20USSIGRE', 'G20PSCLWIL', 'S20USSDWAR', 'S20USSDWIN',\n",
    "       'G20PSCDBRY', 'G20USSLHAZ', 'S20USSDJOH', 'S20USSISTO', 'FIPS2']]\n",
    "\n",
    "empty_unjoined.columns = ga_election.columns\n",
    "\n"
   ]
  },
  {
   "cell_type": "code",
   "execution_count": 41,
   "id": "47a70b63",
   "metadata": {},
   "outputs": [],
   "source": [
    "empty_unjoined.columns = ga_election.columns"
   ]
  },
  {
   "cell_type": "code",
   "execution_count": 42,
   "id": "1a7f9e2f",
   "metadata": {},
   "outputs": [
    {
     "name": "stdout",
     "output_type": "stream",
     "text": [
      "choice   unique_ID  county county_fips precinct  S20USSRJOH  S20USSIBAR  \\\n",
      "249      121-AP01E  FULTON         121    AP01E           0           0   \n",
      "250      121-UC033  FULTON         121    UC033           0           0   \n",
      "679      121-03P1B  FULTON         121    03P1B           0           0   \n",
      "688      121-AP12D  FULTON         121    AP12D           0           0   \n",
      "887      121-SC29B  FULTON         121    SC29B           0           0   \n",
      "935      121-CP06B  FULTON         121    CP06B           0           0   \n",
      "951      121-CP053  FULTON         121    CP053           0           0   \n",
      "955      121-SC07B  FULTON         121    SC07B           0           0   \n",
      "966      121-RW22B  FULTON         121    RW22B           0           0   \n",
      "999      121-SC08A  FULTON         121    SC08A           0           0   \n",
      "1002     121-SC21A  FULTON         121    SC21A           0           0   \n",
      "1004     121-UC01C  FULTON         121    UC01C           0           0   \n",
      "1301     121-CP052  FULTON         121    CP052           0           0   \n",
      "1329     051-XFTPU    None        None     None           0           0   \n",
      "1447    029-FTSTEW    None        None     None           0           0   \n",
      "1766     121-RW11B  FULTON         121    RW11B           0           0   \n",
      "1773      121-08F2  FULTON         121     08F2           0           0   \n",
      "1843      121-12E2  FULTON         121     12E2           0           0   \n",
      "2125    215-FTBEN2    None        None     None           0           0   \n",
      "2128    215-FTBEN4    None        None     None           0           0   \n",
      "2146    215-FTBEN3    None        None     None           0           0   \n",
      "2229    215-ZZZZZZ    None        None     None           0           0   \n",
      "2230    215-FTBEN1    None        None     None           0           0   \n",
      "\n",
      "choice  S20USSIBUC  S20USSRJAC  S20USSLSLO  G20PSCDBLA  ...  S20USSDLIE  \\\n",
      "249              0           0           0           0  ...           0   \n",
      "250              0           0           0           0  ...           0   \n",
      "679              0           0           0           0  ...           0   \n",
      "688              0           0           0           0  ...           0   \n",
      "887              0           0           0           0  ...           0   \n",
      "935              0           0           0           0  ...           0   \n",
      "951              0           0           0           0  ...           0   \n",
      "955              0           0           0           0  ...           0   \n",
      "966              0           0           0           0  ...           0   \n",
      "999              0           0           0           0  ...           0   \n",
      "1002             0           0           0           0  ...           0   \n",
      "1004             0           0           0           0  ...           0   \n",
      "1301             0           0           0           0  ...           0   \n",
      "1329             0           0           0           0  ...           0   \n",
      "1447             0           0           0           0  ...           0   \n",
      "1766             0           0           0           0  ...           0   \n",
      "1773             0           0           0           0  ...           0   \n",
      "1843             0           0           0           0  ...           0   \n",
      "2125             0           0           0           0  ...           0   \n",
      "2128             0           0           0           0  ...           0   \n",
      "2146             0           0           0           0  ...           0   \n",
      "2229             0           0           0           0  ...           0   \n",
      "2230             0           0           0           0  ...           0   \n",
      "\n",
      "choice  S20USSIGRE  G20PSCLWIL  S20USSDWAR  S20USSDWIN  G20PSCDBRY  \\\n",
      "249              0           0           0           0           0   \n",
      "250              0           0           0           0           0   \n",
      "679              0           0           0           0           0   \n",
      "688              0           0           0           0           0   \n",
      "887              0           0           0           0           0   \n",
      "935              0           0           0           0           0   \n",
      "951              0           0           0           0           0   \n",
      "955              0           0           0           0           0   \n",
      "966              0           0           0           0           0   \n",
      "999              0           0           0           0           0   \n",
      "1002             0           0           0           0           0   \n",
      "1004             0           0           0           0           0   \n",
      "1301             0           0           0           0           0   \n",
      "1329             0           0           0           0           0   \n",
      "1447             0           0           0           0           0   \n",
      "1766             0           0           0           0           0   \n",
      "1773             0           0           0           0           0   \n",
      "1843             0           0           0           0           0   \n",
      "2125             0           0           0           0           0   \n",
      "2128             0           0           0           0           0   \n",
      "2146             0           0           0           0           0   \n",
      "2229             0           0           0           0           0   \n",
      "2230             0           0           0           0           0   \n",
      "\n",
      "choice  G20USSLHAZ  S20USSDJOH  S20USSISTO  FIPS2  \n",
      "249              0           0           0    121  \n",
      "250              0           0           0    121  \n",
      "679              0           0           0    121  \n",
      "688              0           0           0    121  \n",
      "887              0           0           0    121  \n",
      "935              0           0           0    121  \n",
      "951              0           0           0    121  \n",
      "955              0           0           0    121  \n",
      "966              0           0           0    121  \n",
      "999              0           0           0    121  \n",
      "1002             0           0           0    121  \n",
      "1004             0           0           0    121  \n",
      "1301             0           0           0    121  \n",
      "1329             0           0           0   None  \n",
      "1447             0           0           0   None  \n",
      "1766             0           0           0    121  \n",
      "1773             0           0           0    121  \n",
      "1843             0           0           0    121  \n",
      "2125             0           0           0   None  \n",
      "2128             0           0           0   None  \n",
      "2146             0           0           0   None  \n",
      "2229             0           0           0   None  \n",
      "2230             0           0           0   None  \n",
      "\n",
      "[23 rows x 40 columns]\n"
     ]
    }
   ],
   "source": [
    "print(empty_unjoined)"
   ]
  },
  {
   "cell_type": "code",
   "execution_count": 43,
   "id": "6d40f8ac",
   "metadata": {},
   "outputs": [],
   "source": [
    "ga_election = pd.concat([ga_election,empty_unjoined])"
   ]
  },
  {
   "cell_type": "markdown",
   "id": "054b4bad",
   "metadata": {},
   "source": [
    "## Shapefiles "
   ]
  },
  {
   "cell_type": "code",
   "execution_count": 44,
   "id": "aca7192a",
   "metadata": {},
   "outputs": [],
   "source": [
    "shapefiles_state = gp.read_file(\"./raw-from-source/Shapefiles/vtd2020-shape-4-20-21/VTD2020-Shape.shp\")"
   ]
  },
  {
   "cell_type": "code",
   "execution_count": 45,
   "id": "d5ee5d58",
   "metadata": {},
   "outputs": [
    {
     "data": {
      "text/html": [
       "<div>\n",
       "<style scoped>\n",
       "    .dataframe tbody tr th:only-of-type {\n",
       "        vertical-align: middle;\n",
       "    }\n",
       "\n",
       "    .dataframe tbody tr th {\n",
       "        vertical-align: top;\n",
       "    }\n",
       "\n",
       "    .dataframe thead th {\n",
       "        text-align: right;\n",
       "    }\n",
       "</style>\n",
       "<table border=\"1\" class=\"dataframe\">\n",
       "  <thead>\n",
       "    <tr style=\"text-align: right;\">\n",
       "      <th></th>\n",
       "      <th>DISTRICT</th>\n",
       "      <th>CTYSOSID</th>\n",
       "      <th>PRECINCT_I</th>\n",
       "      <th>PRECINCT_N</th>\n",
       "      <th>CTYNAME</th>\n",
       "      <th>CTYNUMBER</th>\n",
       "      <th>CTYNUMBER2</th>\n",
       "      <th>FIPS2</th>\n",
       "      <th>G20PRERTRU</th>\n",
       "      <th>G20PREDBID</th>\n",
       "      <th>...</th>\n",
       "      <th>S20USSISTO</th>\n",
       "      <th>S20USSIGRE</th>\n",
       "      <th>G20PSCRSHA</th>\n",
       "      <th>G20PSCDBRY</th>\n",
       "      <th>G20PSCLMEL</th>\n",
       "      <th>G20PSCRMCD</th>\n",
       "      <th>G20PSCDBLA</th>\n",
       "      <th>G20PSCLWIL</th>\n",
       "      <th>geometry</th>\n",
       "      <th>unique_ID</th>\n",
       "    </tr>\n",
       "  </thead>\n",
       "  <tbody>\n",
       "    <tr>\n",
       "      <th>1630</th>\n",
       "      <td>089BM</td>\n",
       "      <td>089BM</td>\n",
       "      <td>BM</td>\n",
       "      <td>BETHUNE MIDDLE</td>\n",
       "      <td>DEKALB</td>\n",
       "      <td>44</td>\n",
       "      <td>044</td>\n",
       "      <td>089</td>\n",
       "      <td>138</td>\n",
       "      <td>2698</td>\n",
       "      <td>...</td>\n",
       "      <td>9</td>\n",
       "      <td>9</td>\n",
       "      <td>124</td>\n",
       "      <td>2612</td>\n",
       "      <td>63</td>\n",
       "      <td>113</td>\n",
       "      <td>2612</td>\n",
       "      <td>44</td>\n",
       "      <td>POLYGON ((-84.21738 33.71163, -84.21735 33.711...</td>\n",
       "      <td>089-BETHUNE MIDDLE</td>\n",
       "    </tr>\n",
       "    <tr>\n",
       "      <th>1631</th>\n",
       "      <td>089KG</td>\n",
       "      <td>089KG</td>\n",
       "      <td>KG</td>\n",
       "      <td>KITTREDGE ELEM</td>\n",
       "      <td>DEKALB</td>\n",
       "      <td>44</td>\n",
       "      <td>044</td>\n",
       "      <td>089</td>\n",
       "      <td>734</td>\n",
       "      <td>1079</td>\n",
       "      <td>...</td>\n",
       "      <td>0</td>\n",
       "      <td>2</td>\n",
       "      <td>853</td>\n",
       "      <td>865</td>\n",
       "      <td>81</td>\n",
       "      <td>835</td>\n",
       "      <td>884</td>\n",
       "      <td>79</td>\n",
       "      <td>POLYGON ((-84.33197 33.90557, -84.33176 33.905...</td>\n",
       "      <td>089-KITTREDGE ELEM</td>\n",
       "    </tr>\n",
       "    <tr>\n",
       "      <th>1632</th>\n",
       "      <td>089MT</td>\n",
       "      <td>089MT</td>\n",
       "      <td>MT</td>\n",
       "      <td>METROPOLITAN</td>\n",
       "      <td>DEKALB</td>\n",
       "      <td>44</td>\n",
       "      <td>044</td>\n",
       "      <td>089</td>\n",
       "      <td>161</td>\n",
       "      <td>2304</td>\n",
       "      <td>...</td>\n",
       "      <td>3</td>\n",
       "      <td>7</td>\n",
       "      <td>194</td>\n",
       "      <td>2135</td>\n",
       "      <td>127</td>\n",
       "      <td>197</td>\n",
       "      <td>2145</td>\n",
       "      <td>102</td>\n",
       "      <td>POLYGON ((-84.34925 33.73940, -84.34925 33.739...</td>\n",
       "      <td>089-METROPOLITAN</td>\n",
       "    </tr>\n",
       "    <tr>\n",
       "      <th>1633</th>\n",
       "      <td>089GB</td>\n",
       "      <td>089GB</td>\n",
       "      <td>GB</td>\n",
       "      <td>GLENHAVEN</td>\n",
       "      <td>DEKALB</td>\n",
       "      <td>44</td>\n",
       "      <td>044</td>\n",
       "      <td>089</td>\n",
       "      <td>123</td>\n",
       "      <td>999</td>\n",
       "      <td>...</td>\n",
       "      <td>5</td>\n",
       "      <td>2</td>\n",
       "      <td>114</td>\n",
       "      <td>965</td>\n",
       "      <td>39</td>\n",
       "      <td>109</td>\n",
       "      <td>965</td>\n",
       "      <td>26</td>\n",
       "      <td>POLYGON ((-84.22325 33.76380, -84.22205 33.763...</td>\n",
       "      <td>089-GLENHAVEN</td>\n",
       "    </tr>\n",
       "    <tr>\n",
       "      <th>1634</th>\n",
       "      <td>089HH</td>\n",
       "      <td>089HH</td>\n",
       "      <td>HH</td>\n",
       "      <td>HARRIS-NARVIE J HARRIS ELEM</td>\n",
       "      <td>DEKALB</td>\n",
       "      <td>44</td>\n",
       "      <td>044</td>\n",
       "      <td>089</td>\n",
       "      <td>91</td>\n",
       "      <td>2537</td>\n",
       "      <td>...</td>\n",
       "      <td>10</td>\n",
       "      <td>5</td>\n",
       "      <td>70</td>\n",
       "      <td>2507</td>\n",
       "      <td>63</td>\n",
       "      <td>79</td>\n",
       "      <td>2500</td>\n",
       "      <td>52</td>\n",
       "      <td>POLYGON ((-84.28207 33.66013, -84.28204 33.660...</td>\n",
       "      <td>089-HARRIS-NARVIE J HARRIS ELEM</td>\n",
       "    </tr>\n",
       "    <tr>\n",
       "      <th>...</th>\n",
       "      <td>...</td>\n",
       "      <td>...</td>\n",
       "      <td>...</td>\n",
       "      <td>...</td>\n",
       "      <td>...</td>\n",
       "      <td>...</td>\n",
       "      <td>...</td>\n",
       "      <td>...</td>\n",
       "      <td>...</td>\n",
       "      <td>...</td>\n",
       "      <td>...</td>\n",
       "      <td>...</td>\n",
       "      <td>...</td>\n",
       "      <td>...</td>\n",
       "      <td>...</td>\n",
       "      <td>...</td>\n",
       "      <td>...</td>\n",
       "      <td>...</td>\n",
       "      <td>...</td>\n",
       "      <td>...</td>\n",
       "      <td>...</td>\n",
       "    </tr>\n",
       "    <tr>\n",
       "      <th>2092</th>\n",
       "      <td>089ME</td>\n",
       "      <td>089ME</td>\n",
       "      <td>ME</td>\n",
       "      <td>MCLENDON</td>\n",
       "      <td>DEKALB</td>\n",
       "      <td>44</td>\n",
       "      <td>044</td>\n",
       "      <td>089</td>\n",
       "      <td>423</td>\n",
       "      <td>2025</td>\n",
       "      <td>...</td>\n",
       "      <td>7</td>\n",
       "      <td>10</td>\n",
       "      <td>423</td>\n",
       "      <td>1889</td>\n",
       "      <td>139</td>\n",
       "      <td>424</td>\n",
       "      <td>1893</td>\n",
       "      <td>107</td>\n",
       "      <td>POLYGON ((-84.28073 33.80023, -84.27976 33.801...</td>\n",
       "      <td>089-MCLENDON</td>\n",
       "    </tr>\n",
       "    <tr>\n",
       "      <th>2093</th>\n",
       "      <td>089CY</td>\n",
       "      <td>089CY</td>\n",
       "      <td>CY</td>\n",
       "      <td>CLARKSTON COMMUNITY CENTER</td>\n",
       "      <td>DEKALB</td>\n",
       "      <td>44</td>\n",
       "      <td>044</td>\n",
       "      <td>089</td>\n",
       "      <td>213</td>\n",
       "      <td>1202</td>\n",
       "      <td>...</td>\n",
       "      <td>5</td>\n",
       "      <td>5</td>\n",
       "      <td>204</td>\n",
       "      <td>1110</td>\n",
       "      <td>81</td>\n",
       "      <td>179</td>\n",
       "      <td>1127</td>\n",
       "      <td>55</td>\n",
       "      <td>POLYGON ((-84.26392 33.79360, -84.26352 33.794...</td>\n",
       "      <td>089-CLARKSTON COMMUNITY CENTER</td>\n",
       "    </tr>\n",
       "    <tr>\n",
       "      <th>2094</th>\n",
       "      <td>089MP</td>\n",
       "      <td>089MP</td>\n",
       "      <td>MP</td>\n",
       "      <td>MCNAIR ACADEMY</td>\n",
       "      <td>DEKALB</td>\n",
       "      <td>44</td>\n",
       "      <td>044</td>\n",
       "      <td>089</td>\n",
       "      <td>53</td>\n",
       "      <td>1213</td>\n",
       "      <td>...</td>\n",
       "      <td>4</td>\n",
       "      <td>2</td>\n",
       "      <td>61</td>\n",
       "      <td>1157</td>\n",
       "      <td>46</td>\n",
       "      <td>54</td>\n",
       "      <td>1160</td>\n",
       "      <td>35</td>\n",
       "      <td>POLYGON ((-84.30968 33.73438, -84.30968 33.734...</td>\n",
       "      <td>089-MCNAIR ACADEMY</td>\n",
       "    </tr>\n",
       "    <tr>\n",
       "      <th>2095</th>\n",
       "      <td>089PN</td>\n",
       "      <td>089PN</td>\n",
       "      <td>PN</td>\n",
       "      <td>PINEY GROVE</td>\n",
       "      <td>DEKALB</td>\n",
       "      <td>44</td>\n",
       "      <td>044</td>\n",
       "      <td>089</td>\n",
       "      <td>62</td>\n",
       "      <td>1042</td>\n",
       "      <td>...</td>\n",
       "      <td>6</td>\n",
       "      <td>2</td>\n",
       "      <td>68</td>\n",
       "      <td>989</td>\n",
       "      <td>29</td>\n",
       "      <td>69</td>\n",
       "      <td>981</td>\n",
       "      <td>23</td>\n",
       "      <td>POLYGON ((-84.32939 33.73983, -84.32930 33.739...</td>\n",
       "      <td>089-PINEY GROVE</td>\n",
       "    </tr>\n",
       "    <tr>\n",
       "      <th>2096</th>\n",
       "      <td>089MB</td>\n",
       "      <td>089MB</td>\n",
       "      <td>MB</td>\n",
       "      <td>MCNAIR HIGH</td>\n",
       "      <td>DEKALB</td>\n",
       "      <td>44</td>\n",
       "      <td>044</td>\n",
       "      <td>089</td>\n",
       "      <td>163</td>\n",
       "      <td>2667</td>\n",
       "      <td>...</td>\n",
       "      <td>12</td>\n",
       "      <td>4</td>\n",
       "      <td>185</td>\n",
       "      <td>2527</td>\n",
       "      <td>114</td>\n",
       "      <td>177</td>\n",
       "      <td>2535</td>\n",
       "      <td>87</td>\n",
       "      <td>POLYGON ((-84.34961 33.69720, -84.34955 33.698...</td>\n",
       "      <td>089-MCNAIR HIGH</td>\n",
       "    </tr>\n",
       "  </tbody>\n",
       "</table>\n",
       "<p>191 rows × 45 columns</p>\n",
       "</div>"
      ],
      "text/plain": [
       "     DISTRICT CTYSOSID PRECINCT_I                   PRECINCT_N CTYNAME  \\\n",
       "1630    089BM    089BM         BM               BETHUNE MIDDLE  DEKALB   \n",
       "1631    089KG    089KG         KG               KITTREDGE ELEM  DEKALB   \n",
       "1632    089MT    089MT         MT                 METROPOLITAN  DEKALB   \n",
       "1633    089GB    089GB         GB                    GLENHAVEN  DEKALB   \n",
       "1634    089HH    089HH         HH  HARRIS-NARVIE J HARRIS ELEM  DEKALB   \n",
       "...       ...      ...        ...                          ...     ...   \n",
       "2092    089ME    089ME         ME                     MCLENDON  DEKALB   \n",
       "2093    089CY    089CY         CY   CLARKSTON COMMUNITY CENTER  DEKALB   \n",
       "2094    089MP    089MP         MP               MCNAIR ACADEMY  DEKALB   \n",
       "2095    089PN    089PN         PN                  PINEY GROVE  DEKALB   \n",
       "2096    089MB    089MB         MB                  MCNAIR HIGH  DEKALB   \n",
       "\n",
       "     CTYNUMBER CTYNUMBER2 FIPS2  G20PRERTRU  G20PREDBID  ...  S20USSISTO  \\\n",
       "1630        44        044   089         138        2698  ...           9   \n",
       "1631        44        044   089         734        1079  ...           0   \n",
       "1632        44        044   089         161        2304  ...           3   \n",
       "1633        44        044   089         123         999  ...           5   \n",
       "1634        44        044   089          91        2537  ...          10   \n",
       "...        ...        ...   ...         ...         ...  ...         ...   \n",
       "2092        44        044   089         423        2025  ...           7   \n",
       "2093        44        044   089         213        1202  ...           5   \n",
       "2094        44        044   089          53        1213  ...           4   \n",
       "2095        44        044   089          62        1042  ...           6   \n",
       "2096        44        044   089         163        2667  ...          12   \n",
       "\n",
       "      S20USSIGRE  G20PSCRSHA  G20PSCDBRY  G20PSCLMEL  G20PSCRMCD  G20PSCDBLA  \\\n",
       "1630           9         124        2612          63         113        2612   \n",
       "1631           2         853         865          81         835         884   \n",
       "1632           7         194        2135         127         197        2145   \n",
       "1633           2         114         965          39         109         965   \n",
       "1634           5          70        2507          63          79        2500   \n",
       "...          ...         ...         ...         ...         ...         ...   \n",
       "2092          10         423        1889         139         424        1893   \n",
       "2093           5         204        1110          81         179        1127   \n",
       "2094           2          61        1157          46          54        1160   \n",
       "2095           2          68         989          29          69         981   \n",
       "2096           4         185        2527         114         177        2535   \n",
       "\n",
       "      G20PSCLWIL                                           geometry  \\\n",
       "1630          44  POLYGON ((-84.21738 33.71163, -84.21735 33.711...   \n",
       "1631          79  POLYGON ((-84.33197 33.90557, -84.33176 33.905...   \n",
       "1632         102  POLYGON ((-84.34925 33.73940, -84.34925 33.739...   \n",
       "1633          26  POLYGON ((-84.22325 33.76380, -84.22205 33.763...   \n",
       "1634          52  POLYGON ((-84.28207 33.66013, -84.28204 33.660...   \n",
       "...          ...                                                ...   \n",
       "2092         107  POLYGON ((-84.28073 33.80023, -84.27976 33.801...   \n",
       "2093          55  POLYGON ((-84.26392 33.79360, -84.26352 33.794...   \n",
       "2094          35  POLYGON ((-84.30968 33.73438, -84.30968 33.734...   \n",
       "2095          23  POLYGON ((-84.32939 33.73983, -84.32930 33.739...   \n",
       "2096          87  POLYGON ((-84.34961 33.69720, -84.34955 33.698...   \n",
       "\n",
       "                            unique_ID  \n",
       "1630               089-BETHUNE MIDDLE  \n",
       "1631               089-KITTREDGE ELEM  \n",
       "1632                 089-METROPOLITAN  \n",
       "1633                    089-GLENHAVEN  \n",
       "1634  089-HARRIS-NARVIE J HARRIS ELEM  \n",
       "...                               ...  \n",
       "2092                     089-MCLENDON  \n",
       "2093   089-CLARKSTON COMMUNITY CENTER  \n",
       "2094               089-MCNAIR ACADEMY  \n",
       "2095                  089-PINEY GROVE  \n",
       "2096                  089-MCNAIR HIGH  \n",
       "\n",
       "[191 rows x 45 columns]"
      ]
     },
     "execution_count": 45,
     "metadata": {},
     "output_type": "execute_result"
    }
   ],
   "source": [
    "vest_ga_20[vest_ga_20[\"FIPS2\"]==\"089\"]"
   ]
  },
  {
   "cell_type": "code",
   "execution_count": 46,
   "id": "f82ed1d5",
   "metadata": {},
   "outputs": [
    {
     "data": {
      "text/html": [
       "<div>\n",
       "<style scoped>\n",
       "    .dataframe tbody tr th:only-of-type {\n",
       "        vertical-align: middle;\n",
       "    }\n",
       "\n",
       "    .dataframe tbody tr th {\n",
       "        vertical-align: top;\n",
       "    }\n",
       "\n",
       "    .dataframe thead th {\n",
       "        text-align: right;\n",
       "    }\n",
       "</style>\n",
       "<table border=\"1\" class=\"dataframe\">\n",
       "  <thead>\n",
       "    <tr style=\"text-align: right;\">\n",
       "      <th></th>\n",
       "      <th>ID</th>\n",
       "      <th>AREA</th>\n",
       "      <th>DATA</th>\n",
       "      <th>DISTRICT</th>\n",
       "      <th>CTYSOSID</th>\n",
       "      <th>PRECINCT_I</th>\n",
       "      <th>PRECINCT_N</th>\n",
       "      <th>CNTY</th>\n",
       "      <th>FIPS2</th>\n",
       "      <th>CTYNAME</th>\n",
       "      <th>...</th>\n",
       "      <th>UKNMALEREG</th>\n",
       "      <th>UKNMALEVOT</th>\n",
       "      <th>UNKMALEVOT</th>\n",
       "      <th>UKNFMREG20</th>\n",
       "      <th>UKNFMVOTED</th>\n",
       "      <th>UKNFMVOTE1</th>\n",
       "      <th>UKNOWNREG2</th>\n",
       "      <th>UKNOWNVOTE</th>\n",
       "      <th>UKNOWVOTED</th>\n",
       "      <th>geometry</th>\n",
       "    </tr>\n",
       "  </thead>\n",
       "  <tbody>\n",
       "    <tr>\n",
       "      <th>1217</th>\n",
       "      <td>88577</td>\n",
       "      <td>7.914923</td>\n",
       "      <td>276</td>\n",
       "      <td>0514-06C</td>\n",
       "      <td>0514-06C</td>\n",
       "      <td>4-06C</td>\n",
       "      <td>FIRST BAPTIST CHURCH OF THE ISLAND</td>\n",
       "      <td>025</td>\n",
       "      <td>051</td>\n",
       "      <td>CHATHAM</td>\n",
       "      <td>...</td>\n",
       "      <td>74.0</td>\n",
       "      <td>51.0</td>\n",
       "      <td>68.919998</td>\n",
       "      <td>74.0</td>\n",
       "      <td>44.0</td>\n",
       "      <td>59.459999</td>\n",
       "      <td>1.0</td>\n",
       "      <td>0.0</td>\n",
       "      <td>0.00</td>\n",
       "      <td>POLYGON ((-80.96682 32.02390, -80.96647 32.024...</td>\n",
       "    </tr>\n",
       "    <tr>\n",
       "      <th>1218</th>\n",
       "      <td>88578</td>\n",
       "      <td>1.587025</td>\n",
       "      <td>275</td>\n",
       "      <td>0514-05C</td>\n",
       "      <td>0514-05C</td>\n",
       "      <td>4-05C</td>\n",
       "      <td>SAINT FRANCIS EPISCOPAL CHURCH</td>\n",
       "      <td>025</td>\n",
       "      <td>051</td>\n",
       "      <td>CHATHAM</td>\n",
       "      <td>...</td>\n",
       "      <td>67.0</td>\n",
       "      <td>33.0</td>\n",
       "      <td>49.250000</td>\n",
       "      <td>103.0</td>\n",
       "      <td>60.0</td>\n",
       "      <td>58.250000</td>\n",
       "      <td>2.0</td>\n",
       "      <td>0.0</td>\n",
       "      <td>0.00</td>\n",
       "      <td>POLYGON ((-80.95972 32.03496, -80.95883 32.035...</td>\n",
       "    </tr>\n",
       "    <tr>\n",
       "      <th>1220</th>\n",
       "      <td>88580</td>\n",
       "      <td>5.824897</td>\n",
       "      <td>273</td>\n",
       "      <td>0514-02C</td>\n",
       "      <td>0514-02C</td>\n",
       "      <td>4-02C</td>\n",
       "      <td>FRANK MURRAY COMMUNITY CENTER</td>\n",
       "      <td>025</td>\n",
       "      <td>051</td>\n",
       "      <td>CHATHAM</td>\n",
       "      <td>...</td>\n",
       "      <td>111.0</td>\n",
       "      <td>56.0</td>\n",
       "      <td>50.450001</td>\n",
       "      <td>104.0</td>\n",
       "      <td>57.0</td>\n",
       "      <td>54.810001</td>\n",
       "      <td>1.0</td>\n",
       "      <td>0.0</td>\n",
       "      <td>0.00</td>\n",
       "      <td>POLYGON ((-81.02876 32.06165, -81.02948 32.062...</td>\n",
       "    </tr>\n",
       "    <tr>\n",
       "      <th>1221</th>\n",
       "      <td>88581</td>\n",
       "      <td>1.173903</td>\n",
       "      <td>280</td>\n",
       "      <td>0514-11C</td>\n",
       "      <td>0514-11C</td>\n",
       "      <td>4-11C</td>\n",
       "      <td>TYBEE IS SCH CAFE</td>\n",
       "      <td>025</td>\n",
       "      <td>051</td>\n",
       "      <td>CHATHAM</td>\n",
       "      <td>...</td>\n",
       "      <td>64.0</td>\n",
       "      <td>38.0</td>\n",
       "      <td>59.380001</td>\n",
       "      <td>57.0</td>\n",
       "      <td>33.0</td>\n",
       "      <td>57.889999</td>\n",
       "      <td>2.0</td>\n",
       "      <td>1.0</td>\n",
       "      <td>50.00</td>\n",
       "      <td>POLYGON ((-80.84589 32.01384, -80.84572 32.013...</td>\n",
       "    </tr>\n",
       "    <tr>\n",
       "      <th>1222</th>\n",
       "      <td>88833</td>\n",
       "      <td>1.337283</td>\n",
       "      <td>270</td>\n",
       "      <td>0513-13C</td>\n",
       "      <td>0513-13C</td>\n",
       "      <td>3-13C</td>\n",
       "      <td>NEW COV 7 DAY ADV CH</td>\n",
       "      <td>025</td>\n",
       "      <td>051</td>\n",
       "      <td>CHATHAM</td>\n",
       "      <td>...</td>\n",
       "      <td>100.0</td>\n",
       "      <td>33.0</td>\n",
       "      <td>33.000000</td>\n",
       "      <td>93.0</td>\n",
       "      <td>45.0</td>\n",
       "      <td>48.389999</td>\n",
       "      <td>9.0</td>\n",
       "      <td>1.0</td>\n",
       "      <td>11.11</td>\n",
       "      <td>POLYGON ((-81.07582 31.98913, -81.07618 31.989...</td>\n",
       "    </tr>\n",
       "    <tr>\n",
       "      <th>...</th>\n",
       "      <td>...</td>\n",
       "      <td>...</td>\n",
       "      <td>...</td>\n",
       "      <td>...</td>\n",
       "      <td>...</td>\n",
       "      <td>...</td>\n",
       "      <td>...</td>\n",
       "      <td>...</td>\n",
       "      <td>...</td>\n",
       "      <td>...</td>\n",
       "      <td>...</td>\n",
       "      <td>...</td>\n",
       "      <td>...</td>\n",
       "      <td>...</td>\n",
       "      <td>...</td>\n",
       "      <td>...</td>\n",
       "      <td>...</td>\n",
       "      <td>...</td>\n",
       "      <td>...</td>\n",
       "      <td>...</td>\n",
       "      <td>...</td>\n",
       "    </tr>\n",
       "    <tr>\n",
       "      <th>1341</th>\n",
       "      <td>96769</td>\n",
       "      <td>0.248060</td>\n",
       "      <td>324</td>\n",
       "      <td>0518-09C</td>\n",
       "      <td>0518-09C</td>\n",
       "      <td>8-09C</td>\n",
       "      <td>MOSES JACKSON CENTER</td>\n",
       "      <td>025</td>\n",
       "      <td>051</td>\n",
       "      <td>CHATHAM</td>\n",
       "      <td>...</td>\n",
       "      <td>53.0</td>\n",
       "      <td>13.0</td>\n",
       "      <td>24.530001</td>\n",
       "      <td>55.0</td>\n",
       "      <td>19.0</td>\n",
       "      <td>34.549999</td>\n",
       "      <td>1.0</td>\n",
       "      <td>0.0</td>\n",
       "      <td>0.00</td>\n",
       "      <td>POLYGON ((-81.11225 32.08174, -81.11231 32.081...</td>\n",
       "    </tr>\n",
       "    <tr>\n",
       "      <th>1342</th>\n",
       "      <td>96770</td>\n",
       "      <td>1.277383</td>\n",
       "      <td>317</td>\n",
       "      <td>0518-01C</td>\n",
       "      <td>0518-01C</td>\n",
       "      <td>8-01C</td>\n",
       "      <td>CIVIC CENTER</td>\n",
       "      <td>025</td>\n",
       "      <td>051</td>\n",
       "      <td>CHATHAM</td>\n",
       "      <td>...</td>\n",
       "      <td>44.0</td>\n",
       "      <td>11.0</td>\n",
       "      <td>25.000000</td>\n",
       "      <td>53.0</td>\n",
       "      <td>12.0</td>\n",
       "      <td>22.639999</td>\n",
       "      <td>2.0</td>\n",
       "      <td>0.0</td>\n",
       "      <td>0.00</td>\n",
       "      <td>POLYGON ((-81.09268 32.07531, -81.09325 32.075...</td>\n",
       "    </tr>\n",
       "    <tr>\n",
       "      <th>1343</th>\n",
       "      <td>96771</td>\n",
       "      <td>0.307020</td>\n",
       "      <td>259</td>\n",
       "      <td>0512-12C</td>\n",
       "      <td>0512-12C</td>\n",
       "      <td>2-12C</td>\n",
       "      <td>WILLIAMS COURT APTS</td>\n",
       "      <td>025</td>\n",
       "      <td>051</td>\n",
       "      <td>CHATHAM</td>\n",
       "      <td>...</td>\n",
       "      <td>119.0</td>\n",
       "      <td>36.0</td>\n",
       "      <td>30.250000</td>\n",
       "      <td>90.0</td>\n",
       "      <td>32.0</td>\n",
       "      <td>35.560001</td>\n",
       "      <td>2.0</td>\n",
       "      <td>1.0</td>\n",
       "      <td>50.00</td>\n",
       "      <td>POLYGON ((-81.10136 32.05246, -81.10151 32.052...</td>\n",
       "    </tr>\n",
       "    <tr>\n",
       "      <th>1344</th>\n",
       "      <td>96772</td>\n",
       "      <td>0.308145</td>\n",
       "      <td>318</td>\n",
       "      <td>0518-02C</td>\n",
       "      <td>0518-02C</td>\n",
       "      <td>8-02C</td>\n",
       "      <td>HELLENIC CENTER</td>\n",
       "      <td>025</td>\n",
       "      <td>051</td>\n",
       "      <td>CHATHAM</td>\n",
       "      <td>...</td>\n",
       "      <td>98.0</td>\n",
       "      <td>37.0</td>\n",
       "      <td>37.759998</td>\n",
       "      <td>92.0</td>\n",
       "      <td>37.0</td>\n",
       "      <td>40.220001</td>\n",
       "      <td>4.0</td>\n",
       "      <td>3.0</td>\n",
       "      <td>75.00</td>\n",
       "      <td>POLYGON ((-81.09833 32.06513, -81.09722 32.064...</td>\n",
       "    </tr>\n",
       "    <tr>\n",
       "      <th>1345</th>\n",
       "      <td>96773</td>\n",
       "      <td>0.309208</td>\n",
       "      <td>254</td>\n",
       "      <td>0512-05C</td>\n",
       "      <td>0512-05C</td>\n",
       "      <td>2-05C</td>\n",
       "      <td>HOLY SPIRIT LUTHERAN CHURCH</td>\n",
       "      <td>025</td>\n",
       "      <td>051</td>\n",
       "      <td>CHATHAM</td>\n",
       "      <td>...</td>\n",
       "      <td>126.0</td>\n",
       "      <td>40.0</td>\n",
       "      <td>31.750000</td>\n",
       "      <td>101.0</td>\n",
       "      <td>40.0</td>\n",
       "      <td>39.599998</td>\n",
       "      <td>5.0</td>\n",
       "      <td>2.0</td>\n",
       "      <td>40.00</td>\n",
       "      <td>POLYGON ((-81.09538 32.05090, -81.09639 32.051...</td>\n",
       "    </tr>\n",
       "  </tbody>\n",
       "</table>\n",
       "<p>92 rows × 116 columns</p>\n",
       "</div>"
      ],
      "text/plain": [
       "         ID      AREA  DATA  DISTRICT  CTYSOSID PRECINCT_I  \\\n",
       "1217  88577  7.914923   276  0514-06C  0514-06C      4-06C   \n",
       "1218  88578  1.587025   275  0514-05C  0514-05C      4-05C   \n",
       "1220  88580  5.824897   273  0514-02C  0514-02C      4-02C   \n",
       "1221  88581  1.173903   280  0514-11C  0514-11C      4-11C   \n",
       "1222  88833  1.337283   270  0513-13C  0513-13C      3-13C   \n",
       "...     ...       ...   ...       ...       ...        ...   \n",
       "1341  96769  0.248060   324  0518-09C  0518-09C      8-09C   \n",
       "1342  96770  1.277383   317  0518-01C  0518-01C      8-01C   \n",
       "1343  96771  0.307020   259  0512-12C  0512-12C      2-12C   \n",
       "1344  96772  0.308145   318  0518-02C  0518-02C      8-02C   \n",
       "1345  96773  0.309208   254  0512-05C  0512-05C      2-05C   \n",
       "\n",
       "                              PRECINCT_N CNTY FIPS2  CTYNAME  ...  UKNMALEREG  \\\n",
       "1217  FIRST BAPTIST CHURCH OF THE ISLAND  025   051  CHATHAM  ...        74.0   \n",
       "1218      SAINT FRANCIS EPISCOPAL CHURCH  025   051  CHATHAM  ...        67.0   \n",
       "1220       FRANK MURRAY COMMUNITY CENTER  025   051  CHATHAM  ...       111.0   \n",
       "1221                   TYBEE IS SCH CAFE  025   051  CHATHAM  ...        64.0   \n",
       "1222                NEW COV 7 DAY ADV CH  025   051  CHATHAM  ...       100.0   \n",
       "...                                  ...  ...   ...      ...  ...         ...   \n",
       "1341                MOSES JACKSON CENTER  025   051  CHATHAM  ...        53.0   \n",
       "1342                        CIVIC CENTER  025   051  CHATHAM  ...        44.0   \n",
       "1343                 WILLIAMS COURT APTS  025   051  CHATHAM  ...       119.0   \n",
       "1344                     HELLENIC CENTER  025   051  CHATHAM  ...        98.0   \n",
       "1345         HOLY SPIRIT LUTHERAN CHURCH  025   051  CHATHAM  ...       126.0   \n",
       "\n",
       "      UKNMALEVOT  UNKMALEVOT  UKNFMREG20  UKNFMVOTED  UKNFMVOTE1  UKNOWNREG2  \\\n",
       "1217        51.0   68.919998        74.0        44.0   59.459999         1.0   \n",
       "1218        33.0   49.250000       103.0        60.0   58.250000         2.0   \n",
       "1220        56.0   50.450001       104.0        57.0   54.810001         1.0   \n",
       "1221        38.0   59.380001        57.0        33.0   57.889999         2.0   \n",
       "1222        33.0   33.000000        93.0        45.0   48.389999         9.0   \n",
       "...          ...         ...         ...         ...         ...         ...   \n",
       "1341        13.0   24.530001        55.0        19.0   34.549999         1.0   \n",
       "1342        11.0   25.000000        53.0        12.0   22.639999         2.0   \n",
       "1343        36.0   30.250000        90.0        32.0   35.560001         2.0   \n",
       "1344        37.0   37.759998        92.0        37.0   40.220001         4.0   \n",
       "1345        40.0   31.750000       101.0        40.0   39.599998         5.0   \n",
       "\n",
       "      UKNOWNVOTE  UKNOWVOTED  \\\n",
       "1217         0.0        0.00   \n",
       "1218         0.0        0.00   \n",
       "1220         0.0        0.00   \n",
       "1221         1.0       50.00   \n",
       "1222         1.0       11.11   \n",
       "...          ...         ...   \n",
       "1341         0.0        0.00   \n",
       "1342         0.0        0.00   \n",
       "1343         1.0       50.00   \n",
       "1344         3.0       75.00   \n",
       "1345         2.0       40.00   \n",
       "\n",
       "                                               geometry  \n",
       "1217  POLYGON ((-80.96682 32.02390, -80.96647 32.024...  \n",
       "1218  POLYGON ((-80.95972 32.03496, -80.95883 32.035...  \n",
       "1220  POLYGON ((-81.02876 32.06165, -81.02948 32.062...  \n",
       "1221  POLYGON ((-80.84589 32.01384, -80.84572 32.013...  \n",
       "1222  POLYGON ((-81.07582 31.98913, -81.07618 31.989...  \n",
       "...                                                 ...  \n",
       "1341  POLYGON ((-81.11225 32.08174, -81.11231 32.081...  \n",
       "1342  POLYGON ((-81.09268 32.07531, -81.09325 32.075...  \n",
       "1343  POLYGON ((-81.10136 32.05246, -81.10151 32.052...  \n",
       "1344  POLYGON ((-81.09833 32.06513, -81.09722 32.064...  \n",
       "1345  POLYGON ((-81.09538 32.05090, -81.09639 32.051...  \n",
       "\n",
       "[92 rows x 116 columns]"
      ]
     },
     "execution_count": 46,
     "metadata": {},
     "output_type": "execute_result"
    }
   ],
   "source": [
    "shapefiles_state[shapefiles_state[\"FIPS2\"]==\"051\"]"
   ]
  },
  {
   "cell_type": "code",
   "execution_count": 47,
   "id": "1a5fb101",
   "metadata": {},
   "outputs": [],
   "source": [
    "#Filter out Cobb, Gwinnett, and DeKalb"
   ]
  },
  {
   "cell_type": "code",
   "execution_count": 48,
   "id": "33692432",
   "metadata": {},
   "outputs": [],
   "source": [
    "#When downloading from the Census redistricing data program, these use a FIPS code to identify counties\n",
    "fips_codes = [\"13135\",\"13067\",\"13089\"]\n",
    "\n",
    "#Combine all the data from separate files into one\n",
    "li = []\n",
    "for i in fips_codes:\n",
    "    ref = \"./raw-from-source/Shapefiles/Census/partnership_shapefiles_19v2_\"\n",
    "    file_ref = ref+i+\"/PVS_19_v2_vtd_\"+i+\".shp\"\n",
    "    file_prev = gp.read_file(file_ref)\n",
    "    #print(file_prev.shape)\n",
    "    li.append(file_prev)\n",
    "shapefiles_census = pd.concat(li, axis=0, ignore_index=True)"
   ]
  },
  {
   "cell_type": "code",
   "execution_count": 49,
   "id": "0849eeae",
   "metadata": {},
   "outputs": [
    {
     "data": {
      "text/plain": [
       "<AxesSubplot:>"
      ]
     },
     "execution_count": 49,
     "metadata": {},
     "output_type": "execute_result"
    },
    {
     "data": {
      "image/png": "[encoded data removed]",
      "text/plain": [
       "<Figure size 432x288 with 1 Axes>"
      ]
     },
     "metadata": {
      "needs_background": "light"
     },
     "output_type": "display_data"
    }
   ],
   "source": [
    "shapefiles_census.plot()"
   ]
  },
  {
   "cell_type": "code",
   "execution_count": 50,
   "id": "720aaeec",
   "metadata": {},
   "outputs": [],
   "source": [
    "shapefiles_fulton = gp.read_file(\"./raw-from-source/Shapefiles/Fulton/Voting_Precincts/Voting_Precincts.shp\")"
   ]
  },
  {
   "cell_type": "code",
   "execution_count": 51,
   "id": "8fe4ba0f",
   "metadata": {},
   "outputs": [],
   "source": [
    "shapefiles_forsyth  = gp.read_file(\"./raw-from-source/Shapefiles/Forsyth/Voting_Precinct-shp/Voting_Precinct.shp\")"
   ]
  },
  {
   "cell_type": "code",
   "execution_count": 52,
   "id": "91a269e6",
   "metadata": {},
   "outputs": [
    {
     "name": "stdout",
     "output_type": "stream",
     "text": [
      "  STATEFP COUNTYFP   VTDST      NAMELSAD VTDI LSAD CHNG_TYPE ORIG_NAME  \\\n",
      "0      13      135  000001     HARBINS A    A   00      None      None   \n",
      "1      13      135  000002  ROCKBRIDGE A    A   00      None      None   \n",
      "2      13      135  000003        DACULA    A   00      None      None   \n",
      "3      13      135  000004     SUWANEE A    A   00      None      None   \n",
      "4      13      135  000028  ROCKYCREEK A    A   00      None      None   \n",
      "\n",
      "  ORIG_CODE RELATE          NAME VINTAGE FUNCSTAT JUSTIFY  MTFCC  \\\n",
      "0      None   None     HARBINS A      90        N    None  G5240   \n",
      "1      None   None  ROCKBRIDGE A      90        N    None  G5240   \n",
      "2      None   None        DACULA      90        N    None  G5240   \n",
      "3      None   None     SUWANEE A      90        N    None  G5240   \n",
      "4      None   None  ROCKYCREEK A      90        N    None  G5240   \n",
      "\n",
      "                                            geometry  \n",
      "0  POLYGON Z ((-83.92720 33.95932 0.00000, -83.92...  \n",
      "1  POLYGON Z ((-84.07069 33.80553 0.00000, -84.06...  \n",
      "2  POLYGON Z ((-83.93919 33.97860 0.00000, -83.93...  \n",
      "3  POLYGON Z ((-84.09215 34.04908 0.00000, -84.09...  \n",
      "4  POLYGON Z ((-83.91067 34.01586 0.00000, -83.91...  \n"
     ]
    }
   ],
   "source": [
    "print(shapefiles_census.head())"
   ]
  },
  {
   "cell_type": "code",
   "execution_count": 53,
   "id": "c3c8b25f",
   "metadata": {},
   "outputs": [
    {
     "name": "stdout",
     "output_type": "stream",
     "text": [
      "Index(['ID', 'AREA', 'DATA', 'DISTRICT', 'CTYSOSID', 'PRECINCT_I',\n",
      "       'PRECINCT_N', 'CNTY', 'FIPS2', 'CTYNAME',\n",
      "       ...\n",
      "       'UKNMALEREG', 'UKNMALEVOT', 'UNKMALEVOT', 'UKNFMREG20', 'UKNFMVOTED',\n",
      "       'UKNFMVOTE1', 'UKNOWNREG2', 'UKNOWNVOTE', 'UKNOWVOTED', 'geometry'],\n",
      "      dtype='object', length=116)\n"
     ]
    }
   ],
   "source": [
    "print(shapefiles_state.columns)"
   ]
  },
  {
   "cell_type": "code",
   "execution_count": 54,
   "id": "2324b6b4",
   "metadata": {},
   "outputs": [],
   "source": [
    "#Cobb, Gwinnett and DeKalb\n",
    "\"13135\",\"13067\",\"13089\"\n",
    "\n",
    "#Fulton and Forsyth\n",
    "\"13121\",\"13117\"\n",
    "\n",
    "filter_list = [\"135\",\"067\",\"089\",\"121\",\"117\"]\n",
    "\n",
    "shapefiles_state = shapefiles_state[~shapefiles_state[\"FIPS2\"].isin(filter_list)]"
   ]
  },
  {
   "cell_type": "code",
   "execution_count": 55,
   "id": "e1fcdfd4",
   "metadata": {},
   "outputs": [
    {
     "name": "stdout",
     "output_type": "stream",
     "text": [
      "epsg:4019\n"
     ]
    },
    {
     "data": {
      "text/plain": [
       "<AxesSubplot:>"
      ]
     },
     "execution_count": 55,
     "metadata": {},
     "output_type": "execute_result"
    },
    {
     "data": {
      "image/png": "[encoded data removed]",
      "text/plain": [
       "<Figure size 432x288 with 1 Axes>"
      ]
     },
     "metadata": {
      "needs_background": "light"
     },
     "output_type": "display_data"
    },
    {
     "data": {
      "image/png": "[encoded data removed]",
      "text/plain": [
       "<Figure size 432x288 with 1 Axes>"
      ]
     },
     "metadata": {
      "needs_background": "light"
     },
     "output_type": "display_data"
    }
   ],
   "source": [
    "print(vest_ga_20.crs)\n",
    "\n",
    "shapefiles_forsyth = shapefiles_forsyth.to_crs(4019)\n",
    "shapefiles_fulton = shapefiles_fulton.to_crs(4019)\n",
    "shapefiles_census = shapefiles_census.to_crs(4019)\n",
    "\n",
    "shapefiles_state.plot()\n",
    "\n",
    "ax = shapefiles_state.plot()\n",
    "shapefiles_forsyth.plot(ax = ax,color=\"red\")\n",
    "shapefiles_fulton.plot(ax = ax,color=\"orange\")\n",
    "shapefiles_census.plot(ax = ax,color=\"green\")"
   ]
  },
  {
   "cell_type": "code",
   "execution_count": 56,
   "id": "fdf64f4b",
   "metadata": {},
   "outputs": [
    {
     "name": "stdout",
     "output_type": "stream",
     "text": [
      "Index(['ID', 'AREA', 'DATA', 'DISTRICT', 'CTYSOSID', 'PRECINCT_I',\n",
      "       'PRECINCT_N', 'CNTY', 'FIPS2', 'CTYNAME',\n",
      "       ...\n",
      "       'UKNMALEREG', 'UKNMALEVOT', 'UNKMALEVOT', 'UKNFMREG20', 'UKNFMVOTED',\n",
      "       'UKNFMVOTE1', 'UKNOWNREG2', 'UKNOWNVOTE', 'UKNOWVOTED', 'geometry'],\n",
      "      dtype='object', length=116)\n",
      "Index(['OBJECTID', 'PRECINCTID', 'NAME', 'COUNTY', 'Shape__Are', 'Shape__Len',\n",
      "       'geometry'],\n",
      "      dtype='object')\n",
      "Index(['OBJECTID', 'ProposalNo', 'Status', 'RetireStat', 'VoterDist',\n",
      "       'TurnOut', 'ActVoters', 'FeatureID', 'FacilityID', 'PrecinctN',\n",
      "       'ShapeSTAre', 'ShapeSTLen', 'geometry'],\n",
      "      dtype='object')\n",
      "Index(['STATEFP', 'COUNTYFP', 'VTDST', 'NAMELSAD', 'VTDI', 'LSAD', 'CHNG_TYPE',\n",
      "       'ORIG_NAME', 'ORIG_CODE', 'RELATE', 'NAME', 'VINTAGE', 'FUNCSTAT',\n",
      "       'JUSTIFY', 'MTFCC', 'geometry'],\n",
      "      dtype='object')\n"
     ]
    }
   ],
   "source": [
    "print(shapefiles_state.columns)\n",
    "print(shapefiles_forsyth.columns)\n",
    "print(shapefiles_fulton.columns)\n",
    "print(shapefiles_census.columns)"
   ]
  },
  {
   "cell_type": "code",
   "execution_count": 57,
   "id": "32b7079e",
   "metadata": {},
   "outputs": [
    {
     "name": "stdout",
     "output_type": "stream",
     "text": [
      "   ID      AREA  DATA DISTRICT CTYSOSID PRECINCT_I            PRECINCT_N CNTY  \\\n",
      "0   1  3.383541   687   073131   073131        131  JOURNEY COMM. CHURCH  036   \n",
      "1   2  1.636596   667   073064   073064        064  GRACE BAPTIST CHURCH  036   \n",
      "2   3  5.598643   664   073061   073061        061       GREENBRIER HIGH  036   \n",
      "3   4  0.872412   666   073063   073063        063      RIVERVIEW CHURCH  036   \n",
      "4   5  2.609909   688   073132   073132        132      WESLEY METHODIST  036   \n",
      "\n",
      "  FIPS2   CTYNAME  ...  UKNMALEREG  UKNMALEVOT  UNKMALEVOT  UKNFMREG20  \\\n",
      "0   073  COLUMBIA  ...        40.0        25.0   62.500000        42.0   \n",
      "1   073  COLUMBIA  ...       167.0        86.0   51.500000       162.0   \n",
      "2   073  COLUMBIA  ...       158.0        92.0   58.230000       169.0   \n",
      "3   073  COLUMBIA  ...        43.0        33.0   76.739998        47.0   \n",
      "4   073  COLUMBIA  ...        94.0        59.0   62.770000       112.0   \n",
      "\n",
      "   UKNFMVOTED  UKNFMVOTE1  UKNOWNREG2  UKNOWNVOTE  UKNOWVOTED  \\\n",
      "0        25.0   59.520000         0.0         0.0         0.0   \n",
      "1       100.0   61.730000         0.0         0.0         0.0   \n",
      "2        99.0   58.580002         4.0         3.0        75.0   \n",
      "3        33.0   70.209999         1.0         1.0       100.0   \n",
      "4        72.0   64.290001         1.0         0.0         0.0   \n",
      "\n",
      "                                            geometry  \n",
      "0  POLYGON ((-82.16046 33.55708, -82.16080 33.557...  \n",
      "1  POLYGON ((-82.17048 33.57388, -82.18294 33.575...  \n",
      "2  POLYGON ((-82.16457 33.61024, -82.16454 33.610...  \n",
      "3  POLYGON ((-82.13899 33.58584, -82.13881 33.585...  \n",
      "4  POLYGON ((-82.10224 33.56561, -82.10230 33.565...  \n",
      "\n",
      "[5 rows x 116 columns]\n"
     ]
    }
   ],
   "source": [
    "print(shapefiles_state.head())"
   ]
  },
  {
   "cell_type": "code",
   "execution_count": 58,
   "id": "66f85871",
   "metadata": {},
   "outputs": [],
   "source": [
    "shapefiles_state = shapefiles_state[['DISTRICT', 'CTYSOSID', 'PRECINCT_I', 'PRECINCT_N', 'CNTY','CTYNAME','FIPS2','geometry']]\n",
    "shapefiles_forsyth = shapefiles_forsyth[[\"PRECINCTID\",\"NAME\",\"COUNTY\",\"geometry\"]]\n",
    "shapefiles_fulton = shapefiles_fulton[[\"OBJECTID\",\"VoterDist\",\"geometry\"]]\n",
    "shapefiles_census = shapefiles_census[[\"STATEFP\",\"COUNTYFP\",\"VTDST\",\"NAMELSAD\",\"NAME\",\"geometry\"]]"
   ]
  },
  {
   "cell_type": "code",
   "execution_count": 59,
   "id": "6f46a550",
   "metadata": {},
   "outputs": [
    {
     "name": "stdout",
     "output_type": "stream",
     "text": [
      "Index(['DISTRICT', 'CTYSOSID', 'PRECINCT_I', 'PRECINCT_N', 'CTYNAME',\n",
      "       'CTYNUMBER', 'CTYNUMBER2', 'FIPS2', 'G20PRERTRU', 'G20PREDBID',\n",
      "       'G20PRELJOR', 'C20PRERTRU', 'C20PREDBID', 'C20PRELJOR', 'G20USSRPER',\n",
      "       'G20USSDOSS', 'G20USSLHAZ', 'S20USSRLOE', 'S20USSRCOL', 'S20USSRGRA',\n",
      "       'S20USSRJAC', 'S20USSRTAY', 'S20USSRJOH', 'S20USSDWAR', 'S20USSDJAC',\n",
      "       'S20USSDLIE', 'S20USSDJOH', 'S20USSDJAM', 'S20USSDSLA', 'S20USSDWIN',\n",
      "       'S20USSDTAR', 'S20USSLSLO', 'S20USSGFOR', 'S20USSIBUC', 'S20USSIBAR',\n",
      "       'S20USSISTO', 'S20USSIGRE', 'G20PSCRSHA', 'G20PSCDBRY', 'G20PSCLMEL',\n",
      "       'G20PSCRMCD', 'G20PSCDBLA', 'G20PSCLWIL', 'geometry', 'unique_ID'],\n",
      "      dtype='object')\n"
     ]
    }
   ],
   "source": [
    "print(vest_ga_20.columns)\n",
    "\n",
    "shapefile_col_list = ['DISTRICT', 'CTYSOSID', 'PRECINCT_I', 'PRECINCT_N', 'CTYNAME','CTYNUMBER2', 'FIPS2','geometry']"
   ]
  },
  {
   "cell_type": "code",
   "execution_count": 60,
   "id": "d2ed22e2",
   "metadata": {},
   "outputs": [
    {
     "name": "stderr",
     "output_type": "stream",
     "text": [
      "/Users/peterhorton/opt/anaconda3/envs/geo_env/lib/python3.9/site-packages/geopandas/geodataframe.py:1322: SettingWithCopyWarning: \n",
      "A value is trying to be set on a copy of a slice from a DataFrame.\n",
      "Try using .loc[row_indexer,col_indexer] = value instead\n",
      "\n",
      "See the caveats in the documentation: https://pandas.pydata.org/pandas-docs/stable/user_guide/indexing.html#returning-a-view-versus-a-copy\n",
      "  super(GeoDataFrame, self).__setitem__(key, value)\n",
      "/Users/peterhorton/opt/anaconda3/envs/geo_env/lib/python3.9/site-packages/pandas/core/indexing.py:1676: SettingWithCopyWarning: \n",
      "A value is trying to be set on a copy of a slice from a DataFrame.\n",
      "Try using .loc[row_indexer,col_indexer] = value instead\n",
      "\n",
      "See the caveats in the documentation: https://pandas.pydata.org/pandas-docs/stable/user_guide/indexing.html#returning-a-view-versus-a-copy\n",
      "  self._setitem_single_column(ilocs[0], value, pi)\n"
     ]
    }
   ],
   "source": [
    "shapefiles_state.loc[:,\"CTYNUMBER2\"] = shapefiles_state.loc[:,\"CNTY\"]\n",
    "\n",
    "shapefiles_state = shapefiles_state[shapefile_col_list]"
   ]
  },
  {
   "cell_type": "code",
   "execution_count": 61,
   "id": "32db5f0a",
   "metadata": {},
   "outputs": [
    {
     "name": "stdout",
     "output_type": "stream",
     "text": [
      "  PRECINCTID           NAME   COUNTY  \\\n",
      "0         27        CONCORD  Forsyth   \n",
      "1         06     CROSSROADS  Forsyth   \n",
      "2         04      CHESTATEE  Forsyth   \n",
      "3         03  BROWNS BRIDGE  Forsyth   \n",
      "4         05  COAL MOUNTAIN  Forsyth   \n",
      "\n",
      "                                            geometry  \n",
      "0  POLYGON ((-84.16395 34.29828, -84.16402 34.298...  \n",
      "1  POLYGON ((-83.97539 34.30389, -83.97550 34.303...  \n",
      "2  POLYGON ((-83.94688 34.30902, -83.94620 34.308...  \n",
      "3  POLYGON ((-84.09370 34.25201, -84.09327 34.252...  \n",
      "4  POLYGON ((-84.07448 34.29508, -84.07471 34.292...  \n"
     ]
    },
    {
     "name": "stderr",
     "output_type": "stream",
     "text": [
      "/Users/peterhorton/opt/anaconda3/envs/geo_env/lib/python3.9/site-packages/geopandas/geodataframe.py:1322: SettingWithCopyWarning: \n",
      "A value is trying to be set on a copy of a slice from a DataFrame.\n",
      "Try using .loc[row_indexer,col_indexer] = value instead\n",
      "\n",
      "See the caveats in the documentation: https://pandas.pydata.org/pandas-docs/stable/user_guide/indexing.html#returning-a-view-versus-a-copy\n",
      "  super(GeoDataFrame, self).__setitem__(key, value)\n",
      "/Users/peterhorton/opt/anaconda3/envs/geo_env/lib/python3.9/site-packages/pandas/core/indexing.py:1676: SettingWithCopyWarning: \n",
      "A value is trying to be set on a copy of a slice from a DataFrame.\n",
      "Try using .loc[row_indexer,col_indexer] = value instead\n",
      "\n",
      "See the caveats in the documentation: https://pandas.pydata.org/pandas-docs/stable/user_guide/indexing.html#returning-a-view-versus-a-copy\n",
      "  self._setitem_single_column(ilocs[0], value, pi)\n"
     ]
    }
   ],
   "source": [
    "print(shapefiles_forsyth.head())\n",
    "\n",
    "shapefiles_forsyth.loc[:,\"DISTRICT\"] = \"117\"+ shapefiles_forsyth.loc[:,\"PRECINCTID\"]\n",
    "shapefiles_forsyth.loc[:,\"CTYSOSID\"] = shapefiles_forsyth.loc[:,\"DISTRICT\"]\n",
    "shapefiles_forsyth.loc[:,\"PRECINCT_I\"] = shapefiles_forsyth.loc[:,\"PRECINCTID\"]\n",
    "shapefiles_forsyth.loc[:,\"PRECINCT_N\"] = shapefiles_forsyth.loc[:,\"PRECINCTID\"] + \" \" + shapefiles_forsyth.loc[:,\"NAME\"]\n",
    "shapefiles_forsyth.loc[:,\"CTYNAME\"] = \"FORSYTH\"\n",
    "shapefiles_forsyth.loc[:,\"CTYNUMBER2\"] = \"058\"\n",
    "shapefiles_forsyth.loc[:,\"FIPS2\"] = \"117\"\n",
    "\n",
    "shapefiles_forsyth = shapefiles_forsyth[shapefile_col_list]"
   ]
  },
  {
   "cell_type": "code",
   "execution_count": 62,
   "id": "8c570a62",
   "metadata": {},
   "outputs": [
    {
     "name": "stderr",
     "output_type": "stream",
     "text": [
      "/Users/peterhorton/opt/anaconda3/envs/geo_env/lib/python3.9/site-packages/pandas/core/indexing.py:1720: SettingWithCopyWarning: \n",
      "A value is trying to be set on a copy of a slice from a DataFrame.\n",
      "Try using .loc[row_indexer,col_indexer] = value instead\n",
      "\n",
      "See the caveats in the documentation: https://pandas.pydata.org/pandas-docs/stable/user_guide/indexing.html#returning-a-view-versus-a-copy\n",
      "  self._setitem_single_column(loc, value, pi)\n"
     ]
    }
   ],
   "source": [
    "shapefiles_fulton.head()\n",
    "\n",
    "shapefiles_fulton.loc[:,\"DISTRICT\"] = \"121\"+ shapefiles_fulton.loc[:,\"VoterDist\"]\n",
    "shapefiles_fulton.loc[:,\"CTYSOSID\"] = shapefiles_fulton.loc[:,\"DISTRICT\"]\n",
    "shapefiles_fulton.loc[:,\"PRECINCT_I\"] = shapefiles_fulton.loc[:,\"VoterDist\"]\n",
    "shapefiles_fulton.loc[:,\"PRECINCT_N\"] = shapefiles_fulton.loc[:,\"VoterDist\"]\n",
    "shapefiles_fulton.loc[:,\"CTYNAME\"] = \"FULTON\"\n",
    "shapefiles_fulton.loc[:,\"CTYNUMBER2\"] = \"060\"\n",
    "shapefiles_fulton.loc[:,\"FIPS2\"] = \"121\"\n",
    "\n",
    "shapefiles_fulton = shapefiles_fulton[shapefile_col_list]"
   ]
  },
  {
   "cell_type": "code",
   "execution_count": 63,
   "id": "3d096479",
   "metadata": {},
   "outputs": [],
   "source": [
    "name_map_dict = {\"135\":\"GWINNETT\",\"067\":\"COBB\",\"089\":\"DEKALB\"}\n",
    "num_map_dict = {\"135\":\"067\",\"067\":\"033\",\"089\":\"044\"}\n",
    "\n",
    "\n",
    "shapefiles_census.loc[:,\"PRECINCT_I\"] = shapefiles_census.loc[:,\"VTDST\"].str[3:]\n",
    "shapefiles_census.loc[:,\"DISTRICT\"] = shapefiles_census.loc[:,\"COUNTYFP\"]+ shapefiles_census.loc[:,\"PRECINCT_I\"]\n",
    "shapefiles_census.loc[:,\"CTYSOSID\"] = shapefiles_census.loc[:,\"DISTRICT\"]\n",
    "\n",
    "shapefiles_census.loc[:,\"PRECINCT_N\"] = shapefiles_census.loc[:,\"NAME\"]\n",
    "shapefiles_census.loc[:,\"CTYNAME\"] = shapefiles_census.loc[:,\"COUNTYFP\"].map(name_map_dict)\n",
    "shapefiles_census.loc[:,\"CTYNUMBER2\"] = shapefiles_census.loc[:,\"COUNTYFP\"].map(num_map_dict)\n",
    "shapefiles_census.loc[:,\"FIPS2\"] = shapefiles_census.loc[:,\"COUNTYFP\"]\n",
    "\n",
    "shapefiles_census = shapefiles_census[shapefile_col_list]"
   ]
  },
  {
   "cell_type": "code",
   "execution_count": 64,
   "id": "eccfc28d",
   "metadata": {},
   "outputs": [],
   "source": [
    "ga_shapefile = pd.concat([shapefiles_census,shapefiles_state,shapefiles_fulton,shapefiles_forsyth])"
   ]
  },
  {
   "cell_type": "markdown",
   "id": "221a6de9",
   "metadata": {},
   "source": [
    "Three of the four VTDs in Chattahoochee County are comprised of Fort Benning. However, the county only reports one polling location for all voters, including residents of Fort Benning that vote within the county. The four Chattahoochee County VTDs have therefore been merged in the shapefile."
   ]
  },
  {
   "cell_type": "code",
   "execution_count": 65,
   "id": "0597612b",
   "metadata": {},
   "outputs": [
    {
     "name": "stdout",
     "output_type": "stream",
     "text": [
      "    DISTRICT CTYSOSID PRECINCT_I       PRECINCT_N        CTYNAME CTYNUMBER2  \\\n",
      "540     0531     0531          1  ACTIVITY CENTER  CHATTAHOOCHEE        026   \n",
      "\n",
      "    FIPS2                                           geometry  \n",
      "540   053  POLYGON ((-84.79231 32.26488, -84.79229 32.265...  \n"
     ]
    },
    {
     "data": {
      "text/plain": [
       "<AxesSubplot:>"
      ]
     },
     "execution_count": 65,
     "metadata": {},
     "output_type": "execute_result"
    },
    {
     "data": {
      "image/png": "[encoded data removed]",
      "text/plain": [
       "<Figure size 432x288 with 1 Axes>"
      ]
     },
     "metadata": {
      "needs_background": "light"
     },
     "output_type": "display_data"
    },
    {
     "data": {
      "image/png": "[encoded data removed]",
      "text/plain": [
       "<Figure size 432x288 with 1 Axes>"
      ]
     },
     "metadata": {
      "needs_background": "light"
     },
     "output_type": "display_data"
    },
    {
     "data": {
      "image/png": "[encoded data removed]",
      "text/plain": [
       "<Figure size 432x288 with 1 Axes>"
      ]
     },
     "metadata": {
      "needs_background": "light"
     },
     "output_type": "display_data"
    },
    {
     "data": {
      "image/png": "[encoded data removed]",
      "text/plain": [
       "<Figure size 432x288 with 1 Axes>"
      ]
     },
     "metadata": {
      "needs_background": "light"
     },
     "output_type": "display_data"
    }
   ],
   "source": [
    "print(ga_shapefile[ga_shapefile[\"CTYNAME\"]==\"CHATTAHOOCHEE\"])\n",
    "ga_shapefile[ga_shapefile[\"CTYNAME\"]==\"CHATTAHOOCHEE\"].plot()\n",
    "ga_shapefile[ga_shapefile[\"DISTRICT\"]==\"053FTBEN1\"].plot()\n",
    "ga_shapefile[ga_shapefile[\"DISTRICT\"]==\"053FTBEN2\"].plot()\n",
    "ga_shapefile[ga_shapefile[\"DISTRICT\"]==\"053FTBEN3\"].plot()"
   ]
  },
  {
   "cell_type": "code",
   "execution_count": 66,
   "id": "7704f2d3",
   "metadata": {},
   "outputs": [
    {
     "name": "stdout",
     "output_type": "stream",
     "text": [
      "      DISTRICT CTYSOSID PRECINCT_I       PRECINCT_N        CTYNAME CTYNUMBER2  \\\n",
      "528  053FTBEN3     None       None             None  CHATTAHOOCHEE       None   \n",
      "540       0531     0531          1  ACTIVITY CENTER  CHATTAHOOCHEE        026   \n",
      "566  053FTBEN2     None       None             None  CHATTAHOOCHEE       None   \n",
      "567  053FTBEN1     None       None             None  CHATTAHOOCHEE       None   \n",
      "\n",
      "    FIPS2                                           geometry  \n",
      "528  None  POLYGON ((-84.95757 32.31050, -84.95784 32.310...  \n",
      "540   053  POLYGON ((-84.79231 32.26488, -84.79229 32.265...  \n",
      "566  None  POLYGON ((-84.79226 32.26660, -84.79229 32.265...  \n",
      "567  None  POLYGON ((-84.79435 32.30981, -84.79436 32.309...  \n"
     ]
    },
    {
     "name": "stderr",
     "output_type": "stream",
     "text": [
      "/Users/peterhorton/opt/anaconda3/envs/geo_env/lib/python3.9/site-packages/geopandas/geodataframe.py:1322: SettingWithCopyWarning: \n",
      "A value is trying to be set on a copy of a slice from a DataFrame.\n",
      "Try using .loc[row_indexer,col_indexer] = value instead\n",
      "\n",
      "See the caveats in the documentation: https://pandas.pydata.org/pandas-docs/stable/user_guide/indexing.html#returning-a-view-versus-a-copy\n",
      "  super(GeoDataFrame, self).__setitem__(key, value)\n"
     ]
    }
   ],
   "source": [
    "prec_list = [\"0531\",\"053FTBEN1\",\"053FTBEN2\",\"053FTBEN3\"]\n",
    "to_merge = ga_shapefile[ga_shapefile[\"DISTRICT\"].isin(prec_list)]\n",
    "to_merge[\"CTYNAME\"]=\"CHATTAHOOCHEE\"\n",
    "print(to_merge)"
   ]
  },
  {
   "cell_type": "code",
   "execution_count": 67,
   "id": "a957a0fd",
   "metadata": {},
   "outputs": [],
   "source": [
    "new_fort = to_merge.dissolve(by=\"CTYNAME\")\n"
   ]
  },
  {
   "cell_type": "code",
   "execution_count": null,
   "id": "4ddd8161",
   "metadata": {},
   "outputs": [],
   "source": [
    "new_fort.iloc[0,0]"
   ]
  },
  {
   "cell_type": "code",
   "execution_count": null,
   "id": "8cc36b82",
   "metadata": {},
   "outputs": [],
   "source": [
    "print(ga_shapefile[ga_shapefile[\"DISTRICT\"]==\"053FTBEN1\"].index.values[0])"
   ]
  },
  {
   "cell_type": "code",
   "execution_count": null,
   "id": "d32da9fa",
   "metadata": {},
   "outputs": [],
   "source": [
    "index_fort_1 = ga_shapefile[ga_shapefile[\"DISTRICT\"]==\"053FTBEN1\"].index.values[0]\n",
    "index_fort_2 = ga_shapefile[ga_shapefile[\"DISTRICT\"]==\"053FTBEN2\"].index.values[0]\n",
    "index_fort_3 = ga_shapefile[ga_shapefile[\"DISTRICT\"]==\"053FTBEN3\"].index.values[0]\n",
    "\n",
    "prec2combine = [ga_shapefile.loc[ga_shapefile[\"PRECINCT_N\"]==\"ACTIVITY CENTER\"],ga_shapefile[ga_shapefile[\"DISTRICT\"]==\"053FTBEN1\"],ga_shapefile[ga_shapefile[\"DISTRICT\"]==\"053FTBEN2\"],ga_shapefile[ga_shapefile[\"DISTRICT\"]==\"053FTBEN3\"]]\n",
    "new_fort = gp.GeoDataFrame(pd.concat(prec2combine, ignore_index=True), crs = ga_shapefile.crs)"
   ]
  },
  {
   "cell_type": "code",
   "execution_count": null,
   "id": "c7dbab75",
   "metadata": {},
   "outputs": [],
   "source": [
    "ga_shapefile.loc[ga_shapefile[\"PRECINCT_N\"]==\"053ACTIVITY CENTER\",\"geometry\"]=new_fort.iloc[0,0]\n",
    "ga_shapefile.loc[ga_shapefile[\"PRECINCT_N\"]==\"053ACTIVITY CENTER\",\"PRECINCT_N\"]=\"ACTIVITY CENTER (Includes FTBEN 1-3)\"\n",
    "\n",
    "ga_shapefile = ga_shapefile.drop([index_fort_1,index_fort_2,index_fort_3])\n",
    "ga_shapefile.reset_index(drop=True, inplace=True)"
   ]
  },
  {
   "cell_type": "code",
   "execution_count": null,
   "id": "a75eec21",
   "metadata": {},
   "outputs": [],
   "source": [
    "ga_shapefile.loc[ga_shapefile[\"PRECINCT_N\"]==\"053ACTIVITY CENTER\",\"geometry\"]=new_fort.unary_union\n",
    "ga_shapefile.loc[ga_shapefile[\"PRECINCT_N\"]==\"053ACTIVITY CENTER\",\"PRECINCT_N\"]=\"ACTIVITY CENTER (Includes FTBEN 1-3)\"\n",
    "\n",
    "ga_shapefile = ga_shapefile.drop([index_fort_1,index_fort_2,index_fort_3])\n",
    "ga_shapefile.reset_index(drop=True, inplace=True)"
   ]
  },
  {
   "cell_type": "markdown",
   "id": "cc486382",
   "metadata": {},
   "source": [
    "Three of the four VTDs in Chattahoochee County are comprised of Fort Benning. However, the county only reports one polling location for all voters, including residents of Fort Benning that vote within the county. The four Chattahoochee County VTDs have therefore been merged in the shapefile.\n",
    "\n",
    "The following additional modifications reflect changes made prior to the 2020 general election:\n",
    "\n",
    "Barrow: Merge 2/15, 3/12, 4/14, 5/7, 6/10/13, 8/9, 11/16; Adjust new 2/13 boundary\n",
    "Bartow: Split Cassville/Hamilton Crossing\n",
    "Candler: Merge Candler/Metter as Jack Strickland Comm Center\n",
    "Chatham: Split 7-7/8-16, 7-12/7-16; Realign 7-06C/7-07C\n",
    "Chatooga: Split Cloudland/Teloga along ridgeline that marks boundary between them with the USGS Topographic Contour shapefile\n",
    "Clayton: Split Ellenswood 1/2, Jonesboro 1/17/19, Lovejoy 3/6/7, Morrow 3/11, 5/10, Oak 3/5 \n",
    "Cobb: Split Bells Ferry 3/4, Dobbins 1/2, Marietta 3A/3B, Smyrna 3A/3B\n",
    "Columbia: Split Bessie Thomas/2nd Mt Moriah, Harlem Branch/Harlem Senior Ctr; Merge Blanchard Park/MTZ Col FD;  Align multiple precincts with county maps\n",
    "Coweta: Merge Arts Centre/Jefferson Parkway as Newnan Centre\n",
    "Fulton: Merge CP07A/CP07D, CH01/CH04B, SS29A/SS29B, UC031/UC035\n",
    "DeKalb: Split Clarkston/Clarkston Comm Ctr; Realign Decatur/Oakhurst; Align precincts with Atlanta, Brookhaven, Decatur, Tucker city limits \n",
    "Gwinnett: Adjust Baycreek F/G, Berkshire J/M, Cates D/F, Garners C/B, Lawrenceville G/N, Pinckneyville S/T, Rockbridge A/G\n",
    "Lowndes: Split Northgate Assembly/Trinity, Jaycee/Mt Calvary/Northside/VSU\n",
    "Oconee: Merge Annex/City Hall; Align City Hall with Watkinsville city limits\n",
    "Paulding: Reorganize 12 precincts into 19 precincts as redrawn in 2019\n",
    "Randolph: Merge Carnegie/Cuthbert-Courthouse, 4th District/Fountain Bridge/Shellman\n",
    "Troup: Split Mountville between Gardner Newman/Hogansville/Rosemont; Align multiple precincts with county maps\n",
    "Towns: Merge Macedonia/Tate City"
   ]
  },
  {
   "cell_type": "code",
   "execution_count": null,
   "id": "7146b6e0",
   "metadata": {},
   "outputs": [],
   "source": [
    "print(ga_shapefile[ga_shapefile[\"CTYNAME\"]==\"BARROW\"])\n",
    "print(ga_shapefile[ga_shapefile[\"CTYNAME\"]==\"BARTOW\"])\n",
    "print(ga_shapefile[ga_shapefile[\"CTYNAME\"]==\"CANDLER\"])"
   ]
  },
  {
   "cell_type": "markdown",
   "id": "341f7a91",
   "metadata": {},
   "source": [
    "#Add comments here"
   ]
  },
  {
   "cell_type": "code",
   "execution_count": null,
   "id": "7ebc864b",
   "metadata": {},
   "outputs": [],
   "source": [
    "print(ga_shapefile.columns)"
   ]
  },
  {
   "cell_type": "code",
   "execution_count": 69,
   "id": "fd0b350d",
   "metadata": {},
   "outputs": [
    {
     "name": "stdout",
     "output_type": "stream",
     "text": [
      "   DISTRICT CTYSOSID PRECINCT_I        PRECINCT_N   CTYNAME CTYNUMBER2 FIPS2  \\\n",
      "0    135001   135001        001         HARBINS A  GWINNETT        067   135   \n",
      "1    135002   135002        002      ROCKBRIDGE A  GWINNETT        067   135   \n",
      "2    135003   135003        003            DACULA  GWINNETT        067   135   \n",
      "3    135004   135004        004         SUWANEE A  GWINNETT        067   135   \n",
      "4    135028   135028        028      ROCKYCREEK A  GWINNETT        067   135   \n",
      "..      ...      ...        ...               ...       ...        ...   ...   \n",
      "15    11735    11735         35    35 JOHNS CREEK   FORSYTH        058   117   \n",
      "16    11719    11719         19    19 OLD ATLANTA   FORSYTH        058   117   \n",
      "17    11721    11721         21  21 SOUTH FORSYTH   FORSYTH        058   117   \n",
      "18    11736    11736         36        36 NICHOLS   FORSYTH        058   117   \n",
      "19    11725    11725         25     25 WINDERMERE   FORSYTH        058   117   \n",
      "\n",
      "                                             geometry  \n",
      "0   POLYGON ((-83.92720 33.95932, -83.92718 33.959...  \n",
      "1   POLYGON ((-84.07069 33.80553, -84.06961 33.805...  \n",
      "2   POLYGON ((-83.93919 33.97860, -83.93773 33.979...  \n",
      "3   POLYGON ((-84.09215 34.04908, -84.09206 34.049...  \n",
      "4   POLYGON ((-83.91067 34.01586, -83.91052 34.016...  \n",
      "..                                                ...  \n",
      "15  POLYGON ((-84.14664 34.05659, -84.14759 34.057...  \n",
      "16  POLYGON ((-84.13691 34.10059, -84.13570 34.101...  \n",
      "17  POLYGON ((-84.17506 34.11764, -84.17503 34.117...  \n",
      "18  POLYGON ((-84.13570 34.10106, -84.13691 34.100...  \n",
      "19  POLYGON ((-84.13762 34.17321, -84.13762 34.173...  \n",
      "\n",
      "[2700 rows x 8 columns]\n"
     ]
    }
   ],
   "source": [
    "print(ga_shapefile)"
   ]
  },
  {
   "cell_type": "code",
   "execution_count": 70,
   "id": "950e04df",
   "metadata": {},
   "outputs": [],
   "source": [
    "ga_shapefile[\"PRECINCT_N\"] =ga_shapefile[\"PRECINCT_N\"].str.upper()\n",
    "ga_shapefile[\"unique_ID\"] = ga_shapefile[\"FIPS2\"]+\"-\"+ga_shapefile[\"PRECINCT_N\"]"
   ]
  },
  {
   "cell_type": "code",
   "execution_count": 71,
   "id": "af826517",
   "metadata": {},
   "outputs": [
    {
     "data": {
      "text/plain": [
       "<AxesSubplot:>"
      ]
     },
     "execution_count": 71,
     "metadata": {},
     "output_type": "execute_result"
    },
    {
     "data": {
      "image/png": "[encoded data removed]",
      "text/plain": [
       "<Figure size 432x288 with 1 Axes>"
      ]
     },
     "metadata": {
      "needs_background": "light"
     },
     "output_type": "display_data"
    }
   ],
   "source": [
    "ga_shapefile[ga_shapefile[\"CTYNAME\"]==\"CHATTAHOOCHEE\"].plot()"
   ]
  },
  {
   "cell_type": "code",
   "execution_count": 72,
   "id": "cad4f72e",
   "metadata": {},
   "outputs": [
    {
     "name": "stdout",
     "output_type": "stream",
     "text": [
      "both          2372\n",
      "right_only     328\n",
      "left_only      307\n",
      "Name: _merge, dtype: int64\n"
     ]
    }
   ],
   "source": [
    "join_attempt_3 = pd.merge(ga_election,ga_shapefile,how=\"outer\",on=\"unique_ID\",indicator=True)\n",
    "print(join_attempt_3[\"_merge\"].value_counts())\n",
    "\n",
    "left_only = join_attempt_3[join_attempt_3[\"_merge\"]==\"left_only\"]\n",
    "right_only = join_attempt_3[join_attempt_3[\"_merge\"]==\"right_only\"]\n",
    "\n",
    "left_only.to_csv(\"./source_join_elections.csv\")\n",
    "right_only.to_csv(\"./source_join_shapes.csv\")"
   ]
  },
  {
   "cell_type": "code",
   "execution_count": 73,
   "id": "71398407",
   "metadata": {},
   "outputs": [],
   "source": [
    "example_csv = pd.read_csv(\"./shp_id_changes.csv\")\n",
    "example_fips_dict = dict(zip(example_csv[\"shp_ID\"],example_csv[\"election_ID\"]))\n",
    "\n",
    "ga_shapefile[\"unique_ID\"] = ga_shapefile[\"unique_ID\"].map(example_fips_dict).fillna(ga_shapefile[\"unique_ID\"])"
   ]
  },
  {
   "cell_type": "code",
   "execution_count": 74,
   "id": "ca5440b3",
   "metadata": {},
   "outputs": [
    {
     "name": "stdout",
     "output_type": "stream",
     "text": [
      "       DISTRICT CTYSOSID PRECINCT_I PRECINCT_N CTYNAME CTYNUMBER2 FIPS2  \\\n",
      "50     121CH04B     None       None       None    None       None  None   \n",
      "110    121CP06B     None       None       None    None       None  None   \n",
      "125    121UC01C     None       None       None    None       None  None   \n",
      "126    121UC033     None       None       None    None       None  None   \n",
      "134    121SC29B     None       None       None    None       None  None   \n",
      "135    121UC035     None       None       None    None       None  None   \n",
      "500   215FTBEN2     None       None       None    None       None  None   \n",
      "501   215FTBEN4     None       None       None    None       None  None   \n",
      "503   215FTBEN1     None       None       None    None       None  None   \n",
      "528   053FTBEN3     None       None       None    None       None  None   \n",
      "529   215FTBEN3     None       None       None    None       None  None   \n",
      "541   215ZZZZZZ     None       None       None    None       None  None   \n",
      "566   053FTBEN2     None       None       None    None       None  None   \n",
      "567   053FTBEN1     None       None       None    None       None  None   \n",
      "1219   051XFTPU     None       None       None    None       None  None   \n",
      "1246  029FTSTEW     None       None       None    None       None  None   \n",
      "1647   121AP01E     None       None       None    None       None  None   \n",
      "1678   121SS29B     None       None       None    None       None  None   \n",
      "1682   121RW11B     None       None       None    None       None  None   \n",
      "1795   121AP12D     None       None       None    None       None  None   \n",
      "1901   12103P1B     None       None       None    None       None  None   \n",
      "1903     12101I     None       None       None    None       None  None   \n",
      "1994   121SC21A     None       None       None    None       None  None   \n",
      "1996   121SC08A     None       None       None    None       None  None   \n",
      "1998   121SC07B     None       None       None    None       None  None   \n",
      "2014    12112E2     None       None       None    None       None  None   \n",
      "2025   121CP052     None       None       None    None       None  None   \n",
      "2029   121CP07A     None       None       None    None       None  None   \n",
      "2113    12108F2     None       None       None    None       None  None   \n",
      "2462   121RW22B     None       None       None    None       None  None   \n",
      "\n",
      "                                               geometry unique_ID  \n",
      "50    POLYGON ((-84.66472 33.54058, -84.66442 33.540...       NaN  \n",
      "110   POLYGON ((-84.47425 33.62469, -84.47392 33.624...       NaN  \n",
      "125   MULTIPOLYGON (((-84.50531 33.59696, -84.50529 ...       NaN  \n",
      "126   MULTIPOLYGON (((-84.49907 33.59374, -84.49815 ...       NaN  \n",
      "134   POLYGON ((-84.51476 33.58541, -84.51463 33.585...       NaN  \n",
      "135   MULTIPOLYGON (((-84.50786 33.58318, -84.50733 ...       NaN  \n",
      "500   POLYGON ((-84.89301 32.40081, -84.89311 32.400...       NaN  \n",
      "501   POLYGON ((-84.92604 32.42313, -84.92521 32.423...       NaN  \n",
      "503   POLYGON ((-84.89265 32.40096, -84.89301 32.400...       NaN  \n",
      "528   POLYGON ((-84.95757 32.31050, -84.95784 32.310...       NaN  \n",
      "529   POLYGON ((-84.93357 32.38090, -84.93369 32.380...       NaN  \n",
      "541   POLYGON ((-84.84260 32.41332, -84.84321 32.413...       NaN  \n",
      "566   POLYGON ((-84.79226 32.26660, -84.79229 32.265...       NaN  \n",
      "567   POLYGON ((-84.79435 32.30981, -84.79436 32.309...       NaN  \n",
      "1219  POLYGON ((-81.00670 32.07056, -81.00483 32.072...       NaN  \n",
      "1246  MULTIPOLYGON (((-81.62266 32.10646, -81.61186 ...       NaN  \n",
      "1647  POLYGON ((-84.29921 34.03888, -84.29797 34.038...       NaN  \n",
      "1678  POLYGON ((-84.34772 33.96030, -84.34804 33.960...       NaN  \n",
      "1682  POLYGON ((-84.38333 33.99280, -84.38374 33.992...       NaN  \n",
      "1795  POLYGON ((-84.26358 34.08522, -84.26348 34.085...       NaN  \n",
      "1901  POLYGON ((-84.40704 33.77306, -84.40683 33.772...       NaN  \n",
      "1903  POLYGON ((-84.38853 33.75450, -84.38803 33.754...       NaN  \n",
      "1994  POLYGON ((-84.55408 33.55638, -84.55429 33.556...       NaN  \n",
      "1996  POLYGON ((-84.55687 33.60637, -84.55668 33.606...       NaN  \n",
      "1998  POLYGON ((-84.58205 33.62432, -84.58228 33.624...       NaN  \n",
      "2014  POLYGON ((-84.41933 33.64861, -84.42343 33.648...       NaN  \n",
      "2025  POLYGON ((-84.47439 33.62688, -84.47358 33.627...       NaN  \n",
      "2029  POLYGON ((-84.48674 33.64957, -84.48684 33.651...       NaN  \n",
      "2113  POLYGON ((-84.45588 33.82577, -84.45583 33.825...       NaN  \n",
      "2462  POLYGON ((-84.27376 33.98877, -84.27501 33.989...       NaN  \n"
     ]
    }
   ],
   "source": [
    "print(ga_shapefile[ga_shapefile[\"unique_ID\"].isna()])"
   ]
  },
  {
   "cell_type": "code",
   "execution_count": 75,
   "id": "6a4ee1e5",
   "metadata": {},
   "outputs": [
    {
     "name": "stdout",
     "output_type": "stream",
     "text": [
      "(2679, 40)\n"
     ]
    }
   ],
   "source": [
    "print(ga_election.shape)"
   ]
  },
  {
   "cell_type": "code",
   "execution_count": 76,
   "id": "af817141",
   "metadata": {},
   "outputs": [
    {
     "name": "stdout",
     "output_type": "stream",
     "text": [
      "0           001-1B\n",
      "1           001-1C\n",
      "2            001-2\n",
      "3          001-3A1\n",
      "4           001-3C\n",
      "           ...    \n",
      "2125    215-FTBEN2\n",
      "2128    215-FTBEN4\n",
      "2146    215-FTBEN3\n",
      "2229    215-ZZZZZZ\n",
      "2230    215-FTBEN1\n",
      "Name: unique_ID, Length: 2679, dtype: object\n"
     ]
    }
   ],
   "source": [
    "print(ga_election[\"unique_ID\"])"
   ]
  },
  {
   "cell_type": "code",
   "execution_count": 77,
   "id": "b4cdbf9d",
   "metadata": {},
   "outputs": [
    {
     "data": {
      "text/html": [
       "<div>\n",
       "<style scoped>\n",
       "    .dataframe tbody tr th:only-of-type {\n",
       "        vertical-align: middle;\n",
       "    }\n",
       "\n",
       "    .dataframe tbody tr th {\n",
       "        vertical-align: top;\n",
       "    }\n",
       "\n",
       "    .dataframe thead th {\n",
       "        text-align: right;\n",
       "    }\n",
       "</style>\n",
       "<table border=\"1\" class=\"dataframe\">\n",
       "  <thead>\n",
       "    <tr style=\"text-align: right;\">\n",
       "      <th>choice</th>\n",
       "      <th>unique_ID</th>\n",
       "      <th>county</th>\n",
       "      <th>county_fips</th>\n",
       "      <th>precinct</th>\n",
       "      <th>S20USSRJOH</th>\n",
       "      <th>S20USSIBAR</th>\n",
       "      <th>S20USSIBUC</th>\n",
       "      <th>S20USSRJAC</th>\n",
       "      <th>S20USSLSLO</th>\n",
       "      <th>G20PSCDBLA</th>\n",
       "      <th>...</th>\n",
       "      <th>S20USSDLIE</th>\n",
       "      <th>S20USSIGRE</th>\n",
       "      <th>G20PSCLWIL</th>\n",
       "      <th>S20USSDWAR</th>\n",
       "      <th>S20USSDWIN</th>\n",
       "      <th>G20PSCDBRY</th>\n",
       "      <th>G20USSLHAZ</th>\n",
       "      <th>S20USSDJOH</th>\n",
       "      <th>S20USSISTO</th>\n",
       "      <th>FIPS2</th>\n",
       "    </tr>\n",
       "  </thead>\n",
       "  <tbody>\n",
       "  </tbody>\n",
       "</table>\n",
       "<p>0 rows × 40 columns</p>\n",
       "</div>"
      ],
      "text/plain": [
       "Empty DataFrame\n",
       "Columns: [unique_ID, county, county_fips, precinct, S20USSRJOH, S20USSIBAR, S20USSIBUC, S20USSRJAC, S20USSLSLO, G20PSCDBLA, G20USSRPER, S20USSDJAC, S20USSRGRA, G20PRERTRU, C20PRERTRU, S20USSRCOL, S20USSDTAR, G20PSCLMEL, S20USSDJAM, G20PSCRSHA, G20PRELJOR, C20PRELJOR, S20USSGFOR, G20USSDOSS, G20PREDBID, C20PREDBID, S20USSDSLA, S20USSRTAY, S20USSRLOE, G20PSCRMCD, S20USSDLIE, S20USSIGRE, G20PSCLWIL, S20USSDWAR, S20USSDWIN, G20PSCDBRY, G20USSLHAZ, S20USSDJOH, S20USSISTO, FIPS2]\n",
       "Index: []\n",
       "\n",
       "[0 rows x 40 columns]"
      ]
     },
     "execution_count": 77,
     "metadata": {},
     "output_type": "execute_result"
    }
   ],
   "source": [
    "ga_election[ga_election[\"unique_ID\"].isna()]"
   ]
  },
  {
   "cell_type": "code",
   "execution_count": 78,
   "id": "ad57acbb",
   "metadata": {},
   "outputs": [
    {
     "name": "stdout",
     "output_type": "stream",
     "text": [
      "both          2659\n",
      "right_only      41\n",
      "left_only       21\n",
      "Name: _merge, dtype: int64\n"
     ]
    }
   ],
   "source": [
    "join_attempt_3 = pd.merge(ga_election,ga_shapefile,how=\"outer\",on=\"unique_ID\",indicator=True)\n",
    "print(join_attempt_3[\"_merge\"].value_counts())\n",
    "\n",
    "left_only = join_attempt_3[join_attempt_3[\"_merge\"]==\"left_only\"]\n",
    "right_only = join_attempt_3[join_attempt_3[\"_merge\"]==\"right_only\"]\n",
    "\n",
    "ga_source = join_attempt_3[join_attempt_3[\"_merge\"]==\"both\"]\n",
    "\n",
    "left_only.to_csv(\"./source_join_elections.csv\")\n",
    "right_only.to_csv(\"./source_join_shapes.csv\")"
   ]
  },
  {
   "cell_type": "code",
   "execution_count": 79,
   "id": "c119f99a",
   "metadata": {},
   "outputs": [],
   "source": [
    "final_merge = pd.merge(ga_source,vest_ga_20,how=\"outer\",on=\"unique_ID\",indicator=\"final_merge\")"
   ]
  },
  {
   "cell_type": "code",
   "execution_count": 80,
   "id": "703130f8",
   "metadata": {},
   "outputs": [
    {
     "name": "stdout",
     "output_type": "stream",
     "text": [
      "False    1880\n",
      "True      779\n",
      "dtype: int64\n"
     ]
    }
   ],
   "source": [
    "both = final_merge[final_merge[\"final_merge\"]==\"both\"]\n",
    "vest_geoms = gp.GeoDataFrame(both,geometry=\"geometry_x\",crs=vest_ga_20.crs)\n",
    "source_geoms = gp.GeoDataFrame(both,geometry=\"geometry_y\",crs=vest_ga_20.crs)\n",
    "source_geoms = source_geoms.to_crs(3857)\n",
    "vest_geoms = vest_geoms.to_crs(3857)\n",
    "source_geoms[\"geometry_x\"]=source_geoms.buffer(0)\n",
    "vest_geoms[\"geometry_y\"]=vest_geoms.buffer(0)\n",
    "vals = source_geoms.geom_almost_equals(vest_geoms,decimal=0)\n",
    "print(vals.value_counts())"
   ]
  },
  {
   "cell_type": "code",
   "execution_count": 81,
   "id": "f8103869",
   "metadata": {},
   "outputs": [
    {
     "name": "stdout",
     "output_type": "stream",
     "text": [
      "1) For 021-HAZZARD 4 difference in area is 3.3706615343443707\n",
      "2) For 021-HOWARD 1 difference in area is 5.036147171439918\n",
      "3) For 021-HOWARD 2 difference in area is 2.5699095162291674\n",
      "4) For 021-HOWARD 3 difference in area is 1.5699552273580146\n",
      "5) For 021-HOWARD 5 difference in area is 0.5171174601516663\n",
      "6) For 051-LAKE SHORE COMM CTR difference in area is 1.8155223560836502\n",
      "7) For 051-RICE CREEK SCHOOL difference in area is 1.8110601544647957\n",
      "8) For 051-POOLER REC CENTER GYM difference in area is 3.5429986118187844\n",
      "9) For 053-ACTIVITY CENTER (Includes FTBEN 1-3) difference in area is 68.4438891814338\n",
      "10) For 067-BELLS FERRY 03 difference in area is 0.7435728376865838\n",
      "11) For 067-DOBBINS 01 difference in area is 0.5291437226811758\n",
      "12) For 073-PARKWAY BAPTIST CHURCH difference in area is 0.5694240817096237\n",
      "13) For 073-PATRIOTS PARK difference in area is 0.859698204711429\n"
     ]
    },
    {
     "ename": "GEOSException",
     "evalue": "TopologyException: Input geom 0 is invalid: Self-intersection at -9382135.4807230141 3997787.9521919959",
     "output_type": "error",
     "traceback": [
      "\u001b[0;31m---------------------------------------------------------------------------\u001b[0m",
      "\u001b[0;31mGEOSException\u001b[0m                             Traceback (most recent call last)",
      "\u001b[0;32m<ipython-input-81-63d095dc79e0>\u001b[0m in \u001b[0;36m<module>\u001b[0;34m\u001b[0m\n\u001b[1;32m      9\u001b[0m             \u001b[0;32mpass\u001b[0m\u001b[0;34m\u001b[0m\u001b[0;34m\u001b[0m\u001b[0m\n\u001b[1;32m     10\u001b[0m         \u001b[0;31m#diff = source_geoms.iloc[[i]].symmetric_difference(vest_geoms.iloc[[i]])\u001b[0m\u001b[0;34m\u001b[0m\u001b[0;34m\u001b[0m\u001b[0;34m\u001b[0m\u001b[0m\n\u001b[0;32m---> 11\u001b[0;31m         \u001b[0mintersection\u001b[0m \u001b[0;34m=\u001b[0m \u001b[0msource_geoms\u001b[0m\u001b[0;34m.\u001b[0m\u001b[0miloc\u001b[0m\u001b[0;34m[\u001b[0m\u001b[0;34m[\u001b[0m\u001b[0mi\u001b[0m\u001b[0;34m]\u001b[0m\u001b[0;34m]\u001b[0m\u001b[0;34m.\u001b[0m\u001b[0mintersection\u001b[0m\u001b[0;34m(\u001b[0m\u001b[0mvest_geoms\u001b[0m\u001b[0;34m.\u001b[0m\u001b[0miloc\u001b[0m\u001b[0;34m[\u001b[0m\u001b[0;34m[\u001b[0m\u001b[0mi\u001b[0m\u001b[0;34m]\u001b[0m\u001b[0;34m]\u001b[0m\u001b[0;34m)\u001b[0m\u001b[0;34m\u001b[0m\u001b[0;34m\u001b[0m\u001b[0m\n\u001b[0m\u001b[1;32m     12\u001b[0m         \u001b[0marea\u001b[0m \u001b[0;34m=\u001b[0m \u001b[0mfloat\u001b[0m\u001b[0;34m(\u001b[0m\u001b[0mdiff\u001b[0m\u001b[0;34m.\u001b[0m\u001b[0marea\u001b[0m\u001b[0;34m/\u001b[0m\u001b[0;36m10e6\u001b[0m\u001b[0;34m)\u001b[0m\u001b[0;34m\u001b[0m\u001b[0;34m\u001b[0m\u001b[0m\n\u001b[1;32m     13\u001b[0m         \u001b[0marea_list\u001b[0m\u001b[0;34m.\u001b[0m\u001b[0mappend\u001b[0m\u001b[0;34m(\u001b[0m\u001b[0marea\u001b[0m\u001b[0;34m)\u001b[0m\u001b[0;34m\u001b[0m\u001b[0;34m\u001b[0m\u001b[0m\n",
      "\u001b[0;32m~/opt/anaconda3/envs/geo_env/lib/python3.9/site-packages/geopandas/base.py\u001b[0m in \u001b[0;36mintersection\u001b[0;34m(self, other, align)\u001b[0m\n\u001b[1;32m   2528\u001b[0m         \u001b[0mGeoSeries\u001b[0m\u001b[0;34m.\u001b[0m\u001b[0munion\u001b[0m\u001b[0;34m\u001b[0m\u001b[0;34m\u001b[0m\u001b[0m\n\u001b[1;32m   2529\u001b[0m         \"\"\"\n\u001b[0;32m-> 2530\u001b[0;31m         \u001b[0;32mreturn\u001b[0m \u001b[0m_binary_geo\u001b[0m\u001b[0;34m(\u001b[0m\u001b[0;34m\"intersection\"\u001b[0m\u001b[0;34m,\u001b[0m \u001b[0mself\u001b[0m\u001b[0;34m,\u001b[0m \u001b[0mother\u001b[0m\u001b[0;34m,\u001b[0m \u001b[0malign\u001b[0m\u001b[0;34m)\u001b[0m\u001b[0;34m\u001b[0m\u001b[0;34m\u001b[0m\u001b[0m\n\u001b[0m\u001b[1;32m   2531\u001b[0m \u001b[0;34m\u001b[0m\u001b[0m\n\u001b[1;32m   2532\u001b[0m     \u001b[0;31m#\u001b[0m\u001b[0;34m\u001b[0m\u001b[0;34m\u001b[0m\u001b[0;34m\u001b[0m\u001b[0m\n",
      "\u001b[0;32m~/opt/anaconda3/envs/geo_env/lib/python3.9/site-packages/geopandas/base.py\u001b[0m in \u001b[0;36m_binary_geo\u001b[0;34m(op, this, other, align)\u001b[0m\n\u001b[1;32m     51\u001b[0m     \u001b[0;32mfrom\u001b[0m \u001b[0;34m.\u001b[0m\u001b[0mgeoseries\u001b[0m \u001b[0;32mimport\u001b[0m \u001b[0mGeoSeries\u001b[0m\u001b[0;34m\u001b[0m\u001b[0;34m\u001b[0m\u001b[0m\n\u001b[1;32m     52\u001b[0m \u001b[0;34m\u001b[0m\u001b[0m\n\u001b[0;32m---> 53\u001b[0;31m     \u001b[0mgeoms\u001b[0m\u001b[0;34m,\u001b[0m \u001b[0mindex\u001b[0m \u001b[0;34m=\u001b[0m \u001b[0m_delegate_binary_method\u001b[0m\u001b[0;34m(\u001b[0m\u001b[0mop\u001b[0m\u001b[0;34m,\u001b[0m \u001b[0mthis\u001b[0m\u001b[0;34m,\u001b[0m \u001b[0mother\u001b[0m\u001b[0;34m,\u001b[0m \u001b[0malign\u001b[0m\u001b[0;34m)\u001b[0m\u001b[0;34m\u001b[0m\u001b[0;34m\u001b[0m\u001b[0m\n\u001b[0m\u001b[1;32m     54\u001b[0m     \u001b[0;32mreturn\u001b[0m \u001b[0mGeoSeries\u001b[0m\u001b[0;34m(\u001b[0m\u001b[0mgeoms\u001b[0m\u001b[0;34m.\u001b[0m\u001b[0mdata\u001b[0m\u001b[0;34m,\u001b[0m \u001b[0mindex\u001b[0m\u001b[0;34m=\u001b[0m\u001b[0mindex\u001b[0m\u001b[0;34m,\u001b[0m \u001b[0mcrs\u001b[0m\u001b[0;34m=\u001b[0m\u001b[0mthis\u001b[0m\u001b[0;34m.\u001b[0m\u001b[0mcrs\u001b[0m\u001b[0;34m)\u001b[0m\u001b[0;34m\u001b[0m\u001b[0;34m\u001b[0m\u001b[0m\n\u001b[1;32m     55\u001b[0m \u001b[0;34m\u001b[0m\u001b[0m\n",
      "\u001b[0;32m~/opt/anaconda3/envs/geo_env/lib/python3.9/site-packages/geopandas/base.py\u001b[0m in \u001b[0;36m_delegate_binary_method\u001b[0;34m(op, this, other, align, *args, **kwargs)\u001b[0m\n\u001b[1;32m     42\u001b[0m         \u001b[0;32mraise\u001b[0m \u001b[0mTypeError\u001b[0m\u001b[0;34m(\u001b[0m\u001b[0mtype\u001b[0m\u001b[0;34m(\u001b[0m\u001b[0mthis\u001b[0m\u001b[0;34m)\u001b[0m\u001b[0;34m,\u001b[0m \u001b[0mtype\u001b[0m\u001b[0;34m(\u001b[0m\u001b[0mother\u001b[0m\u001b[0;34m)\u001b[0m\u001b[0;34m)\u001b[0m\u001b[0;34m\u001b[0m\u001b[0;34m\u001b[0m\u001b[0m\n\u001b[1;32m     43\u001b[0m \u001b[0;34m\u001b[0m\u001b[0m\n\u001b[0;32m---> 44\u001b[0;31m     \u001b[0mdata\u001b[0m \u001b[0;34m=\u001b[0m \u001b[0mgetattr\u001b[0m\u001b[0;34m(\u001b[0m\u001b[0ma_this\u001b[0m\u001b[0;34m,\u001b[0m \u001b[0mop\u001b[0m\u001b[0;34m)\u001b[0m\u001b[0;34m(\u001b[0m\u001b[0mother\u001b[0m\u001b[0;34m,\u001b[0m \u001b[0;34m*\u001b[0m\u001b[0margs\u001b[0m\u001b[0;34m,\u001b[0m \u001b[0;34m**\u001b[0m\u001b[0mkwargs\u001b[0m\u001b[0;34m)\u001b[0m\u001b[0;34m\u001b[0m\u001b[0;34m\u001b[0m\u001b[0m\n\u001b[0m\u001b[1;32m     45\u001b[0m     \u001b[0;32mreturn\u001b[0m \u001b[0mdata\u001b[0m\u001b[0;34m,\u001b[0m \u001b[0mthis\u001b[0m\u001b[0;34m.\u001b[0m\u001b[0mindex\u001b[0m\u001b[0;34m\u001b[0m\u001b[0;34m\u001b[0m\u001b[0m\n\u001b[1;32m     46\u001b[0m \u001b[0;34m\u001b[0m\u001b[0m\n",
      "\u001b[0;32m~/opt/anaconda3/envs/geo_env/lib/python3.9/site-packages/geopandas/array.py\u001b[0m in \u001b[0;36mintersection\u001b[0;34m(self, other)\u001b[0m\n\u001b[1;32m    608\u001b[0m     \u001b[0;32mdef\u001b[0m \u001b[0mintersection\u001b[0m\u001b[0;34m(\u001b[0m\u001b[0mself\u001b[0m\u001b[0;34m,\u001b[0m \u001b[0mother\u001b[0m\u001b[0;34m)\u001b[0m\u001b[0;34m:\u001b[0m\u001b[0;34m\u001b[0m\u001b[0;34m\u001b[0m\u001b[0m\n\u001b[1;32m    609\u001b[0m         return GeometryArray(\n\u001b[0;32m--> 610\u001b[0;31m             \u001b[0mself\u001b[0m\u001b[0;34m.\u001b[0m\u001b[0m_binary_method\u001b[0m\u001b[0;34m(\u001b[0m\u001b[0;34m\"intersection\"\u001b[0m\u001b[0;34m,\u001b[0m \u001b[0mself\u001b[0m\u001b[0;34m,\u001b[0m \u001b[0mother\u001b[0m\u001b[0;34m)\u001b[0m\u001b[0;34m,\u001b[0m \u001b[0mcrs\u001b[0m\u001b[0;34m=\u001b[0m\u001b[0mself\u001b[0m\u001b[0;34m.\u001b[0m\u001b[0mcrs\u001b[0m\u001b[0;34m\u001b[0m\u001b[0;34m\u001b[0m\u001b[0m\n\u001b[0m\u001b[1;32m    611\u001b[0m         )\n\u001b[1;32m    612\u001b[0m \u001b[0;34m\u001b[0m\u001b[0m\n",
      "\u001b[0;32m~/opt/anaconda3/envs/geo_env/lib/python3.9/site-packages/geopandas/array.py\u001b[0m in \u001b[0;36m_binary_method\u001b[0;34m(op, left, right, **kwargs)\u001b[0m\n\u001b[1;32m    540\u001b[0m             \u001b[0mright\u001b[0m \u001b[0;34m=\u001b[0m \u001b[0mright\u001b[0m\u001b[0;34m.\u001b[0m\u001b[0mdata\u001b[0m\u001b[0;34m\u001b[0m\u001b[0;34m\u001b[0m\u001b[0m\n\u001b[1;32m    541\u001b[0m \u001b[0;34m\u001b[0m\u001b[0m\n\u001b[0;32m--> 542\u001b[0;31m         \u001b[0;32mreturn\u001b[0m \u001b[0mgetattr\u001b[0m\u001b[0;34m(\u001b[0m\u001b[0mvectorized\u001b[0m\u001b[0;34m,\u001b[0m \u001b[0mop\u001b[0m\u001b[0;34m)\u001b[0m\u001b[0;34m(\u001b[0m\u001b[0mleft\u001b[0m\u001b[0;34m.\u001b[0m\u001b[0mdata\u001b[0m\u001b[0;34m,\u001b[0m \u001b[0mright\u001b[0m\u001b[0;34m,\u001b[0m \u001b[0;34m**\u001b[0m\u001b[0mkwargs\u001b[0m\u001b[0;34m)\u001b[0m\u001b[0;34m\u001b[0m\u001b[0;34m\u001b[0m\u001b[0m\n\u001b[0m\u001b[1;32m    543\u001b[0m \u001b[0;34m\u001b[0m\u001b[0m\n\u001b[1;32m    544\u001b[0m     \u001b[0;32mdef\u001b[0m \u001b[0mcovers\u001b[0m\u001b[0;34m(\u001b[0m\u001b[0mself\u001b[0m\u001b[0;34m,\u001b[0m \u001b[0mother\u001b[0m\u001b[0;34m)\u001b[0m\u001b[0;34m:\u001b[0m\u001b[0;34m\u001b[0m\u001b[0;34m\u001b[0m\u001b[0m\n",
      "\u001b[0;32m~/opt/anaconda3/envs/geo_env/lib/python3.9/site-packages/geopandas/_vectorized.py\u001b[0m in \u001b[0;36mintersection\u001b[0;34m(data, other)\u001b[0m\n\u001b[1;32m    731\u001b[0m \u001b[0;32mdef\u001b[0m \u001b[0mintersection\u001b[0m\u001b[0;34m(\u001b[0m\u001b[0mdata\u001b[0m\u001b[0;34m,\u001b[0m \u001b[0mother\u001b[0m\u001b[0;34m)\u001b[0m\u001b[0;34m:\u001b[0m\u001b[0;34m\u001b[0m\u001b[0;34m\u001b[0m\u001b[0m\n\u001b[1;32m    732\u001b[0m     \u001b[0;32mif\u001b[0m \u001b[0mcompat\u001b[0m\u001b[0;34m.\u001b[0m\u001b[0mUSE_PYGEOS\u001b[0m\u001b[0;34m:\u001b[0m\u001b[0;34m\u001b[0m\u001b[0;34m\u001b[0m\u001b[0m\n\u001b[0;32m--> 733\u001b[0;31m         \u001b[0;32mreturn\u001b[0m \u001b[0m_binary_method\u001b[0m\u001b[0;34m(\u001b[0m\u001b[0;34m\"intersection\"\u001b[0m\u001b[0;34m,\u001b[0m \u001b[0mdata\u001b[0m\u001b[0;34m,\u001b[0m \u001b[0mother\u001b[0m\u001b[0;34m)\u001b[0m\u001b[0;34m\u001b[0m\u001b[0;34m\u001b[0m\u001b[0m\n\u001b[0m\u001b[1;32m    734\u001b[0m     \u001b[0;32melse\u001b[0m\u001b[0;34m:\u001b[0m\u001b[0;34m\u001b[0m\u001b[0;34m\u001b[0m\u001b[0m\n\u001b[1;32m    735\u001b[0m         \u001b[0;32mreturn\u001b[0m \u001b[0m_binary_geo\u001b[0m\u001b[0;34m(\u001b[0m\u001b[0;34m\"intersection\"\u001b[0m\u001b[0;34m,\u001b[0m \u001b[0mdata\u001b[0m\u001b[0;34m,\u001b[0m \u001b[0mother\u001b[0m\u001b[0;34m)\u001b[0m\u001b[0;34m\u001b[0m\u001b[0;34m\u001b[0m\u001b[0m\n",
      "\u001b[0;32m~/opt/anaconda3/envs/geo_env/lib/python3.9/site-packages/geopandas/_vectorized.py\u001b[0m in \u001b[0;36m_binary_method\u001b[0;34m(op, left, right, **kwargs)\u001b[0m\n\u001b[1;32m    261\u001b[0m     \u001b[0;32mif\u001b[0m \u001b[0misinstance\u001b[0m\u001b[0;34m(\u001b[0m\u001b[0mright\u001b[0m\u001b[0;34m,\u001b[0m \u001b[0mBaseGeometry\u001b[0m\u001b[0;34m)\u001b[0m\u001b[0;34m:\u001b[0m\u001b[0;34m\u001b[0m\u001b[0;34m\u001b[0m\u001b[0m\n\u001b[1;32m    262\u001b[0m         \u001b[0mright\u001b[0m \u001b[0;34m=\u001b[0m \u001b[0mfrom_shapely\u001b[0m\u001b[0;34m(\u001b[0m\u001b[0;34m[\u001b[0m\u001b[0mright\u001b[0m\u001b[0;34m]\u001b[0m\u001b[0;34m)\u001b[0m\u001b[0;34m[\u001b[0m\u001b[0;36m0\u001b[0m\u001b[0;34m]\u001b[0m\u001b[0;34m\u001b[0m\u001b[0;34m\u001b[0m\u001b[0m\n\u001b[0;32m--> 263\u001b[0;31m     \u001b[0;32mreturn\u001b[0m \u001b[0mgetattr\u001b[0m\u001b[0;34m(\u001b[0m\u001b[0mpygeos\u001b[0m\u001b[0;34m,\u001b[0m \u001b[0mop\u001b[0m\u001b[0;34m)\u001b[0m\u001b[0;34m(\u001b[0m\u001b[0mleft\u001b[0m\u001b[0;34m,\u001b[0m \u001b[0mright\u001b[0m\u001b[0;34m,\u001b[0m \u001b[0;34m**\u001b[0m\u001b[0mkwargs\u001b[0m\u001b[0;34m)\u001b[0m\u001b[0;34m\u001b[0m\u001b[0;34m\u001b[0m\u001b[0m\n\u001b[0m\u001b[1;32m    264\u001b[0m \u001b[0;34m\u001b[0m\u001b[0m\n\u001b[1;32m    265\u001b[0m \u001b[0;34m\u001b[0m\u001b[0m\n",
      "\u001b[0;32m~/opt/anaconda3/envs/geo_env/lib/python3.9/site-packages/pygeos/decorators.py\u001b[0m in \u001b[0;36mwrapped\u001b[0;34m(*args, **kwargs)\u001b[0m\n\u001b[1;32m     53\u001b[0m             \u001b[0;32mfor\u001b[0m \u001b[0marr\u001b[0m \u001b[0;32min\u001b[0m \u001b[0marray_args\u001b[0m\u001b[0;34m:\u001b[0m\u001b[0;34m\u001b[0m\u001b[0;34m\u001b[0m\u001b[0m\n\u001b[1;32m     54\u001b[0m                 \u001b[0marr\u001b[0m\u001b[0;34m.\u001b[0m\u001b[0mflags\u001b[0m\u001b[0;34m.\u001b[0m\u001b[0mwriteable\u001b[0m \u001b[0;34m=\u001b[0m \u001b[0;32mFalse\u001b[0m\u001b[0;34m\u001b[0m\u001b[0;34m\u001b[0m\u001b[0m\n\u001b[0;32m---> 55\u001b[0;31m             \u001b[0;32mreturn\u001b[0m \u001b[0mfunc\u001b[0m\u001b[0;34m(\u001b[0m\u001b[0;34m*\u001b[0m\u001b[0margs\u001b[0m\u001b[0;34m,\u001b[0m \u001b[0;34m**\u001b[0m\u001b[0mkwargs\u001b[0m\u001b[0;34m)\u001b[0m\u001b[0;34m\u001b[0m\u001b[0;34m\u001b[0m\u001b[0m\n\u001b[0m\u001b[1;32m     56\u001b[0m         \u001b[0;32mfinally\u001b[0m\u001b[0;34m:\u001b[0m\u001b[0;34m\u001b[0m\u001b[0;34m\u001b[0m\u001b[0m\n\u001b[1;32m     57\u001b[0m             \u001b[0;32mfor\u001b[0m \u001b[0marr\u001b[0m\u001b[0;34m,\u001b[0m \u001b[0mold_flag\u001b[0m \u001b[0;32min\u001b[0m \u001b[0mzip\u001b[0m\u001b[0;34m(\u001b[0m\u001b[0marray_args\u001b[0m\u001b[0;34m,\u001b[0m \u001b[0mold_flags\u001b[0m\u001b[0;34m)\u001b[0m\u001b[0;34m:\u001b[0m\u001b[0;34m\u001b[0m\u001b[0;34m\u001b[0m\u001b[0m\n",
      "\u001b[0;32m~/opt/anaconda3/envs/geo_env/lib/python3.9/site-packages/pygeos/set_operations.py\u001b[0m in \u001b[0;36mintersection\u001b[0;34m(a, b, grid_size, **kwargs)\u001b[0m\n\u001b[1;32m    119\u001b[0m         \u001b[0;32mreturn\u001b[0m \u001b[0mlib\u001b[0m\u001b[0;34m.\u001b[0m\u001b[0mintersection_prec\u001b[0m\u001b[0;34m(\u001b[0m\u001b[0ma\u001b[0m\u001b[0;34m,\u001b[0m \u001b[0mb\u001b[0m\u001b[0;34m,\u001b[0m \u001b[0mgrid_size\u001b[0m\u001b[0;34m,\u001b[0m \u001b[0;34m**\u001b[0m\u001b[0mkwargs\u001b[0m\u001b[0;34m)\u001b[0m\u001b[0;34m\u001b[0m\u001b[0;34m\u001b[0m\u001b[0m\n\u001b[1;32m    120\u001b[0m \u001b[0;34m\u001b[0m\u001b[0m\n\u001b[0;32m--> 121\u001b[0;31m     \u001b[0;32mreturn\u001b[0m \u001b[0mlib\u001b[0m\u001b[0;34m.\u001b[0m\u001b[0mintersection\u001b[0m\u001b[0;34m(\u001b[0m\u001b[0ma\u001b[0m\u001b[0;34m,\u001b[0m \u001b[0mb\u001b[0m\u001b[0;34m,\u001b[0m \u001b[0;34m**\u001b[0m\u001b[0mkwargs\u001b[0m\u001b[0;34m)\u001b[0m\u001b[0;34m\u001b[0m\u001b[0;34m\u001b[0m\u001b[0m\n\u001b[0m\u001b[1;32m    122\u001b[0m \u001b[0;34m\u001b[0m\u001b[0m\n\u001b[1;32m    123\u001b[0m \u001b[0;34m\u001b[0m\u001b[0m\n",
      "\u001b[0;31mGEOSException\u001b[0m: TopologyException: Input geom 0 is invalid: Self-intersection at -9382135.4807230141 3997787.9521919959"
     ]
    },
    {
     "data": {
      "image/png": "[encoded data removed]",
      "text/plain": [
       "<Figure size 432x288 with 1 Axes>"
      ]
     },
     "metadata": {
      "needs_background": "light"
     },
     "output_type": "display_data"
    },
    {
     "data": {
      "image/png": "[encoded data removed]",
      "text/plain": [
       "<Figure size 432x288 with 1 Axes>"
      ]
     },
     "metadata": {
      "needs_background": "light"
     },
     "output_type": "display_data"
    },
    {
     "data": {
      "image/png": "[encoded data removed]",
      "text/plain": [
       "<Figure size 432x288 with 1 Axes>"
      ]
     },
     "metadata": {
      "needs_background": "light"
     },
     "output_type": "display_data"
    },
    {
     "data": {
      "image/png": "[encoded data removed]",
      "text/plain": [
       "<Figure size 432x288 with 1 Axes>"
      ]
     },
     "metadata": {
      "needs_background": "light"
     },
     "output_type": "display_data"
    },
    {
     "data": {
      "image/png": "[encoded data removed]",
      "text/plain": [
       "<Figure size 432x288 with 1 Axes>"
      ]
     },
     "metadata": {
      "needs_background": "light"
     },
     "output_type": "display_data"
    },
    {
     "data": {
      "image/png": "[encoded data removed]",
      "text/plain": [
       "<Figure size 432x288 with 1 Axes>"
      ]
     },
     "metadata": {
      "needs_background": "light"
     },
     "output_type": "display_data"
    },
    {
     "data": {
      "image/png": "[encoded data removed]",
      "text/plain": [
       "<Figure size 432x288 with 1 Axes>"
      ]
     },
     "metadata": {
      "needs_background": "light"
     },
     "output_type": "display_data"
    },
    {
     "data": {
      "image/png": "[encoded data removed]",
      "text/plain": [
       "<Figure size 432x288 with 1 Axes>"
      ]
     },
     "metadata": {
      "needs_background": "light"
     },
     "output_type": "display_data"
    },
    {
     "data": {
      "image/png": "[encoded data removed]",
      "text/plain": [
       "<Figure size 432x288 with 1 Axes>"
      ]
     },
     "metadata": {
      "needs_background": "light"
     },
     "output_type": "display_data"
    },
    {
     "data": {
      "image/png": "[encoded data removed]",
      "text/plain": [
       "<Figure size 432x288 with 1 Axes>"
      ]
     },
     "metadata": {
      "needs_background": "light"
     },
     "output_type": "display_data"
    },
    {
     "data": {
      "image/png": "[encoded data removed]",
      "text/plain": [
       "<Figure size 432x288 with 1 Axes>"
      ]
     },
     "metadata": {
      "needs_background": "light"
     },
     "output_type": "display_data"
    },
    {
     "data": {
      "image/png": "[encoded data removed]",
      "text/plain": [
       "<Figure size 432x288 with 1 Axes>"
      ]
     },
     "metadata": {
      "needs_background": "light"
     },
     "output_type": "display_data"
    },
    {
     "data": {
      "image/png": "[encoded data removed]",
      "text/plain": [
       "<Figure size 432x288 with 1 Axes>"
      ]
     },
     "metadata": {
      "needs_background": "light"
     },
     "output_type": "display_data"
    }
   ],
   "source": [
    "count = 0\n",
    "area_list = []\n",
    "for i in range(0,len(source_geoms)):\n",
    "    if (i!=825):\n",
    "        try:\n",
    "            diff = source_geoms.iloc[[i]].symmetric_difference(vest_geoms.iloc[[i]])\n",
    "        \n",
    "        except:\n",
    "            pass\n",
    "        #diff = source_geoms.iloc[[i]].symmetric_difference(vest_geoms.iloc[[i]])\n",
    "        intersection = source_geoms.iloc[[i]].intersection(vest_geoms.iloc[[i]])\n",
    "        area = float(diff.area/10e6)\n",
    "        area_list.append(area)\n",
    "        #print(\"Area is \" + str(area))\n",
    "\n",
    "        if (area > .5):\n",
    "            count += 1\n",
    "            name = source_geoms.iat[i,0]\n",
    "\n",
    "            print(str(count)+\") For \" + name + \" difference in area is \" + str(area))\n",
    "            if (intersection.iloc[0].is_empty):\n",
    "                base = diff.plot(color=\"red\")\n",
    "                source_geoms.iloc[[i]].plot(color=\"orange\",ax=base)\n",
    "                vest_geoms.iloc[[i]].plot(color=\"blue\",ax=base)\n",
    "                base.set_title(name)\n",
    "            else:\n",
    "                base = diff.plot(color=\"red\")\n",
    "                source_geoms.iloc[[i]].plot(color=\"orange\",ax=base)\n",
    "                vest_geoms.iloc[[i]].plot(color=\"blue\",ax=base)\n",
    "                intersection.plot(color=\"green\",ax=base)\n",
    "                base.set_title(name)"
   ]
  },
  {
   "cell_type": "code",
   "execution_count": null,
   "id": "7d921723",
   "metadata": {},
   "outputs": [],
   "source": [
    "df = pd.DataFrame(area_list)\n",
    "print(df.shape)\n",
    "\n",
    "print(str(len(df[df[0]==0]))+\" precincts w/ a difference of 0 km^2\")\n",
    "print(str(len(df[(df[0]<.1) & (df[0]>0)]))+ \" precincts w/ a difference between 0 and .1 km^2\")\n",
    "print(str(len(df[(df[0]<.5) & (df[0]>=.1)]))+ \" precincts w/ a difference between .1 and .5 km^2\")\n",
    "print(str(len(df[(df[0]<1) & (df[0]>=.5)]))+ \" precincts w/ a difference between .5 and 1 km^2\")\n",
    "print(str(len(df[(df[0]<2) & (df[0]>=1)]))+ \" precincts w/ a difference between 1 and 2 km^2\")\n",
    "print(str(len(df[(df[0]<5) & (df[0]>=2)]))+ \" precincts w/ a difference between 2 and 5 km^2\")\n",
    "print(str(len(df[(df[0]>=5)]))+ \" precincts w/ a difference greater than 5 km^2\")"
   ]
  },
  {
   "cell_type": "code",
   "execution_count": null,
   "id": "b186dee8",
   "metadata": {},
   "outputs": [],
   "source": []
  }
 ],
 "metadata": {
  "kernelspec": {
   "display_name": "Python 3",
   "language": "python",
   "name": "python3"
  },
  "language_info": {
   "codemirror_mode": {
    "name": "ipython",
    "version": 3
   },
   "file_extension": ".py",
   "mimetype": "text/x-python",
   "name": "python",
   "nbconvert_exporter": "python",
   "pygments_lexer": "ipython3",
   "version": "3.9.2"
  }
 },
 "nbformat": 4,
 "nbformat_minor": 5
}
