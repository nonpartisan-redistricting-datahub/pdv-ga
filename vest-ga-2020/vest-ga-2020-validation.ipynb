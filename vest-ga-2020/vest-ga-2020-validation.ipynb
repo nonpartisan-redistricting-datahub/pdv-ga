{
 "cells": [
  {
   "cell_type": "code",
   "execution_count": 1,
   "id": "9be4f4bd",
   "metadata": {},
   "outputs": [],
   "source": [
    "import pandas as pd # standard python data library\n",
    "import geopandas as gp # the geo-version of pandas\n",
    "import numpy as np \n",
    "import os\n",
    "import fiona\n",
    "from statistics import mean, median\n",
    "from pandas import read_csv\n",
    "gp.io.file.fiona.drvsupport.supported_drivers['KML'] = 'rw' #To load KML files\n",
    "import string\n",
    "import xml.etree.ElementTree as et"
   ]
  },
  {
   "cell_type": "markdown",
   "id": "21fe69c2",
   "metadata": {},
   "source": [
    "# Georgia"
   ]
  },
  {
   "cell_type": "markdown",
   "id": "64a80258",
   "metadata": {},
   "source": [
    "## Election Results Documentation:"
   ]
  },
  {
   "cell_type": "markdown",
   "id": "802f756b",
   "metadata": {},
   "source": [
    "Election results from the Georgia Secretary of State Elections Division (https://sos.ga.gov/index.php/Elections/current_and_past_elections_results). Presidential recount results from the Georgia Secretary of State Elections Division via Reuters."
   ]
  },
  {
   "cell_type": "markdown",
   "id": "32a07592",
   "metadata": {},
   "source": [
    "## Shapefile Source Documentation:"
   ]
  },
  {
   "cell_type": "markdown",
   "id": "0c5964c1",
   "metadata": {},
   "source": [
    "Precinct shapefile primarily from the Georgia General Assembly Reapportionment Office (http://www.legis.ga.gov/Joint/reapportionment/en-US/default.aspx).  \n",
    "\n",
    "The following counties instead use shapefiles from the U.S. Census Bureau's 2020 Redistricting Data Program Phase 2 release: Cobb, DeKalb, Gwinnett. Forsyth and Fulton use shapefiles sourced from the respective counties."
   ]
  },
  {
   "cell_type": "markdown",
   "id": "4f616888",
   "metadata": {},
   "source": [
    "## Shapefile Modifications Documentation:"
   ]
  },
  {
   "cell_type": "markdown",
   "id": "87e4384e",
   "metadata": {},
   "source": [
    "Three of the four VTDs in Chattahoochee County are comprised of Fort Benning. However, the county only reports one polling location for all voters, including residents of Fort Benning that vote within the county. The four Chattahoochee County VTDs have therefore been merged in the shapefile.\n",
    "\n",
    "The following additional modifications reflect changes made prior to the 2020 general election:\n",
    "\n",
    "Barrow: Merge 2/15, 3/12, 4/14, 5/7, 6/10/13, 8/9, 11/16; Adjust new 2/13 boundary\n",
    "Bartow: Split Cassville/Hamilton Crossing\n",
    "Candler: Merge Candler/Metter as Jack Strickland Comm Center\n",
    "Chatham: Split 7-7/8-16, 7-12/7-16; Realign 7-06C/7-07C\n",
    "Chatooga: Split Cloudland/Teloga along ridgeline that marks boundary between them with the USGS Topographic Contour shapefile\n",
    "Clayton: Split Ellenswood 1/2, Jonesboro 1/17/19, Lovejoy 3/6/7, Morrow 3/11, 5/10, Oak 3/5 \n",
    "Cobb: Split Bells Ferry 3/4, Dobbins 1/2, Marietta 3A/3B, Smyrna 3A/3B\n",
    "Columbia: Split Bessie Thomas/2nd Mt Moriah, Harlem Branch/Harlem Senior Ctr; Merge Blanchard Park/MTZ Col FD;  Align multiple precincts with county maps\n",
    "Coweta: Merge Arts Centre/Jefferson Parkway as Newnan Centre\n",
    "Fulton: Merge CP07A/CP07D, CH01/CH04B, SS29A/SS29B, UC031/UC035\n",
    "DeKalb: Split Clarkston/Clarkston Comm Ctr; Realign Decatur/Oakhurst; Align precincts with Atlanta, Brookhaven, Decatur, Tucker city limits \n",
    "Gwinnett: Adjust Baycreek F/G, Berkshire J/M, Cates D/F, Garners C/B, Lawrenceville G/N, Pinckneyville S/T, Rockbridge A/G\n",
    "Lowndes: Split Northgate Assembly/Trinity, Jaycee/Mt Calvary/Northside/VSU\n",
    "Oconee: Merge Annex/City Hall; Align City Hall with Watkinsville city limits\n",
    "Paulding: Reorganize 12 precincts into 19 precincts as redrawn in 2019\n",
    "Randolph: Merge Carnegie/Cuthbert-Courthouse, 4th District/Fountain Bridge/Shellman\n",
    "Troup: Split Mountville between Gardner Newman/Hogansville/Rosemont; Align multiple precincts with county maps\n",
    "Towns: Merge Macedonia/Tate City\n",
    "\n",
    "Note that the leading zeros in the Paulding County precinct IDs are included in some election reports and omitted in others. The shapefile includes the leading zeros consistent with the voter file."
   ]
  },
  {
   "cell_type": "markdown",
   "id": "d7a26783",
   "metadata": {},
   "source": [
    "## Candidate List"
   ]
  },
  {
   "cell_type": "markdown",
   "id": "0b05bfdd",
   "metadata": {},
   "source": [
    "G20PRERTRU - Donald J. Trump (Republican Party)  \n",
    "G20PREDBID - Joseph R. Biden (Democratic Party)  \n",
    "G20PRELJOR - Jo Jorgensen (Libertarian Party)  \n",
    "  \n",
    "C20PRERTRU - Donald J. Trump (Republican Party)  \n",
    "C20PREDBID - Joseph R. Biden (Democratic Party)  \n",
    "C20PRELJOR - Jo Jorgensen (Libertarian Party)  \n",
    "  \n",
    "G20USSRPER - David A. Perdue (Republican Party)  \n",
    "G20USSDOSS - Jon Ossoff (Democratic Party)  \n",
    "G20USSLHAZ - Shane Hazel (Libertarian Party)  \n",
    "  \n",
    "S20USSRLOE - Kelly Loeffler (Republican Party)  \n",
    "S20USSRCOL - Doug Collins (Republican Party)  \n",
    "S20USSRGRA - Derrick E. Grayson (Republican Party)  \n",
    "S20USSRJAC - Annette Davis Jackson (Republican Party)  \n",
    "S20USSRTAY - Kandiss Taylor (Republican Party)  \n",
    "S20USSRJOH - A. Wayne Johnson (Republican Party)  \n",
    "S20USSDWAR - Raphael Warnock (Democratic Party)  \n",
    "S20USSDJAC - Deborah Jackson (Democratic Party)  \n",
    "S20USSDLIE - Matt Lieberman (Democratic Party)  \n",
    "S20USSDJOH - Tamara Johnson-Shealey (Democratic Party)  \n",
    "S20USSDJAM - Jamesia James (Democratic Party)  \n",
    "S20USSDSLA - Joy Felicia Slade (Democratic Party)  \n",
    "S20USSDWIN - Richard Dien Winfield (Democratic Party)  \n",
    "S20USSDTAR - Ed Tarver (Democratic Party)  \n",
    "S20USSLSLO - Brian Slowinski (Libertarian Party)  \n",
    "S20USSGFOR - John Fortuin (Green Party)  \n",
    "S20USSIBUC - Allen Buckley (Independent)  \n",
    "S20USSIBAR - Al Bartell (Independent)  \n",
    "S20USSISTO - Valencia Stovall (Independent)  \n",
    "S20USSIGRE - Michael Todd Greene (Independent)  \n",
    "  \n",
    "G20PSCRSHA - Jason Shaw (Republican Party)  \n",
    "G20PSCDBRY - Robert G. Bryant (Democratic Party)  \n",
    "G20PSCLMEL - Elizabeth Melton (Libertarian Party)  \n",
    "  \n",
    "G20PSCRMCD - Lauren Bubba McDonald, Jr. (Republican Party)  \n",
    "G20PSCDBLA - Daniel Blackman (Democratic Party)  \n",
    "G20PSCLWIL - Nathan Wilson (Libertarian Party)  "
   ]
  },
  {
   "cell_type": "markdown",
   "id": "e5f280e3",
   "metadata": {},
   "source": [
    "### Load Non-Recount Election Data"
   ]
  },
  {
   "cell_type": "markdown",
   "id": "7a819f70",
   "metadata": {},
   "source": [
    "This data had to be downloaded county-by-county in XML format. The below code parses the XML and grabs the necessary data, adds it to a list, gives it the appropriate column names, and converts the data into a dataframe."
   ]
  },
  {
   "cell_type": "code",
   "execution_count": 2,
   "id": "4116fd60",
   "metadata": {},
   "outputs": [],
   "source": [
    "loaded_counties = os.listdir(\"./raw-from-source/Non_Recount_Results/\")\n",
    "z=[]\n",
    "for locale in loaded_counties:\n",
    "    if locale.endswith('.xml'):\n",
    "        file_string = \"./raw-from-source/Non_Recount_Results/\"+locale\n",
    "        xtree = et.parse(file_string)\n",
    "        xroot = xtree.getroot()\n",
    "        store_list = []\n",
    "        county_area = xroot.findall(\".//Region\")\n",
    "        for i in county_area:\n",
    "            county = i.text\n",
    "        contests = xroot.findall(\".//Contest\")\n",
    "        for i in contests:\n",
    "            contest = i.attrib.get('text')\n",
    "            lower = i.findall(\"./Choice\")\n",
    "            for j in lower:\n",
    "                choice = j.attrib.get('text')\n",
    "                lower_2 = j.findall(\"./VoteType\")\n",
    "                for k in lower_2:\n",
    "                    voting_method = k.attrib.get('name')\n",
    "                    lower_3 = k.findall(\"./Precinct\")\n",
    "                    for l in lower_3:\n",
    "                        precinct_name = l.attrib.get('name')\n",
    "                        num_votes = l.attrib.get('votes')\n",
    "                        z.append([county,contest,choice,voting_method,precinct_name,num_votes])\n",
    "dfcols = ['county','contest','choice','voting_method','precinct','num_votes']\n",
    "df_general = pd.DataFrame(z,columns=dfcols)"
   ]
  },
  {
   "cell_type": "markdown",
   "id": "73366f98",
   "metadata": {},
   "source": [
    "#### Take a look at the dataframe"
   ]
  },
  {
   "cell_type": "code",
   "execution_count": 3,
   "id": "e5b67f02",
   "metadata": {},
   "outputs": [
    {
     "data": {
      "text/html": [
       "<div>\n",
       "<style scoped>\n",
       "    .dataframe tbody tr th:only-of-type {\n",
       "        vertical-align: middle;\n",
       "    }\n",
       "\n",
       "    .dataframe tbody tr th {\n",
       "        vertical-align: top;\n",
       "    }\n",
       "\n",
       "    .dataframe thead th {\n",
       "        text-align: right;\n",
       "    }\n",
       "</style>\n",
       "<table border=\"1\" class=\"dataframe\">\n",
       "  <thead>\n",
       "    <tr style=\"text-align: right;\">\n",
       "      <th></th>\n",
       "      <th>county</th>\n",
       "      <th>contest</th>\n",
       "      <th>choice</th>\n",
       "      <th>voting_method</th>\n",
       "      <th>precinct</th>\n",
       "      <th>num_votes</th>\n",
       "    </tr>\n",
       "  </thead>\n",
       "  <tbody>\n",
       "    <tr>\n",
       "      <th>0</th>\n",
       "      <td>Crisp</td>\n",
       "      <td>President of the United States</td>\n",
       "      <td>Donald J. Trump (I) (Rep)</td>\n",
       "      <td>Election Day Votes</td>\n",
       "      <td>Arabi</td>\n",
       "      <td>163</td>\n",
       "    </tr>\n",
       "  </tbody>\n",
       "</table>\n",
       "</div>"
      ],
      "text/plain": [
       "  county                         contest                     choice  \\\n",
       "0  Crisp  President of the United States  Donald J. Trump (I) (Rep)   \n",
       "\n",
       "        voting_method precinct num_votes  \n",
       "0  Election Day Votes    Arabi       163  "
      ]
     },
     "execution_count": 3,
     "metadata": {},
     "output_type": "execute_result"
    }
   ],
   "source": [
    "df_general.head(1)"
   ]
  },
  {
   "cell_type": "markdown",
   "id": "26084d50",
   "metadata": {},
   "source": [
    "### Load Recount Election Data"
   ]
  },
  {
   "cell_type": "markdown",
   "id": "a9c6bcaa",
   "metadata": {},
   "source": [
    "This data had to be downloaded county-by-county in XML format. The below code parses the XML and grabs the necessary data, adds it to a list, gives it the appropriate column names, and converts the data into a dataframe."
   ]
  },
  {
   "cell_type": "code",
   "execution_count": 4,
   "id": "3df66801",
   "metadata": {},
   "outputs": [],
   "source": [
    "loaded_counties = os.listdir(\"./raw-from-source/Recount_Results/\")\n",
    "z=[]\n",
    "for locale in loaded_counties:\n",
    "    if locale.endswith('.xml'):\n",
    "        file_string = \"./raw-from-source/Recount_Results/\"+locale\n",
    "        xtree = et.parse(file_string)\n",
    "        xroot = xtree.getroot()\n",
    "        store_list = []\n",
    "        county_area = xroot.findall(\".//Region\")\n",
    "        for i in county_area:\n",
    "            county = i.text\n",
    "        contests = xroot.findall(\".//Contest\")\n",
    "        for i in contests:\n",
    "            contest = i.attrib.get('text')\n",
    "            lower = i.findall(\"./Choice\")\n",
    "            for j in lower:\n",
    "                choice = j.attrib.get('text')\n",
    "                lower_2 = j.findall(\"./VoteType\")\n",
    "                for k in lower_2:\n",
    "                    voting_method = k.attrib.get('name')\n",
    "                    lower_3 = k.findall(\"./Precinct\")\n",
    "                    for l in lower_3:\n",
    "                        precinct_name = l.attrib.get('name')\n",
    "                        num_votes = l.attrib.get('votes')\n",
    "                        z.append([county,contest,choice,voting_method,precinct_name,num_votes])\n",
    "dfcols = ['county','contest','choice','voting_method','precinct','num_votes']\n",
    "df_recount = pd.DataFrame(z,columns=dfcols)"
   ]
  },
  {
   "cell_type": "markdown",
   "id": "577bfa93",
   "metadata": {},
   "source": [
    "#### Take a look at the dataframe"
   ]
  },
  {
   "cell_type": "code",
   "execution_count": 5,
   "id": "460c812f",
   "metadata": {},
   "outputs": [
    {
     "data": {
      "text/html": [
       "<div>\n",
       "<style scoped>\n",
       "    .dataframe tbody tr th:only-of-type {\n",
       "        vertical-align: middle;\n",
       "    }\n",
       "\n",
       "    .dataframe tbody tr th {\n",
       "        vertical-align: top;\n",
       "    }\n",
       "\n",
       "    .dataframe thead th {\n",
       "        text-align: right;\n",
       "    }\n",
       "</style>\n",
       "<table border=\"1\" class=\"dataframe\">\n",
       "  <thead>\n",
       "    <tr style=\"text-align: right;\">\n",
       "      <th></th>\n",
       "      <th>county</th>\n",
       "      <th>contest</th>\n",
       "      <th>choice</th>\n",
       "      <th>voting_method</th>\n",
       "      <th>precinct</th>\n",
       "      <th>num_votes</th>\n",
       "    </tr>\n",
       "  </thead>\n",
       "  <tbody>\n",
       "    <tr>\n",
       "      <th>0</th>\n",
       "      <td>Oconee</td>\n",
       "      <td>President of the United States</td>\n",
       "      <td>Donald J. Trump (I) (Rep)</td>\n",
       "      <td>Election Day Votes</td>\n",
       "      <td>City Hall</td>\n",
       "      <td>244</td>\n",
       "    </tr>\n",
       "    <tr>\n",
       "      <th>1</th>\n",
       "      <td>Oconee</td>\n",
       "      <td>President of the United States</td>\n",
       "      <td>Donald J. Trump (I) (Rep)</td>\n",
       "      <td>Election Day Votes</td>\n",
       "      <td>Colham Ferry</td>\n",
       "      <td>182</td>\n",
       "    </tr>\n",
       "  </tbody>\n",
       "</table>\n",
       "</div>"
      ],
      "text/plain": [
       "   county                         contest                     choice  \\\n",
       "0  Oconee  President of the United States  Donald J. Trump (I) (Rep)   \n",
       "1  Oconee  President of the United States  Donald J. Trump (I) (Rep)   \n",
       "\n",
       "        voting_method      precinct num_votes  \n",
       "0  Election Day Votes     City Hall       244  \n",
       "1  Election Day Votes  Colham Ferry       182  "
      ]
     },
     "execution_count": 5,
     "metadata": {},
     "output_type": "execute_result"
    }
   ],
   "source": [
    "df_recount.head(2)"
   ]
  },
  {
   "cell_type": "markdown",
   "id": "3175f894",
   "metadata": {},
   "source": [
    "### Clean Recount Data - Contest Names"
   ]
  },
  {
   "cell_type": "markdown",
   "id": "6a15b250",
   "metadata": {},
   "source": [
    "Note: Doing this before combining with the other data so the presidential vote tallies don't get mixed up"
   ]
  },
  {
   "cell_type": "code",
   "execution_count": 6,
   "id": "436e18f7",
   "metadata": {},
   "outputs": [
    {
     "name": "stdout",
     "output_type": "stream",
     "text": [
      "['President of the United States'\n",
      " 'President of the United States/Presidentede los Estados Unidos']\n"
     ]
    }
   ],
   "source": [
    "print(df_recount[\"contest\"].unique())\n",
    "\n",
    "contest_changes_dict = {'President of the United States':'President-Recount',\n",
    " 'President of the United States/Presidentede los Estados Unidos':'President-Recount'}\n",
    "\n",
    "df_recount[\"contest\"] = df_recount[\"contest\"].map(contest_changes_dict).fillna(df_recount[\"contest\"])"
   ]
  },
  {
   "cell_type": "markdown",
   "id": "b208a6d0",
   "metadata": {},
   "source": [
    "### Join Election Data Together"
   ]
  },
  {
   "cell_type": "code",
   "execution_count": 7,
   "id": "4067c918",
   "metadata": {},
   "outputs": [
    {
     "name": "stdout",
     "output_type": "stream",
     "text": [
      "159\n"
     ]
    }
   ],
   "source": [
    "ga_election = pd.concat([df_general,df_recount])\n",
    "\n",
    "#Sanity check that there are the right number of counties, should be 159\n",
    "print(len(ga_election[\"county\"].unique()))"
   ]
  },
  {
   "cell_type": "markdown",
   "id": "cac52c1c",
   "metadata": {},
   "source": [
    "### Filter Down to Relevant Races"
   ]
  },
  {
   "cell_type": "code",
   "execution_count": 8,
   "id": "bea32e9a",
   "metadata": {},
   "outputs": [],
   "source": [
    "office_list = ['President of the United States','US Senate (Perdue)','US Senate (Loeffler) - Special',\n",
    "              'Public Service Commission District 1','Public Service Commission District 4',\n",
    "              'US Senate (Loeffler) - Special Election','President-Recount','President of the United States/Presidentede los Estados Unidos',\n",
    "              'Public Service Commission Dist 1/Comisionado de Servicio Público Dist 1',\n",
    "       'Public Service Commission Dist 4/Comisionado de Servicio Público Dist 4','US Senate (Perdue)/Senado de los EE.UU. (Perdue)',\n",
    "       'US Senate (Loeffler) - Special/Senado de los EE.UU. (Loeffler) - Especial',]\n",
    "\n",
    "ga_election = ga_election[ga_election[\"contest\"].isin(office_list)]"
   ]
  },
  {
   "cell_type": "markdown",
   "id": "c4d50b84",
   "metadata": {},
   "source": [
    "### Clean and Pivot Data"
   ]
  },
  {
   "cell_type": "code",
   "execution_count": 9,
   "id": "7a891ff7",
   "metadata": {},
   "outputs": [
    {
     "name": "stdout",
     "output_type": "stream",
     "text": [
      "['President of the United States' 'US Senate (Perdue)'\n",
      " 'US Senate (Loeffler) - Special' 'Public Service Commission District 1'\n",
      " 'Public Service Commission District 4'\n",
      " 'US Senate (Loeffler) - Special Election'\n",
      " 'President of the United States/Presidentede los Estados Unidos'\n",
      " 'US Senate (Perdue)/Senado de los EE.UU. (Perdue)'\n",
      " 'US Senate (Loeffler) - Special/Senado de los EE.UU. (Loeffler) - Especial'\n",
      " 'Public Service Commission Dist 1/Comisionado de Servicio Público Dist 1'\n",
      " 'Public Service Commission Dist 4/Comisionado de Servicio Público Dist 4'\n",
      " 'President-Recount']\n"
     ]
    }
   ],
   "source": [
    "print(ga_election[\"contest\"].unique())"
   ]
  },
  {
   "cell_type": "code",
   "execution_count": 10,
   "id": "387927d2",
   "metadata": {},
   "outputs": [],
   "source": [
    "contest_changes_dict = {'US Senate (Loeffler) - Special Election':'US Senate (Loeffler) - Special',\n",
    "                        'US Senate (Loeffler) - Special/Senado de los EE.UU. (Loeffler) - Especial':'US Senate (Loeffler) - Special',\n",
    "                        'US Senate (Perdue)/Senado de los EE.UU. (Perdue)':'US Senate (Perdue)',\n",
    "                        'President of the United States/Presidentede los Estados Unidos':'President of the United States',\n",
    "                        'Public Service Commission Dist 1/Comisionado de Servicio Público Dist 1':'Public Service Commission District 1',\n",
    "                        'Public Service Commission Dist 4/Comisionado de Servicio Público Dist 4':'Public Service Commission District 4'}\n",
    "\n",
    "ga_election[\"contest\"] = ga_election[\"contest\"].map(contest_changes_dict).fillna(ga_election[\"contest\"])"
   ]
  },
  {
   "cell_type": "markdown",
   "id": "0c051a00",
   "metadata": {},
   "source": [
    "#### Check remaining contests"
   ]
  },
  {
   "cell_type": "code",
   "execution_count": 11,
   "id": "d009f1a5",
   "metadata": {},
   "outputs": [
    {
     "name": "stdout",
     "output_type": "stream",
     "text": [
      "['President of the United States' 'US Senate (Perdue)'\n",
      " 'US Senate (Loeffler) - Special' 'Public Service Commission District 1'\n",
      " 'Public Service Commission District 4' 'President-Recount']\n"
     ]
    }
   ],
   "source": [
    "print(ga_election[\"contest\"].unique())"
   ]
  },
  {
   "cell_type": "markdown",
   "id": "e6e3d61b",
   "metadata": {},
   "source": [
    "### Clean Candidate Names"
   ]
  },
  {
   "cell_type": "code",
   "execution_count": 12,
   "id": "9192e845",
   "metadata": {},
   "outputs": [
    {
     "name": "stdout",
     "output_type": "stream",
     "text": [
      "['Donald J. Trump (I) (Rep)' 'Joseph R. Biden (Dem)' 'Jo Jorgensen (Lib)'\n",
      " 'David A. Perdue (I) (Rep)' 'Jon Ossoff (Dem)' 'Shane Hazel (Lib)'\n",
      " 'Al Bartell (Ind)' 'Allen Buckley (Ind)' 'Doug Collins (Rep)'\n",
      " 'John Fortuin (Grn)' 'Derrick E. Grayson (Rep)'\n",
      " 'Michael Todd Greene (Ind)' 'Annette Davis Jackson (Rep)'\n",
      " 'Deborah Jackson (Dem)' 'Jamesia James (Dem)' 'A. Wayne Johnson (Rep)'\n",
      " 'Tamara Johnson-Shealey (Dem)' 'Matt Lieberman (Dem)'\n",
      " 'Kelly Loeffler (I) (Rep)' 'Joy Felicia Slade (Dem)'\n",
      " 'Brian Slowinski (Lib)' 'Valencia Stovall (Ind)' 'Ed Tarver (Dem)'\n",
      " 'Kandiss Taylor (Rep)' 'Raphael Warnock (Dem)'\n",
      " 'Richard Dien Winfield (Dem)' 'Jason Shaw (I) (Rep)'\n",
      " 'Robert G. Bryant (Dem)' 'Elizabeth Melton (Lib)'\n",
      " 'Lauren Bubba McDonald, Jr. (I) (Rep)' 'Daniel Blackman (Dem)'\n",
      " 'Nathan Wilson (Lib)' 'Matt Lierberman (Dem)']\n"
     ]
    }
   ],
   "source": [
    "print(ga_election[\"choice\"].unique())"
   ]
  },
  {
   "cell_type": "markdown",
   "id": "c4b006f0",
   "metadata": {},
   "source": [
    "#### Correct the Candidate Name Typo"
   ]
  },
  {
   "cell_type": "code",
   "execution_count": 13,
   "id": "d3d4e3ad",
   "metadata": {},
   "outputs": [],
   "source": [
    "cand_change_dict = {'Matt Lierberman (Dem)':'Matt Lieberman (Dem)'}\n",
    "ga_election[\"choice\"] = ga_election[\"choice\"].map(cand_change_dict).fillna(ga_election[\"choice\"])"
   ]
  },
  {
   "cell_type": "code",
   "execution_count": 14,
   "id": "8ae189fc",
   "metadata": {},
   "outputs": [],
   "source": [
    "ga_election[\"num_votes\"] = ga_election[\"num_votes\"].astype(int)"
   ]
  },
  {
   "cell_type": "markdown",
   "id": "3c1f0e35",
   "metadata": {},
   "source": [
    "#### Add a FIPS Column"
   ]
  },
  {
   "cell_type": "code",
   "execution_count": 15,
   "id": "09b47d6b",
   "metadata": {},
   "outputs": [],
   "source": [
    "fips_file = pd.read_csv(\"./raw-from-source/FIPS/US_FIPS_Codes.csv\")\n",
    "fips_file = fips_file[fips_file[\"State\"]==\"Georgia\"]\n",
    "fips_file[\"FIPS County\"] = fips_file[\"FIPS County\"].astype(str)\n",
    "fips_file[\"FIPS County\"] = fips_file[\"FIPS County\"].str.zfill(3)\n",
    "fips_file[\"County Name\"] = fips_file[\"County Name\"].replace(\"De Kalb\",\"DeKalb\")\n",
    "fips_dict = dict(zip(fips_file['County Name'], fips_file['FIPS County']))\n",
    "ga_election['county_fips'] = ga_election['county'].map(fips_dict).fillna(ga_election['county'])\n",
    "ga_election['county_fips'] = ga_election['county_fips'].astype(str)\n",
    "ga_election['county_fips'] = ga_election['county_fips'].str.zfill(3)"
   ]
  },
  {
   "cell_type": "markdown",
   "id": "cd8c59c7",
   "metadata": {},
   "source": [
    "#### Pivot the data"
   ]
  },
  {
   "cell_type": "code",
   "execution_count": 16,
   "id": "cb1940b2",
   "metadata": {},
   "outputs": [],
   "source": [
    "ga_election[\"unique_ID\"]=ga_election[\"county_fips\"]+ga_election[\"precinct\"]\n",
    "ga_election[\"choice\"]=ga_election[\"choice\"]+ga_election[\"contest\"]\n",
    "ga_election=pd.pivot_table(ga_election,index=[\"unique_ID\",\"county\",\"county_fips\",\"precinct\"],columns=[\"choice\"],values=['num_votes'],aggfunc=sum)\n",
    "ga_election = ga_election.fillna(0)\n",
    "ga_election.columns = ga_election.columns.droplevel(0)\n",
    "ga_election = ga_election.reset_index()"
   ]
  },
  {
   "cell_type": "markdown",
   "id": "813dc8b6",
   "metadata": {},
   "source": [
    "#### Change Names to match VEST"
   ]
  },
  {
   "cell_type": "code",
   "execution_count": 17,
   "id": "4df03d74",
   "metadata": {},
   "outputs": [],
   "source": [
    "column_changes_dict = {'A. Wayne Johnson (Rep)US Senate (Loeffler) - Special':'S20USSRJOH',\n",
    "       'Al Bartell (Ind)US Senate (Loeffler) - Special':'S20USSIBAR',\n",
    "       'Allen Buckley (Ind)US Senate (Loeffler) - Special':'S20USSIBUC',\n",
    "       'Annette Davis Jackson (Rep)US Senate (Loeffler) - Special':'S20USSRJAC',\n",
    "       'Brian Slowinski (Lib)US Senate (Loeffler) - Special':'S20USSLSLO',\n",
    "       'Daniel Blackman (Dem)Public Service Commission District 4':'G20PSCDBLA',\n",
    "       'David A. Perdue (I) (Rep)US Senate (Perdue)':'G20USSRPER',\n",
    "       'Deborah Jackson (Dem)US Senate (Loeffler) - Special':'S20USSDJAC',\n",
    "       'Derrick E. Grayson (Rep)US Senate (Loeffler) - Special':'S20USSRGRA',\n",
    "       'Donald J. Trump (I) (Rep)President of the United States':'G20PRERTRU',\n",
    "       'Donald J. Trump (I) (Rep)President-Recount':'C20PRERTRU',\n",
    "       'Doug Collins (Rep)US Senate (Loeffler) - Special':'S20USSRCOL',\n",
    "       'Ed Tarver (Dem)US Senate (Loeffler) - Special':'S20USSDTAR',\n",
    "       'Elizabeth Melton (Lib)Public Service Commission District 1':'G20PSCLMEL',\n",
    "       'Jamesia James (Dem)US Senate (Loeffler) - Special':'S20USSDJAM',\n",
    "       'Jason Shaw (I) (Rep)Public Service Commission District 1':'G20PSCRSHA',\n",
    "       'Jo Jorgensen (Lib)President of the United States':'G20PRELJOR',\n",
    "       'Jo Jorgensen (Lib)President-Recount':'C20PRELJOR',\n",
    "       'John Fortuin (Grn)US Senate (Loeffler) - Special':'S20USSGFOR',\n",
    "       'Jon Ossoff (Dem)US Senate (Perdue)':'G20USSDOSS',\n",
    "       'Joseph R. Biden (Dem)President of the United States':'G20PREDBID',\n",
    "       'Joseph R. Biden (Dem)President-Recount':'C20PREDBID',\n",
    "       'Joy Felicia Slade (Dem)US Senate (Loeffler) - Special':'S20USSDSLA',\n",
    "       'Kandiss Taylor (Rep)US Senate (Loeffler) - Special':'S20USSRTAY',\n",
    "       'Kelly Loeffler (I) (Rep)US Senate (Loeffler) - Special':'S20USSRLOE',\n",
    "       'Lauren Bubba McDonald, Jr. (I) (Rep)Public Service Commission District 4':'G20PSCRMCD',\n",
    "       'Matt Lieberman (Dem)US Senate (Loeffler) - Special':'S20USSDLIE',\n",
    "       'Michael Todd Greene (Ind)US Senate (Loeffler) - Special':'S20USSIGRE',\n",
    "       'Nathan Wilson (Lib)Public Service Commission District 4':'G20PSCLWIL',\n",
    "       'Raphael Warnock (Dem)US Senate (Loeffler) - Special':'S20USSDWAR',\n",
    "       'Richard Dien Winfield (Dem)US Senate (Loeffler) - Special':'S20USSDWIN',\n",
    "       'Robert G. Bryant (Dem)Public Service Commission District 1':'G20PSCDBRY',\n",
    "       'Shane Hazel (Lib)US Senate (Perdue)':'G20USSLHAZ',\n",
    "       'Tamara Johnson-Shealey (Dem)US Senate (Loeffler) - Special':'S20USSDJOH',\n",
    "       'Valencia Stovall (Ind)US Senate (Loeffler) - Special':'S20USSISTO'}\n",
    "\n",
    "ga_election = ga_election.rename(columns=column_changes_dict)"
   ]
  },
  {
   "cell_type": "markdown",
   "id": "10b6a747",
   "metadata": {},
   "source": [
    "#### Order election result columns to match VEST"
   ]
  },
  {
   "cell_type": "code",
   "execution_count": 18,
   "id": "0f9fc553",
   "metadata": {},
   "outputs": [],
   "source": [
    "ga_election = ga_election[['unique_ID', 'county', 'county_fips', 'precinct','G20PRERTRU', 'G20PREDBID',\n",
    "       'G20PRELJOR', 'C20PRERTRU', 'C20PREDBID', 'C20PRELJOR', 'G20USSRPER',\n",
    "       'G20USSDOSS', 'G20USSLHAZ', 'S20USSRLOE', 'S20USSRCOL', 'S20USSRGRA',\n",
    "       'S20USSRJAC', 'S20USSRTAY', 'S20USSRJOH', 'S20USSDWAR', 'S20USSDJAC',\n",
    "       'S20USSDLIE', 'S20USSDJOH', 'S20USSDJAM', 'S20USSDSLA', 'S20USSDWIN',\n",
    "       'S20USSDTAR', 'S20USSLSLO', 'S20USSGFOR', 'S20USSIBUC', 'S20USSIBAR',\n",
    "       'S20USSISTO', 'S20USSIGRE', 'G20PSCRSHA', 'G20PSCDBRY', 'G20PSCLMEL',\n",
    "       'G20PSCRMCD', 'G20PSCDBLA', 'G20PSCLWIL']]"
   ]
  },
  {
   "cell_type": "markdown",
   "id": "4346a95b",
   "metadata": {},
   "source": [
    "### Load the VEST file"
   ]
  },
  {
   "cell_type": "code",
   "execution_count": 19,
   "id": "6629f548",
   "metadata": {},
   "outputs": [
    {
     "name": "stdout",
     "output_type": "stream",
     "text": [
      "(2679, 44)\n"
     ]
    }
   ],
   "source": [
    "vest_ga_20 = gp.read_file(\"./raw-from-source/VEST/ga_2020/ga_2020.shp\")\n",
    "print(vest_ga_20.shape)"
   ]
  },
  {
   "cell_type": "markdown",
   "id": "c61236d2",
   "metadata": {},
   "source": [
    "#### Take a look"
   ]
  },
  {
   "cell_type": "code",
   "execution_count": 20,
   "id": "a560c42a",
   "metadata": {},
   "outputs": [
    {
     "data": {
      "text/html": [
       "<div>\n",
       "<style scoped>\n",
       "    .dataframe tbody tr th:only-of-type {\n",
       "        vertical-align: middle;\n",
       "    }\n",
       "\n",
       "    .dataframe tbody tr th {\n",
       "        vertical-align: top;\n",
       "    }\n",
       "\n",
       "    .dataframe thead th {\n",
       "        text-align: right;\n",
       "    }\n",
       "</style>\n",
       "<table border=\"1\" class=\"dataframe\">\n",
       "  <thead>\n",
       "    <tr style=\"text-align: right;\">\n",
       "      <th></th>\n",
       "      <th>DISTRICT</th>\n",
       "      <th>CTYSOSID</th>\n",
       "      <th>PRECINCT_I</th>\n",
       "      <th>PRECINCT_N</th>\n",
       "      <th>CTYNAME</th>\n",
       "      <th>CTYNUMBER</th>\n",
       "      <th>CTYNUMBER2</th>\n",
       "      <th>FIPS2</th>\n",
       "      <th>G20PRERTRU</th>\n",
       "      <th>G20PREDBID</th>\n",
       "      <th>...</th>\n",
       "      <th>S20USSIBAR</th>\n",
       "      <th>S20USSISTO</th>\n",
       "      <th>S20USSIGRE</th>\n",
       "      <th>G20PSCRSHA</th>\n",
       "      <th>G20PSCDBRY</th>\n",
       "      <th>G20PSCLMEL</th>\n",
       "      <th>G20PSCRMCD</th>\n",
       "      <th>G20PSCDBLA</th>\n",
       "      <th>G20PSCLWIL</th>\n",
       "      <th>geometry</th>\n",
       "    </tr>\n",
       "  </thead>\n",
       "  <tbody>\n",
       "    <tr>\n",
       "      <th>0</th>\n",
       "      <td>215122</td>\n",
       "      <td>215122</td>\n",
       "      <td>122</td>\n",
       "      <td>FIRST AFRICAN</td>\n",
       "      <td>MUSCOGEE</td>\n",
       "      <td>106</td>\n",
       "      <td>106</td>\n",
       "      <td>215</td>\n",
       "      <td>238</td>\n",
       "      <td>668</td>\n",
       "      <td>...</td>\n",
       "      <td>9</td>\n",
       "      <td>1</td>\n",
       "      <td>4</td>\n",
       "      <td>251</td>\n",
       "      <td>587</td>\n",
       "      <td>52</td>\n",
       "      <td>251</td>\n",
       "      <td>587</td>\n",
       "      <td>44</td>\n",
       "      <td>POLYGON ((-84.96984 32.46725, -84.97031 32.467...</td>\n",
       "    </tr>\n",
       "  </tbody>\n",
       "</table>\n",
       "<p>1 rows × 44 columns</p>\n",
       "</div>"
      ],
      "text/plain": [
       "  DISTRICT CTYSOSID PRECINCT_I     PRECINCT_N   CTYNAME CTYNUMBER CTYNUMBER2  \\\n",
       "0   215122   215122        122  FIRST AFRICAN  MUSCOGEE       106        106   \n",
       "\n",
       "  FIPS2  G20PRERTRU  G20PREDBID  ...  S20USSIBAR  S20USSISTO  S20USSIGRE  \\\n",
       "0   215         238         668  ...           9           1           4   \n",
       "\n",
       "   G20PSCRSHA  G20PSCDBRY  G20PSCLMEL  G20PSCRMCD  G20PSCDBLA  G20PSCLWIL  \\\n",
       "0         251         587          52         251         587          44   \n",
       "\n",
       "                                            geometry  \n",
       "0  POLYGON ((-84.96984 32.46725, -84.97031 32.467...  \n",
       "\n",
       "[1 rows x 44 columns]"
      ]
     },
     "execution_count": 20,
     "metadata": {},
     "output_type": "execute_result"
    }
   ],
   "source": [
    "vest_ga_20.head(1)\n"
   ]
  },
  {
   "cell_type": "code",
   "execution_count": 21,
   "id": "e6c43bf6",
   "metadata": {},
   "outputs": [],
   "source": [
    "data_columns = ['G20PRERTRU', 'G20PREDBID',\n",
    "       'G20PRELJOR', 'C20PRERTRU', 'C20PREDBID', 'C20PRELJOR', 'G20USSRPER',\n",
    "       'G20USSDOSS', 'G20USSLHAZ', 'S20USSRLOE', 'S20USSRCOL', 'S20USSRGRA',\n",
    "       'S20USSRJAC', 'S20USSRTAY', 'S20USSRJOH', 'S20USSDWAR', 'S20USSDJAC',\n",
    "       'S20USSDLIE', 'S20USSDJOH', 'S20USSDJAM', 'S20USSDSLA', 'S20USSDWIN',\n",
    "       'S20USSDTAR', 'S20USSLSLO', 'S20USSGFOR', 'S20USSIBUC', 'S20USSIBAR',\n",
    "       'S20USSISTO', 'S20USSIGRE', 'G20PSCRSHA', 'G20PSCDBRY', 'G20PSCLMEL',\n",
    "       'G20PSCRMCD', 'G20PSCDBLA', 'G20PSCLWIL']\n",
    "\n",
    "for race in data_columns:\n",
    "    ga_election[race] = ga_election[race].astype(int)"
   ]
  },
  {
   "cell_type": "markdown",
   "id": "71729304",
   "metadata": {},
   "source": [
    "### Compare Statewide Candidate Totals"
   ]
  },
  {
   "cell_type": "code",
   "execution_count": 22,
   "id": "853d025a",
   "metadata": {},
   "outputs": [
    {
     "name": "stdout",
     "output_type": "stream",
     "text": [
      "No races contain vote differences\n"
     ]
    }
   ],
   "source": [
    "no_diff = True\n",
    "for race in data_columns:\n",
    "    #Un-comment the below to visually check results against official state counts: https://results.enr.clarityelections.com/GA/105369/web.264614/#/summary\n",
    "    #print(race+\": \"+str(sum(ga_election[race])))\n",
    "    if (sum(vest_ga_20[race])-sum(ga_election[race]) != 0):\n",
    "        print(race+\" has a difference of \"+str(sum(vest_ga_20[race])-sum(ga_election[race]))+\" votes\")\n",
    "        print(\"\\tVEST: \"+str(sum(vest_ga_20[race]))+\" votes\")\n",
    "        print(\"\\tSOURCES: \"+str(sum(ga_election[race]))+\" votes\")\n",
    "        no_diff = False\n",
    "if (no_diff):\n",
    "    print(\"No races contain vote differences\")\n",
    "else:\n",
    "    print(\"All other races are equal\")"
   ]
  },
  {
   "cell_type": "markdown",
   "id": "d63a550d",
   "metadata": {},
   "source": [
    "### Compare Countywide Candidate Totals"
   ]
  },
  {
   "cell_type": "code",
   "execution_count": 23,
   "id": "f3481311",
   "metadata": {},
   "outputs": [
    {
     "name": "stdout",
     "output_type": "stream",
     "text": [
      "No counties contain vote differences\n"
     ]
    }
   ],
   "source": [
    "no_diff = True\n",
    "diff_counties=[]\n",
    "for i in data_columns:\n",
    "    diff = vest_ga_20.groupby([\"FIPS2\"]).sum()[i]-ga_election.groupby([\"county_fips\"]).sum()[i]\n",
    "    for val in diff[diff != 0].index.values.tolist():\n",
    "        if val not in diff_counties:\n",
    "            diff_counties.append(val)\n",
    "    if len(diff[diff != 0]!=0):\n",
    "        print(i)\n",
    "        print(diff[diff != 0].to_string(header=False))\n",
    "        no_diff = False\n",
    "if (no_diff):\n",
    "    print(\"No counties contain vote differences\")\n",
    "else:\n",
    "    print(\"All other county race totals are equal\")"
   ]
  },
  {
   "cell_type": "markdown",
   "id": "8475f90e",
   "metadata": {},
   "source": [
    "### Join Election Results to VEST (to eventually validate precinct votes)"
   ]
  },
  {
   "cell_type": "markdown",
   "id": "ee7999d7",
   "metadata": {},
   "source": [
    "#### Try a  unique ID"
   ]
  },
  {
   "cell_type": "code",
   "execution_count": 24,
   "id": "68c60db6",
   "metadata": {},
   "outputs": [],
   "source": [
    "ga_election[\"precinct\"] = ga_election[\"precinct\"].str.strip().str.upper()\n",
    "ga_election[\"unique_ID\"]=ga_election[\"county_fips\"]+\"-\"+ga_election[\"precinct\"]\n",
    "vest_ga_20[\"unique_ID\"]=vest_ga_20[\"FIPS2\"]+\"-\"+vest_ga_20[\"PRECINCT_N\"]"
   ]
  },
  {
   "cell_type": "markdown",
   "id": "047773e1",
   "metadata": {},
   "source": [
    "#### Check whether there are duplicate IDs"
   ]
  },
  {
   "cell_type": "code",
   "execution_count": 25,
   "id": "86234ae6",
   "metadata": {},
   "outputs": [
    {
     "name": "stdout",
     "output_type": "stream",
     "text": [
      "Series([], Name: unique_ID, dtype: int64)\n",
      "NaN                        7\n",
      "051-ELI WHITNEY COMPLEX    2\n",
      "Name: unique_ID, dtype: int64\n"
     ]
    }
   ],
   "source": [
    "ser = ga_election[\"unique_ID\"].value_counts(dropna=False)\n",
    "print(ser[ser >1])\n",
    "\n",
    "ser = vest_ga_20[\"unique_ID\"].value_counts(dropna=False)\n",
    "print(ser[ser >1])"
   ]
  },
  {
   "cell_type": "code",
   "execution_count": 26,
   "id": "784c3459",
   "metadata": {},
   "outputs": [
    {
     "data": {
      "text/html": [
       "<div>\n",
       "<style scoped>\n",
       "    .dataframe tbody tr th:only-of-type {\n",
       "        vertical-align: middle;\n",
       "    }\n",
       "\n",
       "    .dataframe tbody tr th {\n",
       "        vertical-align: top;\n",
       "    }\n",
       "\n",
       "    .dataframe thead th {\n",
       "        text-align: right;\n",
       "    }\n",
       "</style>\n",
       "<table border=\"1\" class=\"dataframe\">\n",
       "  <thead>\n",
       "    <tr style=\"text-align: right;\">\n",
       "      <th></th>\n",
       "      <th>DISTRICT</th>\n",
       "      <th>CTYSOSID</th>\n",
       "      <th>PRECINCT_I</th>\n",
       "      <th>PRECINCT_N</th>\n",
       "      <th>CTYNAME</th>\n",
       "      <th>CTYNUMBER</th>\n",
       "      <th>CTYNUMBER2</th>\n",
       "      <th>FIPS2</th>\n",
       "      <th>G20PRERTRU</th>\n",
       "      <th>G20PREDBID</th>\n",
       "      <th>...</th>\n",
       "      <th>S20USSISTO</th>\n",
       "      <th>S20USSIGRE</th>\n",
       "      <th>G20PSCRSHA</th>\n",
       "      <th>G20PSCDBRY</th>\n",
       "      <th>G20PSCLMEL</th>\n",
       "      <th>G20PSCRMCD</th>\n",
       "      <th>G20PSCDBLA</th>\n",
       "      <th>G20PSCLWIL</th>\n",
       "      <th>geometry</th>\n",
       "      <th>unique_ID</th>\n",
       "    </tr>\n",
       "  </thead>\n",
       "  <tbody>\n",
       "    <tr>\n",
       "      <th>2245</th>\n",
       "      <td>0513-15C</td>\n",
       "      <td>0513-15C</td>\n",
       "      <td>3-15C</td>\n",
       "      <td>ELI WHITNEY COMPLEX</td>\n",
       "      <td>CHATHAM</td>\n",
       "      <td>25</td>\n",
       "      <td>025</td>\n",
       "      <td>051</td>\n",
       "      <td>278</td>\n",
       "      <td>361</td>\n",
       "      <td>...</td>\n",
       "      <td>0</td>\n",
       "      <td>1</td>\n",
       "      <td>301</td>\n",
       "      <td>320</td>\n",
       "      <td>16</td>\n",
       "      <td>290</td>\n",
       "      <td>325</td>\n",
       "      <td>15</td>\n",
       "      <td>POLYGON ((-81.02948 32.06200, -81.03000 32.060...</td>\n",
       "      <td>051-ELI WHITNEY COMPLEX</td>\n",
       "    </tr>\n",
       "    <tr>\n",
       "      <th>2247</th>\n",
       "      <td>0512-06C</td>\n",
       "      <td>0512-06C</td>\n",
       "      <td>2-06C</td>\n",
       "      <td>ELI WHITNEY COMPLEX</td>\n",
       "      <td>CHATHAM</td>\n",
       "      <td>25</td>\n",
       "      <td>025</td>\n",
       "      <td>051</td>\n",
       "      <td>65</td>\n",
       "      <td>335</td>\n",
       "      <td>...</td>\n",
       "      <td>2</td>\n",
       "      <td>1</td>\n",
       "      <td>72</td>\n",
       "      <td>294</td>\n",
       "      <td>25</td>\n",
       "      <td>67</td>\n",
       "      <td>301</td>\n",
       "      <td>19</td>\n",
       "      <td>POLYGON ((-81.05333 32.07291, -81.05336 32.072...</td>\n",
       "      <td>051-ELI WHITNEY COMPLEX</td>\n",
       "    </tr>\n",
       "  </tbody>\n",
       "</table>\n",
       "<p>2 rows × 45 columns</p>\n",
       "</div>"
      ],
      "text/plain": [
       "      DISTRICT  CTYSOSID PRECINCT_I           PRECINCT_N  CTYNAME CTYNUMBER  \\\n",
       "2245  0513-15C  0513-15C      3-15C  ELI WHITNEY COMPLEX  CHATHAM        25   \n",
       "2247  0512-06C  0512-06C      2-06C  ELI WHITNEY COMPLEX  CHATHAM        25   \n",
       "\n",
       "     CTYNUMBER2 FIPS2  G20PRERTRU  G20PREDBID  ...  S20USSISTO  S20USSIGRE  \\\n",
       "2245        025   051         278         361  ...           0           1   \n",
       "2247        025   051          65         335  ...           2           1   \n",
       "\n",
       "      G20PSCRSHA  G20PSCDBRY  G20PSCLMEL  G20PSCRMCD  G20PSCDBLA  G20PSCLWIL  \\\n",
       "2245         301         320          16         290         325          15   \n",
       "2247          72         294          25          67         301          19   \n",
       "\n",
       "                                               geometry  \\\n",
       "2245  POLYGON ((-81.02948 32.06200, -81.03000 32.060...   \n",
       "2247  POLYGON ((-81.05333 32.07291, -81.05336 32.072...   \n",
       "\n",
       "                    unique_ID  \n",
       "2245  051-ELI WHITNEY COMPLEX  \n",
       "2247  051-ELI WHITNEY COMPLEX  \n",
       "\n",
       "[2 rows x 45 columns]"
      ]
     },
     "metadata": {},
     "output_type": "display_data"
    }
   ],
   "source": [
    "#Look into duplicate IDs - ELI WHITNEY\n",
    "display(vest_ga_20[vest_ga_20[\"unique_ID\"]==\"051-ELI WHITNEY COMPLEX\"])"
   ]
  },
  {
   "cell_type": "code",
   "execution_count": 27,
   "id": "548dfc3c",
   "metadata": {},
   "outputs": [],
   "source": [
    "#Assign new unique IDs, adding in PRECINCT_I to differentiate\n",
    "vest_ga_20.loc[vest_ga_20[\"CTYSOSID\"]==\"0513-15C\",\"unique_ID\"] = \"051-ELI WHITNEY COMPLEX 3-15C\"\n",
    "vest_ga_20.loc[vest_ga_20[\"CTYSOSID\"]==\"0512-06C\",\"unique_ID\"] = \"051-ELI WHITNEY COMPLEX 2-06C\""
   ]
  },
  {
   "cell_type": "code",
   "execution_count": 28,
   "id": "d3289f55",
   "metadata": {},
   "outputs": [
    {
     "data": {
      "text/html": [
       "<div>\n",
       "<style scoped>\n",
       "    .dataframe tbody tr th:only-of-type {\n",
       "        vertical-align: middle;\n",
       "    }\n",
       "\n",
       "    .dataframe tbody tr th {\n",
       "        vertical-align: top;\n",
       "    }\n",
       "\n",
       "    .dataframe thead th {\n",
       "        text-align: right;\n",
       "    }\n",
       "</style>\n",
       "<table border=\"1\" class=\"dataframe\">\n",
       "  <thead>\n",
       "    <tr style=\"text-align: right;\">\n",
       "      <th></th>\n",
       "      <th>DISTRICT</th>\n",
       "      <th>CTYSOSID</th>\n",
       "      <th>PRECINCT_I</th>\n",
       "      <th>PRECINCT_N</th>\n",
       "      <th>CTYNAME</th>\n",
       "      <th>CTYNUMBER</th>\n",
       "      <th>CTYNUMBER2</th>\n",
       "      <th>FIPS2</th>\n",
       "      <th>G20PRERTRU</th>\n",
       "      <th>G20PREDBID</th>\n",
       "      <th>...</th>\n",
       "      <th>S20USSISTO</th>\n",
       "      <th>S20USSIGRE</th>\n",
       "      <th>G20PSCRSHA</th>\n",
       "      <th>G20PSCDBRY</th>\n",
       "      <th>G20PSCLMEL</th>\n",
       "      <th>G20PSCRMCD</th>\n",
       "      <th>G20PSCDBLA</th>\n",
       "      <th>G20PSCLWIL</th>\n",
       "      <th>geometry</th>\n",
       "      <th>unique_ID</th>\n",
       "    </tr>\n",
       "  </thead>\n",
       "  <tbody>\n",
       "    <tr>\n",
       "      <th>1329</th>\n",
       "      <td>051XFTPU</td>\n",
       "      <td>None</td>\n",
       "      <td>None</td>\n",
       "      <td>None</td>\n",
       "      <td>None</td>\n",
       "      <td>None</td>\n",
       "      <td>None</td>\n",
       "      <td>None</td>\n",
       "      <td>0</td>\n",
       "      <td>0</td>\n",
       "      <td>...</td>\n",
       "      <td>0</td>\n",
       "      <td>0</td>\n",
       "      <td>0</td>\n",
       "      <td>0</td>\n",
       "      <td>0</td>\n",
       "      <td>0</td>\n",
       "      <td>0</td>\n",
       "      <td>0</td>\n",
       "      <td>POLYGON ((-80.96828 32.04402, -80.96876 32.044...</td>\n",
       "      <td>NaN</td>\n",
       "    </tr>\n",
       "    <tr>\n",
       "      <th>1447</th>\n",
       "      <td>029FTSTEW</td>\n",
       "      <td>None</td>\n",
       "      <td>None</td>\n",
       "      <td>None</td>\n",
       "      <td>None</td>\n",
       "      <td>None</td>\n",
       "      <td>None</td>\n",
       "      <td>None</td>\n",
       "      <td>0</td>\n",
       "      <td>0</td>\n",
       "      <td>...</td>\n",
       "      <td>0</td>\n",
       "      <td>0</td>\n",
       "      <td>0</td>\n",
       "      <td>0</td>\n",
       "      <td>0</td>\n",
       "      <td>0</td>\n",
       "      <td>0</td>\n",
       "      <td>0</td>\n",
       "      <td>MULTIPOLYGON (((-81.59263 32.10346, -81.59242 ...</td>\n",
       "      <td>NaN</td>\n",
       "    </tr>\n",
       "    <tr>\n",
       "      <th>2125</th>\n",
       "      <td>215FTBEN2</td>\n",
       "      <td>None</td>\n",
       "      <td>None</td>\n",
       "      <td>None</td>\n",
       "      <td>None</td>\n",
       "      <td>None</td>\n",
       "      <td>None</td>\n",
       "      <td>None</td>\n",
       "      <td>0</td>\n",
       "      <td>0</td>\n",
       "      <td>...</td>\n",
       "      <td>0</td>\n",
       "      <td>0</td>\n",
       "      <td>0</td>\n",
       "      <td>0</td>\n",
       "      <td>0</td>\n",
       "      <td>0</td>\n",
       "      <td>0</td>\n",
       "      <td>0</td>\n",
       "      <td>POLYGON ((-84.93473 32.40556, -84.93448 32.405...</td>\n",
       "      <td>NaN</td>\n",
       "    </tr>\n",
       "    <tr>\n",
       "      <th>2128</th>\n",
       "      <td>215FTBEN4</td>\n",
       "      <td>None</td>\n",
       "      <td>None</td>\n",
       "      <td>None</td>\n",
       "      <td>None</td>\n",
       "      <td>None</td>\n",
       "      <td>None</td>\n",
       "      <td>None</td>\n",
       "      <td>0</td>\n",
       "      <td>0</td>\n",
       "      <td>...</td>\n",
       "      <td>0</td>\n",
       "      <td>0</td>\n",
       "      <td>0</td>\n",
       "      <td>0</td>\n",
       "      <td>0</td>\n",
       "      <td>0</td>\n",
       "      <td>0</td>\n",
       "      <td>0</td>\n",
       "      <td>POLYGON ((-84.91564 32.42299, -84.90945 32.422...</td>\n",
       "      <td>NaN</td>\n",
       "    </tr>\n",
       "    <tr>\n",
       "      <th>2146</th>\n",
       "      <td>215FTBEN3</td>\n",
       "      <td>None</td>\n",
       "      <td>None</td>\n",
       "      <td>None</td>\n",
       "      <td>None</td>\n",
       "      <td>None</td>\n",
       "      <td>None</td>\n",
       "      <td>None</td>\n",
       "      <td>0</td>\n",
       "      <td>0</td>\n",
       "      <td>...</td>\n",
       "      <td>0</td>\n",
       "      <td>0</td>\n",
       "      <td>0</td>\n",
       "      <td>0</td>\n",
       "      <td>0</td>\n",
       "      <td>0</td>\n",
       "      <td>0</td>\n",
       "      <td>0</td>\n",
       "      <td>POLYGON ((-84.93783 32.40666, -84.93765 32.406...</td>\n",
       "      <td>NaN</td>\n",
       "    </tr>\n",
       "    <tr>\n",
       "      <th>2229</th>\n",
       "      <td>215ZZZZZZ</td>\n",
       "      <td>None</td>\n",
       "      <td>None</td>\n",
       "      <td>None</td>\n",
       "      <td>None</td>\n",
       "      <td>None</td>\n",
       "      <td>None</td>\n",
       "      <td>None</td>\n",
       "      <td>0</td>\n",
       "      <td>0</td>\n",
       "      <td>...</td>\n",
       "      <td>0</td>\n",
       "      <td>0</td>\n",
       "      <td>0</td>\n",
       "      <td>0</td>\n",
       "      <td>0</td>\n",
       "      <td>0</td>\n",
       "      <td>0</td>\n",
       "      <td>0</td>\n",
       "      <td>POLYGON ((-84.89892 32.45201, -84.89890 32.452...</td>\n",
       "      <td>NaN</td>\n",
       "    </tr>\n",
       "    <tr>\n",
       "      <th>2230</th>\n",
       "      <td>215FTBEN1</td>\n",
       "      <td>None</td>\n",
       "      <td>None</td>\n",
       "      <td>None</td>\n",
       "      <td>None</td>\n",
       "      <td>None</td>\n",
       "      <td>None</td>\n",
       "      <td>None</td>\n",
       "      <td>0</td>\n",
       "      <td>0</td>\n",
       "      <td>...</td>\n",
       "      <td>0</td>\n",
       "      <td>0</td>\n",
       "      <td>0</td>\n",
       "      <td>0</td>\n",
       "      <td>0</td>\n",
       "      <td>0</td>\n",
       "      <td>0</td>\n",
       "      <td>0</td>\n",
       "      <td>POLYGON ((-84.89897 32.44577, -84.89896 32.449...</td>\n",
       "      <td>NaN</td>\n",
       "    </tr>\n",
       "  </tbody>\n",
       "</table>\n",
       "<p>7 rows × 45 columns</p>\n",
       "</div>"
      ],
      "text/plain": [
       "       DISTRICT CTYSOSID PRECINCT_I PRECINCT_N CTYNAME CTYNUMBER CTYNUMBER2  \\\n",
       "1329   051XFTPU     None       None       None    None      None       None   \n",
       "1447  029FTSTEW     None       None       None    None      None       None   \n",
       "2125  215FTBEN2     None       None       None    None      None       None   \n",
       "2128  215FTBEN4     None       None       None    None      None       None   \n",
       "2146  215FTBEN3     None       None       None    None      None       None   \n",
       "2229  215ZZZZZZ     None       None       None    None      None       None   \n",
       "2230  215FTBEN1     None       None       None    None      None       None   \n",
       "\n",
       "     FIPS2  G20PRERTRU  G20PREDBID  ...  S20USSISTO  S20USSIGRE  G20PSCRSHA  \\\n",
       "1329  None           0           0  ...           0           0           0   \n",
       "1447  None           0           0  ...           0           0           0   \n",
       "2125  None           0           0  ...           0           0           0   \n",
       "2128  None           0           0  ...           0           0           0   \n",
       "2146  None           0           0  ...           0           0           0   \n",
       "2229  None           0           0  ...           0           0           0   \n",
       "2230  None           0           0  ...           0           0           0   \n",
       "\n",
       "      G20PSCDBRY  G20PSCLMEL  G20PSCRMCD  G20PSCDBLA  G20PSCLWIL  \\\n",
       "1329           0           0           0           0           0   \n",
       "1447           0           0           0           0           0   \n",
       "2125           0           0           0           0           0   \n",
       "2128           0           0           0           0           0   \n",
       "2146           0           0           0           0           0   \n",
       "2229           0           0           0           0           0   \n",
       "2230           0           0           0           0           0   \n",
       "\n",
       "                                               geometry  unique_ID  \n",
       "1329  POLYGON ((-80.96828 32.04402, -80.96876 32.044...        NaN  \n",
       "1447  MULTIPOLYGON (((-81.59263 32.10346, -81.59242 ...        NaN  \n",
       "2125  POLYGON ((-84.93473 32.40556, -84.93448 32.405...        NaN  \n",
       "2128  POLYGON ((-84.91564 32.42299, -84.90945 32.422...        NaN  \n",
       "2146  POLYGON ((-84.93783 32.40666, -84.93765 32.406...        NaN  \n",
       "2229  POLYGON ((-84.89892 32.45201, -84.89890 32.452...        NaN  \n",
       "2230  POLYGON ((-84.89897 32.44577, -84.89896 32.449...        NaN  \n",
       "\n",
       "[7 rows x 45 columns]"
      ]
     },
     "metadata": {},
     "output_type": "display_data"
    }
   ],
   "source": [
    "display(vest_ga_20[vest_ga_20[\"unique_ID\"].isna()])"
   ]
  },
  {
   "cell_type": "code",
   "execution_count": 29,
   "id": "174c4059",
   "metadata": {},
   "outputs": [],
   "source": [
    "vest_ga_20.loc[vest_ga_20['unique_ID'].isna(), 'unique_ID'] = vest_ga_20['DISTRICT']"
   ]
  },
  {
   "cell_type": "markdown",
   "id": "bacae3ee",
   "metadata": {},
   "source": [
    "#### Confirm there are no duplicate IDs"
   ]
  },
  {
   "cell_type": "code",
   "execution_count": 30,
   "id": "ed98903c",
   "metadata": {},
   "outputs": [
    {
     "name": "stdout",
     "output_type": "stream",
     "text": [
      "Series([], Name: unique_ID, dtype: int64)\n",
      "Series([], Name: unique_ID, dtype: int64)\n"
     ]
    }
   ],
   "source": [
    "ser = ga_election[\"unique_ID\"].value_counts(dropna=False)\n",
    "print(ser[ser >1])\n",
    "\n",
    "ser = vest_ga_20[\"unique_ID\"].value_counts(dropna=False)\n",
    "print(ser[ser >1])"
   ]
  },
  {
   "cell_type": "code",
   "execution_count": 31,
   "id": "085e3d0d",
   "metadata": {},
   "outputs": [
    {
     "name": "stdout",
     "output_type": "stream",
     "text": [
      "both          2545\n",
      "right_only     134\n",
      "left_only      111\n",
      "Name: _merge, dtype: int64\n"
     ]
    }
   ],
   "source": [
    "join_attempt_1 = pd.merge(ga_election,vest_ga_20,how=\"outer\",on=\"unique_ID\",indicator=True)\n",
    "print(join_attempt_1[\"_merge\"].value_counts())"
   ]
  },
  {
   "cell_type": "code",
   "execution_count": 32,
   "id": "c0805f10",
   "metadata": {},
   "outputs": [],
   "source": [
    "left_only = join_attempt_1[join_attempt_1[\"_merge\"]==\"left_only\"]\n",
    "right_only = join_attempt_1[join_attempt_1[\"_merge\"]==\"right_only\"]\n",
    "\n"
   ]
  },
  {
   "cell_type": "code",
   "execution_count": 37,
   "id": "a72cb91d",
   "metadata": {},
   "outputs": [],
   "source": [
    "source_vest_id_changes_dict = {'051-1-17C ISLANDS CHRISTIAN CHURCH': '051-ISLANDS CHRISTIAN CHURCH', '051-7-14C COASTAL CATHEDRAL': '051-COASTAL CATHEDRAL', '051-7-07C ROTHWELL BAPTIST CHURCH': '051-ROTHWELL BAPTIST CHURCH', '051-4-07C WILMINGTON ISLAND UMC': '051-WILMINGTON ISLAND UMC', '051-4-08C WILMINGTON ISLAND PRES CHURCH': '051-WILMINGTON ISLAND PRES CHURCH', '051-1-16C FERGUSON AVE BAPTIST': '051-FERGUSON AVE BAPTIST', '051-7-11C SEVENTH DAY ADV CHURCH': '051-SEVENTH DAY ADV CHURCH', '051-7-16C POOLER RECREATION CENTER GYMNASIUM': '051-POOLER REC CENTER GYM', '051-7-08C BLOOMINGDALE COMM CTR': '051-BLOOMINGDALE COMM CTR', '051-4-13C SKIDAWAY ISLAND PRES CHURCH': '051-SKIDAWAY ISLAND PRES CHURCH', '051-6-10C STATION 3': '051-GEORGETOWN ELEMENTARY', '051-4-12C ST PETERS EPISCOPAL': '051-ST PETERS EPISCOPAL', '051-7-13C SOUTHSIDE FIRE TRNG CTR': '051-SOUTHSIDE FIRE TRNG CTR', '051-4-06C FIRST BAPTIST OF THE ISLAND': '051-FIRST BAPTIST OF THE ISLAND', '051-4-04C LIGHTHOUSE BAPTIST CHURCH': '051-LIGHTHOUSE BAPTIST CHURCH', '051-4-05C ST FRANCIS EPISCOPAL CHURCH': '051-ST FRANCIS EPISCOPAL CHURCH', '051-1-12C ISLE OF HOPE BAPTIST': '051-ISLE OF HOPE BAPTIST', '051-4-02C FRANK MURRAY COMM CENTER': '051-FRANK MURRAY COMM CENTER', '051-7-06C POOLER CITY HALL': '051-POOLER CITY HALL', '051-8-16C ROYAL CINEMAS AND IMAX': '051-ROYAL CINEMAS AND IMAX', '051-6-02C WINDSOR FOREST BAPTIST': '051-WINDSOR FOREST BAPTIST', '051-6-11C BAMBOO FARMS': '051-BAMBOO FARMS', '051-4-15C SKIDAWAY ISLAND STATE PARK': '051-SKIDAWAY ISLAND STATE PARK', '051-6-09C TRINITY LUTHERAN CHURCH': '051-TRINITY LUTHERAN CHURCH', '051-1-01C FIRST PRESBYTERIAN CHURCH': '051-FIRST PRESBYTERIAN CHURCH', '051-4-14C SKIDAWAY ISLAND BAPTIST': '051-SKIDAWAY ISLAND BAPTIST', '051-7-12C POOLER CHURCH': '051-POOLER CHURCH', '051-7-10C PROGRESSIVE REC CENTER': '051-PROGRESSIVE REC CENTER', '051-1-06C CENTRAL CHURCH OF CHRIST': '051-CENTRAL CHURCH OF CHRIST', '051-1-14C COMPASSION CHRISTIAN CHURCH': '051-COMPASSION CHRISTIAN CHURCH', '051-6-03C CRUSADER COMM CENTER': '051-CRUSADER COMM CENTER', '051-4-11C TYBEE ISLAND SCHOOL CAFE': '051-TYBEE ISLAND SCHOOL CAFE', '051-7-09C SAVANNAH HOLY C OF G': '051-SAVANNAH HOLY C OF G', '051-4-10C GUARD HOUSE COMM CTR': '051-GUARD HOUSE COMM CTR', '051-1-08C GRACE UNITED METHODIST CHURCH': '051-GRACE UNITED METHODIST CHURCH', '051-1-10C ST THOMAS EPISCOPAL CHURCH': '051-ST THOMAS EPISCOPAL CHURCH', '051-1-05C JEA BUILDING': '051-JEA BUILDING', '051-1-13C THE SANCTUARY': '051-THE SANCTUARY', '051-7-15C RICE CREEK SCHOOL': '051-RICE CREEK SCHOOL', '051-3-12C THUNDERBOLT MUNI COMPLEX': '051-THUNDERBOLT MUNI COMPLEX', '051-3-13C NEW COV 7 DAY ADV CH': '051-NEW COV 7 DAY ADV CH', '051-7-03C PB EDWARDS GYM': '051-PB EDWARDS GYM', '051-7-01C GARDEN CITY SENIOR CTR': '051-GARDEN CITY SENIOR CTR', '051-6-06C THE LIGHT CHURCH': '051-THE LIGHT CHURCH', '051-7-04C LAKE SHORE COMM CTR': '051-LAKE SHORE COMM CTR', '051-6-05C WINDSOR HALL': '051-WINDSOR HALL', '051-3-02C TEMPLE MICKVE ISRAEL': '051-TEMPLE MICKVE ISRAEL', '051-6-01C WHITE BLUFF PRESBYTERIAN': '051-WHITE BLUFF PRESBYTERIAN', '051-5-11C LARGO-TIBET ELEMENTARY': '051-LARGO-TIBET ELEMENTARY', '051-3-14C OGLETHORPE CHARTER ACADEMY': '051-OGLETHORPE CHARTER ACADEMY', '051-6-08C CHRIST MEMORIAL BAPTIST CHURCH': '051-CHRIST MEMORIAL BAPTIST CHURCH', '051-7-05C WOODLAWN BAPTIST CHURCH': '051-WOODLAWN BAPTIST CHURCH', '051-5-08C SAVANNAH PRIMITIVE BC': '051-SAVANNAH PRIMITIVE BC', '051-8-03C SILK HOPE BAPTIST CHURCH': '051-SILK HOPE BAPTIST CHURCH', '051-3-05C ALDERSGATE YOUTH CENTER': '051-ALDERSGATE YOUTH CENTER', '051-3-09C COKESBURY METHODIST': '051-COKESBURY METHODIST', '051-3-15C ELI WHITNEY COMPLEX': '051-ELI WHITNEY COMPLEX 3-15C', '051-8-13C SAVANNAH CHRISTIAN': '051-SAVANNAH CHRISTIAN', '051-5-07C STATION 1': '051-ELKS LODGE', '051-2-09C SALVATION ARMY': '051-SALVATION ARMY', '051-3-10C BIBLE BAPTIST CHURCH': '051-BIBLE BAPTIST CHURCH', '051-2-07C CHRIST COMMUNITY CHURCH': '051-CHRIST COMMUNITY CHURCH', '051-3-08C JENKINS HIGH SCHOOL': '051-JENKINS HIGH SCHOOL', '051-5-06C SEED CHURCH': '051-SEED CHURCH', '051-1-09C IMMANUEL BAPTIST CHURCH': '051-IMMANUEL BAPTIST CHURCH', '051-8-02C HELLENIC CENTER': '051-HELLENIC CENTER', '051-2-11C STILLWELL TOWERS': '051-STILLWELL TOWERS', '051-3-11C SOUTHSIDE BAPTIST CHURCH': '051-SOUTHSIDE BAPTIST CHURCH', '051-2-02C BLACKSHEAR COMMUNITY CENTER': '051-BLACKSHEAR COMMUNITY CENTER', '051-5-01C BARTLETT MIDDLE SCHOOL': '051-BARTLETT MIDDLE SCHOOL', '051-2-05C HOLY SPIRIT LUTHERAN CHURCH': '051-HOLY SPIRIT LUTHERAN CHURCH', '051-2-04C FELLOWSHIP OF LOVE CHURCH': '051-FELLOWSHIP OF LOVE CHURCH', '051-2-12C WILLIAMS COURT APTS': '051-WILLIAMS COURT APTS', '051-3-01C OLD COURTHOUSE': '051-OLD COURTHOUSE', '051-2-03C W W LAW CENTER': '051-W W LAW CENTER', '051-8-12C BEACH HIGH SCHOOL': '051-BEACH HIGH SCHOOL', '051-5-10C TATUMVILLE COMMUNITY CENTER': '051-TATUMVILLE COMMUNITY CENTER', '051-8-15C GARDEN CITY REC CENTER': '051-GARDEN CITY REC CENTER', '051-2-06C ELI WHITNEY COMPLEX': '051-ELI WHITNEY COMPLEX 2-06C', '051-3-03C SAVANNAH HIGH SCHOOL': '051-SAVANNAH HIGH SCHOOL', '051-8-01C CIVIC CENTER': '051-CIVIC CENTER', '051-3-04C FIRST AFRICAN BAPTIST CHURCH': '051-FIRST AFRICAN BAPTIST CHURCH', '051-5-05C LIBERTY CITY COMM CTR': '051-LIBERTY CITY COMM CTR', '051-5-02C SENIOR CITIZENS CENTER': '051-SENIOR CITIZENS CENTER', '051-8-08C RESUR OF OUR LORD CHURCH': '051-RESURRECTION OF OUR LORD CHURCH', '051-8-05C W BROAD ST YMCA': '051-W BROAD ST YMCA', '051-8-06C TOMPKINS REC CENTER': '051-TOMPKINS REC CENTER', '051-8-09C MOSES JACKSON CENTER': '051-MOSES JACKSON CENTER', '051-5-03C BUTLER PRESBYTERIAN CHURCH': '051-BUTLER PRESBYTERIAN CHURCH', '051-8-11C BUTLER ELEMENTARY': '051-BUTLER ELEMENTARY', '051-8-07C WOODVILLE-TOMPKINS TI': '051-WOODVILLE-TOMPKINS TI', '051-8-10C CARVER HEIGHTS COMM CTR': '051-CARVER HEIGHTS COMM CTR', '053-ACTIVITY CENTER': '053-ACTIVITY CENTER (Includes FTBEN 1-3)', '067-POWDERS SPRINGS 1A': '067-POWDER SPRINGS 1A', '067-POWDERS SPRINGS 2A': '067-POWDER SPRINGS 2A', '067-POWDERS SPRINGS 3A': '067-POWDER SPRINGS 3A', '171-CHAPPELL MILL V FD': '171-CHAPPELL MILL VFD', '275-LITTLE OCHLOCKNEE BAPTIST CHURCH': '275-LITTLE OCHLOCKNEE', '299-100': '299-District 1', '299-200A': '299-District 2A', '299-200B': '299-District 2B', '299-300': '299-1231-150B', '299-304': '299-1231-150C', '299-400': '299-1231-151', '299-404': '299-Beach-Bickley', '299-405': '299-Haywood', '299-406': '299-Jamestown', '299-407': '299-Manor', '299-408': '299-Millwood', '299-409': '299-Waresboro', '317-TIGNAL SCH LUNCH RM': '317-TIGNALL SCH LUNCH RM'}"
   ]
  },
  {
   "cell_type": "code",
   "execution_count": 38,
   "id": "c0c95866",
   "metadata": {},
   "outputs": [],
   "source": [
    "ga_election[\"unique_ID\"] = ga_election[\"unique_ID\"].map(source_vest_id_changes_dict).fillna(ga_election[\"unique_ID\"])"
   ]
  },
  {
   "cell_type": "code",
   "execution_count": 39,
   "id": "0a5a4f9e",
   "metadata": {},
   "outputs": [
    {
     "name": "stdout",
     "output_type": "stream",
     "text": [
      "both          2656\n",
      "right_only      23\n",
      "left_only        0\n",
      "Name: _merge, dtype: int64\n"
     ]
    }
   ],
   "source": [
    "join_attempt_2 = pd.merge(ga_election,vest_ga_20,how=\"outer\",on=\"unique_ID\",indicator=True)\n",
    "print(join_attempt_2[\"_merge\"].value_counts())\n",
    "\n",
    "both = join_attempt_2[join_attempt_2[\"_merge\"]==\"both\"]\n",
    "left_only = join_attempt_2[join_attempt_2[\"_merge\"]==\"left_only\"]\n",
    "right_only = join_attempt_2[join_attempt_2[\"_merge\"]==\"right_only\"]\n",
    "\n",
    "left_only.to_csv(\"./source_only.csv\")\n",
    "right_only.to_csv(\"./VEST_only.csv\")"
   ]
  },
  {
   "cell_type": "code",
   "execution_count": 40,
   "id": "1a3afa41",
   "metadata": {},
   "outputs": [
    {
     "name": "stdout",
     "output_type": "stream",
     "text": [
      "23\n"
     ]
    }
   ],
   "source": [
    "empty_precincts = []\n",
    "for index, row in right_only.iterrows():\n",
    "    for race in data_columns:\n",
    "        keep=True\n",
    "        if (row[race+\"_y\"]!=0):\n",
    "            keep = False\n",
    "    if(keep):\n",
    "        empty_precincts.append(row[\"DISTRICT\"])\n",
    "print(len(empty_precincts))  "
   ]
  },
  {
   "cell_type": "code",
   "execution_count": 41,
   "id": "3790797d",
   "metadata": {},
   "outputs": [
    {
     "name": "stdout",
     "output_type": "stream",
     "text": [
      "['121AP01E', '121UC033', '12103P1B', '121AP12D', '121SC29B', '121CP06B', '121CP053', '121SC07B', '121RW22B', '121SC08A', '121SC21A', '121UC01C', '121CP052', '051XFTPU', '029FTSTEW', '121RW11B', '12108F2', '12112E2', '215FTBEN2', '215FTBEN4', '215FTBEN3', '215ZZZZZZ', '215FTBEN1']\n"
     ]
    }
   ],
   "source": [
    "print(empty_precincts)"
   ]
  },
  {
   "cell_type": "code",
   "execution_count": null,
   "id": "865fd36a",
   "metadata": {},
   "outputs": [],
   "source": [
    "vest_ga_20[vest_ga_20[\"DISTRICT\"].isin(empty_precincts)]"
   ]
  },
  {
   "cell_type": "code",
   "execution_count": null,
   "id": "1f8a1a3e",
   "metadata": {},
   "outputs": [],
   "source": [
    "empty_unjoined = vest_ga_20[vest_ga_20[\"DISTRICT\"].isin(empty_precincts)]"
   ]
  },
  {
   "cell_type": "code",
   "execution_count": null,
   "id": "d796bbb5",
   "metadata": {},
   "outputs": [],
   "source": [
    "display(empty_unjoined)"
   ]
  },
  {
   "cell_type": "code",
   "execution_count": null,
   "id": "e9a53daf",
   "metadata": {},
   "outputs": [],
   "source": [
    "empty_unjoined = empty_unjoined[[\"unique_ID\",\"CTYNAME\",\"FIPS2\",\"PRECINCT_N\",'S20USSRJOH',\n",
    "       'S20USSIBAR', 'S20USSIBUC', 'S20USSRJAC', 'S20USSLSLO', 'G20PSCDBLA',\n",
    "       'G20USSRPER', 'S20USSDJAC', 'S20USSRGRA', 'G20PRERTRU', 'C20PRERTRU',\n",
    "       'S20USSRCOL', 'S20USSDTAR', 'G20PSCLMEL', 'S20USSDJAM', 'G20PSCRSHA',\n",
    "       'G20PRELJOR', 'C20PRELJOR', 'S20USSGFOR', 'G20USSDOSS', 'G20PREDBID',\n",
    "       'C20PREDBID', 'S20USSDSLA', 'S20USSRTAY', 'S20USSRLOE', 'G20PSCRMCD',\n",
    "       'S20USSDLIE', 'S20USSIGRE', 'G20PSCLWIL', 'S20USSDWAR', 'S20USSDWIN',\n",
    "       'G20PSCDBRY', 'G20USSLHAZ', 'S20USSDJOH', 'S20USSISTO']]\n",
    "\n",
    "empty_unjoined.columns = ga_election.columns\n",
    "\n"
   ]
  },
  {
   "cell_type": "code",
   "execution_count": null,
   "id": "02836612",
   "metadata": {},
   "outputs": [],
   "source": [
    "print(empty_unjoined.columns)\n",
    "print(ga_election.columns)"
   ]
  },
  {
   "cell_type": "code",
   "execution_count": null,
   "id": "47a70b63",
   "metadata": {},
   "outputs": [],
   "source": [
    "empty_unjoined.columns = ga_election.columns"
   ]
  },
  {
   "cell_type": "code",
   "execution_count": null,
   "id": "1a7f9e2f",
   "metadata": {},
   "outputs": [],
   "source": [
    "display(empty_unjoined)"
   ]
  },
  {
   "cell_type": "code",
   "execution_count": null,
   "id": "6d40f8ac",
   "metadata": {},
   "outputs": [],
   "source": [
    "ga_election = pd.concat([ga_election,empty_unjoined])"
   ]
  },
  {
   "cell_type": "code",
   "execution_count": null,
   "id": "2dec05e0",
   "metadata": {},
   "outputs": [],
   "source": [
    "print(vest_ga_20.loc[vest_ga_20['unique_ID'].isna()])\n",
    "vest_ga_20.loc[vest_ga_20['unique_ID'].isna(), 'unique_ID'] = vest_ga_20['DISTRICT']\n",
    "print(vest_ga_20.loc[vest_ga_20['unique_ID'].isna()])"
   ]
  },
  {
   "cell_type": "code",
   "execution_count": null,
   "id": "8b92e835",
   "metadata": {},
   "outputs": [],
   "source": [
    "join_attempt_2 = pd.merge(ga_election,vest_ga_20,how=\"outer\",on=\"unique_ID\",indicator=True)\n",
    "print(join_attempt_2[\"_merge\"].value_counts())\n",
    "\n",
    "#Code below was used during processing\n",
    "#both = join_attempt_2[join_attempt_2[\"_merge\"]==\"both\"]\n",
    "#left_only = join_attempt_2[join_attempt_2[\"_merge\"]==\"left_only\"]\n",
    "#right_only = join_attempt_2[join_attempt_2[\"_merge\"]==\"right_only\"]\n",
    "#left_only.to_csv(\"./source_only.csv\")\n",
    "#right_only.to_csv(\"./VEST_only.csv\")"
   ]
  },
  {
   "cell_type": "markdown",
   "id": "c9f900ce",
   "metadata": {},
   "source": [
    "### Validate election results precinct-by-precinct"
   ]
  },
  {
   "cell_type": "code",
   "execution_count": null,
   "id": "96b5aa25",
   "metadata": {},
   "outputs": [],
   "source": [
    "def validater_row (df, column_List):\n",
    "    matching_rows = 0\n",
    "    different_rows = 0\n",
    "    diff_list=[]\n",
    "    diff_values = []\n",
    "    max_diff = 0\n",
    "    for j in range(0,len(df.index)):\n",
    "        same = True\n",
    "        for i in column_List:\n",
    "            left_Data = i + \"_x\"\n",
    "            right_Data = i + \"_y\"\n",
    "            diff = abs(df.iloc[j][left_Data]-df.iloc[j][right_Data])\n",
    "            if(diff >0):\n",
    "                if(diff>0):\n",
    "                    print(i, \"{:.>72}\".format(df.iloc[j][\"final_join_col\"]), \"(S)\",\"{:.>5}\".format(int(df.iloc[j][left_Data])),\" (V){:.>5}\".format(int(df.iloc[j][right_Data])),\"(D):{:>5}\".format(int(df.iloc[j][right_Data])-int(df.iloc[j][left_Data])))           \n",
    "                #print(df.iloc[j]['countypct'])\n",
    "                \n",
    "                diff_values.append(abs(diff))\n",
    "                same = False\n",
    "                if(np.isnan(diff)):\n",
    "                    print(\"NaN value at diff is: \", df.iloc[j][\"final_join_col\"])\n",
    "                    print(df.iloc[j][left_Data])\n",
    "                    print(df.iloc[j][right_Data])\n",
    "                if (diff>max_diff):\n",
    "                    max_diff = diff\n",
    "                    #print(\"New max diff is: \", str(max_diff))\n",
    "                    #print(df.iloc[j]['cty_pct'])\n",
    "        if(same != True):\n",
    "            different_rows +=1\n",
    "            diff_list.append(df.iloc[j][\"final_join_col\"])\n",
    "        else:\n",
    "            matching_rows +=1\n",
    "    print(\"\")\n",
    "    print(\"There are \", len(df.index),\" total rows\")\n",
    "    print(different_rows,\" of these rows have election result differences\")\n",
    "    print(matching_rows,\" of these rows are the same\")\n",
    "    print(\"\")\n",
    "    print(\"The max difference between any one shared column in a row is: \", max_diff)\n",
    "    if(len(diff_values)!=0):\n",
    "        print(\"The average difference is: \", str(sum(diff_values)/len(diff_values)))\n",
    "    count_big_diff = len([i for i in diff_values if i > 10])\n",
    "    print(\"There are \", str(count_big_diff), \"precinct results with a difference greater than 10\")\n",
    "    diff_list.sort()\n",
    "    print(diff_list)\n",
    "    \n",
    "validater_row(both,data_columns)"
   ]
  },
  {
   "cell_type": "markdown",
   "id": "054b4bad",
   "metadata": {},
   "source": [
    "## Shapefiles "
   ]
  },
  {
   "cell_type": "markdown",
   "id": "5eb36212",
   "metadata": {},
   "source": [
    "### Shapefile Sources"
   ]
  },
  {
   "cell_type": "markdown",
   "id": "6609094f",
   "metadata": {},
   "source": [
    "Precinct shapefile primarily from the Georgia General Assembly Reapportionment Office (http://www.legis.ga.gov/Joint/reapportionment/en-US/default.aspx).  \n",
    "\n",
    "The following counties instead use shapefiles from the U.S. Census Bureau's 2020 Redistricting Data Program Phase 2 release: Cobb, DeKalb, Gwinnett. Forsyth and Fulton use shapefiles sourced from the respective counties."
   ]
  },
  {
   "cell_type": "markdown",
   "id": "7e97a5f7",
   "metadata": {},
   "source": [
    "### 1. Load Primary Precinct Shapefile"
   ]
  },
  {
   "cell_type": "code",
   "execution_count": null,
   "id": "aca7192a",
   "metadata": {},
   "outputs": [],
   "source": [
    "#Load in file\n",
    "shapefiles_state = gp.read_file(\"./raw-from-source/Shapefiles/Georgia/vtd2020-shape-4-20-21/VTD2020-Shape.shp\")\n",
    "\n",
    "\n"
   ]
  },
  {
   "cell_type": "code",
   "execution_count": null,
   "id": "0ea2f5ac",
   "metadata": {},
   "outputs": [],
   "source": [
    "print(shapefiles_state[shapefiles_state[\"CTYNAME\"]==\"COBB\"][\"PRECINCT_N\"].unique())\n",
    "\n",
    "#### Cobb: Split Bells Ferry 3/4, Dobbins 1/2, Marietta 3A/3B, Smyrna 3A/3B - Not Completed"
   ]
  },
  {
   "cell_type": "markdown",
   "id": "19b28fc9",
   "metadata": {},
   "source": [
    "#### Filter out Cobb, Gwinnett, DeKalb, Fulton and Forsyth"
   ]
  },
  {
   "cell_type": "code",
   "execution_count": null,
   "id": "2324b6b4",
   "metadata": {},
   "outputs": [],
   "source": [
    "#Make a copy of just Fulton (found that this was closer to VEST's final file)\n",
    "filtered_fulton = shapefiles_state[shapefiles_state[\"FIPS2\"]==\"121\"]\n",
    "\n",
    "#Cobb, Gwinnett and DeKalb\n",
    "\"13135\",\"13067\",\"13089\"\n",
    "\n",
    "#Fulton and Forsyth\n",
    "\"13121\",\"13117\"\n",
    "\n",
    "filter_list_old = [\"135\",\"067\",\"089\",\"121\",\"117\"]\n",
    "filter_list = [\"135\",\"117\",\"121\"]\n",
    "\n",
    "shapefiles_state = shapefiles_state[~shapefiles_state[\"FIPS2\"].isin(filter_list)]"
   ]
  },
  {
   "cell_type": "markdown",
   "id": "65a24672",
   "metadata": {},
   "source": [
    "### 2. Load Census Redistricting Phase 2 Data"
   ]
  },
  {
   "cell_type": "code",
   "execution_count": null,
   "id": "33692432",
   "metadata": {},
   "outputs": [],
   "source": [
    "#When downloading from the Census redistricing data program, counties are identified via a FIPS code\n",
    "fips_codes_old = [\"13135\",\"13067\",\"13089\"]\n",
    "fips_codes = [\"13135\"]\n",
    "\n",
    "#Combine all the data from separate files into one\n",
    "li = []\n",
    "for i in fips_codes:\n",
    "    ref = \"./raw-from-source/Shapefiles/Census/partnership_shapefiles_19v2_\"\n",
    "    file_ref = ref+i+\"/PVS_19_v2_vtd_\"+i+\".shp\"\n",
    "    file_prev = gp.read_file(file_ref)\n",
    "    #print(file_prev.shape)\n",
    "    li.append(file_prev)\n",
    "shapefiles_census = pd.concat(li, axis=0, ignore_index=True)"
   ]
  },
  {
   "cell_type": "code",
   "execution_count": null,
   "id": "c6af21f0",
   "metadata": {},
   "outputs": [],
   "source": [
    "print(shapefiles_census)"
   ]
  },
  {
   "cell_type": "markdown",
   "id": "1d300e5c",
   "metadata": {},
   "source": [
    "### 3. Shapefile data from the counties themselves"
   ]
  },
  {
   "cell_type": "code",
   "execution_count": null,
   "id": "720aaeec",
   "metadata": {},
   "outputs": [],
   "source": [
    "shapefiles_fulton = gp.read_file(\"./raw-from-source/Shapefiles/Fulton/Voting_Precincts/Voting_Precincts.shp\")\n",
    "\n",
    "shapefiles_forsyth  = gp.read_file(\"./raw-from-source/Shapefiles/Forsyth/Voting_Precinct-shp/Voting_Precinct.shp\")"
   ]
  },
  {
   "cell_type": "code",
   "execution_count": null,
   "id": "186f632b",
   "metadata": {},
   "outputs": [],
   "source": [
    "shapefiles_forsyth.plot()"
   ]
  },
  {
   "cell_type": "code",
   "execution_count": null,
   "id": "e1fcdfd4",
   "metadata": {},
   "outputs": [],
   "source": [
    "print(vest_ga_20.crs)\n",
    "\n",
    "shapefiles_forsyth = shapefiles_forsyth.to_crs(4019)\n",
    "shapefiles_fulton = shapefiles_fulton.to_crs(4019)\n",
    "shapefiles_census = shapefiles_census.to_crs(4019)\n",
    "\n",
    "shapefiles_state.plot()\n",
    "\n",
    "ax = shapefiles_state.plot()\n",
    "shapefiles_forsyth.plot(ax = ax,color=\"red\")\n",
    "shapefiles_fulton.plot(ax = ax,color=\"orange\")\n",
    "shapefiles_census.plot(ax = ax,color=\"green\")"
   ]
  },
  {
   "cell_type": "code",
   "execution_count": null,
   "id": "fdf64f4b",
   "metadata": {},
   "outputs": [],
   "source": [
    "print(shapefiles_state.columns)\n",
    "print(shapefiles_forsyth.columns)\n",
    "print(shapefiles_fulton.columns)\n",
    "print(shapefiles_census.columns)"
   ]
  },
  {
   "cell_type": "code",
   "execution_count": null,
   "id": "32b7079e",
   "metadata": {},
   "outputs": [],
   "source": [
    "display(shapefiles_state.head())"
   ]
  },
  {
   "cell_type": "code",
   "execution_count": null,
   "id": "66f85871",
   "metadata": {},
   "outputs": [],
   "source": [
    "shapefiles_state = shapefiles_state[['DISTRICT', 'CTYSOSID', 'PRECINCT_I', 'PRECINCT_N', 'CNTY','CTYNAME','FIPS2','geometry']]\n",
    "filtered_fulton = filtered_fulton[['DISTRICT', 'CTYSOSID', 'PRECINCT_I', 'PRECINCT_N', 'CNTY','CTYNAME','FIPS2','geometry']]\n",
    "shapefiles_forsyth = shapefiles_forsyth[[\"PRECINCTID\",\"NAME\",\"COUNTY\",\"geometry\"]]\n",
    "shapefiles_fulton = shapefiles_fulton[[\"OBJECTID\",\"VoterDist\",\"geometry\"]]\n",
    "shapefiles_census = shapefiles_census[[\"STATEFP\",\"COUNTYFP\",\"VTDST\",\"NAMELSAD\",\"NAME\",\"geometry\"]]"
   ]
  },
  {
   "cell_type": "code",
   "execution_count": null,
   "id": "6f46a550",
   "metadata": {},
   "outputs": [],
   "source": [
    "display(vest_ga_20.columns)\n",
    "\n",
    "shapefile_col_list = ['DISTRICT', 'CTYSOSID', 'PRECINCT_I', 'PRECINCT_N', 'CTYNAME','CTYNUMBER2', 'FIPS2','geometry']"
   ]
  },
  {
   "cell_type": "code",
   "execution_count": null,
   "id": "d2ed22e2",
   "metadata": {},
   "outputs": [],
   "source": [
    "shapefiles_state.loc[:,\"CTYNUMBER2\"] = shapefiles_state.loc[:,\"CNTY\"]\n",
    "\n",
    "shapefiles_state = shapefiles_state[shapefile_col_list]"
   ]
  },
  {
   "cell_type": "code",
   "execution_count": null,
   "id": "32db5f0a",
   "metadata": {},
   "outputs": [],
   "source": [
    "print(shapefiles_forsyth.head())\n",
    "\n",
    "shapefiles_forsyth.loc[:,\"DISTRICT\"] = \"117\"+ shapefiles_forsyth.loc[:,\"PRECINCTID\"]\n",
    "shapefiles_forsyth.loc[:,\"CTYSOSID\"] = shapefiles_forsyth.loc[:,\"DISTRICT\"]\n",
    "shapefiles_forsyth.loc[:,\"PRECINCT_I\"] = shapefiles_forsyth.loc[:,\"PRECINCTID\"]\n",
    "shapefiles_forsyth.loc[:,\"PRECINCT_N\"] = shapefiles_forsyth.loc[:,\"PRECINCTID\"] + \" \" + shapefiles_forsyth.loc[:,\"NAME\"]\n",
    "shapefiles_forsyth.loc[:,\"CTYNAME\"] = \"FORSYTH\"\n",
    "shapefiles_forsyth.loc[:,\"CTYNUMBER2\"] = \"058\"\n",
    "shapefiles_forsyth.loc[:,\"FIPS2\"] = \"117\"\n",
    "\n",
    "shapefiles_forsyth = shapefiles_forsyth[shapefile_col_list]"
   ]
  },
  {
   "cell_type": "code",
   "execution_count": null,
   "id": "8c570a62",
   "metadata": {},
   "outputs": [],
   "source": [
    "shapefiles_fulton.head()\n",
    "\n",
    "shapefiles_fulton.loc[:,\"DISTRICT\"] = \"121\"+ shapefiles_fulton.loc[:,\"VoterDist\"]\n",
    "shapefiles_fulton.loc[:,\"CTYSOSID\"] = shapefiles_fulton.loc[:,\"DISTRICT\"]\n",
    "shapefiles_fulton.loc[:,\"PRECINCT_I\"] = shapefiles_fulton.loc[:,\"VoterDist\"]\n",
    "shapefiles_fulton.loc[:,\"PRECINCT_N\"] = shapefiles_fulton.loc[:,\"VoterDist\"]\n",
    "shapefiles_fulton.loc[:,\"CTYNAME\"] = \"FULTON\"\n",
    "shapefiles_fulton.loc[:,\"CTYNUMBER2\"] = \"060\"\n",
    "shapefiles_fulton.loc[:,\"FIPS2\"] = \"121\"\n",
    "\n",
    "shapefiles_fulton = shapefiles_fulton[shapefile_col_list]"
   ]
  },
  {
   "cell_type": "code",
   "execution_count": null,
   "id": "3d096479",
   "metadata": {},
   "outputs": [],
   "source": [
    "name_map_dict = {\"135\":\"GWINNETT\",\"067\":\"COBB\",\"089\":\"DEKALB\"}\n",
    "num_map_dict = {\"135\":\"067\",\"067\":\"033\",\"089\":\"044\"}\n",
    "\n",
    "\n",
    "shapefiles_census.loc[:,\"PRECINCT_I\"] = shapefiles_census.loc[:,\"VTDST\"].str[3:]\n",
    "shapefiles_census.loc[:,\"DISTRICT\"] = shapefiles_census.loc[:,\"COUNTYFP\"]+ shapefiles_census.loc[:,\"PRECINCT_I\"]\n",
    "shapefiles_census.loc[:,\"CTYSOSID\"] = shapefiles_census.loc[:,\"DISTRICT\"]\n",
    "\n",
    "shapefiles_census.loc[:,\"PRECINCT_N\"] = shapefiles_census.loc[:,\"NAME\"]\n",
    "shapefiles_census.loc[:,\"CTYNAME\"] = shapefiles_census.loc[:,\"COUNTYFP\"].map(name_map_dict)\n",
    "shapefiles_census.loc[:,\"CTYNUMBER2\"] = shapefiles_census.loc[:,\"COUNTYFP\"].map(num_map_dict)\n",
    "shapefiles_census.loc[:,\"FIPS2\"] = shapefiles_census.loc[:,\"COUNTYFP\"]\n",
    "\n",
    "shapefiles_census = shapefiles_census[shapefile_col_list]"
   ]
  },
  {
   "cell_type": "code",
   "execution_count": null,
   "id": "eccfc28d",
   "metadata": {},
   "outputs": [],
   "source": [
    "ga_shapefile = pd.concat([shapefiles_census,shapefiles_state,shapefiles_fulton,shapefiles_forsyth])\n",
    "ga_shapefile.reset_index(inplace=True,drop=True)"
   ]
  },
  {
   "cell_type": "code",
   "execution_count": null,
   "id": "1160b3de",
   "metadata": {},
   "outputs": [],
   "source": [
    "print(ga_shapefile[ga_shapefile[\"CTYNAME\"]==\"COBB\"][\"PRECINCT_N\"].unique())"
   ]
  },
  {
   "cell_type": "code",
   "execution_count": null,
   "id": "950e04df",
   "metadata": {},
   "outputs": [],
   "source": [
    "ga_shapefile[\"PRECINCT_N\"] =ga_shapefile[\"PRECINCT_N\"].str.upper()\n",
    "ga_shapefile[\"unique_ID\"] = ga_shapefile[\"FIPS2\"]+\"-\"+ga_shapefile[\"PRECINCT_N\"]"
   ]
  },
  {
   "cell_type": "code",
   "execution_count": null,
   "id": "1c8b0ac3",
   "metadata": {},
   "outputs": [],
   "source": [
    "ser = ga_shapefile[\"unique_ID\"].value_counts(dropna=False)\n",
    "ser[ser >1]"
   ]
  },
  {
   "cell_type": "code",
   "execution_count": null,
   "id": "3a0db716",
   "metadata": {},
   "outputs": [],
   "source": [
    "ga_shapefile.loc[ga_shapefile[\"CTYSOSID\"]==\"0513-15C\",\"unique_ID\"] = \"051-ELI WHITNEY COMPLEX 3-15C\"\n",
    "ga_shapefile.loc[ga_shapefile[\"CTYSOSID\"]==\"0512-06C\",\"unique_ID\"] = \"051-ELI WHITNEY COMPLEX 2-06C\"\n",
    "\n",
    "ga_shapefile.loc[ga_shapefile[\"CTYSOSID\"]==\"0517-16C\",\"unique_ID\"] = \"051-POOLER RECREATION CENTER GYMNASIUM 7-16C\"\n",
    "ga_shapefile.loc[ga_shapefile[\"CTYSOSID\"]==\"0517-12C\",\"unique_ID\"] = \"051-POOLER RECREATION CENTER GYMNASIUM 7-12C\""
   ]
  },
  {
   "cell_type": "code",
   "execution_count": null,
   "id": "c21fbbd1",
   "metadata": {},
   "outputs": [],
   "source": [
    "ser = ga_shapefile[\"unique_ID\"].value_counts(dropna=False)\n",
    "ser[ser >1]"
   ]
  },
  {
   "cell_type": "code",
   "execution_count": null,
   "id": "65164d94",
   "metadata": {},
   "outputs": [],
   "source": [
    "na_dist_list = ga_shapefile.loc[ga_shapefile['unique_ID'].isna()][\"DISTRICT\"]\n",
    "print(ga_shapefile.loc[ga_shapefile['unique_ID'].isna()][\"DISTRICT\"].str[0:3].value_counts())\n",
    "print(ga_shapefile[ga_shapefile[\"DISTRICT\"].isin(na_dist_list)][\"DISTRICT\"].str[0:3].value_counts())\n",
    "\n",
    "ga_shapefile = ga_shapefile[~((ga_shapefile['unique_ID'].isna())& (ga_shapefile[\"DISTRICT\"].str[0:3]==\"121\"))]\n",
    "\n",
    "\n",
    "\n",
    "print(ga_shapefile.loc[ga_shapefile['unique_ID'].isna()][\"DISTRICT\"].str[0:3].value_counts())\n",
    "print(ga_shapefile[ga_shapefile[\"DISTRICT\"].isin(na_dist_list)][\"DISTRICT\"].str[0:3].value_counts())"
   ]
  },
  {
   "cell_type": "code",
   "execution_count": null,
   "id": "94e69a60",
   "metadata": {},
   "outputs": [],
   "source": [
    "print(vest_ga_20[vest_ga_20[\"FIPS2\"]==\"121\"].shape)\n",
    "print(ga_shapefile[ga_shapefile[\"FIPS2\"]==\"121\"].shape)"
   ]
  },
  {
   "cell_type": "code",
   "execution_count": null,
   "id": "a65356de",
   "metadata": {},
   "outputs": [],
   "source": [
    "print(ga_shapefile.loc[ga_shapefile['unique_ID'].isna()])\n",
    "ga_shapefile.loc[ga_shapefile['unique_ID'].isna(), 'unique_ID'] = ga_shapefile.loc[:,'DISTRICT']"
   ]
  },
  {
   "cell_type": "markdown",
   "id": "cc062f4e",
   "metadata": {},
   "source": [
    "## Shapefile Modifications"
   ]
  },
  {
   "cell_type": "markdown",
   "id": "81d64111",
   "metadata": {},
   "source": [
    "### Documentation"
   ]
  },
  {
   "cell_type": "markdown",
   "id": "98d30737",
   "metadata": {},
   "source": [
    "Three of the four VTDs in Chattahoochee County are comprised of Fort Benning. However, the county only reports one polling location for all voters, including residents of Fort Benning that vote within the county. The four Chattahoochee County VTDs have therefore been merged in the shapefile.\n",
    "\n",
    "The following additional modifications reflect changes made prior to the 2020 general election:\n",
    "\n",
    "**Barrow:** Merge 2/15, 3/12, 4/14, 5/7, 6/10/13, 8/9, 11/16; Adjust new 2/13 boundary  \n",
    "**Bartow:** Split Cassville/Hamilton Crossing  \n",
    "**Candler:** Merge Candler/Metter as Jack Strickland Comm Center  \n",
    "**Chatham:** Split 7-7/8-16, 7-12/7-16; Realign 7-06C/7-07C  \n",
    "**Chatooga:** Split Cloudland/Teloga along ridgeline that marks boundary between them with the USGS Topographic Contour shapefile  \n",
    "**Clayton:** Split Ellenswood 1/2, Jonesboro 1/17/19, Lovejoy 3/6/7, Morrow 3/11, 5/10, Oak 3/5   \n",
    "**Cobb:** Split Bells Ferry 3/4, Dobbins 1/2, Marietta 3A/3B, Smyrna 3A/3B  \n",
    "**Columbia:** Split Bessie Thomas/2nd Mt Moriah, Harlem Branch/Harlem Senior Ctr; Merge Blanchard Park/MTZ Col FD;  Align multiple precincts with county maps  \n",
    "**Coweta:** Merge Arts Centre/Jefferson Parkway as Newnan Centre  \n",
    "**Fulton:** Merge CP07A/CP07D, CH01/CH04B, SS29A/SS29B, UC031/UC035  \n",
    "**DeKalb:** Split Clarkston/Clarkston Comm Ctr; Realign Decatur/Oakhurst; Align precincts with Atlanta, Brookhaven, Decatur, Tucker city limits   \n",
    "**Gwinnett:** Adjust Baycreek F/G, Berkshire J/M, Cates D/F, Garners C/B, Lawrenceville G/N, Pinckneyville S/T, Rockbridge A/G  \n",
    "**Lowndes:** Split Northgate Assembly/Trinity, Jaycee/Mt Calvary/Northside/VSU  \n",
    "**Oconee:** Merge Annex/City Hall; Align City Hall with Watkinsville city limits  \n",
    "**Paulding:** Reorganize 12 precincts into 19 precincts as redrawn in 2019  \n",
    "**Randolph:** Merge Carnegie/Cuthbert-Courthouse, 4th District/Fountain Bridge/Shellman  \n",
    "**Troup:** Split Mountville between Gardner Newman/Hogansville/Rosemont; Align multiple precincts with county maps  \n",
    "**Towns:** Merge Macedonia/Tate City  \n",
    "\n",
    "Note that the leading zeros in the Paulding County precinct IDs are included in some election reports and omitted in others. The shapefile includes the leading zeros consistent with the voter file.  "
   ]
  },
  {
   "cell_type": "markdown",
   "id": "221a6de9",
   "metadata": {},
   "source": [
    "### Fort Benning - Completed\n",
    "\n",
    "> Three of the four VTDs in Chattahoochee County are comprised of Fort Benning. However, the county only reports one polling location for all voters, including residents of Fort Benning that vote within the county. The four Chattahoochee County VTDs have therefore been merged in the shapefile."
   ]
  },
  {
   "cell_type": "markdown",
   "id": "104c9000",
   "metadata": {},
   "source": [
    "#### Take a look at the sourcefile versus VEST"
   ]
  },
  {
   "cell_type": "code",
   "execution_count": null,
   "id": "0597612b",
   "metadata": {},
   "outputs": [],
   "source": [
    "ax = vest_ga_20[vest_ga_20[\"CTYNAME\"]==\"CHATTAHOOCHEE\"].boundary.plot(color=\"red\")\n",
    "ga_shapefile[ga_shapefile[\"CTYNAME\"]==\"CHATTAHOOCHEE\"].plot(ax = ax,color=\"yellow\")\n",
    "ga_shapefile[ga_shapefile[\"DISTRICT\"]==\"053FTBEN1\"].plot(ax = ax,color=\"blue\")\n",
    "ga_shapefile[ga_shapefile[\"DISTRICT\"]==\"053FTBEN2\"].plot(ax = ax,color=\"green\")\n",
    "ga_shapefile[ga_shapefile[\"DISTRICT\"]==\"053FTBEN3\"].plot(ax = ax,color=\"orange\")"
   ]
  },
  {
   "cell_type": "markdown",
   "id": "5a113a59",
   "metadata": {},
   "source": [
    "#### Merge the four VTDS and plot the result"
   ]
  },
  {
   "cell_type": "code",
   "execution_count": null,
   "id": "d32da9fa",
   "metadata": {},
   "outputs": [],
   "source": [
    "index_fort_1 = ga_shapefile[ga_shapefile[\"DISTRICT\"]==\"053FTBEN1\"].index.values[0]\n",
    "index_fort_2 = ga_shapefile[ga_shapefile[\"DISTRICT\"]==\"053FTBEN2\"].index.values[0]\n",
    "index_fort_3 = ga_shapefile[ga_shapefile[\"DISTRICT\"]==\"053FTBEN3\"].index.values[0]\n",
    "\n",
    "prec2combine = [ga_shapefile.loc[ga_shapefile[\"PRECINCT_N\"]==\"ACTIVITY CENTER\"],ga_shapefile[ga_shapefile[\"DISTRICT\"]==\"053FTBEN1\"],ga_shapefile[ga_shapefile[\"DISTRICT\"]==\"053FTBEN2\"],ga_shapefile[ga_shapefile[\"DISTRICT\"]==\"053FTBEN3\"]]\n",
    "new_fort = gp.GeoDataFrame(pd.concat(prec2combine, ignore_index=True), crs = ga_shapefile.crs)\n",
    "\n",
    "ga_shapefile.loc[ga_shapefile[\"PRECINCT_N\"]==\"ACTIVITY CENTER\",\"geometry\"]=new_fort.unary_union\n",
    "ga_shapefile.loc[ga_shapefile[\"PRECINCT_N\"]==\"ACTIVITY CENTER\",\"unique_ID\"]=\"053-ACTIVITY CENTER (Includes FTBEN 1-3)\"\n",
    "ga_shapefile.loc[ga_shapefile[\"unique_ID\"]==\"053-ACTIVITY CENTER (Includes FTBEN 1-3)\"].plot()\n",
    "ga_shapefile = ga_shapefile.drop([index_fort_1,index_fort_2,index_fort_3])\n",
    "ga_shapefile.reset_index(drop=True, inplace=True)"
   ]
  },
  {
   "cell_type": "markdown",
   "id": "9163c23f",
   "metadata": {},
   "source": [
    "### Barrow: Merge 2/15, 3/12, 4/14, 5/7, 6/10/13, 8/9, 11/16; Adjust new 2/13 boundary - Completed\n",
    "All of the merges seem to have already been completed, VEST doesn't provide much detail on the 2/13 boundary adjustment, but it's reasonable to assume that that's also been performed, as the others have been. Any differences will be plotted in the shapefile validation."
   ]
  },
  {
   "cell_type": "code",
   "execution_count": null,
   "id": "54910cb8",
   "metadata": {},
   "outputs": [],
   "source": [
    "print(ga_shapefile[ga_shapefile[\"CTYNAME\"]==\"BARROW\"][[\"PRECINCT_N\"]])\n",
    "ax = ga_shapefile[(ga_shapefile[\"CTYNAME\"]==\"BARROW\")&(ga_shapefile[\"PRECINCT_N\"]==\"02\")].plot()\n",
    "vest_ga_20[(vest_ga_20[\"CTYNAME\"]==\"BARROW\")&(vest_ga_20[\"PRECINCT_N\"]==\"02 BETHLEHEM CHURCH - 211\")].boundary.plot(ax = ax,color=\"red\")"
   ]
  },
  {
   "cell_type": "markdown",
   "id": "26f86cae",
   "metadata": {},
   "source": [
    "### Bartow: Split Cassville/Hamilton Crossing - Completed\n",
    "This seems to have been performed already in the shapefile."
   ]
  },
  {
   "cell_type": "code",
   "execution_count": null,
   "id": "50a3e226",
   "metadata": {},
   "outputs": [],
   "source": [
    "ga_shapefile[(ga_shapefile[\"CTYNAME\"]==\"BARTOW\") & (ga_shapefile[\"PRECINCT_N\"].isin([\"CASSVILLE\",\"HAMILTON CROSSING\"]))][[\"PRECINCT_N\"]]"
   ]
  },
  {
   "cell_type": "markdown",
   "id": "4ea9e17a",
   "metadata": {},
   "source": [
    "### Candler: Merge Candler/Metter as Jack Strickland Comm Center - Completed\n",
    "This seems to have been performed already in the shapefile as this is the only precinct in Candler."
   ]
  },
  {
   "cell_type": "code",
   "execution_count": null,
   "id": "d04b2201",
   "metadata": {},
   "outputs": [],
   "source": [
    "ga_shapefile[ga_shapefile[\"CTYNAME\"]==\"CANDLER\"][[\"PRECINCT_N\"]]"
   ]
  },
  {
   "cell_type": "markdown",
   "id": "e8ef7fb1",
   "metadata": {},
   "source": [
    "### Chatham: Split 7-7/8-16, 7-12/7-16; Realign 7-06C/7-07C -  Completed\n",
    "All of the splits and realignments already seem to have already been completed."
   ]
  },
  {
   "cell_type": "code",
   "execution_count": null,
   "id": "8d087870",
   "metadata": {},
   "outputs": [],
   "source": [
    "ga_shapefile[(ga_shapefile[\"CTYNAME\"]==\"CHATHAM\") & (ga_shapefile[\"PRECINCT_I\"].str[0:4].isin([\"7-07\",\"8-16\",\"7-12\",\"7-16\"]))]"
   ]
  },
  {
   "cell_type": "code",
   "execution_count": null,
   "id": "8ab6d4cc",
   "metadata": {},
   "outputs": [],
   "source": [
    "ax = ga_shapefile[(ga_shapefile[\"CTYNAME\"]==\"CHATHAM\")&(ga_shapefile[\"PRECINCT_I\"]==\"7-07C\")].plot()\n",
    "vest_ga_20[(vest_ga_20[\"CTYNAME\"]==\"CHATHAM\")&(vest_ga_20[\"PRECINCT_I\"]==\"7-07C\")].boundary.plot(ax = ax,color=\"red\")"
   ]
  },
  {
   "cell_type": "markdown",
   "id": "62e4a862",
   "metadata": {},
   "source": [
    "### Chatooga: Split Cloudland/Teloga along ridgeline that marks boundary between them with the USGS Topographic Contour shapefile - Completed"
   ]
  },
  {
   "cell_type": "code",
   "execution_count": null,
   "id": "9fb458ae",
   "metadata": {},
   "outputs": [],
   "source": [
    "ga_shapefile[ga_shapefile[\"PRECINCT_N\"]==\"CLOUDLAND-TELOGA\"].plot()"
   ]
  },
  {
   "cell_type": "code",
   "execution_count": null,
   "id": "38bb662d",
   "metadata": {},
   "outputs": [],
   "source": [
    "#Printing with the merged precinct on top\n",
    "ax2 = vest_ga_20[vest_ga_20[\"PRECINCT_N\"]==\"CLOUDLAND\"].plot(color=\"blue\")\n",
    "vest_ga_20[vest_ga_20[\"PRECINCT_N\"]==\"TELOGA\"].plot(ax=ax2,color=\"green\")\n",
    "ga_shapefile[ga_shapefile[\"PRECINCT_N\"]==\"CLOUDLAND-TELOGA\"].boundary.plot(ax = ax2,color=\"red\")\n",
    "\n",
    "#Import the topo lines\n",
    "elev_contour_1 = gp.read_file(\"./raw-from-source/Topographic_Lines/VECTOR_Dougherty_Gap_GA_7_5_Min_Shape/Elev_Contour.shp\")\n",
    "elev_contour_2 = gp.read_file(\"./raw-from-source/Topographic_Lines/VECTOR_Jamestown_AL_7_5_Min_Shape/Elev_Contour.shp\")\n",
    "\n",
    "#Plot the elev_countours\n",
    "ax3 = elev_contour_1.plot(linewidth=0.1)\n",
    "elev_contour_2.plot(ax=ax3,linewidth=0.1)\n",
    "minx, miny, maxx, maxy = ga_shapefile[ga_shapefile[\"PRECINCT_N\"]==\"CLOUDLAND-TELOGA\"].total_bounds\n",
    "ax3.set_xlim(minx, maxx)\n",
    "ax3.set_ylim(miny, maxy)\n",
    "\n",
    "#Confirm that the precincts are really split on a ridgeline\n",
    "ax4 = vest_ga_20[vest_ga_20[\"PRECINCT_N\"]==\"CLOUDLAND\"].plot(color=\"blue\",alpha=.5)\n",
    "vest_ga_20[vest_ga_20[\"PRECINCT_N\"]==\"TELOGA\"].plot(ax=ax4,color=\"green\",alpha=.5)\n",
    "elev_contour_1.plot(ax=ax4,linewidth=0.1)\n",
    "elev_contour_2.plot(ax=ax4,linewidth=0.1)\n",
    "minx, miny, maxx, maxy = ga_shapefile[ga_shapefile[\"PRECINCT_N\"]==\"CLOUDLAND-TELOGA\"].total_bounds\n",
    "ax4.set_xlim(minx, maxx)\n",
    "ax4.set_ylim(miny, maxy)\n",
    "\n",
    "#As you can see the precinct is not plotted exactly on "
   ]
  },
  {
   "cell_type": "code",
   "execution_count": null,
   "id": "1b568916",
   "metadata": {},
   "outputs": [],
   "source": [
    "print(vest_ga_20.columns)"
   ]
  },
  {
   "cell_type": "code",
   "execution_count": null,
   "id": "813576f2",
   "metadata": {},
   "outputs": [],
   "source": [
    "#Merge the election results to check those\n",
    "data_columns = ['G20PRERTRU', 'G20PREDBID',\n",
    "       'G20PRELJOR', 'C20PRERTRU', 'C20PREDBID', 'C20PRELJOR', 'G20USSRPER',\n",
    "       'G20USSDOSS', 'G20USSLHAZ', 'S20USSRLOE', 'S20USSRCOL', 'S20USSRGRA',\n",
    "       'S20USSRJAC', 'S20USSRTAY', 'S20USSRJOH', 'S20USSDWAR', 'S20USSDJAC',\n",
    "       'S20USSDLIE', 'S20USSDJOH', 'S20USSDJAM', 'S20USSDSLA', 'S20USSDWIN',\n",
    "       'S20USSDTAR', 'S20USSLSLO', 'S20USSGFOR', 'S20USSIBUC', 'S20USSIBAR',\n",
    "       'S20USSISTO', 'S20USSIGRE', 'G20PSCRSHA', 'G20PSCDBRY', 'G20PSCLMEL',\n",
    "       'G20PSCRMCD', 'G20PSCDBLA', 'G20PSCLWIL']\n",
    "\n",
    "for i in data_columns:\n",
    "        ga_election.loc[ga_election[\"unique_ID\"]==\"055-CLOUDLAND\",i]=int(ga_election.loc[ga_election[\"unique_ID\"]==\"055-CLOUDLAND\",i])+int(ga_election.loc[ga_election[\"unique_ID\"]==\"055-TELOGA\",i])\n",
    "\n",
    "ga_election.loc[ga_election['precinct']==\"CLOUDLAND\",'unique_ID']=\"055-CLOUDLAND-TELOGA\"       \n",
    "ga_election = ga_election[ga_election[\"unique_ID\"]!=\"055-TELOGA\"]"
   ]
  },
  {
   "cell_type": "code",
   "execution_count": null,
   "id": "a5dbd115",
   "metadata": {},
   "outputs": [],
   "source": [
    "vest_ga_20[vest_ga_20[\"PRECINCT_N\"]==\"CLOUDLAND\"].plot()\n",
    "vest_ga_20[vest_ga_20[\"PRECINCT_N\"]==\"TELOGA\"].plot()\n",
    "\n",
    "prec2combine = [vest_ga_20.loc[vest_ga_20[\"PRECINCT_N\"]==\"CLOUDLAND\"],vest_ga_20.loc[vest_ga_20[\"PRECINCT_N\"]==\"TELOGA\"]]\n",
    "new_prec = gp.GeoDataFrame(pd.concat(prec2combine, ignore_index=True), crs = vest_ga_20.crs)\n",
    "\n",
    "vest_ga_20.loc[vest_ga_20[\"PRECINCT_N\"]==\"CLOUDLAND\",\"geometry\"]=new_prec.unary_union\n",
    "\n",
    "vest_ga_20[vest_ga_20[\"PRECINCT_N\"]==\"CLOUDLAND\"].plot()\n",
    "\n",
    "for i in data_columns:\n",
    "        vest_ga_20.loc[vest_ga_20[\"PRECINCT_N\"]==\"CLOUDLAND\",i]=int(vest_ga_20.loc[vest_ga_20[\"PRECINCT_N\"]==\"CLOUDLAND\",i])+int(vest_ga_20.loc[vest_ga_20[\"PRECINCT_N\"]==\"TELOGA\",i])\n",
    "\n",
    "vest_ga_20.loc[vest_ga_20[\"PRECINCT_N\"]==\"CLOUDLAND\",'unique_ID']=\"055-CLOUDLAND-TELOGA\"       \n",
    "vest_ga_20 = vest_ga_20[vest_ga_20[\"PRECINCT_N\"]!=\"TELOGA\"]\n",
    "vest_ga_20.reset_index(inplace=True,drop=True)\n"
   ]
  },
  {
   "cell_type": "markdown",
   "id": "e535c798",
   "metadata": {},
   "source": [
    "### Clayton: Split Ellenswood 1/2, Jonesboro 1/17/19, Lovejoy 3/6/7, Morrow 3/11, 5/10, Oak 3/5 - Completed\n",
    "These changes appear to have been performed already"
   ]
  },
  {
   "cell_type": "code",
   "execution_count": null,
   "id": "be09069e",
   "metadata": {},
   "outputs": [],
   "source": [
    "precinct_list = [\"ELLENWOOD 1\",\"ELLENWOOD 2\",\"JONESBORO 1\",\"JONESBORO 17\",\"JONESBORO 19\",\n",
    "                \"LOVEJOY 3\",\"LOVEJOY 6\", \"LOVEJOY 7\", \"MORROW 3\",\"MORROW 11\",\"MORROW 5\", \"MORROW 10\", \"OAK 3\", \"OAK 5\"]\n",
    "\n",
    "ga_shapefile[(ga_shapefile[\"CTYNAME\"]==\"CLAYTON\")&(ga_shapefile[\"PRECINCT_N\"].isin(precinct_list))][[\"PRECINCT_N\"]]"
   ]
  },
  {
   "cell_type": "markdown",
   "id": "a98580af",
   "metadata": {},
   "source": [
    "### Cobb: Split Bells Ferry 3/4, Dobbins 1/2, Marietta 3A/3B, Smyrna 3A/3B - Completed"
   ]
  },
  {
   "cell_type": "code",
   "execution_count": null,
   "id": "ec89800e",
   "metadata": {},
   "outputs": [],
   "source": [
    "precinct_list = [\"BELLS FERRY 03\",\"BELLS FERRY 04\",\"DOBBINS 01\",\"DOBBINS 02\",\n",
    "                \"SMYRNA 3A\",\"SMYRNA 3B\", \"MARIETTA 3A\", \"MARIETTA 3B\"]\n",
    "\n",
    "ga_shapefile[(ga_shapefile[\"CTYNAME\"]==\"COBB\")&(ga_shapefile[\"PRECINCT_N\"].isin(precinct_list))]"
   ]
  },
  {
   "cell_type": "markdown",
   "id": "ff696cf3",
   "metadata": {},
   "source": [
    "### Columbia: Split Bessie Thomas/2nd Mt Moriah, Harlem Branch/Harlem Senior Ctr; Merge Blanchard Park/MTZ Col FD;  Align multiple precincts with county maps - Completed\n",
    "\n",
    "Any precincts that VEST re-aligned that weren't will print below"
   ]
  },
  {
   "cell_type": "code",
   "execution_count": null,
   "id": "ba21781b",
   "metadata": {},
   "outputs": [],
   "source": [
    "prec_list = [\"BESSIE THOMAS CENTER\",\"SECOND MOUNT MORIAH BAPTIST CHURCH\" ,\"HARLEM SENIOR CENTER\",\n",
    "             \"HARLEM BRANCH LIBRARY\",\"BLANCHARD PARK\",\"MTZ COL FIRE HDQTR.\"]\n",
    "  \n",
    "\n",
    "print(ga_shapefile[(ga_shapefile[\"CTYNAME\"]==\"COLUMBIA\")&(ga_shapefile[\"PRECINCT_N\"].isin(prec_list))][\"PRECINCT_N\"])"
   ]
  },
  {
   "cell_type": "code",
   "execution_count": null,
   "id": "87788643",
   "metadata": {},
   "outputs": [],
   "source": [
    "ax = vest_ga_20[(vest_ga_20[\"CTYNAME\"]==\"COLUMBIA\")&(vest_ga_20[\"PRECINCT_N\"]==\"BLANCHARD PARK\")].plot()\n",
    "ga_shapefile[(ga_shapefile[\"CTYNAME\"]==\"COLUMBIA\")&(ga_shapefile[\"PRECINCT_N\"]==\"BLANCHARD PARK\")].boundary.plot(ax = ax,color=\"red\")"
   ]
  },
  {
   "cell_type": "markdown",
   "id": "f822f16b",
   "metadata": {},
   "source": [
    "### Coweta: Merge Arts Centre/Jefferson Parkway as Newnan Centre - Completed"
   ]
  },
  {
   "cell_type": "code",
   "execution_count": null,
   "id": "bdd03988",
   "metadata": {},
   "outputs": [],
   "source": [
    "ga_shapefile[ga_shapefile[\"PRECINCT_N\"]==\"THE NEWNAN CENTRE\"]"
   ]
  },
  {
   "cell_type": "code",
   "execution_count": null,
   "id": "48b404f2",
   "metadata": {},
   "outputs": [],
   "source": [
    "ga_shapefile[ga_shapefile[\"CTYNAME\"]==\"COWETA\"][\"PRECINCT_N\"].unique()"
   ]
  },
  {
   "cell_type": "markdown",
   "id": "6a54fb36",
   "metadata": {},
   "source": [
    "### Fulton: Merge CP07A/CP07D, CH01/CH04B, SS29A/SS29B, UC031/UC035 - COMPLETED"
   ]
  },
  {
   "cell_type": "code",
   "execution_count": null,
   "id": "ebef045f",
   "metadata": {},
   "outputs": [],
   "source": [
    "precinct_list = [\"121CP07A\",\"121CP07D\",\"121CH01\",\"121CH04B\",\n",
    "                \"121SS29A\",\"121SS29B\", \"121UC031\", \"121UC035\"]\n",
    "\n",
    "print(ga_shapefile[(ga_shapefile[\"DISTRICT\"].isin(precinct_list))][\"DISTRICT\"])"
   ]
  },
  {
   "cell_type": "code",
   "execution_count": null,
   "id": "939c471b",
   "metadata": {},
   "outputs": [],
   "source": [
    "prec2combine = [ga_shapefile.loc[ga_shapefile[\"DISTRICT\"]==\"121CP07D\"],ga_shapefile[ga_shapefile[\"DISTRICT\"]==\"121CP07A\"]]\n",
    "new_shp = gp.GeoDataFrame(pd.concat(prec2combine, ignore_index=True), crs = ga_shapefile.crs)\n",
    "ga_shapefile.loc[ga_shapefile[\"DISTRICT\"]==\"121CP07D\",\"geometry\"]=new_shp.unary_union\n",
    "ga_shapefile = ga_shapefile[ga_shapefile[\"DISTRICT\"]!=\"121CP07A\"]\n",
    "ga_shapefile.reset_index(drop=True, inplace=True)\n",
    "\n",
    "prec2combine = [ga_shapefile.loc[ga_shapefile[\"DISTRICT\"]==\"121CH04B\"],ga_shapefile[ga_shapefile[\"DISTRICT\"]==\"121CH01\"]]\n",
    "new_shp = gp.GeoDataFrame(pd.concat(prec2combine, ignore_index=True), crs = ga_shapefile.crs).unary_union\n",
    "ga_shapefile.loc[ga_shapefile[\"DISTRICT\"]==\"121CH01\",\"geometry\"]=gp.GeoDataFrame(geometry=[new_shp]).geometry.values\n",
    "ga_shapefile = ga_shapefile[ga_shapefile[\"DISTRICT\"]!=\"121CH04B\"]\n",
    "ga_shapefile.reset_index(drop=True, inplace=True)\n",
    "\n",
    "prec2combine = [ga_shapefile.loc[ga_shapefile[\"DISTRICT\"]==\"121SS29B\"],ga_shapefile[ga_shapefile[\"DISTRICT\"]==\"121SS29A\"]]\n",
    "new_shp = gp.GeoDataFrame(pd.concat(prec2combine, ignore_index=True), crs = ga_shapefile.crs)\n",
    "ga_shapefile.loc[ga_shapefile[\"DISTRICT\"]==\"121SS29A\",\"geometry\"]=new_shp.unary_union\n",
    "ga_shapefile = ga_shapefile[ga_shapefile[\"DISTRICT\"]!=\"121SS29B\"]\n",
    "ga_shapefile.reset_index(drop=True, inplace=True)\n",
    "\n",
    "prec2combine = [ga_shapefile.loc[ga_shapefile[\"DISTRICT\"]==\"121UC031\"],ga_shapefile[ga_shapefile[\"DISTRICT\"]==\"121UC035\"]]\n",
    "new_shp = gp.GeoDataFrame(pd.concat(prec2combine, ignore_index=True), crs = ga_shapefile.crs)\n",
    "ga_shapefile.loc[ga_shapefile[\"DISTRICT\"]==\"121UC031\",\"geometry\"]=new_shp.unary_union\n",
    "ga_shapefile = ga_shapefile[ga_shapefile[\"DISTRICT\"]!=\"121UC035\"]\n",
    "ga_shapefile.reset_index(drop=True, inplace=True)"
   ]
  },
  {
   "cell_type": "code",
   "execution_count": null,
   "id": "17912120",
   "metadata": {},
   "outputs": [],
   "source": [
    "ax = ga_shapefile[(ga_shapefile[\"DISTRICT\"]==\"121CH01\")].plot()\n",
    "vest_ga_20[(vest_ga_20[\"DISTRICT\"]==\"121CH01\")].boundary.plot(ax=ax,color=\"red\")\n",
    "\n",
    "ax = ga_shapefile[(ga_shapefile[\"DISTRICT\"]==\"121CP07D\")].plot()\n",
    "vest_ga_20[(vest_ga_20[\"DISTRICT\"]==\"121CP07D\")].boundary.plot(ax=ax,color=\"red\")\n",
    "\n",
    "ax = ga_shapefile[(ga_shapefile[\"DISTRICT\"]==\"121SS29A\")].plot()\n",
    "vest_ga_20[(vest_ga_20[\"DISTRICT\"]==\"121SS29A\")].boundary.plot(ax=ax,color=\"red\")\n",
    "\n",
    "ax = ga_shapefile[(ga_shapefile[\"DISTRICT\"]==\"121UC031\")].plot()\n",
    "vest_ga_20[(vest_ga_20[\"DISTRICT\"]==\"121UC031\")].boundary.plot(ax=ax,color=\"red\")"
   ]
  },
  {
   "cell_type": "markdown",
   "id": "f4f399a1",
   "metadata": {},
   "source": [
    "### DeKalb: Split Clarkston/Clarkston Comm Ctr; Realign Decatur/Oakhurst; Align precincts with Atlanta, Brookhaven, Decatur, Tucker city limits - Completed"
   ]
  },
  {
   "cell_type": "code",
   "execution_count": null,
   "id": "ac9701e0",
   "metadata": {},
   "outputs": [],
   "source": [
    "precinct_list = ['CLARKSTON COMMUNITY CENTER (CLA)','CLARKSTON (CLA)']\n",
    "ga_shapefile[(ga_shapefile[\"CTYNAME\"]==\"DEKALB\")&(ga_shapefile[\"PRECINCT_N\"].isin(precinct_list))][\"PRECINCT_N\"]"
   ]
  },
  {
   "cell_type": "code",
   "execution_count": null,
   "id": "0031b5ca",
   "metadata": {},
   "outputs": [],
   "source": [
    "ax = ga_shapefile[(ga_shapefile[\"CTYNAME\"]==\"DEKALB\")&(ga_shapefile[\"PRECINCT_N\"]==\"OAKHURST (DEC)\")].plot()\n",
    "ga_shapefile[(ga_shapefile[\"CTYNAME\"]==\"DEKALB\")&(ga_shapefile[\"PRECINCT_N\"]=='DECATUR (DEC)')].plot(ax=ax,color=\"green\")"
   ]
  },
  {
   "cell_type": "code",
   "execution_count": null,
   "id": "f19b9cbc",
   "metadata": {},
   "outputs": [],
   "source": [
    "ax = vest_ga_20[(vest_ga_20[\"CTYNAME\"]==\"DEKALB\")&(vest_ga_20[\"PRECINCT_N\"]=='OAKHURST')].plot()\n",
    "vest_ga_20[(vest_ga_20[\"CTYNAME\"]==\"DEKALB\")&(vest_ga_20[\"PRECINCT_N\"]=='DECATUR')].plot(ax = ax,color=\"green\")\n",
    " "
   ]
  },
  {
   "cell_type": "markdown",
   "id": "5753e5f7",
   "metadata": {},
   "source": [
    "#### Gwinnett: Adjust Baycreek F/G, Berkshire J/M, Cates D/F, Garners C/B, Lawrenceville G/N, Pinckneyville S/T, Rockbridge A/G\n",
    "There isn't enough detail to check these changes."
   ]
  },
  {
   "cell_type": "markdown",
   "id": "2adc086d",
   "metadata": {},
   "source": [
    "### Lowndes: Split Northgate Assembly/Trinity, Jaycee/Mt Calvary/Northside/VSU - Completed"
   ]
  },
  {
   "cell_type": "code",
   "execution_count": null,
   "id": "7299b054",
   "metadata": {},
   "outputs": [],
   "source": [
    "ga_shapefile[ga_shapefile[\"CTYNAME\"]==\"LOWNDES\"][\"PRECINCT_N\"].unique()"
   ]
  },
  {
   "cell_type": "markdown",
   "id": "20730821",
   "metadata": {},
   "source": [
    "### Oconee: Merge Annex/City Hall; Align City Hall with Watkinsville city limits - Completed"
   ]
  },
  {
   "cell_type": "code",
   "execution_count": null,
   "id": "8c1feb5c",
   "metadata": {},
   "outputs": [],
   "source": [
    "ga_shapefile[ga_shapefile[\"CTYNAME\"]==\"OCONEE\"][\"PRECINCT_N\"].unique()\n",
    "\n",
    "ax = ga_shapefile[ga_shapefile[\"PRECINCT_N\"]=='CITY HALL'].plot()\n",
    "vest_ga_20[vest_ga_20[\"PRECINCT_N\"]=='CITY HALL'].boundary.plot(ax = ax,color=\"red\")"
   ]
  },
  {
   "cell_type": "markdown",
   "id": "4881675e",
   "metadata": {},
   "source": [
    "### Paulding: Reorganize 12 precincts into 19 precincts as redrawn in 2019 - Completed"
   ]
  },
  {
   "cell_type": "code",
   "execution_count": null,
   "id": "de8364d5",
   "metadata": {},
   "outputs": [],
   "source": [
    "ga_shapefile[ga_shapefile[\"CTYNAME\"]==\"PAULDING\"].shape"
   ]
  },
  {
   "cell_type": "markdown",
   "id": "3ae7e3a6",
   "metadata": {},
   "source": [
    "### Randolph: Merge Carnegie/Cuthbert-Courthouse, 4th District/Fountain Bridge/Shellman - Completed"
   ]
  },
  {
   "cell_type": "code",
   "execution_count": null,
   "id": "65f83c1f",
   "metadata": {},
   "outputs": [],
   "source": [
    "ga_shapefile[ga_shapefile[\"CTYNAME\"]==\"RANDOLPH\"][\"PRECINCT_N\"]"
   ]
  },
  {
   "cell_type": "markdown",
   "id": "55003f11",
   "metadata": {},
   "source": [
    "### Troup: Split Mountville between Gardner Newman/Hogansville/Rosemont; Align multiple precincts with county maps - Completed"
   ]
  },
  {
   "cell_type": "code",
   "execution_count": null,
   "id": "8bf92437",
   "metadata": {},
   "outputs": [],
   "source": [
    "ga_shapefile[ga_shapefile[\"CTYNAME\"]==\"TROUP\"][\"PRECINCT_N\"]\n",
    "\n",
    "prec_list = [\"GARDNER NEWMAN\",\"HOGANSVILLE\",\"ROSEMONT\"]\n",
    "\n",
    "ga_shapefile[(ga_shapefile[\"CTYNAME\"]==\"TROUP\")&(ga_shapefile[\"PRECINCT_N\"].isin(prec_list))].plot(column=\"PRECINCT_N\")\n",
    "vest_ga_20[(vest_ga_20[\"CTYNAME\"]==\"TROUP\")&(vest_ga_20[\"PRECINCT_N\"].isin(prec_list))].plot(column=\"PRECINCT_N\")"
   ]
  },
  {
   "cell_type": "markdown",
   "id": "a380e552",
   "metadata": {},
   "source": [
    "### Towns: Merge Macedonia/Tate City - Completed"
   ]
  },
  {
   "cell_type": "code",
   "execution_count": null,
   "id": "b347d865",
   "metadata": {},
   "outputs": [],
   "source": [
    "ga_shapefile[ga_shapefile[\"CTYNAME\"]==\"TOWNS\"][\"PRECINCT_N\"].unique()"
   ]
  },
  {
   "cell_type": "markdown",
   "id": "4ed3d820",
   "metadata": {},
   "source": [
    "### Attempt to Join"
   ]
  },
  {
   "cell_type": "code",
   "execution_count": null,
   "id": "cad4f72e",
   "metadata": {},
   "outputs": [],
   "source": [
    "join_attempt_3 = pd.merge(ga_election,ga_shapefile,how=\"outer\",on=\"unique_ID\",indicator=True)\n",
    "print(join_attempt_3[\"_merge\"].value_counts())\n",
    "\n",
    "left_only = join_attempt_3[join_attempt_3[\"_merge\"]==\"left_only\"]\n",
    "right_only = join_attempt_3[join_attempt_3[\"_merge\"]==\"right_only\"]\n",
    "\n",
    "left_only.to_csv(\"./source_join_elections.csv\")\n",
    "right_only.to_csv(\"./source_join_shapes.csv\")"
   ]
  },
  {
   "cell_type": "code",
   "execution_count": null,
   "id": "5e3c25f4",
   "metadata": {},
   "outputs": [],
   "source": [
    "example_fips_dict ={'013-01': '013-01 BETHLEHEM COMMUNITY CENTER',\n",
    " '013-02': '013-02 BETHLEHEM CHURCH - 211',\n",
    " '013-03': '013-03 HMONG NEW HOPE ALLIANCE CHURCH',\n",
    " '013-04': '013-04 COVENANT LIFE SANCTUARY',\n",
    " '013-05': '013-05 FIRE STATION 1 (STATHAM)',\n",
    " '013-08': '013-08 FIRST BAPTIST CHURCH WINDER',\n",
    " '013-13': '013-13 WINDER COMMUNITY CENTER',\n",
    " '013-16': '013-16 THE CHURCH AT WINDER',\n",
    " '023-1': '023-FAIRGROUND',\n",
    " '029-J.F.GREGORY PARK': '029-JF GREGORY PARK',\n",
    " '029-PUBLIC SAFETY COMPX': '029-PUBLIC SAFETY COMPLEX',\n",
    " '029-RH RECREATION COMPX': '029-RH REC COMPLEX',\n",
    " '033-ST. CLAIR': '033-ST CLAIR',\n",
    " '039-ST. MARYS': '039-ST MARYS',\n",
    " '039-WEST SAINT MARYS': '039-WEST ST MARYS',\n",
    " '043-JACK STRICKLAND COMMUNITY CENTER': '043-JACK STRICKLAND COMM CENTER',\n",
    " '045-UNIVERSITY OF W. GA': '045-UNIVERSITY OF W GA',\n",
    " '049-ST. GEORGE': '049-ST GEORGE',\n",
    " '051-J E A': '051-JEA BUILDING',\n",
    " '051-ST. THOMAS EPISCOPAL CHURCH': '051-ST THOMAS EPISCOPAL CHURCH',\n",
    " '051-ISLANDS CHRISTIAN CH': '051-ISLANDS CHRISTIAN CHURCH',\n",
    " '051-FELLOWSHIP OF LOVE COMMUNITY CHURCH': '051-FELLOWSHIP OF LOVE CHURCH',\n",
    " '051-CHRIST COMMUNITY CHURCH AT MORNINGSIDE': '051-CHRIST COMMUNITY CHURCH',\n",
    " '051-COKESBURY METHODIST CHURCH': '051-COKESBURY METHODIST',\n",
    " '051-SOUTHSIDE BAPTIST CH': '051-SOUTHSIDE BAPTIST CHURCH',\n",
    " '051-THUNDERBOLT MUN COMP': '051-THUNDERBOLT MUNI COMPLEX',\n",
    " '051-FRANK MURRAY COMMUNITY CENTER': '051-FRANK MURRAY COMM CENTER',\n",
    " '051-SAINT FRANCIS EPISCOPAL CHURCH': '051-ST FRANCIS EPISCOPAL CHURCH',\n",
    " '051-FIRST BAPTIST CHURCH OF THE ISLAND': '051-FIRST BAPTIST OF THE ISLAND',\n",
    " '051-WILMINGTON ISLAND UNITED METHODIST CHURCH': '051-WILMINGTON ISLAND UMC',\n",
    " '051-WILMINGTON ISLAND PRESBYTERIAN CHURCH': '051-WILMINGTON ISLAND PRES CHURCH',\n",
    " '051-TYBEE IS SCH CAFE': '051-TYBEE ISLAND SCHOOL CAFE',\n",
    " '051-SKID IS PRES CHURCH': '051-SKIDAWAY ISLAND PRES CHURCH',\n",
    " '051-SKIDAWAY ISLAND STAT': '051-SKIDAWAY ISLAND STATE PARK',\n",
    " '051-SENIOR CITIZEN CENTER': '051-SENIOR CITIZENS CENTER',\n",
    " '051-BUTLER PRESBYTERIAN CHURCH ED BLDG': '051-BUTLER PRESBYTERIAN CHURCH',\n",
    " '051-LIBERTY CITY COMMUNITY CENTER': '051-LIBERTY CITY COMM CTR',\n",
    " '051-STATION 1': '051-ELKS LODGE',\n",
    " '051-SAVANNAH PRIMITIVE BAPTIST CHURCH': '051-SAVANNAH PRIMITIVE BC',\n",
    " '051-LARGO-TIBET ELEMENTA': '051-LARGO-TIBET ELEMENTARY',\n",
    " '051-WHITE BLUFF PRESBYTERIAN CHURCH': '051-WHITE BLUFF PRESBYTERIAN',\n",
    " '051-WINDSOR FOREST BAPTIST CHURCH SCHOOL': '051-WINDSOR FOREST BAPTIST',\n",
    " '051-CRUSADER COMMUNITY CENTER': '051-CRUSADER COMM CENTER',\n",
    " '051-STATION 3': '051-GEORGETOWN ELEMENTARY',\n",
    " '051-GARDEN CITY SENIOR CENTER': '051-GARDEN CITY SENIOR CTR',\n",
    " '051-PB EDWARDS GYMNASIUM': '051-PB EDWARDS GYM',\n",
    " '051-LAKE SHORE COMMUNITY CENTER': '051-LAKE SHORE COMM CTR',\n",
    " '051-BLOOMINGDALE COMMUNITY CENTER': '051-BLOOMINGDALE COMM CTR',\n",
    " '051-SAVANNAH HOLY CHURCH OF GOD': '051-SAVANNAH HOLY C OF G',\n",
    " '051-PROGRESSIVE REC CTR': '051-PROGRESSIVE REC CENTER',\n",
    " '051-COURTYARD BY MARRIOTT': '051-SEVENTH DAY ADV CHURCH',\n",
    " '051-SOUTHSIDE FIRE TRAINING CENTER': '051-SOUTHSIDE FIRE TRNG CTR',\n",
    " '051-WEST BROAD STREET YMCA': '051-W BROAD ST YMCA',\n",
    " '051-TOMPKINS RECREATION CENTER': '051-TOMPKINS REC CENTER',\n",
    " '051-WOODVILLE-TOMPKINS TECHNICAL INST': '051-WOODVILLE-TOMPKINS TI',\n",
    " '051-RESURRECTION OF OUR LORD CATHOLIC CHURCH': '051-RESURRECTION OF OUR LORD CHURCH',\n",
    " '051-CARVER HEIGHTS COMM': '051-CARVER HEIGHTS COMM CTR',\n",
    " '051-BUTLER ELEMENTARY SC': '051-BUTLER ELEMENTARY',\n",
    " '051-SAVANNAH CHRISTIAN S': '051-SAVANNAH CHRISTIAN',\n",
    " '051-FIRST BAPTIST CH GARDEN CITY': '051-GARDEN CITY REC CENTER',\n",
    " '051-MIGHTY EIGHTH MUSEUM': '051-ROYAL CINEMAS AND IMAX',\n",
    " '051-POOLER RECREATION CENTER GYMNASIUM 7-12C':'051-POOLER CHURCH',\n",
    " '051-POOLER RECREATION CENTER GYMNASIUM 7-16C':'051-POOLER REC CENTER GYM',\n",
    " '053-ACTIVITY CENTER': '053-ACTIVITY CENTER (Includes FTBEN 1-3)',\n",
    " '063-OAK5': '063-OAK 5',\n",
    " '067-MCEACHERN': '067-MCEACHERN 01',\n",
    " '067-MOUNT BETHEL 01': '067-MT BETHEL 01',\n",
    " '067-MOUNT BETHEL 03': '067-MT BETHEL 03',\n",
    " '067-MOUNT BETHEL 04': '067-MT BETHEL 04',\n",
    " '073-BLUERIDGE ELEMENTARY': '073-BLUE RIDGE ELEMENTARY',\n",
    " '073-CHRIST CHURCH, PRESBYTERIAN': '073-CHRIST CHURCH PRESBYTERIAN',\n",
    " '073-CHRIST THE KING CH': '073-CHRIST THE KING LUTH CHURCH',\n",
    " '073-COL CTY BOARD OF EDU': '073-COL CTY BD OF EDU',\n",
    " '073-DAMASCUS BAPT CHURCH': '073-DAMASCUS BAPTIST CHURCH',\n",
    " '073-EUBANK/BLANCHARD CTR': '073-EUBANK-BLANCHARD CENTER',\n",
    " '073-GROVETOWN METHODIST': '073-GROVETOWN METHODIST CHURCH',\n",
    " '073-GROVETOWN DEPT OF PUBLIC SAFETY STATION #2': '073-GROVETOWN PUBLIC SAFETY STATION 2',\n",
    " '073-JOURNEY COMM. CHURCH': '073-JOURNEY COMM CHURCH',\n",
    " '073-KIOKEE BAPT CHURCH': '073-KIOKEE BAPTIST CHURCH',\n",
    " '073-LEWIS METHODIST': '073-LEWIS METHODIST CHURCH',\n",
    " '073-LIBERTY PARK - GROVETOWN': '073-LIBERTY PARK-GROVETOWN',\n",
    " '073-MTZ COL FIRE HDQTR.': '073-MTZ COL FIRE HDQTR',\n",
    " '073-SECOND MT. CARMEL BAPTIST CHURCH': '073-SECOND MT CARMEL BAPTIST CHURCH',\n",
    " '073-SECOND MOUNT MORIAH BAPTIST CHURCH': '073-SECOND MT MORIAH BAPTIST CHURCH',\n",
    " '073-TRINITY BAPT CHURCH': '073-TRINITY BAPTIST CHURCH',\n",
    " '073-WESTSIDE BAPT CHURCH': '073-WESTSIDE BAPTIST CHURCH',\n",
    " '073-WOODLAWN BAPT CHURCH': '073-WOODLAWN BAPTIST CHURCH',\n",
    " '075-NEW LIFE BAPTIST CH.': '075-NEW LIFE BAPTIST CHURCH',\n",
    " '077-THE NEWNAN CENTRE': '077-NEWNAN CENTRE',\n",
    " '087-MT. PLEASANT': '087-MT PLEASANT',\n",
    " '089-ASHFORD DUNWOODY RD (BHAVN)': '089-ASHFORD DUNWOODY RD',\n",
    " '089-ASHFORD PARK ELEM (BHAVN)': '089-ASHFORD PARK ELEM',\n",
    " '089-ASHFORD PARKSIDE (BHAVN)': '089-ASHFORD PARKSIDE',\n",
    " '089-AUSTIN (DUN)': '089-AUSTIN',\n",
    " '089-AVONDALE (AVO)': '089-AVONDALE',\n",
    " '089-BOULEVARD (ATL)': '089-BOULEVARD',\n",
    " '089-BRIAR VISTA ELEM (UNI & ATL)': '089-BRIAR VISTA ELEM',\n",
    " '089-BRIARWOOD (BHAVN)': '089-BRIARWOOD',\n",
    " '089-BROCKETT (TUC)': '089-BROCKETT',\n",
    " '089-BROCKETT ELEM (TUC)': '089-BROCKETT ELEM',\n",
    " '089-BROOKHAVEN (BHAVN)': '089-BROOKHAVEN',\n",
    " '089-BURGESS ELEM (ATL)': '089-BURGESS ELEM',\n",
    " '089-CHAMBLEE (CHA)': '089-CHAMBLEE',\n",
    " '089-CHAMBLEE 2 (CHA)': '089-CHAMBLEE 2',\n",
    " '089-CHESNUT ELEM (DUN)': '089-CHESNUT ELEM',\n",
    " '089-CLAIREMONT EAST (DEC)': '089-CLAIREMONT EAST',\n",
    " '089-CLAIREMONT WEST (DEC)': '089-CLAIREMONT WEST',\n",
    " '089-COAN RECREATION CENTER (ATL)': '089-COAN RECREATION CENTER',\n",
    " '089-CROSS KEYS HIGH (BHAVN)': '089-CROSS KEYS HIGH',\n",
    " '089-DORAVILLE NORTH (DOR)': '089-DORAVILLE NORTH',\n",
    " '089-DORAVILLE SOUTH (DOR)': '089-DORAVILLE SOUTH',\n",
    " '089-DRESDEN ELEM (CHA)': '089-DRESDEN ELEM',\n",
    " '089-DRUID HILLS': '089-DRUID HILLS HIGH',\n",
    " '089-DUNWOODY (DUN)': '089-DUNWOODY',\n",
    " '089-DUNWOODY 2 (DUN)': '089-DUNWOODY 2',\n",
    " '089-DUNWOODY LIBRARY (DUN)': '089-DUNWOODY LIBRARY',\n",
    " '089-EAST LAKE (ATL)': '089-EAST LAKE',\n",
    " '089-EMORY SOUTH (UNI & ATL)': '089-EMORY SOUTH',\n",
    " '089-FERNBANK': '089-FERNBANK ELEM',\n",
    " '089-GEORGETOWN (DUN)': '089-GEORGETOWN SQ',\n",
    " '089-GLENNWOOD (DEC)': '089-GLENNWOOD',\n",
    " '089-HARRIS - MARGARET HARRIS ED': '089-HARRIS-MARGARET HARRIS ED',\n",
    " '089-HARRIS - NARVIE J. HARRIS ELEM': '089-HARRIS-NARVIE J HARRIS ELEM',\n",
    " '089-HUGH HOWELL (TUC)': '089-HUGH HOWELL',\n",
    " '089-HUNTLEY HILLS ELEM (CHA)': '089-HUNTLEY HILLS ELEM',\n",
    " '089-IDLEWOOD ELEM (TUC)': '089-IDLEWOOD ELEM',\n",
    " '089-JOHNSON ESTATES (ATL)': '089-JOHNSON ESTATES',\n",
    " '089-KINGSLEY ELEM (DUN)': '089-KINGSLEY ELEM',\n",
    " '089-KITTREDGE ELEM (BHAVN)': '089-KITTREDGE ELEM',\n",
    " '089-KNOLLWOOD ELEM': '089-KNOLLWOOD',\n",
    " '089-LIN - MARY LIN ELEM (ATL)': '089-LIN-MARY LIN ELEM',\n",
    " '089-LITHONIA (LIT)': '089-LITHONIA',\n",
    " '089-MATHIS - BOB MATHIS ELEM': '089-MATHIS-BOB MATHIS ELEM',\n",
    " '089-METROPOLITAN (ATL)': '089-METROPOLITAN',\n",
    " '089-MIDVALE ELEM (TUC)': '089-MIDVALE ELEM',\n",
    " '089-MIDWAY ELEM': '089-MIDWAY',\n",
    " '089-MILLER - ELDRIDGE L. MILLER ELEM': '089-MILLER-ELDRIDGE L MILLER ELEM',\n",
    " '089-MONTCLAIR ELEM (BHAVN)': '089-MONTCLAIR ELEM',\n",
    " '089-MONTGOMERY ELEM (BHAVN)': '089-MONTGOMERY ELEM',\n",
    " '089-MONTREAL (TUC)': '089-MONTREAL',\n",
    " '089-MOUNT VERNON EAST (DUN)': '089-MOUNT VERNON EAST',\n",
    " '089-MT.VERNON WEST (DUN)': '089-MOUNT VERNON WEST',\n",
    " '089-NORTH PEACHTREE (DUN)': '089-NORTH PEACHTREE',\n",
    " '089-OAKHURST (DEC)': '089-OAKHURST',\n",
    " '089-PEACHTREE MIDDLE (DUN)': '089-PEACHTREE MIDDLE',\n",
    " '089-PINE LAKE (PIN)': '089-PINE LAKE',\n",
    " '089-PONCE DE LEON (DEC)': '089-PONCE DE LEON',\n",
    " '089-SHAW ELEMENTARY': '089-SHAW-ROBERT SHAW ELEM',\n",
    " '089-SILVER LAKE (ATL & BHAVN)': '089-SILVER LAKE',\n",
    " '089-SKYLAND (BHAVN)': '089-SKYLAND',\n",
    " '089-SMOKE RISE (TUC)': '089-SMOKE RISE',\n",
    " '089-SNAPFINGER ROAD NORTH': '089-SNAPFINGER ROAD N',\n",
    " '089-SNAPFINGER ROAD SOUTH': '089-SNAPFINGER ROAD S',\n",
    " '089-STONE MOUNTAIN (STO)': '089-STONE MTN',\n",
    " '089-STONE MOUNTAIN CHAMPION (STO)': '089-STONE MTN CHAMPION',\n",
    " '089-STONE MOUNTAIN MIDDLE (TUC)': '089-STONE MTN MIDDLE',\n",
    " '089-TILLY MILL ROAD (DUN)': '089-TILLY MILL ROAD',\n",
    " '089-TUCKER (TUC)': '089-TUCKER',\n",
    " '089-TUCKER LIBRARY (TUC)': '089-TUCKER LIBRARY',\n",
    " '089-WINNONA PARK (DEC)': '089-WINNONA PARK',\n",
    " '089-WINTERS CHAPEL (DUN)': '089-WINTERS CHAPEL',\n",
    " '089-WOODWARD ELEM (BHAVN)': '089-WOODWARD',\n",
    "'089-CANDLER PARK (ATL)':'089-CANDLER PARK',\n",
    "'089-CLARKSTON (CLA)':'089-CLARKSTON',\n",
    "'089-CLARKSTON COMMUNITY CENTER (CLA)':'089-CLARKSTON COMMUNITY CENTER',\n",
    "'089-DECATUR (DEC)':'089-DECATUR',\n",
    "'089-GEORGETOWN SQ (DUN)':'089-GEORGETOWN SQ',\n",
    "'089-LIN-MARY LIN ELEM (ATL)':'089-LIN-MARY LIN ELEM',\n",
    "'089-MONTGOMERY ELEM  (BHAVN)':'089-MONTGOMERY ELEM',\n",
    "'089-MOUNT VERNON WEST (DUN)':'089-MOUNT VERNON WEST',\n",
    "'089-NARVIE J HARRIS ELEM':'089-HARRIS-NARVIE J HARRIS ELEM',\n",
    "'089-WOODWARD (BHAVN)':'089-WOODWARD',\n",
    " '091-CHAUN': '091-CHAUNCEY',\n",
    " '091-EMPIR': '091-EMPIRE',\n",
    " '091-JAYBI': '091-JAYBIRD',\n",
    " '091-MCCRA': '091-MCCRANIE',\n",
    " '091-MITCH': '091-MITCHELL',\n",
    " '091-MULLI': '091-MULLIS',\n",
    " '091-PLAIN': '091-PLAINFIELD',\n",
    " '091-PONDT': '091-PONDTOWN',\n",
    " '091-RAWLI': '091-RAWLINS',\n",
    " '091-VILUL': '091-VILULA',\n",
    " '091-YONKE': '091-YONKER',\n",
    " '095-ALICE COACHMAN ELEM': '095-ALICE COACHMAN ELEMENTARY',\n",
    " '095-INTERNATIONAL STUDIE': '095-INTERNATIONAL STUDIES',\n",
    " '095-JACKSON HEIGHTS ELEM': '095-JACKSON HEIGHTS ELEMENTARY',\n",
    " '095-LAMAR REESE ELEM SCH': '095-LAMAR REESE ELEMENTARY',\n",
    " '095-PALMYRA METH CHURCH': '095-PALMYRA METHODIST',\n",
    " '095-PINE BLUFF BAPT CHUR': '095-PINE BLUFF BAPTIST CHURCH',\n",
    " '095-PUTNEY 1ST BAPT CHUR': '095-PUTNEY 1ST BAPTIST CHURCH',\n",
    " '095-SHERWOOD ELEM SCHOOL': '095-SHERWOOD ELEMENTARY',\n",
    " '095-SHILOH BAPTIST CHURC': '095-SHILOH BAPTIST CHURCH',\n",
    " '095-TURNER ELEM SCHOOL': '095-TURNER ELEMENTARY',\n",
    " '095-WESTTOWN ELEM SCHOOL': '095-WESTTOWN ELEMENTARY',\n",
    " '097-EPHESUS BAPTIST CHUR': '097-EPHESUS BAPTIST CHURCH',\n",
    " '097-GOLDEN METHODIST CH': '097-GOLDEN METHODIST CHURCH',\n",
    " '097-LUTHERAN CHURCH - GS': '097-LUTHERAN CHURCH-GS',\n",
    " '097-MIRROR LAKE ELEMENTA': '097-MIRROR LAKE ELEMENTARY',\n",
    " '109-VETERANS COMM CTR': '109-VETERANS COMMUNITY CENTER',\n",
    " \"115-FOSTER'S MILL\": '115-FOSTERS MILL',\n",
    " '127-BLYTHE ISLAND BAPTIST CHURCH': '127-BLYTHE ISLAND BAPTIST',\n",
    " '127-COLLEGE PLACE': '127-COLLEGE PLACE UMC',\n",
    " '127-NORTHSIDE CHURCH': '127-NORTHSIDE BAPTIST',\n",
    " '127-ST WILLIAM CHURCH': '127-ST WILLIAM CATHOLIC CHURCH',\n",
    " '127-STERLING CH. OF GOD': '127-STERLING CHURCH OF GOD',\n",
    " '131-CAIRO 4TH DISTR': '131-CAIRO 4TH DISTRICT',\n",
    " '131-CAIRO 5TH DISTR': '131-CAIRO 5TH DISTRICT',\n",
    " '135-PINKCNEYVILLE A': '135-PINCKNEYVILLE A',\n",
    " '137-TOWN OF MOUNT AIRY': '137-TOWN OF MT AIRY',\n",
    " '141-ST. MARK': '141-ST MARK',\n",
    " '149-COOKSVILLE - CORINTH': '149-COOKSVILLE-CORINTH',\n",
    " '151-MT. BETHEL': '151-MT BETHEL',\n",
    " '151-MOUNT CARMEL': '151-MT CARMEL',\n",
    " '159-MARTIN - BURNEY': '159-MARTIN-BURNEY',\n",
    " '171-CHAPPELL MILL V. FD': '171-CHAPPELL MILL VFD',\n",
    " '175-FBC - FLC': '175-FBC-FLC',\n",
    " '175-FIRE DEPT STA #5': '175-FIRE DEPT STA 5',\n",
    " '175-LCFS #10 (VALAMBROSIA)': '175-LCFS 10 VALAMBROSIA',\n",
    " '175-RURAL FIRE STA #17': '175-RURAL FIRE STA 17',\n",
    " '175-W T ADAMS FIRE STA #18': '175-W T ADAMS FIRE STA 18',\n",
    " '177-#3 CJC': '177-CJC',\n",
    " '177-#9 CENTURY FIRE STAT': '177-CENTURY FIRE STATION',\n",
    " '177-#1 CHOKEE': '177-CHOKEE',\n",
    " '177-#6 FIRST BAPTIST': '177-FIRST BAPTIST',\n",
    " '177-#8 FLINT REFORMED BAPTIST': '177-FLINT REFORMED BAPTIST',\n",
    " '177-#5 FRIENDSHIP BAPT.': '177-FRIENDSHIP BAPTIST',\n",
    " '177-#4 LEESBURG': '177-LEESBURG',\n",
    " '177-#10 REDBONE': '177-REDBONE',\n",
    " '177-#7 SDA CHURCH': '177-SDA CHURCH',\n",
    " '177-#2 SMITHVILLE': '177-SMITHVILLE',\n",
    " '179-MEMORIAL DR. EAST': '179-MEMORIAL DR EAST',\n",
    " '181-FAITH TEMPLE OF LINC': '181-FAITH TEMPLE OF LINCOLN',\n",
    " '199-UPPER 9TH -ALVATON': '199-ALVATON',\n",
    " '199-THIRD-DURAND': '199-DURAND',\n",
    " '199-MIDDLE 9TH-GAY': '199-GAY',\n",
    " '199-8TH-GREENVILLE': '199-GREENVILLE',\n",
    " '199-7TH-ODESSADALE': '199-ODESSADALE',\n",
    " '199-2ND-WARM SPRINGS': '199-WARM SPRINGS',\n",
    " '199-LOWER 9TH-WOODBURY': '199-WOODBURY',\n",
    " '211-3. BETH/SPRINGFIELD': '211-BETH/SPRINGFIELD',\n",
    " '211-4. CENTRAL MORGAN': '211-CENTRAL MORGAN',\n",
    " '211-5. CLACKS CHAPEL': '211-CLACKS CHAPEL',\n",
    " '211-2. EAST MORGAN': '211-EAST MORGAN',\n",
    " '211-7. NORTH MORGAN': '211-NORTH MORGAN',\n",
    " '211-1. NORTHEAST MORGAN': '211-NORTHEAST MORGAN',\n",
    " '211-6. WEST MORGAN': '211-WEST MORGAN',\n",
    " '215-GENTIAN/REESE @LDS': '215-GENTIAN/REESE',\n",
    " '215-ST. PETER': '215-ST PETER',\n",
    " '223-DIANNE WRIGHT INNOVATION CENTER': '223-D WRIGHT INNOVATION CTR',\n",
    " '223-THE EVENTS PLACE': '223-EVENTS PLACE',\n",
    " '223-LEGACY BAPTIST CHURCH': '223-LEGACY BAPT CHURCH',\n",
    " '223-NEBO ELEMENTARY SCHOOL': '223-NEBO ELEM SCHOOL',\n",
    " '223-PAULDING SENIOR CENTER': '223-PAULDING SR CENTER',\n",
    " '223-POPLAR SPRINGS BAPTIST CHURCH': '223-POPLAR SPRGS BAPT CHURCH',\n",
    " '223-RUSSOM ELEMENTARY SCHOOL': '223-RUSSOM ELEMENTARY',\n",
    " '223-SHELTON ELEMENTARY SCHOOL': '223-SHELTON ELEMENTARY',\n",
    " '223-TAYLOR FARM PARK MEETING ROOM': '223-TAYLOR FARM PARK',\n",
    " '223-WATSON GOVT COMPLEX': '223-WATSON GOVT CMPLX',\n",
    " '225-BYRON #1': '225-BYRON 1',\n",
    " '225-BYRON #2': '225-BYRON 2',\n",
    " '225-FORT VALLEY #1': '225-FORT VALLEY 1',\n",
    " '225-FORT VALLEY #2': '225-FORT VALLEY 2',\n",
    " '225-FORT VALLEY #3': '225-FORT VALLEY 3',\n",
    " '229-HACKLEBARNEY/CASON': '229-HACKLEBARNEY-CASON',\n",
    " '229-ST JOHNS/BLACKSHEAR': '229-ST JOHNS-BLACKSHEAR',\n",
    " '229-SUNSET/SWEAT': '229-SUNSET-SWEAT',\n",
    " '243-CUTHBERT/COURTHOUSE': '243-CUTHBERT-COURTHOUSE',\n",
    " '251-SCREVEN REC. DEPT.': '251-SCREVEN REC DEPT',\n",
    " '261-AG CENTER': '261-AGRI-CENTER',\n",
    " '261-REES PARK': '261-REESE PARK',\n",
    " '261-THOMSON': '261-THOMPSON',\n",
    " '275-TC PUBLIC LIBRARY/JERGER': '275-JERGER',\n",
    " '275-LITTLE OCHLOCKNEE BAPTIST': '275-LITTLE OCHLOCKNEE',\n",
    " '275-MERRILVILLE': '275-MERRILLVILLE',\n",
    " '275-TC PUBLIC LIBRARY/SCOTT': '275-SCOTT',\n",
    " '279-513 V.P.D.': '279-513 VPD',\n",
    " '279-514 S.T.I.A.L.C.': '279-514 STIALC',\n",
    " '285-MCLENDON': '285-MCCLENDON',\n",
    " '299-100': '299-District 1',\n",
    " '299-200A': '299-District 2A',\n",
    " '299-200B': '299-District 2B',\n",
    " '315-ABBEVILLE NORTH #2': '315-ABBEVILLE NORTH 2',\n",
    " '315-ABBEVILLE SOUTH #5': '315-ABBEVILLE SOUTH 5',\n",
    " '315-PINEVIEW #2': '315-PINEVIEW 2',\n",
    " '315-PITTS #3': '315-PITTS 3',\n",
    " '315-ROCHELLE NORTH #1': '315-ROCHELLE NORTH 1',\n",
    " '315-ROCHELLE SOUTH #4': '315-ROCHELLE SOUTH 4',\n",
    " '317-SENIOR CITIZEN CENTE': '317-SENIOR CITIZEN CENTER',\n",
    " '089-CANDLER - MURPHEY CANDLER ELEM': '089-CANDLER-MURPHEY CANDLER ELEM',\n",
    " #The below changes are based on precinct numbers\n",
    " '299-300': '299-1231-150B',\n",
    " '299-EMERSON PARK BAPTIST CHURCH': '299-1231-150C',\n",
    " '299-400': '299-1231-151',\n",
    " '299-404': '299-Beach-Bickley',\n",
    " '299-405': '299-Haywood',\n",
    " '299-406': '299-Jamestown',\n",
    " '299-407': '299-Manor',\n",
    " '299-408': '299-Millwood',\n",
    " '299-409': '299-Waresboro',\n",
    " #The below gives justification for this seemingly arbitrary name changes\n",
    "  #https://www.dekalbcountyga.gov/sites/default/files/users/user305/NOTICE%20OF%20CHANGE%20OF%20POLLING%20PLACES.pdf\n",
    " '089-KING - ML KING JR HIGH': '089-SNAPFINGER ROAD',\n",
    " '089-EPWORTH (ATL)': '089-CANDLER PARK'\n",
    "}"
   ]
  },
  {
   "cell_type": "code",
   "execution_count": null,
   "id": "71398407",
   "metadata": {},
   "outputs": [],
   "source": [
    "ga_shapefile[\"unique_ID\"] = ga_shapefile[\"unique_ID\"].map(example_fips_dict).fillna(ga_shapefile[\"unique_ID\"])"
   ]
  },
  {
   "cell_type": "code",
   "execution_count": null,
   "id": "ad57acbb",
   "metadata": {},
   "outputs": [],
   "source": [
    "join_attempt_3 = pd.merge(ga_election,ga_shapefile,how=\"outer\",on=\"unique_ID\",indicator=True)\n",
    "print(join_attempt_3[\"_merge\"].value_counts())\n",
    "\n",
    "left_only = join_attempt_3[join_attempt_3[\"_merge\"]==\"left_only\"]\n",
    "right_only = join_attempt_3[join_attempt_3[\"_merge\"]==\"right_only\"]\n",
    "\n",
    "ga_source = join_attempt_3[join_attempt_3[\"_merge\"]==\"both\"]\n",
    "\n",
    "left_only.to_csv(\"./source_join_elections.csv\")\n",
    "right_only.to_csv(\"./source_join_shapes.csv\")"
   ]
  },
  {
   "cell_type": "code",
   "execution_count": null,
   "id": "c119f99a",
   "metadata": {},
   "outputs": [],
   "source": [
    "final_merge = pd.merge(ga_source,vest_ga_20,how=\"outer\",on=\"unique_ID\",indicator=\"final_merge\")\n",
    "\n",
    "print(final_merge[\"final_merge\"].value_counts())"
   ]
  },
  {
   "cell_type": "code",
   "execution_count": null,
   "id": "703130f8",
   "metadata": {},
   "outputs": [],
   "source": [
    "both = final_merge[final_merge[\"final_merge\"]==\"both\"]\n",
    "vest_geoms = gp.GeoDataFrame(both,geometry=\"geometry_x\",crs=vest_ga_20.crs)\n",
    "source_geoms = gp.GeoDataFrame(both,geometry=\"geometry_y\",crs=vest_ga_20.crs)\n",
    "source_geoms = source_geoms.to_crs(3857)\n",
    "vest_geoms = vest_geoms.to_crs(3857)\n",
    "source_geoms[\"geometry_x\"]=source_geoms.buffer(0)\n",
    "vest_geoms[\"geometry_y\"]=vest_geoms.buffer(0)\n",
    "vals = source_geoms.geom_almost_equals(vest_geoms,decimal=0)\n",
    "#print(vals.value_counts())"
   ]
  },
  {
   "cell_type": "code",
   "execution_count": null,
   "id": "1911e2c4",
   "metadata": {},
   "outputs": [],
   "source": [
    "#Get the area"
   ]
  },
  {
   "cell_type": "code",
   "execution_count": null,
   "id": "37cba70c",
   "metadata": {},
   "outputs": [],
   "source": [
    "ga_shapefile[ga_shapefile[\"unique_ID\"]==\"089-GLENNWOOD\"].area"
   ]
  },
  {
   "cell_type": "code",
   "execution_count": null,
   "id": "381815ff",
   "metadata": {},
   "outputs": [],
   "source": [
    "vest_ga_20[vest_ga_20[\"unique_ID\"]==\"089-GLENNWOOD\"].plot()"
   ]
  },
  {
   "cell_type": "code",
   "execution_count": null,
   "id": "f8103869",
   "metadata": {},
   "outputs": [],
   "source": [
    "count = 0\n",
    "area_list = []\n",
    "for i in range(0,len(source_geoms)):\n",
    "    try:\n",
    "        diff = source_geoms.iloc[[i]].symmetric_difference(vest_geoms.iloc[[i]])\n",
    "        intersection = source_geoms.iloc[[i]].intersection(vest_geoms.iloc[[i]])\n",
    "        area = float(diff.area/10e6)\n",
    "        area_list.append(area)\n",
    "            #print(\"Area is \" + str(area))\n",
    "\n",
    "        if (area > .5):\n",
    "            count += 1\n",
    "            name = source_geoms.iat[i,0]\n",
    "            print(str(count)+\") For \" + name + \" difference in area is \" + str(area))\n",
    "            if (intersection.iloc[0].is_empty):\n",
    "                base = diff.plot(color=\"red\")\n",
    "                source_geoms.iloc[[i]].plot(color=\"orange\",ax=base)\n",
    "                vest_geoms.iloc[[i]].plot(color=\"blue\",ax=base)\n",
    "                base.set_title(name)\n",
    "            else:\n",
    "                base = diff.plot(color=\"red\")\n",
    "                source_geoms.iloc[[i]].plot(color=\"orange\",ax=base)\n",
    "                vest_geoms.iloc[[i]].plot(color=\"blue\",ax=base)\n",
    "                intersection.plot(color=\"green\",ax=base)\n",
    "                base.set_title(name)\n",
    "    except:\n",
    "        print(\"Not able to run code for: \", source_geoms.iat[i,0])\n",
    "        #diff = source_geoms.iloc[[i]].symmetric_difference(vest_geoms.iloc[[i]])\n"
   ]
  },
  {
   "cell_type": "code",
   "execution_count": null,
   "id": "7d921723",
   "metadata": {},
   "outputs": [],
   "source": [
    "df = pd.DataFrame(area_list)\n",
    "print(df.shape)\n",
    "\n",
    "print(str(len(df[df[0]==0]))+\" precincts w/ a difference of 0 km^2\")\n",
    "print(str(len(df[(df[0]<.1) & (df[0]>0)]))+ \" precincts w/ a difference between 0 and .1 km^2\")\n",
    "print(str(len(df[(df[0]<.5) & (df[0]>=.1)]))+ \" precincts w/ a difference between .1 and .5 km^2\")\n",
    "print(str(len(df[(df[0]<1) & (df[0]>=.5)]))+ \" precincts w/ a difference between .5 and 1 km^2\")\n",
    "print(str(len(df[(df[0]<2) & (df[0]>=1)]))+ \" precincts w/ a difference between 1 and 2 km^2\")\n",
    "print(str(len(df[(df[0]<5) & (df[0]>=2)]))+ \" precincts w/ a difference between 2 and 5 km^2\")\n",
    "print(str(len(df[(df[0]>=5)]))+ \" precincts w/ a difference greater than 5 km^2\")"
   ]
  },
  {
   "cell_type": "code",
   "execution_count": null,
   "id": "898c9bfc",
   "metadata": {},
   "outputs": [],
   "source": [
    "source_geoms[source_geoms[\"unique_ID\"]==\"089-GLENNWOOD\"].plot()\n",
    "vest_geoms[vest_geoms[\"unique_ID\"]==\"089-GLENNWOOD\"].plot()\n",
    "print((source_geoms[source_geoms[\"unique_ID\"]==\"089-GLENNWOOD\"].area-vest_geoms[vest_geoms[\"unique_ID\"]==\"089-GLENNWOOD\"].area)/10e6)\n"
   ]
  },
  {
   "cell_type": "code",
   "execution_count": null,
   "id": "b5cf9a9c",
   "metadata": {},
   "outputs": [],
   "source": []
  }
 ],
 "metadata": {
  "kernelspec": {
   "display_name": "Python 3",
   "language": "python",
   "name": "python3"
  },
  "language_info": {
   "codemirror_mode": {
    "name": "ipython",
    "version": 3
   },
   "file_extension": ".py",
   "mimetype": "text/x-python",
   "name": "python",
   "nbconvert_exporter": "python",
   "pygments_lexer": "ipython3",
   "version": "3.9.2"
  }
 },
 "nbformat": 4,
 "nbformat_minor": 5
}
